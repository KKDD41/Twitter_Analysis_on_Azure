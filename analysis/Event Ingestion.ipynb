{
 "cells": [
  {
   "cell_type": "code",
   "execution_count": 0,
   "metadata": {
    "application/vnd.databricks.v1+cell": {
     "cellMetadata": {
      "byteLimit": 2048000,
      "rowLimit": 10000
     },
     "inputWidgets": {},
     "nuid": "ec044288-d448-4cba-97cb-796dc8d1940c",
     "showTitle": false,
     "title": ""
    }
   },
   "outputs": [],
   "source": [
    "from pyspark.sql.functions import col, cast\n",
    "from pyspark.sql.types import *\n",
    "\n",
    "# Event Hub details\n",
    "EH_CONN_STR= \"Endpoint=sb://eventhub-namespace-twitter-analysis.servicebus.windows.net/;SharedAccessKeyName=RootManageSharedAccessKey;SharedAccessKey=Z5qEVHu9ZpCWVBM9zPFTFOLSAPPcRi1+6+AEhKq/Ggw=\"\n",
    "EH_NAMESPACE = \"eventhub-namespace-twitter-analysis\" # my-event-hubs-namespace\n",
    "EH_KAFKA_TOPIC = \"eventhub-twitter-analysis\" # my-event-hub\n",
    "EH_BOOTSTRAP_SERVERS = f\"{EH_NAMESPACE}.servicebus.windows.net:9093\"\n",
    "EH_SASL_WRITE = f\"kafkashaded.org.apache.kafka.common.security.plain.PlainLoginModule required username=\\\"$ConnectionString\\\" password=\\\"{EH_CONN_STR}\\\";\"\n",
    "\n",
    "# standard configuration options\n",
    "topic_name = EH_KAFKA_TOPIC\n",
    "eh_namespace_name = EH_NAMESPACE\n",
    "eh_sasl = EH_SASL_WRITE\n",
    "bootstrap_servers = EH_BOOTSTRAP_SERVERS\n",
    "kafka_options = {\n",
    "\"kafka.bootstrap.servers\": bootstrap_servers,\n",
    "\"kafka.sasl.mechanism\": \"PLAIN\",\n",
    "\"kafka.security.protocol\": \"SASL_SSL\",\n",
    "\"kafka.request.timeout.ms\": \"60000\",\n",
    "\"kafka.session.timeout.ms\": \"30000\",\n",
    "\"startingOffsets\": \"earliest\",\n",
    "\"kafka.sasl.jaas.config\": eh_sasl,\n",
    "\"subscribe\": topic_name,\n",
    "}\n"
   ]
  },
  {
   "cell_type": "code",
   "execution_count": 0,
   "metadata": {
    "application/vnd.databricks.v1+cell": {
     "cellMetadata": {
      "byteLimit": 2048000,
      "rowLimit": 10000
     },
     "inputWidgets": {},
     "nuid": "e4bba5c1-63ca-4995-b5de-35320e43adc1",
     "showTitle": false,
     "title": ""
    }
   },
   "outputs": [],
   "source": [
    "kafka_df = spark\\\n",
    ".readStream\\\n",
    ".format(\"kafka\")\\\n",
    ".options(**kafka_options)\\\n",
    ".load()"
   ]
  },
  {
   "cell_type": "code",
   "execution_count": 0,
   "metadata": {
    "application/vnd.databricks.v1+cell": {
     "cellMetadata": {
      "byteLimit": 2048000,
      "rowLimit": 10000
     },
     "inputWidgets": {},
     "nuid": "101d110e-1d0c-410c-a7f9-ea6a202d9c5b",
     "showTitle": false,
     "title": ""
    }
   },
   "outputs": [],
   "source": [
    "query = kafka_df \\\n",
    "    .writeStream \\\n",
    "    .outputMode(\"append\") \\\n",
    "    .format(\"console\") \\\n",
    "    .start() \\\n",
    "\n",
    "query.awaitTermination()"
   ]
  },
  {
   "cell_type": "code",
   "execution_count": 0,
   "metadata": {
    "application/vnd.databricks.v1+cell": {
     "cellMetadata": {},
     "inputWidgets": {},
     "nuid": "adf05204-f2a9-4ff8-83b2-9300a91fa994",
     "showTitle": false,
     "title": ""
    }
   },
   "outputs": [],
   "source": []
  }
 ],
 "metadata": {
  "application/vnd.databricks.v1+notebook": {
   "dashboards": [],
   "environmentMetadata": null,
   "language": "python",
   "notebookMetadata": {
    "pythonIndentUnit": 4
   },
   "notebookName": "Event Ingestion",
   "widgets": {}
  }
 },
 "nbformat": 4,
 "nbformat_minor": 0
}
