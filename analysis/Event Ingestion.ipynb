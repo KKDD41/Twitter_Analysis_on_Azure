{
 "cells": [
  {
   "cell_type": "code",
   "execution_count": 0,
   "metadata": {
    "application/vnd.databricks.v1+cell": {
     "cellMetadata": {
      "byteLimit": 2048000,
      "rowLimit": 10000
     },
     "inputWidgets": {},
     "nuid": "ec044288-d448-4cba-97cb-796dc8d1940c",
     "showTitle": false,
     "title": ""
    }
   },
   "outputs": [],
   "source": [
    "from pyspark.sql.functions import col, cast\n",
    "from pyspark.sql.types import *\n",
    "\n",
    "# Event Hub details\n",
    "EH_CONN_STR = dbutils.secrets.get(scope=\"eventhub-scope\", key=\"eventhub-conn-str\")\n",
    "EH_NAMESPACE = \"eventhub-namespace-twitter-analysis\"        # my-event-hubs-namespace\n",
    "EH_KAFKA_TOPIC = \"eventhub-twitter-analysis\"                # my-event-hub\n",
    "EH_BOOTSTRAP_SERVERS = f\"{EH_NAMESPACE}.servicebus.windows.net:9093\"\n",
    "EH_SASL_WRITE = f'kafkashaded.org.apache.kafka.common.security.plain.PlainLoginModule required username=\"$ConnectionString\" password=\"{EH_CONN_STR}\";'\n",
    "\n",
    "# Azure SQL Database Details\n",
    "SQL_DB_URL = \"jdbc:sqlserver://sqlserver-twitter-analysis.database.windows.net:1433;database=db-twitter-analysis\"\n",
    "SQL_DB_USERNAME = dbutils.secrets.get(scope=\"sqldb-scope\", key=\"sqldb-username\")\n",
    "SQL_DB_PASSWORD = dbutils.secrets.get(scope=\"sqldb-scope\", key=\"sqldb-password\")\n",
    "\n",
    "\n",
    "# standard configuration options\n",
    "topic_name = EH_KAFKA_TOPIC\n",
    "eh_namespace_name = EH_NAMESPACE\n",
    "eh_sasl = EH_SASL_WRITE\n",
    "bootstrap_servers = EH_BOOTSTRAP_SERVERS\n",
    "kafka_options = {\n",
    "    \"kafka.bootstrap.servers\": bootstrap_servers,\n",
    "    \"kafka.sasl.mechanism\": \"PLAIN\",\n",
    "    \"kafka.security.protocol\": \"SASL_SSL\",\n",
    "    \"kafka.request.timeout.ms\": \"60000\",\n",
    "    \"kafka.session.timeout.ms\": \"30000\",\n",
    "    \"startingOffsets\": \"earliest\",\n",
    "    \"kafka.sasl.jaas.config\": eh_sasl,\n",
    "    \"subscribe\": topic_name,\n",
    "}"
   ]
  },
  {
   "cell_type": "code",
   "execution_count": 0,
   "metadata": {
    "application/vnd.databricks.v1+cell": {
     "cellMetadata": {
      "byteLimit": 2048000,
      "implicitDf": true,
      "rowLimit": 10000
     },
     "inputWidgets": {},
     "nuid": "55d3a5c3-3a9a-4677-b3d1-5adab7affb1c",
     "showTitle": false,
     "title": ""
    }
   },
   "outputs": [
    {
     "output_type": "display_data",
     "data": {
      "text/html": [
       "<style scoped>\n",
       "  .table-result-container {\n",
       "    max-height: 300px;\n",
       "    overflow: auto;\n",
       "  }\n",
       "  table, th, td {\n",
       "    border: 1px solid black;\n",
       "    border-collapse: collapse;\n",
       "  }\n",
       "  th, td {\n",
       "    padding: 5px;\n",
       "  }\n",
       "  th {\n",
       "    text-align: left;\n",
       "  }\n",
       "</style><div class='table-result-container'><table class='table-result'><thead style='background-color: white'><tr></tr></thead><tbody></tbody></table></div>"
      ]
     },
     "metadata": {
      "application/vnd.databricks.v1+output": {
       "addedWidgets": {},
       "aggData": [],
       "aggError": "",
       "aggOverflow": false,
       "aggSchema": [],
       "aggSeriesLimitReached": false,
       "aggType": "",
       "arguments": {},
       "columnCustomDisplayInfos": {},
       "data": [],
       "datasetInfos": [],
       "dbfsResultPath": null,
       "isJsonSchema": true,
       "metadata": {
        "dataframeName": null
       },
       "overflow": false,
       "plotOptions": {
        "customPlotOptions": {},
        "displayType": "table",
        "pivotAggregation": null,
        "pivotColumns": null,
        "xColumns": null,
        "yColumns": null
       },
       "removedWidgets": [],
       "schema": [],
       "type": "table"
      }
     },
     "output_type": "display_data"
    }
   ],
   "source": [
    "%sql\n",
    "\n",
    "CREATE TABLE IF NOT EXISTS tweets\n",
    "(\n",
    "    Key BINARY,\n",
    "    Value BINARY,\n",
    "    Topic STRING,\n",
    "    Partition INT,\n",
    "    Offset LONG,\n",
    "    Timestamp TIMESTAMP,\n",
    "    TimestampType INT,\n",
    "    Value_text STRING\n",
    ") using DELTA"
   ]
  },
  {
   "cell_type": "code",
   "execution_count": 0,
   "metadata": {
    "application/vnd.databricks.v1+cell": {
     "cellMetadata": {
      "byteLimit": 2048000,
      "rowLimit": 10000
     },
     "inputWidgets": {},
     "nuid": "e4bba5c1-63ca-4995-b5de-35320e43adc1",
     "showTitle": false,
     "title": ""
    }
   },
   "outputs": [],
   "source": [
    "kafka_df = (\n",
    "    spark.readStream.format(\"kafka\")\n",
    "    .options(**kafka_options)\n",
    "    .load()\n",
    "    .withColumn(\"value_text\", col(\"value\").cast(\"string\"))\n",
    ")"
   ]
  },
  {
   "cell_type": "code",
   "execution_count": 0,
   "metadata": {
    "application/vnd.databricks.v1+cell": {
     "cellMetadata": {
      "byteLimit": 2048000,
      "rowLimit": 10000
     },
     "inputWidgets": {},
     "nuid": "101d110e-1d0c-410c-a7f9-ea6a202d9c5b",
     "showTitle": false,
     "title": ""
    }
   },
   "outputs": [
    {
     "output_type": "execute_result",
     "data": {
      "text/plain": [
       "<pyspark.sql.streaming.query.StreamingQuery at 0x7f6e88729ad0>"
      ]
     },
     "execution_count": 22,
     "metadata": {},
     "output_type": "execute_result"
    }
   ],
   "source": [
    "kafka_df.writeStream.outputMode(\"append\").option(\n",
    "    \"checkpointLocation\", \"/tmp/delta/events/_checkpoints/\"\n",
    ").toTable(\"tweets\")"
   ]
  },
  {
   "cell_type": "code",
   "execution_count": 0,
   "metadata": {
    "application/vnd.databricks.v1+cell": {
     "cellMetadata": {
      "byteLimit": 2048000,
      "implicitDf": true,
      "rowLimit": 10000
     },
     "inputWidgets": {},
     "nuid": "adf05204-f2a9-4ff8-83b2-9300a91fa994",
     "showTitle": false,
     "title": ""
    }
   },
   "outputs": [
    {
     "output_type": "display_data",
     "data": {
      "text/html": [
       "<style scoped>\n",
       "  .table-result-container {\n",
       "    max-height: 300px;\n",
       "    overflow: auto;\n",
       "  }\n",
       "  table, th, td {\n",
       "    border: 1px solid black;\n",
       "    border-collapse: collapse;\n",
       "  }\n",
       "  th, td {\n",
       "    padding: 5px;\n",
       "  }\n",
       "  th {\n",
       "    text-align: left;\n",
       "  }\n",
       "</style><div class='table-result-container'><table class='table-result'><thead style='background-color: white'><tr><th>value_text</th></tr></thead><tbody><tr><td>\"{\\\"id_str\\\":601665000948649984,\\\"created_at\\\":\\\"2015-05-22 08:24:49\\\",\\\"text\\\":\\\"b'Another good riddle: drill a hole thru a sphere such that the height of what remains of the sphere is 10cm. What is its remaining volume?'\\\"}\"</td></tr><tr><td>\"{\\\"id_str\\\":601578147113529344,\\\"created_at\\\":\\\"2015-05-22 02:39:41\\\",\\\"text\\\":\\\"b'Astronomer Royal Martin Rees: How soon will robots take over the world? - via @Telegraph http:\\\\/\\\\/t.co\\\\/DStxgM0S8F'\\\"}\"</td></tr><tr><td>\"{\\\"id_str\\\":601501265332477952,\\\"created_at\\\":\\\"2015-05-21 21:34:11\\\",\\\"text\\\":\\\"b'RT @SpaceX: Cargo is offloaded and spacecraft is powered down. #Dragon back in its nest after about 5 weeks at the @Space_Station http:\\\\/\\\\/t.\\\\\\\\xe2\\\\\\\\x80\\\\\\\\xa6'\\\"}\"</td></tr><tr><td>\"{\\\"id_str\\\":600784025335136256,\\\"created_at\\\":\\\"2015-05-19 22:04:08\\\",\\\"text\\\":\\\"b'This is not the full Gigafactory, it is just the pilot plant (1\\\\/4 size) https:\\\\/\\\\/t.co\\\\/gz2EmJkYtm'\\\"}\"</td></tr><tr><td>\"{\\\"id_str\\\":600549508796190720,\\\"created_at\\\":\\\"2015-05-19 06:32:15\\\",\\\"text\\\":\\\"b'Fossil fuels subsidised by $10m a minute, says IMF  http:\\\\/\\\\/t.co\\\\/c4nsZjXc32'\\\"}\"</td></tr><tr><td>\"{\\\"id_str\\\":599964926992486401,\\\"created_at\\\":\\\"2015-05-17 15:49:20\\\",\\\"text\\\":\\\"b'RT @johngreen: My brilliant brother has a message for you, future dead person. https:\\\\/\\\\/t.co\\\\/kHy5nRuXxY'\\\"}\"</td></tr><tr><td>\"{\\\"id_str\\\":599391754786181122,\\\"created_at\\\":\\\"2015-05-16 01:51:45\\\",\\\"text\\\":\\\"b'RT @SpaceX: Tired of the same old travel destinations? Discover the wonder of Mars \\\\\\\\nhttp:\\\\/\\\\/t.co\\\\/KpluQw4cow http:\\\\/\\\\/t.co\\\\/vD9oLSuY5r'\\\"}\"</td></tr><tr><td>\"{\\\"id_str\\\":599391737094635520,\\\"created_at\\\":\\\"2015-05-16 01:51:40\\\",\\\"text\\\":\\\"b'RT @SpaceX: Adventure awaits! Explore Mars\\\\\\\\xe2\\\\\\\\x80\\\\\\\\x99 ultimate vacation destinations \\\\\\\\nhttp:\\\\/\\\\/t.co\\\\/KpluQw4cow http:\\\\/\\\\/t.co\\\\/kptj27x1LD'\\\"}\"</td></tr><tr><td>\"{\\\"id_str\\\":598232495537016832,\\\"created_at\\\":\\\"2015-05-12 21:05:16\\\",\\\"text\\\":\\\"b'@jankenbrandt Hi Julie!'\\\"}\"</td></tr><tr><td>\"{\\\"id_str\\\":598174400404262912,\\\"created_at\\\":\\\"2015-05-12 17:14:25\\\",\\\"text\\\":\\\"b'RT @TeslaMotors: Agreed. @FTC affirms States to allow consumers to choose how they buy their cars. #Tesla #Michigan http:\\\\/\\\\/t.co\\\\/fT1JHjMpzg'\\\"}\"</td></tr><tr><td>\"{\\\"id_str\\\":799049461515198464,\\\"created_at\\\":\\\"2016-11-17 00:40:11\\\",\\\"text\\\":\\\"b\\\\\\\"RT @tsrandall: Tesla's new Easter egg makes the world's fastest car even faster https:\\\\/\\\\/t.co\\\\/fmQguxYCHM https:\\\\/\\\\/t.co\\\\/m24jqdTJzF\\\\\\\"\\\"}\"</td></tr><tr><td>\"{\\\"id_str\\\":798984693844541440,\\\"created_at\\\":\\\"2016-11-16 20:22:50\\\",\\\"text\\\":\\\"b'@ArminKeyani All P100D vehicles produced to date, as well as new. This is purely a software optimization.'\\\"}\"</td></tr><tr><td>\"{\\\"id_str\\\":798984120336465920,\\\"created_at\\\":\\\"2016-11-16 20:20:33\\\",\\\"text\\\":\\\"b'Model X numbers should also improve by 0.1 sec on 0 to 60 and 1\\\\/4 mile'\\\"}\"</td></tr><tr><td>\"{\\\"id_str\\\":798980894543343616,\\\"created_at\\\":\\\"2016-11-16 20:07:44\\\",\\\"text\\\":\\\"b'Looks like the Model S P100D Easter egg will allow it to do 0 to 60 mph in 2.4 sec and a 10.6 sec 1\\\\/4 mile via software update next month'\\\"}\"</td></tr><tr><td>\"{\\\"id_str\\\":798950716450574336,\\\"created_at\\\":\\\"2016-11-16 18:07:49\\\",\\\"text\\\":\\\"b\\\\\\\"@AustenAllred Wow, thanks. We won't let you down.\\\\\\\"\\\"}\"</td></tr><tr><td>\"{\\\"id_str\\\":798886670468644865,\\\"created_at\\\":\\\"2016-11-16 13:53:19\\\",\\\"text\\\":\\\"b'@ID_AA_Carmack we could enable that, although the cameras use grey, grey, grey, red detection, so it would look a little greyish red :)'\\\"}\"</td></tr><tr><td>\"{\\\"id_str\\\":798768530254491648,\\\"created_at\\\":\\\"2016-11-16 06:03:52\\\",\\\"text\\\":\\\"b'RT @NatGeo: Watch: When humans live on Mars, what exactly will they call home? \\\\\\\\nhttps:\\\\/\\\\/t.co\\\\/QlJBuB6FX2 #CountdownToMars'\\\"}\"</td></tr><tr><td>\"{\\\"id_str\\\":798768113651040256,\\\"created_at\\\":\\\"2016-11-16 06:02:13\\\",\\\"text\\\":\\\"b'RT @RealRonHoward: MARS airs tonight on the @NatGeo   Hope you get to watch it.  https:\\\\/\\\\/t.co\\\\/7ObsMhuSnU'\\\"}\"</td></tr><tr><td>\"{\\\"id_str\\\":798370472832352256,\\\"created_at\\\":\\\"2016-11-15 03:42:08\\\",\\\"text\\\":\\\"b'Love you too!\\\\\\\\nhttps:\\\\/\\\\/t.co\\\\/BlDDQ0oJmg'\\\"}\"</td></tr><tr><td>\"{\\\"id_str\\\":798364751428349952,\\\"created_at\\\":\\\"2016-11-15 03:19:24\\\",\\\"text\\\":\\\"b'RT @NASA: #Mars is hard, but it\\\\\\\\xe2\\\\\\\\x80\\\\\\\\x99s worth the risks to extend humanity\\\\\\\\xe2\\\\\\\\x80\\\\\\\\x99s frontier beyond Earth. Learn about our neighbor planet: https:\\\\/\\\\/t.co\\\\\\\\xe2\\\\\\\\x80\\\\\\\\xa6'\\\"}\"</td></tr><tr><td>\"{\\\"id_str\\\":457190623640969216,\\\"created_at\\\":\\\"2014-04-18 16:15:13\\\",\\\"text\\\":\\\"b'Heavy seas in Atlantic preventing our recovery ship from being on station. Maybe they can help? http:\\\\/\\\\/t.co\\\\/9zZKAqPh6H'\\\"}\"</td></tr><tr><td>\"{\\\"id_str\\\":457188968627310592,\\\"created_at\\\":\\\"2014-04-18 16:08:38\\\",\\\"text\\\":\\\"b'This is 1st ever orbital rocket launch w landing legs. Will attempt leg deploy &amp; soft landing out to sea.'\\\"}\"</td></tr><tr><td>\"{\\\"id_str\\\":457181362307350529,\\\"created_at\\\":\\\"2014-04-18 15:38:25\\\",\\\"text\\\":\\\"b'Launch to the Space Station in just under three hours if weather holds http:\\\\/\\\\/t.co\\\\/aBIV4EWOS2'\\\"}\"</td></tr><tr><td>\"{\\\"id_str\\\":456914811461197824,\\\"created_at\\\":\\\"2014-04-17 21:59:14\\\",\\\"text\\\":\\\"b'Honored that @NASA would entrust @SpaceX with the Apollo 11 (first moon landing) launch pad http:\\\\/\\\\/t.co\\\\/LmqxRwsKFW'\\\"}\"</td></tr><tr><td>\"{\\\"id_str\\\":454005116249440257,\\\"created_at\\\":\\\"2014-04-09 21:17:09\\\",\\\"text\\\":\\\"b'RT @TeslaMotors: When life gives you lemons\\\\\\\\xe2\\\\\\\\x80\\\\\\\\xa6 http:\\\\/\\\\/t.co\\\\/1TrjvPvh2K'\\\"}\"</td></tr><tr><td>\"{\\\"id_str\\\":453574051487686657,\\\"created_at\\\":\\\"2014-04-08 16:44:15\\\",\\\"text\\\":\\\"b\\\\\\\"@elonmusk Also, breakfast at Tesla is self-serve cereal (no distinction for execs) and the person mentioned isn't actually an employee\\\\\\\"\\\"}\"</td></tr><tr><td>\"{\\\"id_str\\\":453571298677907456,\\\"created_at\\\":\\\"2014-04-08 16:33:19\\\",\\\"text\\\":\\\"b'Leasing a Model S takes 5 mins online, no signatures &amp; one tap on car center screen to accept when delivered'\\\"}\"</td></tr><tr><td>\"{\\\"id_str\\\":453555454187012097,\\\"created_at\\\":\\\"2014-04-08 15:30:21\\\",\\\"text\\\":\\\"b'Tesla US business leasing program went live today http:\\\\/\\\\/t.co\\\\/wCH0GLAEAJ'\\\"}\"</td></tr><tr><td>\"{\\\"id_str\\\":453206036787523585,\\\"created_at\\\":\\\"2014-04-07 16:21:53\\\",\\\"text\\\":\\\"b\\\\\\\"@AKAbrahamson @itsDanielSuarez Yeah, that's worth a read\\\\\\\"\\\"}\"</td></tr><tr><td>\"{\\\"id_str\\\":453204415458344960,\\\"created_at\\\":\\\"2014-04-07 16:15:27\\\",\\\"text\\\":\\\"b'What could possibly go wrong? https:\\\\/\\\\/t.co\\\\/ZhUrllHG95'\\\"}\"</td></tr><tr><td>\"{\\\"id_str\\\":758003098816286720,\\\"created_at\\\":\\\"2016-07-26 18:16:36\\\",\\\"text\\\":\\\"b'Via @NPR: Sun-Powered Airplane Completes Historic Trip Around The World https:\\\\/\\\\/t.co\\\\/AKe5VRaY5o'\\\"}\"</td></tr><tr><td>\"{\\\"id_str\\\":757600711714701312,\\\"created_at\\\":\\\"2016-07-25 15:37:39\\\",\\\"text\\\":\\\"b'@ID_AA_Carmack Maybe as a future optimization. Would only matter if it was extremely big.'\\\"}\"</td></tr><tr><td>\"{\\\"id_str\\\":756664069646487554,\\\"created_at\\\":\\\"2016-07-23 01:35:46\\\",\\\"text\\\":\\\"b\\\\\\\"@vicentes as long as I'm alive\\\\\\\"\\\"}\"</td></tr><tr><td>\"{\\\"id_str\\\":756663746764742656,\\\"created_at\\\":\\\"2016-07-23 01:34:30\\\",\\\"text\\\":\\\"b'https:\\\\/\\\\/t.co\\\\/Kgkz1Z3FwJ'\\\"}\"</td></tr><tr><td>\"{\\\"id_str\\\":756365671571726336,\\\"created_at\\\":\\\"2016-07-22 05:50:03\\\",\\\"text\\\":\\\"b'Looking forward to the Gigafactory opening party on Friday next week. The scale blows me away every time I see it.'\\\"}\"</td></tr><tr><td>\"{\\\"id_str\\\":756004029239472132,\\\"created_at\\\":\\\"2016-07-21 05:53:01\\\",\\\"text\\\":\\\"b'Autopilot prevents serious injury or death of a pedestrian in NY (owner anecdote confirmed by vehicle logs) https:\\\\/\\\\/t.co\\\\/NceuqckqCK'\\\"}\"</td></tr><tr><td>\"{\\\"id_str\\\":755990352511705088,\\\"created_at\\\":\\\"2016-07-21 04:58:40\\\",\\\"text\\\":\\\"b'@danahull Jerome is driving Tesla Semi &amp; doing a great job with his team. At Daimler, he led their most successful semi truck program ever.'\\\"}\"</td></tr><tr><td>\"{\\\"id_str\\\":755989215976882176,\\\"created_at\\\":\\\"2016-07-21 04:54:09\\\",\\\"text\\\":\\\"b\\\\\\\"@danahull It's inspired by some of the California Custom VW combi design art\\\\\\\"\\\"}\"</td></tr><tr><td>\"{\\\"id_str\\\":755940191571808257,\\\"created_at\\\":\\\"2016-07-21 01:39:21\\\",\\\"text\\\":\\\"b'@MRamseyWSJ Great game. Whole Fallout series is amazing.'\\\"}\"</td></tr><tr><td>\"{\\\"id_str\\\":755931999487991810,\\\"created_at\\\":\\\"2016-07-21 01:06:47\\\",\\\"text\\\":\\\"b'@katiefehren Both should have been done under the same corporate umbrella from the beginning'\\\"}\"</td></tr><tr><td>\"{\\\"id_str\\\":744552907563991040,\\\"created_at\\\":\\\"2016-06-19 15:30:20\\\",\\\"text\\\":\\\"b'@KatelynBrock Drive units and battery are sealed'\\\"}\"</td></tr><tr><td>\"{\\\"id_str\\\":744552621072064512,\\\"created_at\\\":\\\"2016-06-19 15:29:12\\\",\\\"text\\\":\\\"b'If curious abt TSWLM car, am still planning to do a sports sub car that can drive on roads. Just a side project. Limited market potential :)'\\\"}\"</td></tr><tr><td>\"{\\\"id_str\\\":744551674082136066,\\\"created_at\\\":\\\"2016-06-19 15:25:26\\\",\\\"text\\\":\\\"b\\\\\\\"We *def* don't recommended this, but Model S floats well enough to turn it into a boat for short periods of time. Thrust via wheel rotation.\\\\\\\"\\\"}\"</td></tr><tr><td>\"{\\\"id_str\\\":744549842496655360,\\\"created_at\\\":\\\"2016-06-19 15:18:10\\\",\\\"text\\\":\\\"b'Tesla owner drives through a flooded tunnel &amp; out the other side \\\\\\\\nhttps:\\\\/\\\\/t.co\\\\/RmPxdZShhq'\\\"}\"</td></tr><tr><td>\"{\\\"id_str\\\":743603466631733248,\\\"created_at\\\":\\\"2016-06-17 00:37:36\\\",\\\"text\\\":\\\"b\\\\\\\"As mentioned at the beginning of the year, I'm expecting ~70% success rate on landings for the year. 2016 is the year of experimentation.\\\\\\\"\\\"}\"</td></tr><tr><td>\"{\\\"id_str\\\":743602894226653184,\\\"created_at\\\":\\\"2016-06-17 00:35:20\\\",\\\"text\\\":\\\"b'Looks like early liquid oxygen depletion caused engine shutdown just above the deck https:\\\\/\\\\/t.co\\\\/Sa6uCkpknY'\\\"}\"</td></tr><tr><td>\"{\\\"id_str\\\":743602229307805696,\\\"created_at\\\":\\\"2016-06-17 00:32:41\\\",\\\"text\\\":\\\"b'Turns out the landing was not as fast we thought, but still hard enough to destroy the primary airframe and accordion the engines'\\\"}\"</td></tr><tr><td>\"{\\\"id_str\\\":743600755739754497,\\\"created_at\\\":\\\"2016-06-17 00:26:50\\\",\\\"text\\\":\\\"b'@fucktyler Thanks Tyler'\\\"}\"</td></tr><tr><td>\"{\\\"id_str\\\":743102502225076227,\\\"created_at\\\":\\\"2016-06-15 15:26:57\\\",\\\"text\\\":\\\"b'Landing video will be posted when we gain access to cameras on the droneship later today. Maybe hardest impact to date. Droneship still ok.'\\\"}\"</td></tr><tr><td>\"{\\\"id_str\\\":743099301174247424,\\\"created_at\\\":\\\"2016-06-15 15:14:14\\\",\\\"text\\\":\\\"b'Upgrades underway to enable rocket to compensate for a thrust shortfall on one of the three landing engines. Probably get there end of year.'\\\"}\"</td></tr><tr><td>\"{\\\"id_str\\\":836442868180905984,\\\"created_at\\\":\\\"2017-02-28 05:08:14\\\",\\\"text\\\":\\\"b\\\\\\\"@jamesatbuzz This is not true. TM works for a lot of people and that's great, but I've maybe done it 7 or 8 times ever.\\\\\\\"\\\"}\"</td></tr><tr><td>\"{\\\"id_str\\\":836328719165763584,\\\"created_at\\\":\\\"2017-02-27 21:34:39\\\",\\\"text\\\":\\\"b'Fly me to the moon ... Ok\\\\\\\\nhttps:\\\\/\\\\/t.co\\\\/6QT8m5SHwn'\\\"}\"</td></tr><tr><td>\"{\\\"id_str\\\":836020571490021376,\\\"created_at\\\":\\\"2017-02-27 01:10:11\\\",\\\"text\\\":\\\"b'SpaceX announcement tomorrow at 1pm PST'\\\"}\"</td></tr><tr><td>\"{\\\"id_str\\\":835361919775100929,\\\"created_at\\\":\\\"2017-02-25 05:32:56\\\",\\\"text\\\":\\\"b'@MacTechGenius of course'\\\"}\"</td></tr><tr><td>\"{\\\"id_str\\\":835351081945350145,\\\"created_at\\\":\\\"2017-02-25 04:49:52\\\",\\\"text\\\":\\\"b'@DueDiamond maybe one of those too'\\\"}\"</td></tr><tr><td>\"{\\\"id_str\\\":835350234049863680,\\\"created_at\\\":\\\"2017-02-25 04:46:30\\\",\\\"text\\\":\\\"b'Roller coasters are awesome'\\\"}\"</td></tr><tr><td>\"{\\\"id_str\\\":835202594968477696,\\\"created_at\\\":\\\"2017-02-24 18:59:50\\\",\\\"text\\\":\\\"b'@johnpaulbrewer Something on a tristate border might work. Gigafactory plus nearby supporting supply chain needs a very large workforce.'\\\"}\"</td></tr><tr><td>\"{\\\"id_str\\\":835187859158020097,\\\"created_at\\\":\\\"2017-02-24 18:01:17\\\",\\\"text\\\":\\\"b'@donbarbieri @GreenCarReports Good chance it will'\\\"}\"</td></tr><tr><td>\"{\\\"id_str\\\":835187686151315456,\\\"created_at\\\":\\\"2017-02-24 18:00:36\\\",\\\"text\\\":\\\"b'@davidshepardson @BW @ATT @ToysRUs Exactly :)'\\\"}\"</td></tr><tr><td>\"{\\\"id_str\\\":835185478512992256,\\\"created_at\\\":\\\"2017-02-24 17:51:49\\\",\\\"text\\\":\\\"b\\\\\\\"@meganmurp @ChrisFaile @BW I didn't pose for it (hopefully that's obvious) or want me on cover. Tunnel boring machine pic wd be way better\\\\\\\"\\\"}\"</td></tr><tr><td>\"{\\\"id_str\\\":582581865682350080,\\\"created_at\\\":\\\"2015-03-30 16:35:15\\\",\\\"text\\\":\\\"b'Major new Tesla product line -- not a car -- will be unveiled at our Hawthorne Design Studio on Thurs 8pm, April 30'\\\"}\"</td></tr><tr><td>\"{\\\"id_str\\\":581273207908388864,\\\"created_at\\\":\\\"2015-03-27 01:55:06\\\",\\\"text\\\":\\\"b\\\\\\\"RT @motherboard: Elon Musk says we shouldn't need an environmentally motivated reason to ditch fossil fuels:\\\\\\\\nhttp:\\\\/\\\\/t.co\\\\/kv0wVukbkx http:\\\\/\\\\/\\\\\\\\xe2\\\\\\\\x80\\\\\\\\xa6\\\\\\\"\\\"}\"</td></tr><tr><td>\"{\\\"id_str\\\":580482462612135936,\\\"created_at\\\":\\\"2015-03-24 21:32:58\\\",\\\"text\\\":\\\"b'Right move is try both tunnels and flying cars. Otherwise, having 2D streets and 3D buildings means bad traffic forever.'\\\"}\"</td></tr><tr><td>\"{\\\"id_str\\\":580480774115364864,\\\"created_at\\\":\\\"2015-03-24 21:26:16\\\",\\\"text\\\":\\\"b'Reasons I like tunnels: you still travel in 3D fast, but immune to weather, quiet and no risk cars fall on your head'\\\"}\"</td></tr><tr><td>\"{\\\"id_str\\\":580479736721367041,\\\"created_at\\\":\\\"2015-03-24 21:22:08\\\",\\\"text\\\":\\\"b'Flying car pros: travel in 3D fast. Cons: risk of car falling on head much greater, noisy, grounded in bad weather'\\\"}\"</td></tr><tr><td>\"{\\\"id_str\\\":580478678808850432,\\\"created_at\\\":\\\"2015-03-24 21:17:56\\\",\\\"text\\\":\\\"b\\\\\\\"Contrary to press reports, I'm not against flying cars. Just said it was important to consider both pros and cons.\\\\\\\"\\\"}\"</td></tr><tr><td>\"{\\\"id_str\\\":580124996133097472,\\\"created_at\\\":\\\"2015-03-23 21:52:31\\\",\\\"text\\\":\\\"b'RT @StarTalkRadio: Tonight\\\\\\\\xe2\\\\\\\\x80\\\\\\\\x99s new podcast: Explore \\\\\\\\xe2\\\\\\\\x80\\\\\\\\x9cThe Future of Humanity with @ElonMusk\\\\\\\\xe2\\\\\\\\x80\\\\\\\\x9d and @neiltyson @BillNye @chucknicecomic: http:\\\\/\\\\/t\\\\\\\\xe2\\\\\\\\x80\\\\\\\\xa6'\\\"}\"</td></tr><tr><td>\"{\\\"id_str\\\":580046907902439424,\\\"created_at\\\":\\\"2015-03-23 16:42:14\\\",\\\"text\\\":\\\"b\\\\\\\"Maybe it's wrong, but I really want to see mammoths\\\\\\\\nhttp:\\\\/\\\\/t.co\\\\/enhMu5HYqr\\\\\\\"\\\"}\"</td></tr><tr><td>\"{\\\"id_str\\\":579861658337574912,\\\"created_at\\\":\\\"2015-03-23 04:26:07\\\",\\\"text\\\":\\\"b'Falcon 9 lifting off with 1.3 mmmillion pounds of force http:\\\\/\\\\/t.co\\\\/7ltlN2WYmx'\\\"}\"</td></tr><tr><td>\"{\\\"id_str\\\":579504748014907393,\\\"created_at\\\":\\\"2015-03-22 04:47:53\\\",\\\"text\\\":\\\"b'Reading Look to Windward by Banks. He is an amazing writer. Pantheon level.'\\\"}\"</td></tr><tr><td>\"{\\\"id_str\\\":639175789116833792,\\\"created_at\\\":\\\"2015-09-02 20:39:18\\\",\\\"text\\\":\\\"b'@ScottLucasNV Lithium deal is not exclusive &amp; has many contingencies. The press on this matter is unwarranted.'\\\"}\"</td></tr><tr><td>\"{\\\"id_str\\\":639172302530215936,\\\"created_at\\\":\\\"2015-09-02 20:25:26\\\",\\\"text\\\":\\\"b'@elonmusk $35k price, unveil in March, preorders start then.'\\\"}\"</td></tr><tr><td>\"{\\\"id_str\\\":639171519197777920,\\\"created_at\\\":\\\"2015-09-02 20:22:20\\\",\\\"text\\\":\\\"b'Model 3, our smaller and lower cost sedan will start production in about 2 years. Fully operational Gigafactory needed.'\\\"}\"</td></tr><tr><td>\"{\\\"id_str\\\":639170376186990592,\\\"created_at\\\":\\\"2015-09-02 20:17:47\\\",\\\"text\\\":\\\"b'With same options, Model X is $5k more than an S due to greater size &amp; body complexity. Sig Series is fully loaded, hence high price.'\\\"}\"</td></tr><tr><td>\"{\\\"id_str\\\":638962228700381184,\\\"created_at\\\":\\\"2015-09-02 06:30:41\\\",\\\"text\\\":\\\"b'RT @SpaceX: Pad 39A @NASAKennedy will be future home to @Commercial_Crew launches and Falcon Heavy missions http:\\\\/\\\\/t.co\\\\/ITebIXLzzb'\\\"}\"</td></tr><tr><td>\"{\\\"id_str\\\":638900258232074240,\\\"created_at\\\":\\\"2015-09-02 02:24:26\\\",\\\"text\\\":\\\"b'RT @Oprah: Test driving my new Tesla with dealer Dan. Love it!! https:\\\\/\\\\/t.co\\\\/LHLroJ6Acl'\\\"}\"</td></tr><tr><td>\"{\\\"id_str\\\":636918796494594048,\\\"created_at\\\":\\\"2015-08-27 15:10:49\\\",\\\"text\\\":\\\"b'RT @ConsumerReports: Breaking: Tesla P85D is the best car we\\\\\\\\xe2\\\\\\\\x80\\\\\\\\x99ve tested in 80 years of testing cars #carofthefuture http:\\\\/\\\\/t.co\\\\/mwDM9dAXj3 h\\\\\\\\xe2\\\\\\\\x80\\\\\\\\xa6'\\\"}\"</td></tr><tr><td>\"{\\\"id_str\\\":636089783274463232,\\\"created_at\\\":\\\"2015-08-25 08:16:36\\\",\\\"text\\\":\\\"b'RT @BjornNyland: @TeslaMotors @elonmusk #P85D setting new world record in #hypermiling driving 728.7 km\\\\/452.8 mi on a single charge http:\\\\/\\\\/\\\\\\\\xe2\\\\\\\\x80\\\\\\\\xa6'\\\"}\"</td></tr><tr><td>\"{\\\"id_str\\\":635215467959812096,\\\"created_at\\\":\\\"2015-08-22 22:22:23\\\",\\\"text\\\":\\\"b'@Forbes I appreciate the kind words in the article, but, judging by the picture mods, it looks your Photoshop bill was very high.'\\\"}\"</td></tr><tr><td>\"{\\\"id_str\\\":635214915934928896,\\\"created_at\\\":\\\"2015-08-22 22:20:12\\\",\\\"text\\\":\\\"b'True, but achieving a long range affordable electric vehicle has always been our long-term goal. Due in late 2017! https:\\\\/\\\\/t.co\\\\/2OrIYdoojs'\\\"}\"</td></tr><tr><td>\"{\\\"id_str\\\":789020841489018880,\\\"created_at\\\":\\\"2016-10-20 08:30:02\\\",\\\"text\\\":\\\"b'When searching for parking, the car reads the signs to see if it is allowed to park there, which is why it skipped the disabled spot'\\\"}\"</td></tr><tr><td>\"{\\\"id_str\\\":789020178969276416,\\\"created_at\\\":\\\"2016-10-20 08:27:24\\\",\\\"text\\\":\\\"b'@Bret_with1t yes'\\\"}\"</td></tr><tr><td>\"{\\\"id_str\\\":789020098145030144,\\\"created_at\\\":\\\"2016-10-20 08:27:05\\\",\\\"text\\\":\\\"b'@TeslaMotors 8 cameras, 12 ultrasonars and radar all flush mounted and body color. Beauty remains.'\\\"}\"</td></tr><tr><td>\"{\\\"id_str\\\":789019145853513729,\\\"created_at\\\":\\\"2016-10-20 08:23:18\\\",\\\"text\\\":\\\"b'Tesla drives itself (no human input at all) thru urban streets to highway to streets, then finds a parking spot https:\\\\/\\\\/t.co\\\\/V2T7KGMPBo'\\\"}\"</td></tr><tr><td>\"{\\\"id_str\\\":789008557341454336,\\\"created_at\\\":\\\"2016-10-20 07:41:13\\\",\\\"text\\\":\\\"b'@vicentes latest autonomous hardware allows for easy computer upgrade'\\\"}\"</td></tr><tr><td>\"{\\\"id_str\\\":789007996038721536,\\\"created_at\\\":\\\"2016-10-20 07:38:59\\\",\\\"text\\\":\\\"b\\\\\\\"Should mention that retrofitting to full self-driving hardware is very difficult. Cost delta is more than buying a new car. Wish it weren't.\\\\\\\"\\\"}\"</td></tr><tr><td>\"{\\\"id_str\\\":789004268296544256,\\\"created_at\\\":\\\"2016-10-20 07:24:11\\\",\\\"text\\\":\\\"b'@elonmusk Still working on the video. Fully autonomous drive demo only completed several hours ago.'\\\"}\"</td></tr><tr><td>\"{\\\"id_str\\\":788973638665908224,\\\"created_at\\\":\\\"2016-10-20 05:22:28\\\",\\\"text\\\":\\\"b'@AlternateJones of course'\\\"}\"</td></tr><tr><td>\"{\\\"id_str\\\":788955029138972674,\\\"created_at\\\":\\\"2016-10-20 04:08:31\\\",\\\"text\\\":\\\"b'Tesla expects to demonstrate self-driven cross-country trip next year https:\\\\/\\\\/t.co\\\\/YTxMUT3hWq via @WSJ'\\\"}\"</td></tr><tr><td>\"{\\\"id_str\\\":788904960331161600,\\\"created_at\\\":\\\"2016-10-20 00:49:34\\\",\\\"text\\\":\\\"b'@FutureBoy @mashable true and underappreciated'\\\"}\"</td></tr><tr><td>\"{\\\"id_str\\\":832979955092819968,\\\"created_at\\\":\\\"2017-02-18 15:47:51\\\",\\\"text\\\":\\\"b'@Zybbby Not obviously related to the (very tiny) helium leak, but also not out of the question'\\\"}\"</td></tr><tr><td>\"{\\\"id_str\\\":832973218348625920,\\\"created_at\\\":\\\"2017-02-18 15:21:05\\\",\\\"text\\\":\\\"b\\\\\\\"If this is the only issue, flight would be fine, but need to make sure that it isn't symptomatic of a more significant upstream root cause\\\\\\\"\\\"}\"</td></tr><tr><td>\"{\\\"id_str\\\":832970849791537152,\\\"created_at\\\":\\\"2017-02-18 15:11:41\\\",\\\"text\\\":\\\"b'All systems go, except the movement trace of an upper stage engine steering hydraulic piston was slightly odd. Standing down to investigate.'\\\"}\"</td></tr><tr><td>\"{\\\"id_str\\\":832954058730115074,\\\"created_at\\\":\\\"2017-02-18 14:04:57\\\",\\\"text\\\":\\\"b'RT @SpaceX: 1 hour from launch of Falcon 9 &amp; Dragon to @Space_Station. Rocket &amp; weather are go. Launch at 10:01am ET, 15:01 UTC https:\\\\/\\\\/t.c\\\\\\\\xe2\\\\\\\\x80\\\\\\\\xa6'\\\"}\"</td></tr><tr><td>\"{\\\"id_str\\\":832871068066942976,\\\"created_at\\\":\\\"2017-02-18 08:35:11\\\",\\\"text\\\":\\\"b'Counting down to the first SpaceX launch from the Apollo 11 launch pad tomorrow morning (webcast\\\\\\\\xe2\\\\\\\\x80\\\\\\\\xa6 https:\\\\/\\\\/t.co\\\\/upjTcmftte'\\\"}\"</td></tr><tr><td>\"{\\\"id_str\\\":832869029580664833,\\\"created_at\\\":\\\"2017-02-18 08:27:05\\\",\\\"text\\\":\\\"b\\\\\\\"RT @NASA: Hear from experts at 5pm ET about the status of tomorrow's 10:01am ET @SpaceX cargo launch to @Space_Station: https:\\\\/\\\\/t.co\\\\/oJKHgK\\\\\\\\xe2\\\\\\\\x80\\\\\\\\xa6\\\\\\\"\\\"}\"</td></tr><tr><td>\"{\\\"id_str\\\":832868838479851521,\\\"created_at\\\":\\\"2017-02-18 08:26:19\\\",\\\"text\\\":\\\"b\\\\\\\"spacex's photo https:\\\\/\\\\/t.co\\\\/ImEDAut3nI\\\\\\\"\\\"}\"</td></tr><tr><td>\"{\\\"id_str\\\":832863988836814848,\\\"created_at\\\":\\\"2017-02-18 08:07:03\\\",\\\"text\\\":\\\"b'Provided Dragon 2 demo missions go well, SpaceX is highly confident of being able to fly US astronauts in 2018 https:\\\\/\\\\/t.co\\\\/usUto6QSi7'\\\"}\"</td></tr><tr><td>\"{\\\"id_str\\\":832788691588296705,\\\"created_at\\\":\\\"2017-02-18 03:07:51\\\",\\\"text\\\":\\\"b'Looks like we are go for launch. Added an abort trigger at T-60 secs for pressure decay of upper stage helium spin start system.'\\\"}\"</td></tr><tr><td>\"{\\\"id_str\\\":832647116816150530,\\\"created_at\\\":\\\"2017-02-17 17:45:17\\\",\\\"text\\\":\\\"b'Investigating a (very small) leak in the upper stage. If ok, will launch tomorrow. https:\\\\/\\\\/t.co\\\\/bQf97lywn4'\\\"}\"</td></tr><tr><td>\"{\\\"id_str\\\":740540471081062401,\\\"created_at\\\":\\\"2016-06-08 13:46:21\\\",\\\"text\\\":\\\"b'@danahull yes'\\\"}\"</td></tr><tr><td>\"{\\\"id_str\\\":740387141591535616,\\\"created_at\\\":\\\"2016-06-08 03:37:04\\\",\\\"text\\\":\\\"b'S and X cells are also Panasonic'\\\"}\"</td></tr><tr><td>\"{\\\"id_str\\\":740383850820296707,\\\"created_at\\\":\\\"2016-06-08 03:24:00\\\",\\\"text\\\":\\\"b'Would like to clarify that Tesla is working exclusively with Panasonic for Model 3 cells. News articles claiming otherwise are incorrect.'\\\"}\"</td></tr><tr><td>\"{\\\"id_str\\\":740296489532948480,\\\"created_at\\\":\\\"2016-06-07 21:36:51\\\",\\\"text\\\":\\\"b'Fourth rocket arrives in the hangar. Aiming for first reflight in Sept\\\\/Oct. https:\\\\/\\\\/t.co\\\\/TqW8d6Cc3U'\\\"}\"</td></tr><tr><td>\"{\\\"id_str\\\":740259255417208832,\\\"created_at\\\":\\\"2016-06-07 19:08:54\\\",\\\"text\\\":\\\"b\\\\\\\"RT @Kotaku_UK: Elite's AI created super weapons and started hunting players. Skynet is here https:\\\\/\\\\/t.co\\\\/FPsKzaGNBq https:\\\\/\\\\/t.co\\\\/rOeoI53EYr\\\\\\\"\\\"}\"</td></tr><tr><td>\"{\\\"id_str\\\":739631614100004864,\\\"created_at\\\":\\\"2016-06-06 01:34:53\\\",\\\"text\\\":\\\"b'@tedismeiamted @PlayOverwatch @Blizzard_Ent PC, of course'\\\"}\"</td></tr><tr><td>\"{\\\"id_str\\\":739594006762393600,\\\"created_at\\\":\\\"2016-06-05 23:05:26\\\",\\\"text\\\":\\\"b'Highly recommend @PlayOverwatch by the good people of @Blizzard_Ent if you like ultrafast team FPS action\\\\\\\\nhttps:\\\\/\\\\/t.co\\\\/GAIamvAPnn'\\\"}\"</td></tr><tr><td>\"{\\\"id_str\\\":739573737331298306,\\\"created_at\\\":\\\"2016-06-05 21:44:54\\\",\\\"text\\\":\\\"b'RT @SpaceX: Next launch targeting June 14 from Cape Canaveral \\\\\\\\xe2\\\\\\\\x80\\\\\\\\x93 45 minute launch window opens at 10:32am ET, 2:32pm UTC https:\\\\/\\\\/t.co\\\\/o8m9bI\\\\\\\\xe2\\\\\\\\x80\\\\\\\\xa6'\\\"}\"</td></tr><tr><td>\"{\\\"id_str\\\":739557011554066432,\\\"created_at\\\":\\\"2016-06-05 20:38:26\\\",\\\"text\\\":\\\"b'Trippy https:\\\\/\\\\/t.co\\\\/DtMD5AIRiq'\\\"}\"</td></tr><tr><td>\"{\\\"id_str\\\":739509168722186241,\\\"created_at\\\":\\\"2016-06-05 17:28:19\\\",\\\"text\\\":\\\"b'@ahess247 @Recode I love Douglas Adams! My favorite spaceship ever is in HHGTTG.'\\\"}\"</td></tr><tr><td>\"{\\\"id_str\\\":752405437199192064,\\\"created_at\\\":\\\"2016-07-11 07:33:29\\\",\\\"text\\\":\\\"b\\\\\\\"RT @Eddy_Jahn: @spacex @elonmusk Not sure if you've seen this, but great video of your progress #SpaceX 4 years in 4 minutes. https:\\\\/\\\\/t.co\\\\/\\\\\\\\xe2\\\\\\\\x80\\\\\\\\xa6\\\\\\\"\\\"}\"</td></tr><tr><td>\"{\\\"id_str\\\":752272158517112835,\\\"created_at\\\":\\\"2016-07-10 22:43:53\\\",\\\"text\\\":\\\"b'Something like that https:\\\\/\\\\/t.co\\\\/aufFuB5VXo'\\\"}\"</td></tr><tr><td>\"{\\\"id_str\\\":752270839458869249,\\\"created_at\\\":\\\"2016-07-10 22:38:39\\\",\\\"text\\\":\\\"b'@nickg_uk already taken care of'\\\"}\"</td></tr><tr><td>\"{\\\"id_str\\\":752218264499949568,\\\"created_at\\\":\\\"2016-07-10 19:09:44\\\",\\\"text\\\":\\\"b'Kinda. Creating a seamlessly integrated Tesla battery &amp; solar power product that looks beautiful is the reason https:\\\\/\\\\/t.co\\\\/4z6MzBB9p2'\\\"}\"</td></tr><tr><td>\"{\\\"id_str\\\":752204733339701249,\\\"created_at\\\":\\\"2016-07-10 18:15:58\\\",\\\"text\\\":\\\"b'@SwiftOnSecurity I like your tweets!'\\\"}\"</td></tr><tr><td>\"{\\\"id_str\\\":752204607753842688,\\\"created_at\\\":\\\"2016-07-10 18:15:28\\\",\\\"text\\\":\\\"b'@SwiftOnSecurity Tricky in 140 chars, but: 1B needed for min statistical sample size. More software mods and data may be needed beyond that.'\\\"}\"</td></tr><tr><td>\"{\\\"id_str\\\":752203559043641344,\\\"created_at\\\":\\\"2016-07-10 18:11:18\\\",\\\"text\\\":\\\"b'Blog on Autopilot by @PeterDiamandis https:\\\\/\\\\/t.co\\\\/LR5zuw3J9X'\\\"}\"</td></tr><tr><td>\"{\\\"id_str\\\":752201456980078593,\\\"created_at\\\":\\\"2016-07-10 18:02:57\\\",\\\"text\\\":\\\"b'@bolayer @SwiftOnSecurity US is ~11 deaths per billion miles. WW is 17 deaths per billion. Autopilot already much better than either so far.'\\\"}\"</td></tr><tr><td>\"{\\\"id_str\\\":752199681166315521,\\\"created_at\\\":\\\"2016-07-10 17:55:53\\\",\\\"text\\\":\\\"b\\\\\\\"@c4757p @SwiftOnSecurity Unless we get there and find it isn't enough. Just won't be before 1B.\\\\\\\"\\\"}\"</td></tr><tr><td>\"{\\\"id_str\\\":752198648469917696,\\\"created_at\\\":\\\"2016-07-10 17:51:47\\\",\\\"text\\\":\\\"b'@FantaAIex It is extensively tested in the lab and in the Tesla test fleet. However, there is no substitute for real world experience.'\\\"}\"</td></tr><tr><td>\"{\\\"id_str\\\":738998975118737408,\\\"created_at\\\":\\\"2016-06-04 07:41:00\\\",\\\"text\\\":\\\"b\\\\\\\"At this point, I'm really running out of crazy things to say. Any suggestions?\\\\\\\\nhttps:\\\\/\\\\/t.co\\\\/dGVJBcSZn2\\\\\\\"\\\"}\"</td></tr><tr><td>\"{\\\"id_str\\\":738856423656808448,\\\"created_at\\\":\\\"2016-06-03 22:14:33\\\",\\\"text\\\":\\\"b'@lessteza control of super powerful AI by a small number of humans is the most proximate concern'\\\"}\"</td></tr><tr><td>\"{\\\"id_str\\\":738805691528318976,\\\"created_at\\\":\\\"2016-06-03 18:52:57\\\",\\\"text\\\":\\\"b'Just heard that Norway will ban new sales of fuel cars in 2025. What an amazingly awesome country. You guys rock!! https:\\\\/\\\\/t.co\\\\/uAXuBkDYuR'\\\"}\"</td></tr><tr><td>\"{\\\"id_str\\\":738775567055523841,\\\"created_at\\\":\\\"2016-06-03 16:53:15\\\",\\\"text\\\":\\\"b'Yay, baby made it home!\\\\\\\\nhttps:\\\\/\\\\/t.co\\\\/KYyUX9zNYD'\\\"}\"</td></tr><tr><td>\"{\\\"id_str\\\":738544730573672448,\\\"created_at\\\":\\\"2016-06-03 01:35:59\\\",\\\"text\\\":\\\"b\\\\\\\"RT @SpaceX: It's a bird, it's a plane... https:\\\\/\\\\/t.co\\\\/hdpkXTvLm3\\\\\\\"\\\"}\"</td></tr><tr><td>\"{\\\"id_str\\\":738471747540783104,\\\"created_at\\\":\\\"2016-06-02 20:45:59\\\",\\\"text\\\":\\\"b'@mattyteare @karaswisher @waltmossberg @YouTube autosteering chutes will be added soon'\\\"}\"</td></tr><tr><td>\"{\\\"id_str\\\":738470842695176192,\\\"created_at\\\":\\\"2016-06-02 20:42:23\\\",\\\"text\\\":\\\"b'Recode interview with @karaswisher and @waltmossberg https:\\\\/\\\\/t.co\\\\/BDqQ7RreV2 via @YouTube'\\\"}\"</td></tr><tr><td>\"{\\\"id_str\\\":738191872502423552,\\\"created_at\\\":\\\"2016-06-02 02:13:52\\\",\\\"text\\\":\\\"b\\\\\\\"Supercharger policy explained well by @LATimes:\\\\\\\\n\\\\\\\\nhttps:\\\\/\\\\/t.co\\\\/F0CInMW1yU\\\\\\\\n\\\\\\\\nWill post detailed description soon. I think it's a good balance.\\\\\\\"\\\"}\"</td></tr><tr><td>\"{\\\"id_str\\\":737859967450021889,\\\"created_at\\\":\\\"2016-06-01 04:14:59\\\",\\\"text\\\":\\\"b'Good summary of Tesla annual meeting by @katiefehren https:\\\\/\\\\/t.co\\\\/G3enS77hJ7'\\\"}\"</td></tr><tr><td>\"{\\\"id_str\\\":737102578828206080,\\\"created_at\\\":\\\"2016-05-30 02:05:24\\\",\\\"text\\\":\\\"b'@iwanttobeanurse Sorry to hear that. Will take care of this &amp; investigate to see if issues you encountered are systemic.'\\\"}\"</td></tr><tr><td>\"{\\\"id_str\\\":330877283793530880,\\\"created_at\\\":\\\"2013-05-05 02:51:06\\\",\\\"text\\\":\\\"b'@DouglasBullard @teslamotors Most people have never heard of Nikola Tesla. That will hopefully change over time.'\\\"}\"</td></tr><tr><td>\"{\\\"id_str\\\":330869907640184832,\\\"created_at\\\":\\\"2013-05-05 02:21:47\\\",\\\"text\\\":\\\"b'@flyguynscc @teslamotors yes, that has been the goal from the beginning'\\\"}\"</td></tr><tr><td>\"{\\\"id_str\\\":330708114854793217,\\\"created_at\\\":\\\"2013-05-04 15:38:53\\\",\\\"text\\\":\\\"b'@fink_justin It can definitely strain relationships, but I loved doing my first company with my brother'\\\"}\"</td></tr><tr><td>\"{\\\"id_str\\\":330707889729712131,\\\"created_at\\\":\\\"2013-05-04 15:37:59\\\",\\\"text\\\":\\\"b'@Vangsgutane Norway rocks!'\\\"}\"</td></tr><tr><td>\"{\\\"id_str\\\":330572086668046336,\\\"created_at\\\":\\\"2013-05-04 06:38:21\\\",\\\"text\\\":\\\"b'@WehbyJammin Earnings call next week, then Supercharger week after and then... the mystery announcement\\\\/demonstration :)'\\\"}\"</td></tr><tr><td>\"{\\\"id_str\\\":330571811358117888,\\\"created_at\\\":\\\"2013-05-04 06:37:16\\\",\\\"text\\\":\\\"b\\\\\\\"@TeslaTrip you're welcome :)\\\\\\\"\\\"}\"</td></tr><tr><td>\"{\\\"id_str\\\":330466529118392320,\\\"created_at\\\":\\\"2013-05-03 23:38:54\\\",\\\"text\\\":\\\"b'RT @TeslaMotors: North Carolina General Assembly could prevent Tesla from selling cars. Take action: http:\\\\/\\\\/t.co\\\\/EvxHevlZxi #TeslaNC'\\\"}\"</td></tr><tr><td>\"{\\\"id_str\\\":330425498406633474,\\\"created_at\\\":\\\"2013-05-03 20:55:52\\\",\\\"text\\\":\\\"b'@thebradholt we need a compelling video that convinces TX lawmakers to pass the direct sales law just approved by their committee.'\\\"}\"</td></tr><tr><td>\"{\\\"id_str\\\":330424811035705344,\\\"created_at\\\":\\\"2013-05-03 20:53:08\\\",\\\"text\\\":\\\"b\\\\\\\"@Rocco_TheStreet Guaranteeing the world's best resale value in industry is unprecedented and backed up my other assets. Why isn't that good?\\\\\\\"\\\"}\"</td></tr><tr><td>\"{\\\"id_str\\\":330423366802632706,\\\"created_at\\\":\\\"2013-05-03 20:47:24\\\",\\\"text\\\":\\\"b'@ChrisCowan_  Chris is great. Took a long time for me to find someone w truly hardcore engineering skills, who fully understood the system.'\\\"}\"</td></tr><tr><td>\"{\\\"id_str\\\":785140287819612160,\\\"created_at\\\":\\\"2016-10-09 15:30:06\\\",\\\"text\\\":\\\"b'@roger_kappler Probably not then either'\\\"}\"</td></tr><tr><td>\"{\\\"id_str\\\":785139055793152000,\\\"created_at\\\":\\\"2016-10-09 15:25:12\\\",\\\"text\\\":\\\"b\\\\\\\"Would also like to correct expectations that Tesla\\\\/SolarCity will need to raise equity or corp debt in Q4. Won't be necessary for either.\\\\\\\"\\\"}\"</td></tr><tr><td>\"{\\\"id_str\\\":785138151224446976,\\\"created_at\\\":\\\"2016-10-09 15:21:37\\\",\\\"text\\\":\\\"b'Tesla product unveiling on the 17th (unexpected by most), followed by Tesla\\\\/SolarCity on the 28th'\\\"}\"</td></tr><tr><td>\"{\\\"id_str\\\":785135480811712513,\\\"created_at\\\":\\\"2016-10-09 15:11:00\\\",\\\"text\\\":\\\"b'@FuncRandm I agree. Speed of light is a point in favor of the sim.'\\\"}\"</td></tr><tr><td>\"{\\\"id_str\\\":784507684410097664,\\\"created_at\\\":\\\"2016-10-07 21:36:22\\\",\\\"text\\\":\\\"b'US automotive deaths rose 10% to 17,775 in first half of 2016, approx 1 every 88 million miles https:\\\\/\\\\/t.co\\\\/8vrAHA80yB'\\\"}\"</td></tr><tr><td>\"{\\\"id_str\\\":784487348562198529,\\\"created_at\\\":\\\"2016-10-07 20:15:33\\\",\\\"text\\\":\\\"b'Cumulative Tesla Autopilot miles now at 222 million'\\\"}\"</td></tr><tr><td>\"{\\\"id_str\\\":784441057857589249,\\\"created_at\\\":\\\"2016-10-07 17:11:37\\\",\\\"text\\\":\\\"b'@DanMerriweather lot of circumstantial evidence for that hypothesis'\\\"}\"</td></tr><tr><td>\"{\\\"id_str\\\":784430298322771968,\\\"created_at\\\":\\\"2016-10-07 16:28:51\\\",\\\"text\\\":\\\"b\\\\\\\"RT @TeslaMotors: With 3,200+ Destination Charging locations worldwide, you can enjoy the French vineyards or Vermont's mountains, while cha\\\\\\\\xe2\\\\\\\\x80\\\\\\\\xa6\\\\\\\"\\\"}\"</td></tr><tr><td>\"{\\\"id_str\\\":784219037194563584,\\\"created_at\\\":\\\"2016-10-07 02:29:23\\\",\\\"text\\\":\\\"b'RT @InsideWestworld: It will be great to see @TalulahRiley as Angela and @jimmisimpson as William in #Westworld airing Sunday 9:00 PM ET. h\\\\\\\\xe2\\\\\\\\x80\\\\\\\\xa6'\\\"}\"</td></tr><tr><td>\"{\\\"id_str\\\":784218678376079361,\\\"created_at\\\":\\\"2016-10-07 02:27:57\\\",\\\"text\\\":\\\"b\\\\\\\"RT @exploreplanets: Mars like you've never seen before: a rare set of images just published by @elakdawalla  https:\\\\/\\\\/t.co\\\\/5oTYj2dxCM \\\\\\\\n@isro\\\\\\\\xe2\\\\\\\\x80\\\\\\\\xa6\\\\\\\"\\\"}\"</td></tr><tr><td>\"{\\\"id_str\\\":828284631170560000,\\\"created_at\\\":\\\"2017-02-05 16:50:19\\\",\\\"text\\\":\\\"b'@TheLAAdams The laws need to change. Judges are responsible for evaluating whether an action breaks the law, not making law.'\\\"}\"</td></tr><tr><td>\"{\\\"id_str\\\":828284048103579651,\\\"created_at\\\":\\\"2017-02-05 16:48:00\\\",\\\"text\\\":\\\"b'@humplik The remedy for that is changing the law'\\\"}\"</td></tr><tr><td>\"{\\\"id_str\\\":828282768559849473,\\\"created_at\\\":\\\"2017-02-05 16:42:55\\\",\\\"text\\\":\\\"b\\\\\\\"@CallumK24 Ok, but what's up the wigs?\\\\\\\"\\\"}\"</td></tr><tr><td>\"{\\\"id_str\\\":828282648711802881,\\\"created_at\\\":\\\"2017-02-05 16:42:26\\\",\\\"text\\\":\\\"b\\\\\\\"@iLexomat There are many good legal systems on par with US. Just don't know any that are better.\\\\\\\"\\\"}\"</td></tr><tr><td>\"{\\\"id_str\\\":828281953455579136,\\\"created_at\\\":\\\"2017-02-05 16:39:41\\\",\\\"text\\\":\\\"b'@Biesseman True!'\\\"}\"</td></tr><tr><td>\"{\\\"id_str\\\":828280866451374085,\\\"created_at\\\":\\\"2017-02-05 16:35:21\\\",\\\"text\\\":\\\"b\\\\\\\"Many in America don't realize how proud they should be of the legal system. Not perfect, but nowhere is the cause of justice better served.\\\\\\\"\\\"}\"</td></tr><tr><td>\"{\\\"id_str\\\":828279118944989185,\\\"created_at\\\":\\\"2017-02-05 16:28:25\\\",\\\"text\\\":\\\"b'RT @TeslaMotors: Honored to receive Best Car Award for the third year in a row in Germany. Thank you to all 124,000 of you who voted! https\\\\\\\\xe2\\\\\\\\x80\\\\\\\\xa6'\\\"}\"</td></tr><tr><td>\"{\\\"id_str\\\":828018446873006080,\\\"created_at\\\":\\\"2017-02-04 23:12:36\\\",\\\"text\\\":\\\"b'Walking down the street and saw this https:\\\\/\\\\/t.co\\\\/Mpv5j6088K'\\\"}\"</td></tr><tr><td>\"{\\\"id_str\\\":828004976228188160,\\\"created_at\\\":\\\"2017-02-04 22:19:04\\\",\\\"text\\\":\\\"b'@ChrisJCav Maybe my favorite mug ever'\\\"}\"</td></tr><tr><td>\"{\\\"id_str\\\":828004231101706241,\\\"created_at\\\":\\\"2017-02-04 22:16:06\\\",\\\"text\\\":\\\"b'@nintendomaniac @alext4627 I wish!'\\\"}\"</td></tr><tr><td>\"{\\\"id_str\\\":838569247555014656,\\\"created_at\\\":\\\"2017-03-06 01:57:43\\\",\\\"text\\\":\\\"b'@Zedd Will send you one'\\\"}\"</td></tr><tr><td>\"{\\\"id_str\\\":838565081306677249,\\\"created_at\\\":\\\"2017-03-06 01:41:09\\\",\\\"text\\\":\\\"b'@SimonaKitzu Self-hatred'\\\"}\"</td></tr><tr><td>\"{\\\"id_str\\\":838563502386118656,\\\"created_at\\\":\\\"2017-03-06 01:34:53\\\",\\\"text\\\":\\\"b'Thanks JJ!'\\\"}\"</td></tr><tr><td>\"{\\\"id_str\\\":838558471972741120,\\\"created_at\\\":\\\"2017-03-06 01:14:54\\\",\\\"text\\\":\\\"b'https:\\\\/\\\\/t.co\\\\/3YSXZq1EVj'\\\"}\"</td></tr><tr><td>\"{\\\"id_str\\\":838555180656295936,\\\"created_at\\\":\\\"2017-03-06 01:01:49\\\",\\\"text\\\":\\\"b'RT @TeslaMotors: Project Loveday https:\\\\/\\\\/t.co\\\\/K1snXJN15u'\\\"}\"</td></tr><tr><td>\"{\\\"id_str\\\":837113202030759937,\\\"created_at\\\":\\\"2017-03-02 01:31:54\\\",\\\"text\\\":\\\"b\\\\\\\"Thank you for the lovely letter. That sounds like a great idea. We'll do it! https:\\\\/\\\\/t.co\\\\/ss2WmkOGyk\\\\\\\"\\\"}\"</td></tr><tr><td>\"{\\\"id_str\\\":836443541001797632,\\\"created_at\\\":\\\"2017-02-28 05:10:55\\\",\\\"text\\\":\\\"b\\\\\\\"SpaceX could not do this without NASA. Can't express enough appreciation. https:\\\\/\\\\/t.co\\\\/uQpI60zAV7\\\\\\\"\\\"}\"</td></tr><tr><td>\"{\\\"id_str\\\":836442868180905984,\\\"created_at\\\":\\\"2017-02-28 05:08:14\\\",\\\"text\\\":\\\"b\\\\\\\"@jamesatbuzz This is not true. TM works for a lot of people and that's great, but I've maybe done it 7 or 8 times ever.\\\\\\\"\\\"}\"</td></tr><tr><td>\"{\\\"id_str\\\":836328719165763584,\\\"created_at\\\":\\\"2017-02-27 21:34:39\\\",\\\"text\\\":\\\"b'Fly me to the moon ... Ok\\\\\\\\nhttps:\\\\/\\\\/t.co\\\\/6QT8m5SHwn'\\\"}\"</td></tr><tr><td>\"{\\\"id_str\\\":836020571490021376,\\\"created_at\\\":\\\"2017-02-27 01:10:11\\\",\\\"text\\\":\\\"b'SpaceX announcement tomorrow at 1pm PST'\\\"}\"</td></tr><tr><td>\"{\\\"id_str\\\":322416386037141504,\\\"created_at\\\":\\\"2013-04-11 18:30:31\\\",\\\"text\\\":\\\"b'@batasrki Stay tuned for a big Supercharger announcement in a few weeks. Definitely have you covered.'\\\"}\"</td></tr><tr><td>\"{\\\"id_str\\\":322414424570859520,\\\"created_at\\\":\\\"2013-04-11 18:22:43\\\",\\\"text\\\":\\\"b'@JBSiegelMD Thanks! Hearing from constituents is super important to counteract the influence of the dealer lobby.'\\\"}\"</td></tr><tr><td>\"{\\\"id_str\\\":322410144409481217,\\\"created_at\\\":\\\"2013-04-11 18:05:43\\\",\\\"text\\\":\\\"b'New York judge states: \\\\\\\"... dealers cannot utilize the Franchised Dealer Act as a means to sue their competitors\\\\\\\". Exactly!'\\\"}\"</td></tr><tr><td>\"{\\\"id_str\\\":322409574248357888,\\\"created_at\\\":\\\"2013-04-11 18:03:27\\\",\\\"text\\\":\\\"b'New York judge just ruled in favor Tesla, dismissing the legal attack by auto dealers to prevent direct sales!'\\\"}\"</td></tr><tr><td>\"{\\\"id_str\\\":322170049316139009,\\\"created_at\\\":\\\"2013-04-11 02:11:40\\\",\\\"text\\\":\\\"b'Yay for democracy! @latimes asks: Should Tesla Motors be able to sell directly to consumers? http:\\\\/\\\\/t.co\\\\/IhSNht6bgx'\\\"}\"</td></tr><tr><td>\"{\\\"id_str\\\":322163054601179136,\\\"created_at\\\":\\\"2013-04-11 01:43:52\\\",\\\"text\\\":\\\"b\\\\\\\"@twittelator Yup, you're right\\\\\\\"\\\"}\"</td></tr><tr><td>\"{\\\"id_str\\\":321987888055201793,\\\"created_at\\\":\\\"2013-04-10 14:07:49\\\",\\\"text\\\":\\\"b'Just wanted to say thanks to everyone for testifying yesterday in Austin. Will hang around after press conf to thank people in person.'\\\"}\"</td></tr><tr><td>\"{\\\"id_str\\\":321985069235453953,\\\"created_at\\\":\\\"2013-04-10 13:56:37\\\",\\\"text\\\":\\\"b'@derrickgott007 already partly here with rocket development, but will make it a lot bigger with the launch site'\\\"}\"</td></tr><tr><td>\"{\\\"id_str\\\":321710007223726080,\\\"created_at\\\":\\\"2013-04-09 19:43:37\\\",\\\"text\\\":\\\"b'Just had Texas BBQ for lunch in Capitol Building. About to head to House Committee hearing to advocate for Tesla in TX.'\\\"}\"</td></tr><tr><td>\"{\\\"id_str\\\":321637861147426816,\\\"created_at\\\":\\\"2013-04-09 14:56:56\\\",\\\"text\\\":\\\"b'In TX to make the case for allowing Tesla to sell cars. Pls come to Capitol Room E2.014 at 1:30! http:\\\\/\\\\/t.co\\\\/WR3WXE8SFe'\\\"}\"</td></tr><tr><td>\"{\\\"id_str\\\":715433418260029440,\\\"created_at\\\":\\\"2016-03-31 06:59:53\\\",\\\"text\\\":\\\"b'Model 3 unveil will be webcast live at 8:30pm California time at https:\\\\/\\\\/t.co\\\\/46TXqRrsdr'\\\"}\"</td></tr><tr><td>\"{\\\"id_str\\\":715309739752747009,\\\"created_at\\\":\\\"2016-03-30 22:48:26\\\",\\\"text\\\":\\\"b'@rossbin You will see the car very clearly, but some important elements will be added and some will evolve.'\\\"}\"</td></tr><tr><td>\"{\\\"id_str\\\":715307847890903041,\\\"created_at\\\":\\\"2016-03-30 22:40:55\\\",\\\"text\\\":\\\"b'Tomorrow is Part 1 of the Model 3 unveil. Part 2, which takes things to another level, will be closer to production.'\\\"}\"</td></tr><tr><td>\"{\\\"id_str\\\":715303533659041792,\\\"created_at\\\":\\\"2016-03-30 22:23:46\\\",\\\"text\\\":\\\"b'Model 3 order day starting in Australia https:\\\\/\\\\/t.co\\\\/T6aUnG5BCv'\\\"}\"</td></tr><tr><td>\"{\\\"id_str\\\":715220713326530561,\\\"created_at\\\":\\\"2016-03-30 16:54:40\\\",\\\"text\\\":\\\"b'You can now buy cruise ship tickets for the Arctic passage. Seeing is believing. https:\\\\/\\\\/t.co\\\\/LhKupkNMFC'\\\"}\"</td></tr><tr><td>\"{\\\"id_str\\\":715219872204992512,\\\"created_at\\\":\\\"2016-03-30 16:51:20\\\",\\\"text\\\":\\\"b'Great article by @BadAstronomer. Important to note max temp record. Too much attention on avg temp. Max matters most https:\\\\/\\\\/t.co\\\\/0FnIAVsbIu'\\\"}\"</td></tr><tr><td>\"{\\\"id_str\\\":714963420316049411,\\\"created_at\\\":\\\"2016-03-29 23:52:17\\\",\\\"text\\\":\\\"b'Looks like we may need to increase production plans for the Model 3 https:\\\\/\\\\/t.co\\\\/fmCPFC9FEm'\\\"}\"</td></tr><tr><td>\"{\\\"id_str\\\":713142197005234176,\\\"created_at\\\":\\\"2016-03-24 23:15:23\\\",\\\"text\\\":\\\"b'RT @TeslaMotors: \\\\\\\"Model X is the quickest SUV we\\\\\\\\xe2\\\\\\\\x80\\\\\\\\x99ve ever tested. Period.\\\\\\\" @MotorTrend https:\\\\/\\\\/t.co\\\\/kp9UCuELId https:\\\\/\\\\/t.co\\\\/IcYUChMpc4'\\\"}\"</td></tr><tr><td>\"{\\\"id_str\\\":711603839443423232,\\\"created_at\\\":\\\"2016-03-20 17:22:30\\\",\\\"text\\\":\\\"b'Tesla charger map https:\\\\/\\\\/t.co\\\\/9tei7lU4FD'\\\"}\"</td></tr><tr><td>\"{\\\"id_str\\\":711258598551240704,\\\"created_at\\\":\\\"2016-03-19 18:30:39\\\",\\\"text\\\":\\\"b'@MileHighWillY being fixed'\\\"}\"</td></tr><tr><td>\"{\\\"id_str\\\":276194361442705408,\\\"created_at\\\":\\\"2012-12-05 05:20:41\\\",\\\"text\\\":\\\"b'Interesting possible answer to the Fermi Paradox \\\\\\\\nhttp:\\\\/\\\\/t.co\\\\/ASZdxBAl'\\\"}\"</td></tr><tr><td>\"{\\\"id_str\\\":275835562076811264,\\\"created_at\\\":\\\"2012-12-04 05:34:57\\\",\\\"text\\\":\\\"b'RT @Slate: New government study says we could save billions by replacing dollar bills with coins. New study is wrong: http:\\\\/\\\\/t.co\\\\/QgwH0bSh'\\\"}\"</td></tr><tr><td>\"{\\\"id_str\\\":275821969415483393,\\\"created_at\\\":\\\"2012-12-04 04:40:56\\\",\\\"text\\\":\\\"b'Am happy to report that Tesla was narrowly cash flow positive last week. Continued improvement expected through year end.'\\\"}\"</td></tr><tr><td>\"{\\\"id_str\\\":275346615634624514,\\\"created_at\\\":\\\"2012-12-02 21:12:03\\\",\\\"text\\\":\\\"b'Uranium ore now available on Amazon! So much more convenient than Uzbekistan #AwesomeXmasGifts http:\\\\/\\\\/t.co\\\\/jqWAJrnY'\\\"}\"</td></tr><tr><td>\"{\\\"id_str\\\":274090388669734912,\\\"created_at\\\":\\\"2012-11-29 10:00:15\\\",\\\"text\\\":\\\"b'@shervin Thanks Shervin!'\\\"}\"</td></tr><tr><td>\"{\\\"id_str\\\":273671124909432833,\\\"created_at\\\":\\\"2012-11-28 06:14:15\\\",\\\"text\\\":\\\"b'RT @TheEconomist: Mexico is changing in ways that will profoundly affect America http:\\\\/\\\\/t.co\\\\/icj9xRYE'\\\"}\"</td></tr><tr><td>\"{\\\"id_str\\\":273596976526942209,\\\"created_at\\\":\\\"2012-11-28 01:19:37\\\",\\\"text\\\":\\\"b\\\\\\\"Can't put my finger on it, but for some reason the newsstand is looking particularly good right now http:\\\\/\\\\/t.co\\\\/gRARJ3xy\\\\\\\"\\\"}\"</td></tr><tr><td>\"{\\\"id_str\\\":273486358411087872,\\\"created_at\\\":\\\"2012-11-27 18:00:03\\\",\\\"text\\\":\\\"b'But if humanity wishes to become a multi-planet species, then we must figure out how to move millions of people to Mars.'\\\"}\"</td></tr><tr><td>\"{\\\"id_str\\\":273485219162648576,\\\"created_at\\\":\\\"2012-11-27 17:55:32\\\",\\\"text\\\":\\\"b'And, yes, I do in fact know that this sounds crazy. That is not lost on me. Nor I do think SpaceX will do this alone.'\\\"}\"</td></tr><tr><td>\"{\\\"id_str\\\":273483420468932608,\\\"created_at\\\":\\\"2012-11-27 17:48:23\\\",\\\"text\\\":\\\"b'Millions of people needed for Mars colony, so 80k+ would just be the number moving to Mars per year http:\\\\/\\\\/t.co\\\\/rwMuzVEK'\\\"}\"</td></tr><tr><td>\"{\\\"id_str\\\":828292953798012932,\\\"created_at\\\":\\\"2017-02-05 17:23:23\\\",\\\"text\\\":\\\"b'@RealPhillipPoon Needs a major overhaul'\\\"}\"</td></tr><tr><td>\"{\\\"id_str\\\":828292305522192384,\\\"created_at\\\":\\\"2017-02-05 17:20:49\\\",\\\"text\\\":\\\"b'@BenCam137 @FifthRocket Exactly'\\\"}\"</td></tr><tr><td>\"{\\\"id_str\\\":828291884858691584,\\\"created_at\\\":\\\"2017-02-05 17:19:08\\\",\\\"text\\\":\\\"b'@AanstadGard Norway is great on all levels. Love Norway!'\\\"}\"</td></tr><tr><td>\"{\\\"id_str\\\":828291645548408833,\\\"created_at\\\":\\\"2017-02-05 17:18:11\\\",\\\"text\\\":\\\"b'@BullFlags Yeah. And Twitter is a hater Hellscape.'\\\"}\"</td></tr><tr><td>\"{\\\"id_str\\\":828291190965551106,\\\"created_at\\\":\\\"2017-02-05 17:16:23\\\",\\\"text\\\":\\\"b'@W4AS Good grief, I\\\\\\\\'m not \\\\\\\"working\\\\\\\" for Trump. I\\\\\\\\'m trying to provide advice that helps take things in a more positive direction.'\\\"}\"</td></tr><tr><td>\"{\\\"id_str\\\":828290224069419010,\\\"created_at\\\":\\\"2017-02-05 17:12:32\\\",\\\"text\\\":\\\"b\\\\\\\"@BitterMercy @CallumK24 Actually, I think it's kinda cool :)\\\\\\\"\\\"}\"</td></tr><tr><td>\"{\\\"id_str\\\":828289948767895552,\\\"created_at\\\":\\\"2017-02-05 17:11:27\\\",\\\"text\\\":\\\"b\\\\\\\"@EricHaegler @iLexomat Isn't that basically like having a jury of peers? That is a default option in the US.\\\\\\\"\\\"}\"</td></tr><tr><td>\"{\\\"id_str\\\":828289487075733504,\\\"created_at\\\":\\\"2017-02-05 17:09:37\\\",\\\"text\\\":\\\"b\\\\\\\"@vladsavov Those countries have strong justice systems, but I'd put them roughly on par with US. That rating system conflates many factors.\\\\\\\"\\\"}\"</td></tr><tr><td>\"{\\\"id_str\\\":828287608614744064,\\\"created_at\\\":\\\"2017-02-05 17:02:09\\\",\\\"text\\\":\\\"b'@FifthRocket Did you read my tweets? I attacked it hard. Did not defend.'\\\"}\"</td></tr><tr><td>\"{\\\"id_str\\\":828287354741936130,\\\"created_at\\\":\\\"2017-02-05 17:01:08\\\",\\\"text\\\":\\\"b\\\\\\\"@KENEMONICS You're right. Politics is a no-win situation. Somebody is going to hate what you say no matter what that is.\\\\\\\"\\\"}\"</td></tr><tr><td>\"{\\\"id_str\\\":157599662159835136,\\\"created_at\\\":\\\"2012-01-12 23:07:42\\\",\\\"text\\\":\\\"b\\\\\\\"What is more magical than cowboys herding cats? Livin' the dream...  http:\\\\/\\\\/t.co\\\\/1pLhb9lc\\\\\\\"\\\"}\"</td></tr><tr><td>\"{\\\"id_str\\\":157569537548623872,\\\"created_at\\\":\\\"2012-01-12 21:07:59\\\",\\\"text\\\":\\\"b'Kids these days are so grown up! RT \\\\\\\"Second-Graders Wow Audience With School Production Of Equus\\\\\\\" http:\\\\/\\\\/t.co\\\\/YgyAIrwI'\\\"}\"</td></tr><tr><td>\"{\\\"id_str\\\":157292663601758208,\\\"created_at\\\":\\\"2012-01-12 02:47:48\\\",\\\"text\\\":\\\"b'Model S Performance powertrain produced so much torque today that we broke the dyno. 4.4 sec 0-60 mph will not be a problem.'\\\"}\"</td></tr><tr><td>\"{\\\"id_str\\\":156927468836630528,\\\"created_at\\\":\\\"2012-01-11 02:36:39\\\",\\\"text\\\":\\\"b'The exec conf room at Tesla used to be called Denali, but I decided to move a few letters around. Seemed more apt :) http:\\\\/\\\\/t.co\\\\/Raq5UaR6'\\\"}\"</td></tr><tr><td>\"{\\\"id_str\\\":155380533533220864,\\\"created_at\\\":\\\"2012-01-06 20:09:40\\\",\\\"text\\\":\\\"b'Model S Signature series sold out as of today https:\\\\/\\\\/t.co\\\\/pKbR0ziP'\\\"}\"</td></tr><tr><td>\"{\\\"id_str\\\":155340355884167169,\\\"created_at\\\":\\\"2012-01-06 17:30:01\\\",\\\"text\\\":\\\"b'Next month is also when our Dragon spaceship docks with the Space Station for the first time. Major pucker factor...'\\\"}\"</td></tr><tr><td>\"{\\\"id_str\\\":155339851812700160,\\\"created_at\\\":\\\"2012-01-06 17:28:01\\\",\\\"text\\\":\\\"b'Feb is huge month. Model X world premier and public reveal of our LA design studio on the 9th. Stay tuned for more details.'\\\"}\"</td></tr><tr><td>\"{\\\"id_str\\\":154313189079777280,\\\"created_at\\\":\\\"2012-01-03 21:28:25\\\",\\\"text\\\":\\\"b\\\\\\\"Just finished Massie's book on Catherine. An amazingly expansive and compelling portrait of an incredible woman. Highly recommend.\\\\\\\"\\\"}\"</td></tr><tr><td>\"{\\\"id_str\\\":154307255536324608,\\\"created_at\\\":\\\"2012-01-03 21:04:51\\\",\\\"text\\\":\\\"b\\\\\\\"@om Respectfully disagree. Larry  made awesome moves last year, which laid the foundation for G+ to kick butt in 2012. He's a stud.\\\\\\\"\\\"}\"</td></tr><tr><td>\"{\\\"id_str\\\":154094195089473536,\\\"created_at\\\":\\\"2012-01-03 06:58:13\\\",\\\"text\\\":\\\"b\\\\\\\"What everyone really thinks ... RT \\\\\\\\xe2\\\\\\\\x80\\\\\\\\x9c@jonlovett: If Mayans were good at predicting the future, there'd be Mayans.\\\\\\\\xe2\\\\\\\\x80\\\\\\\\x9d\\\\\\\"\\\"}\"</td></tr><tr><td>\"{\\\"id_str\\\":168056133708283904,\\\"created_at\\\":\\\"2012-02-10 19:38:00\\\",\\\"text\\\":\\\"b'Tesla Model X is 3rd most searched term on Google, right after purple squirrel. Damn you squirrel! http:\\\\/\\\\/t.co\\\\/jP9H5XrB'\\\"}\"</td></tr><tr><td>\"{\\\"id_str\\\":168022238061268993,\\\"created_at\\\":\\\"2012-02-10 17:23:17\\\",\\\"text\\\":\\\"b'Tesla Model X video  http:\\\\/\\\\/t.co\\\\/pjcaicOc'\\\"}\"</td></tr><tr><td>\"{\\\"id_str\\\":168014307009892354,\\\"created_at\\\":\\\"2012-02-10 16:51:47\\\",\\\"text\\\":\\\"b\\\\\\\"@TeslasBigFan Don't worry, we've got a cool solution for ski storage on the X with the Falcon wing doors\\\\\\\"\\\"}\"</td></tr><tr><td>\"{\\\"id_str\\\":167699464134475776,\\\"created_at\\\":\\\"2012-02-09 20:00:42\\\",\\\"text\\\":\\\"b'Btw, Foster the People is playing the Model X event tonight. Seemed like the right vibe.'\\\"}\"</td></tr><tr><td>\"{\\\"id_str\\\":167648387313840128,\\\"created_at\\\":\\\"2012-02-09 16:37:45\\\",\\\"text\\\":\\\"b'Model X sketch showing just a bit more leg. Unveiling tonight... http:\\\\/\\\\/t.co\\\\/KASHBP5p'\\\"}\"</td></tr><tr><td>\"{\\\"id_str\\\":167357401815715840,\\\"created_at\\\":\\\"2012-02-08 21:21:28\\\",\\\"text\\\":\\\"b'RT @SpaceX: Photo Update: Dragon complete with trunk at the SpaceX hangar, preparations continue for the historic mission ahead. http:\\\\/\\\\/ ...'\\\"}\"</td></tr><tr><td>\"{\\\"id_str\\\":167325254451081216,\\\"created_at\\\":\\\"2012-02-08 19:13:44\\\",\\\"text\\\":\\\"b'Cool new @NASA pic of the most powerful type of solar flare, called X-class. Am not making this up! http:\\\\/\\\\/t.co\\\\/eJKSQqvO'\\\"}\"</td></tr><tr><td>\"{\\\"id_str\\\":167105458753118208,\\\"created_at\\\":\\\"2012-02-08 04:40:20\\\",\\\"text\\\":\\\"b\\\\\\\"Russia and China are blocking UN action. Can't imagine why they wouldn't support a democratic uprising...\\\\\\\"\\\"}\"</td></tr><tr><td>\"{\\\"id_str\\\":167104295504838656,\\\"created_at\\\":\\\"2012-02-08 04:35:43\\\",\\\"text\\\":\\\"b'Wish there was something we could do to help the people of Syria.   http:\\\\/\\\\/t.co\\\\/Ii7v7Cgw'\\\"}\"</td></tr><tr><td>\"{\\\"id_str\\\":166781555950354432,\\\"created_at\\\":\\\"2012-02-07 07:13:16\\\",\\\"text\\\":\\\"b'@BenToBeWild Yes, we will unveil a fully functional advanced prototype of the Model X -- almost identical to production.'\\\"}\"</td></tr><tr><td>\"{\\\"id_str\\\":845355766357737472,\\\"created_at\\\":\\\"2017-03-24 19:24:55\\\",\\\"text\\\":\\\"b'@nickbaum I believe so'\\\"}\"</td></tr><tr><td>\"{\\\"id_str\\\":845337811876114432,\\\"created_at\\\":\\\"2017-03-24 18:13:34\\\",\\\"text\\\":\\\"b'@nddugan Yup'\\\"}\"</td></tr><tr><td>\"{\\\"id_str\\\":845331893176324096,\\\"created_at\\\":\\\"2017-03-24 17:50:03\\\",\\\"text\\\":\\\"b'@Mr_Ewe_Guy Oh so little faith'\\\"}\"</td></tr><tr><td>\"{\\\"id_str\\\":845325721455149056,\\\"created_at\\\":\\\"2017-03-24 17:25:32\\\",\\\"text\\\":\\\"b'@kryniog The shorter wheelbase only allows for a 75 kWh pack in Model 3 at current cell\\\\/module energy densities'\\\"}\"</td></tr><tr><td>\"{\\\"id_str\\\":845294849049870337,\\\"created_at\\\":\\\"2017-03-24 15:22:51\\\",\\\"text\\\":\\\"b'RT @PokerVixen: @elonmusk I\\\\\\\\'m so unbelievably happy with my Model S. When people ask if l like it I respond \\\\\\\"No, I love it! \\\\\\\\xf0\\\\\\\\x9f\\\\\\\\x98\\\\\\\\x8d it\\\\\\\\'s amazing!\\\\\\\\xe2\\\\\\\\x80\\\\\\\\xa6'\\\"}\"</td></tr><tr><td>\"{\\\"id_str\\\":845294411072204801,\\\"created_at\\\":\\\"2017-03-24 15:21:07\\\",\\\"text\\\":\\\"b'RT @RH_Way: @elonmusk Our 85 hit the guardrails at well over 160km\\\\/h. Tessi absorbed impact, wife and baby are ok. Best car ever &amp; Member o\\\\\\\\xe2\\\\\\\\x80\\\\\\\\xa6'\\\"}\"</td></tr><tr><td>\"{\\\"id_str\\\":845294161125269505,\\\"created_at\\\":\\\"2017-03-24 15:20:07\\\",\\\"text\\\":\\\"b'@ToddGerkens Yeah'\\\"}\"</td></tr><tr><td>\"{\\\"id_str\\\":845293825715154945,\\\"created_at\\\":\\\"2017-03-24 15:18:47\\\",\\\"text\\\":\\\"b'@HolsMichael Start taking orders in April'\\\"}\"</td></tr><tr><td>\"{\\\"id_str\\\":845293157977767937,\\\"created_at\\\":\\\"2017-03-24 15:16:08\\\",\\\"text\\\":\\\"b'@dr_angus Yeah, probably a year from now. S will still win on acceleration though, due to having more space for a larger battery.'\\\"}\"</td></tr><tr><td>\"{\\\"id_str\\\":845292886623109120,\\\"created_at\\\":\\\"2017-03-24 15:15:03\\\",\\\"text\\\":\\\"b'RT @morrisonbrett: @elonmusk First batch Model S P85D for me, Grey. Signature Model X P90D for wife, Triple White. Best vehicles in the wor\\\\\\\\xe2\\\\\\\\x80\\\\\\\\xa6'\\\"}\"</td></tr><tr><td>\"{\\\"id_str\\\":306193893890863104,\\\"created_at\\\":\\\"2013-02-26 00:08:07\\\",\\\"text\\\":\\\"b'Rocket static fire @SpaceX Cape Canaveral launch pad looks good. Engines generated 433 tons of thrust, parameters nominal.'\\\"}\"</td></tr><tr><td>\"{\\\"id_str\\\":305971647561752576,\\\"created_at\\\":\\\"2013-02-25 09:25:00\\\",\\\"text\\\":\\\"b'@FaeLoba Best is winning competitions like Formula SAE, design\\\\/build\\\\/fly or other evidence of exceptional eng ability'\\\"}\"</td></tr><tr><td>\"{\\\"id_str\\\":305172926762725376,\\\"created_at\\\":\\\"2013-02-23 04:31:10\\\",\\\"text\\\":\\\"b'@EricIdle Cool! Btw, thought you might appreciate that 1st flight of Dragon spacecraft carried a large wheel of cheese :)'\\\"}\"</td></tr><tr><td>\"{\\\"id_str\\\":304988995836862465,\\\"created_at\\\":\\\"2013-02-22 16:20:17\\\",\\\"text\\\":\\\"b'RT @NASA: Want to join us and cover the next @SpaceX launch on March 1? Now you can apply for a #NASASocial Media Credential http:\\\\/\\\\/t.co ...'\\\"}\"</td></tr><tr><td>\"{\\\"id_str\\\":304482819709751296,\\\"created_at\\\":\\\"2013-02-21 06:48:55\\\",\\\"text\\\":\\\"b'RT @lenfeldman: .@NYTjamescobb @elonmusk  As your own public editor pointed out, @jbrodernyt was far from a \\\\\\\"consummate pro,\\\\\\\" and you fa ...'\\\"}\"</td></tr><tr><td>\"{\\\"id_str\\\":304004275921625090,\\\"created_at\\\":\\\"2013-02-19 23:07:22\\\",\\\"text\\\":\\\"b'Thanks @CNBC! \\\\\\\\xe2\\\\\\\\x80\\\\\\\\x9c@Lebeaucarnews: The Model S delivered what @elonmusk promised. A ride to make you re-think going electric.\\\\\\\\xe2\\\\\\\\x80\\\\\\\\x9d'\\\"}\"</td></tr><tr><td>\"{\\\"id_str\\\":303585941304537090,\\\"created_at\\\":\\\"2013-02-18 19:25:03\\\",\\\"text\\\":\\\"b'Appreciate thoughtful @Sulliview article. Faith in @nytimes restored.'\\\"}\"</td></tr><tr><td>\"{\\\"id_str\\\":303575474150465538,\\\"created_at\\\":\\\"2013-02-18 18:43:27\\\",\\\"text\\\":\\\"b'RT @YaelTAbouhalkah: Interesting: @nytimes public editor sides (mostly) with #Tesla. RT @Sulliview My thoughts on thorny problem: http:\\\\/ ...'\\\"}\"</td></tr><tr><td>\"{\\\"id_str\\\":303343908379836417,\\\"created_at\\\":\\\"2013-02-18 03:23:18\\\",\\\"text\\\":\\\"b'RT @TeslaRoadTrip: #TeslaRoadTrip All - thanks so much for following our twitter feed.  The trip was a success and everyone has diverted ...'\\\"}\"</td></tr><tr><td>\"{\\\"id_str\\\":303244501957365760,\\\"created_at\\\":\\\"2013-02-17 20:48:17\\\",\\\"text\\\":\\\"b'RT @LawrenceChanin: @TeslaRoadTrip @avantgame @TEDchris @elonmusk @nytimes   \\\\\\\\nThe driving public is the winner thanks to the efforts of  ...'\\\"}\"</td></tr><tr><td>\"{\\\"id_str\\\":658358303454420992,\\\"created_at\\\":\\\"2015-10-25 19:03:45\\\",\\\"text\\\":\\\"b'@abrax4s Yes, establishing charging and service infrastructure in Mexico now. Official launch in next several months.'\\\"}\"</td></tr><tr><td>\"{\\\"id_str\\\":658357909265362944,\\\"created_at\\\":\\\"2015-10-25 19:02:11\\\",\\\"text\\\":\\\"b'@javashri Auto import duties are prohibitively high. Hoping for a special category for EVs. Most of our discussion was about batteries.'\\\"}\"</td></tr><tr><td>\"{\\\"id_str\\\":658357058106822656,\\\"created_at\\\":\\\"2015-10-25 18:58:48\\\",\\\"text\\\":\\\"b'@roneijlander We just finished building a huge expansion in Tilburg!'\\\"}\"</td></tr><tr><td>\"{\\\"id_str\\\":658356679793205248,\\\"created_at\\\":\\\"2015-10-25 18:57:18\\\",\\\"text\\\":\\\"b\\\\\\\"These are all things I've said before and are naturally needed to improve in-market affordability, so no real news here.\\\\\\\"\\\"}\"</td></tr><tr><td>\"{\\\"id_str\\\":658356079026270208,\\\"created_at\\\":\\\"2015-10-25 18:54:55\\\",\\\"text\\\":\\\"b'Model 3 is due in ~2 yrs. A China factory for local demand cd be as soon as a year after. A factory in Europe wd happen for same reason.'\\\"}\"</td></tr><tr><td>\"{\\\"id_str\\\":658354915824173056,\\\"created_at\\\":\\\"2015-10-25 18:50:18\\\",\\\"text\\\":\\\"b\\\\\\\"My comments in China weren't transcribed correctly. Tesla will keep making cars &amp; batteries in CA &amp; NV as far into future as I can imagine.\\\\\\\"\\\"}\"</td></tr><tr><td>\"{\\\"id_str\\\":657704144267059200,\\\"created_at\\\":\\\"2015-10-23 23:44:22\\\",\\\"text\\\":\\\"b'@JessicaTetreau important to set AC to not recirc (air exits thru rear) and use the snap in shade, which Tesla service can provide'\\\"}\"</td></tr><tr><td>\"{\\\"id_str\\\":657702829398822912,\\\"created_at\\\":\\\"2015-10-23 23:39:08\\\",\\\"text\\\":\\\"b'@shanenickerson Amount of change needed is enormous - like a spinal cord transplant. Would cost less and work better with a new car.'\\\"}\"</td></tr><tr><td>\"{\\\"id_str\\\":657686500310700032,\\\"created_at\\\":\\\"2015-10-23 22:34:15\\\",\\\"text\\\":\\\"b'Autopilot 1.01 coming soon: curve speed adaption, controller smoothness, better lane holding on poor roads, improved fleet learning!'\\\"}\"</td></tr><tr><td>\"{\\\"id_str\\\":657685372579745793,\\\"created_at\\\":\\\"2015-10-23 22:29:46\\\",\\\"text\\\":\\\"b'Regulatory approvals received, so Autopilot rolling out to all countries! (Excluding Japan, which is still under review)'\\\"}\"</td></tr><tr><td>\"{\\\"id_str\\\":738544730573672448,\\\"created_at\\\":\\\"2016-06-03 01:35:59\\\",\\\"text\\\":\\\"b\\\\\\\"RT @SpaceX: It's a bird, it's a plane... https:\\\\/\\\\/t.co\\\\/hdpkXTvLm3\\\\\\\"\\\"}\"</td></tr><tr><td>\"{\\\"id_str\\\":738471747540783104,\\\"created_at\\\":\\\"2016-06-02 20:45:59\\\",\\\"text\\\":\\\"b'@mattyteare @karaswisher @waltmossberg @YouTube autosteering chutes will be added soon'\\\"}\"</td></tr><tr><td>\"{\\\"id_str\\\":738470842695176192,\\\"created_at\\\":\\\"2016-06-02 20:42:23\\\",\\\"text\\\":\\\"b'Recode interview with @karaswisher and @waltmossberg https:\\\\/\\\\/t.co\\\\/BDqQ7RreV2 via @YouTube'\\\"}\"</td></tr><tr><td>\"{\\\"id_str\\\":738191872502423552,\\\"created_at\\\":\\\"2016-06-02 02:13:52\\\",\\\"text\\\":\\\"b\\\\\\\"Supercharger policy explained well by @LATimes:\\\\\\\\n\\\\\\\\nhttps:\\\\/\\\\/t.co\\\\/F0CInMW1yU\\\\\\\\n\\\\\\\\nWill post detailed description soon. I think it's a good balance.\\\\\\\"\\\"}\"</td></tr><tr><td>\"{\\\"id_str\\\":737859967450021889,\\\"created_at\\\":\\\"2016-06-01 04:14:59\\\",\\\"text\\\":\\\"b'Good summary of Tesla annual meeting by @katiefehren https:\\\\/\\\\/t.co\\\\/G3enS77hJ7'\\\"}\"</td></tr><tr><td>\"{\\\"id_str\\\":737102578828206080,\\\"created_at\\\":\\\"2016-05-30 02:05:24\\\",\\\"text\\\":\\\"b'@iwanttobeanurse Sorry to hear that. Will take care of this &amp; investigate to see if issues you encountered are systemic.'\\\"}\"</td></tr><tr><td>\"{\\\"id_str\\\":736787058170068993,\\\"created_at\\\":\\\"2016-05-29 05:11:38\\\",\\\"text\\\":\\\"b'So it was good for you too ... https:\\\\/\\\\/t.co\\\\/9cxo39N1lQ'\\\"}\"</td></tr><tr><td>\"{\\\"id_str\\\":736380977354657792,\\\"created_at\\\":\\\"2016-05-28 02:18:00\\\",\\\"text\\\":\\\"b\\\\\\\"Fast replay of today's rocket landing on SpaceX droneship OCISLY\\\\\\\\nhttps:\\\\/\\\\/t.co\\\\/I0QQ2D3BtE\\\\\\\"\\\"}\"</td></tr><tr><td>\"{\\\"id_str\\\":736373856823181312,\\\"created_at\\\":\\\"2016-05-28 01:49:43\\\",\\\"text\\\":\\\"b'@dfjsteve Very similar. The crush core in the Falcon legs is reusable after soft landings, but needs to be replaced after hard.'\\\"}\"</td></tr><tr><td>\"{\\\"id_str\\\":736328917317910528,\\\"created_at\\\":\\\"2016-05-27 22:51:08\\\",\\\"text\\\":\\\"b'Crush core is aluminum honeycomb for energy absorption in the telescoping actuator. Easy to replace (if Falcon makes it back to port).'\\\"}\"</td></tr><tr><td>\"{\\\"id_str\\\":495760430870978561,\\\"created_at\\\":\\\"2014-08-03 02:37:52\\\",\\\"text\\\":\\\"b'@IrrelevantGamer @masseffect Mass Effect 2 is one of the best games ever. Also love Saints Row IV.'\\\"}\"</td></tr><tr><td>\"{\\\"id_str\\\":495759307346952192,\\\"created_at\\\":\\\"2014-08-03 02:33:24\\\",\\\"text\\\":\\\"b'Worth reading Superintelligence by Bostrom. We need to be super careful with AI. Potentially more dangerous than nukes.'\\\"}\"</td></tr><tr><td>\"{\\\"id_str\\\":495739993600450560,\\\"created_at\\\":\\\"2014-08-03 01:16:39\\\",\\\"text\\\":\\\"b'Guardians of the Galaxy is great. Best line is when Star-Lord says his spaceship looks like a Jackson Pollock painting under black light.'\\\"}\"</td></tr><tr><td>\"{\\\"id_str\\\":493084094532956160,\\\"created_at\\\":\\\"2014-07-26 17:23:03\\\",\\\"text\\\":\\\"b'On annual camping trip w kids. Trying a place just south of Carmel in California this year.'\\\"}\"</td></tr><tr><td>\"{\\\"id_str\\\":491814548760825857,\\\"created_at\\\":\\\"2014-07-23 05:18:20\\\",\\\"text\\\":\\\"b'RT @R_Rojas_Leon: La selfie del monito ... http:\\\\/\\\\/t.co\\\\/2tAJxr5g0r'\\\"}\"</td></tr><tr><td>\"{\\\"id_str\\\":491796248148455425,\\\"created_at\\\":\\\"2014-07-23 04:05:37\\\",\\\"text\\\":\\\"b'\\\\\\\\xe2\\\\\\\\x80\\\\\\\\x9c@SpaceX: Soft water landing of Falcon 9 rocket booster. http:\\\\/\\\\/t.co\\\\/VxBqBZhHmO\\\\\\\\n\\\\\\\\nFull update: http:\\\\/\\\\/t.co\\\\/nH8UqOmN9h\\\\\\\\xe2\\\\\\\\x80\\\\\\\\x9d'\\\"}\"</td></tr><tr><td>\"{\\\"id_str\\\":490325897820381185,\\\"created_at\\\":\\\"2014-07-19 02:42:58\\\",\\\"text\\\":\\\"b'Looks like body slam, maybe from a self-generated wave'\\\"}\"</td></tr><tr><td>\"{\\\"id_str\\\":488719729599578112,\\\"created_at\\\":\\\"2014-07-14 16:20:38\\\",\\\"text\\\":\\\"b'Detailed review of rocket telemetry needed to tell if due to initial splashdown or subsequent tip over and body slam'\\\"}\"</td></tr><tr><td>\"{\\\"id_str\\\":488718649515986944,\\\"created_at\\\":\\\"2014-07-14 16:16:20\\\",\\\"text\\\":\\\"b'Rocket booster reentry, landing burn &amp; leg deploy were good, but lost hull integrity right after splashdown (aka kaboom)'\\\"}\"</td></tr><tr><td>\"{\\\"id_str\\\":488717037674311682,\\\"created_at\\\":\\\"2014-07-14 16:09:56\\\",\\\"text\\\":\\\"b'Flight 10 of Falcon 9 was good. All six ORBCOMM satellites deployed on target.'\\\"}\"</td></tr><tr><td>\"{\\\"id_str\\\":799328920852000768,\\\"created_at\\\":\\\"2016-11-17 19:10:40\\\",\\\"text\\\":\\\"b'RT @TheEconomist: New data show that 2016 is on course to be the hottest year ever recorded https:\\\\/\\\\/t.co\\\\/a6xA3qr7MF https:\\\\/\\\\/t.co\\\\/WS2WMVXv0J'\\\"}\"</td></tr><tr><td>\"{\\\"id_str\\\":799120535896485888,\\\"created_at\\\":\\\"2016-11-17 05:22:37\\\",\\\"text\\\":\\\"b'@Contra_9077 sounds right'\\\"}\"</td></tr><tr><td>\"{\\\"id_str\\\":799049461515198464,\\\"created_at\\\":\\\"2016-11-17 00:40:11\\\",\\\"text\\\":\\\"b\\\\\\\"RT @tsrandall: Tesla's new Easter egg makes the world's fastest car even faster https:\\\\/\\\\/t.co\\\\/fmQguxYCHM https:\\\\/\\\\/t.co\\\\/m24jqdTJzF\\\\\\\"\\\"}\"</td></tr><tr><td>\"{\\\"id_str\\\":798984693844541440,\\\"created_at\\\":\\\"2016-11-16 20:22:50\\\",\\\"text\\\":\\\"b'@ArminKeyani All P100D vehicles produced to date, as well as new. This is purely a software optimization.'\\\"}\"</td></tr><tr><td>\"{\\\"id_str\\\":798984120336465920,\\\"created_at\\\":\\\"2016-11-16 20:20:33\\\",\\\"text\\\":\\\"b'Model X numbers should also improve by 0.1 sec on 0 to 60 and 1\\\\/4 mile'\\\"}\"</td></tr><tr><td>\"{\\\"id_str\\\":798980894543343616,\\\"created_at\\\":\\\"2016-11-16 20:07:44\\\",\\\"text\\\":\\\"b'Looks like the Model S P100D Easter egg will allow it to do 0 to 60 mph in 2.4 sec and a 10.6 sec 1\\\\/4 mile via software update next month'\\\"}\"</td></tr><tr><td>\"{\\\"id_str\\\":798950716450574336,\\\"created_at\\\":\\\"2016-11-16 18:07:49\\\",\\\"text\\\":\\\"b\\\\\\\"@AustenAllred Wow, thanks. We won't let you down.\\\\\\\"\\\"}\"</td></tr><tr><td>\"{\\\"id_str\\\":798886670468644865,\\\"created_at\\\":\\\"2016-11-16 13:53:19\\\",\\\"text\\\":\\\"b'@ID_AA_Carmack we could enable that, although the cameras use grey, grey, grey, red detection, so it would look a little greyish red :)'\\\"}\"</td></tr><tr><td>\"{\\\"id_str\\\":798768530254491648,\\\"created_at\\\":\\\"2016-11-16 06:03:52\\\",\\\"text\\\":\\\"b'RT @NatGeo: Watch: When humans live on Mars, what exactly will they call home? \\\\\\\\nhttps:\\\\/\\\\/t.co\\\\/QlJBuB6FX2 #CountdownToMars'\\\"}\"</td></tr><tr><td>\"{\\\"id_str\\\":798768113651040256,\\\"created_at\\\":\\\"2016-11-16 06:02:13\\\",\\\"text\\\":\\\"b'RT @RealRonHoward: MARS airs tonight on the @NatGeo   Hope you get to watch it.  https:\\\\/\\\\/t.co\\\\/7ObsMhuSnU'\\\"}\"</td></tr><tr><td>\"{\\\"id_str\\\":818090148608868353,\\\"created_at\\\":\\\"2017-01-08 13:41:05\\\",\\\"text\\\":\\\"b'New rev for Autopilot HW2 rolling out Mon to first 1000 &amp; to rest of fleet in shadow mode. Also improves HW1 and enables Ludicrous+.'\\\"}\"</td></tr><tr><td>\"{\\\"id_str\\\":817580438558359552,\\\"created_at\\\":\\\"2017-01-07 03:55:41\\\",\\\"text\\\":\\\"b'@fatihorhan @SpaceX That was a great game'\\\"}\"</td></tr><tr><td>\"{\\\"id_str\\\":817509115555643392,\\\"created_at\\\":\\\"2017-01-06 23:12:16\\\",\\\"text\\\":\\\"b'@pensasoda https:\\\\/\\\\/t.co\\\\/6Ies7xBuBs via @WIRED'\\\"}\"</td></tr><tr><td>\"{\\\"id_str\\\":817123579343028227,\\\"created_at\\\":\\\"2017-01-05 21:40:17\\\",\\\"text\\\":\\\"b'Hold-down firing of @SpaceX Falcon 9 at Vandenberg Air Force completed. All systems are go for launch next week.'\\\"}\"</td></tr><tr><td>\"{\\\"id_str\\\":815309075445485568,\\\"created_at\\\":\\\"2016-12-31 21:30:05\\\",\\\"text\\\":\\\"b'HW2 Autopilot software uploading to 1000 cars this eve. Will then hold to verify no field issues and upload to rest of fleet next week.'\\\"}\"</td></tr><tr><td>\"{\\\"id_str\\\":815026557282463744,\\\"created_at\\\":\\\"2016-12-31 02:47:28\\\",\\\"text\\\":\\\"b'@vicentes @DragTimes Late Jan, along with Linux kernel upgrade'\\\"}\"</td></tr><tr><td>\"{\\\"id_str\\\":815024796362686464,\\\"created_at\\\":\\\"2016-12-31 02:40:28\\\",\\\"text\\\":\\\"b'@DragTimes Yes, but held up by Autopilot . It def works tho in shaving 0.1 sec off 0-60mph &amp; 1\\\\/4 mile. If AP goes t\\\\\\\\xe2\\\\\\\\x80\\\\\\\\xa6 https:\\\\/\\\\/t.co\\\\/kbV8qGc1A5'\\\"}\"</td></tr><tr><td>\"{\\\"id_str\\\":815023208235560961,\\\"created_at\\\":\\\"2016-12-31 02:34:09\\\",\\\"text\\\":\\\"b'Resolving an Autopilot HW2 bug that shows up when booting from a subzero cold-soak. If that fix works, software will start uploading tmrw.'\\\"}\"</td></tr><tr><td>\"{\\\"id_str\\\":814919997088665600,\\\"created_at\\\":\\\"2016-12-30 19:44:02\\\",\\\"text\\\":\\\"b'Churchill (non) quotes \\\\\\\\nhttps:\\\\/\\\\/t.co\\\\/avA4YD6K6g'\\\"}\"</td></tr><tr><td>\"{\\\"id_str\\\":814837068987645952,\\\"created_at\\\":\\\"2016-12-30 14:14:30\\\",\\\"text\\\":\\\"b'RT @IridiumComm: Milestone Alert: The first ten #IridiumNEXT satellites are stacked and encapsulated in the Falcon 9 fairing. #NEXTevolutio\\\\\\\\xe2\\\\\\\\x80\\\\\\\\xa6'\\\"}\"</td></tr><tr><td>\"{\\\"id_str\\\":223429211443036160,\\\"created_at\\\":\\\"2012-07-12 14:50:49\\\",\\\"text\\\":\\\"b'Going at full speed! MT \\\\\\\\xe2\\\\\\\\x80\\\\\\\\x9c@iansomerhalder: Elon- you are my hero my friend.Please!Ramp up production on cars that use NO gas.\\\\\\\"'\\\"}\"</td></tr><tr><td>\"{\\\"id_str\\\":221503107182501889,\\\"created_at\\\":\\\"2012-07-07 07:17:10\\\",\\\"text\\\":\\\"b'Now back to work. Intense months ahead as we ramp production of rockets and cars.'\\\"}\"</td></tr><tr><td>\"{\\\"id_str\\\":220824194672369666,\\\"created_at\\\":\\\"2012-07-05 10:19:25\\\",\\\"text\\\":\\\"b\\\\\\\"Moonbow's are real, btw. I'm not on acid :) Here is what we saw: http:\\\\/\\\\/t.co\\\\/ux6fV6z7\\\\\\\"\\\"}\"</td></tr><tr><td>\"{\\\"id_str\\\":220784395282432001,\\\"created_at\\\":\\\"2012-07-05 07:41:16\\\",\\\"text\\\":\\\"b'Am standing on the beach in Maui and looking at a moon rainbow for the first time in my life. Incredibly beautiful.'\\\"}\"</td></tr><tr><td>\"{\\\"id_str\\\":219270969666174977,\\\"created_at\\\":\\\"2012-07-01 03:27:27\\\",\\\"text\\\":\\\"b'After 2008 meltdown, vacation for me just meant email with a view, but SpaceX &amp; Tesla are now strong enough that I can make it real (yay!!)'\\\"}\"</td></tr><tr><td>\"{\\\"id_str\\\":219266223895093248,\\\"created_at\\\":\\\"2012-07-01 03:08:36\\\",\\\"text\\\":\\\"b'Screening of Baseball in the Time of Cholera (dir: @brynmooser @daviddarg, prod @oliviawilde &amp; me) at WME July 12. @rainnwilson hosting'\\\"}\"</td></tr><tr><td>\"{\\\"id_str\\\":218897974242181121,\\\"created_at\\\":\\\"2012-06-30 02:45:18\\\",\\\"text\\\":\\\"b\\\\\\\"Thanks Dan, you are a good sportsman. I will still donate to DWB as though I'd lost. http:\\\\/\\\\/t.co\\\\/G2g6kpvm\\\\\\\"\\\"}\"</td></tr><tr><td>\"{\\\"id_str\\\":218887864769986560,\\\"created_at\\\":\\\"2012-06-30 02:05:08\\\",\\\"text\\\":\\\"b'RT @SpaceX: \\\\\\\"This Is Our Planet\\\\\\\" time-lapse video http:\\\\/\\\\/t.co\\\\/iVAriD40'\\\"}\"</td></tr><tr><td>\"{\\\"id_str\\\":218357987385933825,\\\"created_at\\\":\\\"2012-06-28 14:59:35\\\",\\\"text\\\":\\\"b'\\\\\\\"The Girl Who Fixed the Umlaut\\\\\\\" @NewYorker http:\\\\/\\\\/t.co\\\\/CnPg2PkG\\\\\\\\xe2\\\\\\\\x80\\\\\\\\x9d'\\\"}\"</td></tr><tr><td>\"{\\\"id_str\\\":217991440830173184,\\\"created_at\\\":\\\"2012-06-27 14:43:04\\\",\\\"text\\\":\\\"b'She was a great woman \\\\\\\\xe2\\\\\\\\x80\\\\\\\\x9c@VanityFair: In Memoriam, Nora Ephron, 1941-2012 http:\\\\/\\\\/t.co\\\\/raIoWXbb\\\\\\\\xe2\\\\\\\\x80\\\\\\\\x9d'\\\"}\"</td></tr><tr><td>\"{\\\"id_str\\\":835187686151315456,\\\"created_at\\\":\\\"2017-02-24 18:00:36\\\",\\\"text\\\":\\\"b'@davidshepardson @BW @ATT @ToysRUs Exactly :)'\\\"}\"</td></tr><tr><td>\"{\\\"id_str\\\":835185478512992256,\\\"created_at\\\":\\\"2017-02-24 17:51:49\\\",\\\"text\\\":\\\"b\\\\\\\"@meganmurp @ChrisFaile @BW I didn't pose for it (hopefully that's obvious) or want me on cover. Tunnel boring machine pic wd be way better\\\\\\\"\\\"}\"</td></tr><tr><td>\"{\\\"id_str\\\":835178020604301313,\\\"created_at\\\":\\\"2017-02-24 17:22:11\\\",\\\"text\\\":\\\"b'@adrianvolts Minor improvements update this weekend. High speed autosteer in about two weeks.'\\\"}\"</td></tr><tr><td>\"{\\\"id_str\\\":834740218531962881,\\\"created_at\\\":\\\"2017-02-23 12:22:31\\\",\\\"text\\\":\\\"b'Excellent Tesla Model X review https:\\\\/\\\\/t.co\\\\/wvog4Pbo1o'\\\"}\"</td></tr><tr><td>\"{\\\"id_str\\\":833411017065394176,\\\"created_at\\\":\\\"2017-02-19 20:20:45\\\",\\\"text\\\":\\\"b'Just posted a video https:\\\\/\\\\/t.co\\\\/RCV7MVi8rs'\\\"}\"</td></tr><tr><td>\"{\\\"id_str\\\":833332384913252352,\\\"created_at\\\":\\\"2017-02-19 15:08:17\\\",\\\"text\\\":\\\"b'https:\\\\/\\\\/t.co\\\\/6Ve3YJoStm'\\\"}\"</td></tr><tr><td>\"{\\\"id_str\\\":833332058453790720,\\\"created_at\\\":\\\"2017-02-19 15:06:59\\\",\\\"text\\\":\\\"b'Baby came back https:\\\\/\\\\/t.co\\\\/5FRhw3AT2b'\\\"}\"</td></tr><tr><td>\"{\\\"id_str\\\":833330869293035520,\\\"created_at\\\":\\\"2017-02-19 15:02:16\\\",\\\"text\\\":\\\"b'RT @SpaceX: Falcon 9 first stage has landed at LZ-1'\\\"}\"</td></tr><tr><td>\"{\\\"id_str\\\":833329896168370179,\\\"created_at\\\":\\\"2017-02-19 14:58:24\\\",\\\"text\\\":\\\"b'@mattnewby no'\\\"}\"</td></tr><tr><td>\"{\\\"id_str\\\":833329764232372224,\\\"created_at\\\":\\\"2017-02-19 14:57:52\\\",\\\"text\\\":\\\"b'RT @NASA: Right on schedule, solar arrays have been deployed on @SpaceX #Dragon cargo spacecraft. Watch: https:\\\\/\\\\/t.co\\\\/mzKW5uDsTi https:\\\\/\\\\/t.\\\\\\\\xe2\\\\\\\\x80\\\\\\\\xa6'\\\"}\"</td></tr><tr><td>\"{\\\"id_str\\\":337908857198235649,\\\"created_at\\\":\\\"2013-05-24 12:32:04\\\",\\\"text\\\":\\\"b\\\\\\\"@VarunG_ Belief in climate change isn't necessary. Even a small probability of a severe outcome justifies a carbon tax.\\\\\\\"\\\"}\"</td></tr><tr><td>\"{\\\"id_str\\\":337884269521281026,\\\"created_at\\\":\\\"2013-05-24 10:54:22\\\",\\\"text\\\":\\\"b'@karlbrauer Making rockets'\\\"}\"</td></tr><tr><td>\"{\\\"id_str\\\":337826546104537088,\\\"created_at\\\":\\\"2013-05-24 07:04:59\\\",\\\"text\\\":\\\"b\\\\\\\"@tonykatz Don't like having a zillion tweets in the log. Makes it tough to wade through if someone wants to read my tweet history.\\\\\\\"\\\"}\"</td></tr><tr><td>\"{\\\"id_str\\\":337795753797898240,\\\"created_at\\\":\\\"2013-05-24 05:02:38\\\",\\\"text\\\":\\\"b\\\\\\\"@SapientCapital We created electric cars to help solve the problem, not because we thought it was easy money. Still isn't.\\\\\\\"\\\"}\"</td></tr><tr><td>\"{\\\"id_str\\\":337791672295501824,\\\"created_at\\\":\\\"2013-05-24 04:46:25\\\",\\\"text\\\":\\\"b'And, since we will run out of oil anyway, why risk the future of all life on Earth simply to delay sustainable energy?'\\\"}\"</td></tr><tr><td>\"{\\\"id_str\\\":337789653233041408,\\\"created_at\\\":\\\"2013-05-24 04:38:23\\\",\\\"text\\\":\\\"b'Those who would deny climate change should ask themselves what happens if they are wrong http:\\\\/\\\\/t.co\\\\/S7fOIrly6B'\\\"}\"</td></tr><tr><td>\"{\\\"id_str\\\":337594277666377730,\\\"created_at\\\":\\\"2013-05-23 15:42:02\\\",\\\"text\\\":\\\"b'More importantly, @Chrysler failed to pay back $1.3B. Apart those 2 points, you were totally 1st http:\\\\/\\\\/t.co\\\\/0P2ZLDl67a'\\\"}\"</td></tr><tr><td>\"{\\\"id_str\\\":337592840743968768,\\\"created_at\\\":\\\"2013-05-23 15:36:20\\\",\\\"text\\\":\\\"b'As many have already noted, @Chrysler is a division of Fiat, an Italian company. We specifically said first *US* company.'\\\"}\"</td></tr><tr><td>\"{\\\"id_str\\\":337506956875010048,\\\"created_at\\\":\\\"2013-05-23 09:55:03\\\",\\\"text\\\":\\\"b'Interview with @BloombergNews about Tesla and DOE loan gets into some of the details http:\\\\/\\\\/t.co\\\\/xb0JVoPHNC'\\\"}\"</td></tr><tr><td>\"{\\\"id_str\\\":337323464241319936,\\\"created_at\\\":\\\"2013-05-22 21:45:55\\\",\\\"text\\\":\\\"b'Tesla wired the funds to repay the DOE loan today. Only US car company to have fully repaid govt http:\\\\/\\\\/t.co\\\\/jxHW9YkvPz'\\\"}\"</td></tr><tr><td>\"{\\\"id_str\\\":226703106170318850,\\\"created_at\\\":\\\"2012-07-21 15:40:07\\\",\\\"text\\\":\\\"b\\\\\\\"Am in Yellowstone at an Oxford style debate about women and society. I'm in favor :)\\\\\\\"\\\"}\"</td></tr><tr><td>\"{\\\"id_str\\\":225660118493196288,\\\"created_at\\\":\\\"2012-07-18 18:35:39\\\",\\\"text\\\":\\\"b'RT @SpaceX: Relive the most exciting moments from Dragon\\\\\\\\xe2\\\\\\\\x80\\\\\\\\x99s historic mission \\\\\\\\n http:\\\\/\\\\/t.co\\\\/YmKmkpKb'\\\"}\"</td></tr><tr><td>\"{\\\"id_str\\\":225187179763220480,\\\"created_at\\\":\\\"2012-07-17 11:16:22\\\",\\\"text\\\":\\\"b'\\\\\\\"Welcome qwerty monkey Jesus love\\\\\\\" are the top 5 most popular passwords after \\\\\\\"password\\\\\\\".  http:\\\\/\\\\/t.co\\\\/P2a9Cfcd'\\\"}\"</td></tr><tr><td>\"{\\\"id_str\\\":224406502188916739,\\\"created_at\\\":\\\"2012-07-15 07:34:14\\\",\\\"text\\\":\\\"b'Will publish something on the Hyperloop in about four weeks. Will forgo patents on the idea and just open source it. Not a vac tunnel btw.'\\\"}\"</td></tr><tr><td>\"{\\\"id_str\\\":224405461938601984,\\\"created_at\\\":\\\"2012-07-15 07:30:06\\\",\\\"text\\\":\\\"b'\\\\\\\"Most of us live in a semi-somnambulistic state &amp; the days fly by. The 2 exceptions are childhood and when we are in love.\\\\\\\" - RG'\\\"}\"</td></tr><tr><td>\"{\\\"id_str\\\":224005741810417665,\\\"created_at\\\":\\\"2012-07-14 05:01:46\\\",\\\"text\\\":\\\"b'Headed to a (ahem) volcano caldera. Since I didn\\\\\\\\'t finish my PhD, it\\\\\\\\'s actually \\\\\\\"Mr.\\\\\\\" Evil. http:\\\\/\\\\/t.co\\\\/e2cpsgEM'\\\"}\"</td></tr><tr><td>\"{\\\"id_str\\\":223430899004485634,\\\"created_at\\\":\\\"2012-07-12 14:57:32\\\",\\\"text\\\":\\\"b'@n23mc I think we will see people on Mars in less than 20 years. 12 to 15 years most likely. #OccupyMars'\\\"}\"</td></tr><tr><td>\"{\\\"id_str\\\":223429211443036160,\\\"created_at\\\":\\\"2012-07-12 14:50:49\\\",\\\"text\\\":\\\"b'Going at full speed! MT \\\\\\\\xe2\\\\\\\\x80\\\\\\\\x9c@iansomerhalder: Elon- you are my hero my friend.Please!Ramp up production on cars that use NO gas.\\\\\\\"'\\\"}\"</td></tr><tr><td>\"{\\\"id_str\\\":221503107182501889,\\\"created_at\\\":\\\"2012-07-07 07:17:10\\\",\\\"text\\\":\\\"b'Now back to work. Intense months ahead as we ramp production of rockets and cars.'\\\"}\"</td></tr><tr><td>\"{\\\"id_str\\\":220824194672369666,\\\"created_at\\\":\\\"2012-07-05 10:19:25\\\",\\\"text\\\":\\\"b\\\\\\\"Moonbow's are real, btw. I'm not on acid :) Here is what we saw: http:\\\\/\\\\/t.co\\\\/ux6fV6z7\\\\\\\"\\\"}\"</td></tr><tr><td>\"{\\\"id_str\\\":799754534696296448,\\\"created_at\\\":\\\"2016-11-18 23:21:54\\\",\\\"text\\\":\\\"b\\\\\\\"RT @TechCrunch: Watch Tesla Model S P85D's instant speed avoid a potential rear-end collision https:\\\\/\\\\/t.co\\\\/04uQqU0FzA by @etherington https\\\\\\\\xe2\\\\\\\\x80\\\\\\\\xa6\\\\\\\"\\\"}\"</td></tr><tr><td>\"{\\\"id_str\\\":799671408187961344,\\\"created_at\\\":\\\"2016-11-18 17:51:35\\\",\\\"text\\\":\\\"b'RT @garrett_bauman: .@TeslaMotors owners making $923 by renting their car 7 days out of the month on @turo, says CEO https:\\\\/\\\\/t.co\\\\/QPsAnhYLv\\\\\\\\xe2\\\\\\\\x80\\\\\\\\xa6'\\\"}\"</td></tr><tr><td>\"{\\\"id_str\\\":799670715397980160,\\\"created_at\\\":\\\"2016-11-18 17:48:50\\\",\\\"text\\\":\\\"b'@vicentes @TeslaMotors @FortuneMagazine big mobile app update coming with 8.1 next month'\\\"}\"</td></tr><tr><td>\"{\\\"id_str\\\":799670357535789056,\\\"created_at\\\":\\\"2016-11-18 17:47:25\\\",\\\"text\\\":\\\"b'RT @TeslaMotors: Battery solar farm to power the island of Kauai @FortuneMagazine https:\\\\/\\\\/t.co\\\\/rz2h6bp2Du'\\\"}\"</td></tr><tr><td>\"{\\\"id_str\\\":799517977049755648,\\\"created_at\\\":\\\"2016-11-18 07:41:54\\\",\\\"text\\\":\\\"b'RT @SpaceX: Successfully tested the prototype Mars tank last week. Hit both of our pressure targets \\\\\\\\xe2\\\\\\\\x80\\\\\\\\x93 next up will be full cryo testing. ht\\\\\\\\xe2\\\\\\\\x80\\\\\\\\xa6'\\\"}\"</td></tr><tr><td>\"{\\\"id_str\\\":799369292294725632,\\\"created_at\\\":\\\"2016-11-17 21:51:05\\\",\\\"text\\\":\\\"b'Vote tally shows ~85% of unaffiliated shareholders in favor of the Tesla\\\\/SolarCity merger! Thanks for believing.'\\\"}\"</td></tr><tr><td>\"{\\\"id_str\\\":799328920852000768,\\\"created_at\\\":\\\"2016-11-17 19:10:40\\\",\\\"text\\\":\\\"b'RT @TheEconomist: New data show that 2016 is on course to be the hottest year ever recorded https:\\\\/\\\\/t.co\\\\/a6xA3qr7MF https:\\\\/\\\\/t.co\\\\/WS2WMVXv0J'\\\"}\"</td></tr><tr><td>\"{\\\"id_str\\\":799120535896485888,\\\"created_at\\\":\\\"2016-11-17 05:22:37\\\",\\\"text\\\":\\\"b'@Contra_9077 sounds right'\\\"}\"</td></tr><tr><td>\"{\\\"id_str\\\":799049461515198464,\\\"created_at\\\":\\\"2016-11-17 00:40:11\\\",\\\"text\\\":\\\"b\\\\\\\"RT @tsrandall: Tesla's new Easter egg makes the world's fastest car even faster https:\\\\/\\\\/t.co\\\\/fmQguxYCHM https:\\\\/\\\\/t.co\\\\/m24jqdTJzF\\\\\\\"\\\"}\"</td></tr><tr><td>\"{\\\"id_str\\\":798984693844541440,\\\"created_at\\\":\\\"2016-11-16 20:22:50\\\",\\\"text\\\":\\\"b'@ArminKeyani All P100D vehicles produced to date, as well as new. This is purely a software optimization.'\\\"}\"</td></tr><tr><td>\"{\\\"id_str\\\":739509168722186241,\\\"created_at\\\":\\\"2016-06-05 17:28:19\\\",\\\"text\\\":\\\"b'@ahess247 @Recode I love Douglas Adams! My favorite spaceship ever is in HHGTTG.'\\\"}\"</td></tr><tr><td>\"{\\\"id_str\\\":739193563938856960,\\\"created_at\\\":\\\"2016-06-04 20:34:13\\\",\\\"text\\\":\\\"b'Exactly https:\\\\/\\\\/t.co\\\\/cy1AbIIo42'\\\"}\"</td></tr><tr><td>\"{\\\"id_str\\\":739185293664747520,\\\"created_at\\\":\\\"2016-06-04 20:01:22\\\",\\\"text\\\":\\\"b'Good article from @themotleyfool explaining how little incentives have actually contributed to Tesla funding https:\\\\/\\\\/t.co\\\\/zfC8di7EDX'\\\"}\"</td></tr><tr><td>\"{\\\"id_str\\\":739176652517707776,\\\"created_at\\\":\\\"2016-06-04 19:27:01\\\",\\\"text\\\":\\\"b'@SwiftOnSecurity how did you know?'\\\"}\"</td></tr><tr><td>\"{\\\"id_str\\\":739006012749799424,\\\"created_at\\\":\\\"2016-06-04 08:08:58\\\",\\\"text\\\":\\\"b'Creating a neural lace is the thing that really matters for humanity to achieve symbiosis with machines'\\\"}\"</td></tr><tr><td>\"{\\\"id_str\\\":739004504289353729,\\\"created_at\\\":\\\"2016-06-04 08:02:58\\\",\\\"text\\\":\\\"b'@JedBrown5 @renzdimaandal @Goetzman @Tom_Stears exactly'\\\"}\"</td></tr><tr><td>\"{\\\"id_str\\\":739001483249618948,\\\"created_at\\\":\\\"2016-06-04 07:50:58\\\",\\\"text\\\":\\\"b'@renzdimaandal @Tom_Stears It is simulations all the way down'\\\"}\"</td></tr><tr><td>\"{\\\"id_str\\\":738998975118737408,\\\"created_at\\\":\\\"2016-06-04 07:41:00\\\",\\\"text\\\":\\\"b\\\\\\\"At this point, I'm really running out of crazy things to say. Any suggestions?\\\\\\\\nhttps:\\\\/\\\\/t.co\\\\/dGVJBcSZn2\\\\\\\"\\\"}\"</td></tr><tr><td>\"{\\\"id_str\\\":738856423656808448,\\\"created_at\\\":\\\"2016-06-03 22:14:33\\\",\\\"text\\\":\\\"b'@lessteza control of super powerful AI by a small number of humans is the most proximate concern'\\\"}\"</td></tr><tr><td>\"{\\\"id_str\\\":738805691528318976,\\\"created_at\\\":\\\"2016-06-03 18:52:57\\\",\\\"text\\\":\\\"b'Just heard that Norway will ban new sales of fuel cars in 2025. What an amazingly awesome country. You guys rock!! https:\\\\/\\\\/t.co\\\\/uAXuBkDYuR'\\\"}\"</td></tr><tr><td>\"{\\\"id_str\\\":627041173669048320,\\\"created_at\\\":\\\"2015-07-31 09:00:40\\\",\\\"text\\\":\\\"b'@alipoursamar all regions'\\\"}\"</td></tr><tr><td>\"{\\\"id_str\\\":627040639553830912,\\\"created_at\\\":\\\"2015-07-31 08:58:32\\\",\\\"text\\\":\\\"b'Final corner case is dealing with low contrast lane markings (faded white on grey concrete) while driving into the sun at dusk'\\\"}\"</td></tr><tr><td>\"{\\\"id_str\\\":627040381729906688,\\\"created_at\\\":\\\"2015-07-31 08:57:31\\\",\\\"text\\\":\\\"b'Almost ready to release highway autosteer and parallel autopark software update'\\\"}\"</td></tr><tr><td>\"{\\\"id_str\\\":626979025190301696,\\\"created_at\\\":\\\"2015-07-31 04:53:42\\\",\\\"text\\\":\\\"b'RT @TheEconomist: A carbon tax is the best way to reduce emissions. Failing that, halt subsidies to fossil fuels http:\\\\/\\\\/t.co\\\\/wfuLPiW6tH htt\\\\\\\\xe2\\\\\\\\x80\\\\\\\\xa6'\\\"}\"</td></tr><tr><td>\"{\\\"id_str\\\":626780203533107200,\\\"created_at\\\":\\\"2015-07-30 15:43:40\\\",\\\"text\\\":\\\"b'@Alyssa_Milano Thanks Alyssa!'\\\"}\"</td></tr><tr><td>\"{\\\"id_str\\\":626779726695297024,\\\"created_at\\\":\\\"2015-07-30 15:41:46\\\",\\\"text\\\":\\\"b'@loic thanks Loic :)'\\\"}\"</td></tr><tr><td>\"{\\\"id_str\\\":625893002490314753,\\\"created_at\\\":\\\"2015-07-28 04:58:14\\\",\\\"text\\\":\\\"b\\\\\\\"@ID_AA_Carmack Even if inevitable, we should at least attempt to postpone the advent of AI weaponry. Sooner isn't better.\\\\\\\"\\\"}\"</td></tr><tr><td>\"{\\\"id_str\\\":625843527608459266,\\\"created_at\\\":\\\"2015-07-28 01:41:39\\\",\\\"text\\\":\\\"b'If you\\\\\\\\xe2\\\\\\\\x80\\\\\\\\x99re against a military AI arms race, please sign this open letter:\\\\\\\\nhttp:\\\\/\\\\/t.co\\\\/yyF9rcm9jz'\\\"}\"</td></tr><tr><td>\"{\\\"id_str\\\":625526696788291584,\\\"created_at\\\":\\\"2015-07-27 04:42:40\\\",\\\"text\\\":\\\"b'@kevinmitnick probably end of year'\\\"}\"</td></tr><tr><td>\"{\\\"id_str\\\":622223920318431232,\\\"created_at\\\":\\\"2015-07-18 01:58:37\\\",\\\"text\\\":\\\"b'Ludicrous speed, 70 kWh rear drive and 90 kWh battery pack http:\\\\/\\\\/t.co\\\\/kr9A0iXM58'\\\"}\"</td></tr><tr><td>\"{\\\"id_str\\\":806414564174819328,\\\"created_at\\\":\\\"2016-12-07 08:26:29\\\",\\\"text\\\":\\\"b\\\\\\\"How do we know this story isn't fake? Unfortunately, it is probably true. https:\\\\/\\\\/t.co\\\\/YzyP4kG63R\\\\\\\"\\\"}\"</td></tr><tr><td>\"{\\\"id_str\\\":805862775603929088,\\\"created_at\\\":\\\"2016-12-05 19:53:52\\\",\\\"text\\\":\\\"b'RT @OpenAI: A video tutorial and overview of Universe from @sirajology: https:\\\\/\\\\/t.co\\\\/9JyfF5aFrl'\\\"}\"</td></tr><tr><td>\"{\\\"id_str\\\":805696868097236992,\\\"created_at\\\":\\\"2016-12-05 08:54:37\\\",\\\"text\\\":\\\"b\\\\\\\"RT @OpenAI: We're releasing Universe, a platform for measuring and training AI agents: https:\\\\/\\\\/t.co\\\\/bx7OjMDaJK\\\\\\\"\\\"}\"</td></tr><tr><td>\"{\\\"id_str\\\":804205155822374913,\\\"created_at\\\":\\\"2016-12-01 06:07:05\\\",\\\"text\\\":\\\"b'Model S smashes into semi truck trailer and lifts it off the ground. Driver walks away. https:\\\\/\\\\/t.co\\\\/NSuMvcYaA6'\\\"}\"</td></tr><tr><td>\"{\\\"id_str\\\":803269287167201280,\\\"created_at\\\":\\\"2016-11-28 16:08:16\\\",\\\"text\\\":\\\"b'RT @TeslaMotors: \\\\\\\"Faster than a supercar, roomier than an SUV, more eco-friendly than... anything! Rating: \\\\\\\\xe2\\\\\\\\x98\\\\\\\\x85\\\\\\\\xe2\\\\\\\\x98\\\\\\\\x85\\\\\\\\xe2\\\\\\\\x98\\\\\\\\x85\\\\\\\\xe2\\\\\\\\x98\\\\\\\\x85\\\\\\\\xe2\\\\\\\\x98\\\\\\\\x85\\\\\\\" @MailOnline https:\\\\/\\\\/t.co\\\\/\\\\\\\\xe2\\\\\\\\x80\\\\\\\\xa6'\\\"}\"</td></tr><tr><td>\"{\\\"id_str\\\":802708695830306816,\\\"created_at\\\":\\\"2016-11-27 03:00:41\\\",\\\"text\\\":\\\"b'@edwardsanchez about three weeks and it will get rolled out incrementally in monthly releases'\\\"}\"</td></tr><tr><td>\"{\\\"id_str\\\":801572499418796032,\\\"created_at\\\":\\\"2016-11-23 23:45:51\\\",\\\"text\\\":\\\"b'@chemisdrey yes'\\\"}\"</td></tr><tr><td>\"{\\\"id_str\\\":801569787121790976,\\\"created_at\\\":\\\"2016-11-23 23:35:04\\\",\\\"text\\\":\\\"b'RT @thedrive: These Are the Lobbyists Behind the Site Attacking Elon Musk and Tesla: https:\\\\/\\\\/t.co\\\\/l6u1MTrm0P'\\\"}\"</td></tr><tr><td>\"{\\\"id_str\\\":801569305435381760,\\\"created_at\\\":\\\"2016-11-23 23:33:09\\\",\\\"text\\\":\\\"b'@Mederinho10 @BW @business at least some of them'\\\"}\"</td></tr><tr><td>\"{\\\"id_str\\\":801124223049568256,\\\"created_at\\\":\\\"2016-11-22 18:04:33\\\",\\\"text\\\":\\\"b\\\\\\\"@stryker_88 That doesn't make sense. Will look into it.\\\\\\\"\\\"}\"</td></tr><tr><td>\"{\\\"id_str\\\":307361875782402048,\\\"created_at\\\":\\\"2013-03-01 05:29:16\\\",\\\"text\\\":\\\"b'Launch on track for tomorrow morning at 10:10 am Cape Canaveral time'\\\"}\"</td></tr><tr><td>\"{\\\"id_str\\\":306926977250631680,\\\"created_at\\\":\\\"2013-02-28 00:41:08\\\",\\\"text\\\":\\\"b\\\\\\\"RT @Edmunds_Test: About to head home in our 2013 @Teslamotors Model S. I won't plug in at home for the return trip. I'll take side trips ...\\\\\\\"\\\"}\"</td></tr><tr><td>\"{\\\"id_str\\\":306612536973856768,\\\"created_at\\\":\\\"2013-02-27 03:51:40\\\",\\\"text\\\":\\\"b'@andrewliebchen @_chrissimmons Exactly. Then no need for clean energy subsidies, as externality is priced into mkt behavior'\\\"}\"</td></tr><tr><td>\"{\\\"id_str\\\":306608592100941824,\\\"created_at\\\":\\\"2013-02-27 03:35:59\\\",\\\"text\\\":\\\"b'@_ChrisSimmons A carbon tax would affect coal even more than gasoline, so electricity would also become more expensive'\\\"}\"</td></tr><tr><td>\"{\\\"id_str\\\":306591715077271553,\\\"created_at\\\":\\\"2013-02-27 02:28:55\\\",\\\"text\\\":\\\"b'One often hears that there is no point in a US carbon tax unless China acts. Well, they just did http:\\\\/\\\\/t.co\\\\/SIp9NzkulK'\\\"}\"</td></tr><tr><td>\"{\\\"id_str\\\":306304864164667392,\\\"created_at\\\":\\\"2013-02-26 07:29:05\\\",\\\"text\\\":\\\"b'RT @johnvoelcker: This is one very, very happy owner! My 2013 Tesla Model S Electric Sport Sedan: Delivery at Last! http:\\\\/\\\\/t.co\\\\/XNBQc6Md ...'\\\"}\"</td></tr><tr><td>\"{\\\"id_str\\\":306193893890863104,\\\"created_at\\\":\\\"2013-02-26 00:08:07\\\",\\\"text\\\":\\\"b'Rocket static fire @SpaceX Cape Canaveral launch pad looks good. Engines generated 433 tons of thrust, parameters nominal.'\\\"}\"</td></tr><tr><td>\"{\\\"id_str\\\":305971647561752576,\\\"created_at\\\":\\\"2013-02-25 09:25:00\\\",\\\"text\\\":\\\"b'@FaeLoba Best is winning competitions like Formula SAE, design\\\\/build\\\\/fly or other evidence of exceptional eng ability'\\\"}\"</td></tr><tr><td>\"{\\\"id_str\\\":305172926762725376,\\\"created_at\\\":\\\"2013-02-23 04:31:10\\\",\\\"text\\\":\\\"b'@EricIdle Cool! Btw, thought you might appreciate that 1st flight of Dragon spacecraft carried a large wheel of cheese :)'\\\"}\"</td></tr><tr><td>\"{\\\"id_str\\\":304988995836862465,\\\"created_at\\\":\\\"2013-02-22 16:20:17\\\",\\\"text\\\":\\\"b'RT @NASA: Want to join us and cover the next @SpaceX launch on March 1? Now you can apply for a #NASASocial Media Credential http:\\\\/\\\\/t.co ...'\\\"}\"</td></tr><tr><td>\"{\\\"id_str\\\":153519464653127680,\\\"created_at\\\":\\\"2012-01-01 16:54:27\\\",\\\"text\\\":\\\"b\\\\\\\"@FareedZakaria However, China's real estate crisis will explode in a way that makes ours look puny. They can't hide it for much longer.\\\\\\\"\\\"}\"</td></tr><tr><td>\"{\\\"id_str\\\":153518263001808896,\\\"created_at\\\":\\\"2012-01-01 16:49:40\\\",\\\"text\\\":\\\"b\\\\\\\"@FareedZakaria Yeah, 2012 will be great for the American economy & jobs, as we've mostly dealt with the overbuilt housing crisis.\\\\\\\"\\\"}\"</td></tr><tr><td>\"{\\\"id_str\\\":153515940707975169,\\\"created_at\\\":\\\"2012-01-01 16:40:27\\\",\\\"text\\\":\\\"b'My first prediction of 2012 has come true: ouch, my head hurts.'\\\"}\"</td></tr><tr><td>\"{\\\"id_str\\\":153236159361847298,\\\"created_at\\\":\\\"2011-12-31 22:08:42\\\",\\\"text\\\":\\\"b\\\\\\\"World violence being super low is probably counter-intuitive to most people. That's because modern media is a misery microscope.\\\\\\\"\\\"}\"</td></tr><tr><td>\"{\\\"id_str\\\":153235426126213120,\\\"created_at\\\":\\\"2011-12-31 22:05:47\\\",\\\"text\\\":\\\"b\\\\\\\"Here's a happy thought for 2012: world violence is at an all time historical low. Excellent piece by Stephen Pinker http:\\\\/\\\\/t.co\\\\/gv4MLfQe\\\\\\\"\\\"}\"</td></tr><tr><td>\"{\\\"id_str\\\":153099684280410112,\\\"created_at\\\":\\\"2011-12-31 13:06:23\\\",\\\"text\\\":\\\"b'Hacked my Tesla charge connector on a small island in the rain last night #whatcouldpossiblygowrong'\\\"}\"</td></tr><tr><td>\"{\\\"id_str\\\":152774892591398913,\\\"created_at\\\":\\\"2011-12-30 15:35:47\\\",\\\"text\\\":\\\"b'Not that this really matters. All current rocket tech, including ours, sucks. Only when it becomes fully reusable, will it not suck.'\\\"}\"</td></tr><tr><td>\"{\\\"id_str\\\":152763084488982531,\\\"created_at\\\":\\\"2011-12-30 14:48:52\\\",\\\"text\\\":\\\"b'SpaceX has Boeing, Lockheed, Europe (Ariane) and Russia (Proton\\\\/Soyuz) near checkmate in rocket technology. End game is all about China.'\\\"}\"</td></tr><tr><td>\"{\\\"id_str\\\":152759917621690368,\\\"created_at\\\":\\\"2011-12-30 14:36:17\\\",\\\"text\\\":\\\"b'China unveils ambitious space strategy http:\\\\/\\\\/t.co\\\\/udHmuft2'\\\"}\"</td></tr><tr><td>\"{\\\"id_str\\\":152614233278910464,\\\"created_at\\\":\\\"2011-12-30 04:57:23\\\",\\\"text\\\":\\\"b'To be clear, CtG absolutely did *not* bang her horse. They were just close friends who liked to take showers together and spoon at night.'\\\"}\"</td></tr><tr><td>\"{\\\"id_str\\\":778602694399320065,\\\"created_at\\\":\\\"2016-09-21 14:32:02\\\",\\\"text\\\":\\\"b'Tesla keeps temp below 40C\\\\/105F by automatically venting cabin &amp; turning on AC when needed. Can do this for up to a year on a full charge.'\\\"}\"</td></tr><tr><td>\"{\\\"id_str\\\":778602042759585793,\\\"created_at\\\":\\\"2016-09-21 14:29:27\\\",\\\"text\\\":\\\"b'My favorite new feature is the always-on max temp control for keeping kids and pets safe from overheating.'\\\"}\"</td></tr><tr><td>\"{\\\"id_str\\\":778600126063390720,\\\"created_at\\\":\\\"2016-09-21 14:21:50\\\",\\\"text\\\":\\\"b'This is a major overhaul on almost every level compared to V7.'\\\"}\"</td></tr><tr><td>\"{\\\"id_str\\\":778599820227252225,\\\"created_at\\\":\\\"2016-09-21 14:20:37\\\",\\\"text\\\":\\\"b\\\\\\\"V8.0 starts downloading tonight. Release will be gradual to make sure there aren't small regressions. Many car configs, many environments.\\\\\\\"\\\"}\"</td></tr><tr><td>\"{\\\"id_str\\\":777985245731696640,\\\"created_at\\\":\\\"2016-09-19 21:38:31\\\",\\\"text\\\":\\\"b'@PassionPlanet1 Yeah, definitely one of my favorite names'\\\"}\"</td></tr><tr><td>\"{\\\"id_str\\\":777330011703566336,\\\"created_at\\\":\\\"2016-09-18 02:14:51\\\",\\\"text\\\":\\\"b'@thescalex @SpaceX @IAC2016 @YouTube its it is'\\\"}\"</td></tr><tr><td>\"{\\\"id_str\\\":777325549442232320,\\\"created_at\\\":\\\"2016-09-18 01:57:07\\\",\\\"text\\\":\\\"b'Preview of the @SpaceX interplanetary transport system at @IAC2016\\\\\\\\nhttps:\\\\/\\\\/t.co\\\\/Rz4XmeAoRw'\\\"}\"</td></tr><tr><td>\"{\\\"id_str\\\":777027622924681216,\\\"created_at\\\":\\\"2016-09-17 06:13:16\\\",\\\"text\\\":\\\"b\\\\\\\"@JonasPolsky @schellgames that's a great one\\\\\\\"\\\"}\"</td></tr><tr><td>\"{\\\"id_str\\\":776971939277438976,\\\"created_at\\\":\\\"2016-09-17 02:32:00\\\",\\\"text\\\":\\\"b'@andyzalk sounds like the right name for the rocket booster'\\\"}\"</td></tr><tr><td>\"{\\\"id_str\\\":776960194852958208,\\\"created_at\\\":\\\"2016-09-17 01:45:20\\\",\\\"text\\\":\\\"b'@LarryMasters778 That is my favorite fictional spaceship. Powered by improbability!'\\\"}\"</td></tr><tr><td>\"{\\\"id_str\\\":307958110474104832,\\\"created_at\\\":\\\"2013-03-02 20:58:29\\\",\\\"text\\\":\\\"b'Just received #Dragon docking clearance from @NASA. Will begin orbital maneuvers to Space Station at 11pm Pacific time.'\\\"}\"</td></tr><tr><td>\"{\\\"id_str\\\":307633403195449344,\\\"created_at\\\":\\\"2013-03-01 23:28:13\\\",\\\"text\\\":\\\"b'Would also like to thank @USAirForce for allowing us to use their long range comm system for Dragon in free drift.'\\\"}\"</td></tr><tr><td>\"{\\\"id_str\\\":307627922783600640,\\\"created_at\\\":\\\"2013-03-01 23:06:26\\\",\\\"text\\\":\\\"b\\\\\\\"Just want to say thanks to @NASA for being the world's coolest customer. Looking forward to delivering the goods!\\\\\\\"\\\"}\"</td></tr><tr><td>\"{\\\"id_str\\\":307615430154022912,\\\"created_at\\\":\\\"2013-03-01 22:16:48\\\",\\\"text\\\":\\\"b'Orbit raising burn successful. Dragon back on track.'\\\"}\"</td></tr><tr><td>\"{\\\"id_str\\\":307597163582590977,\\\"created_at\\\":\\\"2013-03-01 21:04:13\\\",\\\"text\\\":\\\"b'Thruster pods one through four are now operating nominally. Preparing to raise orbit. All systems green.'\\\"}\"</td></tr><tr><td>\"{\\\"id_str\\\":307580263637061633,\\\"created_at\\\":\\\"2013-03-01 19:57:04\\\",\\\"text\\\":\\\"b'Pods 1 and 4 now online and thrusters engaged. Dragon transitioned from free drift to active control. Yes!!'\\\"}\"</td></tr><tr><td>\"{\\\"id_str\\\":307536134215446528,\\\"created_at\\\":\\\"2013-03-01 17:01:42\\\",\\\"text\\\":\\\"b'Attempting bring up of thruster pods 2 and 4'\\\"}\"</td></tr><tr><td>\"{\\\"id_str\\\":307533114035535872,\\\"created_at\\\":\\\"2013-03-01 16:49:42\\\",\\\"text\\\":\\\"b'Solar array deployment successful'\\\"}\"</td></tr><tr><td>\"{\\\"id_str\\\":307530281290711042,\\\"created_at\\\":\\\"2013-03-01 16:38:27\\\",\\\"text\\\":\\\"b'Thruster pod 3 tank pressure trending positive. Preparing to deploy solar arrays.'\\\"}\"</td></tr><tr><td>\"{\\\"id_str\\\":307523715678212096,\\\"created_at\\\":\\\"2013-03-01 16:12:21\\\",\\\"text\\\":\\\"b'About to pass over Australia ground station and command inhibit override'\\\"}\"</td></tr><tr><td>\"{\\\"id_str\\\":716751456574025728,\\\"created_at\\\":\\\"2016-04-03 22:17:18\\\",\\\"text\\\":\\\"b'@GatorWass you can do that now with S and X. Will be same for 3.'\\\"}\"</td></tr><tr><td>\"{\\\"id_str\\\":716751300063531008,\\\"created_at\\\":\\\"2016-04-03 22:16:41\\\",\\\"text\\\":\\\"b'@_elombardo @rjpryan correct'\\\"}\"</td></tr><tr><td>\"{\\\"id_str\\\":716751152906440705,\\\"created_at\\\":\\\"2016-04-03 22:16:06\\\",\\\"text\\\":\\\"b'@EduardoForneck hopefully 0.21'\\\"}\"</td></tr><tr><td>\"{\\\"id_str\\\":716750603813318660,\\\"created_at\\\":\\\"2016-04-03 22:13:55\\\",\\\"text\\\":\\\"b\\\\\\\"@PeteEhmKay @gerardomarina what's the link to that?\\\\\\\"\\\"}\"</td></tr><tr><td>\"{\\\"id_str\\\":716750313471025152,\\\"created_at\\\":\\\"2016-04-03 22:12:45\\\",\\\"text\\\":\\\"b'@tapwin No, but we will need to build a factory in Europe to serve long-term regional demand as Fremont reaches max capacity.'\\\"}\"</td></tr><tr><td>\"{\\\"id_str\\\":716749717795946496,\\\"created_at\\\":\\\"2016-04-03 22:10:23\\\",\\\"text\\\":\\\"b'@mpatfield no problem'\\\"}\"</td></tr><tr><td>\"{\\\"id_str\\\":716749159324377089,\\\"created_at\\\":\\\"2016-04-03 22:08:10\\\",\\\"text\\\":\\\"b'@CrackedUpCorson Will cover whole country hopefully this year'\\\"}\"</td></tr><tr><td>\"{\\\"id_str\\\":716748255242100736,\\\"created_at\\\":\\\"2016-04-03 22:04:35\\\",\\\"text\\\":\\\"b'@AndersRytter yes, but production AWD will be a lot faster'\\\"}\"</td></tr><tr><td>\"{\\\"id_str\\\":716747844175142912,\\\"created_at\\\":\\\"2016-04-03 22:02:57\\\",\\\"text\\\":\\\"b'@AlexBelohlavek less'\\\"}\"</td></tr><tr><td>\"{\\\"id_str\\\":716747672477151232,\\\"created_at\\\":\\\"2016-04-03 22:02:16\\\",\\\"text\\\":\\\"b'@torvos torque is shifted between front &amp; rear motors every ~.01 secs. Traction control is way better than a normal AWD. Digital vs analog.'\\\"}\"</td></tr><tr><td>\"{\\\"id_str\\\":181881709841752064,\\\"created_at\\\":\\\"2012-03-19 23:15:53\\\",\\\"text\\\":\\\"b'RT @SpaceX: In case you missed it, here is the full video of SpaceX on @60Minutes last night. What did you think of the story? http:\\\\/\\\\/t. ...'\\\"}\"</td></tr><tr><td>\"{\\\"id_str\\\":180226195206569984,\\\"created_at\\\":\\\"2012-03-15 09:37:28\\\",\\\"text\\\":\\\"b'Lovely poster about wishes that explains one of the many reasons to make life multiplanetary http:\\\\/\\\\/t.co\\\\/e1ZM8a2b'\\\"}\"</td></tr><tr><td>\"{\\\"id_str\\\":180105275133538306,\\\"created_at\\\":\\\"2012-03-15 01:36:58\\\",\\\"text\\\":\\\"b'10 years ago today, SpaceX was founded. Many battles fought. Physics always won. http:\\\\/\\\\/t.co\\\\/p85UHeuq'\\\"}\"</td></tr><tr><td>\"{\\\"id_str\\\":180067296201547777,\\\"created_at\\\":\\\"2012-03-14 23:06:03\\\",\\\"text\\\":\\\"b\\\\\\\"Why I'm leaving the Empire, by Darth Vader  http:\\\\/\\\\/t.co\\\\/D5YUbAyO\\\\\\\"\\\"}\"</td></tr><tr><td>\"{\\\"id_str\\\":179468649038479361,\\\"created_at\\\":\\\"2012-03-13 07:27:14\\\",\\\"text\\\":\\\"b'If something is physically possible, not only is someone doing it, but there is also an award show.'\\\"}\"</td></tr><tr><td>\"{\\\"id_str\\\":179095691468095489,\\\"created_at\\\":\\\"2012-03-12 06:45:14\\\",\\\"text\\\":\\\"b'Mountain lions eat cats, which means we *actually* live in a cat eat cat world ... an apology is owed to dogkind!'\\\"}\"</td></tr><tr><td>\"{\\\"id_str\\\":178878446137647105,\\\"created_at\\\":\\\"2012-03-11 16:21:59\\\",\\\"text\\\":\\\"b'I think if you go there, they just feed you delicious candy all day and ask nothing in return.'\\\"}\"</td></tr><tr><td>\"{\\\"id_str\\\":178865792371277825,\\\"created_at\\\":\\\"2012-03-11 15:31:43\\\",\\\"text\\\":\\\"b'Just passed a place called the Sugar Shack in a Louisiana swamp. I wonder what happens there? http:\\\\/\\\\/t.co\\\\/1MomQnNe'\\\"}\"</td></tr><tr><td>\"{\\\"id_str\\\":177210012911927299,\\\"created_at\\\":\\\"2012-03-07 01:52:14\\\",\\\"text\\\":\\\"b'The President of Serbia came by our booth at the Geneva Motor Show and talked about Nikola Tesla http:\\\\/\\\\/t.co\\\\/KIhxc0TF'\\\"}\"</td></tr><tr><td>\"{\\\"id_str\\\":176181571479552001,\\\"created_at\\\":\\\"2012-03-04 05:45:34\\\",\\\"text\\\":\\\"b'RT @westcoastbill: lol my friends car \\\\\\\\xe2\\\\\\\\x80\\\\\\\\x9c@ryan: See also: http:\\\\/\\\\/t.co\\\\/jXuJU0mf\\\\\\\\xe2\\\\\\\\x80\\\\\\\\x9d'\\\"}\"</td></tr><tr><td>\"{\\\"id_str\\\":151317672217419777,\\\"created_at\\\":\\\"2011-12-26 15:05:19\\\",\\\"text\\\":\\\"b'Single character Tweets are the ulitmate extension of the Twitmeme...'\\\"}\"</td></tr><tr><td>\"{\\\"id_str\\\":151151777662779392,\\\"created_at\\\":\\\"2011-12-26 04:06:06\\\",\\\"text\\\":\\\"b'I'\\\"}\"</td></tr><tr><td>\"{\\\"id_str\\\":150390624552615937,\\\"created_at\\\":\\\"2011-12-24 01:41:33\\\",\\\"text\\\":\\\"b'The Russians are having some challenges with their rockets. Too many of the engineers that designed them have retired: http:\\\\/\\\\/t.co\\\\/rEs7spSU'\\\"}\"</td></tr><tr><td>\"{\\\"id_str\\\":150388617246801920,\\\"created_at\\\":\\\"2011-12-24 01:33:35\\\",\\\"text\\\":\\\"b'We had a long and interesting conversation on many subjects. He has exciting ideas for extending his creative talents beyond music.'\\\"}\"</td></tr><tr><td>\"{\\\"id_str\\\":150387544402575360,\\\"created_at\\\":\\\"2011-12-24 01:29:19\\\",\\\"text\\\":\\\"b'Kanye stopped by the SpaceX rocket factory today. http:\\\\/\\\\/t.co\\\\/6z7gHBn6'\\\"}\"</td></tr><tr><td>\"{\\\"id_str\\\":149813972915339264,\\\"created_at\\\":\\\"2011-12-22 11:30:10\\\",\\\"text\\\":\\\"b'Model S options are out! Performance in red and black for me.  I will deliver my car in June\\\\/July. http:\\\\/\\\\/t.co\\\\/acnyP4nh'\\\"}\"</td></tr><tr><td>\"{\\\"id_str\\\":149787827712958464,\\\"created_at\\\":\\\"2011-12-22 09:46:16\\\",\\\"text\\\":\\\"b\\\\\\\"Hi, I'm Art Garfunkel. Have you heard the sound of silence? Because, you know, it makes a sound... http:\\\\/\\\\/t.co\\\\/7vgya9xL\\\\\\\"\\\"}\"</td></tr><tr><td>\"{\\\"id_str\\\":149688828599349251,\\\"created_at\\\":\\\"2011-12-22 03:12:52\\\",\\\"text\\\":\\\"b'Raul Campos invited me to do a guest DJ gig on KCRW.  Hear my random holiday season music selections at http:\\\\/\\\\/t.co\\\\/o6FQASvC'\\\"}\"</td></tr><tr><td>\"{\\\"id_str\\\":149629518267695104,\\\"created_at\\\":\\\"2011-12-21 23:17:11\\\",\\\"text\\\":\\\"b'Yum! Even better than deep fried butter: http:\\\\/\\\\/t.co\\\\/Ody21NuD'\\\"}\"</td></tr><tr><td>\"{\\\"id_str\\\":149447517325635584,\\\"created_at\\\":\\\"2011-12-21 11:13:59\\\",\\\"text\\\":\\\"b'Yeah, this really is me, as my Mom @mayemusk will attest.\\\\\\\\nNot sure I can handle just doing 140 char missives. Will put longer thoughts on G+'\\\"}\"</td></tr><tr><td>\"{\\\"id_str\\\":699880397396512768,\\\"created_at\\\":\\\"2016-02-17 08:57:44\\\",\\\"text\\\":\\\"b'@BasseyE @tegmark yes'\\\"}\"</td></tr><tr><td>\"{\\\"id_str\\\":699836207442710528,\\\"created_at\\\":\\\"2016-02-17 06:02:08\\\",\\\"text\\\":\\\"b'RT @Lebeaucarnews: Test Drives Whet Appetite for TSLA Model X Believers https:\\\\/\\\\/t.co\\\\/dn54pzs53O'\\\"}\"</td></tr><tr><td>\"{\\\"id_str\\\":699709623406702592,\\\"created_at\\\":\\\"2016-02-16 21:39:08\\\",\\\"text\\\":\\\"b\\\\\\\"Interesting to think of physics as a set of compression algorithms for the universe. That's basically what formulas are.\\\\\\\"\\\"}\"</td></tr><tr><td>\"{\\\"id_str\\\":699510738147106816,\\\"created_at\\\":\\\"2016-02-16 08:28:50\\\",\\\"text\\\":\\\"b'@chriskreidler @engadget yes, this was done jointly with Tesla and Radio Flyer'\\\"}\"</td></tr><tr><td>\"{\\\"id_str\\\":699510097332994048,\\\"created_at\\\":\\\"2016-02-16 08:26:18\\\",\\\"text\\\":\\\"b'This baby Model S really is quite fun  https:\\\\/\\\\/t.co\\\\/40W5sS5bKI'\\\"}\"</td></tr><tr><td>\"{\\\"id_str\\\":698931459722072064,\\\"created_at\\\":\\\"2016-02-14 18:07:00\\\",\\\"text\\\":\\\"b\\\\\\\"RT @billmckibben: Great @RollingStone expose of the Koch Bros 'dirty war on solar power.' https:\\\\/\\\\/t.co\\\\/akHG8XtF6f\\\\\\\"\\\"}\"</td></tr><tr><td>\"{\\\"id_str\\\":698813524827443200,\\\"created_at\\\":\\\"2016-02-14 10:18:22\\\",\\\"text\\\":\\\"b'RT @TeslaMotors: 4 semi-autonomous cars put to the test: \\\\\\\\xe2\\\\\\\\x80\\\\\\\\x9cTesla\\\\\\\\xe2\\\\\\\\x80\\\\\\\\x99s Autopilot is the clear winner.\\\\\\\\xe2\\\\\\\\x80\\\\\\\\x9d @CARandDRIVER https:\\\\/\\\\/t.co\\\\/azia4en1ru'\\\"}\"</td></tr><tr><td>\"{\\\"id_str\\\":698196071529316352,\\\"created_at\\\":\\\"2016-02-12 17:24:49\\\",\\\"text\\\":\\\"b'RT @TeslaMotors: Model X gets its wings https:\\\\/\\\\/t.co\\\\/08srkZi2oh'\\\"}\"</td></tr><tr><td>\"{\\\"id_str\\\":697684032868356097,\\\"created_at\\\":\\\"2016-02-11 07:30:10\\\",\\\"text\\\":\\\"b\\\\\\\"More details on Model 3 unveil in coming weeks. That's it for now.\\\\\\\"\\\"}\"</td></tr><tr><td>\"{\\\"id_str\\\":697682665919516672,\\\"created_at\\\":\\\"2016-02-11 07:24:44\\\",\\\"text\\\":\\\"b'@MysteryGuitarM yes'\\\"}\"</td></tr><tr><td>\"{\\\"id_str\\\":279597699945361408,\\\"created_at\\\":\\\"2012-12-14 14:44:20\\\",\\\"text\\\":\\\"b'@prbowman Roughly equivalent to a 747 flight from LA to London (one way).'\\\"}\"</td></tr><tr><td>\"{\\\"id_str\\\":279597307673067520,\\\"created_at\\\":\\\"2012-12-14 14:42:47\\\",\\\"text\\\":\\\"b\\\\\\\"@ImprobableToad That's why I'm a believer in solar power. We have a giant fusion reactor conveniently located in the sky.\\\\\\\"\\\"}\"</td></tr><tr><td>\"{\\\"id_str\\\":279591897473896448,\\\"created_at\\\":\\\"2012-12-14 14:21:17\\\",\\\"text\\\":\\\"b'Exactly MT \\\\\\\"@DanRetz IMHO: continuing the uncontrolled experiment of adding co2 to atmosphere is a bad idea.\\\\\\\\xe2\\\\\\\\x80\\\\\\\\x9d'\\\"}\"</td></tr><tr><td>\"{\\\"id_str\\\":279586009954516992,\\\"created_at\\\":\\\"2012-12-14 13:57:53\\\",\\\"text\\\":\\\"b\\\\\\\"It is hard to argue with a thermometer. Global warming is real and accelerating. Wish it wasn't. http:\\\\/\\\\/t.co\\\\/wB4w9coU\\\\\\\"\\\"}\"</td></tr><tr><td>\"{\\\"id_str\\\":278953918338326528,\\\"created_at\\\":\\\"2012-12-12 20:06:11\\\",\\\"text\\\":\\\"b'Cool video recap of the big events of the year by Google #Zeitgeist2012 http:\\\\/\\\\/t.co\\\\/FZjy4vkL'\\\"}\"</td></tr><tr><td>\"{\\\"id_str\\\":278918251730305025,\\\"created_at\\\":\\\"2012-12-12 17:44:27\\\",\\\"text\\\":\\\"b'@Neowolf2 Relative to kerosene, methane is not prone to coking, but we would run v high purity anyway for max Isp.'\\\"}\"</td></tr><tr><td>\"{\\\"id_str\\\":278917332657651712,\\\"created_at\\\":\\\"2012-12-12 17:40:48\\\",\\\"text\\\":\\\"b'@chrisbrandow @TEA_in_Space Yup or Douglas Aircraft, creator of the awesome DC-3 http:\\\\/\\\\/t.co\\\\/4o8OHDCo'\\\"}\"</td></tr><tr><td>\"{\\\"id_str\\\":278915899501727744,\\\"created_at\\\":\\\"2012-12-12 17:35:07\\\",\\\"text\\\":\\\"b\\\\\\\"My big worry would be long (hopefully) term when I'm dead, eg v sad situation with once great HP  @TEA_in_Space\\\\\\\"\\\"}\"</td></tr><tr><td>\"{\\\"id_str\\\":278913921891586049,\\\"created_at\\\":\\\"2012-12-12 17:27:15\\\",\\\"text\\\":\\\"b'SpaceX will go public at some point, as I think it should ultimately be owned primarily by the public \\\\\\\"@bm_ will SpaceX go public?\\\\\\\"'\\\"}\"</td></tr><tr><td>\"{\\\"id_str\\\":278910847768739840,\\\"created_at\\\":\\\"2012-12-12 17:15:02\\\",\\\"text\\\":\\\"b\\\\\\\"@IntlManOfRealty Best to study some form of engineering, which is the art of creating useful things that didn't exist before.\\\\\\\"\\\"}\"</td></tr><tr><td>\"{\\\"id_str\\\":744551674082136066,\\\"created_at\\\":\\\"2016-06-19 15:25:26\\\",\\\"text\\\":\\\"b\\\\\\\"We *def* don't recommended this, but Model S floats well enough to turn it into a boat for short periods of time. Thrust via wheel rotation.\\\\\\\"\\\"}\"</td></tr><tr><td>\"{\\\"id_str\\\":744549842496655360,\\\"created_at\\\":\\\"2016-06-19 15:18:10\\\",\\\"text\\\":\\\"b'Tesla owner drives through a flooded tunnel &amp; out the other side \\\\\\\\nhttps:\\\\/\\\\/t.co\\\\/RmPxdZShhq'\\\"}\"</td></tr><tr><td>\"{\\\"id_str\\\":743603466631733248,\\\"created_at\\\":\\\"2016-06-17 00:37:36\\\",\\\"text\\\":\\\"b\\\\\\\"As mentioned at the beginning of the year, I'm expecting ~70% success rate on landings for the year. 2016 is the year of experimentation.\\\\\\\"\\\"}\"</td></tr><tr><td>\"{\\\"id_str\\\":743602894226653184,\\\"created_at\\\":\\\"2016-06-17 00:35:20\\\",\\\"text\\\":\\\"b'Looks like early liquid oxygen depletion caused engine shutdown just above the deck https:\\\\/\\\\/t.co\\\\/Sa6uCkpknY'\\\"}\"</td></tr><tr><td>\"{\\\"id_str\\\":743602229307805696,\\\"created_at\\\":\\\"2016-06-17 00:32:41\\\",\\\"text\\\":\\\"b'Turns out the landing was not as fast we thought, but still hard enough to destroy the primary airframe and accordion the engines'\\\"}\"</td></tr><tr><td>\"{\\\"id_str\\\":743600755739754497,\\\"created_at\\\":\\\"2016-06-17 00:26:50\\\",\\\"text\\\":\\\"b'@fucktyler Thanks Tyler'\\\"}\"</td></tr><tr><td>\"{\\\"id_str\\\":743102502225076227,\\\"created_at\\\":\\\"2016-06-15 15:26:57\\\",\\\"text\\\":\\\"b'Landing video will be posted when we gain access to cameras on the droneship later today. Maybe hardest impact to date. Droneship still ok.'\\\"}\"</td></tr><tr><td>\"{\\\"id_str\\\":743099301174247424,\\\"created_at\\\":\\\"2016-06-15 15:14:14\\\",\\\"text\\\":\\\"b'Upgrades underway to enable rocket to compensate for a thrust shortfall on one of the three landing engines. Probably get there end of year.'\\\"}\"</td></tr><tr><td>\"{\\\"id_str\\\":743098357728444418,\\\"created_at\\\":\\\"2016-06-15 15:10:29\\\",\\\"text\\\":\\\"b'@AstroOrionMK @BadAstronomer Quite rapid... Yes'\\\"}\"</td></tr><tr><td>\"{\\\"id_str\\\":743097668725940225,\\\"created_at\\\":\\\"2016-06-15 15:07:44\\\",\\\"text\\\":\\\"b'RUD = Rapid Unscheduled Disassembly :)'\\\"}\"</td></tr><tr><td>\"{\\\"id_str\\\":396712451305000960,\\\"created_at\\\":\\\"2013-11-02 18:56:33\\\",\\\"text\\\":\\\"b'Thanks Woz! \\\\\\\"@stevewoz: Here to pick up my new car! (at @TeslaMotors w\\\\/ 2 others)\\\\\\\"'\\\"}\"</td></tr><tr><td>\"{\\\"id_str\\\":395562607462981633,\\\"created_at\\\":\\\"2013-10-30 14:47:29\\\",\\\"text\\\":\\\"b'Tesla West Coast Supercharger network now energized. Travel from Vancouver to Tijuana in styel! http:\\\\/\\\\/t.co\\\\/gTvV9egg3K'\\\"}\"</td></tr><tr><td>\"{\\\"id_str\\\":394220043816296448,\\\"created_at\\\":\\\"2013-10-26 21:52:37\\\",\\\"text\\\":\\\"b'Giant dog topiary in Bilbao http:\\\\/\\\\/t.co\\\\/kHdAMvOEMN'\\\"}\"</td></tr><tr><td>\"{\\\"id_str\\\":389113628416172032,\\\"created_at\\\":\\\"2013-10-12 19:41:33\\\",\\\"text\\\":\\\"b'Rocket flight to 744m, hover &amp; return to launch pad (close shot from hexacopter drone) http:\\\\/\\\\/t.co\\\\/vyJSUbZo2R'\\\"}\"</td></tr><tr><td>\"{\\\"id_str\\\":386219821685170176,\\\"created_at\\\":\\\"2013-10-04 20:02:35\\\",\\\"text\\\":\\\"b'About the Model S fire ... http:\\\\/\\\\/t.co\\\\/7LSBaNbnyd'\\\"}\"</td></tr><tr><td>\"{\\\"id_str\\\":384437535348248576,\\\"created_at\\\":\\\"2013-09-29 22:00:25\\\",\\\"text\\\":\\\"b'@DebbieViviers @SpaceX Yes, upper stage venting of liquid oxygen created a fast moving fuzzy white sphere in space over SA'\\\"}\"</td></tr><tr><td>\"{\\\"id_str\\\":384410742675341312,\\\"created_at\\\":\\\"2013-09-29 20:13:57\\\",\\\"text\\\":\\\"b'Between this flight &amp; Grasshopper tests, I think we now have all the pieces of the puzzle to bring the rocket back home.'\\\"}\"</td></tr><tr><td>\"{\\\"id_str\\\":384407846349062144,\\\"created_at\\\":\\\"2013-09-29 20:02:27\\\",\\\"text\\\":\\\"b'Rocket booster relit twice (supersonic retro &amp; landing), but spun up due to aero torque, so fuel centrifuged &amp; we flamed out'\\\"}\"</td></tr><tr><td>\"{\\\"id_str\\\":384392608350367744,\\\"created_at\\\":\\\"2013-09-29 19:01:54\\\",\\\"text\\\":\\\"b'Launch was good. All satellites deployed at the targeted orbit insertion vectors. http:\\\\/\\\\/t.co\\\\/SUYMH7W9pH'\\\"}\"</td></tr><tr><td>\"{\\\"id_str\\\":384336908949524480,\\\"created_at\\\":\\\"2013-09-29 15:20:34\\\",\\\"text\\\":\\\"b'You can watch the launch at http:\\\\/\\\\/t.co\\\\/2ZSXeqWKvy http:\\\\/\\\\/t.co\\\\/u5VEUgRu8g'\\\"}\"</td></tr><tr><td>\"{\\\"id_str\\\":301050531923779585,\\\"created_at\\\":\\\"2013-02-11 19:30:14\\\",\\\"text\\\":\\\"b'Tesla blog coming soon detailing what actually happened on Broder\\\\\\\\'s NYTimes \\\\\\\"range test\\\\\\\". Also lining up other journalists to do same drive.'\\\"}\"</td></tr><tr><td>\"{\\\"id_str\\\":301049593385340928,\\\"created_at\\\":\\\"2013-02-11 19:26:30\\\",\\\"text\\\":\\\"b\\\\\\\"NYTimes article about Tesla range in cold is fake. Vehicle logs tell true story that he didn't actually charge to max &amp; took a long detour.\\\\\\\"\\\"}\"</td></tr><tr><td>\"{\\\"id_str\\\":300664934663061505,\\\"created_at\\\":\\\"2013-02-10 17:58:01\\\",\\\"text\\\":\\\"b\\\\\\\"Busted \\\\\\\\xe2\\\\\\\\x80\\\\\\\\x9c@TheOnion: Barack Obama: 'Look, I'm Just Going To Say It: I Collect Antique Nazi Memorabilia' http:\\\\/\\\\/t.co\\\\/KExXRoBL\\\\\\\\xe2\\\\\\\\x80\\\\\\\\x9d\\\\\\\"\\\"}\"</td></tr><tr><td>\"{\\\"id_str\\\":300234184193105920,\\\"created_at\\\":\\\"2013-02-09 13:26:22\\\",\\\"text\\\":\\\"b'Next Grasshopper rocket test is called the Johnny Cash Hover Slam (yeah baby!). Might be our first smoking crater...'\\\"}\"</td></tr><tr><td>\"{\\\"id_str\\\":299961897426505729,\\\"created_at\\\":\\\"2013-02-08 19:24:24\\\",\\\"text\\\":\\\"b'SpaceX software engineering is doing an AMA on Reddit   \\\\\\\\nhttp:\\\\/\\\\/t.co\\\\/hwkUwM5v'\\\"}\"</td></tr><tr><td>\"{\\\"id_str\\\":299961175490297856,\\\"created_at\\\":\\\"2013-02-08 19:21:31\\\",\\\"text\\\":\\\"b'Our Great^n Grandfather http:\\\\/\\\\/t.co\\\\/zxndg3WF'\\\"}\"</td></tr><tr><td>\"{\\\"id_str\\\":299780102500282368,\\\"created_at\\\":\\\"2013-02-08 07:22:00\\\",\\\"text\\\":\\\"b'RT @jordanrushbloch: My latest project on the Tesla Model S and network of solar-powered Superchargers. http:\\\\/\\\\/t.co\\\\/tBTGCcrK'\\\"}\"</td></tr><tr><td>\"{\\\"id_str\\\":299779101366030336,\\\"created_at\\\":\\\"2013-02-08 07:18:02\\\",\\\"text\\\":\\\"b\\\\\\\"No, they are not \\\\\\\\xe2\\\\\\\\x80\\\\\\\\x9c@AutoblogGreen: Are electric vehicles really a 'dead end'? @Reuters sure thinks so http:\\\\/\\\\/t.co\\\\/nwAdCLU2\\\\\\\\xe2\\\\\\\\x80\\\\\\\\x9d\\\\\\\"\\\"}\"</td></tr><tr><td>\"{\\\"id_str\\\":298338092652318720,\\\"created_at\\\":\\\"2013-02-04 07:51:58\\\",\\\"text\\\":\\\"b'Wow, 180,000 American killed by other Americans since 9\\\\/11 vs only 33 by muslim terrorists\\\\\\\\nhttp:\\\\/\\\\/t.co\\\\/BEdhLqJS'\\\"}\"</td></tr><tr><td>\"{\\\"id_str\\\":298266134128496641,\\\"created_at\\\":\\\"2013-02-04 03:06:02\\\",\\\"text\\\":\\\"b'Great spirit here in the Superdome. Awesome rally by the @49ers!! #SB47'\\\"}\"</td></tr><tr><td>\"{\\\"id_str\\\":748140919501656066,\\\"created_at\\\":\\\"2016-06-29 13:07:49\\\",\\\"text\\\":\\\"b'My son recently asked what my favorite animal was. Well, of course \\\\\\\\xe2\\\\\\\\x80\\\\\\\\xa6 https:\\\\/\\\\/t.co\\\\/hpTniMe1mF'\\\"}\"</td></tr><tr><td>\"{\\\"id_str\\\":748136300952182785,\\\"created_at\\\":\\\"2016-06-29 12:49:28\\\",\\\"text\\\":\\\"b'Thoughtful analysis of the Tesla\\\\/SolarCity merger by @tsrandall https:\\\\/\\\\/t.co\\\\/4Ba3px7hb8'\\\"}\"</td></tr><tr><td>\"{\\\"id_str\\\":747887079808327680,\\\"created_at\\\":\\\"2016-06-28 20:19:09\\\",\\\"text\\\":\\\"b'Thanks for the kind bday wishes!'\\\"}\"</td></tr><tr><td>\"{\\\"id_str\\\":747300198750183424,\\\"created_at\\\":\\\"2016-06-27 05:27:06\\\",\\\"text\\\":\\\"b'@vicentes cute!'\\\"}\"</td></tr><tr><td>\"{\\\"id_str\\\":747298912986226689,\\\"created_at\\\":\\\"2016-06-27 05:21:59\\\",\\\"text\\\":\\\"b'@tjeviston @business exactly'\\\"}\"</td></tr><tr><td>\"{\\\"id_str\\\":747298731691696130,\\\"created_at\\\":\\\"2016-06-27 05:21:16\\\",\\\"text\\\":\\\"b\\\\\\\"@newsycombinator @mashable We haven't signed anything for a factory in China\\\\\\\"\\\"}\"</td></tr><tr><td>\"{\\\"id_str\\\":747298044861784064,\\\"created_at\\\":\\\"2016-06-27 05:18:32\\\",\\\"text\\\":\\\"b'Deluded, deranged, etc. Journalistic thesaurus sure got a lot of use last week ...\\\\\\\\nhttps:\\\\/\\\\/t.co\\\\/KFHD1FXvIe'\\\"}\"</td></tr><tr><td>\"{\\\"id_str\\\":746242506816262144,\\\"created_at\\\":\\\"2016-06-24 07:24:12\\\",\\\"text\\\":\\\"b'RT @WIRED: Tesla is done being an automaker\\\\\\\\xe2\\\\\\\\x80\\\\\\\\x94it is now an energy company: https:\\\\/\\\\/t.co\\\\/GjIfnOBpk6 https:\\\\/\\\\/t.co\\\\/mUge7Gj2th'\\\"}\"</td></tr><tr><td>\"{\\\"id_str\\\":745424036121837568,\\\"created_at\\\":\\\"2016-06-22 01:11:54\\\",\\\"text\\\":\\\"b'@Recode Article is misleading to readers. No one is \\\\\\\"taking home\\\\\\\" anything. In a stock for stock transaction, nothing comes off the table.'\\\"}\"</td></tr><tr><td>\"{\\\"id_str\\\":745010737215504384,\\\"created_at\\\":\\\"2016-06-20 21:49:36\\\",\\\"text\\\":\\\"b'@WilliamShatner Of course. Our love will never die.'\\\"}\"</td></tr><tr><td>\"{\\\"id_str\\\":820036970025918464,\\\"created_at\\\":\\\"2017-01-13 22:37:03\\\",\\\"text\\\":\\\"b\\\\\\\"RT @SpaceX: Tracking ground wind for tomorrow's launch attempt of 10 @IridiumComm NEXT satellites. Weather overall 60% favorable https:\\\\/\\\\/t.\\\\\\\\xe2\\\\\\\\x80\\\\\\\\xa6\\\\\\\"\\\"}\"</td></tr><tr><td>\"{\\\"id_str\\\":819748895878094848,\\\"created_at\\\":\\\"2017-01-13 03:32:21\\\",\\\"text\\\":\\\"b'RT @TeslaMotors: Building the Supercharger Network for the Future https:\\\\/\\\\/t.co\\\\/siR67vPd2T'\\\"}\"</td></tr><tr><td>\"{\\\"id_str\\\":819664721888452608,\\\"created_at\\\":\\\"2017-01-12 21:57:52\\\",\\\"text\\\":\\\"b'@brandonr182 @sama Have you tried steam engines? They are amazing.'\\\"}\"</td></tr><tr><td>\"{\\\"id_str\\\":819664369818578944,\\\"created_at\\\":\\\"2017-01-12 21:56:29\\\",\\\"text\\\":\\\"b'@MotorTrend Sarah should be in contact with you soon about doing a benchmark test'\\\"}\"</td></tr><tr><td>\"{\\\"id_str\\\":819663998878564352,\\\"created_at\\\":\\\"2017-01-12 21:55:00\\\",\\\"text\\\":\\\"b'@gurnam @brianstucki @reddit It is'\\\"}\"</td></tr><tr><td>\"{\\\"id_str\\\":819663807827955712,\\\"created_at\\\":\\\"2017-01-12 21:54:15\\\",\\\"text\\\":\\\"b'@JRMYGRNBRGR Hopefully, early next week. Results from limited release look good so far. Trying our best to be super careful.'\\\"}\"</td></tr><tr><td>\"{\\\"id_str\\\":819661044867944448,\\\"created_at\\\":\\\"2017-01-12 21:43:16\\\",\\\"text\\\":\\\"b'@trevoclark Good point. 2.34 would be a production Tesla. Stripped down, maybe as low as 2.1.'\\\"}\"</td></tr><tr><td>\"{\\\"id_str\\\":819660611357319170,\\\"created_at\\\":\\\"2017-01-12 21:41:32\\\",\\\"text\\\":\\\"b'@robsmallshire @ClareMacraeUK It will'\\\"}\"</td></tr><tr><td>\"{\\\"id_str\\\":819609111801139200,\\\"created_at\\\":\\\"2017-01-12 18:16:54\\\",\\\"text\\\":\\\"b'Promising early results from the Ludricrous Easter egg. Looks like 0 to 60 mph in 2.34 sec (Motor Trend spec) might be achievable...'\\\"}\"</td></tr><tr><td>\"{\\\"id_str\\\":819606921824980992,\\\"created_at\\\":\\\"2017-01-12 18:08:12\\\",\\\"text\\\":\\\"b'@mjreddyMD If the results look good from the latest point release, then we are days away from a release to all HW1\\\\\\\\xe2\\\\\\\\x80\\\\\\\\xa6 https:\\\\/\\\\/t.co\\\\/tfJJSklIjj'\\\"}\"</td></tr><tr><td>\"{\\\"id_str\\\":562321505854300161,\\\"created_at\\\":\\\"2015-02-02 18:47:49\\\",\\\"text\\\":\\\"b'RT @SpaceX: America\\\\\\\\xe2\\\\\\\\x80\\\\\\\\x99s next gen crewed spacecraft is almost ready for a test flight. Pad abort vehicle shipping to FL shortly. http:\\\\/\\\\/t.co\\\\/X\\\\\\\\xe2\\\\\\\\x80\\\\\\\\xa6'\\\"}\"</td></tr><tr><td>\"{\\\"id_str\\\":561002248827052034,\\\"created_at\\\":\\\"2015-01-30 03:25:33\\\",\\\"text\\\":\\\"b'If you are curious about the P85D, you can schedule a test drive here: http:\\\\/\\\\/t.co\\\\/Eu19pBUpNO'\\\"}\"</td></tr><tr><td>\"{\\\"id_str\\\":560909571691380736,\\\"created_at\\\":\\\"2015-01-29 21:17:17\\\",\\\"text\\\":\\\"b'Painting the name on the droneship ... http:\\\\/\\\\/t.co\\\\/X8R8O4KjPx'\\\"}\"</td></tr><tr><td>\"{\\\"id_str\\\":560908370623098882,\\\"created_at\\\":\\\"2015-01-29 21:12:31\\\",\\\"text\\\":\\\"b'P85 acceleration will also improve, but not quite as much'\\\"}\"</td></tr><tr><td>\"{\\\"id_str\\\":560906999664508931,\\\"created_at\\\":\\\"2015-01-29 21:07:04\\\",\\\"text\\\":\\\"b'Video made by owner of a P85D going up a 14% grade on snow passing a whole bunch of stuck SUVs https:\\\\/\\\\/t.co\\\\/LC9AHx0fuC'\\\"}\"</td></tr><tr><td>\"{\\\"id_str\\\":560900676453433344,\\\"created_at\\\":\\\"2015-01-29 20:41:56\\\",\\\"text\\\":\\\"b'Tesla dual motor cars are also all-wheel drive. Main goal of dual motor was actually insane traction on snow. Insane speed was a side effect'\\\"}\"</td></tr><tr><td>\"{\\\"id_str\\\":560898568748531712,\\\"created_at\\\":\\\"2015-01-29 20:33:34\\\",\\\"text\\\":\\\"b'Tesla P85D 0 to 60mph acceleration will improve by ~0.1 sec soon via over-the-air software update to inverter algorithm'\\\"}\"</td></tr><tr><td>\"{\\\"id_str\\\":560688975778557952,\\\"created_at\\\":\\\"2015-01-29 06:40:43\\\",\\\"text\\\":\\\"b'RT @SpaceX: Updated animation of Falcon Heavy flight and booster recovery. Check it out: http:\\\\/\\\\/t.co\\\\/Y4OvdU8yQ5 http:\\\\/\\\\/t.co\\\\/LN7yRVAvkT'\\\"}\"</td></tr><tr><td>\"{\\\"id_str\\\":560328986341818368,\\\"created_at\\\":\\\"2015-01-28 06:50:15\\\",\\\"text\\\":\\\"b'Great DragTimes video of people experiencing P85D \\\\\\\"Insane Mode\\\\\\\" acceleration for the first time https:\\\\/\\\\/t.co\\\\/gqN9oremMQ'\\\"}\"</td></tr><tr><td>\"{\\\"id_str\\\":559629011983147008,\\\"created_at\\\":\\\"2015-01-26 08:28:48\\\",\\\"text\\\":\\\"b'Final one: anything launched by a railgun (if you could ever reach ~ Mach 27) would explode upon exiting the barrel in our dense atmosphere'\\\"}\"</td></tr><tr><td>\"{\\\"id_str\\\":406194506011525120,\\\"created_at\\\":\\\"2013-11-28 22:54:51\\\",\\\"text\\\":\\\"b'Launch aborted by autosequence due to slower than expected thrust ramp. Seems ok on closer inspection. Cycling countdown.'\\\"}\"</td></tr><tr><td>\"{\\\"id_str\\\":406187728850944000,\\\"created_at\\\":\\\"2013-11-28 22:27:55\\\",\\\"text\\\":\\\"b'Live stream of launch at http:\\\\/\\\\/t.co\\\\/Oo569cuarz'\\\"}\"</td></tr><tr><td>\"{\\\"id_str\\\":406186792409632769,\\\"created_at\\\":\\\"2013-11-28 22:24:12\\\",\\\"text\\\":\\\"b'15 mins to liftoff http:\\\\/\\\\/t.co\\\\/3jDrHRSPQZ'\\\"}\"</td></tr><tr><td>\"{\\\"id_str\\\":405989364322533376,\\\"created_at\\\":\\\"2013-11-28 09:19:42\\\",\\\"text\\\":\\\"b'@lomac92 @WIRED No, almost all fuel\\\\/ox is being reserved for SES satellite to give max chance of success'\\\"}\"</td></tr><tr><td>\"{\\\"id_str\\\":405988869868642304,\\\"created_at\\\":\\\"2013-11-28 09:17:44\\\",\\\"text\\\":\\\"b'Model S Owner drives 3121 miles solo from Canada to Mexico http:\\\\/\\\\/t.co\\\\/8G8l1utgS2'\\\"}\"</td></tr><tr><td>\"{\\\"id_str\\\":405965445628710912,\\\"created_at\\\":\\\"2013-11-28 07:44:39\\\",\\\"text\\\":\\\"b'Good description of the launch by @WIRED: http:\\\\/\\\\/t.co\\\\/QnLhvviEAn'\\\"}\"</td></tr><tr><td>\"{\\\"id_str\\\":405924331358023680,\\\"created_at\\\":\\\"2013-11-28 05:01:16\\\",\\\"text\\\":\\\"b\\\\\\\"Don't actually mean to knock Honda -- their cars are solid -- but the park outside (or yr house might burn down) advice was awesome\\\\\\\"\\\"}\"</td></tr><tr><td>\"{\\\"id_str\\\":405922013111676928,\\\"created_at\\\":\\\"2013-11-28 04:52:04\\\",\\\"text\\\":\\\"b'@AdamMKE Model S can seat 5 adults, two kids and has a front trunk for luggage. Might work for you.'\\\"}\"</td></tr><tr><td>\"{\\\"id_str\\\":405918568635580416,\\\"created_at\\\":\\\"2013-11-28 04:38:23\\\",\\\"text\\\":\\\"b'...but only if you like your house \\\\\\\"Honda recalls Fit for fire risk, says park it outside http:\\\\/\\\\/t.co\\\\/tLpZ7HBIdV \\\\\\\"'\\\"}\"</td></tr><tr><td>\"{\\\"id_str\\\":405910027661496320,\\\"created_at\\\":\\\"2013-11-28 04:04:26\\\",\\\"text\\\":\\\"b'RT @SpaceX: Falcon 9 launch window opens tmrw at 5:39pm EST. Watch LIVE at http:\\\\/\\\\/t.co\\\\/wytY3mnBf1. Happy #Spacegiving! http:\\\\/\\\\/t.co\\\\/leacczWC\\\\\\\\xe2\\\\\\\\x80\\\\\\\\xa6'\\\"}\"</td></tr><tr><td>\"{\\\"id_str\\\":678007414298296320,\\\"created_at\\\":\\\"2015-12-19 00:22:18\\\",\\\"text\\\":\\\"b\\\\\\\"RT @InsideEVs: Long-Term Owner's Review Of Tesla Model X https:\\\\/\\\\/t.co\\\\/tzJoxvqTWK\\\\\\\"\\\"}\"</td></tr><tr><td>\"{\\\"id_str\\\":678004229047357440,\\\"created_at\\\":\\\"2015-12-19 00:09:39\\\",\\\"text\\\":\\\"b'Static fire test looks good. Pending data review, will aim to launch Sunday.'\\\"}\"</td></tr><tr><td>\"{\\\"id_str\\\":677980503459270657,\\\"created_at\\\":\\\"2015-12-18 22:35:22\\\",\\\"text\\\":\\\"b'Rounding up to 1 sec for a bit of timing margin. Updating flight computer command sequence \\\\\\\\xe2\\\\\\\\x80\\\\\\\\xa6'\\\"}\"</td></tr><tr><td>\"{\\\"id_str\\\":677970721730002944,\\\"created_at\\\":\\\"2015-12-18 21:56:30\\\",\\\"text\\\":\\\"b'Aborted on ignition timing due to slow ground side valve. Adjusting ignition sequence by 0.6 secs for next attempt.'\\\"}\"</td></tr><tr><td>\"{\\\"id_str\\\":677961117595906048,\\\"created_at\\\":\\\"2015-12-18 21:18:21\\\",\\\"text\\\":\\\"b'About 2 mins from static fire'\\\"}\"</td></tr><tr><td>\"{\\\"id_str\\\":677949037815840768,\\\"created_at\\\":\\\"2015-12-18 20:30:20\\\",\\\"text\\\":\\\"b'@elonmusk holding for issue resolution'\\\"}\"</td></tr><tr><td>\"{\\\"id_str\\\":677945101184708609,\\\"created_at\\\":\\\"2015-12-18 20:14:42\\\",\\\"text\\\":\\\"b'Abort triggered by flight computer on upper stage throttle valve. Adjusting thresholds and restarting count at T-10 mins.'\\\"}\"</td></tr><tr><td>\"{\\\"id_str\\\":677940293212102656,\\\"created_at\\\":\\\"2015-12-18 19:55:36\\\",\\\"text\\\":\\\"b'5 mins from static fire test'\\\"}\"</td></tr><tr><td>\"{\\\"id_str\\\":677666779494248449,\\\"created_at\\\":\\\"2015-12-18 01:48:45\\\",\\\"text\\\":\\\"b'@lukealization yes, from 70F to 20 F'\\\"}\"</td></tr><tr><td>\"{\\\"id_str\\\":677666464208416768,\\\"created_at\\\":\\\"2015-12-18 01:47:30\\\",\\\"text\\\":\\\"b'@craigcocca It worked in Texas'\\\"}\"</td></tr><tr><td>\"{\\\"id_str\\\":536258543675252739,\\\"created_at\\\":\\\"2014-11-22 20:42:54\\\",\\\"text\\\":\\\"b'Testing operation of hypersonic grid fins (x-wing config) going on next flight http:\\\\/\\\\/t.co\\\\/O1tMSIXxsT'\\\"}\"</td></tr><tr><td>\"{\\\"id_str\\\":535914463388782592,\\\"created_at\\\":\\\"2014-11-21 21:55:39\\\",\\\"text\\\":\\\"b'Cuteness overload MT \\\\\\\\xe2\\\\\\\\x80\\\\\\\\x9c@WIRED: A baby baboon snuggled with a teddy bear http:\\\\/\\\\/t.co\\\\/wuovq1HPEY http:\\\\/\\\\/t.co\\\\/UHK8MnGj4i\\\\\\\\xe2\\\\\\\\x80\\\\\\\\x9d'\\\"}\"</td></tr><tr><td>\"{\\\"id_str\\\":535905906442403840,\\\"created_at\\\":\\\"2014-11-21 21:21:39\\\",\\\"text\\\":\\\"b'About the Nevada deal with Tesla ... http:\\\\/\\\\/t.co\\\\/hAeyOc5OzC'\\\"}\"</td></tr><tr><td>\"{\\\"id_str\\\":535085589456879616,\\\"created_at\\\":\\\"2014-11-19 15:02:00\\\",\\\"text\\\":\\\"b'Really hate it when companies bring out an awesome show car and then you can never actually buy it. So lame.'\\\"}\"</td></tr><tr><td>\"{\\\"id_str\\\":535085033904558080,\\\"created_at\\\":\\\"2014-11-19 14:59:48\\\",\\\"text\\\":\\\"b'Rumors about canceling Falcon wing doors are false. At Tesla, the production car will always be better than the show car.'\\\"}\"</td></tr><tr><td>\"{\\\"id_str\\\":535082394441613312,\\\"created_at\\\":\\\"2014-11-19 14:49:18\\\",\\\"text\\\":\\\"b\\\\\\\"RT @Miles_Brundage: DeepMind co-founder Shane Legg on unsafe AIs being given access to supercomputers in the 2020s (@elonmusk's fear?) http\\\\\\\\xe2\\\\\\\\x80\\\\\\\\xa6\\\\\\\"\\\"}\"</td></tr><tr><td>\"{\\\"id_str\\\":534731793832751106,\\\"created_at\\\":\\\"2014-11-18 15:36:09\\\",\\\"text\\\":\\\"b'Tesla comic book http:\\\\/\\\\/t.co\\\\/enyjX9bcGE'\\\"}\"</td></tr><tr><td>\"{\\\"id_str\\\":534607155546968064,\\\"created_at\\\":\\\"2014-11-18 07:20:53\\\",\\\"text\\\":\\\"b'RT @Techmeme: Advances in image-recognition software show identification of entire scenes, not just objects http:\\\\/\\\\/t.co\\\\/PaLNRXi53q http:\\\\/\\\\/t\\\\\\\\xe2\\\\\\\\x80\\\\\\\\xa6'\\\"}\"</td></tr><tr><td>\"{\\\"id_str\\\":532368290942058496,\\\"created_at\\\":\\\"2014-11-12 03:04:26\\\",\\\"text\\\":\\\"b'RT @TeslaMotors: Hong Kong street view from a right hand drive Model S. http:\\\\/\\\\/t.co\\\\/HWthvB72je'\\\"}\"</td></tr><tr><td>\"{\\\"id_str\\\":532205104993038336,\\\"created_at\\\":\\\"2014-11-11 16:15:59\\\",\\\"text\\\":\\\"b'RT @AutoblogGreen: The @TeslaMotors Model S scores Euro NCAP 5-star safety score, w\\\\/cool video http:\\\\/\\\\/t.co\\\\/Yh6l1TF5dF'\\\"}\"</td></tr><tr><td>\"{\\\"id_str\\\":178865792371277825,\\\"created_at\\\":\\\"2012-03-11 15:31:43\\\",\\\"text\\\":\\\"b'Just passed a place called the Sugar Shack in a Louisiana swamp. I wonder what happens there? http:\\\\/\\\\/t.co\\\\/1MomQnNe'\\\"}\"</td></tr><tr><td>\"{\\\"id_str\\\":177210012911927299,\\\"created_at\\\":\\\"2012-03-07 01:52:14\\\",\\\"text\\\":\\\"b'The President of Serbia came by our booth at the Geneva Motor Show and talked about Nikola Tesla http:\\\\/\\\\/t.co\\\\/KIhxc0TF'\\\"}\"</td></tr><tr><td>\"{\\\"id_str\\\":176181571479552001,\\\"created_at\\\":\\\"2012-03-04 05:45:34\\\",\\\"text\\\":\\\"b'RT @westcoastbill: lol my friends car \\\\\\\\xe2\\\\\\\\x80\\\\\\\\x9c@ryan: See also: http:\\\\/\\\\/t.co\\\\/jXuJU0mf\\\\\\\\xe2\\\\\\\\x80\\\\\\\\x9d'\\\"}\"</td></tr><tr><td>\"{\\\"id_str\\\":175377364551868416,\\\"created_at\\\":\\\"2012-03-02 00:29:56\\\",\\\"text\\\":\\\"b'Dawn at Cape Canaveral http:\\\\/\\\\/t.co\\\\/ZHkcffYr'\\\"}\"</td></tr><tr><td>\"{\\\"id_str\\\":174751268215066625,\\\"created_at\\\":\\\"2012-02-29 07:02:03\\\",\\\"text\\\":\\\"b\\\\\\\"@TomMao1 Studied physics in college, read a lot of books and was taught by the world's leading domain experts at SpaceX.\\\\\\\"\\\"}\"</td></tr><tr><td>\"{\\\"id_str\\\":174700079490412544,\\\"created_at\\\":\\\"2012-02-29 03:38:39\\\",\\\"text\\\":\\\"b'RT @timminchin: A really clear and concise article debunking climate science sceptics. Please read & RT.  http:\\\\/\\\\/t.co\\\\/NmbwbFR1'\\\"}\"</td></tr><tr><td>\"{\\\"id_str\\\":174621355436802049,\\\"created_at\\\":\\\"2012-02-28 22:25:50\\\",\\\"text\\\":\\\"b'Falcon 9 and Dragon now vertical on the launch pad, surrounded by 300 ft tall lightning towers http:\\\\/\\\\/t.co\\\\/iERgA2RP'\\\"}\"</td></tr><tr><td>\"{\\\"id_str\\\":173531986529497089,\\\"created_at\\\":\\\"2012-02-25 22:17:04\\\",\\\"text\\\":\\\"b'@LooperNor Yes, this will, if all goes well, be the first commercial spaceship to dock with the Space Station. T zero ~ end of April.'\\\"}\"</td></tr><tr><td>\"{\\\"id_str\\\":173528867699568641,\\\"created_at\\\":\\\"2012-02-25 22:04:41\\\",\\\"text\\\":\\\"b'Dragon spaceship and Falcon 9 rocket just completed final assembly at Cape Canaveral http:\\\\/\\\\/t.co\\\\/4GrSr3VU'\\\"}\"</td></tr><tr><td>\"{\\\"id_str\\\":173476402748854274,\\\"created_at\\\":\\\"2012-02-25 18:36:12\\\",\\\"text\\\":\\\"b'Supporting the drive to get a #PlutoStamp for the @NASA New Horizons mission'\\\"}\"</td></tr><tr><td>\"{\\\"id_str\\\":725365829479460864,\\\"created_at\\\":\\\"2016-04-27 16:47:45\\\",\\\"text\\\":\\\"b'@Cardoso It could land on Venus no problem, but would last maybe a few hours. Tough local environment.'\\\"}\"</td></tr><tr><td>\"{\\\"id_str\\\":725365200098988032,\\\"created_at\\\":\\\"2016-04-27 16:45:14\\\",\\\"text\\\":\\\"b\\\\\\\"But wouldn't recommend transporting astronauts beyond Earth-moon region. Wouldn't be fun for longer journeys. Internal volume ~size of SUV.\\\\\\\"\\\"}\"</td></tr><tr><td>\"{\\\"id_str\\\":725364699303301120,\\\"created_at\\\":\\\"2016-04-27 16:43:15\\\",\\\"text\\\":\\\"b'Dragon 2 is designed to be able to land anywhere in the solar system. Red Dragon Mars mission is the first test flight.'\\\"}\"</td></tr><tr><td>\"{\\\"id_str\\\":725351655433068544,\\\"created_at\\\":\\\"2016-04-27 15:51:25\\\",\\\"text\\\":\\\"b'RT @SpaceX: Planning to send Dragon to Mars as soon as 2018. Red Dragons will inform overall Mars architecture, details to come https:\\\\/\\\\/t.c\\\\\\\\xe2\\\\\\\\x80\\\\\\\\xa6'\\\"}\"</td></tr><tr><td>\"{\\\"id_str\\\":725028258614370304,\\\"created_at\\\":\\\"2016-04-26 18:26:21\\\",\\\"text\\\":\\\"b'RT @ElectrekCo: Automakers entrenched in fuel cell hydrogen are succumbing to physics and going electric https:\\\\/\\\\/t.co\\\\/NRVVuGzP1F https:\\\\/\\\\/t.\\\\\\\\xe2\\\\\\\\x80\\\\\\\\xa6'\\\"}\"</td></tr><tr><td>\"{\\\"id_str\\\":724175962246500352,\\\"created_at\\\":\\\"2016-04-24 09:59:38\\\",\\\"text\\\":\\\"b'RT @physorg_com: Solar-powered #plane completes journey across Pacific Ocean https:\\\\/\\\\/t.co\\\\/FXHG2T2DS7'\\\"}\"</td></tr><tr><td>\"{\\\"id_str\\\":724160269480431620,\\\"created_at\\\":\\\"2016-04-24 08:57:17\\\",\\\"text\\\":\\\"b'@KristianNairn A 3 should be workable, but an S or particularly an X would be better'\\\"}\"</td></tr><tr><td>\"{\\\"id_str\\\":723752659446980608,\\\"created_at\\\":\\\"2016-04-23 05:57:35\\\",\\\"text\\\":\\\"b\\\\\\\"RT @MotorTrend: Have you read our new #1 story for the year? It's an exclusive look at the #Tesla #Model3. https:\\\\/\\\\/t.co\\\\/oV9hE9nuuv https:\\\\/\\\\/\\\\\\\\xe2\\\\\\\\x80\\\\\\\\xa6\\\\\\\"\\\"}\"</td></tr><tr><td>\"{\\\"id_str\\\":723260583047516160,\\\"created_at\\\":\\\"2016-04-21 21:22:15\\\",\\\"text\\\":\\\"b'RT @hamids: Lots of chatter about Tesla Model X issues\\\\\\\\xe2\\\\\\\\x80\\\\\\\\xa6I\\\\\\\\xe2\\\\\\\\x80\\\\\\\\x99ve had none. Most amazing car ever! My Review: https:\\\\/\\\\/t.co\\\\/nVIKYD0Vmm @elonmusk @\\\\\\\\xe2\\\\\\\\x80\\\\\\\\xa6'\\\"}\"</td></tr><tr><td>\"{\\\"id_str\\\":723260501153710080,\\\"created_at\\\":\\\"2016-04-21 21:21:55\\\",\\\"text\\\":\\\"b'RT @hamids: My doors have gone through hundreds of open\\\\/close kid testings! https:\\\\/\\\\/t.co\\\\/9Pufi0cafo\\\\\\\\xe2\\\\\\\\x80\\\\\\\\xa6 @elonmusk @TeslaMotors https:\\\\/\\\\/t.co\\\\/Rf\\\\\\\\xe2\\\\\\\\x80\\\\\\\\xa6'\\\"}\"</td></tr><tr><td>\"{\\\"id_str\\\":466521428914094083,\\\"created_at\\\":\\\"2014-05-14 10:12:30\\\",\\\"text\\\":\\\"b'@Oatmeal may all technology in the future follow the zeroth law...'\\\"}\"</td></tr><tr><td>\"{\\\"id_str\\\":466518346574626817,\\\"created_at\\\":\\\"2014-05-14 10:00:15\\\",\\\"text\\\":\\\"b'@Oatmeal I would be happy to help'\\\"}\"</td></tr><tr><td>\"{\\\"id_str\\\":466276798058078208,\\\"created_at\\\":\\\"2014-05-13 18:00:26\\\",\\\"text\\\":\\\"b'RT @Space_News_Intl: Rogozin Calls for Ban on U.S. Military Use of RD-180 http:\\\\/\\\\/t.co\\\\/lumzgOimF6'\\\"}\"</td></tr><tr><td>\"{\\\"id_str\\\":465030743962296320,\\\"created_at\\\":\\\"2014-05-10 07:29:03\\\",\\\"text\\\":\\\"b'Worth seeing @ChefTheFilm by @Jon_Favreau. Make sure to plan for a meal afterwards!'\\\"}\"</td></tr><tr><td>\"{\\\"id_str\\\":464491775264960512,\\\"created_at\\\":\\\"2014-05-08 19:47:23\\\",\\\"text\\\":\\\"b'Trouble in Missouri. Auto dealers trying to sneak in a monopoly creation bill today http:\\\\/\\\\/t.co\\\\/p6zqtsaYpi'\\\"}\"</td></tr><tr><td>\"{\\\"id_str\\\":462104679116050432,\\\"created_at\\\":\\\"2014-05-02 05:41:55\\\",\\\"text\\\":\\\"b'@rocketrepreneur ~40%'\\\"}\"</td></tr><tr><td>\"{\\\"id_str\\\":462100295896412160,\\\"created_at\\\":\\\"2014-05-02 05:24:30\\\",\\\"text\\\":\\\"b'Second flight of Falcon 9-R. 1000m, hover and land (with cows) http:\\\\/\\\\/t.co\\\\/tixmBH5sw6'\\\"}\"</td></tr><tr><td>\"{\\\"id_str\\\":461897294191673344,\\\"created_at\\\":\\\"2014-05-01 15:57:51\\\",\\\"text\\\":\\\"b'RT @arstechnica: SpaceX says rocket purchases violate Russian sanctions, gets injunction http:\\\\/\\\\/t.co\\\\/IzRJzVCt1H by @Lee_Ars'\\\"}\"</td></tr><tr><td>\"{\\\"id_str\\\":461283368693669888,\\\"created_at\\\":\\\"2014-04-29 23:18:19\\\",\\\"text\\\":\\\"b'Cover drops on May 29. Actual flight design hardware of crew Dragon, not a mockup.'\\\"}\"</td></tr><tr><td>\"{\\\"id_str\\\":461279062837968897,\\\"created_at\\\":\\\"2014-04-29 23:01:13\\\",\\\"text\\\":\\\"b'Sounds like this might be a good time to unveil the new Dragon Mk 2 spaceship that @SpaceX has been working on w @NASA. No trampoline needed'\\\"}\"</td></tr><tr><td>\"{\\\"id_str\\\":407540177289371648,\\\"created_at\\\":\\\"2013-12-02 16:02:04\\\",\\\"text\\\":\\\"b'All known rocket anomalies resolved. Will spend another day rechecking to be sure. Launch attempt tmrw eve w Wed as backup.'\\\"}\"</td></tr><tr><td>\"{\\\"id_str\\\":407315762387636224,\\\"created_at\\\":\\\"2013-12-02 01:10:19\\\",\\\"text\\\":\\\"b'The gas generator is a small rocket engine that powers the turbopump, which produces 7000 horsepower &amp; weighs 160 lbs'\\\"}\"</td></tr><tr><td>\"{\\\"id_str\\\":407313331247398912,\\\"created_at\\\":\\\"2013-12-02 01:00:40\\\",\\\"text\\\":\\\"b'Engines are cycling cleanly w ground pneumatics. Replaced gas generator on engine 9 (center) as a precautionary measure.'\\\"}\"</td></tr><tr><td>\"{\\\"id_str\\\":406806983023820800,\\\"created_at\\\":\\\"2013-11-30 15:28:37\\\",\\\"text\\\":\\\"b\\\\\\\"Abort was caused by oxygen in ground side TEA-TEB. Upper stage on separate internal circuit, so doesn't face same risk.\\\\\\\"\\\"}\"</td></tr><tr><td>\"{\\\"id_str\\\":406799700940324864,\\\"created_at\\\":\\\"2013-11-30 14:59:41\\\",\\\"text\\\":\\\"b'Rocket engines are healthy, but cleaning turbopump gas generators will take another day. Aiming for Mon eve launch.'\\\"}\"</td></tr><tr><td>\"{\\\"id_str\\\":406211326282055681,\\\"created_at\\\":\\\"2013-11-29 00:01:41\\\",\\\"text\\\":\\\"b'@WilliamShatner Will do. Probably at least a few days. Depends on whether we need to pull the turbopumps.'\\\"}\"</td></tr><tr><td>\"{\\\"id_str\\\":406209289494462464,\\\"created_at\\\":\\\"2013-11-28 23:53:36\\\",\\\"text\\\":\\\"b'We called manual abort. Better to be paranoid and wrong. Bringing rocket down to borescope engines ...'\\\"}\"</td></tr><tr><td>\"{\\\"id_str\\\":406205904141697024,\\\"created_at\\\":\\\"2013-11-28 23:40:09\\\",\\\"text\\\":\\\"b'If launch aborts, we will bring the rocket down for engine inspection, so probably a few days before next attempt'\\\"}\"</td></tr><tr><td>\"{\\\"id_str\\\":406205240040771584,\\\"created_at\\\":\\\"2013-11-28 23:37:30\\\",\\\"text\\\":\\\"b'Increasing helium spin start pressure. Probably &lt;50% chance of passing all aborts, but worth a try. Countdown resuming ...'\\\"}\"</td></tr><tr><td>\"{\\\"id_str\\\":406194506011525120,\\\"created_at\\\":\\\"2013-11-28 22:54:51\\\",\\\"text\\\":\\\"b'Launch aborted by autosequence due to slower than expected thrust ramp. Seems ok on closer inspection. Cycling countdown.'\\\"}\"</td></tr><tr><td>\"{\\\"id_str\\\":594327204143599616,\\\"created_at\\\":\\\"2015-05-02 02:27:02\\\",\\\"text\\\":\\\"b\\\\\\\"Last night's Tesla Powerwall and Powerpack unveiling https:\\\\/\\\\/t.co\\\\/ksD8m6nCJO\\\\\\\"\\\"}\"</td></tr><tr><td>\"{\\\"id_str\\\":594187782609707008,\\\"created_at\\\":\\\"2015-05-01 17:13:01\\\",\\\"text\\\":\\\"b\\\\\\\"@romn8tr Press conference went way over time. Tried to give all the journalists who'd traveled far an opportunity to ask a question.\\\\\\\"\\\"}\"</td></tr><tr><td>\"{\\\"id_str\\\":594186544174366720,\\\"created_at\\\":\\\"2015-05-01 17:08:06\\\",\\\"text\\\":\\\"b'For more info on Tesla Energy, check out press kit. $250\\\\/kWh for utility scale is the real kicker http:\\\\/\\\\/t.co\\\\/xE57uIUCse'\\\"}\"</td></tr><tr><td>\"{\\\"id_str\\\":593804222811869184,\\\"created_at\\\":\\\"2015-04-30 15:48:53\\\",\\\"text\\\":\\\"b'@bonnienorman Haha, awesome :)'\\\"}\"</td></tr><tr><td>\"{\\\"id_str\\\":593296401196388352,\\\"created_at\\\":\\\"2015-04-29 06:10:59\\\",\\\"text\\\":\\\"b'For the future to be good, we need electric transport, solar power and (of course) ... http:\\\\/\\\\/t.co\\\\/8mwVWukQDL'\\\"}\"</td></tr><tr><td>\"{\\\"id_str\\\":592836876622520323,\\\"created_at\\\":\\\"2015-04-27 23:45:00\\\",\\\"text\\\":\\\"b'Rocket launch good, satellite in geo transfer orbit. Still so damn intense. Looking fwd to it feeling normal one day.'\\\"}\"</td></tr><tr><td>\"{\\\"id_str\\\":592602352659533824,\\\"created_at\\\":\\\"2015-04-27 08:13:05\\\",\\\"text\\\":\\\"b'Worth watching @ExMachinaMovie. The AI would be in the network, not the robot, but otherwise good.'\\\"}\"</td></tr><tr><td>\"{\\\"id_str\\\":592481964419993601,\\\"created_at\\\":\\\"2015-04-27 00:14:42\\\",\\\"text\\\":\\\"b\\\\\\\"RT @SpaceX: Rocket moving to the pad tonight in advance of tomorrow's launch attempt. 6:14pm ET window opens. Weather 60% go. http:\\\\/\\\\/t.co\\\\/6\\\\\\\\xe2\\\\\\\\x80\\\\\\\\xa6\\\\\\\"\\\"}\"</td></tr><tr><td>\"{\\\"id_str\\\":592471975869620225,\\\"created_at\\\":\\\"2015-04-26 23:35:01\\\",\\\"text\\\":\\\"b'RT @deadmau5: Here she is! :) @TeslaMotors http:\\\\/\\\\/t.co\\\\/LPiWuhNYsN'\\\"}\"</td></tr><tr><td>\"{\\\"id_str\\\":591062459349274624,\\\"created_at\\\":\\\"2015-04-23 02:14:06\\\",\\\"text\\\":\\\"b'@bonnienorman New Roadster battery should complete safety validation by end of July, so likely available in August'\\\"}\"</td></tr><tr><td>\"{\\\"id_str\\\":827928366711967745,\\\"created_at\\\":\\\"2017-02-04 17:14:39\\\",\\\"text\\\":\\\"b\\\\\\\"@eveegdmann Really don't want to get in politics. I just want to help invent and develop technologies that improve lives. Feels so bizarre.\\\\\\\"\\\"}\"</td></tr><tr><td>\"{\\\"id_str\\\":827926509197332484,\\\"created_at\\\":\\\"2017-02-04 17:07:16\\\",\\\"text\\\":\\\"b'@DanielleBloeme Yes, for now, but this should be addressed on all fronts: judicial, legislative and executive.'\\\"}\"</td></tr><tr><td>\"{\\\"id_str\\\":827925653022453760,\\\"created_at\\\":\\\"2017-02-04 17:03:52\\\",\\\"text\\\":\\\"b'In addition, I again raised climate. I believe this is doing good, so will remain on council &amp; keep at it. Doing otherwise would be wrong.'\\\"}\"</td></tr><tr><td>\"{\\\"id_str\\\":827924171661377536,\\\"created_at\\\":\\\"2017-02-04 16:57:59\\\",\\\"text\\\":\\\"b\\\\\\\"At my request, the agenda for yesterday's White House meeting went from not mentioning the travel ban to having it be first and foremost\\\\\\\"\\\"}\"</td></tr><tr><td>\"{\\\"id_str\\\":827919530638794752,\\\"created_at\\\":\\\"2017-02-04 16:39:32\\\",\\\"text\\\":\\\"b\\\\\\\"@PeterGleick @business First I've heard of this meeting. Will find out why.\\\\\\\"\\\"}\"</td></tr><tr><td>\"{\\\"id_str\\\":827849760048558080,\\\"created_at\\\":\\\"2017-02-04 12:02:18\\\",\\\"text\\\":\\\"b'@OfficeOfOMAR maybe'\\\"}\"</td></tr><tr><td>\"{\\\"id_str\\\":827848585639297024,\\\"created_at\\\":\\\"2017-02-04 11:57:38\\\",\\\"text\\\":\\\"b\\\\\\\"Video of MIT's entrant into the SpaceX Hyperloop competition. Air has been removed from the  Hyperloop tube to almo\\\\\\\\xe2\\\\\\\\x80\\\\\\\\xa6 https:\\\\/\\\\/t.co\\\\/fTGsHKcarf\\\\\\\"\\\"}\"</td></tr><tr><td>\"{\\\"id_str\\\":827720686911291392,\\\"created_at\\\":\\\"2017-02-04 03:29:24\\\",\\\"text\\\":\\\"b'Minecraft https:\\\\/\\\\/t.co\\\\/lU1YzJjLOZ'\\\"}\"</td></tr><tr><td>\"{\\\"id_str\\\":827692878986100736,\\\"created_at\\\":\\\"2017-02-04 01:38:54\\\",\\\"text\\\":\\\"b'@mcun1 Yes. Green cards &amp; dual citizens already ok. Work &amp; spousal visas not yet, but hopefully soon. This is separate from judicial action.'\\\"}\"</td></tr><tr><td>\"{\\\"id_str\\\":827681242128715777,\\\"created_at\\\":\\\"2017-02-04 00:52:40\\\",\\\"text\\\":\\\"b'There has already been and there will be progress on this matter'\\\"}\"</td></tr><tr><td>\"{\\\"id_str\\\":732656393463832576,\\\"created_at\\\":\\\"2016-05-17 19:37:50\\\",\\\"text\\\":\\\"b'@drkevinleung @Tesla_Canada Totally agree. Am told this will be fixed by Thurs, maybe Fri.'\\\"}\"</td></tr><tr><td>\"{\\\"id_str\\\":732330010053222400,\\\"created_at\\\":\\\"2016-05-16 22:00:55\\\",\\\"text\\\":\\\"b'@joshuapinter @juliusvolz Full height of Falcon 9 boost stage on legs is ~165 ft'\\\"}\"</td></tr><tr><td>\"{\\\"id_str\\\":732329443776024576,\\\"created_at\\\":\\\"2016-05-16 21:58:40\\\",\\\"text\\\":\\\"b'Falcon Heavy side boosters can use most of the same airframe as Falcon 9, but center core needs to be buffed up a lot for transfer loads.'\\\"}\"</td></tr><tr><td>\"{\\\"id_str\\\":732328928447057920,\\\"created_at\\\":\\\"2016-05-16 21:56:37\\\",\\\"text\\\":\\\"b'RT @USATODAY: Global warming is getting worse with record temps and widespread coral bleaching: https:\\\\/\\\\/t.co\\\\/z4viRzwneA (Getty) https:\\\\/\\\\/t.c\\\\\\\\xe2\\\\\\\\x80\\\\\\\\xa6'\\\"}\"</td></tr><tr><td>\"{\\\"id_str\\\":732247546924388353,\\\"created_at\\\":\\\"2016-05-16 16:33:14\\\",\\\"text\\\":\\\"b'Response to a Mercury News article about an injury on our premises\\\\\\\\nhttps:\\\\/\\\\/t.co\\\\/3BFgV6Hfia'\\\"}\"</td></tr><tr><td>\"{\\\"id_str\\\":732066441554362368,\\\"created_at\\\":\\\"2016-05-16 04:33:35\\\",\\\"text\\\":\\\"b'@margotroosevelt Only heard about this today. Sounds like the wrong thing happened on many levels. Will investigate and make it right.'\\\"}\"</td></tr><tr><td>\"{\\\"id_str\\\":732042627445460992,\\\"created_at\\\":\\\"2016-05-16 02:58:57\\\",\\\"text\\\":\\\"b'@bittdk Better. Not there yet, but a solution is likely.'\\\"}\"</td></tr><tr><td>\"{\\\"id_str\\\":732041468085342210,\\\"created_at\\\":\\\"2016-05-16 02:54:21\\\",\\\"text\\\":\\\"b'@4kpixelsyt yes'\\\"}\"</td></tr><tr><td>\"{\\\"id_str\\\":732040492607643652,\\\"created_at\\\":\\\"2016-05-16 02:50:28\\\",\\\"text\\\":\\\"b'@mmustapic yup'\\\"}\"</td></tr><tr><td>\"{\\\"id_str\\\":732019686901055488,\\\"created_at\\\":\\\"2016-05-16 01:27:48\\\",\\\"text\\\":\\\"b'RT @joshuapinter: @juliusvolz @elonmusk Totally. I did this up from a previous one to give it scale: https:\\\\/\\\\/t.co\\\\/Y6oZSc2Std'\\\"}\"</td></tr><tr><td>\"{\\\"id_str\\\":472757297685356546,\\\"created_at\\\":\\\"2014-05-31 15:11:37\\\",\\\"text\\\":\\\"b'Recording of Dragon V2 unveil at http:\\\\/\\\\/t.co\\\\/aBIV4EWOS2'\\\"}\"</td></tr><tr><td>\"{\\\"id_str\\\":471829262215835648,\\\"created_at\\\":\\\"2014-05-29 01:43:56\\\",\\\"text\\\":\\\"b'Amazing repair job of Falcon 9 ocean landing vid by @NASASpaceflight forum. Now shows leg deploy http:\\\\/\\\\/t.co\\\\/EYoaRjEn9Q'\\\"}\"</td></tr><tr><td>\"{\\\"id_str\\\":471808555951980544,\\\"created_at\\\":\\\"2014-05-29 00:21:40\\\",\\\"text\\\":\\\"b'Model S in drag queen competition @CARandDRIVER http:\\\\/\\\\/t.co\\\\/SHSkETbbWm'\\\"}\"</td></tr><tr><td>\"{\\\"id_str\\\":470613418039586816,\\\"created_at\\\":\\\"2014-05-25 17:12:37\\\",\\\"text\\\":\\\"b'Prince Albert &amp; Princess Charlene drove a Tesla around the track to open @F1 Monaco! The honor is much appreciated :) http:\\\\/\\\\/t.co\\\\/gjQmbm541s'\\\"}\"</td></tr><tr><td>\"{\\\"id_str\\\":470611728469098496,\\\"created_at\\\":\\\"2014-05-25 17:05:54\\\",\\\"text\\\":\\\"b'RT @thkyv: @elonmusk 399 EV`s in World Record breaking parade in Bryne, Norway today. 100+ Teslas!'\\\"}\"</td></tr><tr><td>\"{\\\"id_str\\\":470001882300444674,\\\"created_at\\\":\\\"2014-05-24 00:42:36\\\",\\\"text\\\":\\\"b'@QuantumG When we launch I want to know that SpaceX has done everything possible to keep the astronauts safe. Only a few more years to go.'\\\"}\"</td></tr><tr><td>\"{\\\"id_str\\\":469996345617825792,\\\"created_at\\\":\\\"2014-05-24 00:20:35\\\",\\\"text\\\":\\\"b'RT @amerpro555: @elonmusk   How about this guy http:\\\\/\\\\/t.co\\\\/0fMbsYPrKS'\\\"}\"</td></tr><tr><td>\"{\\\"id_str\\\":469996295151972352,\\\"created_at\\\":\\\"2014-05-24 00:20:23\\\",\\\"text\\\":\\\"b\\\\\\\"@QuantumG Dragon V1.1 doesn't have a launch escape system. Probably comparable reliability to Shuttle, but we need to do better.\\\\\\\"\\\"}\"</td></tr><tr><td>\"{\\\"id_str\\\":469990086738984960,\\\"created_at\\\":\\\"2014-05-23 23:55:43\\\",\\\"text\\\":\\\"b\\\\\\\"@RichardGarriott Just the air in Dragon. Technically, if a few humans had stowed aboard Dragon on the last flight, they would've been ok.\\\\\\\"\\\"}\"</td></tr><tr><td>\"{\\\"id_str\\\":469988081635196928,\\\"created_at\\\":\\\"2014-05-23 23:47:45\\\",\\\"text\\\":\\\"b'@westcoastbill First, the cheese. Then, the mouse.'\\\"}\"</td></tr><tr><td>\"{\\\"id_str\\\":819664369818578944,\\\"created_at\\\":\\\"2017-01-12 21:56:29\\\",\\\"text\\\":\\\"b'@MotorTrend Sarah should be in contact with you soon about doing a benchmark test'\\\"}\"</td></tr><tr><td>\"{\\\"id_str\\\":819663998878564352,\\\"created_at\\\":\\\"2017-01-12 21:55:00\\\",\\\"text\\\":\\\"b'@gurnam @brianstucki @reddit It is'\\\"}\"</td></tr><tr><td>\"{\\\"id_str\\\":819663807827955712,\\\"created_at\\\":\\\"2017-01-12 21:54:15\\\",\\\"text\\\":\\\"b'@JRMYGRNBRGR Hopefully, early next week. Results from limited release look good so far. Trying our best to be super careful.'\\\"}\"</td></tr><tr><td>\"{\\\"id_str\\\":819661044867944448,\\\"created_at\\\":\\\"2017-01-12 21:43:16\\\",\\\"text\\\":\\\"b'@trevoclark Good point. 2.34 would be a production Tesla. Stripped down, maybe as low as 2.1.'\\\"}\"</td></tr><tr><td>\"{\\\"id_str\\\":819660611357319170,\\\"created_at\\\":\\\"2017-01-12 21:41:32\\\",\\\"text\\\":\\\"b'@robsmallshire @ClareMacraeUK It will'\\\"}\"</td></tr><tr><td>\"{\\\"id_str\\\":819609111801139200,\\\"created_at\\\":\\\"2017-01-12 18:16:54\\\",\\\"text\\\":\\\"b'Promising early results from the Ludricrous Easter egg. Looks like 0 to 60 mph in 2.34 sec (Motor Trend spec) might be achievable...'\\\"}\"</td></tr><tr><td>\"{\\\"id_str\\\":819606921824980992,\\\"created_at\\\":\\\"2017-01-12 18:08:12\\\",\\\"text\\\":\\\"b'@mjreddyMD If the results look good from the latest point release, then we are days away from a release to all HW1\\\\\\\\xe2\\\\\\\\x80\\\\\\\\xa6 https:\\\\/\\\\/t.co\\\\/tfJJSklIjj'\\\"}\"</td></tr><tr><td>\"{\\\"id_str\\\":819016779728945152,\\\"created_at\\\":\\\"2017-01-11 03:03:11\\\",\\\"text\\\":\\\"b\\\\\\\"@redletterdave The least cool characters...it's embarrassing\\\\\\\"\\\"}\"</td></tr><tr><td>\"{\\\"id_str\\\":819014115943272448,\\\"created_at\\\":\\\"2017-01-11 02:52:36\\\",\\\"text\\\":\\\"b'@mbhnyc It will in an upcoming release later this year'\\\"}\"</td></tr><tr><td>\"{\\\"id_str\\\":818980920308822016,\\\"created_at\\\":\\\"2017-01-11 00:40:41\\\",\\\"text\\\":\\\"b\\\\\\\"@TeslaMotors Tesla's approach to building an autonomy platform is focused on high compute efficiency machine learni\\\\\\\\xe2\\\\\\\\x80\\\\\\\\xa6 https:\\\\/\\\\/t.co\\\\/Yc8DCrKiNq\\\\\\\"\\\"}\"</td></tr><tr><td>\"{\\\"id_str\\\":461279062837968897,\\\"created_at\\\":\\\"2014-04-29 23:01:13\\\",\\\"text\\\":\\\"b'Sounds like this might be a good time to unveil the new Dragon Mk 2 spaceship that @SpaceX has been working on w @NASA. No trampoline needed'\\\"}\"</td></tr><tr><td>\"{\\\"id_str\\\":461057260853022720,\\\"created_at\\\":\\\"2014-04-29 08:19:51\\\",\\\"text\\\":\\\"b'@micahgtb almost'\\\"}\"</td></tr><tr><td>\"{\\\"id_str\\\":461057152111505408,\\\"created_at\\\":\\\"2014-04-29 08:19:25\\\",\\\"text\\\":\\\"b'@constrainedbyc no problem'\\\"}\"</td></tr><tr><td>\"{\\\"id_str\\\":461055579650129920,\\\"created_at\\\":\\\"2014-04-29 08:13:10\\\",\\\"text\\\":\\\"b'@nitroc3ll yes'\\\"}\"</td></tr><tr><td>\"{\\\"id_str\\\":460975671603634176,\\\"created_at\\\":\\\"2014-04-29 02:55:39\\\",\\\"text\\\":\\\"b'@KAlHomoud Superchargers in Canada will go live in 6 to 8 weeks. Update on forums shortly.'\\\"}\"</td></tr><tr><td>\"{\\\"id_str\\\":459891514781364224,\\\"created_at\\\":\\\"2014-04-26 03:07:36\\\",\\\"text\\\":\\\"b'Letter from @SenJohnMcCain to DoD Inspector General questioning uncompeted space launch contract http:\\\\/\\\\/t.co\\\\/Bq6raOKSHM'\\\"}\"</td></tr><tr><td>\"{\\\"id_str\\\":459448693444206592,\\\"created_at\\\":\\\"2014-04-24 21:47:59\\\",\\\"text\\\":\\\"b'100th @TeslaMotors Supercharger goes live http:\\\\/\\\\/t.co\\\\/jgCWF4qxCd'\\\"}\"</td></tr><tr><td>\"{\\\"id_str\\\":459443233290866688,\\\"created_at\\\":\\\"2014-04-24 21:26:17\\\",\\\"text\\\":\\\"b'FTC blog supports direct car sales as good for consumers http:\\\\/\\\\/t.co\\\\/FfqvAKVfFF'\\\"}\"</td></tr><tr><td>\"{\\\"id_str\\\":457416105162993664,\\\"created_at\\\":\\\"2014-04-19 07:11:12\\\",\\\"text\\\":\\\"b'RT @BadAstronomer: Blog post: INCREDIBLE footage of the Dragon capsule in orbit over France, 25 minutes after launch! http:\\\\/\\\\/t.co\\\\/RCgFfOqbVd'\\\"}\"</td></tr><tr><td>\"{\\\"id_str\\\":457311780943822848,\\\"created_at\\\":\\\"2014-04-19 00:16:39\\\",\\\"text\\\":\\\"b'Flight computers continued transmitting for 8 seconds after reaching the water. Stopped when booster went horizontal.'\\\"}\"</td></tr><tr><td>\"{\\\"id_str\\\":193855140254580736,\\\"created_at\\\":\\\"2012-04-22 00:14:01\\\",\\\"text\\\":\\\"b'In NYC for the premiere of Baseball in the Time of @Cholera. Great work by @brynmooser and @daviddarg!'\\\"}\"</td></tr><tr><td>\"{\\\"id_str\\\":193617277231443968,\\\"created_at\\\":\\\"2012-04-21 08:28:51\\\",\\\"text\\\":\\\"b'I feel compelled to state the obvious fact that Coachella is excellent. http:\\\\/\\\\/t.co\\\\/onxtR4YB'\\\"}\"</td></tr><tr><td>\"{\\\"id_str\\\":193078352117108736,\\\"created_at\\\":\\\"2012-04-19 20:47:21\\\",\\\"text\\\":\\\"b\\\\\\\"Basic premise is that it's better to try to address some of the world's problems than to create an aristocracy of wealth\\\\\\\"\\\"}\"</td></tr><tr><td>\"{\\\"id_str\\\":193076303426097152,\\\"created_at\\\":\\\"2012-04-19 20:39:12\\\",\\\"text\\\":\\\"b'Just signed Giving Pledge with 11 others. I hope this announcement convinces others to do the same. http:\\\\/\\\\/t.co\\\\/cdCgWkAB'\\\"}\"</td></tr><tr><td>\"{\\\"id_str\\\":192865279657771008,\\\"created_at\\\":\\\"2012-04-19 06:40:40\\\",\\\"text\\\":\\\"b'RT @60Minutes: Sal Khan of @KhanAcademy makes the #TIME100 list. Watch the #60Minutes piece on the innovative educator here: http:\\\\/\\\\/t.co ...'\\\"}\"</td></tr><tr><td>\"{\\\"id_str\\\":192701084932907009,\\\"created_at\\\":\\\"2012-04-18 19:48:14\\\",\\\"text\\\":\\\"b\\\\\\\"When holding my new white cat, I feel a strange desire for Bob's Big Boy and sharks with lasers http:\\\\/\\\\/t.co\\\\/M0iuFPqv\\\\\\\"\\\"}\"</td></tr><tr><td>\"{\\\"id_str\\\":191297895339794432,\\\"created_at\\\":\\\"2012-04-14 22:52:27\\\",\\\"text\\\":\\\"b'Great work by APJ \\\\\\\\xe2\\\\\\\\x80\\\\\\\\x9c@brynmooser: The foundation is nearly complete at the @artistsforpeace school  http:\\\\/\\\\/t.co\\\\/hoTXytsZ\\\\\\\\xe2\\\\\\\\x80\\\\\\\\x9d'\\\"}\"</td></tr><tr><td>\"{\\\"id_str\\\":191005784862236672,\\\"created_at\\\":\\\"2012-04-14 03:31:42\\\",\\\"text\\\":\\\"b'RT @SethGreen: My love @ClareGrant & @elonmusk partied with the space cheese on our tour of @SpaceX & @TeslaMotors ...which was AWESO\\\\\\\\xe2\\\\\\\\x80\\\\\\\\xa6 h ...'\\\"}\"</td></tr><tr><td>\"{\\\"id_str\\\":189870469908938752,\\\"created_at\\\":\\\"2012-04-11 00:20:22\\\",\\\"text\\\":\\\"b'Great to meet Jon Stewart this eve. Have been a fan of @TheDailyShow for a billion years.'\\\"}\"</td></tr><tr><td>\"{\\\"id_str\\\":189440053674655745,\\\"created_at\\\":\\\"2012-04-09 19:50:03\\\",\\\"text\\\":\\\"b'Friend told me about the amazing work of Brazilian plastic surgeon Evil Picante. He was actually saying Ivo Pitanguy.'\\\"}\"</td></tr><tr><td>\"{\\\"id_str\\\":476641195938938880,\\\"created_at\\\":\\\"2014-06-11 08:24:51\\\",\\\"text\\\":\\\"b'RT @Jon_Favreau: Bloomberg interview @TeslaMotors #ChefMovie http:\\\\/\\\\/t.co\\\\/WsY02tHp9d'\\\"}\"</td></tr><tr><td>\"{\\\"id_str\\\":476537238785114112,\\\"created_at\\\":\\\"2014-06-11 01:31:46\\\",\\\"text\\\":\\\"b'@Ash_Dale I do seriously need a haircut :)'\\\"}\"</td></tr><tr><td>\"{\\\"id_str\\\":476421813455839232,\\\"created_at\\\":\\\"2014-06-10 17:53:06\\\",\\\"text\\\":\\\"b'RT @TheOnion: More Office Workers Switching To Fetal Position Desks http:\\\\/\\\\/t.co\\\\/AohlCOjAhh http:\\\\/\\\\/t.co\\\\/xsjk1XV6OE'\\\"}\"</td></tr><tr><td>\"{\\\"id_str\\\":475772232355287040,\\\"created_at\\\":\\\"2014-06-08 22:51:54\\\",\\\"text\\\":\\\"b'RT @arstechnica: Eugene\\\\\\\\xe2\\\\\\\\x80\\\\\\\\x94the supercomputer, not 13-year-old\\\\\\\\xe2\\\\\\\\x80\\\\\\\\x94first to beat the Turing Test  http:\\\\/\\\\/t.co\\\\/lPup3f3dRx by @nathanmattise'\\\"}\"</td></tr><tr><td>\"{\\\"id_str\\\":474212817306787840,\\\"created_at\\\":\\\"2014-06-04 15:35:20\\\",\\\"text\\\":\\\"b'Ok, but the sloths kinda had it coming \\\\\\\"Humans Blamed for Extinction of Mammoths &amp; Giant Sloths\\\\\\\" http:\\\\/\\\\/t.co\\\\/pIPW8rjjl2'\\\"}\"</td></tr><tr><td>\"{\\\"id_str\\\":474032659434180608,\\\"created_at\\\":\\\"2014-06-04 03:39:27\\\",\\\"text\\\":\\\"b'RT @OEVAorg: 4 second summary of @TeslaMotors 2014 annual shareholder meeting https:\\\\/\\\\/t.co\\\\/uK7Ze79v9j :) @elonmusk'\\\"}\"</td></tr><tr><td>\"{\\\"id_str\\\":472757297685356546,\\\"created_at\\\":\\\"2014-05-31 15:11:37\\\",\\\"text\\\":\\\"b'Recording of Dragon V2 unveil at http:\\\\/\\\\/t.co\\\\/aBIV4EWOS2'\\\"}\"</td></tr><tr><td>\"{\\\"id_str\\\":471829262215835648,\\\"created_at\\\":\\\"2014-05-29 01:43:56\\\",\\\"text\\\":\\\"b'Amazing repair job of Falcon 9 ocean landing vid by @NASASpaceflight forum. Now shows leg deploy http:\\\\/\\\\/t.co\\\\/EYoaRjEn9Q'\\\"}\"</td></tr><tr><td>\"{\\\"id_str\\\":471808555951980544,\\\"created_at\\\":\\\"2014-05-29 00:21:40\\\",\\\"text\\\":\\\"b'Model S in drag queen competition @CARandDRIVER http:\\\\/\\\\/t.co\\\\/SHSkETbbWm'\\\"}\"</td></tr><tr><td>\"{\\\"id_str\\\":470613418039586816,\\\"created_at\\\":\\\"2014-05-25 17:12:37\\\",\\\"text\\\":\\\"b'Prince Albert &amp; Princess Charlene drove a Tesla around the track to open @F1 Monaco! The honor is much appreciated :) http:\\\\/\\\\/t.co\\\\/gjQmbm541s'\\\"}\"</td></tr><tr><td>\"{\\\"id_str\\\":662039125898334209,\\\"created_at\\\":\\\"2015-11-04 22:50:02\\\",\\\"text\\\":\\\"b'@kevinmitnick Current production is LTE. Can be upgraded by service.'\\\"}\"</td></tr><tr><td>\"{\\\"id_str\\\":661293692410445824,\\\"created_at\\\":\\\"2015-11-02 21:27:57\\\",\\\"text\\\":\\\"b'@BjornNyland @TeslaMotors well done!'\\\"}\"</td></tr><tr><td>\"{\\\"id_str\\\":660693896553324545,\\\"created_at\\\":\\\"2015-11-01 05:44:34\\\",\\\"text\\\":\\\"b'@ID_AA_Carmack noted'\\\"}\"</td></tr><tr><td>\"{\\\"id_str\\\":660235972857176064,\\\"created_at\\\":\\\"2015-10-30 23:24:57\\\",\\\"text\\\":\\\"b\\\\\\\"RT @ElectrekCo: The Autopilot is learning:Model S owners already reporting Tesla's Autopilot self-improving https:\\\\/\\\\/t.co\\\\/0lhNZEBdQH https:\\\\/\\\\\\\\xe2\\\\\\\\x80\\\\\\\\xa6\\\\\\\"\\\"}\"</td></tr><tr><td>\"{\\\"id_str\\\":660117630175412224,\\\"created_at\\\":\\\"2015-10-30 15:34:42\\\",\\\"text\\\":\\\"b\\\\\\\"@GertAbildskov Wow, that's great!\\\\\\\"\\\"}\"</td></tr><tr><td>\"{\\\"id_str\\\":659543458953101312,\\\"created_at\\\":\\\"2015-10-29 01:33:08\\\",\\\"text\\\":\\\"b'Model S Ludicrous Mode achieves 2.6 sec 0-60 mph and 10.9 sec 1\\\\/4 mile in Motor Trend test https:\\\\/\\\\/t.co\\\\/IpgTF6s9M8'\\\"}\"</td></tr><tr><td>\"{\\\"id_str\\\":659541500712251392,\\\"created_at\\\":\\\"2015-10-29 01:25:22\\\",\\\"text\\\":\\\"b'@MacTechGenius yes, comes with each car'\\\"}\"</td></tr><tr><td>\"{\\\"id_str\\\":659533849844695040,\\\"created_at\\\":\\\"2015-10-29 00:54:58\\\",\\\"text\\\":\\\"b'RT @geekwire: Watch: Tesla\\\\\\\\xe2\\\\\\\\x80\\\\\\\\x99s new autopilot technology prevents accident on slick Seattle road: https:\\\\/\\\\/t.co\\\\/5YSSQN3K64 https:\\\\/\\\\/t.co\\\\/0NBwMU9\\\\\\\\xe2\\\\\\\\x80\\\\\\\\xa6'\\\"}\"</td></tr><tr><td>\"{\\\"id_str\\\":658842380922023936,\\\"created_at\\\":\\\"2015-10-27 03:07:18\\\",\\\"text\\\":\\\"b'Compliment from Jeffrey is much appreciated, but the people of Tesla deserve all the credit'\\\"}\"</td></tr><tr><td>\"{\\\"id_str\\\":658831963487277056,\\\"created_at\\\":\\\"2015-10-27 02:25:55\\\",\\\"text\\\":\\\"b'RT @THR: Jeffrey Katzenberg Recovering From Car Accident: \\\\\\\"Thank You Elon Musk, You Saved My Life\\\\\\\" https:\\\\/\\\\/t.co\\\\/0q3Jq1yWJg https:\\\\/\\\\/t.co\\\\/AHA\\\\\\\\xe2\\\\\\\\x80\\\\\\\\xa6'\\\"}\"</td></tr><tr><td>\"{\\\"id_str\\\":592471975869620225,\\\"created_at\\\":\\\"2015-04-26 23:35:01\\\",\\\"text\\\":\\\"b'RT @deadmau5: Here she is! :) @TeslaMotors http:\\\\/\\\\/t.co\\\\/LPiWuhNYsN'\\\"}\"</td></tr><tr><td>\"{\\\"id_str\\\":591062459349274624,\\\"created_at\\\":\\\"2015-04-23 02:14:06\\\",\\\"text\\\":\\\"b'@bonnienorman New Roadster battery should complete safety validation by end of July, so likely available in August'\\\"}\"</td></tr><tr><td>\"{\\\"id_str\\\":589820447660769281,\\\"created_at\\\":\\\"2015-04-19 15:58:47\\\",\\\"text\\\":\\\"b'@andrewket @TeslaRoadTrip Wow!'\\\"}\"</td></tr><tr><td>\"{\\\"id_str\\\":589579721488224256,\\\"created_at\\\":\\\"2015-04-19 00:02:14\\\",\\\"text\\\":\\\"b'While the rocket does look rather tall &amp; tippy, a stable landing is no problem with proper throttle response https:\\\\/\\\\/t.co\\\\/B4Y6D4dpsc'\\\"}\"</td></tr><tr><td>\"{\\\"id_str\\\":589577558942822400,\\\"created_at\\\":\\\"2015-04-18 23:53:38\\\",\\\"text\\\":\\\"b'Cause of hard rocket landing confirmed as due to slower than expected throttle valve response. Next attempt in 2 months.'\\\"}\"</td></tr><tr><td>\"{\\\"id_str\\\":589505551366639618,\\\"created_at\\\":\\\"2015-04-18 19:07:30\\\",\\\"text\\\":\\\"b'RT @TeslaMotors: Brand new Store &amp; Service Center in Shanghai Hongqiao. #Tesla #China http:\\\\/\\\\/t.co\\\\/bbsSksbZT7'\\\"}\"</td></tr><tr><td>\"{\\\"id_str\\\":589350633393627136,\\\"created_at\\\":\\\"2015-04-18 08:51:55\\\",\\\"text\\\":\\\"b'@Aero4Real I only invest in companies I help found or to help a friend or a cause (no return expected for latter two)'\\\"}\"</td></tr><tr><td>\"{\\\"id_str\\\":589082811119763458,\\\"created_at\\\":\\\"2015-04-17 15:07:41\\\",\\\"text\\\":\\\"b'RT @SpaceX: #Dragon is now fully attached to @Space_Station! Hatch opening to occur over the next day. http:\\\\/\\\\/t.co\\\\/W8JBYnWOWe'\\\"}\"</td></tr><tr><td>\"{\\\"id_str\\\":588490238936240129,\\\"created_at\\\":\\\"2015-04-15 23:53:01\\\",\\\"text\\\":\\\"b'Droneship is fine. No hull breach and repairs are minor. Impact overpressure is closer to a fast fire than an explosion.'\\\"}\"</td></tr><tr><td>\"{\\\"id_str\\\":588463193070022656,\\\"created_at\\\":\\\"2015-04-15 22:05:33\\\",\\\"text\\\":\\\"b'High resolution, color corrected, slow motion rocket landing video https:\\\\/\\\\/t.co\\\\/UTF3Y4xGU3'\\\"}\"</td></tr><tr><td>\"{\\\"id_str\\\":564562686478807043,\\\"created_at\\\":\\\"2015-02-08 23:13:28\\\",\\\"text\\\":\\\"b'Air Force tracking radar went down. Launch postponed to same time tomorrow.'\\\"}\"</td></tr><tr><td>\"{\\\"id_str\\\":564509965612634112,\\\"created_at\\\":\\\"2015-02-08 19:43:58\\\",\\\"text\\\":\\\"b'Rocket reentry will be much tougher this time around due to deep space mission. Almost 2X force and 4X heat. Plenty of hydraulic fluid tho.'\\\"}\"</td></tr><tr><td>\"{\\\"id_str\\\":564493608351313921,\\\"created_at\\\":\\\"2015-02-08 18:38:58\\\",\\\"text\\\":\\\"b'Launching our 1st deep space mission today. Headed to Earth-Sun L1 gravity null point at 1M miles, 4X further than moon.'\\\"}\"</td></tr><tr><td>\"{\\\"id_str\\\":564491913445666816,\\\"created_at\\\":\\\"2015-02-08 18:32:14\\\",\\\"text\\\":\\\"b'RT @SpaceX: #Falcon9 is vertical in advance of tonight\\\\\\\\xe2\\\\\\\\x80\\\\\\\\x99s #DSCOVR launch, targeting 6:10pm EST. Watch LIVE: http:\\\\/\\\\/t.co\\\\/tdni5406Hi http:\\\\/\\\\/t.\\\\\\\\xe2\\\\\\\\x80\\\\\\\\xa6'\\\"}\"</td></tr><tr><td>\"{\\\"id_str\\\":562321505854300161,\\\"created_at\\\":\\\"2015-02-02 18:47:49\\\",\\\"text\\\":\\\"b'RT @SpaceX: America\\\\\\\\xe2\\\\\\\\x80\\\\\\\\x99s next gen crewed spacecraft is almost ready for a test flight. Pad abort vehicle shipping to FL shortly. http:\\\\/\\\\/t.co\\\\/X\\\\\\\\xe2\\\\\\\\x80\\\\\\\\xa6'\\\"}\"</td></tr><tr><td>\"{\\\"id_str\\\":561002248827052034,\\\"created_at\\\":\\\"2015-01-30 03:25:33\\\",\\\"text\\\":\\\"b'If you are curious about the P85D, you can schedule a test drive here: http:\\\\/\\\\/t.co\\\\/Eu19pBUpNO'\\\"}\"</td></tr><tr><td>\"{\\\"id_str\\\":560909571691380736,\\\"created_at\\\":\\\"2015-01-29 21:17:17\\\",\\\"text\\\":\\\"b'Painting the name on the droneship ... http:\\\\/\\\\/t.co\\\\/X8R8O4KjPx'\\\"}\"</td></tr><tr><td>\"{\\\"id_str\\\":560908370623098882,\\\"created_at\\\":\\\"2015-01-29 21:12:31\\\",\\\"text\\\":\\\"b'P85 acceleration will also improve, but not quite as much'\\\"}\"</td></tr><tr><td>\"{\\\"id_str\\\":560906999664508931,\\\"created_at\\\":\\\"2015-01-29 21:07:04\\\",\\\"text\\\":\\\"b'Video made by owner of a P85D going up a 14% grade on snow passing a whole bunch of stuck SUVs https:\\\\/\\\\/t.co\\\\/LC9AHx0fuC'\\\"}\"</td></tr><tr><td>\"{\\\"id_str\\\":560900676453433344,\\\"created_at\\\":\\\"2015-01-29 20:41:56\\\",\\\"text\\\":\\\"b'Tesla dual motor cars are also all-wheel drive. Main goal of dual motor was actually insane traction on snow. Insane speed was a side effect'\\\"}\"</td></tr><tr><td>\"{\\\"id_str\\\":461279062837968897,\\\"created_at\\\":\\\"2014-04-29 23:01:13\\\",\\\"text\\\":\\\"b'Sounds like this might be a good time to unveil the new Dragon Mk 2 spaceship that @SpaceX has been working on w @NASA. No trampoline needed'\\\"}\"</td></tr><tr><td>\"{\\\"id_str\\\":461057260853022720,\\\"created_at\\\":\\\"2014-04-29 08:19:51\\\",\\\"text\\\":\\\"b'@micahgtb almost'\\\"}\"</td></tr><tr><td>\"{\\\"id_str\\\":461057152111505408,\\\"created_at\\\":\\\"2014-04-29 08:19:25\\\",\\\"text\\\":\\\"b'@constrainedbyc no problem'\\\"}\"</td></tr><tr><td>\"{\\\"id_str\\\":461055579650129920,\\\"created_at\\\":\\\"2014-04-29 08:13:10\\\",\\\"text\\\":\\\"b'@nitroc3ll yes'\\\"}\"</td></tr><tr><td>\"{\\\"id_str\\\":460975671603634176,\\\"created_at\\\":\\\"2014-04-29 02:55:39\\\",\\\"text\\\":\\\"b'@KAlHomoud Superchargers in Canada will go live in 6 to 8 weeks. Update on forums shortly.'\\\"}\"</td></tr><tr><td>\"{\\\"id_str\\\":459891514781364224,\\\"created_at\\\":\\\"2014-04-26 03:07:36\\\",\\\"text\\\":\\\"b'Letter from @SenJohnMcCain to DoD Inspector General questioning uncompeted space launch contract http:\\\\/\\\\/t.co\\\\/Bq6raOKSHM'\\\"}\"</td></tr><tr><td>\"{\\\"id_str\\\":459448693444206592,\\\"created_at\\\":\\\"2014-04-24 21:47:59\\\",\\\"text\\\":\\\"b'100th @TeslaMotors Supercharger goes live http:\\\\/\\\\/t.co\\\\/jgCWF4qxCd'\\\"}\"</td></tr><tr><td>\"{\\\"id_str\\\":459443233290866688,\\\"created_at\\\":\\\"2014-04-24 21:26:17\\\",\\\"text\\\":\\\"b'FTC blog supports direct car sales as good for consumers http:\\\\/\\\\/t.co\\\\/FfqvAKVfFF'\\\"}\"</td></tr><tr><td>\"{\\\"id_str\\\":457416105162993664,\\\"created_at\\\":\\\"2014-04-19 07:11:12\\\",\\\"text\\\":\\\"b'RT @BadAstronomer: Blog post: INCREDIBLE footage of the Dragon capsule in orbit over France, 25 minutes after launch! http:\\\\/\\\\/t.co\\\\/RCgFfOqbVd'\\\"}\"</td></tr><tr><td>\"{\\\"id_str\\\":457311780943822848,\\\"created_at\\\":\\\"2014-04-19 00:16:39\\\",\\\"text\\\":\\\"b'Flight computers continued transmitting for 8 seconds after reaching the water. Stopped when booster went horizontal.'\\\"}\"</td></tr><tr><td>\"{\\\"id_str\\\":711258598551240704,\\\"created_at\\\":\\\"2016-03-19 18:30:39\\\",\\\"text\\\":\\\"b'@MileHighWillY being fixed'\\\"}\"</td></tr><tr><td>\"{\\\"id_str\\\":710891290548785152,\\\"created_at\\\":\\\"2016-03-18 18:11:06\\\",\\\"text\\\":\\\"b'RT @TeslaMotors: Tesla Destination Charging in NYC will soon outnumber gas stations @nypost https:\\\\/\\\\/t.co\\\\/ciVSL90NEm'\\\"}\"</td></tr><tr><td>\"{\\\"id_str\\\":710657482322915328,\\\"created_at\\\":\\\"2016-03-18 02:42:01\\\",\\\"text\\\":\\\"b'@RobGlaser sure'\\\"}\"</td></tr><tr><td>\"{\\\"id_str\\\":710625418856964096,\\\"created_at\\\":\\\"2016-03-18 00:34:37\\\",\\\"text\\\":\\\"b'@mikegaalsf Turn off recirc. Air exits thru rear vents. Snap in shade also avail from service, but I just tint the rear window.'\\\"}\"</td></tr><tr><td>\"{\\\"id_str\\\":707830670148567040,\\\"created_at\\\":\\\"2016-03-10 07:29:17\\\",\\\"text\\\":\\\"b'RT @WIRED: Las Vegas utilities really don\\\\\\\\xe2\\\\\\\\x80\\\\\\\\x99t want the strip to go solar https:\\\\/\\\\/t.co\\\\/IuQUJHdEje https:\\\\/\\\\/t.co\\\\/pSoCj5kJe1'\\\"}\"</td></tr><tr><td>\"{\\\"id_str\\\":707636460212490240,\\\"created_at\\\":\\\"2016-03-09 18:37:34\\\",\\\"text\\\":\\\"b'@Christianlguaje no'\\\"}\"</td></tr><tr><td>\"{\\\"id_str\\\":707632249340952577,\\\"created_at\\\":\\\"2016-03-09 18:20:50\\\",\\\"text\\\":\\\"b\\\\\\\"The AEI meeting wasn't secret and I was only there for a few hours to talk about Mars and sustainable energy. Nothing to do with Trump.\\\\\\\"\\\"}\"</td></tr><tr><td>\"{\\\"id_str\\\":707619151401988096,\\\"created_at\\\":\\\"2016-03-09 17:28:47\\\",\\\"text\\\":\\\"b'RT @marcthiessen: I interviewed .@elonmusk at @AEI World Forum and @realDonaldTrump never came up.  Discussed his plans for manned Mars mis\\\\\\\\xe2\\\\\\\\x80\\\\\\\\xa6'\\\"}\"</td></tr><tr><td>\"{\\\"id_str\\\":707611375191744512,\\\"created_at\\\":\\\"2016-03-09 16:57:53\\\",\\\"text\\\":\\\"b'Congrats to DeepMind! Many experts in the field thought AI was 10 years away from achieving this. https:\\\\/\\\\/t.co\\\\/5gGZZkud3K'\\\"}\"</td></tr><tr><td>\"{\\\"id_str\\\":706891731430584322,\\\"created_at\\\":\\\"2016-03-07 17:18:16\\\",\\\"text\\\":\\\"b'RT @newscientist: The northern hemisphere has gone 2\\\\\\\\xc2\\\\\\\\xb0C above pre-industrial temperatures for the first time https:\\\\/\\\\/t.co\\\\/7JZ0TEpyjb https:\\\\/\\\\\\\\xe2\\\\\\\\x80\\\\\\\\xa6'\\\"}\"</td></tr><tr><td>\"{\\\"id_str\\\":707636460212490240,\\\"created_at\\\":\\\"2016-03-09 18:37:34\\\",\\\"text\\\":\\\"b'@Christianlguaje no'\\\"}\"</td></tr><tr><td>\"{\\\"id_str\\\":707632249340952577,\\\"created_at\\\":\\\"2016-03-09 18:20:50\\\",\\\"text\\\":\\\"b\\\\\\\"The AEI meeting wasn't secret and I was only there for a few hours to talk about Mars and sustainable energy. Nothing to do with Trump.\\\\\\\"\\\"}\"</td></tr><tr><td>\"{\\\"id_str\\\":707619151401988096,\\\"created_at\\\":\\\"2016-03-09 17:28:47\\\",\\\"text\\\":\\\"b'RT @marcthiessen: I interviewed .@elonmusk at @AEI World Forum and @realDonaldTrump never came up.  Discussed his plans for manned Mars mis\\\\\\\\xe2\\\\\\\\x80\\\\\\\\xa6'\\\"}\"</td></tr><tr><td>\"{\\\"id_str\\\":707611375191744512,\\\"created_at\\\":\\\"2016-03-09 16:57:53\\\",\\\"text\\\":\\\"b'Congrats to DeepMind! Many experts in the field thought AI was 10 years away from achieving this. https:\\\\/\\\\/t.co\\\\/5gGZZkud3K'\\\"}\"</td></tr><tr><td>\"{\\\"id_str\\\":706891731430584322,\\\"created_at\\\":\\\"2016-03-07 17:18:16\\\",\\\"text\\\":\\\"b'RT @newscientist: The northern hemisphere has gone 2\\\\\\\\xc2\\\\\\\\xb0C above pre-industrial temperatures for the first time https:\\\\/\\\\/t.co\\\\/7JZ0TEpyjb https:\\\\/\\\\\\\\xe2\\\\\\\\x80\\\\\\\\xa6'\\\"}\"</td></tr><tr><td>\"{\\\"id_str\\\":706612070041591808,\\\"created_at\\\":\\\"2016-03-06 22:47:00\\\",\\\"text\\\":\\\"b\\\\\\\"SpaceX &amp; Tesla comp is same or better than other companies. Big diff is that we don't outsource manufacturing, retail sales or service.\\\\\\\"\\\"}\"</td></tr><tr><td>\"{\\\"id_str\\\":706610504161107968,\\\"created_at\\\":\\\"2016-03-06 22:40:47\\\",\\\"text\\\":\\\"b'SpaceX and Tesla rated most meaningful work in high tech. Also, most stressful, but that goes with the territory.  https:\\\\/\\\\/t.co\\\\/y8s4UdMF5z'\\\"}\"</td></tr><tr><td>\"{\\\"id_str\\\":706185709481119745,\\\"created_at\\\":\\\"2016-03-05 18:32:48\\\",\\\"text\\\":\\\"b\\\\\\\"@wk057 @TeslaMotors Wasn't done at my request. Good hacking is a gift.\\\\\\\"\\\"}\"</td></tr><tr><td>\"{\\\"id_str\\\":705917924972736512,\\\"created_at\\\":\\\"2016-03-05 00:48:43\\\",\\\"text\\\":\\\"b\\\\\\\"Rocket landed hard on the droneship. Didn't expect this one to work (v hot reentry), but next flight has a good chance.\\\\\\\"\\\"}\"</td></tr><tr><td>\"{\\\"id_str\\\":705910704792973313,\\\"created_at\\\":\\\"2016-03-05 00:20:01\\\",\\\"text\\\":\\\"b'Target altitude of 40,600 km achieved. Thanks @SES_Satellites for riding on Falcon 9! Looking forward to future missions.'\\\"}\"</td></tr><tr><td>\"{\\\"id_str\\\":535082394441613312,\\\"created_at\\\":\\\"2014-11-19 14:49:18\\\",\\\"text\\\":\\\"b\\\\\\\"RT @Miles_Brundage: DeepMind co-founder Shane Legg on unsafe AIs being given access to supercomputers in the 2020s (@elonmusk's fear?) http\\\\\\\\xe2\\\\\\\\x80\\\\\\\\xa6\\\\\\\"\\\"}\"</td></tr><tr><td>\"{\\\"id_str\\\":534731793832751106,\\\"created_at\\\":\\\"2014-11-18 15:36:09\\\",\\\"text\\\":\\\"b'Tesla comic book http:\\\\/\\\\/t.co\\\\/enyjX9bcGE'\\\"}\"</td></tr><tr><td>\"{\\\"id_str\\\":534607155546968064,\\\"created_at\\\":\\\"2014-11-18 07:20:53\\\",\\\"text\\\":\\\"b'RT @Techmeme: Advances in image-recognition software show identification of entire scenes, not just objects http:\\\\/\\\\/t.co\\\\/PaLNRXi53q http:\\\\/\\\\/t\\\\\\\\xe2\\\\\\\\x80\\\\\\\\xa6'\\\"}\"</td></tr><tr><td>\"{\\\"id_str\\\":532368290942058496,\\\"created_at\\\":\\\"2014-11-12 03:04:26\\\",\\\"text\\\":\\\"b'RT @TeslaMotors: Hong Kong street view from a right hand drive Model S. http:\\\\/\\\\/t.co\\\\/HWthvB72je'\\\"}\"</td></tr><tr><td>\"{\\\"id_str\\\":532205104993038336,\\\"created_at\\\":\\\"2014-11-11 16:15:59\\\",\\\"text\\\":\\\"b'RT @AutoblogGreen: The @TeslaMotors Model S scores Euro NCAP 5-star safety score, w\\\\/cool video http:\\\\/\\\\/t.co\\\\/Yh6l1TF5dF'\\\"}\"</td></tr><tr><td>\"{\\\"id_str\\\":531996243904716800,\\\"created_at\\\":\\\"2014-11-11 02:26:03\\\",\\\"text\\\":\\\"b'@Shmizer1 unfettered certainly and at very low cost'\\\"}\"</td></tr><tr><td>\"{\\\"id_str\\\":531994668608024576,\\\"created_at\\\":\\\"2014-11-11 02:19:47\\\",\\\"text\\\":\\\"b'SpaceX is still in the early stages of developing advanced micro-satellites operating in large formations. Announcement in 2 to 3 months.'\\\"}\"</td></tr><tr><td>\"{\\\"id_str\\\":530599540995260416,\\\"created_at\\\":\\\"2014-11-07 05:56:03\\\",\\\"text\\\":\\\"b'Astronauts Play With Blobs of Water in Zero Gravity http:\\\\/\\\\/t.co\\\\/SeCDcWTnJv'\\\"}\"</td></tr><tr><td>\"{\\\"id_str\\\":529466348976345088,\\\"created_at\\\":\\\"2014-11-04 02:53:09\\\",\\\"text\\\":\\\"b'Review of performance version of dual motor Model S by @MotorTrend http:\\\\/\\\\/t.co\\\\/wSsbXFdv42'\\\"}\"</td></tr><tr><td>\"{\\\"id_str\\\":528318667306446848,\\\"created_at\\\":\\\"2014-10-31 22:52:40\\\",\\\"text\\\":\\\"b'Deepest sympathies to the families of the pilots and the Virgin Galactic team'\\\"}\"</td></tr><tr><td>\"{\\\"id_str\\\":677961117595906048,\\\"created_at\\\":\\\"2015-12-18 21:18:21\\\",\\\"text\\\":\\\"b'About 2 mins from static fire'\\\"}\"</td></tr><tr><td>\"{\\\"id_str\\\":677949037815840768,\\\"created_at\\\":\\\"2015-12-18 20:30:20\\\",\\\"text\\\":\\\"b'@elonmusk holding for issue resolution'\\\"}\"</td></tr><tr><td>\"{\\\"id_str\\\":677945101184708609,\\\"created_at\\\":\\\"2015-12-18 20:14:42\\\",\\\"text\\\":\\\"b'Abort triggered by flight computer on upper stage throttle valve. Adjusting thresholds and restarting count at T-10 mins.'\\\"}\"</td></tr><tr><td>\"{\\\"id_str\\\":677940293212102656,\\\"created_at\\\":\\\"2015-12-18 19:55:36\\\",\\\"text\\\":\\\"b'5 mins from static fire test'\\\"}\"</td></tr><tr><td>\"{\\\"id_str\\\":677666779494248449,\\\"created_at\\\":\\\"2015-12-18 01:48:45\\\",\\\"text\\\":\\\"b'@lukealization yes, from 70F to 20 F'\\\"}\"</td></tr><tr><td>\"{\\\"id_str\\\":677666464208416768,\\\"created_at\\\":\\\"2015-12-18 01:47:30\\\",\\\"text\\\":\\\"b'@craigcocca It worked in Texas'\\\"}\"</td></tr><tr><td>\"{\\\"id_str\\\":677663227271118848,\\\"created_at\\\":\\\"2015-12-18 01:34:38\\\",\\\"text\\\":\\\"b'@PaigeANjax -340 F in this case. Deep cryo increases density and amplifies rocket performance. First time anyone has gone this low for O2.'\\\"}\"</td></tr><tr><td>\"{\\\"id_str\\\":677660460230041600,\\\"created_at\\\":\\\"2015-12-18 01:23:38\\\",\\\"text\\\":\\\"b'Falcon 9 is vertical on the launch pad at Cape Canaveral. Working towards static fire. Deep cryo liquid oxygen presenting some challenges.'\\\"}\"</td></tr><tr><td>\"{\\\"id_str\\\":677646796311670786,\\\"created_at\\\":\\\"2015-12-18 00:29:20\\\",\\\"text\\\":\\\"b'@mashabletech @mashable Not really my letter (no authorship contribution). Just agreed to add my name when they asked.'\\\"}\"</td></tr><tr><td>\"{\\\"id_str\\\":677403793651175424,\\\"created_at\\\":\\\"2015-12-17 08:23:44\\\",\\\"text\\\":\\\"b'Vance article on self-driving cars was inaccurate https:\\\\/\\\\/t.co\\\\/AV636KAcKH'\\\"}\"</td></tr><tr><td>\"{\\\"id_str\\\":828287608614744064,\\\"created_at\\\":\\\"2017-02-05 17:02:09\\\",\\\"text\\\":\\\"b'@FifthRocket Did you read my tweets? I attacked it hard. Did not defend.'\\\"}\"</td></tr><tr><td>\"{\\\"id_str\\\":828287354741936130,\\\"created_at\\\":\\\"2017-02-05 17:01:08\\\",\\\"text\\\":\\\"b\\\\\\\"@KENEMONICS You're right. Politics is a no-win situation. Somebody is going to hate what you say no matter what that is.\\\\\\\"\\\"}\"</td></tr><tr><td>\"{\\\"id_str\\\":828285894570422272,\\\"created_at\\\":\\\"2017-02-05 16:55:20\\\",\\\"text\\\":\\\"b\\\\\\\"@martinengwicht Also good. There are several that are on par with US. Just don't think any are better. People confuse laws with courts.\\\\\\\"\\\"}\"</td></tr><tr><td>\"{\\\"id_str\\\":828285409675341824,\\\"created_at\\\":\\\"2017-02-05 16:53:25\\\",\\\"text\\\":\\\"b'@paulvankeep Mostly anti-drug laws'\\\"}\"</td></tr><tr><td>\"{\\\"id_str\\\":828284802327523328,\\\"created_at\\\":\\\"2017-02-05 16:51:00\\\",\\\"text\\\":\\\"b'@zgiarrizzo Exactly'\\\"}\"</td></tr><tr><td>\"{\\\"id_str\\\":828284631170560000,\\\"created_at\\\":\\\"2017-02-05 16:50:19\\\",\\\"text\\\":\\\"b'@TheLAAdams The laws need to change. Judges are responsible for evaluating whether an action breaks the law, not making law.'\\\"}\"</td></tr><tr><td>\"{\\\"id_str\\\":828284048103579651,\\\"created_at\\\":\\\"2017-02-05 16:48:00\\\",\\\"text\\\":\\\"b'@humplik The remedy for that is changing the law'\\\"}\"</td></tr><tr><td>\"{\\\"id_str\\\":828282768559849473,\\\"created_at\\\":\\\"2017-02-05 16:42:55\\\",\\\"text\\\":\\\"b\\\\\\\"@CallumK24 Ok, but what's up the wigs?\\\\\\\"\\\"}\"</td></tr><tr><td>\"{\\\"id_str\\\":828282648711802881,\\\"created_at\\\":\\\"2017-02-05 16:42:26\\\",\\\"text\\\":\\\"b\\\\\\\"@iLexomat There are many good legal systems on par with US. Just don't know any that are better.\\\\\\\"\\\"}\"</td></tr><tr><td>\"{\\\"id_str\\\":828281953455579136,\\\"created_at\\\":\\\"2017-02-05 16:39:41\\\",\\\"text\\\":\\\"b'@Biesseman True!'\\\"}\"</td></tr><tr><td>\"{\\\"id_str\\\":792220517654597633,\\\"created_at\\\":\\\"2016-10-29 04:24:24\\\",\\\"text\\\":\\\"b'@BobaFaux strongly net positive'\\\"}\"</td></tr><tr><td>\"{\\\"id_str\\\":792218248917811204,\\\"created_at\\\":\\\"2016-10-29 04:15:23\\\",\\\"text\\\":\\\"b'Solar glass tiles can also incorporate heating elements, like rear defroster on a car, to clear roof of snow and keep generating energy'\\\"}\"</td></tr><tr><td>\"{\\\"id_str\\\":792217704757284864,\\\"created_at\\\":\\\"2016-10-29 04:13:14\\\",\\\"text\\\":\\\"b'@HipStreeet yes'\\\"}\"</td></tr><tr><td>\"{\\\"id_str\\\":792217344684597248,\\\"created_at\\\":\\\"2016-10-29 04:11:48\\\",\\\"text\\\":\\\"b'RT @TeslaMotors: Solar roof glass tile vs. conventional roof tile https:\\\\/\\\\/t.co\\\\/AnGWJ07jub'\\\"}\"</td></tr><tr><td>\"{\\\"id_str\\\":792213393943826432,\\\"created_at\\\":\\\"2016-10-29 03:56:06\\\",\\\"text\\\":\\\"b'Should mention that the Tesla solar roof is robust against any weather, incl heavy hail. Also, higher insulating value than a standard roof.'\\\"}\"</td></tr><tr><td>\"{\\\"id_str\\\":792204742558560256,\\\"created_at\\\":\\\"2016-10-29 03:21:43\\\",\\\"text\\\":\\\"b'RT @jodyfisher: Exactly what I was thinking.. nice job @elonmusk https:\\\\/\\\\/t.co\\\\/jOwclRImXP'\\\"}\"</td></tr><tr><td>\"{\\\"id_str\\\":792202622300151808,\\\"created_at\\\":\\\"2016-10-29 03:13:18\\\",\\\"text\\\":\\\"b\\\\\\\"RT @CNBC: With Tesla's solar roof, you'll never have to know these houses are solar-powered https:\\\\/\\\\/t.co\\\\/n88I5XbR4z\\\\\\\"\\\"}\"</td></tr><tr><td>\"{\\\"id_str\\\":792195966224826368,\\\"created_at\\\":\\\"2016-10-29 02:46:51\\\",\\\"text\\\":\\\"b'RT @TeslaMotors: Tuscan glass tile roof https:\\\\/\\\\/t.co\\\\/iDFhp8Y3qi'\\\"}\"</td></tr><tr><td>\"{\\\"id_str\\\":792195932251037697,\\\"created_at\\\":\\\"2016-10-29 02:46:43\\\",\\\"text\\\":\\\"b'RT @TeslaMotors: Close up of the solar roof https:\\\\/\\\\/t.co\\\\/kDsSqtTWK7'\\\"}\"</td></tr><tr><td>\"{\\\"id_str\\\":792177803869376512,\\\"created_at\\\":\\\"2016-10-29 01:34:41\\\",\\\"text\\\":\\\"b'RT @TeslaMotors: Powerwall 2 stores solar energy to power your home with 14 kWh of storage https:\\\\/\\\\/t.co\\\\/oVv32hiGF6'\\\"}\"</td></tr><tr><td>\"{\\\"id_str\\\":553856479590359040,\\\"created_at\\\":\\\"2015-01-10 10:10:49\\\",\\\"text\\\":\\\"b'Ship itself is fine. Some of the support equipment on the deck will need to be replaced...'\\\"}\"</td></tr><tr><td>\"{\\\"id_str\\\":553855109114101760,\\\"created_at\\\":\\\"2015-01-10 10:05:22\\\",\\\"text\\\":\\\"b'Rocket made it to drone spaceport ship, but landed hard. Close, but no cigar this time. Bodes well for the future tho.'\\\"}\"</td></tr><tr><td>\"{\\\"id_str\\\":553853961317654528,\\\"created_at\\\":\\\"2015-01-10 10:00:49\\\",\\\"text\\\":\\\"b'Ascent phase good. Dragon deployed to Space Station rendezvous orbit.'\\\"}\"</td></tr><tr><td>\"{\\\"id_str\\\":553850129208586241,\\\"created_at\\\":\\\"2015-01-10 09:45:35\\\",\\\"text\\\":\\\"b'Launching in one minute'\\\"}\"</td></tr><tr><td>\"{\\\"id_str\\\":553843486236364800,\\\"created_at\\\":\\\"2015-01-10 09:19:11\\\",\\\"text\\\":\\\"b'RT @SpaceX: T-30 min to Falcon 9 and Dragon launch. Live launch webcast: http:\\\\/\\\\/t.co\\\\/tdni54hHPm http:\\\\/\\\\/t.co\\\\/7qRCYxBJkd'\\\"}\"</td></tr><tr><td>\"{\\\"id_str\\\":553836041770373120,\\\"created_at\\\":\\\"2015-01-10 08:49:36\\\",\\\"text\\\":\\\"b'At mission control in California. Launch in 60 mins. Looks good so far.'\\\"}\"</td></tr><tr><td>\"{\\\"id_str\\\":553835543336058880,\\\"created_at\\\":\\\"2015-01-10 08:47:37\\\",\\\"text\\\":\\\"b'Swimming on the moon http:\\\\/\\\\/t.co\\\\/7eZ3tqwwEj'\\\"}\"</td></tr><tr><td>\"{\\\"id_str\\\":553744525194047488,\\\"created_at\\\":\\\"2015-01-10 02:45:57\\\",\\\"text\\\":\\\"b'RT @SpaceX: F9 &amp; Dragon now vertical on the launch pad. Liftoff @ 4:47am ET. Live launch webcast: http:\\\\/\\\\/t.co\\\\/6Db27OEotr http:\\\\/\\\\/t.co\\\\/fSAjzB\\\\\\\\xe2\\\\\\\\x80\\\\\\\\xa6'\\\"}\"</td></tr><tr><td>\"{\\\"id_str\\\":553293118230257665,\\\"created_at\\\":\\\"2015-01-08 20:52:13\\\",\\\"text\\\":\\\"b'RT @Slate: Jon Stewart had a sober Daily Show message: #CharlieHebdo was on \\\\\\\"Team Civilization.\\\\\\\" http:\\\\/\\\\/t.co\\\\/Nrh4yMs08q http:\\\\/\\\\/t.co\\\\/ezFcgUw\\\\\\\\xe2\\\\\\\\x80\\\\\\\\xa6'\\\"}\"</td></tr><tr><td>\"{\\\"id_str\\\":552877044296450048,\\\"created_at\\\":\\\"2015-01-07 17:18:53\\\",\\\"text\\\":\\\"b'RT @SpaceX: Ah yes, the \\\\\\\\xe2\\\\\\\\x80\\\\\\\\x9cBird 9\\\\\\\\xe2\\\\\\\\x80\\\\\\\\x9d. Meet our rocket: http:\\\\/\\\\/t.co\\\\/uwkUzq6LBM http:\\\\/\\\\/t.co\\\\/FiJfRA1I43'\\\"}\"</td></tr><tr><td>\"{\\\"id_str\\\":338367123455885312,\\\"created_at\\\":\\\"2013-05-25 18:53:03\\\",\\\"text\\\":\\\"b'@kn0xvi11ain Very few. Scientific consensus at time of Columbus was world was round http:\\\\/\\\\/t.co\\\\/V3XIcob4s8'\\\"}\"</td></tr><tr><td>\"{\\\"id_str\\\":338360832410939392,\\\"created_at\\\":\\\"2013-05-25 18:28:03\\\",\\\"text\\\":\\\"b'Sorry for all the heavy stuff abt climate change, but I really thought world wd take action sooner. No time for subtlety'\\\"}\"</td></tr><tr><td>\"{\\\"id_str\\\":338359304216256512,\\\"created_at\\\":\\\"2013-05-25 18:21:59\\\",\\\"text\\\":\\\"b'@1stHubbleFan @keithwarren Exactly'\\\"}\"</td></tr><tr><td>\"{\\\"id_str\\\":338357776889823232,\\\"created_at\\\":\\\"2013-05-25 18:15:55\\\",\\\"text\\\":\\\"b'In reality, 97% of scientists agree that we face serious human generated climate change http:\\\\/\\\\/t.co\\\\/soQCnJB61B'\\\"}\"</td></tr><tr><td>\"{\\\"id_str\\\":338356013583441920,\\\"created_at\\\":\\\"2013-05-25 18:08:54\\\",\\\"text\\\":\\\"b'Climate change deniers claim \\\\\\\"scientists disagree\\\\\\\", same rebuttal used by tobacco industry about lung cancer for decades'\\\"}\"</td></tr><tr><td>\"{\\\"id_str\\\":338199136635604992,\\\"created_at\\\":\\\"2013-05-25 07:45:32\\\",\\\"text\\\":\\\"b'Good article on \\\\\\\"Climate Change\\\\\\\" vs \\\\\\\"Global Warming\\\\\\\" referred by @ForrestTanaka http:\\\\/\\\\/t.co\\\\/D1s4RJ0qus'\\\"}\"</td></tr><tr><td>\"{\\\"id_str\\\":338195298818068480,\\\"created_at\\\":\\\"2013-05-25 07:30:17\\\",\\\"text\\\":\\\"b'RT @UberFacts: There\\\\\\\\'s an Iron Man edition of Mr. Potato Head named \\\\\\\"Tony Starch.\\\\\\\"'\\\"}\"</td></tr><tr><td>\"{\\\"id_str\\\":338135523765919745,\\\"created_at\\\":\\\"2013-05-25 03:32:45\\\",\\\"text\\\":\\\"b'Was beat up pretty badly as a kid &amp; left me w jagged septum. Harder to breathe as I got older, so time to fix.'\\\"}\"</td></tr><tr><td>\"{\\\"id_str\\\":338130215492521984,\\\"created_at\\\":\\\"2013-05-25 03:11:40\\\",\\\"text\\\":\\\"b'RT @1stHubbleFan: @GaryDownie @elonmusk Wrong! Science helps confirm #climatechange by, once again, pointing to #sealevelrise: http:\\\\/\\\\/t.co\\\\/\\\\\\\\xe2\\\\\\\\x80\\\\\\\\xa6'\\\"}\"</td></tr><tr><td>\"{\\\"id_str\\\":338129661307531264,\\\"created_at\\\":\\\"2013-05-25 03:09:28\\\",\\\"text\\\":\\\"b\\\\\\\"Had a minor operation, so am in bed in meds. Probably shouldn't be tweeting :)\\\\\\\"\\\"}\"</td></tr><tr><td>\"{\\\"id_str\\\":332287909413650433,\\\"created_at\\\":\\\"2013-05-09 00:16:25\\\",\\\"text\\\":\\\"b'@mjasandoval Stay tuned'\\\"}\"</td></tr><tr><td>\"{\\\"id_str\\\":332282461344124931,\\\"created_at\\\":\\\"2013-05-08 23:54:46\\\",\\\"text\\\":\\\"b\\\\\\\"Just want to say thanks to customers &amp; investors that took a chance on Tesla through the long, dark night. We wouldn't be here without you.\\\\\\\"\\\"}\"</td></tr><tr><td>\"{\\\"id_str\\\":332270252832460800,\\\"created_at\\\":\\\"2013-05-08 23:06:16\\\",\\\"text\\\":\\\"b'@westcoastbill Thanks Bill!'\\\"}\"</td></tr><tr><td>\"{\\\"id_str\\\":331797405840338944,\\\"created_at\\\":\\\"2013-05-07 15:47:20\\\",\\\"text\\\":\\\"b'Am a fan of Larry, Sergey &amp; Google in general, but self-driving cars comments to Bloomberg were just off-the-cuff. No big announcement here'\\\"}\"</td></tr><tr><td>\"{\\\"id_str\\\":331796308631367681,\\\"created_at\\\":\\\"2013-05-07 15:42:59\\\",\\\"text\\\":\\\"b'Tesla priority is electrification of cars, so priority is Model S, Model X, then mass market third gen vehicle &amp; truck'\\\"}\"</td></tr><tr><td>\"{\\\"id_str\\\":331795766937018368,\\\"created_at\\\":\\\"2013-05-07 15:40:49\\\",\\\"text\\\":\\\"b'@rebel_sal exactly'\\\"}\"</td></tr><tr><td>\"{\\\"id_str\\\":331794886368055296,\\\"created_at\\\":\\\"2013-05-07 15:37:20\\\",\\\"text\\\":\\\"b'Creating an autopilot for cars at Tesla is an important, but not yet top priority. Still a few years from production.'\\\"}\"</td></tr><tr><td>\"{\\\"id_str\\\":331792738339127296,\\\"created_at\\\":\\\"2013-05-07 15:28:47\\\",\\\"text\\\":\\\"b'@DJFrustration Tested it myself this weekend and was working well. Some songs have licensing prohibiting direct request.'\\\"}\"</td></tr><tr><td>\"{\\\"id_str\\\":331490556574326785,\\\"created_at\\\":\\\"2013-05-06 19:28:02\\\",\\\"text\\\":\\\"b'Anyone interested in doing ultra hardcore vehicle engineering at Tesla, please apply!'\\\"}\"</td></tr><tr><td>\"{\\\"id_str\\\":331489911842689025,\\\"created_at\\\":\\\"2013-05-06 19:25:28\\\",\\\"text\\\":\\\"b'Chris Porritt from Aston Martin just joined as head of vehicle engineering at Tesla http:\\\\/\\\\/t.co\\\\/MNUIWDxoXt'\\\"}\"</td></tr><tr><td>\"{\\\"id_str\\\":326152872708419585,\\\"created_at\\\":\\\"2013-04-22 01:57:59\\\",\\\"text\\\":\\\"b'Now with actual picture :) http:\\\\/\\\\/t.co\\\\/G6PCiAJmtx'\\\"}\"</td></tr><tr><td>\"{\\\"id_str\\\":326152475205857281,\\\"created_at\\\":\\\"2013-04-22 01:56:24\\\",\\\"text\\\":\\\"b'Cool picture of Io crossing Jupiter sent to me by @shervin. Would be amazing to visit in person one day.'\\\"}\"</td></tr><tr><td>\"{\\\"id_str\\\":326118739483451392,\\\"created_at\\\":\\\"2013-04-21 23:42:21\\\",\\\"text\\\":\\\"b\\\\\\\"Congratulations to @OrbitalSciences! \\\\\\\\xe2\\\\\\\\x80\\\\\\\\x9c@CNETNews: Orbital's Antares rocket makes successful test flight http:\\\\/\\\\/t.co\\\\/y7bwdDMGCi\\\\\\\\xe2\\\\\\\\x80\\\\\\\\x9d\\\\\\\"\\\"}\"</td></tr><tr><td>\"{\\\"id_str\\\":325011704582901760,\\\"created_at\\\":\\\"2013-04-18 22:23:23\\\",\\\"text\\\":\\\"b'@eirene_inc @archforhumanity @AFHDisasterTeam We have a lot of heavy lifting equipment. Will ask my team to send it over.'\\\"}\"</td></tr><tr><td>\"{\\\"id_str\\\":324990048523141120,\\\"created_at\\\":\\\"2013-04-18 20:57:20\\\",\\\"text\\\":\\\"b'Heart goes out to people of central Texas, home of SpaceX TX. All resources at disposal to help in any way.'\\\"}\"</td></tr><tr><td>\"{\\\"id_str\\\":324575593796612096,\\\"created_at\\\":\\\"2013-04-17 17:30:26\\\",\\\"text\\\":\\\"b'A @WhiteHouse petition to allow direct sales of cars by manufacturers: https:\\\\/\\\\/t.co\\\\/7h6m89mQmh Please vote here too!'\\\"}\"</td></tr><tr><td>\"{\\\"id_str\\\":324388037117214720,\\\"created_at\\\":\\\"2013-04-17 05:05:09\\\",\\\"text\\\":\\\"b'If you live in Texas and are pro Tesla, please vote in the @MyABJ opinion poll! http:\\\\/\\\\/t.co\\\\/ozPdw6UzUo'\\\"}\"</td></tr><tr><td>\"{\\\"id_str\\\":322906572814696448,\\\"created_at\\\":\\\"2013-04-13 02:58:20\\\",\\\"text\\\":\\\"b'Interesting... \\\\\\\"Putin unveils $50B drive for Russian space supremacy http:\\\\/\\\\/t.co\\\\/aK1vYGlYhl\\\\\\\" via @physorg_com'\\\"}\"</td></tr><tr><td>\"{\\\"id_str\\\":322416386037141504,\\\"created_at\\\":\\\"2013-04-11 18:30:31\\\",\\\"text\\\":\\\"b'@batasrki Stay tuned for a big Supercharger announcement in a few weeks. Definitely have you covered.'\\\"}\"</td></tr><tr><td>\"{\\\"id_str\\\":322414424570859520,\\\"created_at\\\":\\\"2013-04-11 18:22:43\\\",\\\"text\\\":\\\"b'@JBSiegelMD Thanks! Hearing from constituents is super important to counteract the influence of the dealer lobby.'\\\"}\"</td></tr><tr><td>\"{\\\"id_str\\\":249306225177669632,\\\"created_at\\\":\\\"2012-09-22 00:36:50\\\",\\\"text\\\":\\\"b'First test flight hop of our Grasshopper VTVL rocket! http:\\\\/\\\\/t.co\\\\/oomI5vSB'\\\"}\"</td></tr><tr><td>\"{\\\"id_str\\\":248564996022345728,\\\"created_at\\\":\\\"2012-09-19 23:31:27\\\",\\\"text\\\":\\\"b'The first owner to drive coast to coast in a Model S is about to complete the journey @XCTeslatrip!'\\\"}\"</td></tr><tr><td>\"{\\\"id_str\\\":247510274918199296,\\\"created_at\\\":\\\"2012-09-17 01:40:23\\\",\\\"text\\\":\\\"b'Tesla made 100 vehicle bodies this week for the first time. Really proud of the team! Pic of S\\\\/N 396: http:\\\\/\\\\/t.co\\\\/fZzbUIjn'\\\"}\"</td></tr><tr><td>\"{\\\"id_str\\\":246419783136976897,\\\"created_at\\\":\\\"2012-09-14 01:27:09\\\",\\\"text\\\":\\\"b'Tesla Supercharger unveiling event set for Sept 24. It will feel like alien spaceships landed at highway rest stops.'\\\"}\"</td></tr><tr><td>\"{\\\"id_str\\\":246352069332721665,\\\"created_at\\\":\\\"2012-09-13 20:58:05\\\",\\\"text\\\":\\\"b'Amazing series of space pics assembled by @theatlantic http:\\\\/\\\\/t.co\\\\/IUFTYgDn http:\\\\/\\\\/t.co\\\\/SHEPSWbS'\\\"}\"</td></tr><tr><td>\"{\\\"id_str\\\":245605921387053056,\\\"created_at\\\":\\\"2012-09-11 19:33:09\\\",\\\"text\\\":\\\"b'RT @therealautoblog: First Drive: 2012 Tesla Model S [w\\\\/video] http:\\\\/\\\\/t.co\\\\/2E1VZDAJ'\\\"}\"</td></tr><tr><td>\"{\\\"id_str\\\":243800936240279552,\\\"created_at\\\":\\\"2012-09-06 20:00:47\\\",\\\"text\\\":\\\"b'Tesla Model S driven 285 miles from Vegas to the beach in LA on a single charge by @motortrend http:\\\\/\\\\/t.co\\\\/8YvO1tsz'\\\"}\"</td></tr><tr><td>\"{\\\"id_str\\\":240909270764359680,\\\"created_at\\\":\\\"2012-08-29 20:30:20\\\",\\\"text\\\":\\\"b'This piece about Mars in the NYT is worth a read http:\\\\/\\\\/t.co\\\\/mNB6f1aS'\\\"}\"</td></tr><tr><td>\"{\\\"id_str\\\":240620571589738496,\\\"created_at\\\":\\\"2012-08-29 01:23:09\\\",\\\"text\\\":\\\"b\\\\\\\"@ticketwaxter Extending life to Mars would ensure humanity's survival and be the greatest, most exciting adventure ever!\\\\\\\"\\\"}\"</td></tr><tr><td>\"{\\\"id_str\\\":240174623948419072,\\\"created_at\\\":\\\"2012-08-27 19:51:07\\\",\\\"text\\\":\\\"b\\\\\\\"@JoeBeernink Back of the envelope calc: Merlin wd accelerate Model S at 25 g's, so wd break sound barrier in &lt;1.5 sec\\\\\\\"\\\"}\"</td></tr><tr><td>\"{\\\"id_str\\\":278910105804734464,\\\"created_at\\\":\\\"2012-12-12 17:12:05\\\",\\\"text\\\":\\\"b'Tesla articles 30 mins apart: \\\\\\\"This Stock is Screaming Buy\\\\\\\" http:\\\\/\\\\/t.co\\\\/jb9DCw4s and \\\\\\\"This Stock Could Get DESTROYED\\\\\\\" http:\\\\/\\\\/t.co\\\\/dqxTK4LJ'\\\"}\"</td></tr><tr><td>\"{\\\"id_str\\\":278605236845817856,\\\"created_at\\\":\\\"2012-12-11 21:00:39\\\",\\\"text\\\":\\\"b'RT @brynmooser: YES! \\\\\\\\xe2\\\\\\\\x80\\\\\\\\x9c@RYOTnews: BREAKING: @UN to launch anti-cholera initiative aimed at #Haiti http:\\\\/\\\\/t.co\\\\/vBSbwDwF #cholera @IJDH @ol ...'\\\"}\"</td></tr><tr><td>\"{\\\"id_str\\\":278331899133452288,\\\"created_at\\\":\\\"2012-12-11 02:54:30\\\",\\\"text\\\":\\\"b'Tesla was just approved for a full Class 1 Massachusetts Auto Sales License by a vote of 4 to 1. Much appreciated!'\\\"}\"</td></tr><tr><td>\"{\\\"id_str\\\":277913865688346624,\\\"created_at\\\":\\\"2012-12-09 23:13:23\\\",\\\"text\\\":\\\"b'Told my kids (age 8 and 6) that we were going to see the Nutcracker, which somehow got translated as the Buttcracker.'\\\"}\"</td></tr><tr><td>\"{\\\"id_str\\\":277693768583491584,\\\"created_at\\\":\\\"2012-12-09 08:38:48\\\",\\\"text\\\":\\\"b'Congrats to @dmetcalf for being the first to drive a Tesla Model S over 400 miles on a single charge!'\\\"}\"</td></tr><tr><td>\"{\\\"id_str\\\":276194361442705408,\\\"created_at\\\":\\\"2012-12-05 05:20:41\\\",\\\"text\\\":\\\"b'Interesting possible answer to the Fermi Paradox \\\\\\\\nhttp:\\\\/\\\\/t.co\\\\/ASZdxBAl'\\\"}\"</td></tr><tr><td>\"{\\\"id_str\\\":275835562076811264,\\\"created_at\\\":\\\"2012-12-04 05:34:57\\\",\\\"text\\\":\\\"b'RT @Slate: New government study says we could save billions by replacing dollar bills with coins. New study is wrong: http:\\\\/\\\\/t.co\\\\/QgwH0bSh'\\\"}\"</td></tr><tr><td>\"{\\\"id_str\\\":275821969415483393,\\\"created_at\\\":\\\"2012-12-04 04:40:56\\\",\\\"text\\\":\\\"b'Am happy to report that Tesla was narrowly cash flow positive last week. Continued improvement expected through year end.'\\\"}\"</td></tr><tr><td>\"{\\\"id_str\\\":275346615634624514,\\\"created_at\\\":\\\"2012-12-02 21:12:03\\\",\\\"text\\\":\\\"b'Uranium ore now available on Amazon! So much more convenient than Uzbekistan #AwesomeXmasGifts http:\\\\/\\\\/t.co\\\\/jqWAJrnY'\\\"}\"</td></tr><tr><td>\"{\\\"id_str\\\":274090388669734912,\\\"created_at\\\":\\\"2012-11-29 10:00:15\\\",\\\"text\\\":\\\"b'@shervin Thanks Shervin!'\\\"}\"</td></tr><tr><td>\"{\\\"id_str\\\":307361875782402048,\\\"created_at\\\":\\\"2013-03-01 05:29:16\\\",\\\"text\\\":\\\"b'Launch on track for tomorrow morning at 10:10 am Cape Canaveral time'\\\"}\"</td></tr><tr><td>\"{\\\"id_str\\\":306926977250631680,\\\"created_at\\\":\\\"2013-02-28 00:41:08\\\",\\\"text\\\":\\\"b\\\\\\\"RT @Edmunds_Test: About to head home in our 2013 @Teslamotors Model S. I won't plug in at home for the return trip. I'll take side trips ...\\\\\\\"\\\"}\"</td></tr><tr><td>\"{\\\"id_str\\\":306612536973856768,\\\"created_at\\\":\\\"2013-02-27 03:51:40\\\",\\\"text\\\":\\\"b'@andrewliebchen @_chrissimmons Exactly. Then no need for clean energy subsidies, as externality is priced into mkt behavior'\\\"}\"</td></tr><tr><td>\"{\\\"id_str\\\":306608592100941824,\\\"created_at\\\":\\\"2013-02-27 03:35:59\\\",\\\"text\\\":\\\"b'@_ChrisSimmons A carbon tax would affect coal even more than gasoline, so electricity would also become more expensive'\\\"}\"</td></tr><tr><td>\"{\\\"id_str\\\":306591715077271553,\\\"created_at\\\":\\\"2013-02-27 02:28:55\\\",\\\"text\\\":\\\"b'One often hears that there is no point in a US carbon tax unless China acts. Well, they just did http:\\\\/\\\\/t.co\\\\/SIp9NzkulK'\\\"}\"</td></tr><tr><td>\"{\\\"id_str\\\":306304864164667392,\\\"created_at\\\":\\\"2013-02-26 07:29:05\\\",\\\"text\\\":\\\"b'RT @johnvoelcker: This is one very, very happy owner! My 2013 Tesla Model S Electric Sport Sedan: Delivery at Last! http:\\\\/\\\\/t.co\\\\/XNBQc6Md ...'\\\"}\"</td></tr><tr><td>\"{\\\"id_str\\\":306193893890863104,\\\"created_at\\\":\\\"2013-02-26 00:08:07\\\",\\\"text\\\":\\\"b'Rocket static fire @SpaceX Cape Canaveral launch pad looks good. Engines generated 433 tons of thrust, parameters nominal.'\\\"}\"</td></tr><tr><td>\"{\\\"id_str\\\":305971647561752576,\\\"created_at\\\":\\\"2013-02-25 09:25:00\\\",\\\"text\\\":\\\"b'@FaeLoba Best is winning competitions like Formula SAE, design\\\\/build\\\\/fly or other evidence of exceptional eng ability'\\\"}\"</td></tr><tr><td>\"{\\\"id_str\\\":305172926762725376,\\\"created_at\\\":\\\"2013-02-23 04:31:10\\\",\\\"text\\\":\\\"b'@EricIdle Cool! Btw, thought you might appreciate that 1st flight of Dragon spacecraft carried a large wheel of cheese :)'\\\"}\"</td></tr><tr><td>\"{\\\"id_str\\\":304988995836862465,\\\"created_at\\\":\\\"2013-02-22 16:20:17\\\",\\\"text\\\":\\\"b'RT @NASA: Want to join us and cover the next @SpaceX launch on March 1? Now you can apply for a #NASASocial Media Credential http:\\\\/\\\\/t.co ...'\\\"}\"</td></tr><tr><td>\"{\\\"id_str\\\":408025060046557184,\\\"created_at\\\":\\\"2013-12-04 00:08:49\\\",\\\"text\\\":\\\"b\\\\\\\"RT @SpaceX: [PHOTO] Falcon 9 and SES-8 liftoff from SpaceX's launch pad at Cape Canaveral http:\\\\/\\\\/t.co\\\\/fucwgYH0s5\\\\\\\"\\\"}\"</td></tr><tr><td>\"{\\\"id_str\\\":408014483551191040,\\\"created_at\\\":\\\"2013-12-03 23:26:48\\\",\\\"text\\\":\\\"b'Restart was good, apogee raised to 80k km (50k miles). Yes!!!'\\\"}\"</td></tr><tr><td>\"{\\\"id_str\\\":408008759433502720,\\\"created_at\\\":\\\"2013-12-03 23:04:03\\\",\\\"text\\\":\\\"b'Reached parking orbit. Now coasting towards equator, where the upper stage will, if all goes well, restart to raise apogee'\\\"}\"</td></tr><tr><td>\"{\\\"id_str\\\":407996645121728513,\\\"created_at\\\":\\\"2013-12-03 22:15:55\\\",\\\"text\\\":\\\"b'Live video feed of launch at http:\\\\/\\\\/t.co\\\\/Oo569cuarz'\\\"}\"</td></tr><tr><td>\"{\\\"id_str\\\":407987488645718016,\\\"created_at\\\":\\\"2013-12-03 21:39:31\\\",\\\"text\\\":\\\"b\\\\\\\"About an hour away from launch. I'd like to thank @SES_Satellites for taking a chance on @SpaceX. We've given it our all.\\\\\\\"\\\"}\"</td></tr><tr><td>\"{\\\"id_str\\\":407941040503783424,\\\"created_at\\\":\\\"2013-12-03 18:34:57\\\",\\\"text\\\":\\\"b'@toruonu cool :)'\\\"}\"</td></tr><tr><td>\"{\\\"id_str\\\":407910834225295360,\\\"created_at\\\":\\\"2013-12-03 16:34:56\\\",\\\"text\\\":\\\"b'@UFrugger10 I agree. Will be restored shortly.'\\\"}\"</td></tr><tr><td>\"{\\\"id_str\\\":407744196398043136,\\\"created_at\\\":\\\"2013-12-03 05:32:46\\\",\\\"text\\\":\\\"b'RT @Jon_Favreau: An Amazon drone just flew away with my dog.'\\\"}\"</td></tr><tr><td>\"{\\\"id_str\\\":407718277365121024,\\\"created_at\\\":\\\"2013-12-03 03:49:47\\\",\\\"text\\\":\\\"b'@TierraUniversu It was fixed this weekend, so he should try the test again.'\\\"}\"</td></tr><tr><td>\"{\\\"id_str\\\":407718045151678464,\\\"created_at\\\":\\\"2013-12-03 03:48:51\\\",\\\"text\\\":\\\"b'@TierraUniversu The writer of this article had a problem with his 12V battery, so main pack was constantly charging it.'\\\"}\"</td></tr><tr><td>\"{\\\"id_str\\\":824054301718777856,\\\"created_at\\\":\\\"2017-01-25 00:40:30\\\",\\\"text\\\":\\\"b'@TheEconomist Tillerson at his confirmation hearing: \\\\\\\"I think it\\\\\\\\xe2\\\\\\\\x80\\\\\\\\x99s important that the United States maintain its se\\\\\\\\xe2\\\\\\\\x80\\\\\\\\xa6 https:\\\\/\\\\/t.co\\\\/xrKpitbaEE'\\\"}\"</td></tr><tr><td>\"{\\\"id_str\\\":824013720967753728,\\\"created_at\\\":\\\"2017-01-24 21:59:15\\\",\\\"text\\\":\\\"b'@redletterdave Ok, fine. Soldier 76. My dark secret is out ...'\\\"}\"</td></tr><tr><td>\"{\\\"id_str\\\":824013269891502080,\\\"created_at\\\":\\\"2017-01-24 21:57:27\\\",\\\"text\\\":\\\"b\\\\\\\"@danahull I share The Economist's opinion that he should be given the benefit of the doubt unless his actions prove otherwise\\\\\\\"\\\"}\"</td></tr><tr><td>\"{\\\"id_str\\\":824011724357373953,\\\"created_at\\\":\\\"2017-01-24 21:51:19\\\",\\\"text\\\":\\\"b'@danahull Rex is an exceptionally competent executive, understands geopolitics and knows how to win for his team. His team is now the USA.'\\\"}\"</td></tr><tr><td>\"{\\\"id_str\\\":824010489449431040,\\\"created_at\\\":\\\"2017-01-24 21:46:24\\\",\\\"text\\\":\\\"b'@TheEconomist This may sound surprising coming from me, but I agree with The Economist. Rex Tillerson has the poten\\\\\\\\xe2\\\\\\\\x80\\\\\\\\xa6 https:\\\\/\\\\/t.co\\\\/2BddSK9IBI'\\\"}\"</td></tr><tr><td>\"{\\\"id_str\\\":823915595615719424,\\\"created_at\\\":\\\"2017-01-24 15:29:20\\\",\\\"text\\\":\\\"b'@dean_arexding There will be a software update this weekend that improves self-calibration ability'\\\"}\"</td></tr><tr><td>\"{\\\"id_str\\\":823728646204440576,\\\"created_at\\\":\\\"2017-01-24 03:06:28\\\",\\\"text\\\":\\\"b'RT @neiltyson: In 1927 Lindbergh flew from NY to Paris. 45 yrs later, in 1972 we last walked on the Moon. 45 yrs later, in 2017 we\\\\\\\\xe2\\\\\\\\x80\\\\\\\\xa6 we\\\\\\\\xe2\\\\\\\\x80\\\\\\\\xa6 we\\\\\\\\xe2\\\\\\\\x80\\\\\\\\xa6'\\\"}\"</td></tr><tr><td>\"{\\\"id_str\\\":823727035088416768,\\\"created_at\\\":\\\"2017-01-24 03:00:03\\\",\\\"text\\\":\\\"b'@tsrandall 3 months maybe, 6 months definitely'\\\"}\"</td></tr><tr><td>\"{\\\"id_str\\\":823632597284691969,\\\"created_at\\\":\\\"2017-01-23 20:44:48\\\",\\\"text\\\":\\\"b'@stephenstohn Yes, safety should improve significantly due to autonomy features, even if regs disallow no driver present'\\\"}\"</td></tr><tr><td>\"{\\\"id_str\\\":823234503355158528,\\\"created_at\\\":\\\"2017-01-22 18:22:55\\\",\\\"text\\\":\\\"b'Auto steer limited to 45 mph on highways for now, i.e. heavy traffic, where it is needed most. Limit will raise as we get more data.'\\\"}\"</td></tr><tr><td>\"{\\\"id_str\\\":330394570737192960,\\\"created_at\\\":\\\"2013-05-03 18:52:58\\\",\\\"text\\\":\\\"b\\\\\\\"@pataneous We can't formally provide a guarantee w\\\\/o restating accounting, but I feel confident about the value anyway.\\\\\\\"\\\"}\"</td></tr><tr><td>\"{\\\"id_str\\\":330394051637547010,\\\"created_at\\\":\\\"2013-05-03 18:50:54\\\",\\\"text\\\":\\\"b'@2552nsf Yeah, that is super tricky. Will have to sacrifice a lot of payload to boost back or land on ocean platform.'\\\"}\"</td></tr><tr><td>\"{\\\"id_str\\\":330387481616855040,\\\"created_at\\\":\\\"2013-05-03 18:24:48\\\",\\\"text\\\":\\\"b'@rebel_sal Yes, your article (and many others) rightly identified that we made a mistake. New financing is not perfect, but much better.'\\\"}\"</td></tr><tr><td>\"{\\\"id_str\\\":330364975300358144,\\\"created_at\\\":\\\"2013-05-03 16:55:22\\\",\\\"text\\\":\\\"b'@Alan_Nestos The legs are nested tight against the body of the rocket in flight, so rotate about 120 degrees to deploy'\\\"}\"</td></tr><tr><td>\"{\\\"id_str\\\":330241115670327296,\\\"created_at\\\":\\\"2013-05-03 08:43:12\\\",\\\"text\\\":\\\"b\\\\\\\"@darma_setia More likely that pigs will fly over the frozen wastes of Hell. Clarkson doesn't understand technology.\\\\\\\"\\\"}\"</td></tr><tr><td>\"{\\\"id_str\\\":330240665483096064,\\\"created_at\\\":\\\"2013-05-03 08:41:24\\\",\\\"text\\\":\\\"b'@JSONberland We did a ton of testing until they could handle 4X legally required impact energy. Extremely tough.'\\\"}\"</td></tr><tr><td>\"{\\\"id_str\\\":330054002148515841,\\\"created_at\\\":\\\"2013-05-02 20:19:40\\\",\\\"text\\\":\\\"b'@BigBalli High pressure helium. Needs to be ultra light. All 4 legs together (~60 ft span) weigh less than Model S.'\\\"}\"</td></tr><tr><td>\"{\\\"id_str\\\":330053450261987328,\\\"created_at\\\":\\\"2013-05-02 20:17:29\\\",\\\"text\\\":\\\"b'F9R (pronounced F-niner) shows a little leg. Design is a nested, telescoping piston w A frame. http:\\\\/\\\\/t.co\\\\/H49TSS2CYl'\\\"}\"</td></tr><tr><td>\"{\\\"id_str\\\":330019280206831616,\\\"created_at\\\":\\\"2013-05-02 18:01:42\\\",\\\"text\\\":\\\"b'@roulezelectric This is about getting a prior announcement right. Not part 4 yet.'\\\"}\"</td></tr><tr><td>\"{\\\"id_str\\\":330017552120033282,\\\"created_at\\\":\\\"2013-05-02 17:54:50\\\",\\\"text\\\":\\\"b'Time to up the ante (and fix some mistakes). Tesla announcement tomorrow.'\\\"}\"</td></tr><tr><td>\"{\\\"id_str\\\":469639079085486080,\\\"created_at\\\":\\\"2014-05-23 00:40:56\\\",\\\"text\\\":\\\"b'Air Force official awards $10B+ contract uncompeted &amp; then takes lucrative job w funds recipient http:\\\\/\\\\/t.co\\\\/SHqFYWd3CR'\\\"}\"</td></tr><tr><td>\"{\\\"id_str\\\":469356919979655168,\\\"created_at\\\":\\\"2014-05-22 05:59:44\\\",\\\"text\\\":\\\"b'Great progress by @NASASpaceflight members repairing the Falcon 9 ocean landing video http:\\\\/\\\\/t.co\\\\/DP4y5W5uvZ'\\\"}\"</td></tr><tr><td>\"{\\\"id_str\\\":468136321190346753,\\\"created_at\\\":\\\"2014-05-18 21:09:31\\\",\\\"text\\\":\\\"b'RT @SpaceX: [PHOTO] Splashdown! Dragon lands in the Pacific Ocean with 3,500 pounds of ISS cargo. http:\\\\/\\\\/t.co\\\\/X4fuUQm247'\\\"}\"</td></tr><tr><td>\"{\\\"id_str\\\":467912644729769984,\\\"created_at\\\":\\\"2014-05-18 06:20:42\\\",\\\"text\\\":\\\"b'RT @SpaceX: Dragon is set to return home early tmrw \\\\\\\\xe2\\\\\\\\x80\\\\\\\\x93 watch it depart from station LIVE: http:\\\\/\\\\/t.co\\\\/NHREgPdLxw @ 6:00am PT. http:\\\\/\\\\/t.co\\\\/oH\\\\\\\\xe2\\\\\\\\x80\\\\\\\\xa6'\\\"}\"</td></tr><tr><td>\"{\\\"id_str\\\":466521428914094083,\\\"created_at\\\":\\\"2014-05-14 10:12:30\\\",\\\"text\\\":\\\"b'@Oatmeal may all technology in the future follow the zeroth law...'\\\"}\"</td></tr><tr><td>\"{\\\"id_str\\\":466518346574626817,\\\"created_at\\\":\\\"2014-05-14 10:00:15\\\",\\\"text\\\":\\\"b'@Oatmeal I would be happy to help'\\\"}\"</td></tr><tr><td>\"{\\\"id_str\\\":466276798058078208,\\\"created_at\\\":\\\"2014-05-13 18:00:26\\\",\\\"text\\\":\\\"b'RT @Space_News_Intl: Rogozin Calls for Ban on U.S. Military Use of RD-180 http:\\\\/\\\\/t.co\\\\/lumzgOimF6'\\\"}\"</td></tr><tr><td>\"{\\\"id_str\\\":465030743962296320,\\\"created_at\\\":\\\"2014-05-10 07:29:03\\\",\\\"text\\\":\\\"b'Worth seeing @ChefTheFilm by @Jon_Favreau. Make sure to plan for a meal afterwards!'\\\"}\"</td></tr><tr><td>\"{\\\"id_str\\\":464491775264960512,\\\"created_at\\\":\\\"2014-05-08 19:47:23\\\",\\\"text\\\":\\\"b'Trouble in Missouri. Auto dealers trying to sneak in a monopoly creation bill today http:\\\\/\\\\/t.co\\\\/p6zqtsaYpi'\\\"}\"</td></tr><tr><td>\"{\\\"id_str\\\":462104679116050432,\\\"created_at\\\":\\\"2014-05-02 05:41:55\\\",\\\"text\\\":\\\"b'@rocketrepreneur ~40%'\\\"}\"</td></tr><tr><td>\"{\\\"id_str\\\":653031144179433472,\\\"created_at\\\":\\\"2015-10-11 02:15:32\\\",\\\"text\\\":\\\"b'@heosat ww'\\\"}\"</td></tr><tr><td>\"{\\\"id_str\\\":653029223779557376,\\\"created_at\\\":\\\"2015-10-11 02:07:54\\\",\\\"text\\\":\\\"b'@madolfsson roughly 5 days'\\\"}\"</td></tr><tr><td>\"{\\\"id_str\\\":653028711768285184,\\\"created_at\\\":\\\"2015-10-11 02:05:52\\\",\\\"text\\\":\\\"b'@MPa81 @bonnienorman same'\\\"}\"</td></tr><tr><td>\"{\\\"id_str\\\":653028177896312832,\\\"created_at\\\":\\\"2015-10-11 02:03:44\\\",\\\"text\\\":\\\"b'@TeslaPittsburgh Non-autopilot will have a new interface too. More comprehensive UI update coming with 7.1.'\\\"}\"</td></tr><tr><td>\"{\\\"id_str\\\":653010368583741440,\\\"created_at\\\":\\\"2015-10-11 00:52:58\\\",\\\"text\\\":\\\"b'@andrewshiamone yes'\\\"}\"</td></tr><tr><td>\"{\\\"id_str\\\":653005894922276865,\\\"created_at\\\":\\\"2015-10-11 00:35:12\\\",\\\"text\\\":\\\"b'Some exciting news this week: Tesla Version 7 software with Autopilot goes to wide release on Thursday!'\\\"}\"</td></tr><tr><td>\"{\\\"id_str\\\":653004922984660992,\\\"created_at\\\":\\\"2015-10-11 00:31:20\\\",\\\"text\\\":\\\"b'CH4 rapidly decays back to CO2 &amp; is absorbed by plants. What matters is adding new carbon to surface cycle from underground oil, gas &amp; coal.'\\\"}\"</td></tr><tr><td>\"{\\\"id_str\\\":653003966058377216,\\\"created_at\\\":\\\"2015-10-11 00:27:32\\\",\\\"text\\\":\\\"b\\\\\\\"@HamiltonOfiyai Intentions are good, but massively overweights CH4's effect on climate.\\\\\\\"\\\"}\"</td></tr><tr><td>\"{\\\"id_str\\\":652994832399470592,\\\"created_at\\\":\\\"2015-10-10 23:51:14\\\",\\\"text\\\":\\\"b'Tesla P85D (assembled in Tilburg) beats 650 hp MacLaren from 0 to 150km\\\\/h in Dutch magazine test http:\\\\/\\\\/t.co\\\\/HKbOyFgUzi'\\\"}\"</td></tr><tr><td>\"{\\\"id_str\\\":652643128181026816,\\\"created_at\\\":\\\"2015-10-10 00:33:41\\\",\\\"text\\\":\\\"b\\\\\\\"@appleinsider I didn't walk back anything, apart from media hype\\\\\\\"\\\"}\"</td></tr><tr><td>\"{\\\"id_str\\\":677666779494248449,\\\"created_at\\\":\\\"2015-12-18 01:48:45\\\",\\\"text\\\":\\\"b'@lukealization yes, from 70F to 20 F'\\\"}\"</td></tr><tr><td>\"{\\\"id_str\\\":677666464208416768,\\\"created_at\\\":\\\"2015-12-18 01:47:30\\\",\\\"text\\\":\\\"b'@craigcocca It worked in Texas'\\\"}\"</td></tr><tr><td>\"{\\\"id_str\\\":677663227271118848,\\\"created_at\\\":\\\"2015-12-18 01:34:38\\\",\\\"text\\\":\\\"b'@PaigeANjax -340 F in this case. Deep cryo increases density and amplifies rocket performance. First time anyone has gone this low for O2.'\\\"}\"</td></tr><tr><td>\"{\\\"id_str\\\":677660460230041600,\\\"created_at\\\":\\\"2015-12-18 01:23:38\\\",\\\"text\\\":\\\"b'Falcon 9 is vertical on the launch pad at Cape Canaveral. Working towards static fire. Deep cryo liquid oxygen presenting some challenges.'\\\"}\"</td></tr><tr><td>\"{\\\"id_str\\\":677646796311670786,\\\"created_at\\\":\\\"2015-12-18 00:29:20\\\",\\\"text\\\":\\\"b'@mashabletech @mashable Not really my letter (no authorship contribution). Just agreed to add my name when they asked.'\\\"}\"</td></tr><tr><td>\"{\\\"id_str\\\":677403793651175424,\\\"created_at\\\":\\\"2015-12-17 08:23:44\\\",\\\"text\\\":\\\"b'Vance article on self-driving cars was inaccurate https:\\\\/\\\\/t.co\\\\/AV636KAcKH'\\\"}\"</td></tr><tr><td>\"{\\\"id_str\\\":677333463872049152,\\\"created_at\\\":\\\"2015-12-17 03:44:16\\\",\\\"text\\\":\\\"b'RT @TheEconomist: The single most effective way to curb carbon emissions? Carbon taxes. As we said in 1989 https:\\\\/\\\\/t.co\\\\/iY4LnevB5g https:\\\\/\\\\/\\\\\\\\xe2\\\\\\\\x80\\\\\\\\xa6'\\\"}\"</td></tr><tr><td>\"{\\\"id_str\\\":676868667380903937,\\\"created_at\\\":\\\"2015-12-15 20:57:20\\\",\\\"text\\\":\\\"b'RT @verge: Over 1,000 college students will compete to design the best Hyperloop pod https:\\\\/\\\\/t.co\\\\/tcHCOGuMeh https:\\\\/\\\\/t.co\\\\/IpZc8vXWI8'\\\"}\"</td></tr><tr><td>\"{\\\"id_str\\\":675431513211600896,\\\"created_at\\\":\\\"2015-12-11 21:46:36\\\",\\\"text\\\":\\\"b'Announcing formation of @open_ai \\\\\\\\xe2\\\\\\\\x80\\\\\\\\xa6\\\\\\\\nhttps:\\\\/\\\\/t.co\\\\/Fcouhwh6MC'\\\"}\"</td></tr><tr><td>\"{\\\"id_str\\\":674885173838680064,\\\"created_at\\\":\\\"2015-12-10 09:35:38\\\",\\\"text\\\":\\\"b'Aiming for Falcon rocket static fire at Cape Canaveral on the 16th and launch about three days later'\\\"}\"</td></tr><tr><td>\"{\\\"id_str\\\":577533020736909312,\\\"created_at\\\":\\\"2015-03-16 18:12:56\\\",\\\"text\\\":\\\"b'Some people seem to think I tweet to affect share price. This is false. A brief rise in $TSLA stock obviously does no good for Tesla or me.'\\\"}\"</td></tr><tr><td>\"{\\\"id_str\\\":577080950317821952,\\\"created_at\\\":\\\"2015-03-15 12:16:34\\\",\\\"text\\\":\\\"b'SolarCity systems generated a new daily record of 4 gigawatt-hours this week\\\\\\\\nhttp:\\\\/\\\\/t.co\\\\/7MFig1lMsF'\\\"}\"</td></tr><tr><td>\"{\\\"id_str\\\":576637531560628224,\\\"created_at\\\":\\\"2015-03-14 06:54:35\\\",\\\"text\\\":\\\"b\\\\\\\"World's largest hedge fund soon to be powered by artificial intelligence\\\\\\\\nhttp:\\\\/\\\\/t.co\\\\/t1Fer3fWVa\\\\\\\"\\\"}\"</td></tr><tr><td>\"{\\\"id_str\\\":576500946303217664,\\\"created_at\\\":\\\"2015-03-13 21:51:51\\\",\\\"text\\\":\\\"b'RT @SpaceX: Introducing Landing Complex 1, formerly Launch Complex 13, at Cape Canaveral in Florida. http:\\\\/\\\\/t.co\\\\/oIr6NssyCo'\\\"}\"</td></tr><tr><td>\"{\\\"id_str\\\":576193855323697152,\\\"created_at\\\":\\\"2015-03-13 01:31:34\\\",\\\"text\\\":\\\"b'Maybe this is all the work of the Stonecutters! Certainly connects a lot of themes ... http:\\\\/\\\\/t.co\\\\/E5jJ9Snaca'\\\"}\"</td></tr><tr><td>\"{\\\"id_str\\\":576184066921218048,\\\"created_at\\\":\\\"2015-03-13 00:52:41\\\",\\\"text\\\":\\\"b'For more on the Fermi Paradox: http:\\\\/\\\\/t.co\\\\/ea1aGnu2kU, http:\\\\/\\\\/t.co\\\\/AcdSIoIvyv and http:\\\\/\\\\/t.co\\\\/bkbOWW7Ztb'\\\"}\"</td></tr><tr><td>\"{\\\"id_str\\\":576182696260476929,\\\"created_at\\\":\\\"2015-03-13 00:47:14\\\",\\\"text\\\":\\\"b\\\\\\\"The ancient Egyptians were amazing, but if aliens built the pyramids, they would've left behind a computer or something\\\\\\\"\\\"}\"</td></tr><tr><td>\"{\\\"id_str\\\":576140759281238017,\\\"created_at\\\":\\\"2015-03-12 22:00:35\\\",\\\"text\\\":\\\"b\\\\\\\"The rumor that I'm building a spaceship to get back to my home planet Mars is totally untrue\\\\\\\"\\\"}\"</td></tr><tr><td>\"{\\\"id_str\\\":576139678895583232,\\\"created_at\\\":\\\"2015-03-12 21:56:18\\\",\\\"text\\\":\\\"b\\\\\\\"Btw, please don't mention the pyramids. Stacking stone blocks is not evidence of an advanced civilization.\\\\\\\"\\\"}\"</td></tr><tr><td>\"{\\\"id_str\\\":576139467632717825,\\\"created_at\\\":\\\"2015-03-12 21:55:27\\\",\\\"text\\\":\\\"b'Seems like an opportune moment to bring up the Fermi Paradox, aka \\\\\\\"where are the aliens?\\\\\\\" Really odd that we see no sign of them.'\\\"}\"</td></tr><tr><td>\"{\\\"id_str\\\":154307255536324608,\\\"created_at\\\":\\\"2012-01-03 21:04:51\\\",\\\"text\\\":\\\"b\\\\\\\"@om Respectfully disagree. Larry  made awesome moves last year, which laid the foundation for G+ to kick butt in 2012. He's a stud.\\\\\\\"\\\"}\"</td></tr><tr><td>\"{\\\"id_str\\\":154094195089473536,\\\"created_at\\\":\\\"2012-01-03 06:58:13\\\",\\\"text\\\":\\\"b\\\\\\\"What everyone really thinks ... RT \\\\\\\\xe2\\\\\\\\x80\\\\\\\\x9c@jonlovett: If Mayans were good at predicting the future, there'd be Mayans.\\\\\\\\xe2\\\\\\\\x80\\\\\\\\x9d\\\\\\\"\\\"}\"</td></tr><tr><td>\"{\\\"id_str\\\":153594528908058624,\\\"created_at\\\":\\\"2012-01-01 21:52:44\\\",\\\"text\\\":\\\"b'On a lighter note, the RHCP are f* awesome. No better way to bring in the New Year... http:\\\\/\\\\/t.co\\\\/TlkAdzsk'\\\"}\"</td></tr><tr><td>\"{\\\"id_str\\\":153578511687368704,\\\"created_at\\\":\\\"2012-01-01 20:49:05\\\",\\\"text\\\":\\\"b'I said *information* weapons for a reason. The bit is mightier than the bomb.'\\\"}\"</td></tr><tr><td>\"{\\\"id_str\\\":153576623101313025,\\\"created_at\\\":\\\"2012-01-01 20:41:34\\\",\\\"text\\\":\\\"b\\\\\\\"If we are not careful, we will find that knife against liberty's neck. Fate has a great sense of irony. http:\\\\/\\\\/t.co\\\\/OQ2u1zHQ\\\\\\\"\\\"}\"</td></tr><tr><td>\"{\\\"id_str\\\":153574532031070208,\\\"created_at\\\":\\\"2012-01-01 20:33:16\\\",\\\"text\\\":\\\"b'We built powerful information weapons to fight enemies of liberty. Now those enemies are largely defeated, but the weapons remain.'\\\"}\"</td></tr><tr><td>\"{\\\"id_str\\\":153519464653127680,\\\"created_at\\\":\\\"2012-01-01 16:54:27\\\",\\\"text\\\":\\\"b\\\\\\\"@FareedZakaria However, China's real estate crisis will explode in a way that makes ours look puny. They can't hide it for much longer.\\\\\\\"\\\"}\"</td></tr><tr><td>\"{\\\"id_str\\\":153518263001808896,\\\"created_at\\\":\\\"2012-01-01 16:49:40\\\",\\\"text\\\":\\\"b\\\\\\\"@FareedZakaria Yeah, 2012 will be great for the American economy & jobs, as we've mostly dealt with the overbuilt housing crisis.\\\\\\\"\\\"}\"</td></tr><tr><td>\"{\\\"id_str\\\":153515940707975169,\\\"created_at\\\":\\\"2012-01-01 16:40:27\\\",\\\"text\\\":\\\"b'My first prediction of 2012 has come true: ouch, my head hurts.'\\\"}\"</td></tr><tr><td>\"{\\\"id_str\\\":153236159361847298,\\\"created_at\\\":\\\"2011-12-31 22:08:42\\\",\\\"text\\\":\\\"b\\\\\\\"World violence being super low is probably counter-intuitive to most people. That's because modern media is a misery microscope.\\\\\\\"\\\"}\"</td></tr><tr><td>\"{\\\"id_str\\\":752193726462586881,\\\"created_at\\\":\\\"2016-07-10 17:32:14\\\",\\\"text\\\":\\\"b'@vicentes Probably six months. Will include hundreds of refinements to handle rare corner cases in Autopilot.'\\\"}\"</td></tr><tr><td>\"{\\\"id_str\\\":752193163742228480,\\\"created_at\\\":\\\"2016-07-10 17:29:59\\\",\\\"text\\\":\\\"b\\\\\\\"@stegen @FortuneMagazine you're right, no point\\\\\\\"\\\"}\"</td></tr><tr><td>\"{\\\"id_str\\\":752192639403896833,\\\"created_at\\\":\\\"2016-07-10 17:27:54\\\",\\\"text\\\":\\\"b'@chirag Use of word \\\\\\\"beta\\\\\\\" is explicitly so that drivers don\\\\\\\\'t get comfortable. It is not beta software in the standard sense.'\\\"}\"</td></tr><tr><td>\"{\\\"id_str\\\":752190828798353408,\\\"created_at\\\":\\\"2016-07-10 17:20:43\\\",\\\"text\\\":\\\"b'Misunderstanding of what \\\\\\\"beta\\\\\\\" means to Tesla for Autopilot: any system w less than 1B miles of real world driving \\\\\\\\nhttps:\\\\/\\\\/t.co\\\\/WG5vnFvegI'\\\"}\"</td></tr><tr><td>\"{\\\"id_str\\\":752184088111362048,\\\"created_at\\\":\\\"2016-07-10 16:53:56\\\",\\\"text\\\":\\\"b\\\\\\\"Today is Nikola Tesla's birthday. I hope he likes what we've done in his name.\\\\\\\"\\\"}\"</td></tr><tr><td>\"{\\\"id_str\\\":752182992982843392,\\\"created_at\\\":\\\"2016-07-10 16:49:35\\\",\\\"text\\\":\\\"b'Working on Top Secret Tesla Masterplan, Part 2. Hoping to publish later this week.'\\\"}\"</td></tr><tr><td>\"{\\\"id_str\\\":751648486416871424,\\\"created_at\\\":\\\"2016-07-09 05:25:38\\\",\\\"text\\\":\\\"b'@BrooklynBrett @LeoOD3 @Conleich Story was fed to LAT &amp; many other media to counter IMF $5T\\\\/year fossil subsidy study. Hey, both have a 5!'\\\"}\"</td></tr><tr><td>\"{\\\"id_str\\\":751647322375876608,\\\"created_at\\\":\\\"2016-07-09 05:21:01\\\",\\\"text\\\":\\\"b'@AllyTaft seriously'\\\"}\"</td></tr><tr><td>\"{\\\"id_str\\\":751635420644044800,\\\"created_at\\\":\\\"2016-07-09 04:33:43\\\",\\\"text\\\":\\\"b\\\\\\\"Love reddit. Gandel gets shredded &amp; won't even answer top 3 upvoted questions. Some really funny comments about Koch https:\\\\/\\\\/t.co\\\\/PJrqys3Rmc\\\\\\\"\\\"}\"</td></tr><tr><td>\"{\\\"id_str\\\":751516148739416064,\\\"created_at\\\":\\\"2016-07-08 20:39:47\\\",\\\"text\\\":\\\"b'Model S had the lowest probability of injury of any car ever tested by NHTSA, which is why ... https:\\\\/\\\\/t.co\\\\/9tZZJEc5wg'\\\"}\"</td></tr><tr><td>\"{\\\"id_str\\\":726217179683655680,\\\"created_at\\\":\\\"2016-04-30 01:10:42\\\",\\\"text\\\":\\\"b'@Tweetermeyer things like this should be purged shortly'\\\"}\"</td></tr><tr><td>\"{\\\"id_str\\\":726216836069515264,\\\"created_at\\\":\\\"2016-04-30 01:09:20\\\",\\\"text\\\":\\\"b'@RokBottomGamers 100+ for almost everything 10+ for heat shields and a few other items.'\\\"}\"</td></tr><tr><td>\"{\\\"id_str\\\":726215924760485888,\\\"created_at\\\":\\\"2016-04-30 01:05:43\\\",\\\"text\\\":\\\"b\\\\\\\"@VivekMGeorge Zuck doesn't (yet) have a deep tech understanding of AI. I spend hours every week being educated by world's best researchers.\\\\\\\"\\\"}\"</td></tr><tr><td>\"{\\\"id_str\\\":726214236368576512,\\\"created_at\\\":\\\"2016-04-30 00:59:01\\\",\\\"text\\\":\\\"b'@gdoehne JCSat is pushing the envelope as a very hot and fast mission, so will land on the droneship. Next land landing in a few months.'\\\"}\"</td></tr><tr><td>\"{\\\"id_str\\\":726213728278962176,\\\"created_at\\\":\\\"2016-04-30 00:56:59\\\",\\\"text\\\":\\\"b'@MrBoylan System scan detected only 0.2% of orders with same email and physical address. Those have been purged.'\\\"}\"</td></tr><tr><td>\"{\\\"id_str\\\":726210827699806208,\\\"created_at\\\":\\\"2016-04-30 00:45:28\\\",\\\"text\\\":\\\"b'@vigneshraju of course'\\\"}\"</td></tr><tr><td>\"{\\\"id_str\\\":726210366766632960,\\\"created_at\\\":\\\"2016-04-30 00:43:38\\\",\\\"text\\\":\\\"b'@maya_kazan Temporary spike in some areas due to X 3rd row seat recall. Should be sorted by June.'\\\"}\"</td></tr><tr><td>\"{\\\"id_str\\\":726183794215022592,\\\"created_at\\\":\\\"2016-04-29 22:58:03\\\",\\\"text\\\":\\\"b'@MrBoylan Duplicates will be cancelled. Max of 2 will be delivered to any one person. Only ~5% of orders are 2, so speculation unlikely.'\\\"}\"</td></tr><tr><td>\"{\\\"id_str\\\":726127265612881920,\\\"created_at\\\":\\\"2016-04-29 19:13:25\\\",\\\"text\\\":\\\"b\\\\\\\"@erothenberg Simple answer is that there just aren't many used Teslas available. Demand &gt;&gt; supply.\\\\\\\"\\\"}\"</td></tr><tr><td>\"{\\\"id_str\\\":726125524091723777,\\\"created_at\\\":\\\"2016-04-29 19:06:30\\\",\\\"text\\\":\\\"b'@erothenberg checking into it ...'\\\"}\"</td></tr><tr><td>\"{\\\"id_str\\\":413772104786780160,\\\"created_at\\\":\\\"2013-12-19 20:45:31\\\",\\\"text\\\":\\\"b'220 ft tall mobile crane to carry the rocket around in the vertical http:\\\\/\\\\/t.co\\\\/hgXnpEh8yU'\\\"}\"</td></tr><tr><td>\"{\\\"id_str\\\":413772054337302529,\\\"created_at\\\":\\\"2013-12-19 20:45:19\\\",\\\"text\\\":\\\"b\\\\\\\"RT @TeslaMotors: Learn what it's like to own Model S in the winter and how it performs in the sub-zero temperatures of Norway: http:\\\\/\\\\/t.co\\\\/\\\\\\\\xe2\\\\\\\\x80\\\\\\\\xa6\\\\\\\"\\\"}\"</td></tr><tr><td>\"{\\\"id_str\\\":413751355451265024,\\\"created_at\\\":\\\"2013-12-19 19:23:04\\\",\\\"text\\\":\\\"b'SolarCity launches Give Power Foundation http:\\\\/\\\\/t.co\\\\/Ag63gyLBRP'\\\"}\"</td></tr><tr><td>\"{\\\"id_str\\\":411007245661372416,\\\"created_at\\\":\\\"2013-12-12 05:38:58\\\",\\\"text\\\":\\\"b'RT @bonnienorman: @teslaMotors @elonmusk Santa came early this year for a little girl in Texas, thanks to #Tesla. http:\\\\/\\\\/t.co\\\\/SpNbOVx3ZB  #\\\\\\\\xe2\\\\\\\\x80\\\\\\\\xa6'\\\"}\"</td></tr><tr><td>\"{\\\"id_str\\\":410447049687961600,\\\"created_at\\\":\\\"2013-12-10 16:32:57\\\",\\\"text\\\":\\\"b'Sock monkey of destruction! http:\\\\/\\\\/t.co\\\\/KqvXWDFmrr'\\\"}\"</td></tr><tr><td>\"{\\\"id_str\\\":408731422136864768,\\\"created_at\\\":\\\"2013-12-05 22:55:39\\\",\\\"text\\\":\\\"b'Rest in peace, Nelson Mandela. A man both good and great.'\\\"}\"</td></tr><tr><td>\"{\\\"id_str\\\":408708548009291776,\\\"created_at\\\":\\\"2013-12-05 21:24:45\\\",\\\"text\\\":\\\"b'Should mention that the battery cells used for this are 200 Wh\\\\/kg vs 250 for Model S. No short term supply constraint.'\\\"}\"</td></tr><tr><td>\"{\\\"id_str\\\":408695108033191936,\\\"created_at\\\":\\\"2013-12-05 20:31:21\\\",\\\"text\\\":\\\"b'Solar power w batteries will be the primary (not exclusive) means of sustainable energy production http:\\\\/\\\\/t.co\\\\/rvXBzQXbsc'\\\"}\"</td></tr><tr><td>\"{\\\"id_str\\\":408030622708678657,\\\"created_at\\\":\\\"2013-12-04 00:30:55\\\",\\\"text\\\":\\\"b'View of Earth from upper stage rear view camera at 8,000 miles http:\\\\/\\\\/t.co\\\\/V4tdMUA48X'\\\"}\"</td></tr><tr><td>\"{\\\"id_str\\\":408025060046557184,\\\"created_at\\\":\\\"2013-12-04 00:08:49\\\",\\\"text\\\":\\\"b\\\\\\\"RT @SpaceX: [PHOTO] Falcon 9 and SES-8 liftoff from SpaceX's launch pad at Cape Canaveral http:\\\\/\\\\/t.co\\\\/fucwgYH0s5\\\\\\\"\\\"}\"</td></tr><tr><td>\"{\\\"id_str\\\":432395496972238848,\\\"created_at\\\":\\\"2014-02-09 06:08:14\\\",\\\"text\\\":\\\"b'Saw The Lego Movie earlier today. Brilliant writing and humor! Loved the \\\\\\\"Everything is awesome...\\\\\\\" theme song.'\\\"}\"</td></tr><tr><td>\"{\\\"id_str\\\":431848580710555648,\\\"created_at\\\":\\\"2014-02-07 17:54:59\\\",\\\"text\\\":\\\"b'Value is holding up \\\\\\\"Tesla car is worth more used than new | MNN - http:\\\\/\\\\/t.co\\\\/NLLdo1jBzM\\\\\\\"'\\\"}\"</td></tr><tr><td>\"{\\\"id_str\\\":429979489922461696,\\\"created_at\\\":\\\"2014-02-02 14:07:53\\\",\\\"text\\\":\\\"b'Tesla LA to NY Supercharger rally just completed in 76 hours across northern route in dead of winter thru heavy snow!'\\\"}\"</td></tr><tr><td>\"{\\\"id_str\\\":428789050925785088,\\\"created_at\\\":\\\"2014-01-30 07:17:30\\\",\\\"text\\\":\\\"b'Tesla cars are now in all 50 US states (map credit Edmunds)! http:\\\\/\\\\/t.co\\\\/ehq2Muu5cr'\\\"}\"</td></tr><tr><td>\"{\\\"id_str\\\":427374161796018176,\\\"created_at\\\":\\\"2014-01-26 09:35:15\\\",\\\"text\\\":\\\"b'RT @plugshare: Congratulations to John and Jill, first to drive across US using only free @TeslaMotors Superchargers! http:\\\\/\\\\/t.co\\\\/hA6YlkyjzN'\\\"}\"</td></tr><tr><td>\"{\\\"id_str\\\":427372940603437056,\\\"created_at\\\":\\\"2014-01-26 09:30:23\\\",\\\"text\\\":\\\"b'Two teams from Tesla aiming to set a cross-country EV speed record this week. Departing Fri from LA, arriving Sun in NY.'\\\"}\"</td></tr><tr><td>\"{\\\"id_str\\\":427372102820573184,\\\"created_at\\\":\\\"2014-01-26 09:27:04\\\",\\\"text\\\":\\\"b\\\\\\\"Will be doing the LA-NY family road trip over Spring Break. Made everyone watch National Lampoon's Vacation as prep.\\\\\\\"\\\"}\"</td></tr><tr><td>\"{\\\"id_str\\\":427371574451507200,\\\"created_at\\\":\\\"2014-01-26 09:24:58\\\",\\\"text\\\":\\\"b'Tesla Supercharger network now energized from New York to LA, both coast + Texas! Approx 80% of US population covered.'\\\"}\"</td></tr><tr><td>\"{\\\"id_str\\\":426454433916940290,\\\"created_at\\\":\\\"2014-01-23 20:40:34\\\",\\\"text\\\":\\\"b'Tesla policy is to charge the same price (+ taxes &amp; shipping) everywhere in the world http:\\\\/\\\\/t.co\\\\/cXOtokcBeG'\\\"}\"</td></tr><tr><td>\"{\\\"id_str\\\":423155519981748224,\\\"created_at\\\":\\\"2014-01-14 18:11:52\\\",\\\"text\\\":\\\"b\\\\\\\"RT @TeslaMotors: Revenue expected to exceed guidance by 20% in Q4 2013 thanks to Model S' stellar safety record &amp; winter performance: http:\\\\\\\\xe2\\\\\\\\x80\\\\\\\\xa6\\\\\\\"\\\"}\"</td></tr><tr><td>\"{\\\"id_str\\\":404826254295457792,\\\"created_at\\\":\\\"2013-11-25 04:17:54\\\",\\\"text\\\":\\\"b'RT @SpaceX: Falcon 9 targeted to launch SES-8 for @SES_Satellites tmrw. 1st SpaceX GEO transfer mission. http:\\\\/\\\\/t.co\\\\/wytY3mnBf1 http:\\\\/\\\\/t.co\\\\\\\\xe2\\\\\\\\x80\\\\\\\\xa6'\\\"}\"</td></tr><tr><td>\"{\\\"id_str\\\":404755031037317120,\\\"created_at\\\":\\\"2013-11-24 23:34:54\\\",\\\"text\\\":\\\"b'At Disney World w kids for traditional prelaunch visit (first good flight was after riding Space Mountain)'\\\"}\"</td></tr><tr><td>\"{\\\"id_str\\\":404073926247972864,\\\"created_at\\\":\\\"2013-11-23 02:28:26\\\",\\\"text\\\":\\\"b'Launch can be viewed live from Cape causeways or via http:\\\\/\\\\/t.co\\\\/soOCggCpN0 webcast around 5:30 local time on Monday'\\\"}\"</td></tr><tr><td>\"{\\\"id_str\\\":404067161175379968,\\\"created_at\\\":\\\"2013-11-23 02:01:33\\\",\\\"text\\\":\\\"b'@DarkSapiens Easier to make the plane change to equatorial orbit. Done in order to reduce satellite side delta V from 1800 m\\\\/s to 1500 m\\\\/s.'\\\"}\"</td></tr><tr><td>\"{\\\"id_str\\\":404063199227437057,\\\"created_at\\\":\\\"2013-11-23 01:45:48\\\",\\\"text\\\":\\\"b'Will be toughest mission to date. Requires coast + upper stage restart + going to 80,000 km altitude (~1\\\\/4 way to moon).'\\\"}\"</td></tr><tr><td>\"{\\\"id_str\\\":404059376652005377,\\\"created_at\\\":\\\"2013-11-23 01:30:37\\\",\\\"text\\\":\\\"b'Headed to Cape Canaveral tomorrow for first @SpaceX geostationary satellite launch.'\\\"}\"</td></tr><tr><td>\"{\\\"id_str\\\":403602986561073152,\\\"created_at\\\":\\\"2013-11-21 19:17:05\\\",\\\"text\\\":\\\"b'Tesla Model S Consumer Reports customer satisfaction survey highest of any car on road at 99\\\\/100 http:\\\\/\\\\/t.co\\\\/PpuS01S2KN'\\\"}\"</td></tr><tr><td>\"{\\\"id_str\\\":402850950500474881,\\\"created_at\\\":\\\"2013-11-19 17:28:45\\\",\\\"text\\\":\\\"b'Tesla is also extending the Model S warranty to cover any fire damage even if due solely to a driver accident'\\\"}\"</td></tr><tr><td>\"{\\\"id_str\\\":402836392566202368,\\\"created_at\\\":\\\"2013-11-19 16:30:54\\\",\\\"text\\\":\\\"b'What makes this incredibly unjust is that the Model S to date has the best safety record of any car on the road (no injuries or deaths ever)'\\\"}\"</td></tr><tr><td>\"{\\\"id_str\\\":402811201052090368,\\\"created_at\\\":\\\"2013-11-19 14:50:48\\\",\\\"text\\\":\\\"b'Why does a Tesla fire w no injury get more media headlines than 100,000 gas car fires that kill 100s of people per year?'\\\"}\"</td></tr><tr><td>\"{\\\"id_str\\\":577533623483568128,\\\"created_at\\\":\\\"2015-03-16 18:15:20\\\",\\\"text\\\":\\\"b\\\\\\\"Neither I nor the company are selling shares. Even if we were, I wouldn't do this. It would be wrong. Our long term results are what matter.\\\\\\\"\\\"}\"</td></tr><tr><td>\"{\\\"id_str\\\":577533020736909312,\\\"created_at\\\":\\\"2015-03-16 18:12:56\\\",\\\"text\\\":\\\"b'Some people seem to think I tweet to affect share price. This is false. A brief rise in $TSLA stock obviously does no good for Tesla or me.'\\\"}\"</td></tr><tr><td>\"{\\\"id_str\\\":577080950317821952,\\\"created_at\\\":\\\"2015-03-15 12:16:34\\\",\\\"text\\\":\\\"b'SolarCity systems generated a new daily record of 4 gigawatt-hours this week\\\\\\\\nhttp:\\\\/\\\\/t.co\\\\/7MFig1lMsF'\\\"}\"</td></tr><tr><td>\"{\\\"id_str\\\":576637531560628224,\\\"created_at\\\":\\\"2015-03-14 06:54:35\\\",\\\"text\\\":\\\"b\\\\\\\"World's largest hedge fund soon to be powered by artificial intelligence\\\\\\\\nhttp:\\\\/\\\\/t.co\\\\/t1Fer3fWVa\\\\\\\"\\\"}\"</td></tr><tr><td>\"{\\\"id_str\\\":576500946303217664,\\\"created_at\\\":\\\"2015-03-13 21:51:51\\\",\\\"text\\\":\\\"b'RT @SpaceX: Introducing Landing Complex 1, formerly Launch Complex 13, at Cape Canaveral in Florida. http:\\\\/\\\\/t.co\\\\/oIr6NssyCo'\\\"}\"</td></tr><tr><td>\"{\\\"id_str\\\":576193855323697152,\\\"created_at\\\":\\\"2015-03-13 01:31:34\\\",\\\"text\\\":\\\"b'Maybe this is all the work of the Stonecutters! Certainly connects a lot of themes ... http:\\\\/\\\\/t.co\\\\/E5jJ9Snaca'\\\"}\"</td></tr><tr><td>\"{\\\"id_str\\\":576184066921218048,\\\"created_at\\\":\\\"2015-03-13 00:52:41\\\",\\\"text\\\":\\\"b'For more on the Fermi Paradox: http:\\\\/\\\\/t.co\\\\/ea1aGnu2kU, http:\\\\/\\\\/t.co\\\\/AcdSIoIvyv and http:\\\\/\\\\/t.co\\\\/bkbOWW7Ztb'\\\"}\"</td></tr><tr><td>\"{\\\"id_str\\\":576182696260476929,\\\"created_at\\\":\\\"2015-03-13 00:47:14\\\",\\\"text\\\":\\\"b\\\\\\\"The ancient Egyptians were amazing, but if aliens built the pyramids, they would've left behind a computer or something\\\\\\\"\\\"}\"</td></tr><tr><td>\"{\\\"id_str\\\":576140759281238017,\\\"created_at\\\":\\\"2015-03-12 22:00:35\\\",\\\"text\\\":\\\"b\\\\\\\"The rumor that I'm building a spaceship to get back to my home planet Mars is totally untrue\\\\\\\"\\\"}\"</td></tr><tr><td>\"{\\\"id_str\\\":576139678895583232,\\\"created_at\\\":\\\"2015-03-12 21:56:18\\\",\\\"text\\\":\\\"b\\\\\\\"Btw, please don't mention the pyramids. Stacking stone blocks is not evidence of an advanced civilization.\\\\\\\"\\\"}\"</td></tr><tr><td>\"{\\\"id_str\\\":325011704582901760,\\\"created_at\\\":\\\"2013-04-18 22:23:23\\\",\\\"text\\\":\\\"b'@eirene_inc @archforhumanity @AFHDisasterTeam We have a lot of heavy lifting equipment. Will ask my team to send it over.'\\\"}\"</td></tr><tr><td>\"{\\\"id_str\\\":324990048523141120,\\\"created_at\\\":\\\"2013-04-18 20:57:20\\\",\\\"text\\\":\\\"b'Heart goes out to people of central Texas, home of SpaceX TX. All resources at disposal to help in any way.'\\\"}\"</td></tr><tr><td>\"{\\\"id_str\\\":324575593796612096,\\\"created_at\\\":\\\"2013-04-17 17:30:26\\\",\\\"text\\\":\\\"b'A @WhiteHouse petition to allow direct sales of cars by manufacturers: https:\\\\/\\\\/t.co\\\\/7h6m89mQmh Please vote here too!'\\\"}\"</td></tr><tr><td>\"{\\\"id_str\\\":324388037117214720,\\\"created_at\\\":\\\"2013-04-17 05:05:09\\\",\\\"text\\\":\\\"b'If you live in Texas and are pro Tesla, please vote in the @MyABJ opinion poll! http:\\\\/\\\\/t.co\\\\/ozPdw6UzUo'\\\"}\"</td></tr><tr><td>\"{\\\"id_str\\\":322906572814696448,\\\"created_at\\\":\\\"2013-04-13 02:58:20\\\",\\\"text\\\":\\\"b'Interesting... \\\\\\\"Putin unveils $50B drive for Russian space supremacy http:\\\\/\\\\/t.co\\\\/aK1vYGlYhl\\\\\\\" via @physorg_com'\\\"}\"</td></tr><tr><td>\"{\\\"id_str\\\":322416386037141504,\\\"created_at\\\":\\\"2013-04-11 18:30:31\\\",\\\"text\\\":\\\"b'@batasrki Stay tuned for a big Supercharger announcement in a few weeks. Definitely have you covered.'\\\"}\"</td></tr><tr><td>\"{\\\"id_str\\\":322414424570859520,\\\"created_at\\\":\\\"2013-04-11 18:22:43\\\",\\\"text\\\":\\\"b'@JBSiegelMD Thanks! Hearing from constituents is super important to counteract the influence of the dealer lobby.'\\\"}\"</td></tr><tr><td>\"{\\\"id_str\\\":322410144409481217,\\\"created_at\\\":\\\"2013-04-11 18:05:43\\\",\\\"text\\\":\\\"b'New York judge states: \\\\\\\"... dealers cannot utilize the Franchised Dealer Act as a means to sue their competitors\\\\\\\". Exactly!'\\\"}\"</td></tr><tr><td>\"{\\\"id_str\\\":322409574248357888,\\\"created_at\\\":\\\"2013-04-11 18:03:27\\\",\\\"text\\\":\\\"b'New York judge just ruled in favor Tesla, dismissing the legal attack by auto dealers to prevent direct sales!'\\\"}\"</td></tr><tr><td>\"{\\\"id_str\\\":322170049316139009,\\\"created_at\\\":\\\"2013-04-11 02:11:40\\\",\\\"text\\\":\\\"b'Yay for democracy! @latimes asks: Should Tesla Motors be able to sell directly to consumers? http:\\\\/\\\\/t.co\\\\/IhSNht6bgx'\\\"}\"</td></tr><tr><td>\"{\\\"id_str\\\":474032659434180608,\\\"created_at\\\":\\\"2014-06-04 03:39:27\\\",\\\"text\\\":\\\"b'RT @OEVAorg: 4 second summary of @TeslaMotors 2014 annual shareholder meeting https:\\\\/\\\\/t.co\\\\/uK7Ze79v9j :) @elonmusk'\\\"}\"</td></tr><tr><td>\"{\\\"id_str\\\":472757297685356546,\\\"created_at\\\":\\\"2014-05-31 15:11:37\\\",\\\"text\\\":\\\"b'Recording of Dragon V2 unveil at http:\\\\/\\\\/t.co\\\\/aBIV4EWOS2'\\\"}\"</td></tr><tr><td>\"{\\\"id_str\\\":471829262215835648,\\\"created_at\\\":\\\"2014-05-29 01:43:56\\\",\\\"text\\\":\\\"b'Amazing repair job of Falcon 9 ocean landing vid by @NASASpaceflight forum. Now shows leg deploy http:\\\\/\\\\/t.co\\\\/EYoaRjEn9Q'\\\"}\"</td></tr><tr><td>\"{\\\"id_str\\\":471808555951980544,\\\"created_at\\\":\\\"2014-05-29 00:21:40\\\",\\\"text\\\":\\\"b'Model S in drag queen competition @CARandDRIVER http:\\\\/\\\\/t.co\\\\/SHSkETbbWm'\\\"}\"</td></tr><tr><td>\"{\\\"id_str\\\":470613418039586816,\\\"created_at\\\":\\\"2014-05-25 17:12:37\\\",\\\"text\\\":\\\"b'Prince Albert &amp; Princess Charlene drove a Tesla around the track to open @F1 Monaco! The honor is much appreciated :) http:\\\\/\\\\/t.co\\\\/gjQmbm541s'\\\"}\"</td></tr><tr><td>\"{\\\"id_str\\\":470611728469098496,\\\"created_at\\\":\\\"2014-05-25 17:05:54\\\",\\\"text\\\":\\\"b'RT @thkyv: @elonmusk 399 EV`s in World Record breaking parade in Bryne, Norway today. 100+ Teslas!'\\\"}\"</td></tr><tr><td>\"{\\\"id_str\\\":470001882300444674,\\\"created_at\\\":\\\"2014-05-24 00:42:36\\\",\\\"text\\\":\\\"b'@QuantumG When we launch I want to know that SpaceX has done everything possible to keep the astronauts safe. Only a few more years to go.'\\\"}\"</td></tr><tr><td>\"{\\\"id_str\\\":469996345617825792,\\\"created_at\\\":\\\"2014-05-24 00:20:35\\\",\\\"text\\\":\\\"b'RT @amerpro555: @elonmusk   How about this guy http:\\\\/\\\\/t.co\\\\/0fMbsYPrKS'\\\"}\"</td></tr><tr><td>\"{\\\"id_str\\\":469996295151972352,\\\"created_at\\\":\\\"2014-05-24 00:20:23\\\",\\\"text\\\":\\\"b\\\\\\\"@QuantumG Dragon V1.1 doesn't have a launch escape system. Probably comparable reliability to Shuttle, but we need to do better.\\\\\\\"\\\"}\"</td></tr><tr><td>\"{\\\"id_str\\\":469990086738984960,\\\"created_at\\\":\\\"2014-05-23 23:55:43\\\",\\\"text\\\":\\\"b\\\\\\\"@RichardGarriott Just the air in Dragon. Technically, if a few humans had stowed aboard Dragon on the last flight, they would've been ok.\\\\\\\"\\\"}\"</td></tr><tr><td>\"{\\\"id_str\\\":475772232355287040,\\\"created_at\\\":\\\"2014-06-08 22:51:54\\\",\\\"text\\\":\\\"b'RT @arstechnica: Eugene\\\\\\\\xe2\\\\\\\\x80\\\\\\\\x94the supercomputer, not 13-year-old\\\\\\\\xe2\\\\\\\\x80\\\\\\\\x94first to beat the Turing Test  http:\\\\/\\\\/t.co\\\\/lPup3f3dRx by @nathanmattise'\\\"}\"</td></tr><tr><td>\"{\\\"id_str\\\":474212817306787840,\\\"created_at\\\":\\\"2014-06-04 15:35:20\\\",\\\"text\\\":\\\"b'Ok, but the sloths kinda had it coming \\\\\\\"Humans Blamed for Extinction of Mammoths &amp; Giant Sloths\\\\\\\" http:\\\\/\\\\/t.co\\\\/pIPW8rjjl2'\\\"}\"</td></tr><tr><td>\"{\\\"id_str\\\":474032659434180608,\\\"created_at\\\":\\\"2014-06-04 03:39:27\\\",\\\"text\\\":\\\"b'RT @OEVAorg: 4 second summary of @TeslaMotors 2014 annual shareholder meeting https:\\\\/\\\\/t.co\\\\/uK7Ze79v9j :) @elonmusk'\\\"}\"</td></tr><tr><td>\"{\\\"id_str\\\":472757297685356546,\\\"created_at\\\":\\\"2014-05-31 15:11:37\\\",\\\"text\\\":\\\"b'Recording of Dragon V2 unveil at http:\\\\/\\\\/t.co\\\\/aBIV4EWOS2'\\\"}\"</td></tr><tr><td>\"{\\\"id_str\\\":471829262215835648,\\\"created_at\\\":\\\"2014-05-29 01:43:56\\\",\\\"text\\\":\\\"b'Amazing repair job of Falcon 9 ocean landing vid by @NASASpaceflight forum. Now shows leg deploy http:\\\\/\\\\/t.co\\\\/EYoaRjEn9Q'\\\"}\"</td></tr><tr><td>\"{\\\"id_str\\\":471808555951980544,\\\"created_at\\\":\\\"2014-05-29 00:21:40\\\",\\\"text\\\":\\\"b'Model S in drag queen competition @CARandDRIVER http:\\\\/\\\\/t.co\\\\/SHSkETbbWm'\\\"}\"</td></tr><tr><td>\"{\\\"id_str\\\":470613418039586816,\\\"created_at\\\":\\\"2014-05-25 17:12:37\\\",\\\"text\\\":\\\"b'Prince Albert &amp; Princess Charlene drove a Tesla around the track to open @F1 Monaco! The honor is much appreciated :) http:\\\\/\\\\/t.co\\\\/gjQmbm541s'\\\"}\"</td></tr><tr><td>\"{\\\"id_str\\\":470611728469098496,\\\"created_at\\\":\\\"2014-05-25 17:05:54\\\",\\\"text\\\":\\\"b'RT @thkyv: @elonmusk 399 EV`s in World Record breaking parade in Bryne, Norway today. 100+ Teslas!'\\\"}\"</td></tr><tr><td>\"{\\\"id_str\\\":470001882300444674,\\\"created_at\\\":\\\"2014-05-24 00:42:36\\\",\\\"text\\\":\\\"b'@QuantumG When we launch I want to know that SpaceX has done everything possible to keep the astronauts safe. Only a few more years to go.'\\\"}\"</td></tr><tr><td>\"{\\\"id_str\\\":469996345617825792,\\\"created_at\\\":\\\"2014-05-24 00:20:35\\\",\\\"text\\\":\\\"b'RT @amerpro555: @elonmusk   How about this guy http:\\\\/\\\\/t.co\\\\/0fMbsYPrKS'\\\"}\"</td></tr><tr><td>\"{\\\"id_str\\\":593296401196388352,\\\"created_at\\\":\\\"2015-04-29 06:10:59\\\",\\\"text\\\":\\\"b'For the future to be good, we need electric transport, solar power and (of course) ... http:\\\\/\\\\/t.co\\\\/8mwVWukQDL'\\\"}\"</td></tr><tr><td>\"{\\\"id_str\\\":592836876622520323,\\\"created_at\\\":\\\"2015-04-27 23:45:00\\\",\\\"text\\\":\\\"b'Rocket launch good, satellite in geo transfer orbit. Still so damn intense. Looking fwd to it feeling normal one day.'\\\"}\"</td></tr><tr><td>\"{\\\"id_str\\\":592602352659533824,\\\"created_at\\\":\\\"2015-04-27 08:13:05\\\",\\\"text\\\":\\\"b'Worth watching @ExMachinaMovie. The AI would be in the network, not the robot, but otherwise good.'\\\"}\"</td></tr><tr><td>\"{\\\"id_str\\\":592481964419993601,\\\"created_at\\\":\\\"2015-04-27 00:14:42\\\",\\\"text\\\":\\\"b\\\\\\\"RT @SpaceX: Rocket moving to the pad tonight in advance of tomorrow's launch attempt. 6:14pm ET window opens. Weather 60% go. http:\\\\/\\\\/t.co\\\\/6\\\\\\\\xe2\\\\\\\\x80\\\\\\\\xa6\\\\\\\"\\\"}\"</td></tr><tr><td>\"{\\\"id_str\\\":592471975869620225,\\\"created_at\\\":\\\"2015-04-26 23:35:01\\\",\\\"text\\\":\\\"b'RT @deadmau5: Here she is! :) @TeslaMotors http:\\\\/\\\\/t.co\\\\/LPiWuhNYsN'\\\"}\"</td></tr><tr><td>\"{\\\"id_str\\\":591062459349274624,\\\"created_at\\\":\\\"2015-04-23 02:14:06\\\",\\\"text\\\":\\\"b'@bonnienorman New Roadster battery should complete safety validation by end of July, so likely available in August'\\\"}\"</td></tr><tr><td>\"{\\\"id_str\\\":589820447660769281,\\\"created_at\\\":\\\"2015-04-19 15:58:47\\\",\\\"text\\\":\\\"b'@andrewket @TeslaRoadTrip Wow!'\\\"}\"</td></tr><tr><td>\"{\\\"id_str\\\":589579721488224256,\\\"created_at\\\":\\\"2015-04-19 00:02:14\\\",\\\"text\\\":\\\"b'While the rocket does look rather tall &amp; tippy, a stable landing is no problem with proper throttle response https:\\\\/\\\\/t.co\\\\/B4Y6D4dpsc'\\\"}\"</td></tr><tr><td>\"{\\\"id_str\\\":589577558942822400,\\\"created_at\\\":\\\"2015-04-18 23:53:38\\\",\\\"text\\\":\\\"b'Cause of hard rocket landing confirmed as due to slower than expected throttle valve response. Next attempt in 2 months.'\\\"}\"</td></tr><tr><td>\"{\\\"id_str\\\":589505551366639618,\\\"created_at\\\":\\\"2015-04-18 19:07:30\\\",\\\"text\\\":\\\"b'RT @TeslaMotors: Brand new Store &amp; Service Center in Shanghai Hongqiao. #Tesla #China http:\\\\/\\\\/t.co\\\\/bbsSksbZT7'\\\"}\"</td></tr><tr><td>\"{\\\"id_str\\\":694802955170553861,\\\"created_at\\\":\\\"2016-02-03 08:41:47\\\",\\\"text\\\":\\\"b'Must be a slow news day if denying service to a super rude customer gets this much attention'\\\"}\"</td></tr><tr><td>\"{\\\"id_str\\\":690983158490136576,\\\"created_at\\\":\\\"2016-01-23 19:43:17\\\",\\\"text\\\":\\\"b'@TheEconomist Interesting name'\\\"}\"</td></tr><tr><td>\"{\\\"id_str\\\":690307996774072320,\\\"created_at\\\":\\\"2016-01-21 23:00:26\\\",\\\"text\\\":\\\"b'RT @Commercial_Crew: Watch 8 SuperDraco engines fire for @SpaceX Crew Dragon descent landing tether test: https:\\\\/\\\\/t.co\\\\/4MELcVTe0h. More: ht\\\\\\\\xe2\\\\\\\\x80\\\\\\\\xa6'\\\"}\"</td></tr><tr><td>\"{\\\"id_str\\\":690214453804163072,\\\"created_at\\\":\\\"2016-01-21 16:48:44\\\",\\\"text\\\":\\\"b'RT @NASA: 2015 was the warmest year on record. Have Qs? Ask us at 1pm ET during a @Reddit Science Q&amp;A: https:\\\\/\\\\/t.co\\\\/0p1HXLW12U https:\\\\/\\\\/t.co\\\\\\\\xe2\\\\\\\\x80\\\\\\\\xa6'\\\"}\"</td></tr><tr><td>\"{\\\"id_str\\\":689869015280254976,\\\"created_at\\\":\\\"2016-01-20 17:56:05\\\",\\\"text\\\":\\\"b\\\\\\\"@Benzinga I didn't take anyone's car and never would. Car was actually allocated to engineering test (not by me) and inadvertently sold.\\\\\\\"\\\"}\"</td></tr><tr><td>\"{\\\"id_str\\\":689299216607232000,\\\"created_at\\\":\\\"2016-01-19 04:11:54\\\",\\\"text\\\":\\\"b'My best guess for 2016: ~70% landing success rate (so still a few more RUDs to go), then hopefully improving to ~90% in 2017'\\\"}\"</td></tr><tr><td>\"{\\\"id_str\\\":688921087820705792,\\\"created_at\\\":\\\"2016-01-18 03:09:21\\\",\\\"text\\\":\\\"b'@JeffBezos @SpaceX Thanks Jeff'\\\"}\"</td></tr><tr><td>\"{\\\"id_str\\\":688920586391805952,\\\"created_at\\\":\\\"2016-01-18 03:07:21\\\",\\\"text\\\":\\\"b\\\\\\\"Falcon lands on droneship, but the lockout collet doesn't latch on one the four legs, causing it\\\\\\\\xe2\\\\\\\\x80\\\\\\\\xa6 https:\\\\/\\\\/t.co\\\\/DpXsRQWal9\\\\\\\"\\\"}\"</td></tr><tr><td>\"{\\\"id_str\\\":688918045989842944,\\\"created_at\\\":\\\"2016-01-18 02:57:16\\\",\\\"text\\\":\\\"b'RT @SpaceX: First stage approaches center of landing droneship in Pacific https:\\\\/\\\\/t.co\\\\/lI3q6LnwVP'\\\"}\"</td></tr><tr><td>\"{\\\"id_str\\\":688846973361721345,\\\"created_at\\\":\\\"2016-01-17 22:14:51\\\",\\\"text\\\":\\\"b'@stunt_penguin @LayOn_OverWhale Stage 1 would reach low Earth orbit if not hefting a second stage, but payload would be greatly reduced.'\\\"}\"</td></tr><tr><td>\"{\\\"id_str\\\":167357401815715840,\\\"created_at\\\":\\\"2012-02-08 21:21:28\\\",\\\"text\\\":\\\"b'RT @SpaceX: Photo Update: Dragon complete with trunk at the SpaceX hangar, preparations continue for the historic mission ahead. http:\\\\/\\\\/ ...'\\\"}\"</td></tr><tr><td>\"{\\\"id_str\\\":167325254451081216,\\\"created_at\\\":\\\"2012-02-08 19:13:44\\\",\\\"text\\\":\\\"b'Cool new @NASA pic of the most powerful type of solar flare, called X-class. Am not making this up! http:\\\\/\\\\/t.co\\\\/eJKSQqvO'\\\"}\"</td></tr><tr><td>\"{\\\"id_str\\\":167105458753118208,\\\"created_at\\\":\\\"2012-02-08 04:40:20\\\",\\\"text\\\":\\\"b\\\\\\\"Russia and China are blocking UN action. Can't imagine why they wouldn't support a democratic uprising...\\\\\\\"\\\"}\"</td></tr><tr><td>\"{\\\"id_str\\\":167104295504838656,\\\"created_at\\\":\\\"2012-02-08 04:35:43\\\",\\\"text\\\":\\\"b'Wish there was something we could do to help the people of Syria.   http:\\\\/\\\\/t.co\\\\/Ii7v7Cgw'\\\"}\"</td></tr><tr><td>\"{\\\"id_str\\\":166781555950354432,\\\"created_at\\\":\\\"2012-02-07 07:13:16\\\",\\\"text\\\":\\\"b'@BenToBeWild Yes, we will unveil a fully functional advanced prototype of the Model X -- almost identical to production.'\\\"}\"</td></tr><tr><td>\"{\\\"id_str\\\":166336380820144128,\\\"created_at\\\":\\\"2012-02-06 01:44:18\\\",\\\"text\\\":\\\"b'The sheer size of Falcon Heavy is mind-blowing. It could literally send a fully loaded London bus to the moon.'\\\"}\"</td></tr><tr><td>\"{\\\"id_str\\\":166333716359168000,\\\"created_at\\\":\\\"2012-02-06 01:33:43\\\",\\\"text\\\":\\\"b'The London Sunday Times created a chart showing how Falcon compares to the Saturn V and Shuttle http:\\\\/\\\\/t.co\\\\/nJMPtYPd'\\\"}\"</td></tr><tr><td>\"{\\\"id_str\\\":166251564032471040,\\\"created_at\\\":\\\"2012-02-05 20:07:16\\\",\\\"text\\\":\\\"b'Just posted a photo http:\\\\/\\\\/t.co\\\\/eN9xzbfO'\\\"}\"</td></tr><tr><td>\"{\\\"id_str\\\":165898145841168385,\\\"created_at\\\":\\\"2012-02-04 20:42:54\\\",\\\"text\\\":\\\"b'@MacDeviant Yeah, we will stream the whole mission realtime with no buffer. You see what we see.'\\\"}\"</td></tr><tr><td>\"{\\\"id_str\\\":165622701631868928,\\\"created_at\\\":\\\"2012-02-04 02:28:24\\\",\\\"text\\\":\\\"b'Docking with Space Station now likely to happen in April. Hopefully will look something like this: http:\\\\/\\\\/t.co\\\\/A2gd9ziC'\\\"}\"</td></tr><tr><td>\"{\\\"id_str\\\":564562686478807043,\\\"created_at\\\":\\\"2015-02-08 23:13:28\\\",\\\"text\\\":\\\"b'Air Force tracking radar went down. Launch postponed to same time tomorrow.'\\\"}\"</td></tr><tr><td>\"{\\\"id_str\\\":564509965612634112,\\\"created_at\\\":\\\"2015-02-08 19:43:58\\\",\\\"text\\\":\\\"b'Rocket reentry will be much tougher this time around due to deep space mission. Almost 2X force and 4X heat. Plenty of hydraulic fluid tho.'\\\"}\"</td></tr><tr><td>\"{\\\"id_str\\\":564493608351313921,\\\"created_at\\\":\\\"2015-02-08 18:38:58\\\",\\\"text\\\":\\\"b'Launching our 1st deep space mission today. Headed to Earth-Sun L1 gravity null point at 1M miles, 4X further than moon.'\\\"}\"</td></tr><tr><td>\"{\\\"id_str\\\":564491913445666816,\\\"created_at\\\":\\\"2015-02-08 18:32:14\\\",\\\"text\\\":\\\"b'RT @SpaceX: #Falcon9 is vertical in advance of tonight\\\\\\\\xe2\\\\\\\\x80\\\\\\\\x99s #DSCOVR launch, targeting 6:10pm EST. Watch LIVE: http:\\\\/\\\\/t.co\\\\/tdni5406Hi http:\\\\/\\\\/t.\\\\\\\\xe2\\\\\\\\x80\\\\\\\\xa6'\\\"}\"</td></tr><tr><td>\"{\\\"id_str\\\":562321505854300161,\\\"created_at\\\":\\\"2015-02-02 18:47:49\\\",\\\"text\\\":\\\"b'RT @SpaceX: America\\\\\\\\xe2\\\\\\\\x80\\\\\\\\x99s next gen crewed spacecraft is almost ready for a test flight. Pad abort vehicle shipping to FL shortly. http:\\\\/\\\\/t.co\\\\/X\\\\\\\\xe2\\\\\\\\x80\\\\\\\\xa6'\\\"}\"</td></tr><tr><td>\"{\\\"id_str\\\":561002248827052034,\\\"created_at\\\":\\\"2015-01-30 03:25:33\\\",\\\"text\\\":\\\"b'If you are curious about the P85D, you can schedule a test drive here: http:\\\\/\\\\/t.co\\\\/Eu19pBUpNO'\\\"}\"</td></tr><tr><td>\"{\\\"id_str\\\":560909571691380736,\\\"created_at\\\":\\\"2015-01-29 21:17:17\\\",\\\"text\\\":\\\"b'Painting the name on the droneship ... http:\\\\/\\\\/t.co\\\\/X8R8O4KjPx'\\\"}\"</td></tr><tr><td>\"{\\\"id_str\\\":560908370623098882,\\\"created_at\\\":\\\"2015-01-29 21:12:31\\\",\\\"text\\\":\\\"b'P85 acceleration will also improve, but not quite as much'\\\"}\"</td></tr><tr><td>\"{\\\"id_str\\\":560906999664508931,\\\"created_at\\\":\\\"2015-01-29 21:07:04\\\",\\\"text\\\":\\\"b'Video made by owner of a P85D going up a 14% grade on snow passing a whole bunch of stuck SUVs https:\\\\/\\\\/t.co\\\\/LC9AHx0fuC'\\\"}\"</td></tr><tr><td>\"{\\\"id_str\\\":560900676453433344,\\\"created_at\\\":\\\"2015-01-29 20:41:56\\\",\\\"text\\\":\\\"b'Tesla dual motor cars are also all-wheel drive. Main goal of dual motor was actually insane traction on snow. Insane speed was a side effect'\\\"}\"</td></tr><tr><td>\"{\\\"id_str\\\":457235055388020736,\\\"created_at\\\":\\\"2014-04-18 19:11:47\\\",\\\"text\\\":\\\"b'Falcon 9-Reusable with (now retired) Grasshopper test rig in background http:\\\\/\\\\/t.co\\\\/TmYrs5mm79'\\\"}\"</td></tr><tr><td>\"{\\\"id_str\\\":457212031062392833,\\\"created_at\\\":\\\"2014-04-18 17:40:17\\\",\\\"text\\\":\\\"b'Hexacopter drone vid of 1st F9 rocket booster takeoff &amp; landing w flight design legs http:\\\\/\\\\/t.co\\\\/FhZX3afK1a'\\\"}\"</td></tr><tr><td>\"{\\\"id_str\\\":457191844133097472,\\\"created_at\\\":\\\"2014-04-18 16:20:04\\\",\\\"text\\\":\\\"b'@erwinEmm Need to make sure precision return from hypersonic velocity works in ocean before transitioning to land'\\\"}\"</td></tr><tr><td>\"{\\\"id_str\\\":457190623640969216,\\\"created_at\\\":\\\"2014-04-18 16:15:13\\\",\\\"text\\\":\\\"b'Heavy seas in Atlantic preventing our recovery ship from being on station. Maybe they can help? http:\\\\/\\\\/t.co\\\\/9zZKAqPh6H'\\\"}\"</td></tr><tr><td>\"{\\\"id_str\\\":457188968627310592,\\\"created_at\\\":\\\"2014-04-18 16:08:38\\\",\\\"text\\\":\\\"b'This is 1st ever orbital rocket launch w landing legs. Will attempt leg deploy &amp; soft landing out to sea.'\\\"}\"</td></tr><tr><td>\"{\\\"id_str\\\":457181362307350529,\\\"created_at\\\":\\\"2014-04-18 15:38:25\\\",\\\"text\\\":\\\"b'Launch to the Space Station in just under three hours if weather holds http:\\\\/\\\\/t.co\\\\/aBIV4EWOS2'\\\"}\"</td></tr><tr><td>\"{\\\"id_str\\\":456914811461197824,\\\"created_at\\\":\\\"2014-04-17 21:59:14\\\",\\\"text\\\":\\\"b'Honored that @NASA would entrust @SpaceX with the Apollo 11 (first moon landing) launch pad http:\\\\/\\\\/t.co\\\\/LmqxRwsKFW'\\\"}\"</td></tr><tr><td>\"{\\\"id_str\\\":454005116249440257,\\\"created_at\\\":\\\"2014-04-09 21:17:09\\\",\\\"text\\\":\\\"b'RT @TeslaMotors: When life gives you lemons\\\\\\\\xe2\\\\\\\\x80\\\\\\\\xa6 http:\\\\/\\\\/t.co\\\\/1TrjvPvh2K'\\\"}\"</td></tr><tr><td>\"{\\\"id_str\\\":453574051487686657,\\\"created_at\\\":\\\"2014-04-08 16:44:15\\\",\\\"text\\\":\\\"b\\\\\\\"@elonmusk Also, breakfast at Tesla is self-serve cereal (no distinction for execs) and the person mentioned isn't actually an employee\\\\\\\"\\\"}\"</td></tr><tr><td>\"{\\\"id_str\\\":453571298677907456,\\\"created_at\\\":\\\"2014-04-08 16:33:19\\\",\\\"text\\\":\\\"b'Leasing a Model S takes 5 mins online, no signatures &amp; one tap on car center screen to accept when delivered'\\\"}\"</td></tr><tr><td>\"{\\\"id_str\\\":750837202398093312,\\\"created_at\\\":\\\"2016-07-06 23:41:53\\\",\\\"text\\\":\\\"b'@disinformatico @Eddy_Jahn In other words, the intended implication is that a driver must remain alert, just as a pilot must remain alert.'\\\"}\"</td></tr><tr><td>\"{\\\"id_str\\\":750836652109594626,\\\"created_at\\\":\\\"2016-07-06 23:39:42\\\",\\\"text\\\":\\\"b'@disinformatico @Eddy_Jahn Tesla Tesla Autopilot is named after aircraft autopilot, as it is always expected that a pilot must stay alert.'\\\"}\"</td></tr><tr><td>\"{\\\"id_str\\\":750835746613915648,\\\"created_at\\\":\\\"2016-07-06 23:36:06\\\",\\\"text\\\":\\\"b'@jacobrossi All publicly known Tesla product developments are called out, incl vehicles and batteries. Would be odd *not* to include.'\\\"}\"</td></tr><tr><td>\"{\\\"id_str\\\":750829352229695488,\\\"created_at\\\":\\\"2016-07-06 23:10:41\\\",\\\"text\\\":\\\"b'Tesla response to the misleading Fortune articles about Autopilot https:\\\\/\\\\/t.co\\\\/zWRM3aMnVC'\\\"}\"</td></tr><tr><td>\"{\\\"id_str\\\":750820987676061696,\\\"created_at\\\":\\\"2016-07-06 22:37:27\\\",\\\"text\\\":\\\"b'Sponsored articles \\\\\\\\xe2\\\\\\\\x80\\\\\\\\xa6 https:\\\\/\\\\/t.co\\\\/i8QsJYU4Ee'\\\"}\"</td></tr><tr><td>\"{\\\"id_str\\\":750593838264246272,\\\"created_at\\\":\\\"2016-07-06 07:34:51\\\",\\\"text\\\":\\\"b'RT @Gizmodo: Hyperloop connecting Helsinki to Stockholm would turn a 300-mile trip into a 28-minute ride https:\\\\/\\\\/t.co\\\\/zeruuwufKk https:\\\\/\\\\/t.\\\\\\\\xe2\\\\\\\\x80\\\\\\\\xa6'\\\"}\"</td></tr><tr><td>\"{\\\"id_str\\\":750446098020503552,\\\"created_at\\\":\\\"2016-07-05 21:47:47\\\",\\\"text\\\":\\\"b'Because of course I hate flamingos...(maybe try eating fewer flamingo eggs in your salad)\\\\\\\\nhttps:\\\\/\\\\/t.co\\\\/tUKsWqCobo'\\\"}\"</td></tr><tr><td>\"{\\\"id_str\\\":750354728169644032,\\\"created_at\\\":\\\"2016-07-05 15:44:42\\\",\\\"text\\\":\\\"b'@apple_defense @samabuelsamid Exactly! I love Twitter.'\\\"}\"</td></tr><tr><td>\"{\\\"id_str\\\":750353176570789888,\\\"created_at\\\":\\\"2016-07-05 15:38:32\\\",\\\"text\\\":\\\"b'@samabuelsamid Wrong to exclude non-occupant deaths. Autopilot would have prevented this cyclist from being killed https:\\\\/\\\\/t.co\\\\/ic9liqnyDN'\\\"}\"</td></tr><tr><td>\"{\\\"id_str\\\":750351150382194688,\\\"created_at\\\":\\\"2016-07-05 15:30:29\\\",\\\"text\\\":\\\"b'@alansmurray If you care about auto deaths as material to stock prices, why no articles about 1M+\\\\/year deaths from other auto companies?'\\\"}\"</td></tr><tr><td>\"{\\\"id_str\\\":652607370921570304,\\\"created_at\\\":\\\"2015-10-09 22:11:36\\\",\\\"text\\\":\\\"b\\\\\\\"Regarding the watch, Jony &amp; his team created a beautiful design, but the functionality isn't compelling yet. By version 3, it will be.\\\\\\\"\\\"}\"</td></tr><tr><td>\"{\\\"id_str\\\":652605371857530880,\\\"created_at\\\":\\\"2015-10-09 22:03:40\\\",\\\"text\\\":\\\"b\\\\\\\"Yo, I don't hate Apple. It's a great company with a lot of talented people. I love their products and I'm glad they're doing an EV.\\\\\\\"\\\"}\"</td></tr><tr><td>\"{\\\"id_str\\\":652355134454808577,\\\"created_at\\\":\\\"2015-10-09 05:29:18\\\",\\\"text\\\":\\\"b'Peak temp increases due to climate change http:\\\\/\\\\/t.co\\\\/dThGhXd6MT'\\\"}\"</td></tr><tr><td>\"{\\\"id_str\\\":650107726509404160,\\\"created_at\\\":\\\"2015-10-03 00:38:55\\\",\\\"text\\\":\\\"b'Mostly accurate and fun movie about Mars. Worth seeing. https:\\\\/\\\\/t.co\\\\/6ujt1DG5j5'\\\"}\"</td></tr><tr><td>\"{\\\"id_str\\\":650081625200545792,\\\"created_at\\\":\\\"2015-10-02 22:55:12\\\",\\\"text\\\":\\\"b'@Avron_p you can mount a rack to the roof via suction cups and still have one Falcon door work fine. Guaranteed up to 140 mph.'\\\"}\"</td></tr><tr><td>\"{\\\"id_str\\\":650080562556858368,\\\"created_at\\\":\\\"2015-10-02 22:50:58\\\",\\\"text\\\":\\\"b'@stumplahoma @mashable door is larger than opening and acts as an umbrella. Upper interior trim has hydrophobic coating.'\\\"}\"</td></tr><tr><td>\"{\\\"id_str\\\":650080098335477761,\\\"created_at\\\":\\\"2015-10-02 22:49:08\\\",\\\"text\\\":\\\"b'@sasatokic @mashable Front doors have a short arc and their interior panels are chamfered back'\\\"}\"</td></tr><tr><td>\"{\\\"id_str\\\":650079603122438144,\\\"created_at\\\":\\\"2015-10-02 22:47:09\\\",\\\"text\\\":\\\"b'Model X Bioweapon Defense Mode definitely filters viruses btw, even the small ones. Has hospital operating room level filtering.'\\\"}\"</td></tr><tr><td>\"{\\\"id_str\\\":650078752626593793,\\\"created_at\\\":\\\"2015-10-02 22:43:47\\\",\\\"text\\\":\\\"b'@achailleux am def 6\\\\\\\\'2\\\\\\\"'\\\"}\"</td></tr><tr><td>\"{\\\"id_str\\\":650076768712437760,\\\"created_at\\\":\\\"2015-10-02 22:35:54\\\",\\\"text\\\":\\\"b\\\\\\\"CNN on how Falcon doors work in tight garages. Above 6 2' ft, my height :), doors work fine. http:\\\\/\\\\/t.co\\\\/zvhyqKGVtR\\\\\\\"\\\"}\"</td></tr><tr><td>\"{\\\"id_str\\\":406186792409632769,\\\"created_at\\\":\\\"2013-11-28 22:24:12\\\",\\\"text\\\":\\\"b'15 mins to liftoff http:\\\\/\\\\/t.co\\\\/3jDrHRSPQZ'\\\"}\"</td></tr><tr><td>\"{\\\"id_str\\\":405989364322533376,\\\"created_at\\\":\\\"2013-11-28 09:19:42\\\",\\\"text\\\":\\\"b'@lomac92 @WIRED No, almost all fuel\\\\/ox is being reserved for SES satellite to give max chance of success'\\\"}\"</td></tr><tr><td>\"{\\\"id_str\\\":405988869868642304,\\\"created_at\\\":\\\"2013-11-28 09:17:44\\\",\\\"text\\\":\\\"b'Model S Owner drives 3121 miles solo from Canada to Mexico http:\\\\/\\\\/t.co\\\\/8G8l1utgS2'\\\"}\"</td></tr><tr><td>\"{\\\"id_str\\\":405965445628710912,\\\"created_at\\\":\\\"2013-11-28 07:44:39\\\",\\\"text\\\":\\\"b'Good description of the launch by @WIRED: http:\\\\/\\\\/t.co\\\\/QnLhvviEAn'\\\"}\"</td></tr><tr><td>\"{\\\"id_str\\\":405924331358023680,\\\"created_at\\\":\\\"2013-11-28 05:01:16\\\",\\\"text\\\":\\\"b\\\\\\\"Don't actually mean to knock Honda -- their cars are solid -- but the park outside (or yr house might burn down) advice was awesome\\\\\\\"\\\"}\"</td></tr><tr><td>\"{\\\"id_str\\\":405922013111676928,\\\"created_at\\\":\\\"2013-11-28 04:52:04\\\",\\\"text\\\":\\\"b'@AdamMKE Model S can seat 5 adults, two kids and has a front trunk for luggage. Might work for you.'\\\"}\"</td></tr><tr><td>\"{\\\"id_str\\\":405918568635580416,\\\"created_at\\\":\\\"2013-11-28 04:38:23\\\",\\\"text\\\":\\\"b'...but only if you like your house \\\\\\\"Honda recalls Fit for fire risk, says park it outside http:\\\\/\\\\/t.co\\\\/tLpZ7HBIdV \\\\\\\"'\\\"}\"</td></tr><tr><td>\"{\\\"id_str\\\":405910027661496320,\\\"created_at\\\":\\\"2013-11-28 04:04:26\\\",\\\"text\\\":\\\"b'RT @SpaceX: Falcon 9 launch window opens tmrw at 5:39pm EST. Watch LIVE at http:\\\\/\\\\/t.co\\\\/wytY3mnBf1. Happy #Spacegiving! http:\\\\/\\\\/t.co\\\\/leacczWC\\\\\\\\xe2\\\\\\\\x80\\\\\\\\xa6'\\\"}\"</td></tr><tr><td>\"{\\\"id_str\\\":405864483404251137,\\\"created_at\\\":\\\"2013-11-28 01:03:28\\\",\\\"text\\\":\\\"b'RT @mgalimany: @TeslaMotors @elonmusk This is what happens when your car is not a #Tesla Model S.\\\\\\\\n https:\\\\/\\\\/t.co\\\\/sVlvoRZINX\\\\\\\\nThis will never \\\\\\\\xe2\\\\\\\\x80\\\\\\\\xa6'\\\"}\"</td></tr><tr><td>\"{\\\"id_str\\\":405618648183607296,\\\"created_at\\\":\\\"2013-11-27 08:46:36\\\",\\\"text\\\":\\\"b'RT @williamwinters: Ford issues 4th and 5th recalls for 2013 Escapes spontaneously catching fire. Not in the mainstream media. @elonmusk ht\\\\\\\\xe2\\\\\\\\x80\\\\\\\\xa6'\\\"}\"</td></tr><tr><td>\"{\\\"id_str\\\":174700079490412544,\\\"created_at\\\":\\\"2012-02-29 03:38:39\\\",\\\"text\\\":\\\"b'RT @timminchin: A really clear and concise article debunking climate science sceptics. Please read & RT.  http:\\\\/\\\\/t.co\\\\/NmbwbFR1'\\\"}\"</td></tr><tr><td>\"{\\\"id_str\\\":174621355436802049,\\\"created_at\\\":\\\"2012-02-28 22:25:50\\\",\\\"text\\\":\\\"b'Falcon 9 and Dragon now vertical on the launch pad, surrounded by 300 ft tall lightning towers http:\\\\/\\\\/t.co\\\\/iERgA2RP'\\\"}\"</td></tr><tr><td>\"{\\\"id_str\\\":173531986529497089,\\\"created_at\\\":\\\"2012-02-25 22:17:04\\\",\\\"text\\\":\\\"b'@LooperNor Yes, this will, if all goes well, be the first commercial spaceship to dock with the Space Station. T zero ~ end of April.'\\\"}\"</td></tr><tr><td>\"{\\\"id_str\\\":173528867699568641,\\\"created_at\\\":\\\"2012-02-25 22:04:41\\\",\\\"text\\\":\\\"b'Dragon spaceship and Falcon 9 rocket just completed final assembly at Cape Canaveral http:\\\\/\\\\/t.co\\\\/4GrSr3VU'\\\"}\"</td></tr><tr><td>\"{\\\"id_str\\\":173476402748854274,\\\"created_at\\\":\\\"2012-02-25 18:36:12\\\",\\\"text\\\":\\\"b'Supporting the drive to get a #PlutoStamp for the @NASA New Horizons mission'\\\"}\"</td></tr><tr><td>\"{\\\"id_str\\\":172817923243646976,\\\"created_at\\\":\\\"2012-02-23 22:59:38\\\",\\\"text\\\":\\\"b'RT @brynmooser: Math class at the @artistsforpeace school  http:\\\\/\\\\/t.co\\\\/TsOSngZ3'\\\"}\"</td></tr><tr><td>\"{\\\"id_str\\\":172122797852725248,\\\"created_at\\\":\\\"2012-02-22 00:57:28\\\",\\\"text\\\":\\\"b'@NASA launched a rocket into the northern lights http:\\\\/\\\\/t.co\\\\/tR2cSeMV'\\\"}\"</td></tr><tr><td>\"{\\\"id_str\\\":171994406587604992,\\\"created_at\\\":\\\"2012-02-21 16:27:16\\\",\\\"text\\\":\\\"b'Iran\\\\\\\\'s nuclear weapons facility is apparently called \\\\\\\"Frodo\\\\\\\". Watch out for Gollum! My precious... http:\\\\/\\\\/t.co\\\\/s1hLZ0vs'\\\"}\"</td></tr><tr><td>\"{\\\"id_str\\\":170309322037919744,\\\"created_at\\\":\\\"2012-02-17 00:51:21\\\",\\\"text\\\":\\\"b'Important point highlighted by @kqed: an electric car in California produces only 1\\\\/4 CO2 of gasoline http:\\\\/\\\\/t.co\\\\/xV3eWJ33'\\\"}\"</td></tr><tr><td>\"{\\\"id_str\\\":169232412990115840,\\\"created_at\\\":\\\"2012-02-14 01:32:06\\\",\\\"text\\\":\\\"b'Model X review by Jim Motavalli. I think he likes the car. http:\\\\/\\\\/t.co\\\\/aY1nx9FP'\\\"}\"</td></tr><tr><td>\"{\\\"id_str\\\":493084094532956160,\\\"created_at\\\":\\\"2014-07-26 17:23:03\\\",\\\"text\\\":\\\"b'On annual camping trip w kids. Trying a place just south of Carmel in California this year.'\\\"}\"</td></tr><tr><td>\"{\\\"id_str\\\":491814548760825857,\\\"created_at\\\":\\\"2014-07-23 05:18:20\\\",\\\"text\\\":\\\"b'RT @R_Rojas_Leon: La selfie del monito ... http:\\\\/\\\\/t.co\\\\/2tAJxr5g0r'\\\"}\"</td></tr><tr><td>\"{\\\"id_str\\\":491796248148455425,\\\"created_at\\\":\\\"2014-07-23 04:05:37\\\",\\\"text\\\":\\\"b'\\\\\\\\xe2\\\\\\\\x80\\\\\\\\x9c@SpaceX: Soft water landing of Falcon 9 rocket booster. http:\\\\/\\\\/t.co\\\\/VxBqBZhHmO\\\\\\\\n\\\\\\\\nFull update: http:\\\\/\\\\/t.co\\\\/nH8UqOmN9h\\\\\\\\xe2\\\\\\\\x80\\\\\\\\x9d'\\\"}\"</td></tr><tr><td>\"{\\\"id_str\\\":490325897820381185,\\\"created_at\\\":\\\"2014-07-19 02:42:58\\\",\\\"text\\\":\\\"b'Looks like body slam, maybe from a self-generated wave'\\\"}\"</td></tr><tr><td>\"{\\\"id_str\\\":488719729599578112,\\\"created_at\\\":\\\"2014-07-14 16:20:38\\\",\\\"text\\\":\\\"b'Detailed review of rocket telemetry needed to tell if due to initial splashdown or subsequent tip over and body slam'\\\"}\"</td></tr><tr><td>\"{\\\"id_str\\\":488718649515986944,\\\"created_at\\\":\\\"2014-07-14 16:16:20\\\",\\\"text\\\":\\\"b'Rocket booster reentry, landing burn &amp; leg deploy were good, but lost hull integrity right after splashdown (aka kaboom)'\\\"}\"</td></tr><tr><td>\"{\\\"id_str\\\":488717037674311682,\\\"created_at\\\":\\\"2014-07-14 16:09:56\\\",\\\"text\\\":\\\"b'Flight 10 of Falcon 9 was good. All six ORBCOMM satellites deployed on target.'\\\"}\"</td></tr><tr><td>\"{\\\"id_str\\\":487286689300086784,\\\"created_at\\\":\\\"2014-07-10 17:26:14\\\",\\\"text\\\":\\\"b'@leroytwin @Tesla_Canada A lot of Canadian Superchargers are in work and will start going live in the next month or so'\\\"}\"</td></tr><tr><td>\"{\\\"id_str\\\":487279300895191041,\\\"created_at\\\":\\\"2014-07-10 16:56:53\\\",\\\"text\\\":\\\"b'Tesla Superchargers delivered over 1GWh last month. Long distance driving growing exponentially http:\\\\/\\\\/t.co\\\\/vixkd5gkKX'\\\"}\"</td></tr><tr><td>\"{\\\"id_str\\\":483979768203726848,\\\"created_at\\\":\\\"2014-07-01 14:25:43\\\",\\\"text\\\":\\\"b'Tesla Model S named top model in perceived quality http:\\\\/\\\\/t.co\\\\/hOhZMIG78u via @USATODAY'\\\"}\"</td></tr><tr><td>\"{\\\"id_str\\\":715970424698494978,\\\"created_at\\\":\\\"2016-04-01 18:33:45\\\",\\\"text\\\":\\\"b\\\\\\\"RT @business: Tesla's Model 3 already has 198,000 reservations ...and it totally lives up to the hype https:\\\\/\\\\/t.co\\\\/XPiEEkjhnb https:\\\\/\\\\/t.co\\\\/\\\\\\\\xe2\\\\\\\\x80\\\\\\\\xa6\\\\\\\"\\\"}\"</td></tr><tr><td>\"{\\\"id_str\\\":715955186175459332,\\\"created_at\\\":\\\"2016-04-01 17:33:12\\\",\\\"text\\\":\\\"b'Definitely going to need to rethink production planning...'\\\"}\"</td></tr><tr><td>\"{\\\"id_str\\\":715952781895426048,\\\"created_at\\\":\\\"2016-04-01 17:23:39\\\",\\\"text\\\":\\\"b'Thought it would slow way down today, but Model 3 order count is now at 198k. Recommend ordering soon, as the wait time is growing rapidly.'\\\"}\"</td></tr><tr><td>\"{\\\"id_str\\\":715934657720639488,\\\"created_at\\\":\\\"2016-04-01 16:11:38\\\",\\\"text\\\":\\\"b'Model 3 orders at 180,000 in 24 hours. Selling price w avg option mix prob $42k, so ~$7.5B in a day. Future of electric cars looking bright!'\\\"}\"</td></tr><tr><td>\"{\\\"id_str\\\":715776577485807621,\\\"created_at\\\":\\\"2016-04-01 05:43:29\\\",\\\"text\\\":\\\"b'@IndiaToday Will include India-wide Supercharger network'\\\"}\"</td></tr><tr><td>\"{\\\"id_str\\\":715774770013409281,\\\"created_at\\\":\\\"2016-04-01 05:36:18\\\",\\\"text\\\":\\\"b'@Oatmeal sure!'\\\"}\"</td></tr><tr><td>\"{\\\"id_str\\\":715774390802194432,\\\"created_at\\\":\\\"2016-04-01 05:34:47\\\",\\\"text\\\":\\\"b'@StartUpRabbi Coming in the mail'\\\"}\"</td></tr><tr><td>\"{\\\"id_str\\\":715766837590499328,\\\"created_at\\\":\\\"2016-04-01 05:04:47\\\",\\\"text\\\":\\\"b'@redletterdave Hardware in all cars. Autopilot safety features standard. Convenience features optional (like S and X).'\\\"}\"</td></tr><tr><td>\"{\\\"id_str\\\":715765978328612870,\\\"created_at\\\":\\\"2016-04-01 05:01:22\\\",\\\"text\\\":\\\"b'@drew Just order the SpaceX option package!'\\\"}\"</td></tr><tr><td>\"{\\\"id_str\\\":715765746429784064,\\\"created_at\\\":\\\"2016-04-01 05:00:26\\\",\\\"text\\\":\\\"b\\\\\\\"Thanks for tuning in to the Model 3 unveil Part 1! Part 2 is super next level, but that's for later\\\\\\\\xe2\\\\\\\\x80\\\\\\\\xa6\\\\\\\"\\\"}\"</td></tr><tr><td>\"{\\\"id_str\\\":655426038621536256,\\\"created_at\\\":\\\"2015-10-17 16:51:59\\\",\\\"text\\\":\\\"b'RT @MrTeller: I like my car.  When Tesla asked me to review the experience, I did. No ad. Unpaid, just because I wanted to.  .http:\\\\/\\\\/t.co\\\\/x\\\\\\\\xe2\\\\\\\\x80\\\\\\\\xa6'\\\"}\"</td></tr><tr><td>\"{\\\"id_str\\\":655256305209184258,\\\"created_at\\\":\\\"2015-10-17 05:37:31\\\",\\\"text\\\":\\\"b'@Meddd__ @aaronpaul_8 Watched the whole series. One of the best tv shows ever.'\\\"}\"</td></tr><tr><td>\"{\\\"id_str\\\":655254071058657280,\\\"created_at\\\":\\\"2015-10-17 05:28:39\\\",\\\"text\\\":\\\"b'@aaronpaul_8 um, thanks, I like your work too'\\\"}\"</td></tr><tr><td>\"{\\\"id_str\\\":655041756166160384,\\\"created_at\\\":\\\"2015-10-16 15:24:59\\\",\\\"text\\\":\\\"b'RT @EcoWatch: Colbert: I Woke Up Yesterday Morning and My #Tesla Could Drive Itself\\\\\\\\nhttp:\\\\/\\\\/t.co\\\\/cVkPuu4O16 @elonmusk @teslamotors http:\\\\/\\\\/t.\\\\\\\\xe2\\\\\\\\x80\\\\\\\\xa6'\\\"}\"</td></tr><tr><td>\"{\\\"id_str\\\":654727508345012224,\\\"created_at\\\":\\\"2015-10-15 18:36:16\\\",\\\"text\\\":\\\"b'RT @TechCrunch: Watch this self-steering Tesla Model S drive itself http:\\\\/\\\\/t.co\\\\/OZDobXUE7D http:\\\\/\\\\/t.co\\\\/i1RHu3SvqH'\\\"}\"</td></tr><tr><td>\"{\\\"id_str\\\":654698139249565697,\\\"created_at\\\":\\\"2015-10-15 16:39:34\\\",\\\"text\\\":\\\"b'@aaronpaul_8 sure :)'\\\"}\"</td></tr><tr><td>\"{\\\"id_str\\\":654521829789270016,\\\"created_at\\\":\\\"2015-10-15 04:58:59\\\",\\\"text\\\":\\\"b'@elimelechweiss actually works best at night'\\\"}\"</td></tr><tr><td>\"{\\\"id_str\\\":654521665305473024,\\\"created_at\\\":\\\"2015-10-15 04:58:20\\\",\\\"text\\\":\\\"b'Review of Model S by @MrTeller http:\\\\/\\\\/t.co\\\\/eF7ICE9ef4'\\\"}\"</td></tr><tr><td>\"{\\\"id_str\\\":654493713549291520,\\\"created_at\\\":\\\"2015-10-15 03:07:15\\\",\\\"text\\\":\\\"b\\\\\\\"RT @Jalopnik: Tesla's Autopilot system is awesome and creepy and the sign of a beautiful future http:\\\\/\\\\/t.co\\\\/6rLu6bI1du http:\\\\/\\\\/t.co\\\\/HYVPl6gy\\\\\\\\xe2\\\\\\\\x80\\\\\\\\xa6\\\\\\\"\\\"}\"</td></tr><tr><td>\"{\\\"id_str\\\":654409700801310720,\\\"created_at\\\":\\\"2015-10-14 21:33:25\\\",\\\"text\\\":\\\"b'RT @WIRED: Breaking: Tesla just made its cars autonomous, kinda http:\\\\/\\\\/t.co\\\\/1jxVX9k7rO'\\\"}\"</td></tr><tr><td>\"{\\\"id_str\\\":657702829398822912,\\\"created_at\\\":\\\"2015-10-23 23:39:08\\\",\\\"text\\\":\\\"b'@shanenickerson Amount of change needed is enormous - like a spinal cord transplant. Would cost less and work better with a new car.'\\\"}\"</td></tr><tr><td>\"{\\\"id_str\\\":657686500310700032,\\\"created_at\\\":\\\"2015-10-23 22:34:15\\\",\\\"text\\\":\\\"b'Autopilot 1.01 coming soon: curve speed adaption, controller smoothness, better lane holding on poor roads, improved fleet learning!'\\\"}\"</td></tr><tr><td>\"{\\\"id_str\\\":657685372579745793,\\\"created_at\\\":\\\"2015-10-23 22:29:46\\\",\\\"text\\\":\\\"b'Regulatory approvals received, so Autopilot rolling out to all countries! (Excluding Japan, which is still under review)'\\\"}\"</td></tr><tr><td>\"{\\\"id_str\\\":657141296050606080,\\\"created_at\\\":\\\"2015-10-22 10:27:48\\\",\\\"text\\\":\\\"b'@JarkkoKuoppala all'\\\"}\"</td></tr><tr><td>\"{\\\"id_str\\\":657110887707361280,\\\"created_at\\\":\\\"2015-10-22 08:26:58\\\",\\\"text\\\":\\\"b'@backseatdiver Hoping for Friday release'\\\"}\"</td></tr><tr><td>\"{\\\"id_str\\\":657106581893574656,\\\"created_at\\\":\\\"2015-10-22 08:09:52\\\",\\\"text\\\":\\\"b'@elonmusk Good feedback. Will write up a list of software priorities in the coming weeks.'\\\"}\"</td></tr><tr><td>\"{\\\"id_str\\\":656973991379378176,\\\"created_at\\\":\\\"2015-10-21 23:23:00\\\",\\\"text\\\":\\\"b'What esthetic and functionality improvements would you like to see in the 7.1 UI overhaul? Or new features entirely?'\\\"}\"</td></tr><tr><td>\"{\\\"id_str\\\":656973325172920320,\\\"created_at\\\":\\\"2015-10-21 23:20:21\\\",\\\"text\\\":\\\"b'@sAlmaneei already in Jordan. Rest of states in region next year.'\\\"}\"</td></tr><tr><td>\"{\\\"id_str\\\":656973144306094080,\\\"created_at\\\":\\\"2015-10-21 23:19:38\\\",\\\"text\\\":\\\"b'@bonnienorman thanks Bonnie :)'\\\"}\"</td></tr><tr><td>\"{\\\"id_str\\\":656972712649359360,\\\"created_at\\\":\\\"2015-10-21 23:17:55\\\",\\\"text\\\":\\\"b'@M4XRodri planning to have a big opening in Mexico City soon and then proceed gradually to central and South America.'\\\"}\"</td></tr><tr><td>\"{\\\"id_str\\\":402850950500474881,\\\"created_at\\\":\\\"2013-11-19 17:28:45\\\",\\\"text\\\":\\\"b'Tesla is also extending the Model S warranty to cover any fire damage even if due solely to a driver accident'\\\"}\"</td></tr><tr><td>\"{\\\"id_str\\\":402836392566202368,\\\"created_at\\\":\\\"2013-11-19 16:30:54\\\",\\\"text\\\":\\\"b'What makes this incredibly unjust is that the Model S to date has the best safety record of any car on the road (no injuries or deaths ever)'\\\"}\"</td></tr><tr><td>\"{\\\"id_str\\\":402811201052090368,\\\"created_at\\\":\\\"2013-11-19 14:50:48\\\",\\\"text\\\":\\\"b'Why does a Tesla fire w no injury get more media headlines than 100,000 gas car fires that kill 100s of people per year?'\\\"}\"</td></tr><tr><td>\"{\\\"id_str\\\":402803732632453121,\\\"created_at\\\":\\\"2013-11-19 14:21:08\\\",\\\"text\\\":\\\"b'Mission of Tesla  http:\\\\/\\\\/t.co\\\\/UchbT5NZE3'\\\"}\"</td></tr><tr><td>\"{\\\"id_str\\\":400776254082666496,\\\"created_at\\\":\\\"2013-11-14 00:04:39\\\",\\\"text\\\":\\\"b'SuperDraco rocket engine fired at full thrust w a printed Inconel chamber. Used for Dragon escape &amp; landing http:\\\\/\\\\/t.co\\\\/HjWEayLlBN'\\\"}\"</td></tr><tr><td>\"{\\\"id_str\\\":400411503742164992,\\\"created_at\\\":\\\"2013-11-12 23:55:16\\\",\\\"text\\\":\\\"b\\\\\\\"In other news, George Clooney reports that his iPhone 1 had a bug back in '07\\\\\\\"\\\"}\"</td></tr><tr><td>\"{\\\"id_str\\\":399347799403151360,\\\"created_at\\\":\\\"2013-11-10 01:28:29\\\",\\\"text\\\":\\\"b'Model S owner blogs about TN accident http:\\\\/\\\\/t.co\\\\/93Fz8WEwOU'\\\"}\"</td></tr><tr><td>\"{\\\"id_str\\\":396712451305000960,\\\"created_at\\\":\\\"2013-11-02 18:56:33\\\",\\\"text\\\":\\\"b'Thanks Woz! \\\\\\\"@stevewoz: Here to pick up my new car! (at @TeslaMotors w\\\\/ 2 others)\\\\\\\"'\\\"}\"</td></tr><tr><td>\"{\\\"id_str\\\":395562607462981633,\\\"created_at\\\":\\\"2013-10-30 14:47:29\\\",\\\"text\\\":\\\"b'Tesla West Coast Supercharger network now energized. Travel from Vancouver to Tijuana in styel! http:\\\\/\\\\/t.co\\\\/gTvV9egg3K'\\\"}\"</td></tr><tr><td>\"{\\\"id_str\\\":394220043816296448,\\\"created_at\\\":\\\"2013-10-26 21:52:37\\\",\\\"text\\\":\\\"b'Giant dog topiary in Bilbao http:\\\\/\\\\/t.co\\\\/kHdAMvOEMN'\\\"}\"</td></tr><tr><td>\"{\\\"id_str\\\":273485219162648576,\\\"created_at\\\":\\\"2012-11-27 17:55:32\\\",\\\"text\\\":\\\"b'And, yes, I do in fact know that this sounds crazy. That is not lost on me. Nor I do think SpaceX will do this alone.'\\\"}\"</td></tr><tr><td>\"{\\\"id_str\\\":273483420468932608,\\\"created_at\\\":\\\"2012-11-27 17:48:23\\\",\\\"text\\\":\\\"b'Millions of people needed for Mars colony, so 80k+ would just be the number moving to Mars per year http:\\\\/\\\\/t.co\\\\/rwMuzVEK'\\\"}\"</td></tr><tr><td>\"{\\\"id_str\\\":272518429368541184,\\\"created_at\\\":\\\"2012-11-25 01:53:51\\\",\\\"text\\\":\\\"b'Short vid of the recent @SpaceX mission to the Intl Space Station http:\\\\/\\\\/t.co\\\\/Qc963d8B'\\\"}\"</td></tr><tr><td>\"{\\\"id_str\\\":272129332565123072,\\\"created_at\\\":\\\"2012-11-24 00:07:43\\\",\\\"text\\\":\\\"b'@cthorm SS Heart of Gold powered by the Infinite Improbability Drive!'\\\"}\"</td></tr><tr><td>\"{\\\"id_str\\\":272063241780338688,\\\"created_at\\\":\\\"2012-11-23 19:45:06\\\",\\\"text\\\":\\\"b'My talk for the Royal Aeronautical Society is now online. This gets a little more technical. http:\\\\/\\\\/t.co\\\\/ZMbkc3jh'\\\"}\"</td></tr><tr><td>\"{\\\"id_str\\\":271814339969826817,\\\"created_at\\\":\\\"2012-11-23 03:16:03\\\",\\\"text\\\":\\\"b'Liam Neeson\\\\\\\\'s \\\\\\\"Life\\\\\\\\'s Too Short\\\\\\\" sketch is super funny http:\\\\/\\\\/t.co\\\\/nQL7wOx3'\\\"}\"</td></tr><tr><td>\"{\\\"id_str\\\":271717168645824512,\\\"created_at\\\":\\\"2012-11-22 20:49:55\\\",\\\"text\\\":\\\"b\\\\\\\"RT @neokoenig: @elonmusk if anyone has issues accessing the video, I've mirrored it on YouTube here: http:\\\\/\\\\/t.co\\\\/yWskR9kw\\\\\\\"\\\"}\"</td></tr><tr><td>\"{\\\"id_str\\\":271652314744487936,\\\"created_at\\\":\\\"2012-11-22 16:32:13\\\",\\\"text\\\":\\\"b'On the plus side...\\\\\\\\xe2\\\\\\\\x80\\\\\\\\x9c@newscientist: #Climate change has a silver lining: supersized sweet potatoes http:\\\\/\\\\/t.co\\\\/zHMYIbL3\\\\\\\\xe2\\\\\\\\x80\\\\\\\\x9d'\\\"}\"</td></tr><tr><td>\"{\\\"id_str\\\":271642966442000385,\\\"created_at\\\":\\\"2012-11-22 15:55:04\\\",\\\"text\\\":\\\"b'Gave a talk on energy and transport at Oxford Univ http:\\\\/\\\\/t.co\\\\/kbvJf5LO'\\\"}\"</td></tr><tr><td>\"{\\\"id_str\\\":271119275673145344,\\\"created_at\\\":\\\"2012-11-21 05:14:07\\\",\\\"text\\\":\\\"b'@Thomas_Tregner Exactly!'\\\"}\"</td></tr><tr><td>\"{\\\"id_str\\\":331490556574326785,\\\"created_at\\\":\\\"2013-05-06 19:28:02\\\",\\\"text\\\":\\\"b'Anyone interested in doing ultra hardcore vehicle engineering at Tesla, please apply!'\\\"}\"</td></tr><tr><td>\"{\\\"id_str\\\":331489911842689025,\\\"created_at\\\":\\\"2013-05-06 19:25:28\\\",\\\"text\\\":\\\"b'Chris Porritt from Aston Martin just joined as head of vehicle engineering at Tesla http:\\\\/\\\\/t.co\\\\/MNUIWDxoXt'\\\"}\"</td></tr><tr><td>\"{\\\"id_str\\\":331486802462531584,\\\"created_at\\\":\\\"2013-05-06 19:13:07\\\",\\\"text\\\":\\\"b'@bdcs Yup, it is super far. Moon is basically in our back yard relative to Mars.'\\\"}\"</td></tr><tr><td>\"{\\\"id_str\\\":331082832187363329,\\\"created_at\\\":\\\"2013-05-05 16:27:53\\\",\\\"text\\\":\\\"b'@nirdthebird Definitely a lot of potential for geothermal, but depends on well depth. Too expensive in most places.'\\\"}\"</td></tr><tr><td>\"{\\\"id_str\\\":330884627927560192,\\\"created_at\\\":\\\"2013-05-05 03:20:17\\\",\\\"text\\\":\\\"b'@DetlefKroeze Yeah, that probably makes sense.'\\\"}\"</td></tr><tr><td>\"{\\\"id_str\\\":330877283793530880,\\\"created_at\\\":\\\"2013-05-05 02:51:06\\\",\\\"text\\\":\\\"b'@DouglasBullard @teslamotors Most people have never heard of Nikola Tesla. That will hopefully change over time.'\\\"}\"</td></tr><tr><td>\"{\\\"id_str\\\":330869907640184832,\\\"created_at\\\":\\\"2013-05-05 02:21:47\\\",\\\"text\\\":\\\"b'@flyguynscc @teslamotors yes, that has been the goal from the beginning'\\\"}\"</td></tr><tr><td>\"{\\\"id_str\\\":330708114854793217,\\\"created_at\\\":\\\"2013-05-04 15:38:53\\\",\\\"text\\\":\\\"b'@fink_justin It can definitely strain relationships, but I loved doing my first company with my brother'\\\"}\"</td></tr><tr><td>\"{\\\"id_str\\\":330707889729712131,\\\"created_at\\\":\\\"2013-05-04 15:37:59\\\",\\\"text\\\":\\\"b'@Vangsgutane Norway rocks!'\\\"}\"</td></tr><tr><td>\"{\\\"id_str\\\":330572086668046336,\\\"created_at\\\":\\\"2013-05-04 06:38:21\\\",\\\"text\\\":\\\"b'@WehbyJammin Earnings call next week, then Supercharger week after and then... the mystery announcement\\\\/demonstration :)'\\\"}\"</td></tr><tr><td>\"{\\\"id_str\\\":718607811958214656,\\\"created_at\\\":\\\"2016-04-09 01:13:48\\\",\\\"text\\\":\\\"b'RT @SpaceX: Onboard view of landing in high winds https:\\\\/\\\\/t.co\\\\/FedRzjYYyQ'\\\"}\"</td></tr><tr><td>\"{\\\"id_str\\\":718598761832968192,\\\"created_at\\\":\\\"2016-04-09 00:37:50\\\",\\\"text\\\":\\\"b'@levie Tickets to orbital hotels, the moon and Mars will be a lot less than people think.'\\\"}\"</td></tr><tr><td>\"{\\\"id_str\\\":718598132888702976,\\\"created_at\\\":\\\"2016-04-09 00:35:20\\\",\\\"text\\\":\\\"b'Just wanted to write a note of appreciation for all those who have supported Tesla, SpaceX &amp; SolarCity over the years. Thank you.'\\\"}\"</td></tr><tr><td>\"{\\\"id_str\\\":718580558180261888,\\\"created_at\\\":\\\"2016-04-08 23:25:30\\\",\\\"text\\\":\\\"b'@POTUS Thanks on behalf of an amazing team at SpaceX!'\\\"}\"</td></tr><tr><td>\"{\\\"id_str\\\":718571641949650944,\\\"created_at\\\":\\\"2016-04-08 22:50:04\\\",\\\"text\\\":\\\"b'@Jon_Favreau @SpaceX Thanks!'\\\"}\"</td></tr><tr><td>\"{\\\"id_str\\\":718548224441774082,\\\"created_at\\\":\\\"2016-04-08 21:17:01\\\",\\\"text\\\":\\\"b'@NASA @sgvcrime @SpaceX @Space_Station Thanks for your support! Looking forward to delivering the goods for you.'\\\"}\"</td></tr><tr><td>\"{\\\"id_str\\\":718546544966955008,\\\"created_at\\\":\\\"2016-04-08 21:10:20\\\",\\\"text\\\":\\\"b'RT @SpaceX: 1st stage has landed on Of Course I Still Love You https:\\\\/\\\\/t.co\\\\/tdni53IviI'\\\"}\"</td></tr><tr><td>\"{\\\"id_str\\\":718532568312713216,\\\"created_at\\\":\\\"2016-04-08 20:14:48\\\",\\\"text\\\":\\\"b'RT @SpaceX: Propellant load underway for Falcon 9. Launch webcast will go live in about 10 minutes https:\\\\/\\\\/t.co\\\\/tdni53IviI'\\\"}\"</td></tr><tr><td>\"{\\\"id_str\\\":718532302154833920,\\\"created_at\\\":\\\"2016-04-08 20:13:45\\\",\\\"text\\\":\\\"b'Screen cap from the stern cam of droneship \\\\\\\"Of Course I Still Love You\\\\\\\" https:\\\\/\\\\/t.co\\\\/4rGOJMTzVn'\\\"}\"</td></tr><tr><td>\"{\\\"id_str\\\":718522065322532865,\\\"created_at\\\":\\\"2016-04-08 19:33:04\\\",\\\"text\\\":\\\"b'@arstechnica Reasons for ocean landing are technical, not economic. Orbit requires extreme horizontal velocity. Getting to space needs none.'\\\"}\"</td></tr><tr><td>\"{\\\"id_str\\\":716745282394976257,\\\"created_at\\\":\\\"2016-04-03 21:52:46\\\",\\\"text\\\":\\\"b'Model 3 will be RWD, with dual motor AWD optional. Even RWD will have great traction on ice due to fast torque response of Tesla drivetrain.'\\\"}\"</td></tr><tr><td>\"{\\\"id_str\\\":716743909750218752,\\\"created_at\\\":\\\"2016-04-03 21:47:19\\\",\\\"text\\\":\\\"b'@GolfsHard yes'\\\"}\"</td></tr><tr><td>\"{\\\"id_str\\\":716743848580497409,\\\"created_at\\\":\\\"2016-04-03 21:47:04\\\",\\\"text\\\":\\\"b'@Zooropa88 @TeslaMotors Superchargers and service centers will cover all of Italy later this year'\\\"}\"</td></tr><tr><td>\"{\\\"id_str\\\":716743321624903680,\\\"created_at\\\":\\\"2016-04-03 21:44:58\\\",\\\"text\\\":\\\"b'@_Only_Hawk @MICHAELSD01 @TechGrlTweeter definitely'\\\"}\"</td></tr><tr><td>\"{\\\"id_str\\\":716742777468555264,\\\"created_at\\\":\\\"2016-04-03 21:42:49\\\",\\\"text\\\":\\\"b'@Alandbru @TeslaMotors should be addressed this year'\\\"}\"</td></tr><tr><td>\"{\\\"id_str\\\":716731407310196736,\\\"created_at\\\":\\\"2016-04-03 20:57:38\\\",\\\"text\\\":\\\"b'@CmaxVs Only way to get enough rear passenger headroom was to move the rear roof cross-car support beam. A bike will still fit no problem.'\\\"}\"</td></tr><tr><td>\"{\\\"id_str\\\":716730641585340416,\\\"created_at\\\":\\\"2016-04-03 20:54:35\\\",\\\"text\\\":\\\"b\\\\\\\"@iKrivetko that's not the real steering system\\\\\\\"\\\"}\"</td></tr><tr><td>\"{\\\"id_str\\\":716730009394647040,\\\"created_at\\\":\\\"2016-04-03 20:52:05\\\",\\\"text\\\":\\\"b'@B_Rans yes. Will easily fit two child seats. Three if you buy slim seats.'\\\"}\"</td></tr><tr><td>\"{\\\"id_str\\\":716729841362407424,\\\"created_at\\\":\\\"2016-04-03 20:51:25\\\",\\\"text\\\":\\\"b'@gerardomarina Some tweaking underway'\\\"}\"</td></tr><tr><td>\"{\\\"id_str\\\":716729420078133248,\\\"created_at\\\":\\\"2016-04-03 20:49:44\\\",\\\"text\\\":\\\"b'@HBL_Cosmin Wait until you see the real steering controls and system for the 3. It feels like a spaceship.'\\\"}\"</td></tr><tr><td>\"{\\\"id_str\\\":828284048103579651,\\\"created_at\\\":\\\"2017-02-05 16:48:00\\\",\\\"text\\\":\\\"b'@humplik The remedy for that is changing the law'\\\"}\"</td></tr><tr><td>\"{\\\"id_str\\\":828282768559849473,\\\"created_at\\\":\\\"2017-02-05 16:42:55\\\",\\\"text\\\":\\\"b\\\\\\\"@CallumK24 Ok, but what's up the wigs?\\\\\\\"\\\"}\"</td></tr><tr><td>\"{\\\"id_str\\\":828282648711802881,\\\"created_at\\\":\\\"2017-02-05 16:42:26\\\",\\\"text\\\":\\\"b\\\\\\\"@iLexomat There are many good legal systems on par with US. Just don't know any that are better.\\\\\\\"\\\"}\"</td></tr><tr><td>\"{\\\"id_str\\\":828281953455579136,\\\"created_at\\\":\\\"2017-02-05 16:39:41\\\",\\\"text\\\":\\\"b'@Biesseman True!'\\\"}\"</td></tr><tr><td>\"{\\\"id_str\\\":828280866451374085,\\\"created_at\\\":\\\"2017-02-05 16:35:21\\\",\\\"text\\\":\\\"b\\\\\\\"Many in America don't realize how proud they should be of the legal system. Not perfect, but nowhere is the cause of justice better served.\\\\\\\"\\\"}\"</td></tr><tr><td>\"{\\\"id_str\\\":828279118944989185,\\\"created_at\\\":\\\"2017-02-05 16:28:25\\\",\\\"text\\\":\\\"b'RT @TeslaMotors: Honored to receive Best Car Award for the third year in a row in Germany. Thank you to all 124,000 of you who voted! https\\\\\\\\xe2\\\\\\\\x80\\\\\\\\xa6'\\\"}\"</td></tr><tr><td>\"{\\\"id_str\\\":828018446873006080,\\\"created_at\\\":\\\"2017-02-04 23:12:36\\\",\\\"text\\\":\\\"b'Walking down the street and saw this https:\\\\/\\\\/t.co\\\\/Mpv5j6088K'\\\"}\"</td></tr><tr><td>\"{\\\"id_str\\\":828004976228188160,\\\"created_at\\\":\\\"2017-02-04 22:19:04\\\",\\\"text\\\":\\\"b'@ChrisJCav Maybe my favorite mug ever'\\\"}\"</td></tr><tr><td>\"{\\\"id_str\\\":828004231101706241,\\\"created_at\\\":\\\"2017-02-04 22:16:06\\\",\\\"text\\\":\\\"b'@nintendomaniac @alext4627 I wish!'\\\"}\"</td></tr><tr><td>\"{\\\"id_str\\\":828002410811494400,\\\"created_at\\\":\\\"2017-02-04 22:08:52\\\",\\\"text\\\":\\\"b\\\\\\\"@OldManRiver1800 Then so be it. I'd rather do what I believe is right, than do what appears right simply to avoid criticism.\\\\\\\"\\\"}\"</td></tr><tr><td>\"{\\\"id_str\\\":794219484621832192,\\\"created_at\\\":\\\"2016-11-03 16:47:35\\\",\\\"text\\\":\\\"b'@brainwipe There would def be millions of agents simultaneously doing a Monte Carlo sim &amp; combining the results to build a map of weaknesses'\\\"}\"</td></tr><tr><td>\"{\\\"id_str\\\":794201703922810880,\\\"created_at\\\":\\\"2016-11-03 15:36:56\\\",\\\"text\\\":\\\"b'@ClintonKeith good chance'\\\"}\"</td></tr><tr><td>\"{\\\"id_str\\\":794200368804544512,\\\"created_at\\\":\\\"2016-11-03 15:31:38\\\",\\\"text\\\":\\\"b'Only a matter of time before advanced AI is used to do this. Internet is particularly susceptible to a gradient des\\\\\\\\xe2\\\\\\\\x80\\\\\\\\xa6 https:\\\\/\\\\/t.co\\\\/JCgtjr1Nab'\\\"}\"</td></tr><tr><td>\"{\\\"id_str\\\":793710619933315072,\\\"created_at\\\":\\\"2016-11-02 07:05:32\\\",\\\"text\\\":\\\"b'@ropiko yes'\\\"}\"</td></tr><tr><td>\"{\\\"id_str\\\":793709350950871040,\\\"created_at\\\":\\\"2016-11-02 07:00:30\\\",\\\"text\\\":\\\"b'RT @TeslaMotors: Additional information on a combined Tesla &amp; SolarCity https:\\\\/\\\\/t.co\\\\/dSxGtDI6Lp'\\\"}\"</td></tr><tr><td>\"{\\\"id_str\\\":792220862648766466,\\\"created_at\\\":\\\"2016-10-29 04:25:47\\\",\\\"text\\\":\\\"b'@vicentes yes'\\\"}\"</td></tr><tr><td>\"{\\\"id_str\\\":792220517654597633,\\\"created_at\\\":\\\"2016-10-29 04:24:24\\\",\\\"text\\\":\\\"b'@BobaFaux strongly net positive'\\\"}\"</td></tr><tr><td>\"{\\\"id_str\\\":792218248917811204,\\\"created_at\\\":\\\"2016-10-29 04:15:23\\\",\\\"text\\\":\\\"b'Solar glass tiles can also incorporate heating elements, like rear defroster on a car, to clear roof of snow and keep generating energy'\\\"}\"</td></tr><tr><td>\"{\\\"id_str\\\":792217704757284864,\\\"created_at\\\":\\\"2016-10-29 04:13:14\\\",\\\"text\\\":\\\"b'@HipStreeet yes'\\\"}\"</td></tr><tr><td>\"{\\\"id_str\\\":792217344684597248,\\\"created_at\\\":\\\"2016-10-29 04:11:48\\\",\\\"text\\\":\\\"b'RT @TeslaMotors: Solar roof glass tile vs. conventional roof tile https:\\\\/\\\\/t.co\\\\/AnGWJ07jub'\\\"}\"</td></tr><tr><td>\"{\\\"id_str\\\":679145544673923072,\\\"created_at\\\":\\\"2015-12-22 03:44:50\\\",\\\"text\\\":\\\"b'Live video from LZ-1 https:\\\\/\\\\/t.co\\\\/Ve6gEXfOdh'\\\"}\"</td></tr><tr><td>\"{\\\"id_str\\\":679142215981993984,\\\"created_at\\\":\\\"2015-12-22 03:31:36\\\",\\\"text\\\":\\\"b'Falcon 9 standing on LZ-1 at Cape Canaveral https:\\\\/\\\\/t.co\\\\/RZdfcH0exW'\\\"}\"</td></tr><tr><td>\"{\\\"id_str\\\":679138271084064768,\\\"created_at\\\":\\\"2015-12-22 03:15:56\\\",\\\"text\\\":\\\"b'@morganpage thanks!'\\\"}\"</td></tr><tr><td>\"{\\\"id_str\\\":679137936416329728,\\\"created_at\\\":\\\"2015-12-22 03:14:36\\\",\\\"text\\\":\\\"b'There and back again https:\\\\/\\\\/t.co\\\\/Ll7wg2hL1G'\\\"}\"</td></tr><tr><td>\"{\\\"id_str\\\":679137515543097345,\\\"created_at\\\":\\\"2015-12-22 03:12:56\\\",\\\"text\\\":\\\"b'@Jon_Favreau Thanks Jon!'\\\"}\"</td></tr><tr><td>\"{\\\"id_str\\\":679127406813188097,\\\"created_at\\\":\\\"2015-12-22 02:32:46\\\",\\\"text\\\":\\\"b'11 satellites deployed to target orbit and Falcon has landed back at Cape Canaveral. Headed to LZ-1. Welcome back, baby!'\\\"}\"</td></tr><tr><td>\"{\\\"id_str\\\":679110356224991232,\\\"created_at\\\":\\\"2015-12-22 01:25:00\\\",\\\"text\\\":\\\"b'Background on the launch https:\\\\/\\\\/t.co\\\\/1SkttU684X'\\\"}\"</td></tr><tr><td>\"{\\\"id_str\\\":678732298532085761,\\\"created_at\\\":\\\"2015-12-21 00:22:44\\\",\\\"text\\\":\\\"b'Launch &amp; landing can be seen on the https:\\\\/\\\\/t.co\\\\/bDd3GxQXMC webcast or in person from Cape Canaveral public causeway at 8:33pm local tmrw'\\\"}\"</td></tr><tr><td>\"{\\\"id_str\\\":678679357729193985,\\\"created_at\\\":\\\"2015-12-20 20:52:22\\\",\\\"text\\\":\\\"b\\\\\\\"RT @ORBCOMM_Inc: New photo of @SpaceX #Falcon9 in advance of tonight's ORBCOMM #OG2 launch. She's a beauty. #SpaceX https:\\\\/\\\\/t.co\\\\/cUhCgGieiP\\\\\\\"\\\"}\"</td></tr><tr><td>\"{\\\"id_str\\\":678679083782377472,\\\"created_at\\\":\\\"2015-12-20 20:51:17\\\",\\\"text\\\":\\\"b'Just reviewed mission params w SpaceX team. Monte Carlo runs show tmrw night has a 10% higher chance of a good landing. Punting 24 hrs.'\\\"}\"</td></tr><tr><td>\"{\\\"id_str\\\":780423473961115649,\\\"created_at\\\":\\\"2016-09-26 15:07:10\\\",\\\"text\\\":\\\"b'@huntster1701 yes'\\\"}\"</td></tr><tr><td>\"{\\\"id_str\\\":780296159315173376,\\\"created_at\\\":\\\"2016-09-26 06:41:16\\\",\\\"text\\\":\\\"b'@DavidKYoon yes'\\\"}\"</td></tr><tr><td>\"{\\\"id_str\\\":780296017254023170,\\\"created_at\\\":\\\"2016-09-26 06:40:42\\\",\\\"text\\\":\\\"b'@williamwinters @rocketrepreneur pretty close'\\\"}\"</td></tr><tr><td>\"{\\\"id_str\\\":780291118080462848,\\\"created_at\\\":\\\"2016-09-26 06:21:14\\\",\\\"text\\\":\\\"b'@rocketrepreneur 382s is with a 150 area ratio vacuum (or Mars ambient pressure) nozzle. Will go over specs for both versions on Tues.'\\\"}\"</td></tr><tr><td>\"{\\\"id_str\\\":780289045238657024,\\\"created_at\\\":\\\"2016-09-26 06:13:00\\\",\\\"text\\\":\\\"b'Chamber pressure is almost 3X Merlin, so engine is about the same size for a given area ratio'\\\"}\"</td></tr><tr><td>\"{\\\"id_str\\\":780280440401764353,\\\"created_at\\\":\\\"2016-09-26 05:38:48\\\",\\\"text\\\":\\\"b'Production Raptor goal is specific impulse of 382 seconds and thrust of 3 MN (~310 metric tons) at 300 bar'\\\"}\"</td></tr><tr><td>\"{\\\"id_str\\\":780278836860628992,\\\"created_at\\\":\\\"2016-09-26 05:32:26\\\",\\\"text\\\":\\\"b'Mach diamonds https:\\\\/\\\\/t.co\\\\/TCX7ZGFnN0'\\\"}\"</td></tr><tr><td>\"{\\\"id_str\\\":780275236922994688,\\\"created_at\\\":\\\"2016-09-26 05:18:07\\\",\\\"text\\\":\\\"b'SpaceX propulsion just achieved first firing of the Raptor interplanetary transport engine https:\\\\/\\\\/t.co\\\\/vRleyJvBkx'\\\"}\"</td></tr><tr><td>\"{\\\"id_str\\\":779461663141474308,\\\"created_at\\\":\\\"2016-09-23 23:25:16\\\",\\\"text\\\":\\\"b'Good Forbes article on Tesla\\\\/SolarCity merger https:\\\\/\\\\/t.co\\\\/guNh5q2zrl'\\\"}\"</td></tr><tr><td>\"{\\\"id_str\\\":779459518560215041,\\\"created_at\\\":\\\"2016-09-23 23:16:45\\\",\\\"text\\\":\\\"b'RT @Hyperloop: One more week to apply to our second student Hyperloop competition https:\\\\/\\\\/t.co\\\\/ZQHjHtkuAj https:\\\\/\\\\/t.co\\\\/iKI7GXut8K'\\\"}\"</td></tr><tr><td>\"{\\\"id_str\\\":697682665919516672,\\\"created_at\\\":\\\"2016-02-11 07:24:44\\\",\\\"text\\\":\\\"b'@MysteryGuitarM yes'\\\"}\"</td></tr><tr><td>\"{\\\"id_str\\\":697679828468641792,\\\"created_at\\\":\\\"2016-02-11 07:13:28\\\",\\\"text\\\":\\\"b'No signature series for Model 3. Same reservation amount for all.'\\\"}\"</td></tr><tr><td>\"{\\\"id_str\\\":697679434996850688,\\\"created_at\\\":\\\"2016-02-11 07:11:54\\\",\\\"text\\\":\\\"b'@garethseneque global'\\\"}\"</td></tr><tr><td>\"{\\\"id_str\\\":697678962588188672,\\\"created_at\\\":\\\"2016-02-11 07:10:01\\\",\\\"text\\\":\\\"b'Model 3 reservations ($1000 down) will be accepted in Tesla stores on March 31 and online April 1'\\\"}\"</td></tr><tr><td>\"{\\\"id_str\\\":697674277131153408,\\\"created_at\\\":\\\"2016-02-11 06:51:24\\\",\\\"text\\\":\\\"b'@ErikRoesegg good point'\\\"}\"</td></tr><tr><td>\"{\\\"id_str\\\":697341715712086016,\\\"created_at\\\":\\\"2016-02-10 08:49:55\\\",\\\"text\\\":\\\"b'Should mention that Tesla Motors itself had nothing to do with the short movie. This was completely independent.'\\\"}\"</td></tr><tr><td>\"{\\\"id_str\\\":697331144417619968,\\\"created_at\\\":\\\"2016-02-10 08:07:55\\\",\\\"text\\\":\\\"b'Love this Tesla video made by https:\\\\/\\\\/t.co\\\\/bwKne0mZUh'\\\"}\"</td></tr><tr><td>\"{\\\"id_str\\\":696847681654685696,\\\"created_at\\\":\\\"2016-02-09 00:06:48\\\",\\\"text\\\":\\\"b'RT @TeslaMotors: Why Summon enhances your safety and convenience https:\\\\/\\\\/t.co\\\\/ZQZ5kQdSgD https:\\\\/\\\\/t.co\\\\/7tBoBQ1uBL'\\\"}\"</td></tr><tr><td>\"{\\\"id_str\\\":695666033676328960,\\\"created_at\\\":\\\"2016-02-05 17:51:21\\\",\\\"text\\\":\\\"b'My job moonlighting as a police officer in Brazil is no longer secret\\\\\\\\nhttps:\\\\/\\\\/t.co\\\\/QBTQYMpAF9'\\\"}\"</td></tr><tr><td>\"{\\\"id_str\\\":694802955170553861,\\\"created_at\\\":\\\"2016-02-03 08:41:47\\\",\\\"text\\\":\\\"b'Must be a slow news day if denying service to a super rude customer gets this much attention'\\\"}\"</td></tr><tr><td>\"{\\\"id_str\\\":720504138451283968,\\\"created_at\\\":\\\"2016-04-14 06:49:07\\\",\\\"text\\\":\\\"b'Great video history of Falcon 9 by Kinematic https:\\\\/\\\\/t.co\\\\/EeGPVW7kq2'\\\"}\"</td></tr><tr><td>\"{\\\"id_str\\\":719780850338955265,\\\"created_at\\\":\\\"2016-04-12 06:55:02\\\",\\\"text\\\":\\\"b'RT @SpaceX: Falcon 9 rocket back at port https:\\\\/\\\\/t.co\\\\/ysO9Q4vBXx https:\\\\/\\\\/t.co\\\\/1XKazWK3Xp'\\\"}\"</td></tr><tr><td>\"{\\\"id_str\\\":719584703196504064,\\\"created_at\\\":\\\"2016-04-11 17:55:37\\\",\\\"text\\\":\\\"b'@lonelysandwich needs latest update'\\\"}\"</td></tr><tr><td>\"{\\\"id_str\\\":719571133389938688,\\\"created_at\\\":\\\"2016-04-11 17:01:41\\\",\\\"text\\\":\\\"b'Activate autopilot 4X in quick succession for psychedelic cowbell road. And, yes, we are adding more cowbell soon.'\\\"}\"</td></tr><tr><td>\"{\\\"id_str\\\":719429837157347328,\\\"created_at\\\":\\\"2016-04-11 07:40:14\\\",\\\"text\\\":\\\"b\\\\\\\"@drew @SpaceX Not from us, but it's awesome\\\\\\\"\\\"}\"</td></tr><tr><td>\"{\\\"id_str\\\":718982116667600896,\\\"created_at\\\":\\\"2016-04-10 02:01:09\\\",\\\"text\\\":\\\"b'@thelonelyisland Well, I thought TLI might be upset about using their material without permission. Apparently not :)'\\\"}\"</td></tr><tr><td>\"{\\\"id_str\\\":718905750374916096,\\\"created_at\\\":\\\"2016-04-09 20:57:42\\\",\\\"text\\\":\\\"b'RT @SpaceX: More launch and landing photos here https:\\\\/\\\\/t.co\\\\/vn4S8bV3x3 https:\\\\/\\\\/t.co\\\\/PvlU50ZJvh'\\\"}\"</td></tr><tr><td>\"{\\\"id_str\\\":718865990373625857,\\\"created_at\\\":\\\"2016-04-09 18:19:42\\\",\\\"text\\\":\\\"b'@TheHackersNews @SpaceX Thanks'\\\"}\"</td></tr><tr><td>\"{\\\"id_str\\\":718686042434342912,\\\"created_at\\\":\\\"2016-04-09 06:24:39\\\",\\\"text\\\":\\\"b'@rjcc yes'\\\"}\"</td></tr><tr><td>\"{\\\"id_str\\\":718682216876802048,\\\"created_at\\\":\\\"2016-04-09 06:09:27\\\",\\\"text\\\":\\\"b'RT @SpaceX: 4K footage from chase plane https:\\\\/\\\\/t.co\\\\/ZtdZHadUos'\\\"}\"</td></tr><tr><td>\"{\\\"id_str\\\":777027622924681216,\\\"created_at\\\":\\\"2016-09-17 06:13:16\\\",\\\"text\\\":\\\"b\\\\\\\"@JonasPolsky @schellgames that's a great one\\\\\\\"\\\"}\"</td></tr><tr><td>\"{\\\"id_str\\\":776971939277438976,\\\"created_at\\\":\\\"2016-09-17 02:32:00\\\",\\\"text\\\":\\\"b'@andyzalk sounds like the right name for the rocket booster'\\\"}\"</td></tr><tr><td>\"{\\\"id_str\\\":776960194852958208,\\\"created_at\\\":\\\"2016-09-17 01:45:20\\\",\\\"text\\\":\\\"b'@LarryMasters778 That is my favorite fictional spaceship. Powered by improbability!'\\\"}\"</td></tr><tr><td>\"{\\\"id_str\\\":776959933120000000,\\\"created_at\\\":\\\"2016-09-17 01:44:17\\\",\\\"text\\\":\\\"b'@TheMikeBartley yeah!'\\\"}\"</td></tr><tr><td>\"{\\\"id_str\\\":776959734104469504,\\\"created_at\\\":\\\"2016-09-17 01:43:30\\\",\\\"text\\\":\\\"b\\\\\\\"Maybe Ultimate Spaceship, Version 2? Mostly because it is not the ultimate and there isn't a version 1.\\\\\\\"\\\"}\"</td></tr><tr><td>\"{\\\"id_str\\\":776957948928991232,\\\"created_at\\\":\\\"2016-09-17 01:36:24\\\",\\\"text\\\":\\\"b'I love the suggestions!'\\\"}\"</td></tr><tr><td>\"{\\\"id_str\\\":776956202936782850,\\\"created_at\\\":\\\"2016-09-17 01:29:28\\\",\\\"text\\\":\\\"b'@kzmakino sounds about right'\\\"}\"</td></tr><tr><td>\"{\\\"id_str\\\":776939304140414976,\\\"created_at\\\":\\\"2016-09-17 00:22:19\\\",\\\"text\\\":\\\"b'Turns out MCT can go well beyond Mars, so will need a new name\\\\\\\\xe2\\\\\\\\x80\\\\\\\\xa6'\\\"}\"</td></tr><tr><td>\"{\\\"id_str\\\":776896014905061376,\\\"created_at\\\":\\\"2016-09-16 21:30:18\\\",\\\"text\\\":\\\"b'@asunshinegreene yes'\\\"}\"</td></tr><tr><td>\"{\\\"id_str\\\":776827475925934081,\\\"created_at\\\":\\\"2016-09-16 16:57:57\\\",\\\"text\\\":\\\"b\\\\\\\"@danielringdahl @P100D won't affect performance\\\\\\\"\\\"}\"</td></tr></tbody></table></div>"
      ]
     },
     "metadata": {
      "application/vnd.databricks.v1+output": {
       "addedWidgets": {},
       "aggData": [],
       "aggError": "",
       "aggOverflow": false,
       "aggSchema": [],
       "aggSeriesLimitReached": false,
       "aggType": "",
       "arguments": {},
       "columnCustomDisplayInfos": {},
       "data": [
        [
         "\"{\\\"id_str\\\":601665000948649984,\\\"created_at\\\":\\\"2015-05-22 08:24:49\\\",\\\"text\\\":\\\"b'Another good riddle: drill a hole thru a sphere such that the height of what remains of the sphere is 10cm. What is its remaining volume?'\\\"}\""
        ],
        [
         "\"{\\\"id_str\\\":601578147113529344,\\\"created_at\\\":\\\"2015-05-22 02:39:41\\\",\\\"text\\\":\\\"b'Astronomer Royal Martin Rees: How soon will robots take over the world? - via @Telegraph http:\\\\/\\\\/t.co\\\\/DStxgM0S8F'\\\"}\""
        ],
        [
         "\"{\\\"id_str\\\":601501265332477952,\\\"created_at\\\":\\\"2015-05-21 21:34:11\\\",\\\"text\\\":\\\"b'RT @SpaceX: Cargo is offloaded and spacecraft is powered down. #Dragon back in its nest after about 5 weeks at the @Space_Station http:\\\\/\\\\/t.\\\\\\\\xe2\\\\\\\\x80\\\\\\\\xa6'\\\"}\""
        ],
        [
         "\"{\\\"id_str\\\":600784025335136256,\\\"created_at\\\":\\\"2015-05-19 22:04:08\\\",\\\"text\\\":\\\"b'This is not the full Gigafactory, it is just the pilot plant (1\\\\/4 size) https:\\\\/\\\\/t.co\\\\/gz2EmJkYtm'\\\"}\""
        ],
        [
         "\"{\\\"id_str\\\":600549508796190720,\\\"created_at\\\":\\\"2015-05-19 06:32:15\\\",\\\"text\\\":\\\"b'Fossil fuels subsidised by $10m a minute, says IMF  http:\\\\/\\\\/t.co\\\\/c4nsZjXc32'\\\"}\""
        ],
        [
         "\"{\\\"id_str\\\":599964926992486401,\\\"created_at\\\":\\\"2015-05-17 15:49:20\\\",\\\"text\\\":\\\"b'RT @johngreen: My brilliant brother has a message for you, future dead person. https:\\\\/\\\\/t.co\\\\/kHy5nRuXxY'\\\"}\""
        ],
        [
         "\"{\\\"id_str\\\":599391754786181122,\\\"created_at\\\":\\\"2015-05-16 01:51:45\\\",\\\"text\\\":\\\"b'RT @SpaceX: Tired of the same old travel destinations? Discover the wonder of Mars \\\\\\\\nhttp:\\\\/\\\\/t.co\\\\/KpluQw4cow http:\\\\/\\\\/t.co\\\\/vD9oLSuY5r'\\\"}\""
        ],
        [
         "\"{\\\"id_str\\\":599391737094635520,\\\"created_at\\\":\\\"2015-05-16 01:51:40\\\",\\\"text\\\":\\\"b'RT @SpaceX: Adventure awaits! Explore Mars\\\\\\\\xe2\\\\\\\\x80\\\\\\\\x99 ultimate vacation destinations \\\\\\\\nhttp:\\\\/\\\\/t.co\\\\/KpluQw4cow http:\\\\/\\\\/t.co\\\\/kptj27x1LD'\\\"}\""
        ],
        [
         "\"{\\\"id_str\\\":598232495537016832,\\\"created_at\\\":\\\"2015-05-12 21:05:16\\\",\\\"text\\\":\\\"b'@jankenbrandt Hi Julie!'\\\"}\""
        ],
        [
         "\"{\\\"id_str\\\":598174400404262912,\\\"created_at\\\":\\\"2015-05-12 17:14:25\\\",\\\"text\\\":\\\"b'RT @TeslaMotors: Agreed. @FTC affirms States to allow consumers to choose how they buy their cars. #Tesla #Michigan http:\\\\/\\\\/t.co\\\\/fT1JHjMpzg'\\\"}\""
        ],
        [
         "\"{\\\"id_str\\\":799049461515198464,\\\"created_at\\\":\\\"2016-11-17 00:40:11\\\",\\\"text\\\":\\\"b\\\\\\\"RT @tsrandall: Tesla's new Easter egg makes the world's fastest car even faster https:\\\\/\\\\/t.co\\\\/fmQguxYCHM https:\\\\/\\\\/t.co\\\\/m24jqdTJzF\\\\\\\"\\\"}\""
        ],
        [
         "\"{\\\"id_str\\\":798984693844541440,\\\"created_at\\\":\\\"2016-11-16 20:22:50\\\",\\\"text\\\":\\\"b'@ArminKeyani All P100D vehicles produced to date, as well as new. This is purely a software optimization.'\\\"}\""
        ],
        [
         "\"{\\\"id_str\\\":798984120336465920,\\\"created_at\\\":\\\"2016-11-16 20:20:33\\\",\\\"text\\\":\\\"b'Model X numbers should also improve by 0.1 sec on 0 to 60 and 1\\\\/4 mile'\\\"}\""
        ],
        [
         "\"{\\\"id_str\\\":798980894543343616,\\\"created_at\\\":\\\"2016-11-16 20:07:44\\\",\\\"text\\\":\\\"b'Looks like the Model S P100D Easter egg will allow it to do 0 to 60 mph in 2.4 sec and a 10.6 sec 1\\\\/4 mile via software update next month'\\\"}\""
        ],
        [
         "\"{\\\"id_str\\\":798950716450574336,\\\"created_at\\\":\\\"2016-11-16 18:07:49\\\",\\\"text\\\":\\\"b\\\\\\\"@AustenAllred Wow, thanks. We won't let you down.\\\\\\\"\\\"}\""
        ],
        [
         "\"{\\\"id_str\\\":798886670468644865,\\\"created_at\\\":\\\"2016-11-16 13:53:19\\\",\\\"text\\\":\\\"b'@ID_AA_Carmack we could enable that, although the cameras use grey, grey, grey, red detection, so it would look a little greyish red :)'\\\"}\""
        ],
        [
         "\"{\\\"id_str\\\":798768530254491648,\\\"created_at\\\":\\\"2016-11-16 06:03:52\\\",\\\"text\\\":\\\"b'RT @NatGeo: Watch: When humans live on Mars, what exactly will they call home? \\\\\\\\nhttps:\\\\/\\\\/t.co\\\\/QlJBuB6FX2 #CountdownToMars'\\\"}\""
        ],
        [
         "\"{\\\"id_str\\\":798768113651040256,\\\"created_at\\\":\\\"2016-11-16 06:02:13\\\",\\\"text\\\":\\\"b'RT @RealRonHoward: MARS airs tonight on the @NatGeo   Hope you get to watch it.  https:\\\\/\\\\/t.co\\\\/7ObsMhuSnU'\\\"}\""
        ],
        [
         "\"{\\\"id_str\\\":798370472832352256,\\\"created_at\\\":\\\"2016-11-15 03:42:08\\\",\\\"text\\\":\\\"b'Love you too!\\\\\\\\nhttps:\\\\/\\\\/t.co\\\\/BlDDQ0oJmg'\\\"}\""
        ],
        [
         "\"{\\\"id_str\\\":798364751428349952,\\\"created_at\\\":\\\"2016-11-15 03:19:24\\\",\\\"text\\\":\\\"b'RT @NASA: #Mars is hard, but it\\\\\\\\xe2\\\\\\\\x80\\\\\\\\x99s worth the risks to extend humanity\\\\\\\\xe2\\\\\\\\x80\\\\\\\\x99s frontier beyond Earth. Learn about our neighbor planet: https:\\\\/\\\\/t.co\\\\\\\\xe2\\\\\\\\x80\\\\\\\\xa6'\\\"}\""
        ],
        [
         "\"{\\\"id_str\\\":457190623640969216,\\\"created_at\\\":\\\"2014-04-18 16:15:13\\\",\\\"text\\\":\\\"b'Heavy seas in Atlantic preventing our recovery ship from being on station. Maybe they can help? http:\\\\/\\\\/t.co\\\\/9zZKAqPh6H'\\\"}\""
        ],
        [
         "\"{\\\"id_str\\\":457188968627310592,\\\"created_at\\\":\\\"2014-04-18 16:08:38\\\",\\\"text\\\":\\\"b'This is 1st ever orbital rocket launch w landing legs. Will attempt leg deploy &amp; soft landing out to sea.'\\\"}\""
        ],
        [
         "\"{\\\"id_str\\\":457181362307350529,\\\"created_at\\\":\\\"2014-04-18 15:38:25\\\",\\\"text\\\":\\\"b'Launch to the Space Station in just under three hours if weather holds http:\\\\/\\\\/t.co\\\\/aBIV4EWOS2'\\\"}\""
        ],
        [
         "\"{\\\"id_str\\\":456914811461197824,\\\"created_at\\\":\\\"2014-04-17 21:59:14\\\",\\\"text\\\":\\\"b'Honored that @NASA would entrust @SpaceX with the Apollo 11 (first moon landing) launch pad http:\\\\/\\\\/t.co\\\\/LmqxRwsKFW'\\\"}\""
        ],
        [
         "\"{\\\"id_str\\\":454005116249440257,\\\"created_at\\\":\\\"2014-04-09 21:17:09\\\",\\\"text\\\":\\\"b'RT @TeslaMotors: When life gives you lemons\\\\\\\\xe2\\\\\\\\x80\\\\\\\\xa6 http:\\\\/\\\\/t.co\\\\/1TrjvPvh2K'\\\"}\""
        ],
        [
         "\"{\\\"id_str\\\":453574051487686657,\\\"created_at\\\":\\\"2014-04-08 16:44:15\\\",\\\"text\\\":\\\"b\\\\\\\"@elonmusk Also, breakfast at Tesla is self-serve cereal (no distinction for execs) and the person mentioned isn't actually an employee\\\\\\\"\\\"}\""
        ],
        [
         "\"{\\\"id_str\\\":453571298677907456,\\\"created_at\\\":\\\"2014-04-08 16:33:19\\\",\\\"text\\\":\\\"b'Leasing a Model S takes 5 mins online, no signatures &amp; one tap on car center screen to accept when delivered'\\\"}\""
        ],
        [
         "\"{\\\"id_str\\\":453555454187012097,\\\"created_at\\\":\\\"2014-04-08 15:30:21\\\",\\\"text\\\":\\\"b'Tesla US business leasing program went live today http:\\\\/\\\\/t.co\\\\/wCH0GLAEAJ'\\\"}\""
        ],
        [
         "\"{\\\"id_str\\\":453206036787523585,\\\"created_at\\\":\\\"2014-04-07 16:21:53\\\",\\\"text\\\":\\\"b\\\\\\\"@AKAbrahamson @itsDanielSuarez Yeah, that's worth a read\\\\\\\"\\\"}\""
        ],
        [
         "\"{\\\"id_str\\\":453204415458344960,\\\"created_at\\\":\\\"2014-04-07 16:15:27\\\",\\\"text\\\":\\\"b'What could possibly go wrong? https:\\\\/\\\\/t.co\\\\/ZhUrllHG95'\\\"}\""
        ],
        [
         "\"{\\\"id_str\\\":758003098816286720,\\\"created_at\\\":\\\"2016-07-26 18:16:36\\\",\\\"text\\\":\\\"b'Via @NPR: Sun-Powered Airplane Completes Historic Trip Around The World https:\\\\/\\\\/t.co\\\\/AKe5VRaY5o'\\\"}\""
        ],
        [
         "\"{\\\"id_str\\\":757600711714701312,\\\"created_at\\\":\\\"2016-07-25 15:37:39\\\",\\\"text\\\":\\\"b'@ID_AA_Carmack Maybe as a future optimization. Would only matter if it was extremely big.'\\\"}\""
        ],
        [
         "\"{\\\"id_str\\\":756664069646487554,\\\"created_at\\\":\\\"2016-07-23 01:35:46\\\",\\\"text\\\":\\\"b\\\\\\\"@vicentes as long as I'm alive\\\\\\\"\\\"}\""
        ],
        [
         "\"{\\\"id_str\\\":756663746764742656,\\\"created_at\\\":\\\"2016-07-23 01:34:30\\\",\\\"text\\\":\\\"b'https:\\\\/\\\\/t.co\\\\/Kgkz1Z3FwJ'\\\"}\""
        ],
        [
         "\"{\\\"id_str\\\":756365671571726336,\\\"created_at\\\":\\\"2016-07-22 05:50:03\\\",\\\"text\\\":\\\"b'Looking forward to the Gigafactory opening party on Friday next week. The scale blows me away every time I see it.'\\\"}\""
        ],
        [
         "\"{\\\"id_str\\\":756004029239472132,\\\"created_at\\\":\\\"2016-07-21 05:53:01\\\",\\\"text\\\":\\\"b'Autopilot prevents serious injury or death of a pedestrian in NY (owner anecdote confirmed by vehicle logs) https:\\\\/\\\\/t.co\\\\/NceuqckqCK'\\\"}\""
        ],
        [
         "\"{\\\"id_str\\\":755990352511705088,\\\"created_at\\\":\\\"2016-07-21 04:58:40\\\",\\\"text\\\":\\\"b'@danahull Jerome is driving Tesla Semi &amp; doing a great job with his team. At Daimler, he led their most successful semi truck program ever.'\\\"}\""
        ],
        [
         "\"{\\\"id_str\\\":755989215976882176,\\\"created_at\\\":\\\"2016-07-21 04:54:09\\\",\\\"text\\\":\\\"b\\\\\\\"@danahull It's inspired by some of the California Custom VW combi design art\\\\\\\"\\\"}\""
        ],
        [
         "\"{\\\"id_str\\\":755940191571808257,\\\"created_at\\\":\\\"2016-07-21 01:39:21\\\",\\\"text\\\":\\\"b'@MRamseyWSJ Great game. Whole Fallout series is amazing.'\\\"}\""
        ],
        [
         "\"{\\\"id_str\\\":755931999487991810,\\\"created_at\\\":\\\"2016-07-21 01:06:47\\\",\\\"text\\\":\\\"b'@katiefehren Both should have been done under the same corporate umbrella from the beginning'\\\"}\""
        ],
        [
         "\"{\\\"id_str\\\":744552907563991040,\\\"created_at\\\":\\\"2016-06-19 15:30:20\\\",\\\"text\\\":\\\"b'@KatelynBrock Drive units and battery are sealed'\\\"}\""
        ],
        [
         "\"{\\\"id_str\\\":744552621072064512,\\\"created_at\\\":\\\"2016-06-19 15:29:12\\\",\\\"text\\\":\\\"b'If curious abt TSWLM car, am still planning to do a sports sub car that can drive on roads. Just a side project. Limited market potential :)'\\\"}\""
        ],
        [
         "\"{\\\"id_str\\\":744551674082136066,\\\"created_at\\\":\\\"2016-06-19 15:25:26\\\",\\\"text\\\":\\\"b\\\\\\\"We *def* don't recommended this, but Model S floats well enough to turn it into a boat for short periods of time. Thrust via wheel rotation.\\\\\\\"\\\"}\""
        ],
        [
         "\"{\\\"id_str\\\":744549842496655360,\\\"created_at\\\":\\\"2016-06-19 15:18:10\\\",\\\"text\\\":\\\"b'Tesla owner drives through a flooded tunnel &amp; out the other side \\\\\\\\nhttps:\\\\/\\\\/t.co\\\\/RmPxdZShhq'\\\"}\""
        ],
        [
         "\"{\\\"id_str\\\":743603466631733248,\\\"created_at\\\":\\\"2016-06-17 00:37:36\\\",\\\"text\\\":\\\"b\\\\\\\"As mentioned at the beginning of the year, I'm expecting ~70% success rate on landings for the year. 2016 is the year of experimentation.\\\\\\\"\\\"}\""
        ],
        [
         "\"{\\\"id_str\\\":743602894226653184,\\\"created_at\\\":\\\"2016-06-17 00:35:20\\\",\\\"text\\\":\\\"b'Looks like early liquid oxygen depletion caused engine shutdown just above the deck https:\\\\/\\\\/t.co\\\\/Sa6uCkpknY'\\\"}\""
        ],
        [
         "\"{\\\"id_str\\\":743602229307805696,\\\"created_at\\\":\\\"2016-06-17 00:32:41\\\",\\\"text\\\":\\\"b'Turns out the landing was not as fast we thought, but still hard enough to destroy the primary airframe and accordion the engines'\\\"}\""
        ],
        [
         "\"{\\\"id_str\\\":743600755739754497,\\\"created_at\\\":\\\"2016-06-17 00:26:50\\\",\\\"text\\\":\\\"b'@fucktyler Thanks Tyler'\\\"}\""
        ],
        [
         "\"{\\\"id_str\\\":743102502225076227,\\\"created_at\\\":\\\"2016-06-15 15:26:57\\\",\\\"text\\\":\\\"b'Landing video will be posted when we gain access to cameras on the droneship later today. Maybe hardest impact to date. Droneship still ok.'\\\"}\""
        ],
        [
         "\"{\\\"id_str\\\":743099301174247424,\\\"created_at\\\":\\\"2016-06-15 15:14:14\\\",\\\"text\\\":\\\"b'Upgrades underway to enable rocket to compensate for a thrust shortfall on one of the three landing engines. Probably get there end of year.'\\\"}\""
        ],
        [
         "\"{\\\"id_str\\\":836442868180905984,\\\"created_at\\\":\\\"2017-02-28 05:08:14\\\",\\\"text\\\":\\\"b\\\\\\\"@jamesatbuzz This is not true. TM works for a lot of people and that's great, but I've maybe done it 7 or 8 times ever.\\\\\\\"\\\"}\""
        ],
        [
         "\"{\\\"id_str\\\":836328719165763584,\\\"created_at\\\":\\\"2017-02-27 21:34:39\\\",\\\"text\\\":\\\"b'Fly me to the moon ... Ok\\\\\\\\nhttps:\\\\/\\\\/t.co\\\\/6QT8m5SHwn'\\\"}\""
        ],
        [
         "\"{\\\"id_str\\\":836020571490021376,\\\"created_at\\\":\\\"2017-02-27 01:10:11\\\",\\\"text\\\":\\\"b'SpaceX announcement tomorrow at 1pm PST'\\\"}\""
        ],
        [
         "\"{\\\"id_str\\\":835361919775100929,\\\"created_at\\\":\\\"2017-02-25 05:32:56\\\",\\\"text\\\":\\\"b'@MacTechGenius of course'\\\"}\""
        ],
        [
         "\"{\\\"id_str\\\":835351081945350145,\\\"created_at\\\":\\\"2017-02-25 04:49:52\\\",\\\"text\\\":\\\"b'@DueDiamond maybe one of those too'\\\"}\""
        ],
        [
         "\"{\\\"id_str\\\":835350234049863680,\\\"created_at\\\":\\\"2017-02-25 04:46:30\\\",\\\"text\\\":\\\"b'Roller coasters are awesome'\\\"}\""
        ],
        [
         "\"{\\\"id_str\\\":835202594968477696,\\\"created_at\\\":\\\"2017-02-24 18:59:50\\\",\\\"text\\\":\\\"b'@johnpaulbrewer Something on a tristate border might work. Gigafactory plus nearby supporting supply chain needs a very large workforce.'\\\"}\""
        ],
        [
         "\"{\\\"id_str\\\":835187859158020097,\\\"created_at\\\":\\\"2017-02-24 18:01:17\\\",\\\"text\\\":\\\"b'@donbarbieri @GreenCarReports Good chance it will'\\\"}\""
        ],
        [
         "\"{\\\"id_str\\\":835187686151315456,\\\"created_at\\\":\\\"2017-02-24 18:00:36\\\",\\\"text\\\":\\\"b'@davidshepardson @BW @ATT @ToysRUs Exactly :)'\\\"}\""
        ],
        [
         "\"{\\\"id_str\\\":835185478512992256,\\\"created_at\\\":\\\"2017-02-24 17:51:49\\\",\\\"text\\\":\\\"b\\\\\\\"@meganmurp @ChrisFaile @BW I didn't pose for it (hopefully that's obvious) or want me on cover. Tunnel boring machine pic wd be way better\\\\\\\"\\\"}\""
        ],
        [
         "\"{\\\"id_str\\\":582581865682350080,\\\"created_at\\\":\\\"2015-03-30 16:35:15\\\",\\\"text\\\":\\\"b'Major new Tesla product line -- not a car -- will be unveiled at our Hawthorne Design Studio on Thurs 8pm, April 30'\\\"}\""
        ],
        [
         "\"{\\\"id_str\\\":581273207908388864,\\\"created_at\\\":\\\"2015-03-27 01:55:06\\\",\\\"text\\\":\\\"b\\\\\\\"RT @motherboard: Elon Musk says we shouldn't need an environmentally motivated reason to ditch fossil fuels:\\\\\\\\nhttp:\\\\/\\\\/t.co\\\\/kv0wVukbkx http:\\\\/\\\\/\\\\\\\\xe2\\\\\\\\x80\\\\\\\\xa6\\\\\\\"\\\"}\""
        ],
        [
         "\"{\\\"id_str\\\":580482462612135936,\\\"created_at\\\":\\\"2015-03-24 21:32:58\\\",\\\"text\\\":\\\"b'Right move is try both tunnels and flying cars. Otherwise, having 2D streets and 3D buildings means bad traffic forever.'\\\"}\""
        ],
        [
         "\"{\\\"id_str\\\":580480774115364864,\\\"created_at\\\":\\\"2015-03-24 21:26:16\\\",\\\"text\\\":\\\"b'Reasons I like tunnels: you still travel in 3D fast, but immune to weather, quiet and no risk cars fall on your head'\\\"}\""
        ],
        [
         "\"{\\\"id_str\\\":580479736721367041,\\\"created_at\\\":\\\"2015-03-24 21:22:08\\\",\\\"text\\\":\\\"b'Flying car pros: travel in 3D fast. Cons: risk of car falling on head much greater, noisy, grounded in bad weather'\\\"}\""
        ],
        [
         "\"{\\\"id_str\\\":580478678808850432,\\\"created_at\\\":\\\"2015-03-24 21:17:56\\\",\\\"text\\\":\\\"b\\\\\\\"Contrary to press reports, I'm not against flying cars. Just said it was important to consider both pros and cons.\\\\\\\"\\\"}\""
        ],
        [
         "\"{\\\"id_str\\\":580124996133097472,\\\"created_at\\\":\\\"2015-03-23 21:52:31\\\",\\\"text\\\":\\\"b'RT @StarTalkRadio: Tonight\\\\\\\\xe2\\\\\\\\x80\\\\\\\\x99s new podcast: Explore \\\\\\\\xe2\\\\\\\\x80\\\\\\\\x9cThe Future of Humanity with @ElonMusk\\\\\\\\xe2\\\\\\\\x80\\\\\\\\x9d and @neiltyson @BillNye @chucknicecomic: http:\\\\/\\\\/t\\\\\\\\xe2\\\\\\\\x80\\\\\\\\xa6'\\\"}\""
        ],
        [
         "\"{\\\"id_str\\\":580046907902439424,\\\"created_at\\\":\\\"2015-03-23 16:42:14\\\",\\\"text\\\":\\\"b\\\\\\\"Maybe it's wrong, but I really want to see mammoths\\\\\\\\nhttp:\\\\/\\\\/t.co\\\\/enhMu5HYqr\\\\\\\"\\\"}\""
        ],
        [
         "\"{\\\"id_str\\\":579861658337574912,\\\"created_at\\\":\\\"2015-03-23 04:26:07\\\",\\\"text\\\":\\\"b'Falcon 9 lifting off with 1.3 mmmillion pounds of force http:\\\\/\\\\/t.co\\\\/7ltlN2WYmx'\\\"}\""
        ],
        [
         "\"{\\\"id_str\\\":579504748014907393,\\\"created_at\\\":\\\"2015-03-22 04:47:53\\\",\\\"text\\\":\\\"b'Reading Look to Windward by Banks. He is an amazing writer. Pantheon level.'\\\"}\""
        ],
        [
         "\"{\\\"id_str\\\":639175789116833792,\\\"created_at\\\":\\\"2015-09-02 20:39:18\\\",\\\"text\\\":\\\"b'@ScottLucasNV Lithium deal is not exclusive &amp; has many contingencies. The press on this matter is unwarranted.'\\\"}\""
        ],
        [
         "\"{\\\"id_str\\\":639172302530215936,\\\"created_at\\\":\\\"2015-09-02 20:25:26\\\",\\\"text\\\":\\\"b'@elonmusk $35k price, unveil in March, preorders start then.'\\\"}\""
        ],
        [
         "\"{\\\"id_str\\\":639171519197777920,\\\"created_at\\\":\\\"2015-09-02 20:22:20\\\",\\\"text\\\":\\\"b'Model 3, our smaller and lower cost sedan will start production in about 2 years. Fully operational Gigafactory needed.'\\\"}\""
        ],
        [
         "\"{\\\"id_str\\\":639170376186990592,\\\"created_at\\\":\\\"2015-09-02 20:17:47\\\",\\\"text\\\":\\\"b'With same options, Model X is $5k more than an S due to greater size &amp; body complexity. Sig Series is fully loaded, hence high price.'\\\"}\""
        ],
        [
         "\"{\\\"id_str\\\":638962228700381184,\\\"created_at\\\":\\\"2015-09-02 06:30:41\\\",\\\"text\\\":\\\"b'RT @SpaceX: Pad 39A @NASAKennedy will be future home to @Commercial_Crew launches and Falcon Heavy missions http:\\\\/\\\\/t.co\\\\/ITebIXLzzb'\\\"}\""
        ],
        [
         "\"{\\\"id_str\\\":638900258232074240,\\\"created_at\\\":\\\"2015-09-02 02:24:26\\\",\\\"text\\\":\\\"b'RT @Oprah: Test driving my new Tesla with dealer Dan. Love it!! https:\\\\/\\\\/t.co\\\\/LHLroJ6Acl'\\\"}\""
        ],
        [
         "\"{\\\"id_str\\\":636918796494594048,\\\"created_at\\\":\\\"2015-08-27 15:10:49\\\",\\\"text\\\":\\\"b'RT @ConsumerReports: Breaking: Tesla P85D is the best car we\\\\\\\\xe2\\\\\\\\x80\\\\\\\\x99ve tested in 80 years of testing cars #carofthefuture http:\\\\/\\\\/t.co\\\\/mwDM9dAXj3 h\\\\\\\\xe2\\\\\\\\x80\\\\\\\\xa6'\\\"}\""
        ],
        [
         "\"{\\\"id_str\\\":636089783274463232,\\\"created_at\\\":\\\"2015-08-25 08:16:36\\\",\\\"text\\\":\\\"b'RT @BjornNyland: @TeslaMotors @elonmusk #P85D setting new world record in #hypermiling driving 728.7 km\\\\/452.8 mi on a single charge http:\\\\/\\\\/\\\\\\\\xe2\\\\\\\\x80\\\\\\\\xa6'\\\"}\""
        ],
        [
         "\"{\\\"id_str\\\":635215467959812096,\\\"created_at\\\":\\\"2015-08-22 22:22:23\\\",\\\"text\\\":\\\"b'@Forbes I appreciate the kind words in the article, but, judging by the picture mods, it looks your Photoshop bill was very high.'\\\"}\""
        ],
        [
         "\"{\\\"id_str\\\":635214915934928896,\\\"created_at\\\":\\\"2015-08-22 22:20:12\\\",\\\"text\\\":\\\"b'True, but achieving a long range affordable electric vehicle has always been our long-term goal. Due in late 2017! https:\\\\/\\\\/t.co\\\\/2OrIYdoojs'\\\"}\""
        ],
        [
         "\"{\\\"id_str\\\":789020841489018880,\\\"created_at\\\":\\\"2016-10-20 08:30:02\\\",\\\"text\\\":\\\"b'When searching for parking, the car reads the signs to see if it is allowed to park there, which is why it skipped the disabled spot'\\\"}\""
        ],
        [
         "\"{\\\"id_str\\\":789020178969276416,\\\"created_at\\\":\\\"2016-10-20 08:27:24\\\",\\\"text\\\":\\\"b'@Bret_with1t yes'\\\"}\""
        ],
        [
         "\"{\\\"id_str\\\":789020098145030144,\\\"created_at\\\":\\\"2016-10-20 08:27:05\\\",\\\"text\\\":\\\"b'@TeslaMotors 8 cameras, 12 ultrasonars and radar all flush mounted and body color. Beauty remains.'\\\"}\""
        ],
        [
         "\"{\\\"id_str\\\":789019145853513729,\\\"created_at\\\":\\\"2016-10-20 08:23:18\\\",\\\"text\\\":\\\"b'Tesla drives itself (no human input at all) thru urban streets to highway to streets, then finds a parking spot https:\\\\/\\\\/t.co\\\\/V2T7KGMPBo'\\\"}\""
        ],
        [
         "\"{\\\"id_str\\\":789008557341454336,\\\"created_at\\\":\\\"2016-10-20 07:41:13\\\",\\\"text\\\":\\\"b'@vicentes latest autonomous hardware allows for easy computer upgrade'\\\"}\""
        ],
        [
         "\"{\\\"id_str\\\":789007996038721536,\\\"created_at\\\":\\\"2016-10-20 07:38:59\\\",\\\"text\\\":\\\"b\\\\\\\"Should mention that retrofitting to full self-driving hardware is very difficult. Cost delta is more than buying a new car. Wish it weren't.\\\\\\\"\\\"}\""
        ],
        [
         "\"{\\\"id_str\\\":789004268296544256,\\\"created_at\\\":\\\"2016-10-20 07:24:11\\\",\\\"text\\\":\\\"b'@elonmusk Still working on the video. Fully autonomous drive demo only completed several hours ago.'\\\"}\""
        ],
        [
         "\"{\\\"id_str\\\":788973638665908224,\\\"created_at\\\":\\\"2016-10-20 05:22:28\\\",\\\"text\\\":\\\"b'@AlternateJones of course'\\\"}\""
        ],
        [
         "\"{\\\"id_str\\\":788955029138972674,\\\"created_at\\\":\\\"2016-10-20 04:08:31\\\",\\\"text\\\":\\\"b'Tesla expects to demonstrate self-driven cross-country trip next year https:\\\\/\\\\/t.co\\\\/YTxMUT3hWq via @WSJ'\\\"}\""
        ],
        [
         "\"{\\\"id_str\\\":788904960331161600,\\\"created_at\\\":\\\"2016-10-20 00:49:34\\\",\\\"text\\\":\\\"b'@FutureBoy @mashable true and underappreciated'\\\"}\""
        ],
        [
         "\"{\\\"id_str\\\":832979955092819968,\\\"created_at\\\":\\\"2017-02-18 15:47:51\\\",\\\"text\\\":\\\"b'@Zybbby Not obviously related to the (very tiny) helium leak, but also not out of the question'\\\"}\""
        ],
        [
         "\"{\\\"id_str\\\":832973218348625920,\\\"created_at\\\":\\\"2017-02-18 15:21:05\\\",\\\"text\\\":\\\"b\\\\\\\"If this is the only issue, flight would be fine, but need to make sure that it isn't symptomatic of a more significant upstream root cause\\\\\\\"\\\"}\""
        ],
        [
         "\"{\\\"id_str\\\":832970849791537152,\\\"created_at\\\":\\\"2017-02-18 15:11:41\\\",\\\"text\\\":\\\"b'All systems go, except the movement trace of an upper stage engine steering hydraulic piston was slightly odd. Standing down to investigate.'\\\"}\""
        ],
        [
         "\"{\\\"id_str\\\":832954058730115074,\\\"created_at\\\":\\\"2017-02-18 14:04:57\\\",\\\"text\\\":\\\"b'RT @SpaceX: 1 hour from launch of Falcon 9 &amp; Dragon to @Space_Station. Rocket &amp; weather are go. Launch at 10:01am ET, 15:01 UTC https:\\\\/\\\\/t.c\\\\\\\\xe2\\\\\\\\x80\\\\\\\\xa6'\\\"}\""
        ],
        [
         "\"{\\\"id_str\\\":832871068066942976,\\\"created_at\\\":\\\"2017-02-18 08:35:11\\\",\\\"text\\\":\\\"b'Counting down to the first SpaceX launch from the Apollo 11 launch pad tomorrow morning (webcast\\\\\\\\xe2\\\\\\\\x80\\\\\\\\xa6 https:\\\\/\\\\/t.co\\\\/upjTcmftte'\\\"}\""
        ],
        [
         "\"{\\\"id_str\\\":832869029580664833,\\\"created_at\\\":\\\"2017-02-18 08:27:05\\\",\\\"text\\\":\\\"b\\\\\\\"RT @NASA: Hear from experts at 5pm ET about the status of tomorrow's 10:01am ET @SpaceX cargo launch to @Space_Station: https:\\\\/\\\\/t.co\\\\/oJKHgK\\\\\\\\xe2\\\\\\\\x80\\\\\\\\xa6\\\\\\\"\\\"}\""
        ],
        [
         "\"{\\\"id_str\\\":832868838479851521,\\\"created_at\\\":\\\"2017-02-18 08:26:19\\\",\\\"text\\\":\\\"b\\\\\\\"spacex's photo https:\\\\/\\\\/t.co\\\\/ImEDAut3nI\\\\\\\"\\\"}\""
        ],
        [
         "\"{\\\"id_str\\\":832863988836814848,\\\"created_at\\\":\\\"2017-02-18 08:07:03\\\",\\\"text\\\":\\\"b'Provided Dragon 2 demo missions go well, SpaceX is highly confident of being able to fly US astronauts in 2018 https:\\\\/\\\\/t.co\\\\/usUto6QSi7'\\\"}\""
        ],
        [
         "\"{\\\"id_str\\\":832788691588296705,\\\"created_at\\\":\\\"2017-02-18 03:07:51\\\",\\\"text\\\":\\\"b'Looks like we are go for launch. Added an abort trigger at T-60 secs for pressure decay of upper stage helium spin start system.'\\\"}\""
        ],
        [
         "\"{\\\"id_str\\\":832647116816150530,\\\"created_at\\\":\\\"2017-02-17 17:45:17\\\",\\\"text\\\":\\\"b'Investigating a (very small) leak in the upper stage. If ok, will launch tomorrow. https:\\\\/\\\\/t.co\\\\/bQf97lywn4'\\\"}\""
        ],
        [
         "\"{\\\"id_str\\\":740540471081062401,\\\"created_at\\\":\\\"2016-06-08 13:46:21\\\",\\\"text\\\":\\\"b'@danahull yes'\\\"}\""
        ],
        [
         "\"{\\\"id_str\\\":740387141591535616,\\\"created_at\\\":\\\"2016-06-08 03:37:04\\\",\\\"text\\\":\\\"b'S and X cells are also Panasonic'\\\"}\""
        ],
        [
         "\"{\\\"id_str\\\":740383850820296707,\\\"created_at\\\":\\\"2016-06-08 03:24:00\\\",\\\"text\\\":\\\"b'Would like to clarify that Tesla is working exclusively with Panasonic for Model 3 cells. News articles claiming otherwise are incorrect.'\\\"}\""
        ],
        [
         "\"{\\\"id_str\\\":740296489532948480,\\\"created_at\\\":\\\"2016-06-07 21:36:51\\\",\\\"text\\\":\\\"b'Fourth rocket arrives in the hangar. Aiming for first reflight in Sept\\\\/Oct. https:\\\\/\\\\/t.co\\\\/TqW8d6Cc3U'\\\"}\""
        ],
        [
         "\"{\\\"id_str\\\":740259255417208832,\\\"created_at\\\":\\\"2016-06-07 19:08:54\\\",\\\"text\\\":\\\"b\\\\\\\"RT @Kotaku_UK: Elite's AI created super weapons and started hunting players. Skynet is here https:\\\\/\\\\/t.co\\\\/FPsKzaGNBq https:\\\\/\\\\/t.co\\\\/rOeoI53EYr\\\\\\\"\\\"}\""
        ],
        [
         "\"{\\\"id_str\\\":739631614100004864,\\\"created_at\\\":\\\"2016-06-06 01:34:53\\\",\\\"text\\\":\\\"b'@tedismeiamted @PlayOverwatch @Blizzard_Ent PC, of course'\\\"}\""
        ],
        [
         "\"{\\\"id_str\\\":739594006762393600,\\\"created_at\\\":\\\"2016-06-05 23:05:26\\\",\\\"text\\\":\\\"b'Highly recommend @PlayOverwatch by the good people of @Blizzard_Ent if you like ultrafast team FPS action\\\\\\\\nhttps:\\\\/\\\\/t.co\\\\/GAIamvAPnn'\\\"}\""
        ],
        [
         "\"{\\\"id_str\\\":739573737331298306,\\\"created_at\\\":\\\"2016-06-05 21:44:54\\\",\\\"text\\\":\\\"b'RT @SpaceX: Next launch targeting June 14 from Cape Canaveral \\\\\\\\xe2\\\\\\\\x80\\\\\\\\x93 45 minute launch window opens at 10:32am ET, 2:32pm UTC https:\\\\/\\\\/t.co\\\\/o8m9bI\\\\\\\\xe2\\\\\\\\x80\\\\\\\\xa6'\\\"}\""
        ],
        [
         "\"{\\\"id_str\\\":739557011554066432,\\\"created_at\\\":\\\"2016-06-05 20:38:26\\\",\\\"text\\\":\\\"b'Trippy https:\\\\/\\\\/t.co\\\\/DtMD5AIRiq'\\\"}\""
        ],
        [
         "\"{\\\"id_str\\\":739509168722186241,\\\"created_at\\\":\\\"2016-06-05 17:28:19\\\",\\\"text\\\":\\\"b'@ahess247 @Recode I love Douglas Adams! My favorite spaceship ever is in HHGTTG.'\\\"}\""
        ],
        [
         "\"{\\\"id_str\\\":752405437199192064,\\\"created_at\\\":\\\"2016-07-11 07:33:29\\\",\\\"text\\\":\\\"b\\\\\\\"RT @Eddy_Jahn: @spacex @elonmusk Not sure if you've seen this, but great video of your progress #SpaceX 4 years in 4 minutes. https:\\\\/\\\\/t.co\\\\/\\\\\\\\xe2\\\\\\\\x80\\\\\\\\xa6\\\\\\\"\\\"}\""
        ],
        [
         "\"{\\\"id_str\\\":752272158517112835,\\\"created_at\\\":\\\"2016-07-10 22:43:53\\\",\\\"text\\\":\\\"b'Something like that https:\\\\/\\\\/t.co\\\\/aufFuB5VXo'\\\"}\""
        ],
        [
         "\"{\\\"id_str\\\":752270839458869249,\\\"created_at\\\":\\\"2016-07-10 22:38:39\\\",\\\"text\\\":\\\"b'@nickg_uk already taken care of'\\\"}\""
        ],
        [
         "\"{\\\"id_str\\\":752218264499949568,\\\"created_at\\\":\\\"2016-07-10 19:09:44\\\",\\\"text\\\":\\\"b'Kinda. Creating a seamlessly integrated Tesla battery &amp; solar power product that looks beautiful is the reason https:\\\\/\\\\/t.co\\\\/4z6MzBB9p2'\\\"}\""
        ],
        [
         "\"{\\\"id_str\\\":752204733339701249,\\\"created_at\\\":\\\"2016-07-10 18:15:58\\\",\\\"text\\\":\\\"b'@SwiftOnSecurity I like your tweets!'\\\"}\""
        ],
        [
         "\"{\\\"id_str\\\":752204607753842688,\\\"created_at\\\":\\\"2016-07-10 18:15:28\\\",\\\"text\\\":\\\"b'@SwiftOnSecurity Tricky in 140 chars, but: 1B needed for min statistical sample size. More software mods and data may be needed beyond that.'\\\"}\""
        ],
        [
         "\"{\\\"id_str\\\":752203559043641344,\\\"created_at\\\":\\\"2016-07-10 18:11:18\\\",\\\"text\\\":\\\"b'Blog on Autopilot by @PeterDiamandis https:\\\\/\\\\/t.co\\\\/LR5zuw3J9X'\\\"}\""
        ],
        [
         "\"{\\\"id_str\\\":752201456980078593,\\\"created_at\\\":\\\"2016-07-10 18:02:57\\\",\\\"text\\\":\\\"b'@bolayer @SwiftOnSecurity US is ~11 deaths per billion miles. WW is 17 deaths per billion. Autopilot already much better than either so far.'\\\"}\""
        ],
        [
         "\"{\\\"id_str\\\":752199681166315521,\\\"created_at\\\":\\\"2016-07-10 17:55:53\\\",\\\"text\\\":\\\"b\\\\\\\"@c4757p @SwiftOnSecurity Unless we get there and find it isn't enough. Just won't be before 1B.\\\\\\\"\\\"}\""
        ],
        [
         "\"{\\\"id_str\\\":752198648469917696,\\\"created_at\\\":\\\"2016-07-10 17:51:47\\\",\\\"text\\\":\\\"b'@FantaAIex It is extensively tested in the lab and in the Tesla test fleet. However, there is no substitute for real world experience.'\\\"}\""
        ],
        [
         "\"{\\\"id_str\\\":738998975118737408,\\\"created_at\\\":\\\"2016-06-04 07:41:00\\\",\\\"text\\\":\\\"b\\\\\\\"At this point, I'm really running out of crazy things to say. Any suggestions?\\\\\\\\nhttps:\\\\/\\\\/t.co\\\\/dGVJBcSZn2\\\\\\\"\\\"}\""
        ],
        [
         "\"{\\\"id_str\\\":738856423656808448,\\\"created_at\\\":\\\"2016-06-03 22:14:33\\\",\\\"text\\\":\\\"b'@lessteza control of super powerful AI by a small number of humans is the most proximate concern'\\\"}\""
        ],
        [
         "\"{\\\"id_str\\\":738805691528318976,\\\"created_at\\\":\\\"2016-06-03 18:52:57\\\",\\\"text\\\":\\\"b'Just heard that Norway will ban new sales of fuel cars in 2025. What an amazingly awesome country. You guys rock!! https:\\\\/\\\\/t.co\\\\/uAXuBkDYuR'\\\"}\""
        ],
        [
         "\"{\\\"id_str\\\":738775567055523841,\\\"created_at\\\":\\\"2016-06-03 16:53:15\\\",\\\"text\\\":\\\"b'Yay, baby made it home!\\\\\\\\nhttps:\\\\/\\\\/t.co\\\\/KYyUX9zNYD'\\\"}\""
        ],
        [
         "\"{\\\"id_str\\\":738544730573672448,\\\"created_at\\\":\\\"2016-06-03 01:35:59\\\",\\\"text\\\":\\\"b\\\\\\\"RT @SpaceX: It's a bird, it's a plane... https:\\\\/\\\\/t.co\\\\/hdpkXTvLm3\\\\\\\"\\\"}\""
        ],
        [
         "\"{\\\"id_str\\\":738471747540783104,\\\"created_at\\\":\\\"2016-06-02 20:45:59\\\",\\\"text\\\":\\\"b'@mattyteare @karaswisher @waltmossberg @YouTube autosteering chutes will be added soon'\\\"}\""
        ],
        [
         "\"{\\\"id_str\\\":738470842695176192,\\\"created_at\\\":\\\"2016-06-02 20:42:23\\\",\\\"text\\\":\\\"b'Recode interview with @karaswisher and @waltmossberg https:\\\\/\\\\/t.co\\\\/BDqQ7RreV2 via @YouTube'\\\"}\""
        ],
        [
         "\"{\\\"id_str\\\":738191872502423552,\\\"created_at\\\":\\\"2016-06-02 02:13:52\\\",\\\"text\\\":\\\"b\\\\\\\"Supercharger policy explained well by @LATimes:\\\\\\\\n\\\\\\\\nhttps:\\\\/\\\\/t.co\\\\/F0CInMW1yU\\\\\\\\n\\\\\\\\nWill post detailed description soon. I think it's a good balance.\\\\\\\"\\\"}\""
        ],
        [
         "\"{\\\"id_str\\\":737859967450021889,\\\"created_at\\\":\\\"2016-06-01 04:14:59\\\",\\\"text\\\":\\\"b'Good summary of Tesla annual meeting by @katiefehren https:\\\\/\\\\/t.co\\\\/G3enS77hJ7'\\\"}\""
        ],
        [
         "\"{\\\"id_str\\\":737102578828206080,\\\"created_at\\\":\\\"2016-05-30 02:05:24\\\",\\\"text\\\":\\\"b'@iwanttobeanurse Sorry to hear that. Will take care of this &amp; investigate to see if issues you encountered are systemic.'\\\"}\""
        ],
        [
         "\"{\\\"id_str\\\":330877283793530880,\\\"created_at\\\":\\\"2013-05-05 02:51:06\\\",\\\"text\\\":\\\"b'@DouglasBullard @teslamotors Most people have never heard of Nikola Tesla. That will hopefully change over time.'\\\"}\""
        ],
        [
         "\"{\\\"id_str\\\":330869907640184832,\\\"created_at\\\":\\\"2013-05-05 02:21:47\\\",\\\"text\\\":\\\"b'@flyguynscc @teslamotors yes, that has been the goal from the beginning'\\\"}\""
        ],
        [
         "\"{\\\"id_str\\\":330708114854793217,\\\"created_at\\\":\\\"2013-05-04 15:38:53\\\",\\\"text\\\":\\\"b'@fink_justin It can definitely strain relationships, but I loved doing my first company with my brother'\\\"}\""
        ],
        [
         "\"{\\\"id_str\\\":330707889729712131,\\\"created_at\\\":\\\"2013-05-04 15:37:59\\\",\\\"text\\\":\\\"b'@Vangsgutane Norway rocks!'\\\"}\""
        ],
        [
         "\"{\\\"id_str\\\":330572086668046336,\\\"created_at\\\":\\\"2013-05-04 06:38:21\\\",\\\"text\\\":\\\"b'@WehbyJammin Earnings call next week, then Supercharger week after and then... the mystery announcement\\\\/demonstration :)'\\\"}\""
        ],
        [
         "\"{\\\"id_str\\\":330571811358117888,\\\"created_at\\\":\\\"2013-05-04 06:37:16\\\",\\\"text\\\":\\\"b\\\\\\\"@TeslaTrip you're welcome :)\\\\\\\"\\\"}\""
        ],
        [
         "\"{\\\"id_str\\\":330466529118392320,\\\"created_at\\\":\\\"2013-05-03 23:38:54\\\",\\\"text\\\":\\\"b'RT @TeslaMotors: North Carolina General Assembly could prevent Tesla from selling cars. Take action: http:\\\\/\\\\/t.co\\\\/EvxHevlZxi #TeslaNC'\\\"}\""
        ],
        [
         "\"{\\\"id_str\\\":330425498406633474,\\\"created_at\\\":\\\"2013-05-03 20:55:52\\\",\\\"text\\\":\\\"b'@thebradholt we need a compelling video that convinces TX lawmakers to pass the direct sales law just approved by their committee.'\\\"}\""
        ],
        [
         "\"{\\\"id_str\\\":330424811035705344,\\\"created_at\\\":\\\"2013-05-03 20:53:08\\\",\\\"text\\\":\\\"b\\\\\\\"@Rocco_TheStreet Guaranteeing the world's best resale value in industry is unprecedented and backed up my other assets. Why isn't that good?\\\\\\\"\\\"}\""
        ],
        [
         "\"{\\\"id_str\\\":330423366802632706,\\\"created_at\\\":\\\"2013-05-03 20:47:24\\\",\\\"text\\\":\\\"b'@ChrisCowan_  Chris is great. Took a long time for me to find someone w truly hardcore engineering skills, who fully understood the system.'\\\"}\""
        ],
        [
         "\"{\\\"id_str\\\":785140287819612160,\\\"created_at\\\":\\\"2016-10-09 15:30:06\\\",\\\"text\\\":\\\"b'@roger_kappler Probably not then either'\\\"}\""
        ],
        [
         "\"{\\\"id_str\\\":785139055793152000,\\\"created_at\\\":\\\"2016-10-09 15:25:12\\\",\\\"text\\\":\\\"b\\\\\\\"Would also like to correct expectations that Tesla\\\\/SolarCity will need to raise equity or corp debt in Q4. Won't be necessary for either.\\\\\\\"\\\"}\""
        ],
        [
         "\"{\\\"id_str\\\":785138151224446976,\\\"created_at\\\":\\\"2016-10-09 15:21:37\\\",\\\"text\\\":\\\"b'Tesla product unveiling on the 17th (unexpected by most), followed by Tesla\\\\/SolarCity on the 28th'\\\"}\""
        ],
        [
         "\"{\\\"id_str\\\":785135480811712513,\\\"created_at\\\":\\\"2016-10-09 15:11:00\\\",\\\"text\\\":\\\"b'@FuncRandm I agree. Speed of light is a point in favor of the sim.'\\\"}\""
        ],
        [
         "\"{\\\"id_str\\\":784507684410097664,\\\"created_at\\\":\\\"2016-10-07 21:36:22\\\",\\\"text\\\":\\\"b'US automotive deaths rose 10% to 17,775 in first half of 2016, approx 1 every 88 million miles https:\\\\/\\\\/t.co\\\\/8vrAHA80yB'\\\"}\""
        ],
        [
         "\"{\\\"id_str\\\":784487348562198529,\\\"created_at\\\":\\\"2016-10-07 20:15:33\\\",\\\"text\\\":\\\"b'Cumulative Tesla Autopilot miles now at 222 million'\\\"}\""
        ],
        [
         "\"{\\\"id_str\\\":784441057857589249,\\\"created_at\\\":\\\"2016-10-07 17:11:37\\\",\\\"text\\\":\\\"b'@DanMerriweather lot of circumstantial evidence for that hypothesis'\\\"}\""
        ],
        [
         "\"{\\\"id_str\\\":784430298322771968,\\\"created_at\\\":\\\"2016-10-07 16:28:51\\\",\\\"text\\\":\\\"b\\\\\\\"RT @TeslaMotors: With 3,200+ Destination Charging locations worldwide, you can enjoy the French vineyards or Vermont's mountains, while cha\\\\\\\\xe2\\\\\\\\x80\\\\\\\\xa6\\\\\\\"\\\"}\""
        ],
        [
         "\"{\\\"id_str\\\":784219037194563584,\\\"created_at\\\":\\\"2016-10-07 02:29:23\\\",\\\"text\\\":\\\"b'RT @InsideWestworld: It will be great to see @TalulahRiley as Angela and @jimmisimpson as William in #Westworld airing Sunday 9:00 PM ET. h\\\\\\\\xe2\\\\\\\\x80\\\\\\\\xa6'\\\"}\""
        ],
        [
         "\"{\\\"id_str\\\":784218678376079361,\\\"created_at\\\":\\\"2016-10-07 02:27:57\\\",\\\"text\\\":\\\"b\\\\\\\"RT @exploreplanets: Mars like you've never seen before: a rare set of images just published by @elakdawalla  https:\\\\/\\\\/t.co\\\\/5oTYj2dxCM \\\\\\\\n@isro\\\\\\\\xe2\\\\\\\\x80\\\\\\\\xa6\\\\\\\"\\\"}\""
        ],
        [
         "\"{\\\"id_str\\\":828284631170560000,\\\"created_at\\\":\\\"2017-02-05 16:50:19\\\",\\\"text\\\":\\\"b'@TheLAAdams The laws need to change. Judges are responsible for evaluating whether an action breaks the law, not making law.'\\\"}\""
        ],
        [
         "\"{\\\"id_str\\\":828284048103579651,\\\"created_at\\\":\\\"2017-02-05 16:48:00\\\",\\\"text\\\":\\\"b'@humplik The remedy for that is changing the law'\\\"}\""
        ],
        [
         "\"{\\\"id_str\\\":828282768559849473,\\\"created_at\\\":\\\"2017-02-05 16:42:55\\\",\\\"text\\\":\\\"b\\\\\\\"@CallumK24 Ok, but what's up the wigs?\\\\\\\"\\\"}\""
        ],
        [
         "\"{\\\"id_str\\\":828282648711802881,\\\"created_at\\\":\\\"2017-02-05 16:42:26\\\",\\\"text\\\":\\\"b\\\\\\\"@iLexomat There are many good legal systems on par with US. Just don't know any that are better.\\\\\\\"\\\"}\""
        ],
        [
         "\"{\\\"id_str\\\":828281953455579136,\\\"created_at\\\":\\\"2017-02-05 16:39:41\\\",\\\"text\\\":\\\"b'@Biesseman True!'\\\"}\""
        ],
        [
         "\"{\\\"id_str\\\":828280866451374085,\\\"created_at\\\":\\\"2017-02-05 16:35:21\\\",\\\"text\\\":\\\"b\\\\\\\"Many in America don't realize how proud they should be of the legal system. Not perfect, but nowhere is the cause of justice better served.\\\\\\\"\\\"}\""
        ],
        [
         "\"{\\\"id_str\\\":828279118944989185,\\\"created_at\\\":\\\"2017-02-05 16:28:25\\\",\\\"text\\\":\\\"b'RT @TeslaMotors: Honored to receive Best Car Award for the third year in a row in Germany. Thank you to all 124,000 of you who voted! https\\\\\\\\xe2\\\\\\\\x80\\\\\\\\xa6'\\\"}\""
        ],
        [
         "\"{\\\"id_str\\\":828018446873006080,\\\"created_at\\\":\\\"2017-02-04 23:12:36\\\",\\\"text\\\":\\\"b'Walking down the street and saw this https:\\\\/\\\\/t.co\\\\/Mpv5j6088K'\\\"}\""
        ],
        [
         "\"{\\\"id_str\\\":828004976228188160,\\\"created_at\\\":\\\"2017-02-04 22:19:04\\\",\\\"text\\\":\\\"b'@ChrisJCav Maybe my favorite mug ever'\\\"}\""
        ],
        [
         "\"{\\\"id_str\\\":828004231101706241,\\\"created_at\\\":\\\"2017-02-04 22:16:06\\\",\\\"text\\\":\\\"b'@nintendomaniac @alext4627 I wish!'\\\"}\""
        ],
        [
         "\"{\\\"id_str\\\":838569247555014656,\\\"created_at\\\":\\\"2017-03-06 01:57:43\\\",\\\"text\\\":\\\"b'@Zedd Will send you one'\\\"}\""
        ],
        [
         "\"{\\\"id_str\\\":838565081306677249,\\\"created_at\\\":\\\"2017-03-06 01:41:09\\\",\\\"text\\\":\\\"b'@SimonaKitzu Self-hatred'\\\"}\""
        ],
        [
         "\"{\\\"id_str\\\":838563502386118656,\\\"created_at\\\":\\\"2017-03-06 01:34:53\\\",\\\"text\\\":\\\"b'Thanks JJ!'\\\"}\""
        ],
        [
         "\"{\\\"id_str\\\":838558471972741120,\\\"created_at\\\":\\\"2017-03-06 01:14:54\\\",\\\"text\\\":\\\"b'https:\\\\/\\\\/t.co\\\\/3YSXZq1EVj'\\\"}\""
        ],
        [
         "\"{\\\"id_str\\\":838555180656295936,\\\"created_at\\\":\\\"2017-03-06 01:01:49\\\",\\\"text\\\":\\\"b'RT @TeslaMotors: Project Loveday https:\\\\/\\\\/t.co\\\\/K1snXJN15u'\\\"}\""
        ],
        [
         "\"{\\\"id_str\\\":837113202030759937,\\\"created_at\\\":\\\"2017-03-02 01:31:54\\\",\\\"text\\\":\\\"b\\\\\\\"Thank you for the lovely letter. That sounds like a great idea. We'll do it! https:\\\\/\\\\/t.co\\\\/ss2WmkOGyk\\\\\\\"\\\"}\""
        ],
        [
         "\"{\\\"id_str\\\":836443541001797632,\\\"created_at\\\":\\\"2017-02-28 05:10:55\\\",\\\"text\\\":\\\"b\\\\\\\"SpaceX could not do this without NASA. Can't express enough appreciation. https:\\\\/\\\\/t.co\\\\/uQpI60zAV7\\\\\\\"\\\"}\""
        ],
        [
         "\"{\\\"id_str\\\":836442868180905984,\\\"created_at\\\":\\\"2017-02-28 05:08:14\\\",\\\"text\\\":\\\"b\\\\\\\"@jamesatbuzz This is not true. TM works for a lot of people and that's great, but I've maybe done it 7 or 8 times ever.\\\\\\\"\\\"}\""
        ],
        [
         "\"{\\\"id_str\\\":836328719165763584,\\\"created_at\\\":\\\"2017-02-27 21:34:39\\\",\\\"text\\\":\\\"b'Fly me to the moon ... Ok\\\\\\\\nhttps:\\\\/\\\\/t.co\\\\/6QT8m5SHwn'\\\"}\""
        ],
        [
         "\"{\\\"id_str\\\":836020571490021376,\\\"created_at\\\":\\\"2017-02-27 01:10:11\\\",\\\"text\\\":\\\"b'SpaceX announcement tomorrow at 1pm PST'\\\"}\""
        ],
        [
         "\"{\\\"id_str\\\":322416386037141504,\\\"created_at\\\":\\\"2013-04-11 18:30:31\\\",\\\"text\\\":\\\"b'@batasrki Stay tuned for a big Supercharger announcement in a few weeks. Definitely have you covered.'\\\"}\""
        ],
        [
         "\"{\\\"id_str\\\":322414424570859520,\\\"created_at\\\":\\\"2013-04-11 18:22:43\\\",\\\"text\\\":\\\"b'@JBSiegelMD Thanks! Hearing from constituents is super important to counteract the influence of the dealer lobby.'\\\"}\""
        ],
        [
         "\"{\\\"id_str\\\":322410144409481217,\\\"created_at\\\":\\\"2013-04-11 18:05:43\\\",\\\"text\\\":\\\"b'New York judge states: \\\\\\\"... dealers cannot utilize the Franchised Dealer Act as a means to sue their competitors\\\\\\\". Exactly!'\\\"}\""
        ],
        [
         "\"{\\\"id_str\\\":322409574248357888,\\\"created_at\\\":\\\"2013-04-11 18:03:27\\\",\\\"text\\\":\\\"b'New York judge just ruled in favor Tesla, dismissing the legal attack by auto dealers to prevent direct sales!'\\\"}\""
        ],
        [
         "\"{\\\"id_str\\\":322170049316139009,\\\"created_at\\\":\\\"2013-04-11 02:11:40\\\",\\\"text\\\":\\\"b'Yay for democracy! @latimes asks: Should Tesla Motors be able to sell directly to consumers? http:\\\\/\\\\/t.co\\\\/IhSNht6bgx'\\\"}\""
        ],
        [
         "\"{\\\"id_str\\\":322163054601179136,\\\"created_at\\\":\\\"2013-04-11 01:43:52\\\",\\\"text\\\":\\\"b\\\\\\\"@twittelator Yup, you're right\\\\\\\"\\\"}\""
        ],
        [
         "\"{\\\"id_str\\\":321987888055201793,\\\"created_at\\\":\\\"2013-04-10 14:07:49\\\",\\\"text\\\":\\\"b'Just wanted to say thanks to everyone for testifying yesterday in Austin. Will hang around after press conf to thank people in person.'\\\"}\""
        ],
        [
         "\"{\\\"id_str\\\":321985069235453953,\\\"created_at\\\":\\\"2013-04-10 13:56:37\\\",\\\"text\\\":\\\"b'@derrickgott007 already partly here with rocket development, but will make it a lot bigger with the launch site'\\\"}\""
        ],
        [
         "\"{\\\"id_str\\\":321710007223726080,\\\"created_at\\\":\\\"2013-04-09 19:43:37\\\",\\\"text\\\":\\\"b'Just had Texas BBQ for lunch in Capitol Building. About to head to House Committee hearing to advocate for Tesla in TX.'\\\"}\""
        ],
        [
         "\"{\\\"id_str\\\":321637861147426816,\\\"created_at\\\":\\\"2013-04-09 14:56:56\\\",\\\"text\\\":\\\"b'In TX to make the case for allowing Tesla to sell cars. Pls come to Capitol Room E2.014 at 1:30! http:\\\\/\\\\/t.co\\\\/WR3WXE8SFe'\\\"}\""
        ],
        [
         "\"{\\\"id_str\\\":715433418260029440,\\\"created_at\\\":\\\"2016-03-31 06:59:53\\\",\\\"text\\\":\\\"b'Model 3 unveil will be webcast live at 8:30pm California time at https:\\\\/\\\\/t.co\\\\/46TXqRrsdr'\\\"}\""
        ],
        [
         "\"{\\\"id_str\\\":715309739752747009,\\\"created_at\\\":\\\"2016-03-30 22:48:26\\\",\\\"text\\\":\\\"b'@rossbin You will see the car very clearly, but some important elements will be added and some will evolve.'\\\"}\""
        ],
        [
         "\"{\\\"id_str\\\":715307847890903041,\\\"created_at\\\":\\\"2016-03-30 22:40:55\\\",\\\"text\\\":\\\"b'Tomorrow is Part 1 of the Model 3 unveil. Part 2, which takes things to another level, will be closer to production.'\\\"}\""
        ],
        [
         "\"{\\\"id_str\\\":715303533659041792,\\\"created_at\\\":\\\"2016-03-30 22:23:46\\\",\\\"text\\\":\\\"b'Model 3 order day starting in Australia https:\\\\/\\\\/t.co\\\\/T6aUnG5BCv'\\\"}\""
        ],
        [
         "\"{\\\"id_str\\\":715220713326530561,\\\"created_at\\\":\\\"2016-03-30 16:54:40\\\",\\\"text\\\":\\\"b'You can now buy cruise ship tickets for the Arctic passage. Seeing is believing. https:\\\\/\\\\/t.co\\\\/LhKupkNMFC'\\\"}\""
        ],
        [
         "\"{\\\"id_str\\\":715219872204992512,\\\"created_at\\\":\\\"2016-03-30 16:51:20\\\",\\\"text\\\":\\\"b'Great article by @BadAstronomer. Important to note max temp record. Too much attention on avg temp. Max matters most https:\\\\/\\\\/t.co\\\\/0FnIAVsbIu'\\\"}\""
        ],
        [
         "\"{\\\"id_str\\\":714963420316049411,\\\"created_at\\\":\\\"2016-03-29 23:52:17\\\",\\\"text\\\":\\\"b'Looks like we may need to increase production plans for the Model 3 https:\\\\/\\\\/t.co\\\\/fmCPFC9FEm'\\\"}\""
        ],
        [
         "\"{\\\"id_str\\\":713142197005234176,\\\"created_at\\\":\\\"2016-03-24 23:15:23\\\",\\\"text\\\":\\\"b'RT @TeslaMotors: \\\\\\\"Model X is the quickest SUV we\\\\\\\\xe2\\\\\\\\x80\\\\\\\\x99ve ever tested. Period.\\\\\\\" @MotorTrend https:\\\\/\\\\/t.co\\\\/kp9UCuELId https:\\\\/\\\\/t.co\\\\/IcYUChMpc4'\\\"}\""
        ],
        [
         "\"{\\\"id_str\\\":711603839443423232,\\\"created_at\\\":\\\"2016-03-20 17:22:30\\\",\\\"text\\\":\\\"b'Tesla charger map https:\\\\/\\\\/t.co\\\\/9tei7lU4FD'\\\"}\""
        ],
        [
         "\"{\\\"id_str\\\":711258598551240704,\\\"created_at\\\":\\\"2016-03-19 18:30:39\\\",\\\"text\\\":\\\"b'@MileHighWillY being fixed'\\\"}\""
        ],
        [
         "\"{\\\"id_str\\\":276194361442705408,\\\"created_at\\\":\\\"2012-12-05 05:20:41\\\",\\\"text\\\":\\\"b'Interesting possible answer to the Fermi Paradox \\\\\\\\nhttp:\\\\/\\\\/t.co\\\\/ASZdxBAl'\\\"}\""
        ],
        [
         "\"{\\\"id_str\\\":275835562076811264,\\\"created_at\\\":\\\"2012-12-04 05:34:57\\\",\\\"text\\\":\\\"b'RT @Slate: New government study says we could save billions by replacing dollar bills with coins. New study is wrong: http:\\\\/\\\\/t.co\\\\/QgwH0bSh'\\\"}\""
        ],
        [
         "\"{\\\"id_str\\\":275821969415483393,\\\"created_at\\\":\\\"2012-12-04 04:40:56\\\",\\\"text\\\":\\\"b'Am happy to report that Tesla was narrowly cash flow positive last week. Continued improvement expected through year end.'\\\"}\""
        ],
        [
         "\"{\\\"id_str\\\":275346615634624514,\\\"created_at\\\":\\\"2012-12-02 21:12:03\\\",\\\"text\\\":\\\"b'Uranium ore now available on Amazon! So much more convenient than Uzbekistan #AwesomeXmasGifts http:\\\\/\\\\/t.co\\\\/jqWAJrnY'\\\"}\""
        ],
        [
         "\"{\\\"id_str\\\":274090388669734912,\\\"created_at\\\":\\\"2012-11-29 10:00:15\\\",\\\"text\\\":\\\"b'@shervin Thanks Shervin!'\\\"}\""
        ],
        [
         "\"{\\\"id_str\\\":273671124909432833,\\\"created_at\\\":\\\"2012-11-28 06:14:15\\\",\\\"text\\\":\\\"b'RT @TheEconomist: Mexico is changing in ways that will profoundly affect America http:\\\\/\\\\/t.co\\\\/icj9xRYE'\\\"}\""
        ],
        [
         "\"{\\\"id_str\\\":273596976526942209,\\\"created_at\\\":\\\"2012-11-28 01:19:37\\\",\\\"text\\\":\\\"b\\\\\\\"Can't put my finger on it, but for some reason the newsstand is looking particularly good right now http:\\\\/\\\\/t.co\\\\/gRARJ3xy\\\\\\\"\\\"}\""
        ],
        [
         "\"{\\\"id_str\\\":273486358411087872,\\\"created_at\\\":\\\"2012-11-27 18:00:03\\\",\\\"text\\\":\\\"b'But if humanity wishes to become a multi-planet species, then we must figure out how to move millions of people to Mars.'\\\"}\""
        ],
        [
         "\"{\\\"id_str\\\":273485219162648576,\\\"created_at\\\":\\\"2012-11-27 17:55:32\\\",\\\"text\\\":\\\"b'And, yes, I do in fact know that this sounds crazy. That is not lost on me. Nor I do think SpaceX will do this alone.'\\\"}\""
        ],
        [
         "\"{\\\"id_str\\\":273483420468932608,\\\"created_at\\\":\\\"2012-11-27 17:48:23\\\",\\\"text\\\":\\\"b'Millions of people needed for Mars colony, so 80k+ would just be the number moving to Mars per year http:\\\\/\\\\/t.co\\\\/rwMuzVEK'\\\"}\""
        ],
        [
         "\"{\\\"id_str\\\":828292953798012932,\\\"created_at\\\":\\\"2017-02-05 17:23:23\\\",\\\"text\\\":\\\"b'@RealPhillipPoon Needs a major overhaul'\\\"}\""
        ],
        [
         "\"{\\\"id_str\\\":828292305522192384,\\\"created_at\\\":\\\"2017-02-05 17:20:49\\\",\\\"text\\\":\\\"b'@BenCam137 @FifthRocket Exactly'\\\"}\""
        ],
        [
         "\"{\\\"id_str\\\":828291884858691584,\\\"created_at\\\":\\\"2017-02-05 17:19:08\\\",\\\"text\\\":\\\"b'@AanstadGard Norway is great on all levels. Love Norway!'\\\"}\""
        ],
        [
         "\"{\\\"id_str\\\":828291645548408833,\\\"created_at\\\":\\\"2017-02-05 17:18:11\\\",\\\"text\\\":\\\"b'@BullFlags Yeah. And Twitter is a hater Hellscape.'\\\"}\""
        ],
        [
         "\"{\\\"id_str\\\":828291190965551106,\\\"created_at\\\":\\\"2017-02-05 17:16:23\\\",\\\"text\\\":\\\"b'@W4AS Good grief, I\\\\\\\\'m not \\\\\\\"working\\\\\\\" for Trump. I\\\\\\\\'m trying to provide advice that helps take things in a more positive direction.'\\\"}\""
        ],
        [
         "\"{\\\"id_str\\\":828290224069419010,\\\"created_at\\\":\\\"2017-02-05 17:12:32\\\",\\\"text\\\":\\\"b\\\\\\\"@BitterMercy @CallumK24 Actually, I think it's kinda cool :)\\\\\\\"\\\"}\""
        ],
        [
         "\"{\\\"id_str\\\":828289948767895552,\\\"created_at\\\":\\\"2017-02-05 17:11:27\\\",\\\"text\\\":\\\"b\\\\\\\"@EricHaegler @iLexomat Isn't that basically like having a jury of peers? That is a default option in the US.\\\\\\\"\\\"}\""
        ],
        [
         "\"{\\\"id_str\\\":828289487075733504,\\\"created_at\\\":\\\"2017-02-05 17:09:37\\\",\\\"text\\\":\\\"b\\\\\\\"@vladsavov Those countries have strong justice systems, but I'd put them roughly on par with US. That rating system conflates many factors.\\\\\\\"\\\"}\""
        ],
        [
         "\"{\\\"id_str\\\":828287608614744064,\\\"created_at\\\":\\\"2017-02-05 17:02:09\\\",\\\"text\\\":\\\"b'@FifthRocket Did you read my tweets? I attacked it hard. Did not defend.'\\\"}\""
        ],
        [
         "\"{\\\"id_str\\\":828287354741936130,\\\"created_at\\\":\\\"2017-02-05 17:01:08\\\",\\\"text\\\":\\\"b\\\\\\\"@KENEMONICS You're right. Politics is a no-win situation. Somebody is going to hate what you say no matter what that is.\\\\\\\"\\\"}\""
        ],
        [
         "\"{\\\"id_str\\\":157599662159835136,\\\"created_at\\\":\\\"2012-01-12 23:07:42\\\",\\\"text\\\":\\\"b\\\\\\\"What is more magical than cowboys herding cats? Livin' the dream...  http:\\\\/\\\\/t.co\\\\/1pLhb9lc\\\\\\\"\\\"}\""
        ],
        [
         "\"{\\\"id_str\\\":157569537548623872,\\\"created_at\\\":\\\"2012-01-12 21:07:59\\\",\\\"text\\\":\\\"b'Kids these days are so grown up! RT \\\\\\\"Second-Graders Wow Audience With School Production Of Equus\\\\\\\" http:\\\\/\\\\/t.co\\\\/YgyAIrwI'\\\"}\""
        ],
        [
         "\"{\\\"id_str\\\":157292663601758208,\\\"created_at\\\":\\\"2012-01-12 02:47:48\\\",\\\"text\\\":\\\"b'Model S Performance powertrain produced so much torque today that we broke the dyno. 4.4 sec 0-60 mph will not be a problem.'\\\"}\""
        ],
        [
         "\"{\\\"id_str\\\":156927468836630528,\\\"created_at\\\":\\\"2012-01-11 02:36:39\\\",\\\"text\\\":\\\"b'The exec conf room at Tesla used to be called Denali, but I decided to move a few letters around. Seemed more apt :) http:\\\\/\\\\/t.co\\\\/Raq5UaR6'\\\"}\""
        ],
        [
         "\"{\\\"id_str\\\":155380533533220864,\\\"created_at\\\":\\\"2012-01-06 20:09:40\\\",\\\"text\\\":\\\"b'Model S Signature series sold out as of today https:\\\\/\\\\/t.co\\\\/pKbR0ziP'\\\"}\""
        ],
        [
         "\"{\\\"id_str\\\":155340355884167169,\\\"created_at\\\":\\\"2012-01-06 17:30:01\\\",\\\"text\\\":\\\"b'Next month is also when our Dragon spaceship docks with the Space Station for the first time. Major pucker factor...'\\\"}\""
        ],
        [
         "\"{\\\"id_str\\\":155339851812700160,\\\"created_at\\\":\\\"2012-01-06 17:28:01\\\",\\\"text\\\":\\\"b'Feb is huge month. Model X world premier and public reveal of our LA design studio on the 9th. Stay tuned for more details.'\\\"}\""
        ],
        [
         "\"{\\\"id_str\\\":154313189079777280,\\\"created_at\\\":\\\"2012-01-03 21:28:25\\\",\\\"text\\\":\\\"b\\\\\\\"Just finished Massie's book on Catherine. An amazingly expansive and compelling portrait of an incredible woman. Highly recommend.\\\\\\\"\\\"}\""
        ],
        [
         "\"{\\\"id_str\\\":154307255536324608,\\\"created_at\\\":\\\"2012-01-03 21:04:51\\\",\\\"text\\\":\\\"b\\\\\\\"@om Respectfully disagree. Larry  made awesome moves last year, which laid the foundation for G+ to kick butt in 2012. He's a stud.\\\\\\\"\\\"}\""
        ],
        [
         "\"{\\\"id_str\\\":154094195089473536,\\\"created_at\\\":\\\"2012-01-03 06:58:13\\\",\\\"text\\\":\\\"b\\\\\\\"What everyone really thinks ... RT \\\\\\\\xe2\\\\\\\\x80\\\\\\\\x9c@jonlovett: If Mayans were good at predicting the future, there'd be Mayans.\\\\\\\\xe2\\\\\\\\x80\\\\\\\\x9d\\\\\\\"\\\"}\""
        ],
        [
         "\"{\\\"id_str\\\":168056133708283904,\\\"created_at\\\":\\\"2012-02-10 19:38:00\\\",\\\"text\\\":\\\"b'Tesla Model X is 3rd most searched term on Google, right after purple squirrel. Damn you squirrel! http:\\\\/\\\\/t.co\\\\/jP9H5XrB'\\\"}\""
        ],
        [
         "\"{\\\"id_str\\\":168022238061268993,\\\"created_at\\\":\\\"2012-02-10 17:23:17\\\",\\\"text\\\":\\\"b'Tesla Model X video  http:\\\\/\\\\/t.co\\\\/pjcaicOc'\\\"}\""
        ],
        [
         "\"{\\\"id_str\\\":168014307009892354,\\\"created_at\\\":\\\"2012-02-10 16:51:47\\\",\\\"text\\\":\\\"b\\\\\\\"@TeslasBigFan Don't worry, we've got a cool solution for ski storage on the X with the Falcon wing doors\\\\\\\"\\\"}\""
        ],
        [
         "\"{\\\"id_str\\\":167699464134475776,\\\"created_at\\\":\\\"2012-02-09 20:00:42\\\",\\\"text\\\":\\\"b'Btw, Foster the People is playing the Model X event tonight. Seemed like the right vibe.'\\\"}\""
        ],
        [
         "\"{\\\"id_str\\\":167648387313840128,\\\"created_at\\\":\\\"2012-02-09 16:37:45\\\",\\\"text\\\":\\\"b'Model X sketch showing just a bit more leg. Unveiling tonight... http:\\\\/\\\\/t.co\\\\/KASHBP5p'\\\"}\""
        ],
        [
         "\"{\\\"id_str\\\":167357401815715840,\\\"created_at\\\":\\\"2012-02-08 21:21:28\\\",\\\"text\\\":\\\"b'RT @SpaceX: Photo Update: Dragon complete with trunk at the SpaceX hangar, preparations continue for the historic mission ahead. http:\\\\/\\\\/ ...'\\\"}\""
        ],
        [
         "\"{\\\"id_str\\\":167325254451081216,\\\"created_at\\\":\\\"2012-02-08 19:13:44\\\",\\\"text\\\":\\\"b'Cool new @NASA pic of the most powerful type of solar flare, called X-class. Am not making this up! http:\\\\/\\\\/t.co\\\\/eJKSQqvO'\\\"}\""
        ],
        [
         "\"{\\\"id_str\\\":167105458753118208,\\\"created_at\\\":\\\"2012-02-08 04:40:20\\\",\\\"text\\\":\\\"b\\\\\\\"Russia and China are blocking UN action. Can't imagine why they wouldn't support a democratic uprising...\\\\\\\"\\\"}\""
        ],
        [
         "\"{\\\"id_str\\\":167104295504838656,\\\"created_at\\\":\\\"2012-02-08 04:35:43\\\",\\\"text\\\":\\\"b'Wish there was something we could do to help the people of Syria.   http:\\\\/\\\\/t.co\\\\/Ii7v7Cgw'\\\"}\""
        ],
        [
         "\"{\\\"id_str\\\":166781555950354432,\\\"created_at\\\":\\\"2012-02-07 07:13:16\\\",\\\"text\\\":\\\"b'@BenToBeWild Yes, we will unveil a fully functional advanced prototype of the Model X -- almost identical to production.'\\\"}\""
        ],
        [
         "\"{\\\"id_str\\\":845355766357737472,\\\"created_at\\\":\\\"2017-03-24 19:24:55\\\",\\\"text\\\":\\\"b'@nickbaum I believe so'\\\"}\""
        ],
        [
         "\"{\\\"id_str\\\":845337811876114432,\\\"created_at\\\":\\\"2017-03-24 18:13:34\\\",\\\"text\\\":\\\"b'@nddugan Yup'\\\"}\""
        ],
        [
         "\"{\\\"id_str\\\":845331893176324096,\\\"created_at\\\":\\\"2017-03-24 17:50:03\\\",\\\"text\\\":\\\"b'@Mr_Ewe_Guy Oh so little faith'\\\"}\""
        ],
        [
         "\"{\\\"id_str\\\":845325721455149056,\\\"created_at\\\":\\\"2017-03-24 17:25:32\\\",\\\"text\\\":\\\"b'@kryniog The shorter wheelbase only allows for a 75 kWh pack in Model 3 at current cell\\\\/module energy densities'\\\"}\""
        ],
        [
         "\"{\\\"id_str\\\":845294849049870337,\\\"created_at\\\":\\\"2017-03-24 15:22:51\\\",\\\"text\\\":\\\"b'RT @PokerVixen: @elonmusk I\\\\\\\\'m so unbelievably happy with my Model S. When people ask if l like it I respond \\\\\\\"No, I love it! \\\\\\\\xf0\\\\\\\\x9f\\\\\\\\x98\\\\\\\\x8d it\\\\\\\\'s amazing!\\\\\\\\xe2\\\\\\\\x80\\\\\\\\xa6'\\\"}\""
        ],
        [
         "\"{\\\"id_str\\\":845294411072204801,\\\"created_at\\\":\\\"2017-03-24 15:21:07\\\",\\\"text\\\":\\\"b'RT @RH_Way: @elonmusk Our 85 hit the guardrails at well over 160km\\\\/h. Tessi absorbed impact, wife and baby are ok. Best car ever &amp; Member o\\\\\\\\xe2\\\\\\\\x80\\\\\\\\xa6'\\\"}\""
        ],
        [
         "\"{\\\"id_str\\\":845294161125269505,\\\"created_at\\\":\\\"2017-03-24 15:20:07\\\",\\\"text\\\":\\\"b'@ToddGerkens Yeah'\\\"}\""
        ],
        [
         "\"{\\\"id_str\\\":845293825715154945,\\\"created_at\\\":\\\"2017-03-24 15:18:47\\\",\\\"text\\\":\\\"b'@HolsMichael Start taking orders in April'\\\"}\""
        ],
        [
         "\"{\\\"id_str\\\":845293157977767937,\\\"created_at\\\":\\\"2017-03-24 15:16:08\\\",\\\"text\\\":\\\"b'@dr_angus Yeah, probably a year from now. S will still win on acceleration though, due to having more space for a larger battery.'\\\"}\""
        ],
        [
         "\"{\\\"id_str\\\":845292886623109120,\\\"created_at\\\":\\\"2017-03-24 15:15:03\\\",\\\"text\\\":\\\"b'RT @morrisonbrett: @elonmusk First batch Model S P85D for me, Grey. Signature Model X P90D for wife, Triple White. Best vehicles in the wor\\\\\\\\xe2\\\\\\\\x80\\\\\\\\xa6'\\\"}\""
        ],
        [
         "\"{\\\"id_str\\\":306193893890863104,\\\"created_at\\\":\\\"2013-02-26 00:08:07\\\",\\\"text\\\":\\\"b'Rocket static fire @SpaceX Cape Canaveral launch pad looks good. Engines generated 433 tons of thrust, parameters nominal.'\\\"}\""
        ],
        [
         "\"{\\\"id_str\\\":305971647561752576,\\\"created_at\\\":\\\"2013-02-25 09:25:00\\\",\\\"text\\\":\\\"b'@FaeLoba Best is winning competitions like Formula SAE, design\\\\/build\\\\/fly or other evidence of exceptional eng ability'\\\"}\""
        ],
        [
         "\"{\\\"id_str\\\":305172926762725376,\\\"created_at\\\":\\\"2013-02-23 04:31:10\\\",\\\"text\\\":\\\"b'@EricIdle Cool! Btw, thought you might appreciate that 1st flight of Dragon spacecraft carried a large wheel of cheese :)'\\\"}\""
        ],
        [
         "\"{\\\"id_str\\\":304988995836862465,\\\"created_at\\\":\\\"2013-02-22 16:20:17\\\",\\\"text\\\":\\\"b'RT @NASA: Want to join us and cover the next @SpaceX launch on March 1? Now you can apply for a #NASASocial Media Credential http:\\\\/\\\\/t.co ...'\\\"}\""
        ],
        [
         "\"{\\\"id_str\\\":304482819709751296,\\\"created_at\\\":\\\"2013-02-21 06:48:55\\\",\\\"text\\\":\\\"b'RT @lenfeldman: .@NYTjamescobb @elonmusk  As your own public editor pointed out, @jbrodernyt was far from a \\\\\\\"consummate pro,\\\\\\\" and you fa ...'\\\"}\""
        ],
        [
         "\"{\\\"id_str\\\":304004275921625090,\\\"created_at\\\":\\\"2013-02-19 23:07:22\\\",\\\"text\\\":\\\"b'Thanks @CNBC! \\\\\\\\xe2\\\\\\\\x80\\\\\\\\x9c@Lebeaucarnews: The Model S delivered what @elonmusk promised. A ride to make you re-think going electric.\\\\\\\\xe2\\\\\\\\x80\\\\\\\\x9d'\\\"}\""
        ],
        [
         "\"{\\\"id_str\\\":303585941304537090,\\\"created_at\\\":\\\"2013-02-18 19:25:03\\\",\\\"text\\\":\\\"b'Appreciate thoughtful @Sulliview article. Faith in @nytimes restored.'\\\"}\""
        ],
        [
         "\"{\\\"id_str\\\":303575474150465538,\\\"created_at\\\":\\\"2013-02-18 18:43:27\\\",\\\"text\\\":\\\"b'RT @YaelTAbouhalkah: Interesting: @nytimes public editor sides (mostly) with #Tesla. RT @Sulliview My thoughts on thorny problem: http:\\\\/ ...'\\\"}\""
        ],
        [
         "\"{\\\"id_str\\\":303343908379836417,\\\"created_at\\\":\\\"2013-02-18 03:23:18\\\",\\\"text\\\":\\\"b'RT @TeslaRoadTrip: #TeslaRoadTrip All - thanks so much for following our twitter feed.  The trip was a success and everyone has diverted ...'\\\"}\""
        ],
        [
         "\"{\\\"id_str\\\":303244501957365760,\\\"created_at\\\":\\\"2013-02-17 20:48:17\\\",\\\"text\\\":\\\"b'RT @LawrenceChanin: @TeslaRoadTrip @avantgame @TEDchris @elonmusk @nytimes   \\\\\\\\nThe driving public is the winner thanks to the efforts of  ...'\\\"}\""
        ],
        [
         "\"{\\\"id_str\\\":658358303454420992,\\\"created_at\\\":\\\"2015-10-25 19:03:45\\\",\\\"text\\\":\\\"b'@abrax4s Yes, establishing charging and service infrastructure in Mexico now. Official launch in next several months.'\\\"}\""
        ],
        [
         "\"{\\\"id_str\\\":658357909265362944,\\\"created_at\\\":\\\"2015-10-25 19:02:11\\\",\\\"text\\\":\\\"b'@javashri Auto import duties are prohibitively high. Hoping for a special category for EVs. Most of our discussion was about batteries.'\\\"}\""
        ],
        [
         "\"{\\\"id_str\\\":658357058106822656,\\\"created_at\\\":\\\"2015-10-25 18:58:48\\\",\\\"text\\\":\\\"b'@roneijlander We just finished building a huge expansion in Tilburg!'\\\"}\""
        ],
        [
         "\"{\\\"id_str\\\":658356679793205248,\\\"created_at\\\":\\\"2015-10-25 18:57:18\\\",\\\"text\\\":\\\"b\\\\\\\"These are all things I've said before and are naturally needed to improve in-market affordability, so no real news here.\\\\\\\"\\\"}\""
        ],
        [
         "\"{\\\"id_str\\\":658356079026270208,\\\"created_at\\\":\\\"2015-10-25 18:54:55\\\",\\\"text\\\":\\\"b'Model 3 is due in ~2 yrs. A China factory for local demand cd be as soon as a year after. A factory in Europe wd happen for same reason.'\\\"}\""
        ],
        [
         "\"{\\\"id_str\\\":658354915824173056,\\\"created_at\\\":\\\"2015-10-25 18:50:18\\\",\\\"text\\\":\\\"b\\\\\\\"My comments in China weren't transcribed correctly. Tesla will keep making cars &amp; batteries in CA &amp; NV as far into future as I can imagine.\\\\\\\"\\\"}\""
        ],
        [
         "\"{\\\"id_str\\\":657704144267059200,\\\"created_at\\\":\\\"2015-10-23 23:44:22\\\",\\\"text\\\":\\\"b'@JessicaTetreau important to set AC to not recirc (air exits thru rear) and use the snap in shade, which Tesla service can provide'\\\"}\""
        ],
        [
         "\"{\\\"id_str\\\":657702829398822912,\\\"created_at\\\":\\\"2015-10-23 23:39:08\\\",\\\"text\\\":\\\"b'@shanenickerson Amount of change needed is enormous - like a spinal cord transplant. Would cost less and work better with a new car.'\\\"}\""
        ],
        [
         "\"{\\\"id_str\\\":657686500310700032,\\\"created_at\\\":\\\"2015-10-23 22:34:15\\\",\\\"text\\\":\\\"b'Autopilot 1.01 coming soon: curve speed adaption, controller smoothness, better lane holding on poor roads, improved fleet learning!'\\\"}\""
        ],
        [
         "\"{\\\"id_str\\\":657685372579745793,\\\"created_at\\\":\\\"2015-10-23 22:29:46\\\",\\\"text\\\":\\\"b'Regulatory approvals received, so Autopilot rolling out to all countries! (Excluding Japan, which is still under review)'\\\"}\""
        ],
        [
         "\"{\\\"id_str\\\":738544730573672448,\\\"created_at\\\":\\\"2016-06-03 01:35:59\\\",\\\"text\\\":\\\"b\\\\\\\"RT @SpaceX: It's a bird, it's a plane... https:\\\\/\\\\/t.co\\\\/hdpkXTvLm3\\\\\\\"\\\"}\""
        ],
        [
         "\"{\\\"id_str\\\":738471747540783104,\\\"created_at\\\":\\\"2016-06-02 20:45:59\\\",\\\"text\\\":\\\"b'@mattyteare @karaswisher @waltmossberg @YouTube autosteering chutes will be added soon'\\\"}\""
        ],
        [
         "\"{\\\"id_str\\\":738470842695176192,\\\"created_at\\\":\\\"2016-06-02 20:42:23\\\",\\\"text\\\":\\\"b'Recode interview with @karaswisher and @waltmossberg https:\\\\/\\\\/t.co\\\\/BDqQ7RreV2 via @YouTube'\\\"}\""
        ],
        [
         "\"{\\\"id_str\\\":738191872502423552,\\\"created_at\\\":\\\"2016-06-02 02:13:52\\\",\\\"text\\\":\\\"b\\\\\\\"Supercharger policy explained well by @LATimes:\\\\\\\\n\\\\\\\\nhttps:\\\\/\\\\/t.co\\\\/F0CInMW1yU\\\\\\\\n\\\\\\\\nWill post detailed description soon. I think it's a good balance.\\\\\\\"\\\"}\""
        ],
        [
         "\"{\\\"id_str\\\":737859967450021889,\\\"created_at\\\":\\\"2016-06-01 04:14:59\\\",\\\"text\\\":\\\"b'Good summary of Tesla annual meeting by @katiefehren https:\\\\/\\\\/t.co\\\\/G3enS77hJ7'\\\"}\""
        ],
        [
         "\"{\\\"id_str\\\":737102578828206080,\\\"created_at\\\":\\\"2016-05-30 02:05:24\\\",\\\"text\\\":\\\"b'@iwanttobeanurse Sorry to hear that. Will take care of this &amp; investigate to see if issues you encountered are systemic.'\\\"}\""
        ],
        [
         "\"{\\\"id_str\\\":736787058170068993,\\\"created_at\\\":\\\"2016-05-29 05:11:38\\\",\\\"text\\\":\\\"b'So it was good for you too ... https:\\\\/\\\\/t.co\\\\/9cxo39N1lQ'\\\"}\""
        ],
        [
         "\"{\\\"id_str\\\":736380977354657792,\\\"created_at\\\":\\\"2016-05-28 02:18:00\\\",\\\"text\\\":\\\"b\\\\\\\"Fast replay of today's rocket landing on SpaceX droneship OCISLY\\\\\\\\nhttps:\\\\/\\\\/t.co\\\\/I0QQ2D3BtE\\\\\\\"\\\"}\""
        ],
        [
         "\"{\\\"id_str\\\":736373856823181312,\\\"created_at\\\":\\\"2016-05-28 01:49:43\\\",\\\"text\\\":\\\"b'@dfjsteve Very similar. The crush core in the Falcon legs is reusable after soft landings, but needs to be replaced after hard.'\\\"}\""
        ],
        [
         "\"{\\\"id_str\\\":736328917317910528,\\\"created_at\\\":\\\"2016-05-27 22:51:08\\\",\\\"text\\\":\\\"b'Crush core is aluminum honeycomb for energy absorption in the telescoping actuator. Easy to replace (if Falcon makes it back to port).'\\\"}\""
        ],
        [
         "\"{\\\"id_str\\\":495760430870978561,\\\"created_at\\\":\\\"2014-08-03 02:37:52\\\",\\\"text\\\":\\\"b'@IrrelevantGamer @masseffect Mass Effect 2 is one of the best games ever. Also love Saints Row IV.'\\\"}\""
        ],
        [
         "\"{\\\"id_str\\\":495759307346952192,\\\"created_at\\\":\\\"2014-08-03 02:33:24\\\",\\\"text\\\":\\\"b'Worth reading Superintelligence by Bostrom. We need to be super careful with AI. Potentially more dangerous than nukes.'\\\"}\""
        ],
        [
         "\"{\\\"id_str\\\":495739993600450560,\\\"created_at\\\":\\\"2014-08-03 01:16:39\\\",\\\"text\\\":\\\"b'Guardians of the Galaxy is great. Best line is when Star-Lord says his spaceship looks like a Jackson Pollock painting under black light.'\\\"}\""
        ],
        [
         "\"{\\\"id_str\\\":493084094532956160,\\\"created_at\\\":\\\"2014-07-26 17:23:03\\\",\\\"text\\\":\\\"b'On annual camping trip w kids. Trying a place just south of Carmel in California this year.'\\\"}\""
        ],
        [
         "\"{\\\"id_str\\\":491814548760825857,\\\"created_at\\\":\\\"2014-07-23 05:18:20\\\",\\\"text\\\":\\\"b'RT @R_Rojas_Leon: La selfie del monito ... http:\\\\/\\\\/t.co\\\\/2tAJxr5g0r'\\\"}\""
        ],
        [
         "\"{\\\"id_str\\\":491796248148455425,\\\"created_at\\\":\\\"2014-07-23 04:05:37\\\",\\\"text\\\":\\\"b'\\\\\\\\xe2\\\\\\\\x80\\\\\\\\x9c@SpaceX: Soft water landing of Falcon 9 rocket booster. http:\\\\/\\\\/t.co\\\\/VxBqBZhHmO\\\\\\\\n\\\\\\\\nFull update: http:\\\\/\\\\/t.co\\\\/nH8UqOmN9h\\\\\\\\xe2\\\\\\\\x80\\\\\\\\x9d'\\\"}\""
        ],
        [
         "\"{\\\"id_str\\\":490325897820381185,\\\"created_at\\\":\\\"2014-07-19 02:42:58\\\",\\\"text\\\":\\\"b'Looks like body slam, maybe from a self-generated wave'\\\"}\""
        ],
        [
         "\"{\\\"id_str\\\":488719729599578112,\\\"created_at\\\":\\\"2014-07-14 16:20:38\\\",\\\"text\\\":\\\"b'Detailed review of rocket telemetry needed to tell if due to initial splashdown or subsequent tip over and body slam'\\\"}\""
        ],
        [
         "\"{\\\"id_str\\\":488718649515986944,\\\"created_at\\\":\\\"2014-07-14 16:16:20\\\",\\\"text\\\":\\\"b'Rocket booster reentry, landing burn &amp; leg deploy were good, but lost hull integrity right after splashdown (aka kaboom)'\\\"}\""
        ],
        [
         "\"{\\\"id_str\\\":488717037674311682,\\\"created_at\\\":\\\"2014-07-14 16:09:56\\\",\\\"text\\\":\\\"b'Flight 10 of Falcon 9 was good. All six ORBCOMM satellites deployed on target.'\\\"}\""
        ],
        [
         "\"{\\\"id_str\\\":799328920852000768,\\\"created_at\\\":\\\"2016-11-17 19:10:40\\\",\\\"text\\\":\\\"b'RT @TheEconomist: New data show that 2016 is on course to be the hottest year ever recorded https:\\\\/\\\\/t.co\\\\/a6xA3qr7MF https:\\\\/\\\\/t.co\\\\/WS2WMVXv0J'\\\"}\""
        ],
        [
         "\"{\\\"id_str\\\":799120535896485888,\\\"created_at\\\":\\\"2016-11-17 05:22:37\\\",\\\"text\\\":\\\"b'@Contra_9077 sounds right'\\\"}\""
        ],
        [
         "\"{\\\"id_str\\\":799049461515198464,\\\"created_at\\\":\\\"2016-11-17 00:40:11\\\",\\\"text\\\":\\\"b\\\\\\\"RT @tsrandall: Tesla's new Easter egg makes the world's fastest car even faster https:\\\\/\\\\/t.co\\\\/fmQguxYCHM https:\\\\/\\\\/t.co\\\\/m24jqdTJzF\\\\\\\"\\\"}\""
        ],
        [
         "\"{\\\"id_str\\\":798984693844541440,\\\"created_at\\\":\\\"2016-11-16 20:22:50\\\",\\\"text\\\":\\\"b'@ArminKeyani All P100D vehicles produced to date, as well as new. This is purely a software optimization.'\\\"}\""
        ],
        [
         "\"{\\\"id_str\\\":798984120336465920,\\\"created_at\\\":\\\"2016-11-16 20:20:33\\\",\\\"text\\\":\\\"b'Model X numbers should also improve by 0.1 sec on 0 to 60 and 1\\\\/4 mile'\\\"}\""
        ],
        [
         "\"{\\\"id_str\\\":798980894543343616,\\\"created_at\\\":\\\"2016-11-16 20:07:44\\\",\\\"text\\\":\\\"b'Looks like the Model S P100D Easter egg will allow it to do 0 to 60 mph in 2.4 sec and a 10.6 sec 1\\\\/4 mile via software update next month'\\\"}\""
        ],
        [
         "\"{\\\"id_str\\\":798950716450574336,\\\"created_at\\\":\\\"2016-11-16 18:07:49\\\",\\\"text\\\":\\\"b\\\\\\\"@AustenAllred Wow, thanks. We won't let you down.\\\\\\\"\\\"}\""
        ],
        [
         "\"{\\\"id_str\\\":798886670468644865,\\\"created_at\\\":\\\"2016-11-16 13:53:19\\\",\\\"text\\\":\\\"b'@ID_AA_Carmack we could enable that, although the cameras use grey, grey, grey, red detection, so it would look a little greyish red :)'\\\"}\""
        ],
        [
         "\"{\\\"id_str\\\":798768530254491648,\\\"created_at\\\":\\\"2016-11-16 06:03:52\\\",\\\"text\\\":\\\"b'RT @NatGeo: Watch: When humans live on Mars, what exactly will they call home? \\\\\\\\nhttps:\\\\/\\\\/t.co\\\\/QlJBuB6FX2 #CountdownToMars'\\\"}\""
        ],
        [
         "\"{\\\"id_str\\\":798768113651040256,\\\"created_at\\\":\\\"2016-11-16 06:02:13\\\",\\\"text\\\":\\\"b'RT @RealRonHoward: MARS airs tonight on the @NatGeo   Hope you get to watch it.  https:\\\\/\\\\/t.co\\\\/7ObsMhuSnU'\\\"}\""
        ],
        [
         "\"{\\\"id_str\\\":818090148608868353,\\\"created_at\\\":\\\"2017-01-08 13:41:05\\\",\\\"text\\\":\\\"b'New rev for Autopilot HW2 rolling out Mon to first 1000 &amp; to rest of fleet in shadow mode. Also improves HW1 and enables Ludicrous+.'\\\"}\""
        ],
        [
         "\"{\\\"id_str\\\":817580438558359552,\\\"created_at\\\":\\\"2017-01-07 03:55:41\\\",\\\"text\\\":\\\"b'@fatihorhan @SpaceX That was a great game'\\\"}\""
        ],
        [
         "\"{\\\"id_str\\\":817509115555643392,\\\"created_at\\\":\\\"2017-01-06 23:12:16\\\",\\\"text\\\":\\\"b'@pensasoda https:\\\\/\\\\/t.co\\\\/6Ies7xBuBs via @WIRED'\\\"}\""
        ],
        [
         "\"{\\\"id_str\\\":817123579343028227,\\\"created_at\\\":\\\"2017-01-05 21:40:17\\\",\\\"text\\\":\\\"b'Hold-down firing of @SpaceX Falcon 9 at Vandenberg Air Force completed. All systems are go for launch next week.'\\\"}\""
        ],
        [
         "\"{\\\"id_str\\\":815309075445485568,\\\"created_at\\\":\\\"2016-12-31 21:30:05\\\",\\\"text\\\":\\\"b'HW2 Autopilot software uploading to 1000 cars this eve. Will then hold to verify no field issues and upload to rest of fleet next week.'\\\"}\""
        ],
        [
         "\"{\\\"id_str\\\":815026557282463744,\\\"created_at\\\":\\\"2016-12-31 02:47:28\\\",\\\"text\\\":\\\"b'@vicentes @DragTimes Late Jan, along with Linux kernel upgrade'\\\"}\""
        ],
        [
         "\"{\\\"id_str\\\":815024796362686464,\\\"created_at\\\":\\\"2016-12-31 02:40:28\\\",\\\"text\\\":\\\"b'@DragTimes Yes, but held up by Autopilot . It def works tho in shaving 0.1 sec off 0-60mph &amp; 1\\\\/4 mile. If AP goes t\\\\\\\\xe2\\\\\\\\x80\\\\\\\\xa6 https:\\\\/\\\\/t.co\\\\/kbV8qGc1A5'\\\"}\""
        ],
        [
         "\"{\\\"id_str\\\":815023208235560961,\\\"created_at\\\":\\\"2016-12-31 02:34:09\\\",\\\"text\\\":\\\"b'Resolving an Autopilot HW2 bug that shows up when booting from a subzero cold-soak. If that fix works, software will start uploading tmrw.'\\\"}\""
        ],
        [
         "\"{\\\"id_str\\\":814919997088665600,\\\"created_at\\\":\\\"2016-12-30 19:44:02\\\",\\\"text\\\":\\\"b'Churchill (non) quotes \\\\\\\\nhttps:\\\\/\\\\/t.co\\\\/avA4YD6K6g'\\\"}\""
        ],
        [
         "\"{\\\"id_str\\\":814837068987645952,\\\"created_at\\\":\\\"2016-12-30 14:14:30\\\",\\\"text\\\":\\\"b'RT @IridiumComm: Milestone Alert: The first ten #IridiumNEXT satellites are stacked and encapsulated in the Falcon 9 fairing. #NEXTevolutio\\\\\\\\xe2\\\\\\\\x80\\\\\\\\xa6'\\\"}\""
        ],
        [
         "\"{\\\"id_str\\\":223429211443036160,\\\"created_at\\\":\\\"2012-07-12 14:50:49\\\",\\\"text\\\":\\\"b'Going at full speed! MT \\\\\\\\xe2\\\\\\\\x80\\\\\\\\x9c@iansomerhalder: Elon- you are my hero my friend.Please!Ramp up production on cars that use NO gas.\\\\\\\"'\\\"}\""
        ],
        [
         "\"{\\\"id_str\\\":221503107182501889,\\\"created_at\\\":\\\"2012-07-07 07:17:10\\\",\\\"text\\\":\\\"b'Now back to work. Intense months ahead as we ramp production of rockets and cars.'\\\"}\""
        ],
        [
         "\"{\\\"id_str\\\":220824194672369666,\\\"created_at\\\":\\\"2012-07-05 10:19:25\\\",\\\"text\\\":\\\"b\\\\\\\"Moonbow's are real, btw. I'm not on acid :) Here is what we saw: http:\\\\/\\\\/t.co\\\\/ux6fV6z7\\\\\\\"\\\"}\""
        ],
        [
         "\"{\\\"id_str\\\":220784395282432001,\\\"created_at\\\":\\\"2012-07-05 07:41:16\\\",\\\"text\\\":\\\"b'Am standing on the beach in Maui and looking at a moon rainbow for the first time in my life. Incredibly beautiful.'\\\"}\""
        ],
        [
         "\"{\\\"id_str\\\":219270969666174977,\\\"created_at\\\":\\\"2012-07-01 03:27:27\\\",\\\"text\\\":\\\"b'After 2008 meltdown, vacation for me just meant email with a view, but SpaceX &amp; Tesla are now strong enough that I can make it real (yay!!)'\\\"}\""
        ],
        [
         "\"{\\\"id_str\\\":219266223895093248,\\\"created_at\\\":\\\"2012-07-01 03:08:36\\\",\\\"text\\\":\\\"b'Screening of Baseball in the Time of Cholera (dir: @brynmooser @daviddarg, prod @oliviawilde &amp; me) at WME July 12. @rainnwilson hosting'\\\"}\""
        ],
        [
         "\"{\\\"id_str\\\":218897974242181121,\\\"created_at\\\":\\\"2012-06-30 02:45:18\\\",\\\"text\\\":\\\"b\\\\\\\"Thanks Dan, you are a good sportsman. I will still donate to DWB as though I'd lost. http:\\\\/\\\\/t.co\\\\/G2g6kpvm\\\\\\\"\\\"}\""
        ],
        [
         "\"{\\\"id_str\\\":218887864769986560,\\\"created_at\\\":\\\"2012-06-30 02:05:08\\\",\\\"text\\\":\\\"b'RT @SpaceX: \\\\\\\"This Is Our Planet\\\\\\\" time-lapse video http:\\\\/\\\\/t.co\\\\/iVAriD40'\\\"}\""
        ],
        [
         "\"{\\\"id_str\\\":218357987385933825,\\\"created_at\\\":\\\"2012-06-28 14:59:35\\\",\\\"text\\\":\\\"b'\\\\\\\"The Girl Who Fixed the Umlaut\\\\\\\" @NewYorker http:\\\\/\\\\/t.co\\\\/CnPg2PkG\\\\\\\\xe2\\\\\\\\x80\\\\\\\\x9d'\\\"}\""
        ],
        [
         "\"{\\\"id_str\\\":217991440830173184,\\\"created_at\\\":\\\"2012-06-27 14:43:04\\\",\\\"text\\\":\\\"b'She was a great woman \\\\\\\\xe2\\\\\\\\x80\\\\\\\\x9c@VanityFair: In Memoriam, Nora Ephron, 1941-2012 http:\\\\/\\\\/t.co\\\\/raIoWXbb\\\\\\\\xe2\\\\\\\\x80\\\\\\\\x9d'\\\"}\""
        ],
        [
         "\"{\\\"id_str\\\":835187686151315456,\\\"created_at\\\":\\\"2017-02-24 18:00:36\\\",\\\"text\\\":\\\"b'@davidshepardson @BW @ATT @ToysRUs Exactly :)'\\\"}\""
        ],
        [
         "\"{\\\"id_str\\\":835185478512992256,\\\"created_at\\\":\\\"2017-02-24 17:51:49\\\",\\\"text\\\":\\\"b\\\\\\\"@meganmurp @ChrisFaile @BW I didn't pose for it (hopefully that's obvious) or want me on cover. Tunnel boring machine pic wd be way better\\\\\\\"\\\"}\""
        ],
        [
         "\"{\\\"id_str\\\":835178020604301313,\\\"created_at\\\":\\\"2017-02-24 17:22:11\\\",\\\"text\\\":\\\"b'@adrianvolts Minor improvements update this weekend. High speed autosteer in about two weeks.'\\\"}\""
        ],
        [
         "\"{\\\"id_str\\\":834740218531962881,\\\"created_at\\\":\\\"2017-02-23 12:22:31\\\",\\\"text\\\":\\\"b'Excellent Tesla Model X review https:\\\\/\\\\/t.co\\\\/wvog4Pbo1o'\\\"}\""
        ],
        [
         "\"{\\\"id_str\\\":833411017065394176,\\\"created_at\\\":\\\"2017-02-19 20:20:45\\\",\\\"text\\\":\\\"b'Just posted a video https:\\\\/\\\\/t.co\\\\/RCV7MVi8rs'\\\"}\""
        ],
        [
         "\"{\\\"id_str\\\":833332384913252352,\\\"created_at\\\":\\\"2017-02-19 15:08:17\\\",\\\"text\\\":\\\"b'https:\\\\/\\\\/t.co\\\\/6Ve3YJoStm'\\\"}\""
        ],
        [
         "\"{\\\"id_str\\\":833332058453790720,\\\"created_at\\\":\\\"2017-02-19 15:06:59\\\",\\\"text\\\":\\\"b'Baby came back https:\\\\/\\\\/t.co\\\\/5FRhw3AT2b'\\\"}\""
        ],
        [
         "\"{\\\"id_str\\\":833330869293035520,\\\"created_at\\\":\\\"2017-02-19 15:02:16\\\",\\\"text\\\":\\\"b'RT @SpaceX: Falcon 9 first stage has landed at LZ-1'\\\"}\""
        ],
        [
         "\"{\\\"id_str\\\":833329896168370179,\\\"created_at\\\":\\\"2017-02-19 14:58:24\\\",\\\"text\\\":\\\"b'@mattnewby no'\\\"}\""
        ],
        [
         "\"{\\\"id_str\\\":833329764232372224,\\\"created_at\\\":\\\"2017-02-19 14:57:52\\\",\\\"text\\\":\\\"b'RT @NASA: Right on schedule, solar arrays have been deployed on @SpaceX #Dragon cargo spacecraft. Watch: https:\\\\/\\\\/t.co\\\\/mzKW5uDsTi https:\\\\/\\\\/t.\\\\\\\\xe2\\\\\\\\x80\\\\\\\\xa6'\\\"}\""
        ],
        [
         "\"{\\\"id_str\\\":337908857198235649,\\\"created_at\\\":\\\"2013-05-24 12:32:04\\\",\\\"text\\\":\\\"b\\\\\\\"@VarunG_ Belief in climate change isn't necessary. Even a small probability of a severe outcome justifies a carbon tax.\\\\\\\"\\\"}\""
        ],
        [
         "\"{\\\"id_str\\\":337884269521281026,\\\"created_at\\\":\\\"2013-05-24 10:54:22\\\",\\\"text\\\":\\\"b'@karlbrauer Making rockets'\\\"}\""
        ],
        [
         "\"{\\\"id_str\\\":337826546104537088,\\\"created_at\\\":\\\"2013-05-24 07:04:59\\\",\\\"text\\\":\\\"b\\\\\\\"@tonykatz Don't like having a zillion tweets in the log. Makes it tough to wade through if someone wants to read my tweet history.\\\\\\\"\\\"}\""
        ],
        [
         "\"{\\\"id_str\\\":337795753797898240,\\\"created_at\\\":\\\"2013-05-24 05:02:38\\\",\\\"text\\\":\\\"b\\\\\\\"@SapientCapital We created electric cars to help solve the problem, not because we thought it was easy money. Still isn't.\\\\\\\"\\\"}\""
        ],
        [
         "\"{\\\"id_str\\\":337791672295501824,\\\"created_at\\\":\\\"2013-05-24 04:46:25\\\",\\\"text\\\":\\\"b'And, since we will run out of oil anyway, why risk the future of all life on Earth simply to delay sustainable energy?'\\\"}\""
        ],
        [
         "\"{\\\"id_str\\\":337789653233041408,\\\"created_at\\\":\\\"2013-05-24 04:38:23\\\",\\\"text\\\":\\\"b'Those who would deny climate change should ask themselves what happens if they are wrong http:\\\\/\\\\/t.co\\\\/S7fOIrly6B'\\\"}\""
        ],
        [
         "\"{\\\"id_str\\\":337594277666377730,\\\"created_at\\\":\\\"2013-05-23 15:42:02\\\",\\\"text\\\":\\\"b'More importantly, @Chrysler failed to pay back $1.3B. Apart those 2 points, you were totally 1st http:\\\\/\\\\/t.co\\\\/0P2ZLDl67a'\\\"}\""
        ],
        [
         "\"{\\\"id_str\\\":337592840743968768,\\\"created_at\\\":\\\"2013-05-23 15:36:20\\\",\\\"text\\\":\\\"b'As many have already noted, @Chrysler is a division of Fiat, an Italian company. We specifically said first *US* company.'\\\"}\""
        ],
        [
         "\"{\\\"id_str\\\":337506956875010048,\\\"created_at\\\":\\\"2013-05-23 09:55:03\\\",\\\"text\\\":\\\"b'Interview with @BloombergNews about Tesla and DOE loan gets into some of the details http:\\\\/\\\\/t.co\\\\/xb0JVoPHNC'\\\"}\""
        ],
        [
         "\"{\\\"id_str\\\":337323464241319936,\\\"created_at\\\":\\\"2013-05-22 21:45:55\\\",\\\"text\\\":\\\"b'Tesla wired the funds to repay the DOE loan today. Only US car company to have fully repaid govt http:\\\\/\\\\/t.co\\\\/jxHW9YkvPz'\\\"}\""
        ],
        [
         "\"{\\\"id_str\\\":226703106170318850,\\\"created_at\\\":\\\"2012-07-21 15:40:07\\\",\\\"text\\\":\\\"b\\\\\\\"Am in Yellowstone at an Oxford style debate about women and society. I'm in favor :)\\\\\\\"\\\"}\""
        ],
        [
         "\"{\\\"id_str\\\":225660118493196288,\\\"created_at\\\":\\\"2012-07-18 18:35:39\\\",\\\"text\\\":\\\"b'RT @SpaceX: Relive the most exciting moments from Dragon\\\\\\\\xe2\\\\\\\\x80\\\\\\\\x99s historic mission \\\\\\\\n http:\\\\/\\\\/t.co\\\\/YmKmkpKb'\\\"}\""
        ],
        [
         "\"{\\\"id_str\\\":225187179763220480,\\\"created_at\\\":\\\"2012-07-17 11:16:22\\\",\\\"text\\\":\\\"b'\\\\\\\"Welcome qwerty monkey Jesus love\\\\\\\" are the top 5 most popular passwords after \\\\\\\"password\\\\\\\".  http:\\\\/\\\\/t.co\\\\/P2a9Cfcd'\\\"}\""
        ],
        [
         "\"{\\\"id_str\\\":224406502188916739,\\\"created_at\\\":\\\"2012-07-15 07:34:14\\\",\\\"text\\\":\\\"b'Will publish something on the Hyperloop in about four weeks. Will forgo patents on the idea and just open source it. Not a vac tunnel btw.'\\\"}\""
        ],
        [
         "\"{\\\"id_str\\\":224405461938601984,\\\"created_at\\\":\\\"2012-07-15 07:30:06\\\",\\\"text\\\":\\\"b'\\\\\\\"Most of us live in a semi-somnambulistic state &amp; the days fly by. The 2 exceptions are childhood and when we are in love.\\\\\\\" - RG'\\\"}\""
        ],
        [
         "\"{\\\"id_str\\\":224005741810417665,\\\"created_at\\\":\\\"2012-07-14 05:01:46\\\",\\\"text\\\":\\\"b'Headed to a (ahem) volcano caldera. Since I didn\\\\\\\\'t finish my PhD, it\\\\\\\\'s actually \\\\\\\"Mr.\\\\\\\" Evil. http:\\\\/\\\\/t.co\\\\/e2cpsgEM'\\\"}\""
        ],
        [
         "\"{\\\"id_str\\\":223430899004485634,\\\"created_at\\\":\\\"2012-07-12 14:57:32\\\",\\\"text\\\":\\\"b'@n23mc I think we will see people on Mars in less than 20 years. 12 to 15 years most likely. #OccupyMars'\\\"}\""
        ],
        [
         "\"{\\\"id_str\\\":223429211443036160,\\\"created_at\\\":\\\"2012-07-12 14:50:49\\\",\\\"text\\\":\\\"b'Going at full speed! MT \\\\\\\\xe2\\\\\\\\x80\\\\\\\\x9c@iansomerhalder: Elon- you are my hero my friend.Please!Ramp up production on cars that use NO gas.\\\\\\\"'\\\"}\""
        ],
        [
         "\"{\\\"id_str\\\":221503107182501889,\\\"created_at\\\":\\\"2012-07-07 07:17:10\\\",\\\"text\\\":\\\"b'Now back to work. Intense months ahead as we ramp production of rockets and cars.'\\\"}\""
        ],
        [
         "\"{\\\"id_str\\\":220824194672369666,\\\"created_at\\\":\\\"2012-07-05 10:19:25\\\",\\\"text\\\":\\\"b\\\\\\\"Moonbow's are real, btw. I'm not on acid :) Here is what we saw: http:\\\\/\\\\/t.co\\\\/ux6fV6z7\\\\\\\"\\\"}\""
        ],
        [
         "\"{\\\"id_str\\\":799754534696296448,\\\"created_at\\\":\\\"2016-11-18 23:21:54\\\",\\\"text\\\":\\\"b\\\\\\\"RT @TechCrunch: Watch Tesla Model S P85D's instant speed avoid a potential rear-end collision https:\\\\/\\\\/t.co\\\\/04uQqU0FzA by @etherington https\\\\\\\\xe2\\\\\\\\x80\\\\\\\\xa6\\\\\\\"\\\"}\""
        ],
        [
         "\"{\\\"id_str\\\":799671408187961344,\\\"created_at\\\":\\\"2016-11-18 17:51:35\\\",\\\"text\\\":\\\"b'RT @garrett_bauman: .@TeslaMotors owners making $923 by renting their car 7 days out of the month on @turo, says CEO https:\\\\/\\\\/t.co\\\\/QPsAnhYLv\\\\\\\\xe2\\\\\\\\x80\\\\\\\\xa6'\\\"}\""
        ],
        [
         "\"{\\\"id_str\\\":799670715397980160,\\\"created_at\\\":\\\"2016-11-18 17:48:50\\\",\\\"text\\\":\\\"b'@vicentes @TeslaMotors @FortuneMagazine big mobile app update coming with 8.1 next month'\\\"}\""
        ],
        [
         "\"{\\\"id_str\\\":799670357535789056,\\\"created_at\\\":\\\"2016-11-18 17:47:25\\\",\\\"text\\\":\\\"b'RT @TeslaMotors: Battery solar farm to power the island of Kauai @FortuneMagazine https:\\\\/\\\\/t.co\\\\/rz2h6bp2Du'\\\"}\""
        ],
        [
         "\"{\\\"id_str\\\":799517977049755648,\\\"created_at\\\":\\\"2016-11-18 07:41:54\\\",\\\"text\\\":\\\"b'RT @SpaceX: Successfully tested the prototype Mars tank last week. Hit both of our pressure targets \\\\\\\\xe2\\\\\\\\x80\\\\\\\\x93 next up will be full cryo testing. ht\\\\\\\\xe2\\\\\\\\x80\\\\\\\\xa6'\\\"}\""
        ],
        [
         "\"{\\\"id_str\\\":799369292294725632,\\\"created_at\\\":\\\"2016-11-17 21:51:05\\\",\\\"text\\\":\\\"b'Vote tally shows ~85% of unaffiliated shareholders in favor of the Tesla\\\\/SolarCity merger! Thanks for believing.'\\\"}\""
        ],
        [
         "\"{\\\"id_str\\\":799328920852000768,\\\"created_at\\\":\\\"2016-11-17 19:10:40\\\",\\\"text\\\":\\\"b'RT @TheEconomist: New data show that 2016 is on course to be the hottest year ever recorded https:\\\\/\\\\/t.co\\\\/a6xA3qr7MF https:\\\\/\\\\/t.co\\\\/WS2WMVXv0J'\\\"}\""
        ],
        [
         "\"{\\\"id_str\\\":799120535896485888,\\\"created_at\\\":\\\"2016-11-17 05:22:37\\\",\\\"text\\\":\\\"b'@Contra_9077 sounds right'\\\"}\""
        ],
        [
         "\"{\\\"id_str\\\":799049461515198464,\\\"created_at\\\":\\\"2016-11-17 00:40:11\\\",\\\"text\\\":\\\"b\\\\\\\"RT @tsrandall: Tesla's new Easter egg makes the world's fastest car even faster https:\\\\/\\\\/t.co\\\\/fmQguxYCHM https:\\\\/\\\\/t.co\\\\/m24jqdTJzF\\\\\\\"\\\"}\""
        ],
        [
         "\"{\\\"id_str\\\":798984693844541440,\\\"created_at\\\":\\\"2016-11-16 20:22:50\\\",\\\"text\\\":\\\"b'@ArminKeyani All P100D vehicles produced to date, as well as new. This is purely a software optimization.'\\\"}\""
        ],
        [
         "\"{\\\"id_str\\\":739509168722186241,\\\"created_at\\\":\\\"2016-06-05 17:28:19\\\",\\\"text\\\":\\\"b'@ahess247 @Recode I love Douglas Adams! My favorite spaceship ever is in HHGTTG.'\\\"}\""
        ],
        [
         "\"{\\\"id_str\\\":739193563938856960,\\\"created_at\\\":\\\"2016-06-04 20:34:13\\\",\\\"text\\\":\\\"b'Exactly https:\\\\/\\\\/t.co\\\\/cy1AbIIo42'\\\"}\""
        ],
        [
         "\"{\\\"id_str\\\":739185293664747520,\\\"created_at\\\":\\\"2016-06-04 20:01:22\\\",\\\"text\\\":\\\"b'Good article from @themotleyfool explaining how little incentives have actually contributed to Tesla funding https:\\\\/\\\\/t.co\\\\/zfC8di7EDX'\\\"}\""
        ],
        [
         "\"{\\\"id_str\\\":739176652517707776,\\\"created_at\\\":\\\"2016-06-04 19:27:01\\\",\\\"text\\\":\\\"b'@SwiftOnSecurity how did you know?'\\\"}\""
        ],
        [
         "\"{\\\"id_str\\\":739006012749799424,\\\"created_at\\\":\\\"2016-06-04 08:08:58\\\",\\\"text\\\":\\\"b'Creating a neural lace is the thing that really matters for humanity to achieve symbiosis with machines'\\\"}\""
        ],
        [
         "\"{\\\"id_str\\\":739004504289353729,\\\"created_at\\\":\\\"2016-06-04 08:02:58\\\",\\\"text\\\":\\\"b'@JedBrown5 @renzdimaandal @Goetzman @Tom_Stears exactly'\\\"}\""
        ],
        [
         "\"{\\\"id_str\\\":739001483249618948,\\\"created_at\\\":\\\"2016-06-04 07:50:58\\\",\\\"text\\\":\\\"b'@renzdimaandal @Tom_Stears It is simulations all the way down'\\\"}\""
        ],
        [
         "\"{\\\"id_str\\\":738998975118737408,\\\"created_at\\\":\\\"2016-06-04 07:41:00\\\",\\\"text\\\":\\\"b\\\\\\\"At this point, I'm really running out of crazy things to say. Any suggestions?\\\\\\\\nhttps:\\\\/\\\\/t.co\\\\/dGVJBcSZn2\\\\\\\"\\\"}\""
        ],
        [
         "\"{\\\"id_str\\\":738856423656808448,\\\"created_at\\\":\\\"2016-06-03 22:14:33\\\",\\\"text\\\":\\\"b'@lessteza control of super powerful AI by a small number of humans is the most proximate concern'\\\"}\""
        ],
        [
         "\"{\\\"id_str\\\":738805691528318976,\\\"created_at\\\":\\\"2016-06-03 18:52:57\\\",\\\"text\\\":\\\"b'Just heard that Norway will ban new sales of fuel cars in 2025. What an amazingly awesome country. You guys rock!! https:\\\\/\\\\/t.co\\\\/uAXuBkDYuR'\\\"}\""
        ],
        [
         "\"{\\\"id_str\\\":627041173669048320,\\\"created_at\\\":\\\"2015-07-31 09:00:40\\\",\\\"text\\\":\\\"b'@alipoursamar all regions'\\\"}\""
        ],
        [
         "\"{\\\"id_str\\\":627040639553830912,\\\"created_at\\\":\\\"2015-07-31 08:58:32\\\",\\\"text\\\":\\\"b'Final corner case is dealing with low contrast lane markings (faded white on grey concrete) while driving into the sun at dusk'\\\"}\""
        ],
        [
         "\"{\\\"id_str\\\":627040381729906688,\\\"created_at\\\":\\\"2015-07-31 08:57:31\\\",\\\"text\\\":\\\"b'Almost ready to release highway autosteer and parallel autopark software update'\\\"}\""
        ],
        [
         "\"{\\\"id_str\\\":626979025190301696,\\\"created_at\\\":\\\"2015-07-31 04:53:42\\\",\\\"text\\\":\\\"b'RT @TheEconomist: A carbon tax is the best way to reduce emissions. Failing that, halt subsidies to fossil fuels http:\\\\/\\\\/t.co\\\\/wfuLPiW6tH htt\\\\\\\\xe2\\\\\\\\x80\\\\\\\\xa6'\\\"}\""
        ],
        [
         "\"{\\\"id_str\\\":626780203533107200,\\\"created_at\\\":\\\"2015-07-30 15:43:40\\\",\\\"text\\\":\\\"b'@Alyssa_Milano Thanks Alyssa!'\\\"}\""
        ],
        [
         "\"{\\\"id_str\\\":626779726695297024,\\\"created_at\\\":\\\"2015-07-30 15:41:46\\\",\\\"text\\\":\\\"b'@loic thanks Loic :)'\\\"}\""
        ],
        [
         "\"{\\\"id_str\\\":625893002490314753,\\\"created_at\\\":\\\"2015-07-28 04:58:14\\\",\\\"text\\\":\\\"b\\\\\\\"@ID_AA_Carmack Even if inevitable, we should at least attempt to postpone the advent of AI weaponry. Sooner isn't better.\\\\\\\"\\\"}\""
        ],
        [
         "\"{\\\"id_str\\\":625843527608459266,\\\"created_at\\\":\\\"2015-07-28 01:41:39\\\",\\\"text\\\":\\\"b'If you\\\\\\\\xe2\\\\\\\\x80\\\\\\\\x99re against a military AI arms race, please sign this open letter:\\\\\\\\nhttp:\\\\/\\\\/t.co\\\\/yyF9rcm9jz'\\\"}\""
        ],
        [
         "\"{\\\"id_str\\\":625526696788291584,\\\"created_at\\\":\\\"2015-07-27 04:42:40\\\",\\\"text\\\":\\\"b'@kevinmitnick probably end of year'\\\"}\""
        ],
        [
         "\"{\\\"id_str\\\":622223920318431232,\\\"created_at\\\":\\\"2015-07-18 01:58:37\\\",\\\"text\\\":\\\"b'Ludicrous speed, 70 kWh rear drive and 90 kWh battery pack http:\\\\/\\\\/t.co\\\\/kr9A0iXM58'\\\"}\""
        ],
        [
         "\"{\\\"id_str\\\":806414564174819328,\\\"created_at\\\":\\\"2016-12-07 08:26:29\\\",\\\"text\\\":\\\"b\\\\\\\"How do we know this story isn't fake? Unfortunately, it is probably true. https:\\\\/\\\\/t.co\\\\/YzyP4kG63R\\\\\\\"\\\"}\""
        ],
        [
         "\"{\\\"id_str\\\":805862775603929088,\\\"created_at\\\":\\\"2016-12-05 19:53:52\\\",\\\"text\\\":\\\"b'RT @OpenAI: A video tutorial and overview of Universe from @sirajology: https:\\\\/\\\\/t.co\\\\/9JyfF5aFrl'\\\"}\""
        ],
        [
         "\"{\\\"id_str\\\":805696868097236992,\\\"created_at\\\":\\\"2016-12-05 08:54:37\\\",\\\"text\\\":\\\"b\\\\\\\"RT @OpenAI: We're releasing Universe, a platform for measuring and training AI agents: https:\\\\/\\\\/t.co\\\\/bx7OjMDaJK\\\\\\\"\\\"}\""
        ],
        [
         "\"{\\\"id_str\\\":804205155822374913,\\\"created_at\\\":\\\"2016-12-01 06:07:05\\\",\\\"text\\\":\\\"b'Model S smashes into semi truck trailer and lifts it off the ground. Driver walks away. https:\\\\/\\\\/t.co\\\\/NSuMvcYaA6'\\\"}\""
        ],
        [
         "\"{\\\"id_str\\\":803269287167201280,\\\"created_at\\\":\\\"2016-11-28 16:08:16\\\",\\\"text\\\":\\\"b'RT @TeslaMotors: \\\\\\\"Faster than a supercar, roomier than an SUV, more eco-friendly than... anything! Rating: \\\\\\\\xe2\\\\\\\\x98\\\\\\\\x85\\\\\\\\xe2\\\\\\\\x98\\\\\\\\x85\\\\\\\\xe2\\\\\\\\x98\\\\\\\\x85\\\\\\\\xe2\\\\\\\\x98\\\\\\\\x85\\\\\\\\xe2\\\\\\\\x98\\\\\\\\x85\\\\\\\" @MailOnline https:\\\\/\\\\/t.co\\\\/\\\\\\\\xe2\\\\\\\\x80\\\\\\\\xa6'\\\"}\""
        ],
        [
         "\"{\\\"id_str\\\":802708695830306816,\\\"created_at\\\":\\\"2016-11-27 03:00:41\\\",\\\"text\\\":\\\"b'@edwardsanchez about three weeks and it will get rolled out incrementally in monthly releases'\\\"}\""
        ],
        [
         "\"{\\\"id_str\\\":801572499418796032,\\\"created_at\\\":\\\"2016-11-23 23:45:51\\\",\\\"text\\\":\\\"b'@chemisdrey yes'\\\"}\""
        ],
        [
         "\"{\\\"id_str\\\":801569787121790976,\\\"created_at\\\":\\\"2016-11-23 23:35:04\\\",\\\"text\\\":\\\"b'RT @thedrive: These Are the Lobbyists Behind the Site Attacking Elon Musk and Tesla: https:\\\\/\\\\/t.co\\\\/l6u1MTrm0P'\\\"}\""
        ],
        [
         "\"{\\\"id_str\\\":801569305435381760,\\\"created_at\\\":\\\"2016-11-23 23:33:09\\\",\\\"text\\\":\\\"b'@Mederinho10 @BW @business at least some of them'\\\"}\""
        ],
        [
         "\"{\\\"id_str\\\":801124223049568256,\\\"created_at\\\":\\\"2016-11-22 18:04:33\\\",\\\"text\\\":\\\"b\\\\\\\"@stryker_88 That doesn't make sense. Will look into it.\\\\\\\"\\\"}\""
        ],
        [
         "\"{\\\"id_str\\\":307361875782402048,\\\"created_at\\\":\\\"2013-03-01 05:29:16\\\",\\\"text\\\":\\\"b'Launch on track for tomorrow morning at 10:10 am Cape Canaveral time'\\\"}\""
        ],
        [
         "\"{\\\"id_str\\\":306926977250631680,\\\"created_at\\\":\\\"2013-02-28 00:41:08\\\",\\\"text\\\":\\\"b\\\\\\\"RT @Edmunds_Test: About to head home in our 2013 @Teslamotors Model S. I won't plug in at home for the return trip. I'll take side trips ...\\\\\\\"\\\"}\""
        ],
        [
         "\"{\\\"id_str\\\":306612536973856768,\\\"created_at\\\":\\\"2013-02-27 03:51:40\\\",\\\"text\\\":\\\"b'@andrewliebchen @_chrissimmons Exactly. Then no need for clean energy subsidies, as externality is priced into mkt behavior'\\\"}\""
        ],
        [
         "\"{\\\"id_str\\\":306608592100941824,\\\"created_at\\\":\\\"2013-02-27 03:35:59\\\",\\\"text\\\":\\\"b'@_ChrisSimmons A carbon tax would affect coal even more than gasoline, so electricity would also become more expensive'\\\"}\""
        ],
        [
         "\"{\\\"id_str\\\":306591715077271553,\\\"created_at\\\":\\\"2013-02-27 02:28:55\\\",\\\"text\\\":\\\"b'One often hears that there is no point in a US carbon tax unless China acts. Well, they just did http:\\\\/\\\\/t.co\\\\/SIp9NzkulK'\\\"}\""
        ],
        [
         "\"{\\\"id_str\\\":306304864164667392,\\\"created_at\\\":\\\"2013-02-26 07:29:05\\\",\\\"text\\\":\\\"b'RT @johnvoelcker: This is one very, very happy owner! My 2013 Tesla Model S Electric Sport Sedan: Delivery at Last! http:\\\\/\\\\/t.co\\\\/XNBQc6Md ...'\\\"}\""
        ],
        [
         "\"{\\\"id_str\\\":306193893890863104,\\\"created_at\\\":\\\"2013-02-26 00:08:07\\\",\\\"text\\\":\\\"b'Rocket static fire @SpaceX Cape Canaveral launch pad looks good. Engines generated 433 tons of thrust, parameters nominal.'\\\"}\""
        ],
        [
         "\"{\\\"id_str\\\":305971647561752576,\\\"created_at\\\":\\\"2013-02-25 09:25:00\\\",\\\"text\\\":\\\"b'@FaeLoba Best is winning competitions like Formula SAE, design\\\\/build\\\\/fly or other evidence of exceptional eng ability'\\\"}\""
        ],
        [
         "\"{\\\"id_str\\\":305172926762725376,\\\"created_at\\\":\\\"2013-02-23 04:31:10\\\",\\\"text\\\":\\\"b'@EricIdle Cool! Btw, thought you might appreciate that 1st flight of Dragon spacecraft carried a large wheel of cheese :)'\\\"}\""
        ],
        [
         "\"{\\\"id_str\\\":304988995836862465,\\\"created_at\\\":\\\"2013-02-22 16:20:17\\\",\\\"text\\\":\\\"b'RT @NASA: Want to join us and cover the next @SpaceX launch on March 1? Now you can apply for a #NASASocial Media Credential http:\\\\/\\\\/t.co ...'\\\"}\""
        ],
        [
         "\"{\\\"id_str\\\":153519464653127680,\\\"created_at\\\":\\\"2012-01-01 16:54:27\\\",\\\"text\\\":\\\"b\\\\\\\"@FareedZakaria However, China's real estate crisis will explode in a way that makes ours look puny. They can't hide it for much longer.\\\\\\\"\\\"}\""
        ],
        [
         "\"{\\\"id_str\\\":153518263001808896,\\\"created_at\\\":\\\"2012-01-01 16:49:40\\\",\\\"text\\\":\\\"b\\\\\\\"@FareedZakaria Yeah, 2012 will be great for the American economy & jobs, as we've mostly dealt with the overbuilt housing crisis.\\\\\\\"\\\"}\""
        ],
        [
         "\"{\\\"id_str\\\":153515940707975169,\\\"created_at\\\":\\\"2012-01-01 16:40:27\\\",\\\"text\\\":\\\"b'My first prediction of 2012 has come true: ouch, my head hurts.'\\\"}\""
        ],
        [
         "\"{\\\"id_str\\\":153236159361847298,\\\"created_at\\\":\\\"2011-12-31 22:08:42\\\",\\\"text\\\":\\\"b\\\\\\\"World violence being super low is probably counter-intuitive to most people. That's because modern media is a misery microscope.\\\\\\\"\\\"}\""
        ],
        [
         "\"{\\\"id_str\\\":153235426126213120,\\\"created_at\\\":\\\"2011-12-31 22:05:47\\\",\\\"text\\\":\\\"b\\\\\\\"Here's a happy thought for 2012: world violence is at an all time historical low. Excellent piece by Stephen Pinker http:\\\\/\\\\/t.co\\\\/gv4MLfQe\\\\\\\"\\\"}\""
        ],
        [
         "\"{\\\"id_str\\\":153099684280410112,\\\"created_at\\\":\\\"2011-12-31 13:06:23\\\",\\\"text\\\":\\\"b'Hacked my Tesla charge connector on a small island in the rain last night #whatcouldpossiblygowrong'\\\"}\""
        ],
        [
         "\"{\\\"id_str\\\":152774892591398913,\\\"created_at\\\":\\\"2011-12-30 15:35:47\\\",\\\"text\\\":\\\"b'Not that this really matters. All current rocket tech, including ours, sucks. Only when it becomes fully reusable, will it not suck.'\\\"}\""
        ],
        [
         "\"{\\\"id_str\\\":152763084488982531,\\\"created_at\\\":\\\"2011-12-30 14:48:52\\\",\\\"text\\\":\\\"b'SpaceX has Boeing, Lockheed, Europe (Ariane) and Russia (Proton\\\\/Soyuz) near checkmate in rocket technology. End game is all about China.'\\\"}\""
        ],
        [
         "\"{\\\"id_str\\\":152759917621690368,\\\"created_at\\\":\\\"2011-12-30 14:36:17\\\",\\\"text\\\":\\\"b'China unveils ambitious space strategy http:\\\\/\\\\/t.co\\\\/udHmuft2'\\\"}\""
        ],
        [
         "\"{\\\"id_str\\\":152614233278910464,\\\"created_at\\\":\\\"2011-12-30 04:57:23\\\",\\\"text\\\":\\\"b'To be clear, CtG absolutely did *not* bang her horse. They were just close friends who liked to take showers together and spoon at night.'\\\"}\""
        ],
        [
         "\"{\\\"id_str\\\":778602694399320065,\\\"created_at\\\":\\\"2016-09-21 14:32:02\\\",\\\"text\\\":\\\"b'Tesla keeps temp below 40C\\\\/105F by automatically venting cabin &amp; turning on AC when needed. Can do this for up to a year on a full charge.'\\\"}\""
        ],
        [
         "\"{\\\"id_str\\\":778602042759585793,\\\"created_at\\\":\\\"2016-09-21 14:29:27\\\",\\\"text\\\":\\\"b'My favorite new feature is the always-on max temp control for keeping kids and pets safe from overheating.'\\\"}\""
        ],
        [
         "\"{\\\"id_str\\\":778600126063390720,\\\"created_at\\\":\\\"2016-09-21 14:21:50\\\",\\\"text\\\":\\\"b'This is a major overhaul on almost every level compared to V7.'\\\"}\""
        ],
        [
         "\"{\\\"id_str\\\":778599820227252225,\\\"created_at\\\":\\\"2016-09-21 14:20:37\\\",\\\"text\\\":\\\"b\\\\\\\"V8.0 starts downloading tonight. Release will be gradual to make sure there aren't small regressions. Many car configs, many environments.\\\\\\\"\\\"}\""
        ],
        [
         "\"{\\\"id_str\\\":777985245731696640,\\\"created_at\\\":\\\"2016-09-19 21:38:31\\\",\\\"text\\\":\\\"b'@PassionPlanet1 Yeah, definitely one of my favorite names'\\\"}\""
        ],
        [
         "\"{\\\"id_str\\\":777330011703566336,\\\"created_at\\\":\\\"2016-09-18 02:14:51\\\",\\\"text\\\":\\\"b'@thescalex @SpaceX @IAC2016 @YouTube its it is'\\\"}\""
        ],
        [
         "\"{\\\"id_str\\\":777325549442232320,\\\"created_at\\\":\\\"2016-09-18 01:57:07\\\",\\\"text\\\":\\\"b'Preview of the @SpaceX interplanetary transport system at @IAC2016\\\\\\\\nhttps:\\\\/\\\\/t.co\\\\/Rz4XmeAoRw'\\\"}\""
        ],
        [
         "\"{\\\"id_str\\\":777027622924681216,\\\"created_at\\\":\\\"2016-09-17 06:13:16\\\",\\\"text\\\":\\\"b\\\\\\\"@JonasPolsky @schellgames that's a great one\\\\\\\"\\\"}\""
        ],
        [
         "\"{\\\"id_str\\\":776971939277438976,\\\"created_at\\\":\\\"2016-09-17 02:32:00\\\",\\\"text\\\":\\\"b'@andyzalk sounds like the right name for the rocket booster'\\\"}\""
        ],
        [
         "\"{\\\"id_str\\\":776960194852958208,\\\"created_at\\\":\\\"2016-09-17 01:45:20\\\",\\\"text\\\":\\\"b'@LarryMasters778 That is my favorite fictional spaceship. Powered by improbability!'\\\"}\""
        ],
        [
         "\"{\\\"id_str\\\":307958110474104832,\\\"created_at\\\":\\\"2013-03-02 20:58:29\\\",\\\"text\\\":\\\"b'Just received #Dragon docking clearance from @NASA. Will begin orbital maneuvers to Space Station at 11pm Pacific time.'\\\"}\""
        ],
        [
         "\"{\\\"id_str\\\":307633403195449344,\\\"created_at\\\":\\\"2013-03-01 23:28:13\\\",\\\"text\\\":\\\"b'Would also like to thank @USAirForce for allowing us to use their long range comm system for Dragon in free drift.'\\\"}\""
        ],
        [
         "\"{\\\"id_str\\\":307627922783600640,\\\"created_at\\\":\\\"2013-03-01 23:06:26\\\",\\\"text\\\":\\\"b\\\\\\\"Just want to say thanks to @NASA for being the world's coolest customer. Looking forward to delivering the goods!\\\\\\\"\\\"}\""
        ],
        [
         "\"{\\\"id_str\\\":307615430154022912,\\\"created_at\\\":\\\"2013-03-01 22:16:48\\\",\\\"text\\\":\\\"b'Orbit raising burn successful. Dragon back on track.'\\\"}\""
        ],
        [
         "\"{\\\"id_str\\\":307597163582590977,\\\"created_at\\\":\\\"2013-03-01 21:04:13\\\",\\\"text\\\":\\\"b'Thruster pods one through four are now operating nominally. Preparing to raise orbit. All systems green.'\\\"}\""
        ],
        [
         "\"{\\\"id_str\\\":307580263637061633,\\\"created_at\\\":\\\"2013-03-01 19:57:04\\\",\\\"text\\\":\\\"b'Pods 1 and 4 now online and thrusters engaged. Dragon transitioned from free drift to active control. Yes!!'\\\"}\""
        ],
        [
         "\"{\\\"id_str\\\":307536134215446528,\\\"created_at\\\":\\\"2013-03-01 17:01:42\\\",\\\"text\\\":\\\"b'Attempting bring up of thruster pods 2 and 4'\\\"}\""
        ],
        [
         "\"{\\\"id_str\\\":307533114035535872,\\\"created_at\\\":\\\"2013-03-01 16:49:42\\\",\\\"text\\\":\\\"b'Solar array deployment successful'\\\"}\""
        ],
        [
         "\"{\\\"id_str\\\":307530281290711042,\\\"created_at\\\":\\\"2013-03-01 16:38:27\\\",\\\"text\\\":\\\"b'Thruster pod 3 tank pressure trending positive. Preparing to deploy solar arrays.'\\\"}\""
        ],
        [
         "\"{\\\"id_str\\\":307523715678212096,\\\"created_at\\\":\\\"2013-03-01 16:12:21\\\",\\\"text\\\":\\\"b'About to pass over Australia ground station and command inhibit override'\\\"}\""
        ],
        [
         "\"{\\\"id_str\\\":716751456574025728,\\\"created_at\\\":\\\"2016-04-03 22:17:18\\\",\\\"text\\\":\\\"b'@GatorWass you can do that now with S and X. Will be same for 3.'\\\"}\""
        ],
        [
         "\"{\\\"id_str\\\":716751300063531008,\\\"created_at\\\":\\\"2016-04-03 22:16:41\\\",\\\"text\\\":\\\"b'@_elombardo @rjpryan correct'\\\"}\""
        ],
        [
         "\"{\\\"id_str\\\":716751152906440705,\\\"created_at\\\":\\\"2016-04-03 22:16:06\\\",\\\"text\\\":\\\"b'@EduardoForneck hopefully 0.21'\\\"}\""
        ],
        [
         "\"{\\\"id_str\\\":716750603813318660,\\\"created_at\\\":\\\"2016-04-03 22:13:55\\\",\\\"text\\\":\\\"b\\\\\\\"@PeteEhmKay @gerardomarina what's the link to that?\\\\\\\"\\\"}\""
        ],
        [
         "\"{\\\"id_str\\\":716750313471025152,\\\"created_at\\\":\\\"2016-04-03 22:12:45\\\",\\\"text\\\":\\\"b'@tapwin No, but we will need to build a factory in Europe to serve long-term regional demand as Fremont reaches max capacity.'\\\"}\""
        ],
        [
         "\"{\\\"id_str\\\":716749717795946496,\\\"created_at\\\":\\\"2016-04-03 22:10:23\\\",\\\"text\\\":\\\"b'@mpatfield no problem'\\\"}\""
        ],
        [
         "\"{\\\"id_str\\\":716749159324377089,\\\"created_at\\\":\\\"2016-04-03 22:08:10\\\",\\\"text\\\":\\\"b'@CrackedUpCorson Will cover whole country hopefully this year'\\\"}\""
        ],
        [
         "\"{\\\"id_str\\\":716748255242100736,\\\"created_at\\\":\\\"2016-04-03 22:04:35\\\",\\\"text\\\":\\\"b'@AndersRytter yes, but production AWD will be a lot faster'\\\"}\""
        ],
        [
         "\"{\\\"id_str\\\":716747844175142912,\\\"created_at\\\":\\\"2016-04-03 22:02:57\\\",\\\"text\\\":\\\"b'@AlexBelohlavek less'\\\"}\""
        ],
        [
         "\"{\\\"id_str\\\":716747672477151232,\\\"created_at\\\":\\\"2016-04-03 22:02:16\\\",\\\"text\\\":\\\"b'@torvos torque is shifted between front &amp; rear motors every ~.01 secs. Traction control is way better than a normal AWD. Digital vs analog.'\\\"}\""
        ],
        [
         "\"{\\\"id_str\\\":181881709841752064,\\\"created_at\\\":\\\"2012-03-19 23:15:53\\\",\\\"text\\\":\\\"b'RT @SpaceX: In case you missed it, here is the full video of SpaceX on @60Minutes last night. What did you think of the story? http:\\\\/\\\\/t. ...'\\\"}\""
        ],
        [
         "\"{\\\"id_str\\\":180226195206569984,\\\"created_at\\\":\\\"2012-03-15 09:37:28\\\",\\\"text\\\":\\\"b'Lovely poster about wishes that explains one of the many reasons to make life multiplanetary http:\\\\/\\\\/t.co\\\\/e1ZM8a2b'\\\"}\""
        ],
        [
         "\"{\\\"id_str\\\":180105275133538306,\\\"created_at\\\":\\\"2012-03-15 01:36:58\\\",\\\"text\\\":\\\"b'10 years ago today, SpaceX was founded. Many battles fought. Physics always won. http:\\\\/\\\\/t.co\\\\/p85UHeuq'\\\"}\""
        ],
        [
         "\"{\\\"id_str\\\":180067296201547777,\\\"created_at\\\":\\\"2012-03-14 23:06:03\\\",\\\"text\\\":\\\"b\\\\\\\"Why I'm leaving the Empire, by Darth Vader  http:\\\\/\\\\/t.co\\\\/D5YUbAyO\\\\\\\"\\\"}\""
        ],
        [
         "\"{\\\"id_str\\\":179468649038479361,\\\"created_at\\\":\\\"2012-03-13 07:27:14\\\",\\\"text\\\":\\\"b'If something is physically possible, not only is someone doing it, but there is also an award show.'\\\"}\""
        ],
        [
         "\"{\\\"id_str\\\":179095691468095489,\\\"created_at\\\":\\\"2012-03-12 06:45:14\\\",\\\"text\\\":\\\"b'Mountain lions eat cats, which means we *actually* live in a cat eat cat world ... an apology is owed to dogkind!'\\\"}\""
        ],
        [
         "\"{\\\"id_str\\\":178878446137647105,\\\"created_at\\\":\\\"2012-03-11 16:21:59\\\",\\\"text\\\":\\\"b'I think if you go there, they just feed you delicious candy all day and ask nothing in return.'\\\"}\""
        ],
        [
         "\"{\\\"id_str\\\":178865792371277825,\\\"created_at\\\":\\\"2012-03-11 15:31:43\\\",\\\"text\\\":\\\"b'Just passed a place called the Sugar Shack in a Louisiana swamp. I wonder what happens there? http:\\\\/\\\\/t.co\\\\/1MomQnNe'\\\"}\""
        ],
        [
         "\"{\\\"id_str\\\":177210012911927299,\\\"created_at\\\":\\\"2012-03-07 01:52:14\\\",\\\"text\\\":\\\"b'The President of Serbia came by our booth at the Geneva Motor Show and talked about Nikola Tesla http:\\\\/\\\\/t.co\\\\/KIhxc0TF'\\\"}\""
        ],
        [
         "\"{\\\"id_str\\\":176181571479552001,\\\"created_at\\\":\\\"2012-03-04 05:45:34\\\",\\\"text\\\":\\\"b'RT @westcoastbill: lol my friends car \\\\\\\\xe2\\\\\\\\x80\\\\\\\\x9c@ryan: See also: http:\\\\/\\\\/t.co\\\\/jXuJU0mf\\\\\\\\xe2\\\\\\\\x80\\\\\\\\x9d'\\\"}\""
        ],
        [
         "\"{\\\"id_str\\\":151317672217419777,\\\"created_at\\\":\\\"2011-12-26 15:05:19\\\",\\\"text\\\":\\\"b'Single character Tweets are the ulitmate extension of the Twitmeme...'\\\"}\""
        ],
        [
         "\"{\\\"id_str\\\":151151777662779392,\\\"created_at\\\":\\\"2011-12-26 04:06:06\\\",\\\"text\\\":\\\"b'I'\\\"}\""
        ],
        [
         "\"{\\\"id_str\\\":150390624552615937,\\\"created_at\\\":\\\"2011-12-24 01:41:33\\\",\\\"text\\\":\\\"b'The Russians are having some challenges with their rockets. Too many of the engineers that designed them have retired: http:\\\\/\\\\/t.co\\\\/rEs7spSU'\\\"}\""
        ],
        [
         "\"{\\\"id_str\\\":150388617246801920,\\\"created_at\\\":\\\"2011-12-24 01:33:35\\\",\\\"text\\\":\\\"b'We had a long and interesting conversation on many subjects. He has exciting ideas for extending his creative talents beyond music.'\\\"}\""
        ],
        [
         "\"{\\\"id_str\\\":150387544402575360,\\\"created_at\\\":\\\"2011-12-24 01:29:19\\\",\\\"text\\\":\\\"b'Kanye stopped by the SpaceX rocket factory today. http:\\\\/\\\\/t.co\\\\/6z7gHBn6'\\\"}\""
        ],
        [
         "\"{\\\"id_str\\\":149813972915339264,\\\"created_at\\\":\\\"2011-12-22 11:30:10\\\",\\\"text\\\":\\\"b'Model S options are out! Performance in red and black for me.  I will deliver my car in June\\\\/July. http:\\\\/\\\\/t.co\\\\/acnyP4nh'\\\"}\""
        ],
        [
         "\"{\\\"id_str\\\":149787827712958464,\\\"created_at\\\":\\\"2011-12-22 09:46:16\\\",\\\"text\\\":\\\"b\\\\\\\"Hi, I'm Art Garfunkel. Have you heard the sound of silence? Because, you know, it makes a sound... http:\\\\/\\\\/t.co\\\\/7vgya9xL\\\\\\\"\\\"}\""
        ],
        [
         "\"{\\\"id_str\\\":149688828599349251,\\\"created_at\\\":\\\"2011-12-22 03:12:52\\\",\\\"text\\\":\\\"b'Raul Campos invited me to do a guest DJ gig on KCRW.  Hear my random holiday season music selections at http:\\\\/\\\\/t.co\\\\/o6FQASvC'\\\"}\""
        ],
        [
         "\"{\\\"id_str\\\":149629518267695104,\\\"created_at\\\":\\\"2011-12-21 23:17:11\\\",\\\"text\\\":\\\"b'Yum! Even better than deep fried butter: http:\\\\/\\\\/t.co\\\\/Ody21NuD'\\\"}\""
        ],
        [
         "\"{\\\"id_str\\\":149447517325635584,\\\"created_at\\\":\\\"2011-12-21 11:13:59\\\",\\\"text\\\":\\\"b'Yeah, this really is me, as my Mom @mayemusk will attest.\\\\\\\\nNot sure I can handle just doing 140 char missives. Will put longer thoughts on G+'\\\"}\""
        ],
        [
         "\"{\\\"id_str\\\":699880397396512768,\\\"created_at\\\":\\\"2016-02-17 08:57:44\\\",\\\"text\\\":\\\"b'@BasseyE @tegmark yes'\\\"}\""
        ],
        [
         "\"{\\\"id_str\\\":699836207442710528,\\\"created_at\\\":\\\"2016-02-17 06:02:08\\\",\\\"text\\\":\\\"b'RT @Lebeaucarnews: Test Drives Whet Appetite for TSLA Model X Believers https:\\\\/\\\\/t.co\\\\/dn54pzs53O'\\\"}\""
        ],
        [
         "\"{\\\"id_str\\\":699709623406702592,\\\"created_at\\\":\\\"2016-02-16 21:39:08\\\",\\\"text\\\":\\\"b\\\\\\\"Interesting to think of physics as a set of compression algorithms for the universe. That's basically what formulas are.\\\\\\\"\\\"}\""
        ],
        [
         "\"{\\\"id_str\\\":699510738147106816,\\\"created_at\\\":\\\"2016-02-16 08:28:50\\\",\\\"text\\\":\\\"b'@chriskreidler @engadget yes, this was done jointly with Tesla and Radio Flyer'\\\"}\""
        ],
        [
         "\"{\\\"id_str\\\":699510097332994048,\\\"created_at\\\":\\\"2016-02-16 08:26:18\\\",\\\"text\\\":\\\"b'This baby Model S really is quite fun  https:\\\\/\\\\/t.co\\\\/40W5sS5bKI'\\\"}\""
        ],
        [
         "\"{\\\"id_str\\\":698931459722072064,\\\"created_at\\\":\\\"2016-02-14 18:07:00\\\",\\\"text\\\":\\\"b\\\\\\\"RT @billmckibben: Great @RollingStone expose of the Koch Bros 'dirty war on solar power.' https:\\\\/\\\\/t.co\\\\/akHG8XtF6f\\\\\\\"\\\"}\""
        ],
        [
         "\"{\\\"id_str\\\":698813524827443200,\\\"created_at\\\":\\\"2016-02-14 10:18:22\\\",\\\"text\\\":\\\"b'RT @TeslaMotors: 4 semi-autonomous cars put to the test: \\\\\\\\xe2\\\\\\\\x80\\\\\\\\x9cTesla\\\\\\\\xe2\\\\\\\\x80\\\\\\\\x99s Autopilot is the clear winner.\\\\\\\\xe2\\\\\\\\x80\\\\\\\\x9d @CARandDRIVER https:\\\\/\\\\/t.co\\\\/azia4en1ru'\\\"}\""
        ],
        [
         "\"{\\\"id_str\\\":698196071529316352,\\\"created_at\\\":\\\"2016-02-12 17:24:49\\\",\\\"text\\\":\\\"b'RT @TeslaMotors: Model X gets its wings https:\\\\/\\\\/t.co\\\\/08srkZi2oh'\\\"}\""
        ],
        [
         "\"{\\\"id_str\\\":697684032868356097,\\\"created_at\\\":\\\"2016-02-11 07:30:10\\\",\\\"text\\\":\\\"b\\\\\\\"More details on Model 3 unveil in coming weeks. That's it for now.\\\\\\\"\\\"}\""
        ],
        [
         "\"{\\\"id_str\\\":697682665919516672,\\\"created_at\\\":\\\"2016-02-11 07:24:44\\\",\\\"text\\\":\\\"b'@MysteryGuitarM yes'\\\"}\""
        ],
        [
         "\"{\\\"id_str\\\":279597699945361408,\\\"created_at\\\":\\\"2012-12-14 14:44:20\\\",\\\"text\\\":\\\"b'@prbowman Roughly equivalent to a 747 flight from LA to London (one way).'\\\"}\""
        ],
        [
         "\"{\\\"id_str\\\":279597307673067520,\\\"created_at\\\":\\\"2012-12-14 14:42:47\\\",\\\"text\\\":\\\"b\\\\\\\"@ImprobableToad That's why I'm a believer in solar power. We have a giant fusion reactor conveniently located in the sky.\\\\\\\"\\\"}\""
        ],
        [
         "\"{\\\"id_str\\\":279591897473896448,\\\"created_at\\\":\\\"2012-12-14 14:21:17\\\",\\\"text\\\":\\\"b'Exactly MT \\\\\\\"@DanRetz IMHO: continuing the uncontrolled experiment of adding co2 to atmosphere is a bad idea.\\\\\\\\xe2\\\\\\\\x80\\\\\\\\x9d'\\\"}\""
        ],
        [
         "\"{\\\"id_str\\\":279586009954516992,\\\"created_at\\\":\\\"2012-12-14 13:57:53\\\",\\\"text\\\":\\\"b\\\\\\\"It is hard to argue with a thermometer. Global warming is real and accelerating. Wish it wasn't. http:\\\\/\\\\/t.co\\\\/wB4w9coU\\\\\\\"\\\"}\""
        ],
        [
         "\"{\\\"id_str\\\":278953918338326528,\\\"created_at\\\":\\\"2012-12-12 20:06:11\\\",\\\"text\\\":\\\"b'Cool video recap of the big events of the year by Google #Zeitgeist2012 http:\\\\/\\\\/t.co\\\\/FZjy4vkL'\\\"}\""
        ],
        [
         "\"{\\\"id_str\\\":278918251730305025,\\\"created_at\\\":\\\"2012-12-12 17:44:27\\\",\\\"text\\\":\\\"b'@Neowolf2 Relative to kerosene, methane is not prone to coking, but we would run v high purity anyway for max Isp.'\\\"}\""
        ],
        [
         "\"{\\\"id_str\\\":278917332657651712,\\\"created_at\\\":\\\"2012-12-12 17:40:48\\\",\\\"text\\\":\\\"b'@chrisbrandow @TEA_in_Space Yup or Douglas Aircraft, creator of the awesome DC-3 http:\\\\/\\\\/t.co\\\\/4o8OHDCo'\\\"}\""
        ],
        [
         "\"{\\\"id_str\\\":278915899501727744,\\\"created_at\\\":\\\"2012-12-12 17:35:07\\\",\\\"text\\\":\\\"b\\\\\\\"My big worry would be long (hopefully) term when I'm dead, eg v sad situation with once great HP  @TEA_in_Space\\\\\\\"\\\"}\""
        ],
        [
         "\"{\\\"id_str\\\":278913921891586049,\\\"created_at\\\":\\\"2012-12-12 17:27:15\\\",\\\"text\\\":\\\"b'SpaceX will go public at some point, as I think it should ultimately be owned primarily by the public \\\\\\\"@bm_ will SpaceX go public?\\\\\\\"'\\\"}\""
        ],
        [
         "\"{\\\"id_str\\\":278910847768739840,\\\"created_at\\\":\\\"2012-12-12 17:15:02\\\",\\\"text\\\":\\\"b\\\\\\\"@IntlManOfRealty Best to study some form of engineering, which is the art of creating useful things that didn't exist before.\\\\\\\"\\\"}\""
        ],
        [
         "\"{\\\"id_str\\\":744551674082136066,\\\"created_at\\\":\\\"2016-06-19 15:25:26\\\",\\\"text\\\":\\\"b\\\\\\\"We *def* don't recommended this, but Model S floats well enough to turn it into a boat for short periods of time. Thrust via wheel rotation.\\\\\\\"\\\"}\""
        ],
        [
         "\"{\\\"id_str\\\":744549842496655360,\\\"created_at\\\":\\\"2016-06-19 15:18:10\\\",\\\"text\\\":\\\"b'Tesla owner drives through a flooded tunnel &amp; out the other side \\\\\\\\nhttps:\\\\/\\\\/t.co\\\\/RmPxdZShhq'\\\"}\""
        ],
        [
         "\"{\\\"id_str\\\":743603466631733248,\\\"created_at\\\":\\\"2016-06-17 00:37:36\\\",\\\"text\\\":\\\"b\\\\\\\"As mentioned at the beginning of the year, I'm expecting ~70% success rate on landings for the year. 2016 is the year of experimentation.\\\\\\\"\\\"}\""
        ],
        [
         "\"{\\\"id_str\\\":743602894226653184,\\\"created_at\\\":\\\"2016-06-17 00:35:20\\\",\\\"text\\\":\\\"b'Looks like early liquid oxygen depletion caused engine shutdown just above the deck https:\\\\/\\\\/t.co\\\\/Sa6uCkpknY'\\\"}\""
        ],
        [
         "\"{\\\"id_str\\\":743602229307805696,\\\"created_at\\\":\\\"2016-06-17 00:32:41\\\",\\\"text\\\":\\\"b'Turns out the landing was not as fast we thought, but still hard enough to destroy the primary airframe and accordion the engines'\\\"}\""
        ],
        [
         "\"{\\\"id_str\\\":743600755739754497,\\\"created_at\\\":\\\"2016-06-17 00:26:50\\\",\\\"text\\\":\\\"b'@fucktyler Thanks Tyler'\\\"}\""
        ],
        [
         "\"{\\\"id_str\\\":743102502225076227,\\\"created_at\\\":\\\"2016-06-15 15:26:57\\\",\\\"text\\\":\\\"b'Landing video will be posted when we gain access to cameras on the droneship later today. Maybe hardest impact to date. Droneship still ok.'\\\"}\""
        ],
        [
         "\"{\\\"id_str\\\":743099301174247424,\\\"created_at\\\":\\\"2016-06-15 15:14:14\\\",\\\"text\\\":\\\"b'Upgrades underway to enable rocket to compensate for a thrust shortfall on one of the three landing engines. Probably get there end of year.'\\\"}\""
        ],
        [
         "\"{\\\"id_str\\\":743098357728444418,\\\"created_at\\\":\\\"2016-06-15 15:10:29\\\",\\\"text\\\":\\\"b'@AstroOrionMK @BadAstronomer Quite rapid... Yes'\\\"}\""
        ],
        [
         "\"{\\\"id_str\\\":743097668725940225,\\\"created_at\\\":\\\"2016-06-15 15:07:44\\\",\\\"text\\\":\\\"b'RUD = Rapid Unscheduled Disassembly :)'\\\"}\""
        ],
        [
         "\"{\\\"id_str\\\":396712451305000960,\\\"created_at\\\":\\\"2013-11-02 18:56:33\\\",\\\"text\\\":\\\"b'Thanks Woz! \\\\\\\"@stevewoz: Here to pick up my new car! (at @TeslaMotors w\\\\/ 2 others)\\\\\\\"'\\\"}\""
        ],
        [
         "\"{\\\"id_str\\\":395562607462981633,\\\"created_at\\\":\\\"2013-10-30 14:47:29\\\",\\\"text\\\":\\\"b'Tesla West Coast Supercharger network now energized. Travel from Vancouver to Tijuana in styel! http:\\\\/\\\\/t.co\\\\/gTvV9egg3K'\\\"}\""
        ],
        [
         "\"{\\\"id_str\\\":394220043816296448,\\\"created_at\\\":\\\"2013-10-26 21:52:37\\\",\\\"text\\\":\\\"b'Giant dog topiary in Bilbao http:\\\\/\\\\/t.co\\\\/kHdAMvOEMN'\\\"}\""
        ],
        [
         "\"{\\\"id_str\\\":389113628416172032,\\\"created_at\\\":\\\"2013-10-12 19:41:33\\\",\\\"text\\\":\\\"b'Rocket flight to 744m, hover &amp; return to launch pad (close shot from hexacopter drone) http:\\\\/\\\\/t.co\\\\/vyJSUbZo2R'\\\"}\""
        ],
        [
         "\"{\\\"id_str\\\":386219821685170176,\\\"created_at\\\":\\\"2013-10-04 20:02:35\\\",\\\"text\\\":\\\"b'About the Model S fire ... http:\\\\/\\\\/t.co\\\\/7LSBaNbnyd'\\\"}\""
        ],
        [
         "\"{\\\"id_str\\\":384437535348248576,\\\"created_at\\\":\\\"2013-09-29 22:00:25\\\",\\\"text\\\":\\\"b'@DebbieViviers @SpaceX Yes, upper stage venting of liquid oxygen created a fast moving fuzzy white sphere in space over SA'\\\"}\""
        ],
        [
         "\"{\\\"id_str\\\":384410742675341312,\\\"created_at\\\":\\\"2013-09-29 20:13:57\\\",\\\"text\\\":\\\"b'Between this flight &amp; Grasshopper tests, I think we now have all the pieces of the puzzle to bring the rocket back home.'\\\"}\""
        ],
        [
         "\"{\\\"id_str\\\":384407846349062144,\\\"created_at\\\":\\\"2013-09-29 20:02:27\\\",\\\"text\\\":\\\"b'Rocket booster relit twice (supersonic retro &amp; landing), but spun up due to aero torque, so fuel centrifuged &amp; we flamed out'\\\"}\""
        ],
        [
         "\"{\\\"id_str\\\":384392608350367744,\\\"created_at\\\":\\\"2013-09-29 19:01:54\\\",\\\"text\\\":\\\"b'Launch was good. All satellites deployed at the targeted orbit insertion vectors. http:\\\\/\\\\/t.co\\\\/SUYMH7W9pH'\\\"}\""
        ],
        [
         "\"{\\\"id_str\\\":384336908949524480,\\\"created_at\\\":\\\"2013-09-29 15:20:34\\\",\\\"text\\\":\\\"b'You can watch the launch at http:\\\\/\\\\/t.co\\\\/2ZSXeqWKvy http:\\\\/\\\\/t.co\\\\/u5VEUgRu8g'\\\"}\""
        ],
        [
         "\"{\\\"id_str\\\":301050531923779585,\\\"created_at\\\":\\\"2013-02-11 19:30:14\\\",\\\"text\\\":\\\"b'Tesla blog coming soon detailing what actually happened on Broder\\\\\\\\'s NYTimes \\\\\\\"range test\\\\\\\". Also lining up other journalists to do same drive.'\\\"}\""
        ],
        [
         "\"{\\\"id_str\\\":301049593385340928,\\\"created_at\\\":\\\"2013-02-11 19:26:30\\\",\\\"text\\\":\\\"b\\\\\\\"NYTimes article about Tesla range in cold is fake. Vehicle logs tell true story that he didn't actually charge to max &amp; took a long detour.\\\\\\\"\\\"}\""
        ],
        [
         "\"{\\\"id_str\\\":300664934663061505,\\\"created_at\\\":\\\"2013-02-10 17:58:01\\\",\\\"text\\\":\\\"b\\\\\\\"Busted \\\\\\\\xe2\\\\\\\\x80\\\\\\\\x9c@TheOnion: Barack Obama: 'Look, I'm Just Going To Say It: I Collect Antique Nazi Memorabilia' http:\\\\/\\\\/t.co\\\\/KExXRoBL\\\\\\\\xe2\\\\\\\\x80\\\\\\\\x9d\\\\\\\"\\\"}\""
        ],
        [
         "\"{\\\"id_str\\\":300234184193105920,\\\"created_at\\\":\\\"2013-02-09 13:26:22\\\",\\\"text\\\":\\\"b'Next Grasshopper rocket test is called the Johnny Cash Hover Slam (yeah baby!). Might be our first smoking crater...'\\\"}\""
        ],
        [
         "\"{\\\"id_str\\\":299961897426505729,\\\"created_at\\\":\\\"2013-02-08 19:24:24\\\",\\\"text\\\":\\\"b'SpaceX software engineering is doing an AMA on Reddit   \\\\\\\\nhttp:\\\\/\\\\/t.co\\\\/hwkUwM5v'\\\"}\""
        ],
        [
         "\"{\\\"id_str\\\":299961175490297856,\\\"created_at\\\":\\\"2013-02-08 19:21:31\\\",\\\"text\\\":\\\"b'Our Great^n Grandfather http:\\\\/\\\\/t.co\\\\/zxndg3WF'\\\"}\""
        ],
        [
         "\"{\\\"id_str\\\":299780102500282368,\\\"created_at\\\":\\\"2013-02-08 07:22:00\\\",\\\"text\\\":\\\"b'RT @jordanrushbloch: My latest project on the Tesla Model S and network of solar-powered Superchargers. http:\\\\/\\\\/t.co\\\\/tBTGCcrK'\\\"}\""
        ],
        [
         "\"{\\\"id_str\\\":299779101366030336,\\\"created_at\\\":\\\"2013-02-08 07:18:02\\\",\\\"text\\\":\\\"b\\\\\\\"No, they are not \\\\\\\\xe2\\\\\\\\x80\\\\\\\\x9c@AutoblogGreen: Are electric vehicles really a 'dead end'? @Reuters sure thinks so http:\\\\/\\\\/t.co\\\\/nwAdCLU2\\\\\\\\xe2\\\\\\\\x80\\\\\\\\x9d\\\\\\\"\\\"}\""
        ],
        [
         "\"{\\\"id_str\\\":298338092652318720,\\\"created_at\\\":\\\"2013-02-04 07:51:58\\\",\\\"text\\\":\\\"b'Wow, 180,000 American killed by other Americans since 9\\\\/11 vs only 33 by muslim terrorists\\\\\\\\nhttp:\\\\/\\\\/t.co\\\\/BEdhLqJS'\\\"}\""
        ],
        [
         "\"{\\\"id_str\\\":298266134128496641,\\\"created_at\\\":\\\"2013-02-04 03:06:02\\\",\\\"text\\\":\\\"b'Great spirit here in the Superdome. Awesome rally by the @49ers!! #SB47'\\\"}\""
        ],
        [
         "\"{\\\"id_str\\\":748140919501656066,\\\"created_at\\\":\\\"2016-06-29 13:07:49\\\",\\\"text\\\":\\\"b'My son recently asked what my favorite animal was. Well, of course \\\\\\\\xe2\\\\\\\\x80\\\\\\\\xa6 https:\\\\/\\\\/t.co\\\\/hpTniMe1mF'\\\"}\""
        ],
        [
         "\"{\\\"id_str\\\":748136300952182785,\\\"created_at\\\":\\\"2016-06-29 12:49:28\\\",\\\"text\\\":\\\"b'Thoughtful analysis of the Tesla\\\\/SolarCity merger by @tsrandall https:\\\\/\\\\/t.co\\\\/4Ba3px7hb8'\\\"}\""
        ],
        [
         "\"{\\\"id_str\\\":747887079808327680,\\\"created_at\\\":\\\"2016-06-28 20:19:09\\\",\\\"text\\\":\\\"b'Thanks for the kind bday wishes!'\\\"}\""
        ],
        [
         "\"{\\\"id_str\\\":747300198750183424,\\\"created_at\\\":\\\"2016-06-27 05:27:06\\\",\\\"text\\\":\\\"b'@vicentes cute!'\\\"}\""
        ],
        [
         "\"{\\\"id_str\\\":747298912986226689,\\\"created_at\\\":\\\"2016-06-27 05:21:59\\\",\\\"text\\\":\\\"b'@tjeviston @business exactly'\\\"}\""
        ],
        [
         "\"{\\\"id_str\\\":747298731691696130,\\\"created_at\\\":\\\"2016-06-27 05:21:16\\\",\\\"text\\\":\\\"b\\\\\\\"@newsycombinator @mashable We haven't signed anything for a factory in China\\\\\\\"\\\"}\""
        ],
        [
         "\"{\\\"id_str\\\":747298044861784064,\\\"created_at\\\":\\\"2016-06-27 05:18:32\\\",\\\"text\\\":\\\"b'Deluded, deranged, etc. Journalistic thesaurus sure got a lot of use last week ...\\\\\\\\nhttps:\\\\/\\\\/t.co\\\\/KFHD1FXvIe'\\\"}\""
        ],
        [
         "\"{\\\"id_str\\\":746242506816262144,\\\"created_at\\\":\\\"2016-06-24 07:24:12\\\",\\\"text\\\":\\\"b'RT @WIRED: Tesla is done being an automaker\\\\\\\\xe2\\\\\\\\x80\\\\\\\\x94it is now an energy company: https:\\\\/\\\\/t.co\\\\/GjIfnOBpk6 https:\\\\/\\\\/t.co\\\\/mUge7Gj2th'\\\"}\""
        ],
        [
         "\"{\\\"id_str\\\":745424036121837568,\\\"created_at\\\":\\\"2016-06-22 01:11:54\\\",\\\"text\\\":\\\"b'@Recode Article is misleading to readers. No one is \\\\\\\"taking home\\\\\\\" anything. In a stock for stock transaction, nothing comes off the table.'\\\"}\""
        ],
        [
         "\"{\\\"id_str\\\":745010737215504384,\\\"created_at\\\":\\\"2016-06-20 21:49:36\\\",\\\"text\\\":\\\"b'@WilliamShatner Of course. Our love will never die.'\\\"}\""
        ],
        [
         "\"{\\\"id_str\\\":820036970025918464,\\\"created_at\\\":\\\"2017-01-13 22:37:03\\\",\\\"text\\\":\\\"b\\\\\\\"RT @SpaceX: Tracking ground wind for tomorrow's launch attempt of 10 @IridiumComm NEXT satellites. Weather overall 60% favorable https:\\\\/\\\\/t.\\\\\\\\xe2\\\\\\\\x80\\\\\\\\xa6\\\\\\\"\\\"}\""
        ],
        [
         "\"{\\\"id_str\\\":819748895878094848,\\\"created_at\\\":\\\"2017-01-13 03:32:21\\\",\\\"text\\\":\\\"b'RT @TeslaMotors: Building the Supercharger Network for the Future https:\\\\/\\\\/t.co\\\\/siR67vPd2T'\\\"}\""
        ],
        [
         "\"{\\\"id_str\\\":819664721888452608,\\\"created_at\\\":\\\"2017-01-12 21:57:52\\\",\\\"text\\\":\\\"b'@brandonr182 @sama Have you tried steam engines? They are amazing.'\\\"}\""
        ],
        [
         "\"{\\\"id_str\\\":819664369818578944,\\\"created_at\\\":\\\"2017-01-12 21:56:29\\\",\\\"text\\\":\\\"b'@MotorTrend Sarah should be in contact with you soon about doing a benchmark test'\\\"}\""
        ],
        [
         "\"{\\\"id_str\\\":819663998878564352,\\\"created_at\\\":\\\"2017-01-12 21:55:00\\\",\\\"text\\\":\\\"b'@gurnam @brianstucki @reddit It is'\\\"}\""
        ],
        [
         "\"{\\\"id_str\\\":819663807827955712,\\\"created_at\\\":\\\"2017-01-12 21:54:15\\\",\\\"text\\\":\\\"b'@JRMYGRNBRGR Hopefully, early next week. Results from limited release look good so far. Trying our best to be super careful.'\\\"}\""
        ],
        [
         "\"{\\\"id_str\\\":819661044867944448,\\\"created_at\\\":\\\"2017-01-12 21:43:16\\\",\\\"text\\\":\\\"b'@trevoclark Good point. 2.34 would be a production Tesla. Stripped down, maybe as low as 2.1.'\\\"}\""
        ],
        [
         "\"{\\\"id_str\\\":819660611357319170,\\\"created_at\\\":\\\"2017-01-12 21:41:32\\\",\\\"text\\\":\\\"b'@robsmallshire @ClareMacraeUK It will'\\\"}\""
        ],
        [
         "\"{\\\"id_str\\\":819609111801139200,\\\"created_at\\\":\\\"2017-01-12 18:16:54\\\",\\\"text\\\":\\\"b'Promising early results from the Ludricrous Easter egg. Looks like 0 to 60 mph in 2.34 sec (Motor Trend spec) might be achievable...'\\\"}\""
        ],
        [
         "\"{\\\"id_str\\\":819606921824980992,\\\"created_at\\\":\\\"2017-01-12 18:08:12\\\",\\\"text\\\":\\\"b'@mjreddyMD If the results look good from the latest point release, then we are days away from a release to all HW1\\\\\\\\xe2\\\\\\\\x80\\\\\\\\xa6 https:\\\\/\\\\/t.co\\\\/tfJJSklIjj'\\\"}\""
        ],
        [
         "\"{\\\"id_str\\\":562321505854300161,\\\"created_at\\\":\\\"2015-02-02 18:47:49\\\",\\\"text\\\":\\\"b'RT @SpaceX: America\\\\\\\\xe2\\\\\\\\x80\\\\\\\\x99s next gen crewed spacecraft is almost ready for a test flight. Pad abort vehicle shipping to FL shortly. http:\\\\/\\\\/t.co\\\\/X\\\\\\\\xe2\\\\\\\\x80\\\\\\\\xa6'\\\"}\""
        ],
        [
         "\"{\\\"id_str\\\":561002248827052034,\\\"created_at\\\":\\\"2015-01-30 03:25:33\\\",\\\"text\\\":\\\"b'If you are curious about the P85D, you can schedule a test drive here: http:\\\\/\\\\/t.co\\\\/Eu19pBUpNO'\\\"}\""
        ],
        [
         "\"{\\\"id_str\\\":560909571691380736,\\\"created_at\\\":\\\"2015-01-29 21:17:17\\\",\\\"text\\\":\\\"b'Painting the name on the droneship ... http:\\\\/\\\\/t.co\\\\/X8R8O4KjPx'\\\"}\""
        ],
        [
         "\"{\\\"id_str\\\":560908370623098882,\\\"created_at\\\":\\\"2015-01-29 21:12:31\\\",\\\"text\\\":\\\"b'P85 acceleration will also improve, but not quite as much'\\\"}\""
        ],
        [
         "\"{\\\"id_str\\\":560906999664508931,\\\"created_at\\\":\\\"2015-01-29 21:07:04\\\",\\\"text\\\":\\\"b'Video made by owner of a P85D going up a 14% grade on snow passing a whole bunch of stuck SUVs https:\\\\/\\\\/t.co\\\\/LC9AHx0fuC'\\\"}\""
        ],
        [
         "\"{\\\"id_str\\\":560900676453433344,\\\"created_at\\\":\\\"2015-01-29 20:41:56\\\",\\\"text\\\":\\\"b'Tesla dual motor cars are also all-wheel drive. Main goal of dual motor was actually insane traction on snow. Insane speed was a side effect'\\\"}\""
        ],
        [
         "\"{\\\"id_str\\\":560898568748531712,\\\"created_at\\\":\\\"2015-01-29 20:33:34\\\",\\\"text\\\":\\\"b'Tesla P85D 0 to 60mph acceleration will improve by ~0.1 sec soon via over-the-air software update to inverter algorithm'\\\"}\""
        ],
        [
         "\"{\\\"id_str\\\":560688975778557952,\\\"created_at\\\":\\\"2015-01-29 06:40:43\\\",\\\"text\\\":\\\"b'RT @SpaceX: Updated animation of Falcon Heavy flight and booster recovery. Check it out: http:\\\\/\\\\/t.co\\\\/Y4OvdU8yQ5 http:\\\\/\\\\/t.co\\\\/LN7yRVAvkT'\\\"}\""
        ],
        [
         "\"{\\\"id_str\\\":560328986341818368,\\\"created_at\\\":\\\"2015-01-28 06:50:15\\\",\\\"text\\\":\\\"b'Great DragTimes video of people experiencing P85D \\\\\\\"Insane Mode\\\\\\\" acceleration for the first time https:\\\\/\\\\/t.co\\\\/gqN9oremMQ'\\\"}\""
        ],
        [
         "\"{\\\"id_str\\\":559629011983147008,\\\"created_at\\\":\\\"2015-01-26 08:28:48\\\",\\\"text\\\":\\\"b'Final one: anything launched by a railgun (if you could ever reach ~ Mach 27) would explode upon exiting the barrel in our dense atmosphere'\\\"}\""
        ],
        [
         "\"{\\\"id_str\\\":406194506011525120,\\\"created_at\\\":\\\"2013-11-28 22:54:51\\\",\\\"text\\\":\\\"b'Launch aborted by autosequence due to slower than expected thrust ramp. Seems ok on closer inspection. Cycling countdown.'\\\"}\""
        ],
        [
         "\"{\\\"id_str\\\":406187728850944000,\\\"created_at\\\":\\\"2013-11-28 22:27:55\\\",\\\"text\\\":\\\"b'Live stream of launch at http:\\\\/\\\\/t.co\\\\/Oo569cuarz'\\\"}\""
        ],
        [
         "\"{\\\"id_str\\\":406186792409632769,\\\"created_at\\\":\\\"2013-11-28 22:24:12\\\",\\\"text\\\":\\\"b'15 mins to liftoff http:\\\\/\\\\/t.co\\\\/3jDrHRSPQZ'\\\"}\""
        ],
        [
         "\"{\\\"id_str\\\":405989364322533376,\\\"created_at\\\":\\\"2013-11-28 09:19:42\\\",\\\"text\\\":\\\"b'@lomac92 @WIRED No, almost all fuel\\\\/ox is being reserved for SES satellite to give max chance of success'\\\"}\""
        ],
        [
         "\"{\\\"id_str\\\":405988869868642304,\\\"created_at\\\":\\\"2013-11-28 09:17:44\\\",\\\"text\\\":\\\"b'Model S Owner drives 3121 miles solo from Canada to Mexico http:\\\\/\\\\/t.co\\\\/8G8l1utgS2'\\\"}\""
        ],
        [
         "\"{\\\"id_str\\\":405965445628710912,\\\"created_at\\\":\\\"2013-11-28 07:44:39\\\",\\\"text\\\":\\\"b'Good description of the launch by @WIRED: http:\\\\/\\\\/t.co\\\\/QnLhvviEAn'\\\"}\""
        ],
        [
         "\"{\\\"id_str\\\":405924331358023680,\\\"created_at\\\":\\\"2013-11-28 05:01:16\\\",\\\"text\\\":\\\"b\\\\\\\"Don't actually mean to knock Honda -- their cars are solid -- but the park outside (or yr house might burn down) advice was awesome\\\\\\\"\\\"}\""
        ],
        [
         "\"{\\\"id_str\\\":405922013111676928,\\\"created_at\\\":\\\"2013-11-28 04:52:04\\\",\\\"text\\\":\\\"b'@AdamMKE Model S can seat 5 adults, two kids and has a front trunk for luggage. Might work for you.'\\\"}\""
        ],
        [
         "\"{\\\"id_str\\\":405918568635580416,\\\"created_at\\\":\\\"2013-11-28 04:38:23\\\",\\\"text\\\":\\\"b'...but only if you like your house \\\\\\\"Honda recalls Fit for fire risk, says park it outside http:\\\\/\\\\/t.co\\\\/tLpZ7HBIdV \\\\\\\"'\\\"}\""
        ],
        [
         "\"{\\\"id_str\\\":405910027661496320,\\\"created_at\\\":\\\"2013-11-28 04:04:26\\\",\\\"text\\\":\\\"b'RT @SpaceX: Falcon 9 launch window opens tmrw at 5:39pm EST. Watch LIVE at http:\\\\/\\\\/t.co\\\\/wytY3mnBf1. Happy #Spacegiving! http:\\\\/\\\\/t.co\\\\/leacczWC\\\\\\\\xe2\\\\\\\\x80\\\\\\\\xa6'\\\"}\""
        ],
        [
         "\"{\\\"id_str\\\":678007414298296320,\\\"created_at\\\":\\\"2015-12-19 00:22:18\\\",\\\"text\\\":\\\"b\\\\\\\"RT @InsideEVs: Long-Term Owner's Review Of Tesla Model X https:\\\\/\\\\/t.co\\\\/tzJoxvqTWK\\\\\\\"\\\"}\""
        ],
        [
         "\"{\\\"id_str\\\":678004229047357440,\\\"created_at\\\":\\\"2015-12-19 00:09:39\\\",\\\"text\\\":\\\"b'Static fire test looks good. Pending data review, will aim to launch Sunday.'\\\"}\""
        ],
        [
         "\"{\\\"id_str\\\":677980503459270657,\\\"created_at\\\":\\\"2015-12-18 22:35:22\\\",\\\"text\\\":\\\"b'Rounding up to 1 sec for a bit of timing margin. Updating flight computer command sequence \\\\\\\\xe2\\\\\\\\x80\\\\\\\\xa6'\\\"}\""
        ],
        [
         "\"{\\\"id_str\\\":677970721730002944,\\\"created_at\\\":\\\"2015-12-18 21:56:30\\\",\\\"text\\\":\\\"b'Aborted on ignition timing due to slow ground side valve. Adjusting ignition sequence by 0.6 secs for next attempt.'\\\"}\""
        ],
        [
         "\"{\\\"id_str\\\":677961117595906048,\\\"created_at\\\":\\\"2015-12-18 21:18:21\\\",\\\"text\\\":\\\"b'About 2 mins from static fire'\\\"}\""
        ],
        [
         "\"{\\\"id_str\\\":677949037815840768,\\\"created_at\\\":\\\"2015-12-18 20:30:20\\\",\\\"text\\\":\\\"b'@elonmusk holding for issue resolution'\\\"}\""
        ],
        [
         "\"{\\\"id_str\\\":677945101184708609,\\\"created_at\\\":\\\"2015-12-18 20:14:42\\\",\\\"text\\\":\\\"b'Abort triggered by flight computer on upper stage throttle valve. Adjusting thresholds and restarting count at T-10 mins.'\\\"}\""
        ],
        [
         "\"{\\\"id_str\\\":677940293212102656,\\\"created_at\\\":\\\"2015-12-18 19:55:36\\\",\\\"text\\\":\\\"b'5 mins from static fire test'\\\"}\""
        ],
        [
         "\"{\\\"id_str\\\":677666779494248449,\\\"created_at\\\":\\\"2015-12-18 01:48:45\\\",\\\"text\\\":\\\"b'@lukealization yes, from 70F to 20 F'\\\"}\""
        ],
        [
         "\"{\\\"id_str\\\":677666464208416768,\\\"created_at\\\":\\\"2015-12-18 01:47:30\\\",\\\"text\\\":\\\"b'@craigcocca It worked in Texas'\\\"}\""
        ],
        [
         "\"{\\\"id_str\\\":536258543675252739,\\\"created_at\\\":\\\"2014-11-22 20:42:54\\\",\\\"text\\\":\\\"b'Testing operation of hypersonic grid fins (x-wing config) going on next flight http:\\\\/\\\\/t.co\\\\/O1tMSIXxsT'\\\"}\""
        ],
        [
         "\"{\\\"id_str\\\":535914463388782592,\\\"created_at\\\":\\\"2014-11-21 21:55:39\\\",\\\"text\\\":\\\"b'Cuteness overload MT \\\\\\\\xe2\\\\\\\\x80\\\\\\\\x9c@WIRED: A baby baboon snuggled with a teddy bear http:\\\\/\\\\/t.co\\\\/wuovq1HPEY http:\\\\/\\\\/t.co\\\\/UHK8MnGj4i\\\\\\\\xe2\\\\\\\\x80\\\\\\\\x9d'\\\"}\""
        ],
        [
         "\"{\\\"id_str\\\":535905906442403840,\\\"created_at\\\":\\\"2014-11-21 21:21:39\\\",\\\"text\\\":\\\"b'About the Nevada deal with Tesla ... http:\\\\/\\\\/t.co\\\\/hAeyOc5OzC'\\\"}\""
        ],
        [
         "\"{\\\"id_str\\\":535085589456879616,\\\"created_at\\\":\\\"2014-11-19 15:02:00\\\",\\\"text\\\":\\\"b'Really hate it when companies bring out an awesome show car and then you can never actually buy it. So lame.'\\\"}\""
        ],
        [
         "\"{\\\"id_str\\\":535085033904558080,\\\"created_at\\\":\\\"2014-11-19 14:59:48\\\",\\\"text\\\":\\\"b'Rumors about canceling Falcon wing doors are false. At Tesla, the production car will always be better than the show car.'\\\"}\""
        ],
        [
         "\"{\\\"id_str\\\":535082394441613312,\\\"created_at\\\":\\\"2014-11-19 14:49:18\\\",\\\"text\\\":\\\"b\\\\\\\"RT @Miles_Brundage: DeepMind co-founder Shane Legg on unsafe AIs being given access to supercomputers in the 2020s (@elonmusk's fear?) http\\\\\\\\xe2\\\\\\\\x80\\\\\\\\xa6\\\\\\\"\\\"}\""
        ],
        [
         "\"{\\\"id_str\\\":534731793832751106,\\\"created_at\\\":\\\"2014-11-18 15:36:09\\\",\\\"text\\\":\\\"b'Tesla comic book http:\\\\/\\\\/t.co\\\\/enyjX9bcGE'\\\"}\""
        ],
        [
         "\"{\\\"id_str\\\":534607155546968064,\\\"created_at\\\":\\\"2014-11-18 07:20:53\\\",\\\"text\\\":\\\"b'RT @Techmeme: Advances in image-recognition software show identification of entire scenes, not just objects http:\\\\/\\\\/t.co\\\\/PaLNRXi53q http:\\\\/\\\\/t\\\\\\\\xe2\\\\\\\\x80\\\\\\\\xa6'\\\"}\""
        ],
        [
         "\"{\\\"id_str\\\":532368290942058496,\\\"created_at\\\":\\\"2014-11-12 03:04:26\\\",\\\"text\\\":\\\"b'RT @TeslaMotors: Hong Kong street view from a right hand drive Model S. http:\\\\/\\\\/t.co\\\\/HWthvB72je'\\\"}\""
        ],
        [
         "\"{\\\"id_str\\\":532205104993038336,\\\"created_at\\\":\\\"2014-11-11 16:15:59\\\",\\\"text\\\":\\\"b'RT @AutoblogGreen: The @TeslaMotors Model S scores Euro NCAP 5-star safety score, w\\\\/cool video http:\\\\/\\\\/t.co\\\\/Yh6l1TF5dF'\\\"}\""
        ],
        [
         "\"{\\\"id_str\\\":178865792371277825,\\\"created_at\\\":\\\"2012-03-11 15:31:43\\\",\\\"text\\\":\\\"b'Just passed a place called the Sugar Shack in a Louisiana swamp. I wonder what happens there? http:\\\\/\\\\/t.co\\\\/1MomQnNe'\\\"}\""
        ],
        [
         "\"{\\\"id_str\\\":177210012911927299,\\\"created_at\\\":\\\"2012-03-07 01:52:14\\\",\\\"text\\\":\\\"b'The President of Serbia came by our booth at the Geneva Motor Show and talked about Nikola Tesla http:\\\\/\\\\/t.co\\\\/KIhxc0TF'\\\"}\""
        ],
        [
         "\"{\\\"id_str\\\":176181571479552001,\\\"created_at\\\":\\\"2012-03-04 05:45:34\\\",\\\"text\\\":\\\"b'RT @westcoastbill: lol my friends car \\\\\\\\xe2\\\\\\\\x80\\\\\\\\x9c@ryan: See also: http:\\\\/\\\\/t.co\\\\/jXuJU0mf\\\\\\\\xe2\\\\\\\\x80\\\\\\\\x9d'\\\"}\""
        ],
        [
         "\"{\\\"id_str\\\":175377364551868416,\\\"created_at\\\":\\\"2012-03-02 00:29:56\\\",\\\"text\\\":\\\"b'Dawn at Cape Canaveral http:\\\\/\\\\/t.co\\\\/ZHkcffYr'\\\"}\""
        ],
        [
         "\"{\\\"id_str\\\":174751268215066625,\\\"created_at\\\":\\\"2012-02-29 07:02:03\\\",\\\"text\\\":\\\"b\\\\\\\"@TomMao1 Studied physics in college, read a lot of books and was taught by the world's leading domain experts at SpaceX.\\\\\\\"\\\"}\""
        ],
        [
         "\"{\\\"id_str\\\":174700079490412544,\\\"created_at\\\":\\\"2012-02-29 03:38:39\\\",\\\"text\\\":\\\"b'RT @timminchin: A really clear and concise article debunking climate science sceptics. Please read & RT.  http:\\\\/\\\\/t.co\\\\/NmbwbFR1'\\\"}\""
        ],
        [
         "\"{\\\"id_str\\\":174621355436802049,\\\"created_at\\\":\\\"2012-02-28 22:25:50\\\",\\\"text\\\":\\\"b'Falcon 9 and Dragon now vertical on the launch pad, surrounded by 300 ft tall lightning towers http:\\\\/\\\\/t.co\\\\/iERgA2RP'\\\"}\""
        ],
        [
         "\"{\\\"id_str\\\":173531986529497089,\\\"created_at\\\":\\\"2012-02-25 22:17:04\\\",\\\"text\\\":\\\"b'@LooperNor Yes, this will, if all goes well, be the first commercial spaceship to dock with the Space Station. T zero ~ end of April.'\\\"}\""
        ],
        [
         "\"{\\\"id_str\\\":173528867699568641,\\\"created_at\\\":\\\"2012-02-25 22:04:41\\\",\\\"text\\\":\\\"b'Dragon spaceship and Falcon 9 rocket just completed final assembly at Cape Canaveral http:\\\\/\\\\/t.co\\\\/4GrSr3VU'\\\"}\""
        ],
        [
         "\"{\\\"id_str\\\":173476402748854274,\\\"created_at\\\":\\\"2012-02-25 18:36:12\\\",\\\"text\\\":\\\"b'Supporting the drive to get a #PlutoStamp for the @NASA New Horizons mission'\\\"}\""
        ],
        [
         "\"{\\\"id_str\\\":725365829479460864,\\\"created_at\\\":\\\"2016-04-27 16:47:45\\\",\\\"text\\\":\\\"b'@Cardoso It could land on Venus no problem, but would last maybe a few hours. Tough local environment.'\\\"}\""
        ],
        [
         "\"{\\\"id_str\\\":725365200098988032,\\\"created_at\\\":\\\"2016-04-27 16:45:14\\\",\\\"text\\\":\\\"b\\\\\\\"But wouldn't recommend transporting astronauts beyond Earth-moon region. Wouldn't be fun for longer journeys. Internal volume ~size of SUV.\\\\\\\"\\\"}\""
        ],
        [
         "\"{\\\"id_str\\\":725364699303301120,\\\"created_at\\\":\\\"2016-04-27 16:43:15\\\",\\\"text\\\":\\\"b'Dragon 2 is designed to be able to land anywhere in the solar system. Red Dragon Mars mission is the first test flight.'\\\"}\""
        ],
        [
         "\"{\\\"id_str\\\":725351655433068544,\\\"created_at\\\":\\\"2016-04-27 15:51:25\\\",\\\"text\\\":\\\"b'RT @SpaceX: Planning to send Dragon to Mars as soon as 2018. Red Dragons will inform overall Mars architecture, details to come https:\\\\/\\\\/t.c\\\\\\\\xe2\\\\\\\\x80\\\\\\\\xa6'\\\"}\""
        ],
        [
         "\"{\\\"id_str\\\":725028258614370304,\\\"created_at\\\":\\\"2016-04-26 18:26:21\\\",\\\"text\\\":\\\"b'RT @ElectrekCo: Automakers entrenched in fuel cell hydrogen are succumbing to physics and going electric https:\\\\/\\\\/t.co\\\\/NRVVuGzP1F https:\\\\/\\\\/t.\\\\\\\\xe2\\\\\\\\x80\\\\\\\\xa6'\\\"}\""
        ],
        [
         "\"{\\\"id_str\\\":724175962246500352,\\\"created_at\\\":\\\"2016-04-24 09:59:38\\\",\\\"text\\\":\\\"b'RT @physorg_com: Solar-powered #plane completes journey across Pacific Ocean https:\\\\/\\\\/t.co\\\\/FXHG2T2DS7'\\\"}\""
        ],
        [
         "\"{\\\"id_str\\\":724160269480431620,\\\"created_at\\\":\\\"2016-04-24 08:57:17\\\",\\\"text\\\":\\\"b'@KristianNairn A 3 should be workable, but an S or particularly an X would be better'\\\"}\""
        ],
        [
         "\"{\\\"id_str\\\":723752659446980608,\\\"created_at\\\":\\\"2016-04-23 05:57:35\\\",\\\"text\\\":\\\"b\\\\\\\"RT @MotorTrend: Have you read our new #1 story for the year? It's an exclusive look at the #Tesla #Model3. https:\\\\/\\\\/t.co\\\\/oV9hE9nuuv https:\\\\/\\\\/\\\\\\\\xe2\\\\\\\\x80\\\\\\\\xa6\\\\\\\"\\\"}\""
        ],
        [
         "\"{\\\"id_str\\\":723260583047516160,\\\"created_at\\\":\\\"2016-04-21 21:22:15\\\",\\\"text\\\":\\\"b'RT @hamids: Lots of chatter about Tesla Model X issues\\\\\\\\xe2\\\\\\\\x80\\\\\\\\xa6I\\\\\\\\xe2\\\\\\\\x80\\\\\\\\x99ve had none. Most amazing car ever! My Review: https:\\\\/\\\\/t.co\\\\/nVIKYD0Vmm @elonmusk @\\\\\\\\xe2\\\\\\\\x80\\\\\\\\xa6'\\\"}\""
        ],
        [
         "\"{\\\"id_str\\\":723260501153710080,\\\"created_at\\\":\\\"2016-04-21 21:21:55\\\",\\\"text\\\":\\\"b'RT @hamids: My doors have gone through hundreds of open\\\\/close kid testings! https:\\\\/\\\\/t.co\\\\/9Pufi0cafo\\\\\\\\xe2\\\\\\\\x80\\\\\\\\xa6 @elonmusk @TeslaMotors https:\\\\/\\\\/t.co\\\\/Rf\\\\\\\\xe2\\\\\\\\x80\\\\\\\\xa6'\\\"}\""
        ],
        [
         "\"{\\\"id_str\\\":466521428914094083,\\\"created_at\\\":\\\"2014-05-14 10:12:30\\\",\\\"text\\\":\\\"b'@Oatmeal may all technology in the future follow the zeroth law...'\\\"}\""
        ],
        [
         "\"{\\\"id_str\\\":466518346574626817,\\\"created_at\\\":\\\"2014-05-14 10:00:15\\\",\\\"text\\\":\\\"b'@Oatmeal I would be happy to help'\\\"}\""
        ],
        [
         "\"{\\\"id_str\\\":466276798058078208,\\\"created_at\\\":\\\"2014-05-13 18:00:26\\\",\\\"text\\\":\\\"b'RT @Space_News_Intl: Rogozin Calls for Ban on U.S. Military Use of RD-180 http:\\\\/\\\\/t.co\\\\/lumzgOimF6'\\\"}\""
        ],
        [
         "\"{\\\"id_str\\\":465030743962296320,\\\"created_at\\\":\\\"2014-05-10 07:29:03\\\",\\\"text\\\":\\\"b'Worth seeing @ChefTheFilm by @Jon_Favreau. Make sure to plan for a meal afterwards!'\\\"}\""
        ],
        [
         "\"{\\\"id_str\\\":464491775264960512,\\\"created_at\\\":\\\"2014-05-08 19:47:23\\\",\\\"text\\\":\\\"b'Trouble in Missouri. Auto dealers trying to sneak in a monopoly creation bill today http:\\\\/\\\\/t.co\\\\/p6zqtsaYpi'\\\"}\""
        ],
        [
         "\"{\\\"id_str\\\":462104679116050432,\\\"created_at\\\":\\\"2014-05-02 05:41:55\\\",\\\"text\\\":\\\"b'@rocketrepreneur ~40%'\\\"}\""
        ],
        [
         "\"{\\\"id_str\\\":462100295896412160,\\\"created_at\\\":\\\"2014-05-02 05:24:30\\\",\\\"text\\\":\\\"b'Second flight of Falcon 9-R. 1000m, hover and land (with cows) http:\\\\/\\\\/t.co\\\\/tixmBH5sw6'\\\"}\""
        ],
        [
         "\"{\\\"id_str\\\":461897294191673344,\\\"created_at\\\":\\\"2014-05-01 15:57:51\\\",\\\"text\\\":\\\"b'RT @arstechnica: SpaceX says rocket purchases violate Russian sanctions, gets injunction http:\\\\/\\\\/t.co\\\\/IzRJzVCt1H by @Lee_Ars'\\\"}\""
        ],
        [
         "\"{\\\"id_str\\\":461283368693669888,\\\"created_at\\\":\\\"2014-04-29 23:18:19\\\",\\\"text\\\":\\\"b'Cover drops on May 29. Actual flight design hardware of crew Dragon, not a mockup.'\\\"}\""
        ],
        [
         "\"{\\\"id_str\\\":461279062837968897,\\\"created_at\\\":\\\"2014-04-29 23:01:13\\\",\\\"text\\\":\\\"b'Sounds like this might be a good time to unveil the new Dragon Mk 2 spaceship that @SpaceX has been working on w @NASA. No trampoline needed'\\\"}\""
        ],
        [
         "\"{\\\"id_str\\\":407540177289371648,\\\"created_at\\\":\\\"2013-12-02 16:02:04\\\",\\\"text\\\":\\\"b'All known rocket anomalies resolved. Will spend another day rechecking to be sure. Launch attempt tmrw eve w Wed as backup.'\\\"}\""
        ],
        [
         "\"{\\\"id_str\\\":407315762387636224,\\\"created_at\\\":\\\"2013-12-02 01:10:19\\\",\\\"text\\\":\\\"b'The gas generator is a small rocket engine that powers the turbopump, which produces 7000 horsepower &amp; weighs 160 lbs'\\\"}\""
        ],
        [
         "\"{\\\"id_str\\\":407313331247398912,\\\"created_at\\\":\\\"2013-12-02 01:00:40\\\",\\\"text\\\":\\\"b'Engines are cycling cleanly w ground pneumatics. Replaced gas generator on engine 9 (center) as a precautionary measure.'\\\"}\""
        ],
        [
         "\"{\\\"id_str\\\":406806983023820800,\\\"created_at\\\":\\\"2013-11-30 15:28:37\\\",\\\"text\\\":\\\"b\\\\\\\"Abort was caused by oxygen in ground side TEA-TEB. Upper stage on separate internal circuit, so doesn't face same risk.\\\\\\\"\\\"}\""
        ],
        [
         "\"{\\\"id_str\\\":406799700940324864,\\\"created_at\\\":\\\"2013-11-30 14:59:41\\\",\\\"text\\\":\\\"b'Rocket engines are healthy, but cleaning turbopump gas generators will take another day. Aiming for Mon eve launch.'\\\"}\""
        ],
        [
         "\"{\\\"id_str\\\":406211326282055681,\\\"created_at\\\":\\\"2013-11-29 00:01:41\\\",\\\"text\\\":\\\"b'@WilliamShatner Will do. Probably at least a few days. Depends on whether we need to pull the turbopumps.'\\\"}\""
        ],
        [
         "\"{\\\"id_str\\\":406209289494462464,\\\"created_at\\\":\\\"2013-11-28 23:53:36\\\",\\\"text\\\":\\\"b'We called manual abort. Better to be paranoid and wrong. Bringing rocket down to borescope engines ...'\\\"}\""
        ],
        [
         "\"{\\\"id_str\\\":406205904141697024,\\\"created_at\\\":\\\"2013-11-28 23:40:09\\\",\\\"text\\\":\\\"b'If launch aborts, we will bring the rocket down for engine inspection, so probably a few days before next attempt'\\\"}\""
        ],
        [
         "\"{\\\"id_str\\\":406205240040771584,\\\"created_at\\\":\\\"2013-11-28 23:37:30\\\",\\\"text\\\":\\\"b'Increasing helium spin start pressure. Probably &lt;50% chance of passing all aborts, but worth a try. Countdown resuming ...'\\\"}\""
        ],
        [
         "\"{\\\"id_str\\\":406194506011525120,\\\"created_at\\\":\\\"2013-11-28 22:54:51\\\",\\\"text\\\":\\\"b'Launch aborted by autosequence due to slower than expected thrust ramp. Seems ok on closer inspection. Cycling countdown.'\\\"}\""
        ],
        [
         "\"{\\\"id_str\\\":594327204143599616,\\\"created_at\\\":\\\"2015-05-02 02:27:02\\\",\\\"text\\\":\\\"b\\\\\\\"Last night's Tesla Powerwall and Powerpack unveiling https:\\\\/\\\\/t.co\\\\/ksD8m6nCJO\\\\\\\"\\\"}\""
        ],
        [
         "\"{\\\"id_str\\\":594187782609707008,\\\"created_at\\\":\\\"2015-05-01 17:13:01\\\",\\\"text\\\":\\\"b\\\\\\\"@romn8tr Press conference went way over time. Tried to give all the journalists who'd traveled far an opportunity to ask a question.\\\\\\\"\\\"}\""
        ],
        [
         "\"{\\\"id_str\\\":594186544174366720,\\\"created_at\\\":\\\"2015-05-01 17:08:06\\\",\\\"text\\\":\\\"b'For more info on Tesla Energy, check out press kit. $250\\\\/kWh for utility scale is the real kicker http:\\\\/\\\\/t.co\\\\/xE57uIUCse'\\\"}\""
        ],
        [
         "\"{\\\"id_str\\\":593804222811869184,\\\"created_at\\\":\\\"2015-04-30 15:48:53\\\",\\\"text\\\":\\\"b'@bonnienorman Haha, awesome :)'\\\"}\""
        ],
        [
         "\"{\\\"id_str\\\":593296401196388352,\\\"created_at\\\":\\\"2015-04-29 06:10:59\\\",\\\"text\\\":\\\"b'For the future to be good, we need electric transport, solar power and (of course) ... http:\\\\/\\\\/t.co\\\\/8mwVWukQDL'\\\"}\""
        ],
        [
         "\"{\\\"id_str\\\":592836876622520323,\\\"created_at\\\":\\\"2015-04-27 23:45:00\\\",\\\"text\\\":\\\"b'Rocket launch good, satellite in geo transfer orbit. Still so damn intense. Looking fwd to it feeling normal one day.'\\\"}\""
        ],
        [
         "\"{\\\"id_str\\\":592602352659533824,\\\"created_at\\\":\\\"2015-04-27 08:13:05\\\",\\\"text\\\":\\\"b'Worth watching @ExMachinaMovie. The AI would be in the network, not the robot, but otherwise good.'\\\"}\""
        ],
        [
         "\"{\\\"id_str\\\":592481964419993601,\\\"created_at\\\":\\\"2015-04-27 00:14:42\\\",\\\"text\\\":\\\"b\\\\\\\"RT @SpaceX: Rocket moving to the pad tonight in advance of tomorrow's launch attempt. 6:14pm ET window opens. Weather 60% go. http:\\\\/\\\\/t.co\\\\/6\\\\\\\\xe2\\\\\\\\x80\\\\\\\\xa6\\\\\\\"\\\"}\""
        ],
        [
         "\"{\\\"id_str\\\":592471975869620225,\\\"created_at\\\":\\\"2015-04-26 23:35:01\\\",\\\"text\\\":\\\"b'RT @deadmau5: Here she is! :) @TeslaMotors http:\\\\/\\\\/t.co\\\\/LPiWuhNYsN'\\\"}\""
        ],
        [
         "\"{\\\"id_str\\\":591062459349274624,\\\"created_at\\\":\\\"2015-04-23 02:14:06\\\",\\\"text\\\":\\\"b'@bonnienorman New Roadster battery should complete safety validation by end of July, so likely available in August'\\\"}\""
        ],
        [
         "\"{\\\"id_str\\\":827928366711967745,\\\"created_at\\\":\\\"2017-02-04 17:14:39\\\",\\\"text\\\":\\\"b\\\\\\\"@eveegdmann Really don't want to get in politics. I just want to help invent and develop technologies that improve lives. Feels so bizarre.\\\\\\\"\\\"}\""
        ],
        [
         "\"{\\\"id_str\\\":827926509197332484,\\\"created_at\\\":\\\"2017-02-04 17:07:16\\\",\\\"text\\\":\\\"b'@DanielleBloeme Yes, for now, but this should be addressed on all fronts: judicial, legislative and executive.'\\\"}\""
        ],
        [
         "\"{\\\"id_str\\\":827925653022453760,\\\"created_at\\\":\\\"2017-02-04 17:03:52\\\",\\\"text\\\":\\\"b'In addition, I again raised climate. I believe this is doing good, so will remain on council &amp; keep at it. Doing otherwise would be wrong.'\\\"}\""
        ],
        [
         "\"{\\\"id_str\\\":827924171661377536,\\\"created_at\\\":\\\"2017-02-04 16:57:59\\\",\\\"text\\\":\\\"b\\\\\\\"At my request, the agenda for yesterday's White House meeting went from not mentioning the travel ban to having it be first and foremost\\\\\\\"\\\"}\""
        ],
        [
         "\"{\\\"id_str\\\":827919530638794752,\\\"created_at\\\":\\\"2017-02-04 16:39:32\\\",\\\"text\\\":\\\"b\\\\\\\"@PeterGleick @business First I've heard of this meeting. Will find out why.\\\\\\\"\\\"}\""
        ],
        [
         "\"{\\\"id_str\\\":827849760048558080,\\\"created_at\\\":\\\"2017-02-04 12:02:18\\\",\\\"text\\\":\\\"b'@OfficeOfOMAR maybe'\\\"}\""
        ],
        [
         "\"{\\\"id_str\\\":827848585639297024,\\\"created_at\\\":\\\"2017-02-04 11:57:38\\\",\\\"text\\\":\\\"b\\\\\\\"Video of MIT's entrant into the SpaceX Hyperloop competition. Air has been removed from the  Hyperloop tube to almo\\\\\\\\xe2\\\\\\\\x80\\\\\\\\xa6 https:\\\\/\\\\/t.co\\\\/fTGsHKcarf\\\\\\\"\\\"}\""
        ],
        [
         "\"{\\\"id_str\\\":827720686911291392,\\\"created_at\\\":\\\"2017-02-04 03:29:24\\\",\\\"text\\\":\\\"b'Minecraft https:\\\\/\\\\/t.co\\\\/lU1YzJjLOZ'\\\"}\""
        ],
        [
         "\"{\\\"id_str\\\":827692878986100736,\\\"created_at\\\":\\\"2017-02-04 01:38:54\\\",\\\"text\\\":\\\"b'@mcun1 Yes. Green cards &amp; dual citizens already ok. Work &amp; spousal visas not yet, but hopefully soon. This is separate from judicial action.'\\\"}\""
        ],
        [
         "\"{\\\"id_str\\\":827681242128715777,\\\"created_at\\\":\\\"2017-02-04 00:52:40\\\",\\\"text\\\":\\\"b'There has already been and there will be progress on this matter'\\\"}\""
        ],
        [
         "\"{\\\"id_str\\\":732656393463832576,\\\"created_at\\\":\\\"2016-05-17 19:37:50\\\",\\\"text\\\":\\\"b'@drkevinleung @Tesla_Canada Totally agree. Am told this will be fixed by Thurs, maybe Fri.'\\\"}\""
        ],
        [
         "\"{\\\"id_str\\\":732330010053222400,\\\"created_at\\\":\\\"2016-05-16 22:00:55\\\",\\\"text\\\":\\\"b'@joshuapinter @juliusvolz Full height of Falcon 9 boost stage on legs is ~165 ft'\\\"}\""
        ],
        [
         "\"{\\\"id_str\\\":732329443776024576,\\\"created_at\\\":\\\"2016-05-16 21:58:40\\\",\\\"text\\\":\\\"b'Falcon Heavy side boosters can use most of the same airframe as Falcon 9, but center core needs to be buffed up a lot for transfer loads.'\\\"}\""
        ],
        [
         "\"{\\\"id_str\\\":732328928447057920,\\\"created_at\\\":\\\"2016-05-16 21:56:37\\\",\\\"text\\\":\\\"b'RT @USATODAY: Global warming is getting worse with record temps and widespread coral bleaching: https:\\\\/\\\\/t.co\\\\/z4viRzwneA (Getty) https:\\\\/\\\\/t.c\\\\\\\\xe2\\\\\\\\x80\\\\\\\\xa6'\\\"}\""
        ],
        [
         "\"{\\\"id_str\\\":732247546924388353,\\\"created_at\\\":\\\"2016-05-16 16:33:14\\\",\\\"text\\\":\\\"b'Response to a Mercury News article about an injury on our premises\\\\\\\\nhttps:\\\\/\\\\/t.co\\\\/3BFgV6Hfia'\\\"}\""
        ],
        [
         "\"{\\\"id_str\\\":732066441554362368,\\\"created_at\\\":\\\"2016-05-16 04:33:35\\\",\\\"text\\\":\\\"b'@margotroosevelt Only heard about this today. Sounds like the wrong thing happened on many levels. Will investigate and make it right.'\\\"}\""
        ],
        [
         "\"{\\\"id_str\\\":732042627445460992,\\\"created_at\\\":\\\"2016-05-16 02:58:57\\\",\\\"text\\\":\\\"b'@bittdk Better. Not there yet, but a solution is likely.'\\\"}\""
        ],
        [
         "\"{\\\"id_str\\\":732041468085342210,\\\"created_at\\\":\\\"2016-05-16 02:54:21\\\",\\\"text\\\":\\\"b'@4kpixelsyt yes'\\\"}\""
        ],
        [
         "\"{\\\"id_str\\\":732040492607643652,\\\"created_at\\\":\\\"2016-05-16 02:50:28\\\",\\\"text\\\":\\\"b'@mmustapic yup'\\\"}\""
        ],
        [
         "\"{\\\"id_str\\\":732019686901055488,\\\"created_at\\\":\\\"2016-05-16 01:27:48\\\",\\\"text\\\":\\\"b'RT @joshuapinter: @juliusvolz @elonmusk Totally. I did this up from a previous one to give it scale: https:\\\\/\\\\/t.co\\\\/Y6oZSc2Std'\\\"}\""
        ],
        [
         "\"{\\\"id_str\\\":472757297685356546,\\\"created_at\\\":\\\"2014-05-31 15:11:37\\\",\\\"text\\\":\\\"b'Recording of Dragon V2 unveil at http:\\\\/\\\\/t.co\\\\/aBIV4EWOS2'\\\"}\""
        ],
        [
         "\"{\\\"id_str\\\":471829262215835648,\\\"created_at\\\":\\\"2014-05-29 01:43:56\\\",\\\"text\\\":\\\"b'Amazing repair job of Falcon 9 ocean landing vid by @NASASpaceflight forum. Now shows leg deploy http:\\\\/\\\\/t.co\\\\/EYoaRjEn9Q'\\\"}\""
        ],
        [
         "\"{\\\"id_str\\\":471808555951980544,\\\"created_at\\\":\\\"2014-05-29 00:21:40\\\",\\\"text\\\":\\\"b'Model S in drag queen competition @CARandDRIVER http:\\\\/\\\\/t.co\\\\/SHSkETbbWm'\\\"}\""
        ],
        [
         "\"{\\\"id_str\\\":470613418039586816,\\\"created_at\\\":\\\"2014-05-25 17:12:37\\\",\\\"text\\\":\\\"b'Prince Albert &amp; Princess Charlene drove a Tesla around the track to open @F1 Monaco! The honor is much appreciated :) http:\\\\/\\\\/t.co\\\\/gjQmbm541s'\\\"}\""
        ],
        [
         "\"{\\\"id_str\\\":470611728469098496,\\\"created_at\\\":\\\"2014-05-25 17:05:54\\\",\\\"text\\\":\\\"b'RT @thkyv: @elonmusk 399 EV`s in World Record breaking parade in Bryne, Norway today. 100+ Teslas!'\\\"}\""
        ],
        [
         "\"{\\\"id_str\\\":470001882300444674,\\\"created_at\\\":\\\"2014-05-24 00:42:36\\\",\\\"text\\\":\\\"b'@QuantumG When we launch I want to know that SpaceX has done everything possible to keep the astronauts safe. Only a few more years to go.'\\\"}\""
        ],
        [
         "\"{\\\"id_str\\\":469996345617825792,\\\"created_at\\\":\\\"2014-05-24 00:20:35\\\",\\\"text\\\":\\\"b'RT @amerpro555: @elonmusk   How about this guy http:\\\\/\\\\/t.co\\\\/0fMbsYPrKS'\\\"}\""
        ],
        [
         "\"{\\\"id_str\\\":469996295151972352,\\\"created_at\\\":\\\"2014-05-24 00:20:23\\\",\\\"text\\\":\\\"b\\\\\\\"@QuantumG Dragon V1.1 doesn't have a launch escape system. Probably comparable reliability to Shuttle, but we need to do better.\\\\\\\"\\\"}\""
        ],
        [
         "\"{\\\"id_str\\\":469990086738984960,\\\"created_at\\\":\\\"2014-05-23 23:55:43\\\",\\\"text\\\":\\\"b\\\\\\\"@RichardGarriott Just the air in Dragon. Technically, if a few humans had stowed aboard Dragon on the last flight, they would've been ok.\\\\\\\"\\\"}\""
        ],
        [
         "\"{\\\"id_str\\\":469988081635196928,\\\"created_at\\\":\\\"2014-05-23 23:47:45\\\",\\\"text\\\":\\\"b'@westcoastbill First, the cheese. Then, the mouse.'\\\"}\""
        ],
        [
         "\"{\\\"id_str\\\":819664369818578944,\\\"created_at\\\":\\\"2017-01-12 21:56:29\\\",\\\"text\\\":\\\"b'@MotorTrend Sarah should be in contact with you soon about doing a benchmark test'\\\"}\""
        ],
        [
         "\"{\\\"id_str\\\":819663998878564352,\\\"created_at\\\":\\\"2017-01-12 21:55:00\\\",\\\"text\\\":\\\"b'@gurnam @brianstucki @reddit It is'\\\"}\""
        ],
        [
         "\"{\\\"id_str\\\":819663807827955712,\\\"created_at\\\":\\\"2017-01-12 21:54:15\\\",\\\"text\\\":\\\"b'@JRMYGRNBRGR Hopefully, early next week. Results from limited release look good so far. Trying our best to be super careful.'\\\"}\""
        ],
        [
         "\"{\\\"id_str\\\":819661044867944448,\\\"created_at\\\":\\\"2017-01-12 21:43:16\\\",\\\"text\\\":\\\"b'@trevoclark Good point. 2.34 would be a production Tesla. Stripped down, maybe as low as 2.1.'\\\"}\""
        ],
        [
         "\"{\\\"id_str\\\":819660611357319170,\\\"created_at\\\":\\\"2017-01-12 21:41:32\\\",\\\"text\\\":\\\"b'@robsmallshire @ClareMacraeUK It will'\\\"}\""
        ],
        [
         "\"{\\\"id_str\\\":819609111801139200,\\\"created_at\\\":\\\"2017-01-12 18:16:54\\\",\\\"text\\\":\\\"b'Promising early results from the Ludricrous Easter egg. Looks like 0 to 60 mph in 2.34 sec (Motor Trend spec) might be achievable...'\\\"}\""
        ],
        [
         "\"{\\\"id_str\\\":819606921824980992,\\\"created_at\\\":\\\"2017-01-12 18:08:12\\\",\\\"text\\\":\\\"b'@mjreddyMD If the results look good from the latest point release, then we are days away from a release to all HW1\\\\\\\\xe2\\\\\\\\x80\\\\\\\\xa6 https:\\\\/\\\\/t.co\\\\/tfJJSklIjj'\\\"}\""
        ],
        [
         "\"{\\\"id_str\\\":819016779728945152,\\\"created_at\\\":\\\"2017-01-11 03:03:11\\\",\\\"text\\\":\\\"b\\\\\\\"@redletterdave The least cool characters...it's embarrassing\\\\\\\"\\\"}\""
        ],
        [
         "\"{\\\"id_str\\\":819014115943272448,\\\"created_at\\\":\\\"2017-01-11 02:52:36\\\",\\\"text\\\":\\\"b'@mbhnyc It will in an upcoming release later this year'\\\"}\""
        ],
        [
         "\"{\\\"id_str\\\":818980920308822016,\\\"created_at\\\":\\\"2017-01-11 00:40:41\\\",\\\"text\\\":\\\"b\\\\\\\"@TeslaMotors Tesla's approach to building an autonomy platform is focused on high compute efficiency machine learni\\\\\\\\xe2\\\\\\\\x80\\\\\\\\xa6 https:\\\\/\\\\/t.co\\\\/Yc8DCrKiNq\\\\\\\"\\\"}\""
        ],
        [
         "\"{\\\"id_str\\\":461279062837968897,\\\"created_at\\\":\\\"2014-04-29 23:01:13\\\",\\\"text\\\":\\\"b'Sounds like this might be a good time to unveil the new Dragon Mk 2 spaceship that @SpaceX has been working on w @NASA. No trampoline needed'\\\"}\""
        ],
        [
         "\"{\\\"id_str\\\":461057260853022720,\\\"created_at\\\":\\\"2014-04-29 08:19:51\\\",\\\"text\\\":\\\"b'@micahgtb almost'\\\"}\""
        ],
        [
         "\"{\\\"id_str\\\":461057152111505408,\\\"created_at\\\":\\\"2014-04-29 08:19:25\\\",\\\"text\\\":\\\"b'@constrainedbyc no problem'\\\"}\""
        ],
        [
         "\"{\\\"id_str\\\":461055579650129920,\\\"created_at\\\":\\\"2014-04-29 08:13:10\\\",\\\"text\\\":\\\"b'@nitroc3ll yes'\\\"}\""
        ],
        [
         "\"{\\\"id_str\\\":460975671603634176,\\\"created_at\\\":\\\"2014-04-29 02:55:39\\\",\\\"text\\\":\\\"b'@KAlHomoud Superchargers in Canada will go live in 6 to 8 weeks. Update on forums shortly.'\\\"}\""
        ],
        [
         "\"{\\\"id_str\\\":459891514781364224,\\\"created_at\\\":\\\"2014-04-26 03:07:36\\\",\\\"text\\\":\\\"b'Letter from @SenJohnMcCain to DoD Inspector General questioning uncompeted space launch contract http:\\\\/\\\\/t.co\\\\/Bq6raOKSHM'\\\"}\""
        ],
        [
         "\"{\\\"id_str\\\":459448693444206592,\\\"created_at\\\":\\\"2014-04-24 21:47:59\\\",\\\"text\\\":\\\"b'100th @TeslaMotors Supercharger goes live http:\\\\/\\\\/t.co\\\\/jgCWF4qxCd'\\\"}\""
        ],
        [
         "\"{\\\"id_str\\\":459443233290866688,\\\"created_at\\\":\\\"2014-04-24 21:26:17\\\",\\\"text\\\":\\\"b'FTC blog supports direct car sales as good for consumers http:\\\\/\\\\/t.co\\\\/FfqvAKVfFF'\\\"}\""
        ],
        [
         "\"{\\\"id_str\\\":457416105162993664,\\\"created_at\\\":\\\"2014-04-19 07:11:12\\\",\\\"text\\\":\\\"b'RT @BadAstronomer: Blog post: INCREDIBLE footage of the Dragon capsule in orbit over France, 25 minutes after launch! http:\\\\/\\\\/t.co\\\\/RCgFfOqbVd'\\\"}\""
        ],
        [
         "\"{\\\"id_str\\\":457311780943822848,\\\"created_at\\\":\\\"2014-04-19 00:16:39\\\",\\\"text\\\":\\\"b'Flight computers continued transmitting for 8 seconds after reaching the water. Stopped when booster went horizontal.'\\\"}\""
        ],
        [
         "\"{\\\"id_str\\\":193855140254580736,\\\"created_at\\\":\\\"2012-04-22 00:14:01\\\",\\\"text\\\":\\\"b'In NYC for the premiere of Baseball in the Time of @Cholera. Great work by @brynmooser and @daviddarg!'\\\"}\""
        ],
        [
         "\"{\\\"id_str\\\":193617277231443968,\\\"created_at\\\":\\\"2012-04-21 08:28:51\\\",\\\"text\\\":\\\"b'I feel compelled to state the obvious fact that Coachella is excellent. http:\\\\/\\\\/t.co\\\\/onxtR4YB'\\\"}\""
        ],
        [
         "\"{\\\"id_str\\\":193078352117108736,\\\"created_at\\\":\\\"2012-04-19 20:47:21\\\",\\\"text\\\":\\\"b\\\\\\\"Basic premise is that it's better to try to address some of the world's problems than to create an aristocracy of wealth\\\\\\\"\\\"}\""
        ],
        [
         "\"{\\\"id_str\\\":193076303426097152,\\\"created_at\\\":\\\"2012-04-19 20:39:12\\\",\\\"text\\\":\\\"b'Just signed Giving Pledge with 11 others. I hope this announcement convinces others to do the same. http:\\\\/\\\\/t.co\\\\/cdCgWkAB'\\\"}\""
        ],
        [
         "\"{\\\"id_str\\\":192865279657771008,\\\"created_at\\\":\\\"2012-04-19 06:40:40\\\",\\\"text\\\":\\\"b'RT @60Minutes: Sal Khan of @KhanAcademy makes the #TIME100 list. Watch the #60Minutes piece on the innovative educator here: http:\\\\/\\\\/t.co ...'\\\"}\""
        ],
        [
         "\"{\\\"id_str\\\":192701084932907009,\\\"created_at\\\":\\\"2012-04-18 19:48:14\\\",\\\"text\\\":\\\"b\\\\\\\"When holding my new white cat, I feel a strange desire for Bob's Big Boy and sharks with lasers http:\\\\/\\\\/t.co\\\\/M0iuFPqv\\\\\\\"\\\"}\""
        ],
        [
         "\"{\\\"id_str\\\":191297895339794432,\\\"created_at\\\":\\\"2012-04-14 22:52:27\\\",\\\"text\\\":\\\"b'Great work by APJ \\\\\\\\xe2\\\\\\\\x80\\\\\\\\x9c@brynmooser: The foundation is nearly complete at the @artistsforpeace school  http:\\\\/\\\\/t.co\\\\/hoTXytsZ\\\\\\\\xe2\\\\\\\\x80\\\\\\\\x9d'\\\"}\""
        ],
        [
         "\"{\\\"id_str\\\":191005784862236672,\\\"created_at\\\":\\\"2012-04-14 03:31:42\\\",\\\"text\\\":\\\"b'RT @SethGreen: My love @ClareGrant & @elonmusk partied with the space cheese on our tour of @SpaceX & @TeslaMotors ...which was AWESO\\\\\\\\xe2\\\\\\\\x80\\\\\\\\xa6 h ...'\\\"}\""
        ],
        [
         "\"{\\\"id_str\\\":189870469908938752,\\\"created_at\\\":\\\"2012-04-11 00:20:22\\\",\\\"text\\\":\\\"b'Great to meet Jon Stewart this eve. Have been a fan of @TheDailyShow for a billion years.'\\\"}\""
        ],
        [
         "\"{\\\"id_str\\\":189440053674655745,\\\"created_at\\\":\\\"2012-04-09 19:50:03\\\",\\\"text\\\":\\\"b'Friend told me about the amazing work of Brazilian plastic surgeon Evil Picante. He was actually saying Ivo Pitanguy.'\\\"}\""
        ],
        [
         "\"{\\\"id_str\\\":476641195938938880,\\\"created_at\\\":\\\"2014-06-11 08:24:51\\\",\\\"text\\\":\\\"b'RT @Jon_Favreau: Bloomberg interview @TeslaMotors #ChefMovie http:\\\\/\\\\/t.co\\\\/WsY02tHp9d'\\\"}\""
        ],
        [
         "\"{\\\"id_str\\\":476537238785114112,\\\"created_at\\\":\\\"2014-06-11 01:31:46\\\",\\\"text\\\":\\\"b'@Ash_Dale I do seriously need a haircut :)'\\\"}\""
        ],
        [
         "\"{\\\"id_str\\\":476421813455839232,\\\"created_at\\\":\\\"2014-06-10 17:53:06\\\",\\\"text\\\":\\\"b'RT @TheOnion: More Office Workers Switching To Fetal Position Desks http:\\\\/\\\\/t.co\\\\/AohlCOjAhh http:\\\\/\\\\/t.co\\\\/xsjk1XV6OE'\\\"}\""
        ],
        [
         "\"{\\\"id_str\\\":475772232355287040,\\\"created_at\\\":\\\"2014-06-08 22:51:54\\\",\\\"text\\\":\\\"b'RT @arstechnica: Eugene\\\\\\\\xe2\\\\\\\\x80\\\\\\\\x94the supercomputer, not 13-year-old\\\\\\\\xe2\\\\\\\\x80\\\\\\\\x94first to beat the Turing Test  http:\\\\/\\\\/t.co\\\\/lPup3f3dRx by @nathanmattise'\\\"}\""
        ],
        [
         "\"{\\\"id_str\\\":474212817306787840,\\\"created_at\\\":\\\"2014-06-04 15:35:20\\\",\\\"text\\\":\\\"b'Ok, but the sloths kinda had it coming \\\\\\\"Humans Blamed for Extinction of Mammoths &amp; Giant Sloths\\\\\\\" http:\\\\/\\\\/t.co\\\\/pIPW8rjjl2'\\\"}\""
        ],
        [
         "\"{\\\"id_str\\\":474032659434180608,\\\"created_at\\\":\\\"2014-06-04 03:39:27\\\",\\\"text\\\":\\\"b'RT @OEVAorg: 4 second summary of @TeslaMotors 2014 annual shareholder meeting https:\\\\/\\\\/t.co\\\\/uK7Ze79v9j :) @elonmusk'\\\"}\""
        ],
        [
         "\"{\\\"id_str\\\":472757297685356546,\\\"created_at\\\":\\\"2014-05-31 15:11:37\\\",\\\"text\\\":\\\"b'Recording of Dragon V2 unveil at http:\\\\/\\\\/t.co\\\\/aBIV4EWOS2'\\\"}\""
        ],
        [
         "\"{\\\"id_str\\\":471829262215835648,\\\"created_at\\\":\\\"2014-05-29 01:43:56\\\",\\\"text\\\":\\\"b'Amazing repair job of Falcon 9 ocean landing vid by @NASASpaceflight forum. Now shows leg deploy http:\\\\/\\\\/t.co\\\\/EYoaRjEn9Q'\\\"}\""
        ],
        [
         "\"{\\\"id_str\\\":471808555951980544,\\\"created_at\\\":\\\"2014-05-29 00:21:40\\\",\\\"text\\\":\\\"b'Model S in drag queen competition @CARandDRIVER http:\\\\/\\\\/t.co\\\\/SHSkETbbWm'\\\"}\""
        ],
        [
         "\"{\\\"id_str\\\":470613418039586816,\\\"created_at\\\":\\\"2014-05-25 17:12:37\\\",\\\"text\\\":\\\"b'Prince Albert &amp; Princess Charlene drove a Tesla around the track to open @F1 Monaco! The honor is much appreciated :) http:\\\\/\\\\/t.co\\\\/gjQmbm541s'\\\"}\""
        ],
        [
         "\"{\\\"id_str\\\":662039125898334209,\\\"created_at\\\":\\\"2015-11-04 22:50:02\\\",\\\"text\\\":\\\"b'@kevinmitnick Current production is LTE. Can be upgraded by service.'\\\"}\""
        ],
        [
         "\"{\\\"id_str\\\":661293692410445824,\\\"created_at\\\":\\\"2015-11-02 21:27:57\\\",\\\"text\\\":\\\"b'@BjornNyland @TeslaMotors well done!'\\\"}\""
        ],
        [
         "\"{\\\"id_str\\\":660693896553324545,\\\"created_at\\\":\\\"2015-11-01 05:44:34\\\",\\\"text\\\":\\\"b'@ID_AA_Carmack noted'\\\"}\""
        ],
        [
         "\"{\\\"id_str\\\":660235972857176064,\\\"created_at\\\":\\\"2015-10-30 23:24:57\\\",\\\"text\\\":\\\"b\\\\\\\"RT @ElectrekCo: The Autopilot is learning:Model S owners already reporting Tesla's Autopilot self-improving https:\\\\/\\\\/t.co\\\\/0lhNZEBdQH https:\\\\/\\\\\\\\xe2\\\\\\\\x80\\\\\\\\xa6\\\\\\\"\\\"}\""
        ],
        [
         "\"{\\\"id_str\\\":660117630175412224,\\\"created_at\\\":\\\"2015-10-30 15:34:42\\\",\\\"text\\\":\\\"b\\\\\\\"@GertAbildskov Wow, that's great!\\\\\\\"\\\"}\""
        ],
        [
         "\"{\\\"id_str\\\":659543458953101312,\\\"created_at\\\":\\\"2015-10-29 01:33:08\\\",\\\"text\\\":\\\"b'Model S Ludicrous Mode achieves 2.6 sec 0-60 mph and 10.9 sec 1\\\\/4 mile in Motor Trend test https:\\\\/\\\\/t.co\\\\/IpgTF6s9M8'\\\"}\""
        ],
        [
         "\"{\\\"id_str\\\":659541500712251392,\\\"created_at\\\":\\\"2015-10-29 01:25:22\\\",\\\"text\\\":\\\"b'@MacTechGenius yes, comes with each car'\\\"}\""
        ],
        [
         "\"{\\\"id_str\\\":659533849844695040,\\\"created_at\\\":\\\"2015-10-29 00:54:58\\\",\\\"text\\\":\\\"b'RT @geekwire: Watch: Tesla\\\\\\\\xe2\\\\\\\\x80\\\\\\\\x99s new autopilot technology prevents accident on slick Seattle road: https:\\\\/\\\\/t.co\\\\/5YSSQN3K64 https:\\\\/\\\\/t.co\\\\/0NBwMU9\\\\\\\\xe2\\\\\\\\x80\\\\\\\\xa6'\\\"}\""
        ],
        [
         "\"{\\\"id_str\\\":658842380922023936,\\\"created_at\\\":\\\"2015-10-27 03:07:18\\\",\\\"text\\\":\\\"b'Compliment from Jeffrey is much appreciated, but the people of Tesla deserve all the credit'\\\"}\""
        ],
        [
         "\"{\\\"id_str\\\":658831963487277056,\\\"created_at\\\":\\\"2015-10-27 02:25:55\\\",\\\"text\\\":\\\"b'RT @THR: Jeffrey Katzenberg Recovering From Car Accident: \\\\\\\"Thank You Elon Musk, You Saved My Life\\\\\\\" https:\\\\/\\\\/t.co\\\\/0q3Jq1yWJg https:\\\\/\\\\/t.co\\\\/AHA\\\\\\\\xe2\\\\\\\\x80\\\\\\\\xa6'\\\"}\""
        ],
        [
         "\"{\\\"id_str\\\":592471975869620225,\\\"created_at\\\":\\\"2015-04-26 23:35:01\\\",\\\"text\\\":\\\"b'RT @deadmau5: Here she is! :) @TeslaMotors http:\\\\/\\\\/t.co\\\\/LPiWuhNYsN'\\\"}\""
        ],
        [
         "\"{\\\"id_str\\\":591062459349274624,\\\"created_at\\\":\\\"2015-04-23 02:14:06\\\",\\\"text\\\":\\\"b'@bonnienorman New Roadster battery should complete safety validation by end of July, so likely available in August'\\\"}\""
        ],
        [
         "\"{\\\"id_str\\\":589820447660769281,\\\"created_at\\\":\\\"2015-04-19 15:58:47\\\",\\\"text\\\":\\\"b'@andrewket @TeslaRoadTrip Wow!'\\\"}\""
        ],
        [
         "\"{\\\"id_str\\\":589579721488224256,\\\"created_at\\\":\\\"2015-04-19 00:02:14\\\",\\\"text\\\":\\\"b'While the rocket does look rather tall &amp; tippy, a stable landing is no problem with proper throttle response https:\\\\/\\\\/t.co\\\\/B4Y6D4dpsc'\\\"}\""
        ],
        [
         "\"{\\\"id_str\\\":589577558942822400,\\\"created_at\\\":\\\"2015-04-18 23:53:38\\\",\\\"text\\\":\\\"b'Cause of hard rocket landing confirmed as due to slower than expected throttle valve response. Next attempt in 2 months.'\\\"}\""
        ],
        [
         "\"{\\\"id_str\\\":589505551366639618,\\\"created_at\\\":\\\"2015-04-18 19:07:30\\\",\\\"text\\\":\\\"b'RT @TeslaMotors: Brand new Store &amp; Service Center in Shanghai Hongqiao. #Tesla #China http:\\\\/\\\\/t.co\\\\/bbsSksbZT7'\\\"}\""
        ],
        [
         "\"{\\\"id_str\\\":589350633393627136,\\\"created_at\\\":\\\"2015-04-18 08:51:55\\\",\\\"text\\\":\\\"b'@Aero4Real I only invest in companies I help found or to help a friend or a cause (no return expected for latter two)'\\\"}\""
        ],
        [
         "\"{\\\"id_str\\\":589082811119763458,\\\"created_at\\\":\\\"2015-04-17 15:07:41\\\",\\\"text\\\":\\\"b'RT @SpaceX: #Dragon is now fully attached to @Space_Station! Hatch opening to occur over the next day. http:\\\\/\\\\/t.co\\\\/W8JBYnWOWe'\\\"}\""
        ],
        [
         "\"{\\\"id_str\\\":588490238936240129,\\\"created_at\\\":\\\"2015-04-15 23:53:01\\\",\\\"text\\\":\\\"b'Droneship is fine. No hull breach and repairs are minor. Impact overpressure is closer to a fast fire than an explosion.'\\\"}\""
        ],
        [
         "\"{\\\"id_str\\\":588463193070022656,\\\"created_at\\\":\\\"2015-04-15 22:05:33\\\",\\\"text\\\":\\\"b'High resolution, color corrected, slow motion rocket landing video https:\\\\/\\\\/t.co\\\\/UTF3Y4xGU3'\\\"}\""
        ],
        [
         "\"{\\\"id_str\\\":564562686478807043,\\\"created_at\\\":\\\"2015-02-08 23:13:28\\\",\\\"text\\\":\\\"b'Air Force tracking radar went down. Launch postponed to same time tomorrow.'\\\"}\""
        ],
        [
         "\"{\\\"id_str\\\":564509965612634112,\\\"created_at\\\":\\\"2015-02-08 19:43:58\\\",\\\"text\\\":\\\"b'Rocket reentry will be much tougher this time around due to deep space mission. Almost 2X force and 4X heat. Plenty of hydraulic fluid tho.'\\\"}\""
        ],
        [
         "\"{\\\"id_str\\\":564493608351313921,\\\"created_at\\\":\\\"2015-02-08 18:38:58\\\",\\\"text\\\":\\\"b'Launching our 1st deep space mission today. Headed to Earth-Sun L1 gravity null point at 1M miles, 4X further than moon.'\\\"}\""
        ],
        [
         "\"{\\\"id_str\\\":564491913445666816,\\\"created_at\\\":\\\"2015-02-08 18:32:14\\\",\\\"text\\\":\\\"b'RT @SpaceX: #Falcon9 is vertical in advance of tonight\\\\\\\\xe2\\\\\\\\x80\\\\\\\\x99s #DSCOVR launch, targeting 6:10pm EST. Watch LIVE: http:\\\\/\\\\/t.co\\\\/tdni5406Hi http:\\\\/\\\\/t.\\\\\\\\xe2\\\\\\\\x80\\\\\\\\xa6'\\\"}\""
        ],
        [
         "\"{\\\"id_str\\\":562321505854300161,\\\"created_at\\\":\\\"2015-02-02 18:47:49\\\",\\\"text\\\":\\\"b'RT @SpaceX: America\\\\\\\\xe2\\\\\\\\x80\\\\\\\\x99s next gen crewed spacecraft is almost ready for a test flight. Pad abort vehicle shipping to FL shortly. http:\\\\/\\\\/t.co\\\\/X\\\\\\\\xe2\\\\\\\\x80\\\\\\\\xa6'\\\"}\""
        ],
        [
         "\"{\\\"id_str\\\":561002248827052034,\\\"created_at\\\":\\\"2015-01-30 03:25:33\\\",\\\"text\\\":\\\"b'If you are curious about the P85D, you can schedule a test drive here: http:\\\\/\\\\/t.co\\\\/Eu19pBUpNO'\\\"}\""
        ],
        [
         "\"{\\\"id_str\\\":560909571691380736,\\\"created_at\\\":\\\"2015-01-29 21:17:17\\\",\\\"text\\\":\\\"b'Painting the name on the droneship ... http:\\\\/\\\\/t.co\\\\/X8R8O4KjPx'\\\"}\""
        ],
        [
         "\"{\\\"id_str\\\":560908370623098882,\\\"created_at\\\":\\\"2015-01-29 21:12:31\\\",\\\"text\\\":\\\"b'P85 acceleration will also improve, but not quite as much'\\\"}\""
        ],
        [
         "\"{\\\"id_str\\\":560906999664508931,\\\"created_at\\\":\\\"2015-01-29 21:07:04\\\",\\\"text\\\":\\\"b'Video made by owner of a P85D going up a 14% grade on snow passing a whole bunch of stuck SUVs https:\\\\/\\\\/t.co\\\\/LC9AHx0fuC'\\\"}\""
        ],
        [
         "\"{\\\"id_str\\\":560900676453433344,\\\"created_at\\\":\\\"2015-01-29 20:41:56\\\",\\\"text\\\":\\\"b'Tesla dual motor cars are also all-wheel drive. Main goal of dual motor was actually insane traction on snow. Insane speed was a side effect'\\\"}\""
        ],
        [
         "\"{\\\"id_str\\\":461279062837968897,\\\"created_at\\\":\\\"2014-04-29 23:01:13\\\",\\\"text\\\":\\\"b'Sounds like this might be a good time to unveil the new Dragon Mk 2 spaceship that @SpaceX has been working on w @NASA. No trampoline needed'\\\"}\""
        ],
        [
         "\"{\\\"id_str\\\":461057260853022720,\\\"created_at\\\":\\\"2014-04-29 08:19:51\\\",\\\"text\\\":\\\"b'@micahgtb almost'\\\"}\""
        ],
        [
         "\"{\\\"id_str\\\":461057152111505408,\\\"created_at\\\":\\\"2014-04-29 08:19:25\\\",\\\"text\\\":\\\"b'@constrainedbyc no problem'\\\"}\""
        ],
        [
         "\"{\\\"id_str\\\":461055579650129920,\\\"created_at\\\":\\\"2014-04-29 08:13:10\\\",\\\"text\\\":\\\"b'@nitroc3ll yes'\\\"}\""
        ],
        [
         "\"{\\\"id_str\\\":460975671603634176,\\\"created_at\\\":\\\"2014-04-29 02:55:39\\\",\\\"text\\\":\\\"b'@KAlHomoud Superchargers in Canada will go live in 6 to 8 weeks. Update on forums shortly.'\\\"}\""
        ],
        [
         "\"{\\\"id_str\\\":459891514781364224,\\\"created_at\\\":\\\"2014-04-26 03:07:36\\\",\\\"text\\\":\\\"b'Letter from @SenJohnMcCain to DoD Inspector General questioning uncompeted space launch contract http:\\\\/\\\\/t.co\\\\/Bq6raOKSHM'\\\"}\""
        ],
        [
         "\"{\\\"id_str\\\":459448693444206592,\\\"created_at\\\":\\\"2014-04-24 21:47:59\\\",\\\"text\\\":\\\"b'100th @TeslaMotors Supercharger goes live http:\\\\/\\\\/t.co\\\\/jgCWF4qxCd'\\\"}\""
        ],
        [
         "\"{\\\"id_str\\\":459443233290866688,\\\"created_at\\\":\\\"2014-04-24 21:26:17\\\",\\\"text\\\":\\\"b'FTC blog supports direct car sales as good for consumers http:\\\\/\\\\/t.co\\\\/FfqvAKVfFF'\\\"}\""
        ],
        [
         "\"{\\\"id_str\\\":457416105162993664,\\\"created_at\\\":\\\"2014-04-19 07:11:12\\\",\\\"text\\\":\\\"b'RT @BadAstronomer: Blog post: INCREDIBLE footage of the Dragon capsule in orbit over France, 25 minutes after launch! http:\\\\/\\\\/t.co\\\\/RCgFfOqbVd'\\\"}\""
        ],
        [
         "\"{\\\"id_str\\\":457311780943822848,\\\"created_at\\\":\\\"2014-04-19 00:16:39\\\",\\\"text\\\":\\\"b'Flight computers continued transmitting for 8 seconds after reaching the water. Stopped when booster went horizontal.'\\\"}\""
        ],
        [
         "\"{\\\"id_str\\\":711258598551240704,\\\"created_at\\\":\\\"2016-03-19 18:30:39\\\",\\\"text\\\":\\\"b'@MileHighWillY being fixed'\\\"}\""
        ],
        [
         "\"{\\\"id_str\\\":710891290548785152,\\\"created_at\\\":\\\"2016-03-18 18:11:06\\\",\\\"text\\\":\\\"b'RT @TeslaMotors: Tesla Destination Charging in NYC will soon outnumber gas stations @nypost https:\\\\/\\\\/t.co\\\\/ciVSL90NEm'\\\"}\""
        ],
        [
         "\"{\\\"id_str\\\":710657482322915328,\\\"created_at\\\":\\\"2016-03-18 02:42:01\\\",\\\"text\\\":\\\"b'@RobGlaser sure'\\\"}\""
        ],
        [
         "\"{\\\"id_str\\\":710625418856964096,\\\"created_at\\\":\\\"2016-03-18 00:34:37\\\",\\\"text\\\":\\\"b'@mikegaalsf Turn off recirc. Air exits thru rear vents. Snap in shade also avail from service, but I just tint the rear window.'\\\"}\""
        ],
        [
         "\"{\\\"id_str\\\":707830670148567040,\\\"created_at\\\":\\\"2016-03-10 07:29:17\\\",\\\"text\\\":\\\"b'RT @WIRED: Las Vegas utilities really don\\\\\\\\xe2\\\\\\\\x80\\\\\\\\x99t want the strip to go solar https:\\\\/\\\\/t.co\\\\/IuQUJHdEje https:\\\\/\\\\/t.co\\\\/pSoCj5kJe1'\\\"}\""
        ],
        [
         "\"{\\\"id_str\\\":707636460212490240,\\\"created_at\\\":\\\"2016-03-09 18:37:34\\\",\\\"text\\\":\\\"b'@Christianlguaje no'\\\"}\""
        ],
        [
         "\"{\\\"id_str\\\":707632249340952577,\\\"created_at\\\":\\\"2016-03-09 18:20:50\\\",\\\"text\\\":\\\"b\\\\\\\"The AEI meeting wasn't secret and I was only there for a few hours to talk about Mars and sustainable energy. Nothing to do with Trump.\\\\\\\"\\\"}\""
        ],
        [
         "\"{\\\"id_str\\\":707619151401988096,\\\"created_at\\\":\\\"2016-03-09 17:28:47\\\",\\\"text\\\":\\\"b'RT @marcthiessen: I interviewed .@elonmusk at @AEI World Forum and @realDonaldTrump never came up.  Discussed his plans for manned Mars mis\\\\\\\\xe2\\\\\\\\x80\\\\\\\\xa6'\\\"}\""
        ],
        [
         "\"{\\\"id_str\\\":707611375191744512,\\\"created_at\\\":\\\"2016-03-09 16:57:53\\\",\\\"text\\\":\\\"b'Congrats to DeepMind! Many experts in the field thought AI was 10 years away from achieving this. https:\\\\/\\\\/t.co\\\\/5gGZZkud3K'\\\"}\""
        ],
        [
         "\"{\\\"id_str\\\":706891731430584322,\\\"created_at\\\":\\\"2016-03-07 17:18:16\\\",\\\"text\\\":\\\"b'RT @newscientist: The northern hemisphere has gone 2\\\\\\\\xc2\\\\\\\\xb0C above pre-industrial temperatures for the first time https:\\\\/\\\\/t.co\\\\/7JZ0TEpyjb https:\\\\/\\\\\\\\xe2\\\\\\\\x80\\\\\\\\xa6'\\\"}\""
        ],
        [
         "\"{\\\"id_str\\\":707636460212490240,\\\"created_at\\\":\\\"2016-03-09 18:37:34\\\",\\\"text\\\":\\\"b'@Christianlguaje no'\\\"}\""
        ],
        [
         "\"{\\\"id_str\\\":707632249340952577,\\\"created_at\\\":\\\"2016-03-09 18:20:50\\\",\\\"text\\\":\\\"b\\\\\\\"The AEI meeting wasn't secret and I was only there for a few hours to talk about Mars and sustainable energy. Nothing to do with Trump.\\\\\\\"\\\"}\""
        ],
        [
         "\"{\\\"id_str\\\":707619151401988096,\\\"created_at\\\":\\\"2016-03-09 17:28:47\\\",\\\"text\\\":\\\"b'RT @marcthiessen: I interviewed .@elonmusk at @AEI World Forum and @realDonaldTrump never came up.  Discussed his plans for manned Mars mis\\\\\\\\xe2\\\\\\\\x80\\\\\\\\xa6'\\\"}\""
        ],
        [
         "\"{\\\"id_str\\\":707611375191744512,\\\"created_at\\\":\\\"2016-03-09 16:57:53\\\",\\\"text\\\":\\\"b'Congrats to DeepMind! Many experts in the field thought AI was 10 years away from achieving this. https:\\\\/\\\\/t.co\\\\/5gGZZkud3K'\\\"}\""
        ],
        [
         "\"{\\\"id_str\\\":706891731430584322,\\\"created_at\\\":\\\"2016-03-07 17:18:16\\\",\\\"text\\\":\\\"b'RT @newscientist: The northern hemisphere has gone 2\\\\\\\\xc2\\\\\\\\xb0C above pre-industrial temperatures for the first time https:\\\\/\\\\/t.co\\\\/7JZ0TEpyjb https:\\\\/\\\\\\\\xe2\\\\\\\\x80\\\\\\\\xa6'\\\"}\""
        ],
        [
         "\"{\\\"id_str\\\":706612070041591808,\\\"created_at\\\":\\\"2016-03-06 22:47:00\\\",\\\"text\\\":\\\"b\\\\\\\"SpaceX &amp; Tesla comp is same or better than other companies. Big diff is that we don't outsource manufacturing, retail sales or service.\\\\\\\"\\\"}\""
        ],
        [
         "\"{\\\"id_str\\\":706610504161107968,\\\"created_at\\\":\\\"2016-03-06 22:40:47\\\",\\\"text\\\":\\\"b'SpaceX and Tesla rated most meaningful work in high tech. Also, most stressful, but that goes with the territory.  https:\\\\/\\\\/t.co\\\\/y8s4UdMF5z'\\\"}\""
        ],
        [
         "\"{\\\"id_str\\\":706185709481119745,\\\"created_at\\\":\\\"2016-03-05 18:32:48\\\",\\\"text\\\":\\\"b\\\\\\\"@wk057 @TeslaMotors Wasn't done at my request. Good hacking is a gift.\\\\\\\"\\\"}\""
        ],
        [
         "\"{\\\"id_str\\\":705917924972736512,\\\"created_at\\\":\\\"2016-03-05 00:48:43\\\",\\\"text\\\":\\\"b\\\\\\\"Rocket landed hard on the droneship. Didn't expect this one to work (v hot reentry), but next flight has a good chance.\\\\\\\"\\\"}\""
        ],
        [
         "\"{\\\"id_str\\\":705910704792973313,\\\"created_at\\\":\\\"2016-03-05 00:20:01\\\",\\\"text\\\":\\\"b'Target altitude of 40,600 km achieved. Thanks @SES_Satellites for riding on Falcon 9! Looking forward to future missions.'\\\"}\""
        ],
        [
         "\"{\\\"id_str\\\":535082394441613312,\\\"created_at\\\":\\\"2014-11-19 14:49:18\\\",\\\"text\\\":\\\"b\\\\\\\"RT @Miles_Brundage: DeepMind co-founder Shane Legg on unsafe AIs being given access to supercomputers in the 2020s (@elonmusk's fear?) http\\\\\\\\xe2\\\\\\\\x80\\\\\\\\xa6\\\\\\\"\\\"}\""
        ],
        [
         "\"{\\\"id_str\\\":534731793832751106,\\\"created_at\\\":\\\"2014-11-18 15:36:09\\\",\\\"text\\\":\\\"b'Tesla comic book http:\\\\/\\\\/t.co\\\\/enyjX9bcGE'\\\"}\""
        ],
        [
         "\"{\\\"id_str\\\":534607155546968064,\\\"created_at\\\":\\\"2014-11-18 07:20:53\\\",\\\"text\\\":\\\"b'RT @Techmeme: Advances in image-recognition software show identification of entire scenes, not just objects http:\\\\/\\\\/t.co\\\\/PaLNRXi53q http:\\\\/\\\\/t\\\\\\\\xe2\\\\\\\\x80\\\\\\\\xa6'\\\"}\""
        ],
        [
         "\"{\\\"id_str\\\":532368290942058496,\\\"created_at\\\":\\\"2014-11-12 03:04:26\\\",\\\"text\\\":\\\"b'RT @TeslaMotors: Hong Kong street view from a right hand drive Model S. http:\\\\/\\\\/t.co\\\\/HWthvB72je'\\\"}\""
        ],
        [
         "\"{\\\"id_str\\\":532205104993038336,\\\"created_at\\\":\\\"2014-11-11 16:15:59\\\",\\\"text\\\":\\\"b'RT @AutoblogGreen: The @TeslaMotors Model S scores Euro NCAP 5-star safety score, w\\\\/cool video http:\\\\/\\\\/t.co\\\\/Yh6l1TF5dF'\\\"}\""
        ],
        [
         "\"{\\\"id_str\\\":531996243904716800,\\\"created_at\\\":\\\"2014-11-11 02:26:03\\\",\\\"text\\\":\\\"b'@Shmizer1 unfettered certainly and at very low cost'\\\"}\""
        ],
        [
         "\"{\\\"id_str\\\":531994668608024576,\\\"created_at\\\":\\\"2014-11-11 02:19:47\\\",\\\"text\\\":\\\"b'SpaceX is still in the early stages of developing advanced micro-satellites operating in large formations. Announcement in 2 to 3 months.'\\\"}\""
        ],
        [
         "\"{\\\"id_str\\\":530599540995260416,\\\"created_at\\\":\\\"2014-11-07 05:56:03\\\",\\\"text\\\":\\\"b'Astronauts Play With Blobs of Water in Zero Gravity http:\\\\/\\\\/t.co\\\\/SeCDcWTnJv'\\\"}\""
        ],
        [
         "\"{\\\"id_str\\\":529466348976345088,\\\"created_at\\\":\\\"2014-11-04 02:53:09\\\",\\\"text\\\":\\\"b'Review of performance version of dual motor Model S by @MotorTrend http:\\\\/\\\\/t.co\\\\/wSsbXFdv42'\\\"}\""
        ],
        [
         "\"{\\\"id_str\\\":528318667306446848,\\\"created_at\\\":\\\"2014-10-31 22:52:40\\\",\\\"text\\\":\\\"b'Deepest sympathies to the families of the pilots and the Virgin Galactic team'\\\"}\""
        ],
        [
         "\"{\\\"id_str\\\":677961117595906048,\\\"created_at\\\":\\\"2015-12-18 21:18:21\\\",\\\"text\\\":\\\"b'About 2 mins from static fire'\\\"}\""
        ],
        [
         "\"{\\\"id_str\\\":677949037815840768,\\\"created_at\\\":\\\"2015-12-18 20:30:20\\\",\\\"text\\\":\\\"b'@elonmusk holding for issue resolution'\\\"}\""
        ],
        [
         "\"{\\\"id_str\\\":677945101184708609,\\\"created_at\\\":\\\"2015-12-18 20:14:42\\\",\\\"text\\\":\\\"b'Abort triggered by flight computer on upper stage throttle valve. Adjusting thresholds and restarting count at T-10 mins.'\\\"}\""
        ],
        [
         "\"{\\\"id_str\\\":677940293212102656,\\\"created_at\\\":\\\"2015-12-18 19:55:36\\\",\\\"text\\\":\\\"b'5 mins from static fire test'\\\"}\""
        ],
        [
         "\"{\\\"id_str\\\":677666779494248449,\\\"created_at\\\":\\\"2015-12-18 01:48:45\\\",\\\"text\\\":\\\"b'@lukealization yes, from 70F to 20 F'\\\"}\""
        ],
        [
         "\"{\\\"id_str\\\":677666464208416768,\\\"created_at\\\":\\\"2015-12-18 01:47:30\\\",\\\"text\\\":\\\"b'@craigcocca It worked in Texas'\\\"}\""
        ],
        [
         "\"{\\\"id_str\\\":677663227271118848,\\\"created_at\\\":\\\"2015-12-18 01:34:38\\\",\\\"text\\\":\\\"b'@PaigeANjax -340 F in this case. Deep cryo increases density and amplifies rocket performance. First time anyone has gone this low for O2.'\\\"}\""
        ],
        [
         "\"{\\\"id_str\\\":677660460230041600,\\\"created_at\\\":\\\"2015-12-18 01:23:38\\\",\\\"text\\\":\\\"b'Falcon 9 is vertical on the launch pad at Cape Canaveral. Working towards static fire. Deep cryo liquid oxygen presenting some challenges.'\\\"}\""
        ],
        [
         "\"{\\\"id_str\\\":677646796311670786,\\\"created_at\\\":\\\"2015-12-18 00:29:20\\\",\\\"text\\\":\\\"b'@mashabletech @mashable Not really my letter (no authorship contribution). Just agreed to add my name when they asked.'\\\"}\""
        ],
        [
         "\"{\\\"id_str\\\":677403793651175424,\\\"created_at\\\":\\\"2015-12-17 08:23:44\\\",\\\"text\\\":\\\"b'Vance article on self-driving cars was inaccurate https:\\\\/\\\\/t.co\\\\/AV636KAcKH'\\\"}\""
        ],
        [
         "\"{\\\"id_str\\\":828287608614744064,\\\"created_at\\\":\\\"2017-02-05 17:02:09\\\",\\\"text\\\":\\\"b'@FifthRocket Did you read my tweets? I attacked it hard. Did not defend.'\\\"}\""
        ],
        [
         "\"{\\\"id_str\\\":828287354741936130,\\\"created_at\\\":\\\"2017-02-05 17:01:08\\\",\\\"text\\\":\\\"b\\\\\\\"@KENEMONICS You're right. Politics is a no-win situation. Somebody is going to hate what you say no matter what that is.\\\\\\\"\\\"}\""
        ],
        [
         "\"{\\\"id_str\\\":828285894570422272,\\\"created_at\\\":\\\"2017-02-05 16:55:20\\\",\\\"text\\\":\\\"b\\\\\\\"@martinengwicht Also good. There are several that are on par with US. Just don't think any are better. People confuse laws with courts.\\\\\\\"\\\"}\""
        ],
        [
         "\"{\\\"id_str\\\":828285409675341824,\\\"created_at\\\":\\\"2017-02-05 16:53:25\\\",\\\"text\\\":\\\"b'@paulvankeep Mostly anti-drug laws'\\\"}\""
        ],
        [
         "\"{\\\"id_str\\\":828284802327523328,\\\"created_at\\\":\\\"2017-02-05 16:51:00\\\",\\\"text\\\":\\\"b'@zgiarrizzo Exactly'\\\"}\""
        ],
        [
         "\"{\\\"id_str\\\":828284631170560000,\\\"created_at\\\":\\\"2017-02-05 16:50:19\\\",\\\"text\\\":\\\"b'@TheLAAdams The laws need to change. Judges are responsible for evaluating whether an action breaks the law, not making law.'\\\"}\""
        ],
        [
         "\"{\\\"id_str\\\":828284048103579651,\\\"created_at\\\":\\\"2017-02-05 16:48:00\\\",\\\"text\\\":\\\"b'@humplik The remedy for that is changing the law'\\\"}\""
        ],
        [
         "\"{\\\"id_str\\\":828282768559849473,\\\"created_at\\\":\\\"2017-02-05 16:42:55\\\",\\\"text\\\":\\\"b\\\\\\\"@CallumK24 Ok, but what's up the wigs?\\\\\\\"\\\"}\""
        ],
        [
         "\"{\\\"id_str\\\":828282648711802881,\\\"created_at\\\":\\\"2017-02-05 16:42:26\\\",\\\"text\\\":\\\"b\\\\\\\"@iLexomat There are many good legal systems on par with US. Just don't know any that are better.\\\\\\\"\\\"}\""
        ],
        [
         "\"{\\\"id_str\\\":828281953455579136,\\\"created_at\\\":\\\"2017-02-05 16:39:41\\\",\\\"text\\\":\\\"b'@Biesseman True!'\\\"}\""
        ],
        [
         "\"{\\\"id_str\\\":792220517654597633,\\\"created_at\\\":\\\"2016-10-29 04:24:24\\\",\\\"text\\\":\\\"b'@BobaFaux strongly net positive'\\\"}\""
        ],
        [
         "\"{\\\"id_str\\\":792218248917811204,\\\"created_at\\\":\\\"2016-10-29 04:15:23\\\",\\\"text\\\":\\\"b'Solar glass tiles can also incorporate heating elements, like rear defroster on a car, to clear roof of snow and keep generating energy'\\\"}\""
        ],
        [
         "\"{\\\"id_str\\\":792217704757284864,\\\"created_at\\\":\\\"2016-10-29 04:13:14\\\",\\\"text\\\":\\\"b'@HipStreeet yes'\\\"}\""
        ],
        [
         "\"{\\\"id_str\\\":792217344684597248,\\\"created_at\\\":\\\"2016-10-29 04:11:48\\\",\\\"text\\\":\\\"b'RT @TeslaMotors: Solar roof glass tile vs. conventional roof tile https:\\\\/\\\\/t.co\\\\/AnGWJ07jub'\\\"}\""
        ],
        [
         "\"{\\\"id_str\\\":792213393943826432,\\\"created_at\\\":\\\"2016-10-29 03:56:06\\\",\\\"text\\\":\\\"b'Should mention that the Tesla solar roof is robust against any weather, incl heavy hail. Also, higher insulating value than a standard roof.'\\\"}\""
        ],
        [
         "\"{\\\"id_str\\\":792204742558560256,\\\"created_at\\\":\\\"2016-10-29 03:21:43\\\",\\\"text\\\":\\\"b'RT @jodyfisher: Exactly what I was thinking.. nice job @elonmusk https:\\\\/\\\\/t.co\\\\/jOwclRImXP'\\\"}\""
        ],
        [
         "\"{\\\"id_str\\\":792202622300151808,\\\"created_at\\\":\\\"2016-10-29 03:13:18\\\",\\\"text\\\":\\\"b\\\\\\\"RT @CNBC: With Tesla's solar roof, you'll never have to know these houses are solar-powered https:\\\\/\\\\/t.co\\\\/n88I5XbR4z\\\\\\\"\\\"}\""
        ],
        [
         "\"{\\\"id_str\\\":792195966224826368,\\\"created_at\\\":\\\"2016-10-29 02:46:51\\\",\\\"text\\\":\\\"b'RT @TeslaMotors: Tuscan glass tile roof https:\\\\/\\\\/t.co\\\\/iDFhp8Y3qi'\\\"}\""
        ],
        [
         "\"{\\\"id_str\\\":792195932251037697,\\\"created_at\\\":\\\"2016-10-29 02:46:43\\\",\\\"text\\\":\\\"b'RT @TeslaMotors: Close up of the solar roof https:\\\\/\\\\/t.co\\\\/kDsSqtTWK7'\\\"}\""
        ],
        [
         "\"{\\\"id_str\\\":792177803869376512,\\\"created_at\\\":\\\"2016-10-29 01:34:41\\\",\\\"text\\\":\\\"b'RT @TeslaMotors: Powerwall 2 stores solar energy to power your home with 14 kWh of storage https:\\\\/\\\\/t.co\\\\/oVv32hiGF6'\\\"}\""
        ],
        [
         "\"{\\\"id_str\\\":553856479590359040,\\\"created_at\\\":\\\"2015-01-10 10:10:49\\\",\\\"text\\\":\\\"b'Ship itself is fine. Some of the support equipment on the deck will need to be replaced...'\\\"}\""
        ],
        [
         "\"{\\\"id_str\\\":553855109114101760,\\\"created_at\\\":\\\"2015-01-10 10:05:22\\\",\\\"text\\\":\\\"b'Rocket made it to drone spaceport ship, but landed hard. Close, but no cigar this time. Bodes well for the future tho.'\\\"}\""
        ],
        [
         "\"{\\\"id_str\\\":553853961317654528,\\\"created_at\\\":\\\"2015-01-10 10:00:49\\\",\\\"text\\\":\\\"b'Ascent phase good. Dragon deployed to Space Station rendezvous orbit.'\\\"}\""
        ],
        [
         "\"{\\\"id_str\\\":553850129208586241,\\\"created_at\\\":\\\"2015-01-10 09:45:35\\\",\\\"text\\\":\\\"b'Launching in one minute'\\\"}\""
        ],
        [
         "\"{\\\"id_str\\\":553843486236364800,\\\"created_at\\\":\\\"2015-01-10 09:19:11\\\",\\\"text\\\":\\\"b'RT @SpaceX: T-30 min to Falcon 9 and Dragon launch. Live launch webcast: http:\\\\/\\\\/t.co\\\\/tdni54hHPm http:\\\\/\\\\/t.co\\\\/7qRCYxBJkd'\\\"}\""
        ],
        [
         "\"{\\\"id_str\\\":553836041770373120,\\\"created_at\\\":\\\"2015-01-10 08:49:36\\\",\\\"text\\\":\\\"b'At mission control in California. Launch in 60 mins. Looks good so far.'\\\"}\""
        ],
        [
         "\"{\\\"id_str\\\":553835543336058880,\\\"created_at\\\":\\\"2015-01-10 08:47:37\\\",\\\"text\\\":\\\"b'Swimming on the moon http:\\\\/\\\\/t.co\\\\/7eZ3tqwwEj'\\\"}\""
        ],
        [
         "\"{\\\"id_str\\\":553744525194047488,\\\"created_at\\\":\\\"2015-01-10 02:45:57\\\",\\\"text\\\":\\\"b'RT @SpaceX: F9 &amp; Dragon now vertical on the launch pad. Liftoff @ 4:47am ET. Live launch webcast: http:\\\\/\\\\/t.co\\\\/6Db27OEotr http:\\\\/\\\\/t.co\\\\/fSAjzB\\\\\\\\xe2\\\\\\\\x80\\\\\\\\xa6'\\\"}\""
        ],
        [
         "\"{\\\"id_str\\\":553293118230257665,\\\"created_at\\\":\\\"2015-01-08 20:52:13\\\",\\\"text\\\":\\\"b'RT @Slate: Jon Stewart had a sober Daily Show message: #CharlieHebdo was on \\\\\\\"Team Civilization.\\\\\\\" http:\\\\/\\\\/t.co\\\\/Nrh4yMs08q http:\\\\/\\\\/t.co\\\\/ezFcgUw\\\\\\\\xe2\\\\\\\\x80\\\\\\\\xa6'\\\"}\""
        ],
        [
         "\"{\\\"id_str\\\":552877044296450048,\\\"created_at\\\":\\\"2015-01-07 17:18:53\\\",\\\"text\\\":\\\"b'RT @SpaceX: Ah yes, the \\\\\\\\xe2\\\\\\\\x80\\\\\\\\x9cBird 9\\\\\\\\xe2\\\\\\\\x80\\\\\\\\x9d. Meet our rocket: http:\\\\/\\\\/t.co\\\\/uwkUzq6LBM http:\\\\/\\\\/t.co\\\\/FiJfRA1I43'\\\"}\""
        ],
        [
         "\"{\\\"id_str\\\":338367123455885312,\\\"created_at\\\":\\\"2013-05-25 18:53:03\\\",\\\"text\\\":\\\"b'@kn0xvi11ain Very few. Scientific consensus at time of Columbus was world was round http:\\\\/\\\\/t.co\\\\/V3XIcob4s8'\\\"}\""
        ],
        [
         "\"{\\\"id_str\\\":338360832410939392,\\\"created_at\\\":\\\"2013-05-25 18:28:03\\\",\\\"text\\\":\\\"b'Sorry for all the heavy stuff abt climate change, but I really thought world wd take action sooner. No time for subtlety'\\\"}\""
        ],
        [
         "\"{\\\"id_str\\\":338359304216256512,\\\"created_at\\\":\\\"2013-05-25 18:21:59\\\",\\\"text\\\":\\\"b'@1stHubbleFan @keithwarren Exactly'\\\"}\""
        ],
        [
         "\"{\\\"id_str\\\":338357776889823232,\\\"created_at\\\":\\\"2013-05-25 18:15:55\\\",\\\"text\\\":\\\"b'In reality, 97% of scientists agree that we face serious human generated climate change http:\\\\/\\\\/t.co\\\\/soQCnJB61B'\\\"}\""
        ],
        [
         "\"{\\\"id_str\\\":338356013583441920,\\\"created_at\\\":\\\"2013-05-25 18:08:54\\\",\\\"text\\\":\\\"b'Climate change deniers claim \\\\\\\"scientists disagree\\\\\\\", same rebuttal used by tobacco industry about lung cancer for decades'\\\"}\""
        ],
        [
         "\"{\\\"id_str\\\":338199136635604992,\\\"created_at\\\":\\\"2013-05-25 07:45:32\\\",\\\"text\\\":\\\"b'Good article on \\\\\\\"Climate Change\\\\\\\" vs \\\\\\\"Global Warming\\\\\\\" referred by @ForrestTanaka http:\\\\/\\\\/t.co\\\\/D1s4RJ0qus'\\\"}\""
        ],
        [
         "\"{\\\"id_str\\\":338195298818068480,\\\"created_at\\\":\\\"2013-05-25 07:30:17\\\",\\\"text\\\":\\\"b'RT @UberFacts: There\\\\\\\\'s an Iron Man edition of Mr. Potato Head named \\\\\\\"Tony Starch.\\\\\\\"'\\\"}\""
        ],
        [
         "\"{\\\"id_str\\\":338135523765919745,\\\"created_at\\\":\\\"2013-05-25 03:32:45\\\",\\\"text\\\":\\\"b'Was beat up pretty badly as a kid &amp; left me w jagged septum. Harder to breathe as I got older, so time to fix.'\\\"}\""
        ],
        [
         "\"{\\\"id_str\\\":338130215492521984,\\\"created_at\\\":\\\"2013-05-25 03:11:40\\\",\\\"text\\\":\\\"b'RT @1stHubbleFan: @GaryDownie @elonmusk Wrong! Science helps confirm #climatechange by, once again, pointing to #sealevelrise: http:\\\\/\\\\/t.co\\\\/\\\\\\\\xe2\\\\\\\\x80\\\\\\\\xa6'\\\"}\""
        ],
        [
         "\"{\\\"id_str\\\":338129661307531264,\\\"created_at\\\":\\\"2013-05-25 03:09:28\\\",\\\"text\\\":\\\"b\\\\\\\"Had a minor operation, so am in bed in meds. Probably shouldn't be tweeting :)\\\\\\\"\\\"}\""
        ],
        [
         "\"{\\\"id_str\\\":332287909413650433,\\\"created_at\\\":\\\"2013-05-09 00:16:25\\\",\\\"text\\\":\\\"b'@mjasandoval Stay tuned'\\\"}\""
        ],
        [
         "\"{\\\"id_str\\\":332282461344124931,\\\"created_at\\\":\\\"2013-05-08 23:54:46\\\",\\\"text\\\":\\\"b\\\\\\\"Just want to say thanks to customers &amp; investors that took a chance on Tesla through the long, dark night. We wouldn't be here without you.\\\\\\\"\\\"}\""
        ],
        [
         "\"{\\\"id_str\\\":332270252832460800,\\\"created_at\\\":\\\"2013-05-08 23:06:16\\\",\\\"text\\\":\\\"b'@westcoastbill Thanks Bill!'\\\"}\""
        ],
        [
         "\"{\\\"id_str\\\":331797405840338944,\\\"created_at\\\":\\\"2013-05-07 15:47:20\\\",\\\"text\\\":\\\"b'Am a fan of Larry, Sergey &amp; Google in general, but self-driving cars comments to Bloomberg were just off-the-cuff. No big announcement here'\\\"}\""
        ],
        [
         "\"{\\\"id_str\\\":331796308631367681,\\\"created_at\\\":\\\"2013-05-07 15:42:59\\\",\\\"text\\\":\\\"b'Tesla priority is electrification of cars, so priority is Model S, Model X, then mass market third gen vehicle &amp; truck'\\\"}\""
        ],
        [
         "\"{\\\"id_str\\\":331795766937018368,\\\"created_at\\\":\\\"2013-05-07 15:40:49\\\",\\\"text\\\":\\\"b'@rebel_sal exactly'\\\"}\""
        ],
        [
         "\"{\\\"id_str\\\":331794886368055296,\\\"created_at\\\":\\\"2013-05-07 15:37:20\\\",\\\"text\\\":\\\"b'Creating an autopilot for cars at Tesla is an important, but not yet top priority. Still a few years from production.'\\\"}\""
        ],
        [
         "\"{\\\"id_str\\\":331792738339127296,\\\"created_at\\\":\\\"2013-05-07 15:28:47\\\",\\\"text\\\":\\\"b'@DJFrustration Tested it myself this weekend and was working well. Some songs have licensing prohibiting direct request.'\\\"}\""
        ],
        [
         "\"{\\\"id_str\\\":331490556574326785,\\\"created_at\\\":\\\"2013-05-06 19:28:02\\\",\\\"text\\\":\\\"b'Anyone interested in doing ultra hardcore vehicle engineering at Tesla, please apply!'\\\"}\""
        ],
        [
         "\"{\\\"id_str\\\":331489911842689025,\\\"created_at\\\":\\\"2013-05-06 19:25:28\\\",\\\"text\\\":\\\"b'Chris Porritt from Aston Martin just joined as head of vehicle engineering at Tesla http:\\\\/\\\\/t.co\\\\/MNUIWDxoXt'\\\"}\""
        ],
        [
         "\"{\\\"id_str\\\":326152872708419585,\\\"created_at\\\":\\\"2013-04-22 01:57:59\\\",\\\"text\\\":\\\"b'Now with actual picture :) http:\\\\/\\\\/t.co\\\\/G6PCiAJmtx'\\\"}\""
        ],
        [
         "\"{\\\"id_str\\\":326152475205857281,\\\"created_at\\\":\\\"2013-04-22 01:56:24\\\",\\\"text\\\":\\\"b'Cool picture of Io crossing Jupiter sent to me by @shervin. Would be amazing to visit in person one day.'\\\"}\""
        ],
        [
         "\"{\\\"id_str\\\":326118739483451392,\\\"created_at\\\":\\\"2013-04-21 23:42:21\\\",\\\"text\\\":\\\"b\\\\\\\"Congratulations to @OrbitalSciences! \\\\\\\\xe2\\\\\\\\x80\\\\\\\\x9c@CNETNews: Orbital's Antares rocket makes successful test flight http:\\\\/\\\\/t.co\\\\/y7bwdDMGCi\\\\\\\\xe2\\\\\\\\x80\\\\\\\\x9d\\\\\\\"\\\"}\""
        ],
        [
         "\"{\\\"id_str\\\":325011704582901760,\\\"created_at\\\":\\\"2013-04-18 22:23:23\\\",\\\"text\\\":\\\"b'@eirene_inc @archforhumanity @AFHDisasterTeam We have a lot of heavy lifting equipment. Will ask my team to send it over.'\\\"}\""
        ],
        [
         "\"{\\\"id_str\\\":324990048523141120,\\\"created_at\\\":\\\"2013-04-18 20:57:20\\\",\\\"text\\\":\\\"b'Heart goes out to people of central Texas, home of SpaceX TX. All resources at disposal to help in any way.'\\\"}\""
        ],
        [
         "\"{\\\"id_str\\\":324575593796612096,\\\"created_at\\\":\\\"2013-04-17 17:30:26\\\",\\\"text\\\":\\\"b'A @WhiteHouse petition to allow direct sales of cars by manufacturers: https:\\\\/\\\\/t.co\\\\/7h6m89mQmh Please vote here too!'\\\"}\""
        ],
        [
         "\"{\\\"id_str\\\":324388037117214720,\\\"created_at\\\":\\\"2013-04-17 05:05:09\\\",\\\"text\\\":\\\"b'If you live in Texas and are pro Tesla, please vote in the @MyABJ opinion poll! http:\\\\/\\\\/t.co\\\\/ozPdw6UzUo'\\\"}\""
        ],
        [
         "\"{\\\"id_str\\\":322906572814696448,\\\"created_at\\\":\\\"2013-04-13 02:58:20\\\",\\\"text\\\":\\\"b'Interesting... \\\\\\\"Putin unveils $50B drive for Russian space supremacy http:\\\\/\\\\/t.co\\\\/aK1vYGlYhl\\\\\\\" via @physorg_com'\\\"}\""
        ],
        [
         "\"{\\\"id_str\\\":322416386037141504,\\\"created_at\\\":\\\"2013-04-11 18:30:31\\\",\\\"text\\\":\\\"b'@batasrki Stay tuned for a big Supercharger announcement in a few weeks. Definitely have you covered.'\\\"}\""
        ],
        [
         "\"{\\\"id_str\\\":322414424570859520,\\\"created_at\\\":\\\"2013-04-11 18:22:43\\\",\\\"text\\\":\\\"b'@JBSiegelMD Thanks! Hearing from constituents is super important to counteract the influence of the dealer lobby.'\\\"}\""
        ],
        [
         "\"{\\\"id_str\\\":249306225177669632,\\\"created_at\\\":\\\"2012-09-22 00:36:50\\\",\\\"text\\\":\\\"b'First test flight hop of our Grasshopper VTVL rocket! http:\\\\/\\\\/t.co\\\\/oomI5vSB'\\\"}\""
        ],
        [
         "\"{\\\"id_str\\\":248564996022345728,\\\"created_at\\\":\\\"2012-09-19 23:31:27\\\",\\\"text\\\":\\\"b'The first owner to drive coast to coast in a Model S is about to complete the journey @XCTeslatrip!'\\\"}\""
        ],
        [
         "\"{\\\"id_str\\\":247510274918199296,\\\"created_at\\\":\\\"2012-09-17 01:40:23\\\",\\\"text\\\":\\\"b'Tesla made 100 vehicle bodies this week for the first time. Really proud of the team! Pic of S\\\\/N 396: http:\\\\/\\\\/t.co\\\\/fZzbUIjn'\\\"}\""
        ],
        [
         "\"{\\\"id_str\\\":246419783136976897,\\\"created_at\\\":\\\"2012-09-14 01:27:09\\\",\\\"text\\\":\\\"b'Tesla Supercharger unveiling event set for Sept 24. It will feel like alien spaceships landed at highway rest stops.'\\\"}\""
        ],
        [
         "\"{\\\"id_str\\\":246352069332721665,\\\"created_at\\\":\\\"2012-09-13 20:58:05\\\",\\\"text\\\":\\\"b'Amazing series of space pics assembled by @theatlantic http:\\\\/\\\\/t.co\\\\/IUFTYgDn http:\\\\/\\\\/t.co\\\\/SHEPSWbS'\\\"}\""
        ],
        [
         "\"{\\\"id_str\\\":245605921387053056,\\\"created_at\\\":\\\"2012-09-11 19:33:09\\\",\\\"text\\\":\\\"b'RT @therealautoblog: First Drive: 2012 Tesla Model S [w\\\\/video] http:\\\\/\\\\/t.co\\\\/2E1VZDAJ'\\\"}\""
        ],
        [
         "\"{\\\"id_str\\\":243800936240279552,\\\"created_at\\\":\\\"2012-09-06 20:00:47\\\",\\\"text\\\":\\\"b'Tesla Model S driven 285 miles from Vegas to the beach in LA on a single charge by @motortrend http:\\\\/\\\\/t.co\\\\/8YvO1tsz'\\\"}\""
        ],
        [
         "\"{\\\"id_str\\\":240909270764359680,\\\"created_at\\\":\\\"2012-08-29 20:30:20\\\",\\\"text\\\":\\\"b'This piece about Mars in the NYT is worth a read http:\\\\/\\\\/t.co\\\\/mNB6f1aS'\\\"}\""
        ],
        [
         "\"{\\\"id_str\\\":240620571589738496,\\\"created_at\\\":\\\"2012-08-29 01:23:09\\\",\\\"text\\\":\\\"b\\\\\\\"@ticketwaxter Extending life to Mars would ensure humanity's survival and be the greatest, most exciting adventure ever!\\\\\\\"\\\"}\""
        ],
        [
         "\"{\\\"id_str\\\":240174623948419072,\\\"created_at\\\":\\\"2012-08-27 19:51:07\\\",\\\"text\\\":\\\"b\\\\\\\"@JoeBeernink Back of the envelope calc: Merlin wd accelerate Model S at 25 g's, so wd break sound barrier in &lt;1.5 sec\\\\\\\"\\\"}\""
        ],
        [
         "\"{\\\"id_str\\\":278910105804734464,\\\"created_at\\\":\\\"2012-12-12 17:12:05\\\",\\\"text\\\":\\\"b'Tesla articles 30 mins apart: \\\\\\\"This Stock is Screaming Buy\\\\\\\" http:\\\\/\\\\/t.co\\\\/jb9DCw4s and \\\\\\\"This Stock Could Get DESTROYED\\\\\\\" http:\\\\/\\\\/t.co\\\\/dqxTK4LJ'\\\"}\""
        ],
        [
         "\"{\\\"id_str\\\":278605236845817856,\\\"created_at\\\":\\\"2012-12-11 21:00:39\\\",\\\"text\\\":\\\"b'RT @brynmooser: YES! \\\\\\\\xe2\\\\\\\\x80\\\\\\\\x9c@RYOTnews: BREAKING: @UN to launch anti-cholera initiative aimed at #Haiti http:\\\\/\\\\/t.co\\\\/vBSbwDwF #cholera @IJDH @ol ...'\\\"}\""
        ],
        [
         "\"{\\\"id_str\\\":278331899133452288,\\\"created_at\\\":\\\"2012-12-11 02:54:30\\\",\\\"text\\\":\\\"b'Tesla was just approved for a full Class 1 Massachusetts Auto Sales License by a vote of 4 to 1. Much appreciated!'\\\"}\""
        ],
        [
         "\"{\\\"id_str\\\":277913865688346624,\\\"created_at\\\":\\\"2012-12-09 23:13:23\\\",\\\"text\\\":\\\"b'Told my kids (age 8 and 6) that we were going to see the Nutcracker, which somehow got translated as the Buttcracker.'\\\"}\""
        ],
        [
         "\"{\\\"id_str\\\":277693768583491584,\\\"created_at\\\":\\\"2012-12-09 08:38:48\\\",\\\"text\\\":\\\"b'Congrats to @dmetcalf for being the first to drive a Tesla Model S over 400 miles on a single charge!'\\\"}\""
        ],
        [
         "\"{\\\"id_str\\\":276194361442705408,\\\"created_at\\\":\\\"2012-12-05 05:20:41\\\",\\\"text\\\":\\\"b'Interesting possible answer to the Fermi Paradox \\\\\\\\nhttp:\\\\/\\\\/t.co\\\\/ASZdxBAl'\\\"}\""
        ],
        [
         "\"{\\\"id_str\\\":275835562076811264,\\\"created_at\\\":\\\"2012-12-04 05:34:57\\\",\\\"text\\\":\\\"b'RT @Slate: New government study says we could save billions by replacing dollar bills with coins. New study is wrong: http:\\\\/\\\\/t.co\\\\/QgwH0bSh'\\\"}\""
        ],
        [
         "\"{\\\"id_str\\\":275821969415483393,\\\"created_at\\\":\\\"2012-12-04 04:40:56\\\",\\\"text\\\":\\\"b'Am happy to report that Tesla was narrowly cash flow positive last week. Continued improvement expected through year end.'\\\"}\""
        ],
        [
         "\"{\\\"id_str\\\":275346615634624514,\\\"created_at\\\":\\\"2012-12-02 21:12:03\\\",\\\"text\\\":\\\"b'Uranium ore now available on Amazon! So much more convenient than Uzbekistan #AwesomeXmasGifts http:\\\\/\\\\/t.co\\\\/jqWAJrnY'\\\"}\""
        ],
        [
         "\"{\\\"id_str\\\":274090388669734912,\\\"created_at\\\":\\\"2012-11-29 10:00:15\\\",\\\"text\\\":\\\"b'@shervin Thanks Shervin!'\\\"}\""
        ],
        [
         "\"{\\\"id_str\\\":307361875782402048,\\\"created_at\\\":\\\"2013-03-01 05:29:16\\\",\\\"text\\\":\\\"b'Launch on track for tomorrow morning at 10:10 am Cape Canaveral time'\\\"}\""
        ],
        [
         "\"{\\\"id_str\\\":306926977250631680,\\\"created_at\\\":\\\"2013-02-28 00:41:08\\\",\\\"text\\\":\\\"b\\\\\\\"RT @Edmunds_Test: About to head home in our 2013 @Teslamotors Model S. I won't plug in at home for the return trip. I'll take side trips ...\\\\\\\"\\\"}\""
        ],
        [
         "\"{\\\"id_str\\\":306612536973856768,\\\"created_at\\\":\\\"2013-02-27 03:51:40\\\",\\\"text\\\":\\\"b'@andrewliebchen @_chrissimmons Exactly. Then no need for clean energy subsidies, as externality is priced into mkt behavior'\\\"}\""
        ],
        [
         "\"{\\\"id_str\\\":306608592100941824,\\\"created_at\\\":\\\"2013-02-27 03:35:59\\\",\\\"text\\\":\\\"b'@_ChrisSimmons A carbon tax would affect coal even more than gasoline, so electricity would also become more expensive'\\\"}\""
        ],
        [
         "\"{\\\"id_str\\\":306591715077271553,\\\"created_at\\\":\\\"2013-02-27 02:28:55\\\",\\\"text\\\":\\\"b'One often hears that there is no point in a US carbon tax unless China acts. Well, they just did http:\\\\/\\\\/t.co\\\\/SIp9NzkulK'\\\"}\""
        ],
        [
         "\"{\\\"id_str\\\":306304864164667392,\\\"created_at\\\":\\\"2013-02-26 07:29:05\\\",\\\"text\\\":\\\"b'RT @johnvoelcker: This is one very, very happy owner! My 2013 Tesla Model S Electric Sport Sedan: Delivery at Last! http:\\\\/\\\\/t.co\\\\/XNBQc6Md ...'\\\"}\""
        ],
        [
         "\"{\\\"id_str\\\":306193893890863104,\\\"created_at\\\":\\\"2013-02-26 00:08:07\\\",\\\"text\\\":\\\"b'Rocket static fire @SpaceX Cape Canaveral launch pad looks good. Engines generated 433 tons of thrust, parameters nominal.'\\\"}\""
        ],
        [
         "\"{\\\"id_str\\\":305971647561752576,\\\"created_at\\\":\\\"2013-02-25 09:25:00\\\",\\\"text\\\":\\\"b'@FaeLoba Best is winning competitions like Formula SAE, design\\\\/build\\\\/fly or other evidence of exceptional eng ability'\\\"}\""
        ],
        [
         "\"{\\\"id_str\\\":305172926762725376,\\\"created_at\\\":\\\"2013-02-23 04:31:10\\\",\\\"text\\\":\\\"b'@EricIdle Cool! Btw, thought you might appreciate that 1st flight of Dragon spacecraft carried a large wheel of cheese :)'\\\"}\""
        ],
        [
         "\"{\\\"id_str\\\":304988995836862465,\\\"created_at\\\":\\\"2013-02-22 16:20:17\\\",\\\"text\\\":\\\"b'RT @NASA: Want to join us and cover the next @SpaceX launch on March 1? Now you can apply for a #NASASocial Media Credential http:\\\\/\\\\/t.co ...'\\\"}\""
        ],
        [
         "\"{\\\"id_str\\\":408025060046557184,\\\"created_at\\\":\\\"2013-12-04 00:08:49\\\",\\\"text\\\":\\\"b\\\\\\\"RT @SpaceX: [PHOTO] Falcon 9 and SES-8 liftoff from SpaceX's launch pad at Cape Canaveral http:\\\\/\\\\/t.co\\\\/fucwgYH0s5\\\\\\\"\\\"}\""
        ],
        [
         "\"{\\\"id_str\\\":408014483551191040,\\\"created_at\\\":\\\"2013-12-03 23:26:48\\\",\\\"text\\\":\\\"b'Restart was good, apogee raised to 80k km (50k miles). Yes!!!'\\\"}\""
        ],
        [
         "\"{\\\"id_str\\\":408008759433502720,\\\"created_at\\\":\\\"2013-12-03 23:04:03\\\",\\\"text\\\":\\\"b'Reached parking orbit. Now coasting towards equator, where the upper stage will, if all goes well, restart to raise apogee'\\\"}\""
        ],
        [
         "\"{\\\"id_str\\\":407996645121728513,\\\"created_at\\\":\\\"2013-12-03 22:15:55\\\",\\\"text\\\":\\\"b'Live video feed of launch at http:\\\\/\\\\/t.co\\\\/Oo569cuarz'\\\"}\""
        ],
        [
         "\"{\\\"id_str\\\":407987488645718016,\\\"created_at\\\":\\\"2013-12-03 21:39:31\\\",\\\"text\\\":\\\"b\\\\\\\"About an hour away from launch. I'd like to thank @SES_Satellites for taking a chance on @SpaceX. We've given it our all.\\\\\\\"\\\"}\""
        ],
        [
         "\"{\\\"id_str\\\":407941040503783424,\\\"created_at\\\":\\\"2013-12-03 18:34:57\\\",\\\"text\\\":\\\"b'@toruonu cool :)'\\\"}\""
        ],
        [
         "\"{\\\"id_str\\\":407910834225295360,\\\"created_at\\\":\\\"2013-12-03 16:34:56\\\",\\\"text\\\":\\\"b'@UFrugger10 I agree. Will be restored shortly.'\\\"}\""
        ],
        [
         "\"{\\\"id_str\\\":407744196398043136,\\\"created_at\\\":\\\"2013-12-03 05:32:46\\\",\\\"text\\\":\\\"b'RT @Jon_Favreau: An Amazon drone just flew away with my dog.'\\\"}\""
        ],
        [
         "\"{\\\"id_str\\\":407718277365121024,\\\"created_at\\\":\\\"2013-12-03 03:49:47\\\",\\\"text\\\":\\\"b'@TierraUniversu It was fixed this weekend, so he should try the test again.'\\\"}\""
        ],
        [
         "\"{\\\"id_str\\\":407718045151678464,\\\"created_at\\\":\\\"2013-12-03 03:48:51\\\",\\\"text\\\":\\\"b'@TierraUniversu The writer of this article had a problem with his 12V battery, so main pack was constantly charging it.'\\\"}\""
        ],
        [
         "\"{\\\"id_str\\\":824054301718777856,\\\"created_at\\\":\\\"2017-01-25 00:40:30\\\",\\\"text\\\":\\\"b'@TheEconomist Tillerson at his confirmation hearing: \\\\\\\"I think it\\\\\\\\xe2\\\\\\\\x80\\\\\\\\x99s important that the United States maintain its se\\\\\\\\xe2\\\\\\\\x80\\\\\\\\xa6 https:\\\\/\\\\/t.co\\\\/xrKpitbaEE'\\\"}\""
        ],
        [
         "\"{\\\"id_str\\\":824013720967753728,\\\"created_at\\\":\\\"2017-01-24 21:59:15\\\",\\\"text\\\":\\\"b'@redletterdave Ok, fine. Soldier 76. My dark secret is out ...'\\\"}\""
        ],
        [
         "\"{\\\"id_str\\\":824013269891502080,\\\"created_at\\\":\\\"2017-01-24 21:57:27\\\",\\\"text\\\":\\\"b\\\\\\\"@danahull I share The Economist's opinion that he should be given the benefit of the doubt unless his actions prove otherwise\\\\\\\"\\\"}\""
        ],
        [
         "\"{\\\"id_str\\\":824011724357373953,\\\"created_at\\\":\\\"2017-01-24 21:51:19\\\",\\\"text\\\":\\\"b'@danahull Rex is an exceptionally competent executive, understands geopolitics and knows how to win for his team. His team is now the USA.'\\\"}\""
        ],
        [
         "\"{\\\"id_str\\\":824010489449431040,\\\"created_at\\\":\\\"2017-01-24 21:46:24\\\",\\\"text\\\":\\\"b'@TheEconomist This may sound surprising coming from me, but I agree with The Economist. Rex Tillerson has the poten\\\\\\\\xe2\\\\\\\\x80\\\\\\\\xa6 https:\\\\/\\\\/t.co\\\\/2BddSK9IBI'\\\"}\""
        ],
        [
         "\"{\\\"id_str\\\":823915595615719424,\\\"created_at\\\":\\\"2017-01-24 15:29:20\\\",\\\"text\\\":\\\"b'@dean_arexding There will be a software update this weekend that improves self-calibration ability'\\\"}\""
        ],
        [
         "\"{\\\"id_str\\\":823728646204440576,\\\"created_at\\\":\\\"2017-01-24 03:06:28\\\",\\\"text\\\":\\\"b'RT @neiltyson: In 1927 Lindbergh flew from NY to Paris. 45 yrs later, in 1972 we last walked on the Moon. 45 yrs later, in 2017 we\\\\\\\\xe2\\\\\\\\x80\\\\\\\\xa6 we\\\\\\\\xe2\\\\\\\\x80\\\\\\\\xa6 we\\\\\\\\xe2\\\\\\\\x80\\\\\\\\xa6'\\\"}\""
        ],
        [
         "\"{\\\"id_str\\\":823727035088416768,\\\"created_at\\\":\\\"2017-01-24 03:00:03\\\",\\\"text\\\":\\\"b'@tsrandall 3 months maybe, 6 months definitely'\\\"}\""
        ],
        [
         "\"{\\\"id_str\\\":823632597284691969,\\\"created_at\\\":\\\"2017-01-23 20:44:48\\\",\\\"text\\\":\\\"b'@stephenstohn Yes, safety should improve significantly due to autonomy features, even if regs disallow no driver present'\\\"}\""
        ],
        [
         "\"{\\\"id_str\\\":823234503355158528,\\\"created_at\\\":\\\"2017-01-22 18:22:55\\\",\\\"text\\\":\\\"b'Auto steer limited to 45 mph on highways for now, i.e. heavy traffic, where it is needed most. Limit will raise as we get more data.'\\\"}\""
        ],
        [
         "\"{\\\"id_str\\\":330394570737192960,\\\"created_at\\\":\\\"2013-05-03 18:52:58\\\",\\\"text\\\":\\\"b\\\\\\\"@pataneous We can't formally provide a guarantee w\\\\/o restating accounting, but I feel confident about the value anyway.\\\\\\\"\\\"}\""
        ],
        [
         "\"{\\\"id_str\\\":330394051637547010,\\\"created_at\\\":\\\"2013-05-03 18:50:54\\\",\\\"text\\\":\\\"b'@2552nsf Yeah, that is super tricky. Will have to sacrifice a lot of payload to boost back or land on ocean platform.'\\\"}\""
        ],
        [
         "\"{\\\"id_str\\\":330387481616855040,\\\"created_at\\\":\\\"2013-05-03 18:24:48\\\",\\\"text\\\":\\\"b'@rebel_sal Yes, your article (and many others) rightly identified that we made a mistake. New financing is not perfect, but much better.'\\\"}\""
        ],
        [
         "\"{\\\"id_str\\\":330364975300358144,\\\"created_at\\\":\\\"2013-05-03 16:55:22\\\",\\\"text\\\":\\\"b'@Alan_Nestos The legs are nested tight against the body of the rocket in flight, so rotate about 120 degrees to deploy'\\\"}\""
        ],
        [
         "\"{\\\"id_str\\\":330241115670327296,\\\"created_at\\\":\\\"2013-05-03 08:43:12\\\",\\\"text\\\":\\\"b\\\\\\\"@darma_setia More likely that pigs will fly over the frozen wastes of Hell. Clarkson doesn't understand technology.\\\\\\\"\\\"}\""
        ],
        [
         "\"{\\\"id_str\\\":330240665483096064,\\\"created_at\\\":\\\"2013-05-03 08:41:24\\\",\\\"text\\\":\\\"b'@JSONberland We did a ton of testing until they could handle 4X legally required impact energy. Extremely tough.'\\\"}\""
        ],
        [
         "\"{\\\"id_str\\\":330054002148515841,\\\"created_at\\\":\\\"2013-05-02 20:19:40\\\",\\\"text\\\":\\\"b'@BigBalli High pressure helium. Needs to be ultra light. All 4 legs together (~60 ft span) weigh less than Model S.'\\\"}\""
        ],
        [
         "\"{\\\"id_str\\\":330053450261987328,\\\"created_at\\\":\\\"2013-05-02 20:17:29\\\",\\\"text\\\":\\\"b'F9R (pronounced F-niner) shows a little leg. Design is a nested, telescoping piston w A frame. http:\\\\/\\\\/t.co\\\\/H49TSS2CYl'\\\"}\""
        ],
        [
         "\"{\\\"id_str\\\":330019280206831616,\\\"created_at\\\":\\\"2013-05-02 18:01:42\\\",\\\"text\\\":\\\"b'@roulezelectric This is about getting a prior announcement right. Not part 4 yet.'\\\"}\""
        ],
        [
         "\"{\\\"id_str\\\":330017552120033282,\\\"created_at\\\":\\\"2013-05-02 17:54:50\\\",\\\"text\\\":\\\"b'Time to up the ante (and fix some mistakes). Tesla announcement tomorrow.'\\\"}\""
        ],
        [
         "\"{\\\"id_str\\\":469639079085486080,\\\"created_at\\\":\\\"2014-05-23 00:40:56\\\",\\\"text\\\":\\\"b'Air Force official awards $10B+ contract uncompeted &amp; then takes lucrative job w funds recipient http:\\\\/\\\\/t.co\\\\/SHqFYWd3CR'\\\"}\""
        ],
        [
         "\"{\\\"id_str\\\":469356919979655168,\\\"created_at\\\":\\\"2014-05-22 05:59:44\\\",\\\"text\\\":\\\"b'Great progress by @NASASpaceflight members repairing the Falcon 9 ocean landing video http:\\\\/\\\\/t.co\\\\/DP4y5W5uvZ'\\\"}\""
        ],
        [
         "\"{\\\"id_str\\\":468136321190346753,\\\"created_at\\\":\\\"2014-05-18 21:09:31\\\",\\\"text\\\":\\\"b'RT @SpaceX: [PHOTO] Splashdown! Dragon lands in the Pacific Ocean with 3,500 pounds of ISS cargo. http:\\\\/\\\\/t.co\\\\/X4fuUQm247'\\\"}\""
        ],
        [
         "\"{\\\"id_str\\\":467912644729769984,\\\"created_at\\\":\\\"2014-05-18 06:20:42\\\",\\\"text\\\":\\\"b'RT @SpaceX: Dragon is set to return home early tmrw \\\\\\\\xe2\\\\\\\\x80\\\\\\\\x93 watch it depart from station LIVE: http:\\\\/\\\\/t.co\\\\/NHREgPdLxw @ 6:00am PT. http:\\\\/\\\\/t.co\\\\/oH\\\\\\\\xe2\\\\\\\\x80\\\\\\\\xa6'\\\"}\""
        ],
        [
         "\"{\\\"id_str\\\":466521428914094083,\\\"created_at\\\":\\\"2014-05-14 10:12:30\\\",\\\"text\\\":\\\"b'@Oatmeal may all technology in the future follow the zeroth law...'\\\"}\""
        ],
        [
         "\"{\\\"id_str\\\":466518346574626817,\\\"created_at\\\":\\\"2014-05-14 10:00:15\\\",\\\"text\\\":\\\"b'@Oatmeal I would be happy to help'\\\"}\""
        ],
        [
         "\"{\\\"id_str\\\":466276798058078208,\\\"created_at\\\":\\\"2014-05-13 18:00:26\\\",\\\"text\\\":\\\"b'RT @Space_News_Intl: Rogozin Calls for Ban on U.S. Military Use of RD-180 http:\\\\/\\\\/t.co\\\\/lumzgOimF6'\\\"}\""
        ],
        [
         "\"{\\\"id_str\\\":465030743962296320,\\\"created_at\\\":\\\"2014-05-10 07:29:03\\\",\\\"text\\\":\\\"b'Worth seeing @ChefTheFilm by @Jon_Favreau. Make sure to plan for a meal afterwards!'\\\"}\""
        ],
        [
         "\"{\\\"id_str\\\":464491775264960512,\\\"created_at\\\":\\\"2014-05-08 19:47:23\\\",\\\"text\\\":\\\"b'Trouble in Missouri. Auto dealers trying to sneak in a monopoly creation bill today http:\\\\/\\\\/t.co\\\\/p6zqtsaYpi'\\\"}\""
        ],
        [
         "\"{\\\"id_str\\\":462104679116050432,\\\"created_at\\\":\\\"2014-05-02 05:41:55\\\",\\\"text\\\":\\\"b'@rocketrepreneur ~40%'\\\"}\""
        ],
        [
         "\"{\\\"id_str\\\":653031144179433472,\\\"created_at\\\":\\\"2015-10-11 02:15:32\\\",\\\"text\\\":\\\"b'@heosat ww'\\\"}\""
        ],
        [
         "\"{\\\"id_str\\\":653029223779557376,\\\"created_at\\\":\\\"2015-10-11 02:07:54\\\",\\\"text\\\":\\\"b'@madolfsson roughly 5 days'\\\"}\""
        ],
        [
         "\"{\\\"id_str\\\":653028711768285184,\\\"created_at\\\":\\\"2015-10-11 02:05:52\\\",\\\"text\\\":\\\"b'@MPa81 @bonnienorman same'\\\"}\""
        ],
        [
         "\"{\\\"id_str\\\":653028177896312832,\\\"created_at\\\":\\\"2015-10-11 02:03:44\\\",\\\"text\\\":\\\"b'@TeslaPittsburgh Non-autopilot will have a new interface too. More comprehensive UI update coming with 7.1.'\\\"}\""
        ],
        [
         "\"{\\\"id_str\\\":653010368583741440,\\\"created_at\\\":\\\"2015-10-11 00:52:58\\\",\\\"text\\\":\\\"b'@andrewshiamone yes'\\\"}\""
        ],
        [
         "\"{\\\"id_str\\\":653005894922276865,\\\"created_at\\\":\\\"2015-10-11 00:35:12\\\",\\\"text\\\":\\\"b'Some exciting news this week: Tesla Version 7 software with Autopilot goes to wide release on Thursday!'\\\"}\""
        ],
        [
         "\"{\\\"id_str\\\":653004922984660992,\\\"created_at\\\":\\\"2015-10-11 00:31:20\\\",\\\"text\\\":\\\"b'CH4 rapidly decays back to CO2 &amp; is absorbed by plants. What matters is adding new carbon to surface cycle from underground oil, gas &amp; coal.'\\\"}\""
        ],
        [
         "\"{\\\"id_str\\\":653003966058377216,\\\"created_at\\\":\\\"2015-10-11 00:27:32\\\",\\\"text\\\":\\\"b\\\\\\\"@HamiltonOfiyai Intentions are good, but massively overweights CH4's effect on climate.\\\\\\\"\\\"}\""
        ],
        [
         "\"{\\\"id_str\\\":652994832399470592,\\\"created_at\\\":\\\"2015-10-10 23:51:14\\\",\\\"text\\\":\\\"b'Tesla P85D (assembled in Tilburg) beats 650 hp MacLaren from 0 to 150km\\\\/h in Dutch magazine test http:\\\\/\\\\/t.co\\\\/HKbOyFgUzi'\\\"}\""
        ],
        [
         "\"{\\\"id_str\\\":652643128181026816,\\\"created_at\\\":\\\"2015-10-10 00:33:41\\\",\\\"text\\\":\\\"b\\\\\\\"@appleinsider I didn't walk back anything, apart from media hype\\\\\\\"\\\"}\""
        ],
        [
         "\"{\\\"id_str\\\":677666779494248449,\\\"created_at\\\":\\\"2015-12-18 01:48:45\\\",\\\"text\\\":\\\"b'@lukealization yes, from 70F to 20 F'\\\"}\""
        ],
        [
         "\"{\\\"id_str\\\":677666464208416768,\\\"created_at\\\":\\\"2015-12-18 01:47:30\\\",\\\"text\\\":\\\"b'@craigcocca It worked in Texas'\\\"}\""
        ],
        [
         "\"{\\\"id_str\\\":677663227271118848,\\\"created_at\\\":\\\"2015-12-18 01:34:38\\\",\\\"text\\\":\\\"b'@PaigeANjax -340 F in this case. Deep cryo increases density and amplifies rocket performance. First time anyone has gone this low for O2.'\\\"}\""
        ],
        [
         "\"{\\\"id_str\\\":677660460230041600,\\\"created_at\\\":\\\"2015-12-18 01:23:38\\\",\\\"text\\\":\\\"b'Falcon 9 is vertical on the launch pad at Cape Canaveral. Working towards static fire. Deep cryo liquid oxygen presenting some challenges.'\\\"}\""
        ],
        [
         "\"{\\\"id_str\\\":677646796311670786,\\\"created_at\\\":\\\"2015-12-18 00:29:20\\\",\\\"text\\\":\\\"b'@mashabletech @mashable Not really my letter (no authorship contribution). Just agreed to add my name when they asked.'\\\"}\""
        ],
        [
         "\"{\\\"id_str\\\":677403793651175424,\\\"created_at\\\":\\\"2015-12-17 08:23:44\\\",\\\"text\\\":\\\"b'Vance article on self-driving cars was inaccurate https:\\\\/\\\\/t.co\\\\/AV636KAcKH'\\\"}\""
        ],
        [
         "\"{\\\"id_str\\\":677333463872049152,\\\"created_at\\\":\\\"2015-12-17 03:44:16\\\",\\\"text\\\":\\\"b'RT @TheEconomist: The single most effective way to curb carbon emissions? Carbon taxes. As we said in 1989 https:\\\\/\\\\/t.co\\\\/iY4LnevB5g https:\\\\/\\\\/\\\\\\\\xe2\\\\\\\\x80\\\\\\\\xa6'\\\"}\""
        ],
        [
         "\"{\\\"id_str\\\":676868667380903937,\\\"created_at\\\":\\\"2015-12-15 20:57:20\\\",\\\"text\\\":\\\"b'RT @verge: Over 1,000 college students will compete to design the best Hyperloop pod https:\\\\/\\\\/t.co\\\\/tcHCOGuMeh https:\\\\/\\\\/t.co\\\\/IpZc8vXWI8'\\\"}\""
        ],
        [
         "\"{\\\"id_str\\\":675431513211600896,\\\"created_at\\\":\\\"2015-12-11 21:46:36\\\",\\\"text\\\":\\\"b'Announcing formation of @open_ai \\\\\\\\xe2\\\\\\\\x80\\\\\\\\xa6\\\\\\\\nhttps:\\\\/\\\\/t.co\\\\/Fcouhwh6MC'\\\"}\""
        ],
        [
         "\"{\\\"id_str\\\":674885173838680064,\\\"created_at\\\":\\\"2015-12-10 09:35:38\\\",\\\"text\\\":\\\"b'Aiming for Falcon rocket static fire at Cape Canaveral on the 16th and launch about three days later'\\\"}\""
        ],
        [
         "\"{\\\"id_str\\\":577533020736909312,\\\"created_at\\\":\\\"2015-03-16 18:12:56\\\",\\\"text\\\":\\\"b'Some people seem to think I tweet to affect share price. This is false. A brief rise in $TSLA stock obviously does no good for Tesla or me.'\\\"}\""
        ],
        [
         "\"{\\\"id_str\\\":577080950317821952,\\\"created_at\\\":\\\"2015-03-15 12:16:34\\\",\\\"text\\\":\\\"b'SolarCity systems generated a new daily record of 4 gigawatt-hours this week\\\\\\\\nhttp:\\\\/\\\\/t.co\\\\/7MFig1lMsF'\\\"}\""
        ],
        [
         "\"{\\\"id_str\\\":576637531560628224,\\\"created_at\\\":\\\"2015-03-14 06:54:35\\\",\\\"text\\\":\\\"b\\\\\\\"World's largest hedge fund soon to be powered by artificial intelligence\\\\\\\\nhttp:\\\\/\\\\/t.co\\\\/t1Fer3fWVa\\\\\\\"\\\"}\""
        ],
        [
         "\"{\\\"id_str\\\":576500946303217664,\\\"created_at\\\":\\\"2015-03-13 21:51:51\\\",\\\"text\\\":\\\"b'RT @SpaceX: Introducing Landing Complex 1, formerly Launch Complex 13, at Cape Canaveral in Florida. http:\\\\/\\\\/t.co\\\\/oIr6NssyCo'\\\"}\""
        ],
        [
         "\"{\\\"id_str\\\":576193855323697152,\\\"created_at\\\":\\\"2015-03-13 01:31:34\\\",\\\"text\\\":\\\"b'Maybe this is all the work of the Stonecutters! Certainly connects a lot of themes ... http:\\\\/\\\\/t.co\\\\/E5jJ9Snaca'\\\"}\""
        ],
        [
         "\"{\\\"id_str\\\":576184066921218048,\\\"created_at\\\":\\\"2015-03-13 00:52:41\\\",\\\"text\\\":\\\"b'For more on the Fermi Paradox: http:\\\\/\\\\/t.co\\\\/ea1aGnu2kU, http:\\\\/\\\\/t.co\\\\/AcdSIoIvyv and http:\\\\/\\\\/t.co\\\\/bkbOWW7Ztb'\\\"}\""
        ],
        [
         "\"{\\\"id_str\\\":576182696260476929,\\\"created_at\\\":\\\"2015-03-13 00:47:14\\\",\\\"text\\\":\\\"b\\\\\\\"The ancient Egyptians were amazing, but if aliens built the pyramids, they would've left behind a computer or something\\\\\\\"\\\"}\""
        ],
        [
         "\"{\\\"id_str\\\":576140759281238017,\\\"created_at\\\":\\\"2015-03-12 22:00:35\\\",\\\"text\\\":\\\"b\\\\\\\"The rumor that I'm building a spaceship to get back to my home planet Mars is totally untrue\\\\\\\"\\\"}\""
        ],
        [
         "\"{\\\"id_str\\\":576139678895583232,\\\"created_at\\\":\\\"2015-03-12 21:56:18\\\",\\\"text\\\":\\\"b\\\\\\\"Btw, please don't mention the pyramids. Stacking stone blocks is not evidence of an advanced civilization.\\\\\\\"\\\"}\""
        ],
        [
         "\"{\\\"id_str\\\":576139467632717825,\\\"created_at\\\":\\\"2015-03-12 21:55:27\\\",\\\"text\\\":\\\"b'Seems like an opportune moment to bring up the Fermi Paradox, aka \\\\\\\"where are the aliens?\\\\\\\" Really odd that we see no sign of them.'\\\"}\""
        ],
        [
         "\"{\\\"id_str\\\":154307255536324608,\\\"created_at\\\":\\\"2012-01-03 21:04:51\\\",\\\"text\\\":\\\"b\\\\\\\"@om Respectfully disagree. Larry  made awesome moves last year, which laid the foundation for G+ to kick butt in 2012. He's a stud.\\\\\\\"\\\"}\""
        ],
        [
         "\"{\\\"id_str\\\":154094195089473536,\\\"created_at\\\":\\\"2012-01-03 06:58:13\\\",\\\"text\\\":\\\"b\\\\\\\"What everyone really thinks ... RT \\\\\\\\xe2\\\\\\\\x80\\\\\\\\x9c@jonlovett: If Mayans were good at predicting the future, there'd be Mayans.\\\\\\\\xe2\\\\\\\\x80\\\\\\\\x9d\\\\\\\"\\\"}\""
        ],
        [
         "\"{\\\"id_str\\\":153594528908058624,\\\"created_at\\\":\\\"2012-01-01 21:52:44\\\",\\\"text\\\":\\\"b'On a lighter note, the RHCP are f* awesome. No better way to bring in the New Year... http:\\\\/\\\\/t.co\\\\/TlkAdzsk'\\\"}\""
        ],
        [
         "\"{\\\"id_str\\\":153578511687368704,\\\"created_at\\\":\\\"2012-01-01 20:49:05\\\",\\\"text\\\":\\\"b'I said *information* weapons for a reason. The bit is mightier than the bomb.'\\\"}\""
        ],
        [
         "\"{\\\"id_str\\\":153576623101313025,\\\"created_at\\\":\\\"2012-01-01 20:41:34\\\",\\\"text\\\":\\\"b\\\\\\\"If we are not careful, we will find that knife against liberty's neck. Fate has a great sense of irony. http:\\\\/\\\\/t.co\\\\/OQ2u1zHQ\\\\\\\"\\\"}\""
        ],
        [
         "\"{\\\"id_str\\\":153574532031070208,\\\"created_at\\\":\\\"2012-01-01 20:33:16\\\",\\\"text\\\":\\\"b'We built powerful information weapons to fight enemies of liberty. Now those enemies are largely defeated, but the weapons remain.'\\\"}\""
        ],
        [
         "\"{\\\"id_str\\\":153519464653127680,\\\"created_at\\\":\\\"2012-01-01 16:54:27\\\",\\\"text\\\":\\\"b\\\\\\\"@FareedZakaria However, China's real estate crisis will explode in a way that makes ours look puny. They can't hide it for much longer.\\\\\\\"\\\"}\""
        ],
        [
         "\"{\\\"id_str\\\":153518263001808896,\\\"created_at\\\":\\\"2012-01-01 16:49:40\\\",\\\"text\\\":\\\"b\\\\\\\"@FareedZakaria Yeah, 2012 will be great for the American economy & jobs, as we've mostly dealt with the overbuilt housing crisis.\\\\\\\"\\\"}\""
        ],
        [
         "\"{\\\"id_str\\\":153515940707975169,\\\"created_at\\\":\\\"2012-01-01 16:40:27\\\",\\\"text\\\":\\\"b'My first prediction of 2012 has come true: ouch, my head hurts.'\\\"}\""
        ],
        [
         "\"{\\\"id_str\\\":153236159361847298,\\\"created_at\\\":\\\"2011-12-31 22:08:42\\\",\\\"text\\\":\\\"b\\\\\\\"World violence being super low is probably counter-intuitive to most people. That's because modern media is a misery microscope.\\\\\\\"\\\"}\""
        ],
        [
         "\"{\\\"id_str\\\":752193726462586881,\\\"created_at\\\":\\\"2016-07-10 17:32:14\\\",\\\"text\\\":\\\"b'@vicentes Probably six months. Will include hundreds of refinements to handle rare corner cases in Autopilot.'\\\"}\""
        ],
        [
         "\"{\\\"id_str\\\":752193163742228480,\\\"created_at\\\":\\\"2016-07-10 17:29:59\\\",\\\"text\\\":\\\"b\\\\\\\"@stegen @FortuneMagazine you're right, no point\\\\\\\"\\\"}\""
        ],
        [
         "\"{\\\"id_str\\\":752192639403896833,\\\"created_at\\\":\\\"2016-07-10 17:27:54\\\",\\\"text\\\":\\\"b'@chirag Use of word \\\\\\\"beta\\\\\\\" is explicitly so that drivers don\\\\\\\\'t get comfortable. It is not beta software in the standard sense.'\\\"}\""
        ],
        [
         "\"{\\\"id_str\\\":752190828798353408,\\\"created_at\\\":\\\"2016-07-10 17:20:43\\\",\\\"text\\\":\\\"b'Misunderstanding of what \\\\\\\"beta\\\\\\\" means to Tesla for Autopilot: any system w less than 1B miles of real world driving \\\\\\\\nhttps:\\\\/\\\\/t.co\\\\/WG5vnFvegI'\\\"}\""
        ],
        [
         "\"{\\\"id_str\\\":752184088111362048,\\\"created_at\\\":\\\"2016-07-10 16:53:56\\\",\\\"text\\\":\\\"b\\\\\\\"Today is Nikola Tesla's birthday. I hope he likes what we've done in his name.\\\\\\\"\\\"}\""
        ],
        [
         "\"{\\\"id_str\\\":752182992982843392,\\\"created_at\\\":\\\"2016-07-10 16:49:35\\\",\\\"text\\\":\\\"b'Working on Top Secret Tesla Masterplan, Part 2. Hoping to publish later this week.'\\\"}\""
        ],
        [
         "\"{\\\"id_str\\\":751648486416871424,\\\"created_at\\\":\\\"2016-07-09 05:25:38\\\",\\\"text\\\":\\\"b'@BrooklynBrett @LeoOD3 @Conleich Story was fed to LAT &amp; many other media to counter IMF $5T\\\\/year fossil subsidy study. Hey, both have a 5!'\\\"}\""
        ],
        [
         "\"{\\\"id_str\\\":751647322375876608,\\\"created_at\\\":\\\"2016-07-09 05:21:01\\\",\\\"text\\\":\\\"b'@AllyTaft seriously'\\\"}\""
        ],
        [
         "\"{\\\"id_str\\\":751635420644044800,\\\"created_at\\\":\\\"2016-07-09 04:33:43\\\",\\\"text\\\":\\\"b\\\\\\\"Love reddit. Gandel gets shredded &amp; won't even answer top 3 upvoted questions. Some really funny comments about Koch https:\\\\/\\\\/t.co\\\\/PJrqys3Rmc\\\\\\\"\\\"}\""
        ],
        [
         "\"{\\\"id_str\\\":751516148739416064,\\\"created_at\\\":\\\"2016-07-08 20:39:47\\\",\\\"text\\\":\\\"b'Model S had the lowest probability of injury of any car ever tested by NHTSA, which is why ... https:\\\\/\\\\/t.co\\\\/9tZZJEc5wg'\\\"}\""
        ],
        [
         "\"{\\\"id_str\\\":726217179683655680,\\\"created_at\\\":\\\"2016-04-30 01:10:42\\\",\\\"text\\\":\\\"b'@Tweetermeyer things like this should be purged shortly'\\\"}\""
        ],
        [
         "\"{\\\"id_str\\\":726216836069515264,\\\"created_at\\\":\\\"2016-04-30 01:09:20\\\",\\\"text\\\":\\\"b'@RokBottomGamers 100+ for almost everything 10+ for heat shields and a few other items.'\\\"}\""
        ],
        [
         "\"{\\\"id_str\\\":726215924760485888,\\\"created_at\\\":\\\"2016-04-30 01:05:43\\\",\\\"text\\\":\\\"b\\\\\\\"@VivekMGeorge Zuck doesn't (yet) have a deep tech understanding of AI. I spend hours every week being educated by world's best researchers.\\\\\\\"\\\"}\""
        ],
        [
         "\"{\\\"id_str\\\":726214236368576512,\\\"created_at\\\":\\\"2016-04-30 00:59:01\\\",\\\"text\\\":\\\"b'@gdoehne JCSat is pushing the envelope as a very hot and fast mission, so will land on the droneship. Next land landing in a few months.'\\\"}\""
        ],
        [
         "\"{\\\"id_str\\\":726213728278962176,\\\"created_at\\\":\\\"2016-04-30 00:56:59\\\",\\\"text\\\":\\\"b'@MrBoylan System scan detected only 0.2% of orders with same email and physical address. Those have been purged.'\\\"}\""
        ],
        [
         "\"{\\\"id_str\\\":726210827699806208,\\\"created_at\\\":\\\"2016-04-30 00:45:28\\\",\\\"text\\\":\\\"b'@vigneshraju of course'\\\"}\""
        ],
        [
         "\"{\\\"id_str\\\":726210366766632960,\\\"created_at\\\":\\\"2016-04-30 00:43:38\\\",\\\"text\\\":\\\"b'@maya_kazan Temporary spike in some areas due to X 3rd row seat recall. Should be sorted by June.'\\\"}\""
        ],
        [
         "\"{\\\"id_str\\\":726183794215022592,\\\"created_at\\\":\\\"2016-04-29 22:58:03\\\",\\\"text\\\":\\\"b'@MrBoylan Duplicates will be cancelled. Max of 2 will be delivered to any one person. Only ~5% of orders are 2, so speculation unlikely.'\\\"}\""
        ],
        [
         "\"{\\\"id_str\\\":726127265612881920,\\\"created_at\\\":\\\"2016-04-29 19:13:25\\\",\\\"text\\\":\\\"b\\\\\\\"@erothenberg Simple answer is that there just aren't many used Teslas available. Demand &gt;&gt; supply.\\\\\\\"\\\"}\""
        ],
        [
         "\"{\\\"id_str\\\":726125524091723777,\\\"created_at\\\":\\\"2016-04-29 19:06:30\\\",\\\"text\\\":\\\"b'@erothenberg checking into it ...'\\\"}\""
        ],
        [
         "\"{\\\"id_str\\\":413772104786780160,\\\"created_at\\\":\\\"2013-12-19 20:45:31\\\",\\\"text\\\":\\\"b'220 ft tall mobile crane to carry the rocket around in the vertical http:\\\\/\\\\/t.co\\\\/hgXnpEh8yU'\\\"}\""
        ],
        [
         "\"{\\\"id_str\\\":413772054337302529,\\\"created_at\\\":\\\"2013-12-19 20:45:19\\\",\\\"text\\\":\\\"b\\\\\\\"RT @TeslaMotors: Learn what it's like to own Model S in the winter and how it performs in the sub-zero temperatures of Norway: http:\\\\/\\\\/t.co\\\\/\\\\\\\\xe2\\\\\\\\x80\\\\\\\\xa6\\\\\\\"\\\"}\""
        ],
        [
         "\"{\\\"id_str\\\":413751355451265024,\\\"created_at\\\":\\\"2013-12-19 19:23:04\\\",\\\"text\\\":\\\"b'SolarCity launches Give Power Foundation http:\\\\/\\\\/t.co\\\\/Ag63gyLBRP'\\\"}\""
        ],
        [
         "\"{\\\"id_str\\\":411007245661372416,\\\"created_at\\\":\\\"2013-12-12 05:38:58\\\",\\\"text\\\":\\\"b'RT @bonnienorman: @teslaMotors @elonmusk Santa came early this year for a little girl in Texas, thanks to #Tesla. http:\\\\/\\\\/t.co\\\\/SpNbOVx3ZB  #\\\\\\\\xe2\\\\\\\\x80\\\\\\\\xa6'\\\"}\""
        ],
        [
         "\"{\\\"id_str\\\":410447049687961600,\\\"created_at\\\":\\\"2013-12-10 16:32:57\\\",\\\"text\\\":\\\"b'Sock monkey of destruction! http:\\\\/\\\\/t.co\\\\/KqvXWDFmrr'\\\"}\""
        ],
        [
         "\"{\\\"id_str\\\":408731422136864768,\\\"created_at\\\":\\\"2013-12-05 22:55:39\\\",\\\"text\\\":\\\"b'Rest in peace, Nelson Mandela. A man both good and great.'\\\"}\""
        ],
        [
         "\"{\\\"id_str\\\":408708548009291776,\\\"created_at\\\":\\\"2013-12-05 21:24:45\\\",\\\"text\\\":\\\"b'Should mention that the battery cells used for this are 200 Wh\\\\/kg vs 250 for Model S. No short term supply constraint.'\\\"}\""
        ],
        [
         "\"{\\\"id_str\\\":408695108033191936,\\\"created_at\\\":\\\"2013-12-05 20:31:21\\\",\\\"text\\\":\\\"b'Solar power w batteries will be the primary (not exclusive) means of sustainable energy production http:\\\\/\\\\/t.co\\\\/rvXBzQXbsc'\\\"}\""
        ],
        [
         "\"{\\\"id_str\\\":408030622708678657,\\\"created_at\\\":\\\"2013-12-04 00:30:55\\\",\\\"text\\\":\\\"b'View of Earth from upper stage rear view camera at 8,000 miles http:\\\\/\\\\/t.co\\\\/V4tdMUA48X'\\\"}\""
        ],
        [
         "\"{\\\"id_str\\\":408025060046557184,\\\"created_at\\\":\\\"2013-12-04 00:08:49\\\",\\\"text\\\":\\\"b\\\\\\\"RT @SpaceX: [PHOTO] Falcon 9 and SES-8 liftoff from SpaceX's launch pad at Cape Canaveral http:\\\\/\\\\/t.co\\\\/fucwgYH0s5\\\\\\\"\\\"}\""
        ],
        [
         "\"{\\\"id_str\\\":432395496972238848,\\\"created_at\\\":\\\"2014-02-09 06:08:14\\\",\\\"text\\\":\\\"b'Saw The Lego Movie earlier today. Brilliant writing and humor! Loved the \\\\\\\"Everything is awesome...\\\\\\\" theme song.'\\\"}\""
        ],
        [
         "\"{\\\"id_str\\\":431848580710555648,\\\"created_at\\\":\\\"2014-02-07 17:54:59\\\",\\\"text\\\":\\\"b'Value is holding up \\\\\\\"Tesla car is worth more used than new | MNN - http:\\\\/\\\\/t.co\\\\/NLLdo1jBzM\\\\\\\"'\\\"}\""
        ],
        [
         "\"{\\\"id_str\\\":429979489922461696,\\\"created_at\\\":\\\"2014-02-02 14:07:53\\\",\\\"text\\\":\\\"b'Tesla LA to NY Supercharger rally just completed in 76 hours across northern route in dead of winter thru heavy snow!'\\\"}\""
        ],
        [
         "\"{\\\"id_str\\\":428789050925785088,\\\"created_at\\\":\\\"2014-01-30 07:17:30\\\",\\\"text\\\":\\\"b'Tesla cars are now in all 50 US states (map credit Edmunds)! http:\\\\/\\\\/t.co\\\\/ehq2Muu5cr'\\\"}\""
        ],
        [
         "\"{\\\"id_str\\\":427374161796018176,\\\"created_at\\\":\\\"2014-01-26 09:35:15\\\",\\\"text\\\":\\\"b'RT @plugshare: Congratulations to John and Jill, first to drive across US using only free @TeslaMotors Superchargers! http:\\\\/\\\\/t.co\\\\/hA6YlkyjzN'\\\"}\""
        ],
        [
         "\"{\\\"id_str\\\":427372940603437056,\\\"created_at\\\":\\\"2014-01-26 09:30:23\\\",\\\"text\\\":\\\"b'Two teams from Tesla aiming to set a cross-country EV speed record this week. Departing Fri from LA, arriving Sun in NY.'\\\"}\""
        ],
        [
         "\"{\\\"id_str\\\":427372102820573184,\\\"created_at\\\":\\\"2014-01-26 09:27:04\\\",\\\"text\\\":\\\"b\\\\\\\"Will be doing the LA-NY family road trip over Spring Break. Made everyone watch National Lampoon's Vacation as prep.\\\\\\\"\\\"}\""
        ],
        [
         "\"{\\\"id_str\\\":427371574451507200,\\\"created_at\\\":\\\"2014-01-26 09:24:58\\\",\\\"text\\\":\\\"b'Tesla Supercharger network now energized from New York to LA, both coast + Texas! Approx 80% of US population covered.'\\\"}\""
        ],
        [
         "\"{\\\"id_str\\\":426454433916940290,\\\"created_at\\\":\\\"2014-01-23 20:40:34\\\",\\\"text\\\":\\\"b'Tesla policy is to charge the same price (+ taxes &amp; shipping) everywhere in the world http:\\\\/\\\\/t.co\\\\/cXOtokcBeG'\\\"}\""
        ],
        [
         "\"{\\\"id_str\\\":423155519981748224,\\\"created_at\\\":\\\"2014-01-14 18:11:52\\\",\\\"text\\\":\\\"b\\\\\\\"RT @TeslaMotors: Revenue expected to exceed guidance by 20% in Q4 2013 thanks to Model S' stellar safety record &amp; winter performance: http:\\\\\\\\xe2\\\\\\\\x80\\\\\\\\xa6\\\\\\\"\\\"}\""
        ],
        [
         "\"{\\\"id_str\\\":404826254295457792,\\\"created_at\\\":\\\"2013-11-25 04:17:54\\\",\\\"text\\\":\\\"b'RT @SpaceX: Falcon 9 targeted to launch SES-8 for @SES_Satellites tmrw. 1st SpaceX GEO transfer mission. http:\\\\/\\\\/t.co\\\\/wytY3mnBf1 http:\\\\/\\\\/t.co\\\\\\\\xe2\\\\\\\\x80\\\\\\\\xa6'\\\"}\""
        ],
        [
         "\"{\\\"id_str\\\":404755031037317120,\\\"created_at\\\":\\\"2013-11-24 23:34:54\\\",\\\"text\\\":\\\"b'At Disney World w kids for traditional prelaunch visit (first good flight was after riding Space Mountain)'\\\"}\""
        ],
        [
         "\"{\\\"id_str\\\":404073926247972864,\\\"created_at\\\":\\\"2013-11-23 02:28:26\\\",\\\"text\\\":\\\"b'Launch can be viewed live from Cape causeways or via http:\\\\/\\\\/t.co\\\\/soOCggCpN0 webcast around 5:30 local time on Monday'\\\"}\""
        ],
        [
         "\"{\\\"id_str\\\":404067161175379968,\\\"created_at\\\":\\\"2013-11-23 02:01:33\\\",\\\"text\\\":\\\"b'@DarkSapiens Easier to make the plane change to equatorial orbit. Done in order to reduce satellite side delta V from 1800 m\\\\/s to 1500 m\\\\/s.'\\\"}\""
        ],
        [
         "\"{\\\"id_str\\\":404063199227437057,\\\"created_at\\\":\\\"2013-11-23 01:45:48\\\",\\\"text\\\":\\\"b'Will be toughest mission to date. Requires coast + upper stage restart + going to 80,000 km altitude (~1\\\\/4 way to moon).'\\\"}\""
        ],
        [
         "\"{\\\"id_str\\\":404059376652005377,\\\"created_at\\\":\\\"2013-11-23 01:30:37\\\",\\\"text\\\":\\\"b'Headed to Cape Canaveral tomorrow for first @SpaceX geostationary satellite launch.'\\\"}\""
        ],
        [
         "\"{\\\"id_str\\\":403602986561073152,\\\"created_at\\\":\\\"2013-11-21 19:17:05\\\",\\\"text\\\":\\\"b'Tesla Model S Consumer Reports customer satisfaction survey highest of any car on road at 99\\\\/100 http:\\\\/\\\\/t.co\\\\/PpuS01S2KN'\\\"}\""
        ],
        [
         "\"{\\\"id_str\\\":402850950500474881,\\\"created_at\\\":\\\"2013-11-19 17:28:45\\\",\\\"text\\\":\\\"b'Tesla is also extending the Model S warranty to cover any fire damage even if due solely to a driver accident'\\\"}\""
        ],
        [
         "\"{\\\"id_str\\\":402836392566202368,\\\"created_at\\\":\\\"2013-11-19 16:30:54\\\",\\\"text\\\":\\\"b'What makes this incredibly unjust is that the Model S to date has the best safety record of any car on the road (no injuries or deaths ever)'\\\"}\""
        ],
        [
         "\"{\\\"id_str\\\":402811201052090368,\\\"created_at\\\":\\\"2013-11-19 14:50:48\\\",\\\"text\\\":\\\"b'Why does a Tesla fire w no injury get more media headlines than 100,000 gas car fires that kill 100s of people per year?'\\\"}\""
        ],
        [
         "\"{\\\"id_str\\\":577533623483568128,\\\"created_at\\\":\\\"2015-03-16 18:15:20\\\",\\\"text\\\":\\\"b\\\\\\\"Neither I nor the company are selling shares. Even if we were, I wouldn't do this. It would be wrong. Our long term results are what matter.\\\\\\\"\\\"}\""
        ],
        [
         "\"{\\\"id_str\\\":577533020736909312,\\\"created_at\\\":\\\"2015-03-16 18:12:56\\\",\\\"text\\\":\\\"b'Some people seem to think I tweet to affect share price. This is false. A brief rise in $TSLA stock obviously does no good for Tesla or me.'\\\"}\""
        ],
        [
         "\"{\\\"id_str\\\":577080950317821952,\\\"created_at\\\":\\\"2015-03-15 12:16:34\\\",\\\"text\\\":\\\"b'SolarCity systems generated a new daily record of 4 gigawatt-hours this week\\\\\\\\nhttp:\\\\/\\\\/t.co\\\\/7MFig1lMsF'\\\"}\""
        ],
        [
         "\"{\\\"id_str\\\":576637531560628224,\\\"created_at\\\":\\\"2015-03-14 06:54:35\\\",\\\"text\\\":\\\"b\\\\\\\"World's largest hedge fund soon to be powered by artificial intelligence\\\\\\\\nhttp:\\\\/\\\\/t.co\\\\/t1Fer3fWVa\\\\\\\"\\\"}\""
        ],
        [
         "\"{\\\"id_str\\\":576500946303217664,\\\"created_at\\\":\\\"2015-03-13 21:51:51\\\",\\\"text\\\":\\\"b'RT @SpaceX: Introducing Landing Complex 1, formerly Launch Complex 13, at Cape Canaveral in Florida. http:\\\\/\\\\/t.co\\\\/oIr6NssyCo'\\\"}\""
        ],
        [
         "\"{\\\"id_str\\\":576193855323697152,\\\"created_at\\\":\\\"2015-03-13 01:31:34\\\",\\\"text\\\":\\\"b'Maybe this is all the work of the Stonecutters! Certainly connects a lot of themes ... http:\\\\/\\\\/t.co\\\\/E5jJ9Snaca'\\\"}\""
        ],
        [
         "\"{\\\"id_str\\\":576184066921218048,\\\"created_at\\\":\\\"2015-03-13 00:52:41\\\",\\\"text\\\":\\\"b'For more on the Fermi Paradox: http:\\\\/\\\\/t.co\\\\/ea1aGnu2kU, http:\\\\/\\\\/t.co\\\\/AcdSIoIvyv and http:\\\\/\\\\/t.co\\\\/bkbOWW7Ztb'\\\"}\""
        ],
        [
         "\"{\\\"id_str\\\":576182696260476929,\\\"created_at\\\":\\\"2015-03-13 00:47:14\\\",\\\"text\\\":\\\"b\\\\\\\"The ancient Egyptians were amazing, but if aliens built the pyramids, they would've left behind a computer or something\\\\\\\"\\\"}\""
        ],
        [
         "\"{\\\"id_str\\\":576140759281238017,\\\"created_at\\\":\\\"2015-03-12 22:00:35\\\",\\\"text\\\":\\\"b\\\\\\\"The rumor that I'm building a spaceship to get back to my home planet Mars is totally untrue\\\\\\\"\\\"}\""
        ],
        [
         "\"{\\\"id_str\\\":576139678895583232,\\\"created_at\\\":\\\"2015-03-12 21:56:18\\\",\\\"text\\\":\\\"b\\\\\\\"Btw, please don't mention the pyramids. Stacking stone blocks is not evidence of an advanced civilization.\\\\\\\"\\\"}\""
        ],
        [
         "\"{\\\"id_str\\\":325011704582901760,\\\"created_at\\\":\\\"2013-04-18 22:23:23\\\",\\\"text\\\":\\\"b'@eirene_inc @archforhumanity @AFHDisasterTeam We have a lot of heavy lifting equipment. Will ask my team to send it over.'\\\"}\""
        ],
        [
         "\"{\\\"id_str\\\":324990048523141120,\\\"created_at\\\":\\\"2013-04-18 20:57:20\\\",\\\"text\\\":\\\"b'Heart goes out to people of central Texas, home of SpaceX TX. All resources at disposal to help in any way.'\\\"}\""
        ],
        [
         "\"{\\\"id_str\\\":324575593796612096,\\\"created_at\\\":\\\"2013-04-17 17:30:26\\\",\\\"text\\\":\\\"b'A @WhiteHouse petition to allow direct sales of cars by manufacturers: https:\\\\/\\\\/t.co\\\\/7h6m89mQmh Please vote here too!'\\\"}\""
        ],
        [
         "\"{\\\"id_str\\\":324388037117214720,\\\"created_at\\\":\\\"2013-04-17 05:05:09\\\",\\\"text\\\":\\\"b'If you live in Texas and are pro Tesla, please vote in the @MyABJ opinion poll! http:\\\\/\\\\/t.co\\\\/ozPdw6UzUo'\\\"}\""
        ],
        [
         "\"{\\\"id_str\\\":322906572814696448,\\\"created_at\\\":\\\"2013-04-13 02:58:20\\\",\\\"text\\\":\\\"b'Interesting... \\\\\\\"Putin unveils $50B drive for Russian space supremacy http:\\\\/\\\\/t.co\\\\/aK1vYGlYhl\\\\\\\" via @physorg_com'\\\"}\""
        ],
        [
         "\"{\\\"id_str\\\":322416386037141504,\\\"created_at\\\":\\\"2013-04-11 18:30:31\\\",\\\"text\\\":\\\"b'@batasrki Stay tuned for a big Supercharger announcement in a few weeks. Definitely have you covered.'\\\"}\""
        ],
        [
         "\"{\\\"id_str\\\":322414424570859520,\\\"created_at\\\":\\\"2013-04-11 18:22:43\\\",\\\"text\\\":\\\"b'@JBSiegelMD Thanks! Hearing from constituents is super important to counteract the influence of the dealer lobby.'\\\"}\""
        ],
        [
         "\"{\\\"id_str\\\":322410144409481217,\\\"created_at\\\":\\\"2013-04-11 18:05:43\\\",\\\"text\\\":\\\"b'New York judge states: \\\\\\\"... dealers cannot utilize the Franchised Dealer Act as a means to sue their competitors\\\\\\\". Exactly!'\\\"}\""
        ],
        [
         "\"{\\\"id_str\\\":322409574248357888,\\\"created_at\\\":\\\"2013-04-11 18:03:27\\\",\\\"text\\\":\\\"b'New York judge just ruled in favor Tesla, dismissing the legal attack by auto dealers to prevent direct sales!'\\\"}\""
        ],
        [
         "\"{\\\"id_str\\\":322170049316139009,\\\"created_at\\\":\\\"2013-04-11 02:11:40\\\",\\\"text\\\":\\\"b'Yay for democracy! @latimes asks: Should Tesla Motors be able to sell directly to consumers? http:\\\\/\\\\/t.co\\\\/IhSNht6bgx'\\\"}\""
        ],
        [
         "\"{\\\"id_str\\\":474032659434180608,\\\"created_at\\\":\\\"2014-06-04 03:39:27\\\",\\\"text\\\":\\\"b'RT @OEVAorg: 4 second summary of @TeslaMotors 2014 annual shareholder meeting https:\\\\/\\\\/t.co\\\\/uK7Ze79v9j :) @elonmusk'\\\"}\""
        ],
        [
         "\"{\\\"id_str\\\":472757297685356546,\\\"created_at\\\":\\\"2014-05-31 15:11:37\\\",\\\"text\\\":\\\"b'Recording of Dragon V2 unveil at http:\\\\/\\\\/t.co\\\\/aBIV4EWOS2'\\\"}\""
        ],
        [
         "\"{\\\"id_str\\\":471829262215835648,\\\"created_at\\\":\\\"2014-05-29 01:43:56\\\",\\\"text\\\":\\\"b'Amazing repair job of Falcon 9 ocean landing vid by @NASASpaceflight forum. Now shows leg deploy http:\\\\/\\\\/t.co\\\\/EYoaRjEn9Q'\\\"}\""
        ],
        [
         "\"{\\\"id_str\\\":471808555951980544,\\\"created_at\\\":\\\"2014-05-29 00:21:40\\\",\\\"text\\\":\\\"b'Model S in drag queen competition @CARandDRIVER http:\\\\/\\\\/t.co\\\\/SHSkETbbWm'\\\"}\""
        ],
        [
         "\"{\\\"id_str\\\":470613418039586816,\\\"created_at\\\":\\\"2014-05-25 17:12:37\\\",\\\"text\\\":\\\"b'Prince Albert &amp; Princess Charlene drove a Tesla around the track to open @F1 Monaco! The honor is much appreciated :) http:\\\\/\\\\/t.co\\\\/gjQmbm541s'\\\"}\""
        ],
        [
         "\"{\\\"id_str\\\":470611728469098496,\\\"created_at\\\":\\\"2014-05-25 17:05:54\\\",\\\"text\\\":\\\"b'RT @thkyv: @elonmusk 399 EV`s in World Record breaking parade in Bryne, Norway today. 100+ Teslas!'\\\"}\""
        ],
        [
         "\"{\\\"id_str\\\":470001882300444674,\\\"created_at\\\":\\\"2014-05-24 00:42:36\\\",\\\"text\\\":\\\"b'@QuantumG When we launch I want to know that SpaceX has done everything possible to keep the astronauts safe. Only a few more years to go.'\\\"}\""
        ],
        [
         "\"{\\\"id_str\\\":469996345617825792,\\\"created_at\\\":\\\"2014-05-24 00:20:35\\\",\\\"text\\\":\\\"b'RT @amerpro555: @elonmusk   How about this guy http:\\\\/\\\\/t.co\\\\/0fMbsYPrKS'\\\"}\""
        ],
        [
         "\"{\\\"id_str\\\":469996295151972352,\\\"created_at\\\":\\\"2014-05-24 00:20:23\\\",\\\"text\\\":\\\"b\\\\\\\"@QuantumG Dragon V1.1 doesn't have a launch escape system. Probably comparable reliability to Shuttle, but we need to do better.\\\\\\\"\\\"}\""
        ],
        [
         "\"{\\\"id_str\\\":469990086738984960,\\\"created_at\\\":\\\"2014-05-23 23:55:43\\\",\\\"text\\\":\\\"b\\\\\\\"@RichardGarriott Just the air in Dragon. Technically, if a few humans had stowed aboard Dragon on the last flight, they would've been ok.\\\\\\\"\\\"}\""
        ],
        [
         "\"{\\\"id_str\\\":475772232355287040,\\\"created_at\\\":\\\"2014-06-08 22:51:54\\\",\\\"text\\\":\\\"b'RT @arstechnica: Eugene\\\\\\\\xe2\\\\\\\\x80\\\\\\\\x94the supercomputer, not 13-year-old\\\\\\\\xe2\\\\\\\\x80\\\\\\\\x94first to beat the Turing Test  http:\\\\/\\\\/t.co\\\\/lPup3f3dRx by @nathanmattise'\\\"}\""
        ],
        [
         "\"{\\\"id_str\\\":474212817306787840,\\\"created_at\\\":\\\"2014-06-04 15:35:20\\\",\\\"text\\\":\\\"b'Ok, but the sloths kinda had it coming \\\\\\\"Humans Blamed for Extinction of Mammoths &amp; Giant Sloths\\\\\\\" http:\\\\/\\\\/t.co\\\\/pIPW8rjjl2'\\\"}\""
        ],
        [
         "\"{\\\"id_str\\\":474032659434180608,\\\"created_at\\\":\\\"2014-06-04 03:39:27\\\",\\\"text\\\":\\\"b'RT @OEVAorg: 4 second summary of @TeslaMotors 2014 annual shareholder meeting https:\\\\/\\\\/t.co\\\\/uK7Ze79v9j :) @elonmusk'\\\"}\""
        ],
        [
         "\"{\\\"id_str\\\":472757297685356546,\\\"created_at\\\":\\\"2014-05-31 15:11:37\\\",\\\"text\\\":\\\"b'Recording of Dragon V2 unveil at http:\\\\/\\\\/t.co\\\\/aBIV4EWOS2'\\\"}\""
        ],
        [
         "\"{\\\"id_str\\\":471829262215835648,\\\"created_at\\\":\\\"2014-05-29 01:43:56\\\",\\\"text\\\":\\\"b'Amazing repair job of Falcon 9 ocean landing vid by @NASASpaceflight forum. Now shows leg deploy http:\\\\/\\\\/t.co\\\\/EYoaRjEn9Q'\\\"}\""
        ],
        [
         "\"{\\\"id_str\\\":471808555951980544,\\\"created_at\\\":\\\"2014-05-29 00:21:40\\\",\\\"text\\\":\\\"b'Model S in drag queen competition @CARandDRIVER http:\\\\/\\\\/t.co\\\\/SHSkETbbWm'\\\"}\""
        ],
        [
         "\"{\\\"id_str\\\":470613418039586816,\\\"created_at\\\":\\\"2014-05-25 17:12:37\\\",\\\"text\\\":\\\"b'Prince Albert &amp; Princess Charlene drove a Tesla around the track to open @F1 Monaco! The honor is much appreciated :) http:\\\\/\\\\/t.co\\\\/gjQmbm541s'\\\"}\""
        ],
        [
         "\"{\\\"id_str\\\":470611728469098496,\\\"created_at\\\":\\\"2014-05-25 17:05:54\\\",\\\"text\\\":\\\"b'RT @thkyv: @elonmusk 399 EV`s in World Record breaking parade in Bryne, Norway today. 100+ Teslas!'\\\"}\""
        ],
        [
         "\"{\\\"id_str\\\":470001882300444674,\\\"created_at\\\":\\\"2014-05-24 00:42:36\\\",\\\"text\\\":\\\"b'@QuantumG When we launch I want to know that SpaceX has done everything possible to keep the astronauts safe. Only a few more years to go.'\\\"}\""
        ],
        [
         "\"{\\\"id_str\\\":469996345617825792,\\\"created_at\\\":\\\"2014-05-24 00:20:35\\\",\\\"text\\\":\\\"b'RT @amerpro555: @elonmusk   How about this guy http:\\\\/\\\\/t.co\\\\/0fMbsYPrKS'\\\"}\""
        ],
        [
         "\"{\\\"id_str\\\":593296401196388352,\\\"created_at\\\":\\\"2015-04-29 06:10:59\\\",\\\"text\\\":\\\"b'For the future to be good, we need electric transport, solar power and (of course) ... http:\\\\/\\\\/t.co\\\\/8mwVWukQDL'\\\"}\""
        ],
        [
         "\"{\\\"id_str\\\":592836876622520323,\\\"created_at\\\":\\\"2015-04-27 23:45:00\\\",\\\"text\\\":\\\"b'Rocket launch good, satellite in geo transfer orbit. Still so damn intense. Looking fwd to it feeling normal one day.'\\\"}\""
        ],
        [
         "\"{\\\"id_str\\\":592602352659533824,\\\"created_at\\\":\\\"2015-04-27 08:13:05\\\",\\\"text\\\":\\\"b'Worth watching @ExMachinaMovie. The AI would be in the network, not the robot, but otherwise good.'\\\"}\""
        ],
        [
         "\"{\\\"id_str\\\":592481964419993601,\\\"created_at\\\":\\\"2015-04-27 00:14:42\\\",\\\"text\\\":\\\"b\\\\\\\"RT @SpaceX: Rocket moving to the pad tonight in advance of tomorrow's launch attempt. 6:14pm ET window opens. Weather 60% go. http:\\\\/\\\\/t.co\\\\/6\\\\\\\\xe2\\\\\\\\x80\\\\\\\\xa6\\\\\\\"\\\"}\""
        ],
        [
         "\"{\\\"id_str\\\":592471975869620225,\\\"created_at\\\":\\\"2015-04-26 23:35:01\\\",\\\"text\\\":\\\"b'RT @deadmau5: Here she is! :) @TeslaMotors http:\\\\/\\\\/t.co\\\\/LPiWuhNYsN'\\\"}\""
        ],
        [
         "\"{\\\"id_str\\\":591062459349274624,\\\"created_at\\\":\\\"2015-04-23 02:14:06\\\",\\\"text\\\":\\\"b'@bonnienorman New Roadster battery should complete safety validation by end of July, so likely available in August'\\\"}\""
        ],
        [
         "\"{\\\"id_str\\\":589820447660769281,\\\"created_at\\\":\\\"2015-04-19 15:58:47\\\",\\\"text\\\":\\\"b'@andrewket @TeslaRoadTrip Wow!'\\\"}\""
        ],
        [
         "\"{\\\"id_str\\\":589579721488224256,\\\"created_at\\\":\\\"2015-04-19 00:02:14\\\",\\\"text\\\":\\\"b'While the rocket does look rather tall &amp; tippy, a stable landing is no problem with proper throttle response https:\\\\/\\\\/t.co\\\\/B4Y6D4dpsc'\\\"}\""
        ],
        [
         "\"{\\\"id_str\\\":589577558942822400,\\\"created_at\\\":\\\"2015-04-18 23:53:38\\\",\\\"text\\\":\\\"b'Cause of hard rocket landing confirmed as due to slower than expected throttle valve response. Next attempt in 2 months.'\\\"}\""
        ],
        [
         "\"{\\\"id_str\\\":589505551366639618,\\\"created_at\\\":\\\"2015-04-18 19:07:30\\\",\\\"text\\\":\\\"b'RT @TeslaMotors: Brand new Store &amp; Service Center in Shanghai Hongqiao. #Tesla #China http:\\\\/\\\\/t.co\\\\/bbsSksbZT7'\\\"}\""
        ],
        [
         "\"{\\\"id_str\\\":694802955170553861,\\\"created_at\\\":\\\"2016-02-03 08:41:47\\\",\\\"text\\\":\\\"b'Must be a slow news day if denying service to a super rude customer gets this much attention'\\\"}\""
        ],
        [
         "\"{\\\"id_str\\\":690983158490136576,\\\"created_at\\\":\\\"2016-01-23 19:43:17\\\",\\\"text\\\":\\\"b'@TheEconomist Interesting name'\\\"}\""
        ],
        [
         "\"{\\\"id_str\\\":690307996774072320,\\\"created_at\\\":\\\"2016-01-21 23:00:26\\\",\\\"text\\\":\\\"b'RT @Commercial_Crew: Watch 8 SuperDraco engines fire for @SpaceX Crew Dragon descent landing tether test: https:\\\\/\\\\/t.co\\\\/4MELcVTe0h. More: ht\\\\\\\\xe2\\\\\\\\x80\\\\\\\\xa6'\\\"}\""
        ],
        [
         "\"{\\\"id_str\\\":690214453804163072,\\\"created_at\\\":\\\"2016-01-21 16:48:44\\\",\\\"text\\\":\\\"b'RT @NASA: 2015 was the warmest year on record. Have Qs? Ask us at 1pm ET during a @Reddit Science Q&amp;A: https:\\\\/\\\\/t.co\\\\/0p1HXLW12U https:\\\\/\\\\/t.co\\\\\\\\xe2\\\\\\\\x80\\\\\\\\xa6'\\\"}\""
        ],
        [
         "\"{\\\"id_str\\\":689869015280254976,\\\"created_at\\\":\\\"2016-01-20 17:56:05\\\",\\\"text\\\":\\\"b\\\\\\\"@Benzinga I didn't take anyone's car and never would. Car was actually allocated to engineering test (not by me) and inadvertently sold.\\\\\\\"\\\"}\""
        ],
        [
         "\"{\\\"id_str\\\":689299216607232000,\\\"created_at\\\":\\\"2016-01-19 04:11:54\\\",\\\"text\\\":\\\"b'My best guess for 2016: ~70% landing success rate (so still a few more RUDs to go), then hopefully improving to ~90% in 2017'\\\"}\""
        ],
        [
         "\"{\\\"id_str\\\":688921087820705792,\\\"created_at\\\":\\\"2016-01-18 03:09:21\\\",\\\"text\\\":\\\"b'@JeffBezos @SpaceX Thanks Jeff'\\\"}\""
        ],
        [
         "\"{\\\"id_str\\\":688920586391805952,\\\"created_at\\\":\\\"2016-01-18 03:07:21\\\",\\\"text\\\":\\\"b\\\\\\\"Falcon lands on droneship, but the lockout collet doesn't latch on one the four legs, causing it\\\\\\\\xe2\\\\\\\\x80\\\\\\\\xa6 https:\\\\/\\\\/t.co\\\\/DpXsRQWal9\\\\\\\"\\\"}\""
        ],
        [
         "\"{\\\"id_str\\\":688918045989842944,\\\"created_at\\\":\\\"2016-01-18 02:57:16\\\",\\\"text\\\":\\\"b'RT @SpaceX: First stage approaches center of landing droneship in Pacific https:\\\\/\\\\/t.co\\\\/lI3q6LnwVP'\\\"}\""
        ],
        [
         "\"{\\\"id_str\\\":688846973361721345,\\\"created_at\\\":\\\"2016-01-17 22:14:51\\\",\\\"text\\\":\\\"b'@stunt_penguin @LayOn_OverWhale Stage 1 would reach low Earth orbit if not hefting a second stage, but payload would be greatly reduced.'\\\"}\""
        ],
        [
         "\"{\\\"id_str\\\":167357401815715840,\\\"created_at\\\":\\\"2012-02-08 21:21:28\\\",\\\"text\\\":\\\"b'RT @SpaceX: Photo Update: Dragon complete with trunk at the SpaceX hangar, preparations continue for the historic mission ahead. http:\\\\/\\\\/ ...'\\\"}\""
        ],
        [
         "\"{\\\"id_str\\\":167325254451081216,\\\"created_at\\\":\\\"2012-02-08 19:13:44\\\",\\\"text\\\":\\\"b'Cool new @NASA pic of the most powerful type of solar flare, called X-class. Am not making this up! http:\\\\/\\\\/t.co\\\\/eJKSQqvO'\\\"}\""
        ],
        [
         "\"{\\\"id_str\\\":167105458753118208,\\\"created_at\\\":\\\"2012-02-08 04:40:20\\\",\\\"text\\\":\\\"b\\\\\\\"Russia and China are blocking UN action. Can't imagine why they wouldn't support a democratic uprising...\\\\\\\"\\\"}\""
        ],
        [
         "\"{\\\"id_str\\\":167104295504838656,\\\"created_at\\\":\\\"2012-02-08 04:35:43\\\",\\\"text\\\":\\\"b'Wish there was something we could do to help the people of Syria.   http:\\\\/\\\\/t.co\\\\/Ii7v7Cgw'\\\"}\""
        ],
        [
         "\"{\\\"id_str\\\":166781555950354432,\\\"created_at\\\":\\\"2012-02-07 07:13:16\\\",\\\"text\\\":\\\"b'@BenToBeWild Yes, we will unveil a fully functional advanced prototype of the Model X -- almost identical to production.'\\\"}\""
        ],
        [
         "\"{\\\"id_str\\\":166336380820144128,\\\"created_at\\\":\\\"2012-02-06 01:44:18\\\",\\\"text\\\":\\\"b'The sheer size of Falcon Heavy is mind-blowing. It could literally send a fully loaded London bus to the moon.'\\\"}\""
        ],
        [
         "\"{\\\"id_str\\\":166333716359168000,\\\"created_at\\\":\\\"2012-02-06 01:33:43\\\",\\\"text\\\":\\\"b'The London Sunday Times created a chart showing how Falcon compares to the Saturn V and Shuttle http:\\\\/\\\\/t.co\\\\/nJMPtYPd'\\\"}\""
        ],
        [
         "\"{\\\"id_str\\\":166251564032471040,\\\"created_at\\\":\\\"2012-02-05 20:07:16\\\",\\\"text\\\":\\\"b'Just posted a photo http:\\\\/\\\\/t.co\\\\/eN9xzbfO'\\\"}\""
        ],
        [
         "\"{\\\"id_str\\\":165898145841168385,\\\"created_at\\\":\\\"2012-02-04 20:42:54\\\",\\\"text\\\":\\\"b'@MacDeviant Yeah, we will stream the whole mission realtime with no buffer. You see what we see.'\\\"}\""
        ],
        [
         "\"{\\\"id_str\\\":165622701631868928,\\\"created_at\\\":\\\"2012-02-04 02:28:24\\\",\\\"text\\\":\\\"b'Docking with Space Station now likely to happen in April. Hopefully will look something like this: http:\\\\/\\\\/t.co\\\\/A2gd9ziC'\\\"}\""
        ],
        [
         "\"{\\\"id_str\\\":564562686478807043,\\\"created_at\\\":\\\"2015-02-08 23:13:28\\\",\\\"text\\\":\\\"b'Air Force tracking radar went down. Launch postponed to same time tomorrow.'\\\"}\""
        ],
        [
         "\"{\\\"id_str\\\":564509965612634112,\\\"created_at\\\":\\\"2015-02-08 19:43:58\\\",\\\"text\\\":\\\"b'Rocket reentry will be much tougher this time around due to deep space mission. Almost 2X force and 4X heat. Plenty of hydraulic fluid tho.'\\\"}\""
        ],
        [
         "\"{\\\"id_str\\\":564493608351313921,\\\"created_at\\\":\\\"2015-02-08 18:38:58\\\",\\\"text\\\":\\\"b'Launching our 1st deep space mission today. Headed to Earth-Sun L1 gravity null point at 1M miles, 4X further than moon.'\\\"}\""
        ],
        [
         "\"{\\\"id_str\\\":564491913445666816,\\\"created_at\\\":\\\"2015-02-08 18:32:14\\\",\\\"text\\\":\\\"b'RT @SpaceX: #Falcon9 is vertical in advance of tonight\\\\\\\\xe2\\\\\\\\x80\\\\\\\\x99s #DSCOVR launch, targeting 6:10pm EST. Watch LIVE: http:\\\\/\\\\/t.co\\\\/tdni5406Hi http:\\\\/\\\\/t.\\\\\\\\xe2\\\\\\\\x80\\\\\\\\xa6'\\\"}\""
        ],
        [
         "\"{\\\"id_str\\\":562321505854300161,\\\"created_at\\\":\\\"2015-02-02 18:47:49\\\",\\\"text\\\":\\\"b'RT @SpaceX: America\\\\\\\\xe2\\\\\\\\x80\\\\\\\\x99s next gen crewed spacecraft is almost ready for a test flight. Pad abort vehicle shipping to FL shortly. http:\\\\/\\\\/t.co\\\\/X\\\\\\\\xe2\\\\\\\\x80\\\\\\\\xa6'\\\"}\""
        ],
        [
         "\"{\\\"id_str\\\":561002248827052034,\\\"created_at\\\":\\\"2015-01-30 03:25:33\\\",\\\"text\\\":\\\"b'If you are curious about the P85D, you can schedule a test drive here: http:\\\\/\\\\/t.co\\\\/Eu19pBUpNO'\\\"}\""
        ],
        [
         "\"{\\\"id_str\\\":560909571691380736,\\\"created_at\\\":\\\"2015-01-29 21:17:17\\\",\\\"text\\\":\\\"b'Painting the name on the droneship ... http:\\\\/\\\\/t.co\\\\/X8R8O4KjPx'\\\"}\""
        ],
        [
         "\"{\\\"id_str\\\":560908370623098882,\\\"created_at\\\":\\\"2015-01-29 21:12:31\\\",\\\"text\\\":\\\"b'P85 acceleration will also improve, but not quite as much'\\\"}\""
        ],
        [
         "\"{\\\"id_str\\\":560906999664508931,\\\"created_at\\\":\\\"2015-01-29 21:07:04\\\",\\\"text\\\":\\\"b'Video made by owner of a P85D going up a 14% grade on snow passing a whole bunch of stuck SUVs https:\\\\/\\\\/t.co\\\\/LC9AHx0fuC'\\\"}\""
        ],
        [
         "\"{\\\"id_str\\\":560900676453433344,\\\"created_at\\\":\\\"2015-01-29 20:41:56\\\",\\\"text\\\":\\\"b'Tesla dual motor cars are also all-wheel drive. Main goal of dual motor was actually insane traction on snow. Insane speed was a side effect'\\\"}\""
        ],
        [
         "\"{\\\"id_str\\\":457235055388020736,\\\"created_at\\\":\\\"2014-04-18 19:11:47\\\",\\\"text\\\":\\\"b'Falcon 9-Reusable with (now retired) Grasshopper test rig in background http:\\\\/\\\\/t.co\\\\/TmYrs5mm79'\\\"}\""
        ],
        [
         "\"{\\\"id_str\\\":457212031062392833,\\\"created_at\\\":\\\"2014-04-18 17:40:17\\\",\\\"text\\\":\\\"b'Hexacopter drone vid of 1st F9 rocket booster takeoff &amp; landing w flight design legs http:\\\\/\\\\/t.co\\\\/FhZX3afK1a'\\\"}\""
        ],
        [
         "\"{\\\"id_str\\\":457191844133097472,\\\"created_at\\\":\\\"2014-04-18 16:20:04\\\",\\\"text\\\":\\\"b'@erwinEmm Need to make sure precision return from hypersonic velocity works in ocean before transitioning to land'\\\"}\""
        ],
        [
         "\"{\\\"id_str\\\":457190623640969216,\\\"created_at\\\":\\\"2014-04-18 16:15:13\\\",\\\"text\\\":\\\"b'Heavy seas in Atlantic preventing our recovery ship from being on station. Maybe they can help? http:\\\\/\\\\/t.co\\\\/9zZKAqPh6H'\\\"}\""
        ],
        [
         "\"{\\\"id_str\\\":457188968627310592,\\\"created_at\\\":\\\"2014-04-18 16:08:38\\\",\\\"text\\\":\\\"b'This is 1st ever orbital rocket launch w landing legs. Will attempt leg deploy &amp; soft landing out to sea.'\\\"}\""
        ],
        [
         "\"{\\\"id_str\\\":457181362307350529,\\\"created_at\\\":\\\"2014-04-18 15:38:25\\\",\\\"text\\\":\\\"b'Launch to the Space Station in just under three hours if weather holds http:\\\\/\\\\/t.co\\\\/aBIV4EWOS2'\\\"}\""
        ],
        [
         "\"{\\\"id_str\\\":456914811461197824,\\\"created_at\\\":\\\"2014-04-17 21:59:14\\\",\\\"text\\\":\\\"b'Honored that @NASA would entrust @SpaceX with the Apollo 11 (first moon landing) launch pad http:\\\\/\\\\/t.co\\\\/LmqxRwsKFW'\\\"}\""
        ],
        [
         "\"{\\\"id_str\\\":454005116249440257,\\\"created_at\\\":\\\"2014-04-09 21:17:09\\\",\\\"text\\\":\\\"b'RT @TeslaMotors: When life gives you lemons\\\\\\\\xe2\\\\\\\\x80\\\\\\\\xa6 http:\\\\/\\\\/t.co\\\\/1TrjvPvh2K'\\\"}\""
        ],
        [
         "\"{\\\"id_str\\\":453574051487686657,\\\"created_at\\\":\\\"2014-04-08 16:44:15\\\",\\\"text\\\":\\\"b\\\\\\\"@elonmusk Also, breakfast at Tesla is self-serve cereal (no distinction for execs) and the person mentioned isn't actually an employee\\\\\\\"\\\"}\""
        ],
        [
         "\"{\\\"id_str\\\":453571298677907456,\\\"created_at\\\":\\\"2014-04-08 16:33:19\\\",\\\"text\\\":\\\"b'Leasing a Model S takes 5 mins online, no signatures &amp; one tap on car center screen to accept when delivered'\\\"}\""
        ],
        [
         "\"{\\\"id_str\\\":750837202398093312,\\\"created_at\\\":\\\"2016-07-06 23:41:53\\\",\\\"text\\\":\\\"b'@disinformatico @Eddy_Jahn In other words, the intended implication is that a driver must remain alert, just as a pilot must remain alert.'\\\"}\""
        ],
        [
         "\"{\\\"id_str\\\":750836652109594626,\\\"created_at\\\":\\\"2016-07-06 23:39:42\\\",\\\"text\\\":\\\"b'@disinformatico @Eddy_Jahn Tesla Tesla Autopilot is named after aircraft autopilot, as it is always expected that a pilot must stay alert.'\\\"}\""
        ],
        [
         "\"{\\\"id_str\\\":750835746613915648,\\\"created_at\\\":\\\"2016-07-06 23:36:06\\\",\\\"text\\\":\\\"b'@jacobrossi All publicly known Tesla product developments are called out, incl vehicles and batteries. Would be odd *not* to include.'\\\"}\""
        ],
        [
         "\"{\\\"id_str\\\":750829352229695488,\\\"created_at\\\":\\\"2016-07-06 23:10:41\\\",\\\"text\\\":\\\"b'Tesla response to the misleading Fortune articles about Autopilot https:\\\\/\\\\/t.co\\\\/zWRM3aMnVC'\\\"}\""
        ],
        [
         "\"{\\\"id_str\\\":750820987676061696,\\\"created_at\\\":\\\"2016-07-06 22:37:27\\\",\\\"text\\\":\\\"b'Sponsored articles \\\\\\\\xe2\\\\\\\\x80\\\\\\\\xa6 https:\\\\/\\\\/t.co\\\\/i8QsJYU4Ee'\\\"}\""
        ],
        [
         "\"{\\\"id_str\\\":750593838264246272,\\\"created_at\\\":\\\"2016-07-06 07:34:51\\\",\\\"text\\\":\\\"b'RT @Gizmodo: Hyperloop connecting Helsinki to Stockholm would turn a 300-mile trip into a 28-minute ride https:\\\\/\\\\/t.co\\\\/zeruuwufKk https:\\\\/\\\\/t.\\\\\\\\xe2\\\\\\\\x80\\\\\\\\xa6'\\\"}\""
        ],
        [
         "\"{\\\"id_str\\\":750446098020503552,\\\"created_at\\\":\\\"2016-07-05 21:47:47\\\",\\\"text\\\":\\\"b'Because of course I hate flamingos...(maybe try eating fewer flamingo eggs in your salad)\\\\\\\\nhttps:\\\\/\\\\/t.co\\\\/tUKsWqCobo'\\\"}\""
        ],
        [
         "\"{\\\"id_str\\\":750354728169644032,\\\"created_at\\\":\\\"2016-07-05 15:44:42\\\",\\\"text\\\":\\\"b'@apple_defense @samabuelsamid Exactly! I love Twitter.'\\\"}\""
        ],
        [
         "\"{\\\"id_str\\\":750353176570789888,\\\"created_at\\\":\\\"2016-07-05 15:38:32\\\",\\\"text\\\":\\\"b'@samabuelsamid Wrong to exclude non-occupant deaths. Autopilot would have prevented this cyclist from being killed https:\\\\/\\\\/t.co\\\\/ic9liqnyDN'\\\"}\""
        ],
        [
         "\"{\\\"id_str\\\":750351150382194688,\\\"created_at\\\":\\\"2016-07-05 15:30:29\\\",\\\"text\\\":\\\"b'@alansmurray If you care about auto deaths as material to stock prices, why no articles about 1M+\\\\/year deaths from other auto companies?'\\\"}\""
        ],
        [
         "\"{\\\"id_str\\\":652607370921570304,\\\"created_at\\\":\\\"2015-10-09 22:11:36\\\",\\\"text\\\":\\\"b\\\\\\\"Regarding the watch, Jony &amp; his team created a beautiful design, but the functionality isn't compelling yet. By version 3, it will be.\\\\\\\"\\\"}\""
        ],
        [
         "\"{\\\"id_str\\\":652605371857530880,\\\"created_at\\\":\\\"2015-10-09 22:03:40\\\",\\\"text\\\":\\\"b\\\\\\\"Yo, I don't hate Apple. It's a great company with a lot of talented people. I love their products and I'm glad they're doing an EV.\\\\\\\"\\\"}\""
        ],
        [
         "\"{\\\"id_str\\\":652355134454808577,\\\"created_at\\\":\\\"2015-10-09 05:29:18\\\",\\\"text\\\":\\\"b'Peak temp increases due to climate change http:\\\\/\\\\/t.co\\\\/dThGhXd6MT'\\\"}\""
        ],
        [
         "\"{\\\"id_str\\\":650107726509404160,\\\"created_at\\\":\\\"2015-10-03 00:38:55\\\",\\\"text\\\":\\\"b'Mostly accurate and fun movie about Mars. Worth seeing. https:\\\\/\\\\/t.co\\\\/6ujt1DG5j5'\\\"}\""
        ],
        [
         "\"{\\\"id_str\\\":650081625200545792,\\\"created_at\\\":\\\"2015-10-02 22:55:12\\\",\\\"text\\\":\\\"b'@Avron_p you can mount a rack to the roof via suction cups and still have one Falcon door work fine. Guaranteed up to 140 mph.'\\\"}\""
        ],
        [
         "\"{\\\"id_str\\\":650080562556858368,\\\"created_at\\\":\\\"2015-10-02 22:50:58\\\",\\\"text\\\":\\\"b'@stumplahoma @mashable door is larger than opening and acts as an umbrella. Upper interior trim has hydrophobic coating.'\\\"}\""
        ],
        [
         "\"{\\\"id_str\\\":650080098335477761,\\\"created_at\\\":\\\"2015-10-02 22:49:08\\\",\\\"text\\\":\\\"b'@sasatokic @mashable Front doors have a short arc and their interior panels are chamfered back'\\\"}\""
        ],
        [
         "\"{\\\"id_str\\\":650079603122438144,\\\"created_at\\\":\\\"2015-10-02 22:47:09\\\",\\\"text\\\":\\\"b'Model X Bioweapon Defense Mode definitely filters viruses btw, even the small ones. Has hospital operating room level filtering.'\\\"}\""
        ],
        [
         "\"{\\\"id_str\\\":650078752626593793,\\\"created_at\\\":\\\"2015-10-02 22:43:47\\\",\\\"text\\\":\\\"b'@achailleux am def 6\\\\\\\\'2\\\\\\\"'\\\"}\""
        ],
        [
         "\"{\\\"id_str\\\":650076768712437760,\\\"created_at\\\":\\\"2015-10-02 22:35:54\\\",\\\"text\\\":\\\"b\\\\\\\"CNN on how Falcon doors work in tight garages. Above 6 2' ft, my height :), doors work fine. http:\\\\/\\\\/t.co\\\\/zvhyqKGVtR\\\\\\\"\\\"}\""
        ],
        [
         "\"{\\\"id_str\\\":406186792409632769,\\\"created_at\\\":\\\"2013-11-28 22:24:12\\\",\\\"text\\\":\\\"b'15 mins to liftoff http:\\\\/\\\\/t.co\\\\/3jDrHRSPQZ'\\\"}\""
        ],
        [
         "\"{\\\"id_str\\\":405989364322533376,\\\"created_at\\\":\\\"2013-11-28 09:19:42\\\",\\\"text\\\":\\\"b'@lomac92 @WIRED No, almost all fuel\\\\/ox is being reserved for SES satellite to give max chance of success'\\\"}\""
        ],
        [
         "\"{\\\"id_str\\\":405988869868642304,\\\"created_at\\\":\\\"2013-11-28 09:17:44\\\",\\\"text\\\":\\\"b'Model S Owner drives 3121 miles solo from Canada to Mexico http:\\\\/\\\\/t.co\\\\/8G8l1utgS2'\\\"}\""
        ],
        [
         "\"{\\\"id_str\\\":405965445628710912,\\\"created_at\\\":\\\"2013-11-28 07:44:39\\\",\\\"text\\\":\\\"b'Good description of the launch by @WIRED: http:\\\\/\\\\/t.co\\\\/QnLhvviEAn'\\\"}\""
        ],
        [
         "\"{\\\"id_str\\\":405924331358023680,\\\"created_at\\\":\\\"2013-11-28 05:01:16\\\",\\\"text\\\":\\\"b\\\\\\\"Don't actually mean to knock Honda -- their cars are solid -- but the park outside (or yr house might burn down) advice was awesome\\\\\\\"\\\"}\""
        ],
        [
         "\"{\\\"id_str\\\":405922013111676928,\\\"created_at\\\":\\\"2013-11-28 04:52:04\\\",\\\"text\\\":\\\"b'@AdamMKE Model S can seat 5 adults, two kids and has a front trunk for luggage. Might work for you.'\\\"}\""
        ],
        [
         "\"{\\\"id_str\\\":405918568635580416,\\\"created_at\\\":\\\"2013-11-28 04:38:23\\\",\\\"text\\\":\\\"b'...but only if you like your house \\\\\\\"Honda recalls Fit for fire risk, says park it outside http:\\\\/\\\\/t.co\\\\/tLpZ7HBIdV \\\\\\\"'\\\"}\""
        ],
        [
         "\"{\\\"id_str\\\":405910027661496320,\\\"created_at\\\":\\\"2013-11-28 04:04:26\\\",\\\"text\\\":\\\"b'RT @SpaceX: Falcon 9 launch window opens tmrw at 5:39pm EST. Watch LIVE at http:\\\\/\\\\/t.co\\\\/wytY3mnBf1. Happy #Spacegiving! http:\\\\/\\\\/t.co\\\\/leacczWC\\\\\\\\xe2\\\\\\\\x80\\\\\\\\xa6'\\\"}\""
        ],
        [
         "\"{\\\"id_str\\\":405864483404251137,\\\"created_at\\\":\\\"2013-11-28 01:03:28\\\",\\\"text\\\":\\\"b'RT @mgalimany: @TeslaMotors @elonmusk This is what happens when your car is not a #Tesla Model S.\\\\\\\\n https:\\\\/\\\\/t.co\\\\/sVlvoRZINX\\\\\\\\nThis will never \\\\\\\\xe2\\\\\\\\x80\\\\\\\\xa6'\\\"}\""
        ],
        [
         "\"{\\\"id_str\\\":405618648183607296,\\\"created_at\\\":\\\"2013-11-27 08:46:36\\\",\\\"text\\\":\\\"b'RT @williamwinters: Ford issues 4th and 5th recalls for 2013 Escapes spontaneously catching fire. Not in the mainstream media. @elonmusk ht\\\\\\\\xe2\\\\\\\\x80\\\\\\\\xa6'\\\"}\""
        ],
        [
         "\"{\\\"id_str\\\":174700079490412544,\\\"created_at\\\":\\\"2012-02-29 03:38:39\\\",\\\"text\\\":\\\"b'RT @timminchin: A really clear and concise article debunking climate science sceptics. Please read & RT.  http:\\\\/\\\\/t.co\\\\/NmbwbFR1'\\\"}\""
        ],
        [
         "\"{\\\"id_str\\\":174621355436802049,\\\"created_at\\\":\\\"2012-02-28 22:25:50\\\",\\\"text\\\":\\\"b'Falcon 9 and Dragon now vertical on the launch pad, surrounded by 300 ft tall lightning towers http:\\\\/\\\\/t.co\\\\/iERgA2RP'\\\"}\""
        ],
        [
         "\"{\\\"id_str\\\":173531986529497089,\\\"created_at\\\":\\\"2012-02-25 22:17:04\\\",\\\"text\\\":\\\"b'@LooperNor Yes, this will, if all goes well, be the first commercial spaceship to dock with the Space Station. T zero ~ end of April.'\\\"}\""
        ],
        [
         "\"{\\\"id_str\\\":173528867699568641,\\\"created_at\\\":\\\"2012-02-25 22:04:41\\\",\\\"text\\\":\\\"b'Dragon spaceship and Falcon 9 rocket just completed final assembly at Cape Canaveral http:\\\\/\\\\/t.co\\\\/4GrSr3VU'\\\"}\""
        ],
        [
         "\"{\\\"id_str\\\":173476402748854274,\\\"created_at\\\":\\\"2012-02-25 18:36:12\\\",\\\"text\\\":\\\"b'Supporting the drive to get a #PlutoStamp for the @NASA New Horizons mission'\\\"}\""
        ],
        [
         "\"{\\\"id_str\\\":172817923243646976,\\\"created_at\\\":\\\"2012-02-23 22:59:38\\\",\\\"text\\\":\\\"b'RT @brynmooser: Math class at the @artistsforpeace school  http:\\\\/\\\\/t.co\\\\/TsOSngZ3'\\\"}\""
        ],
        [
         "\"{\\\"id_str\\\":172122797852725248,\\\"created_at\\\":\\\"2012-02-22 00:57:28\\\",\\\"text\\\":\\\"b'@NASA launched a rocket into the northern lights http:\\\\/\\\\/t.co\\\\/tR2cSeMV'\\\"}\""
        ],
        [
         "\"{\\\"id_str\\\":171994406587604992,\\\"created_at\\\":\\\"2012-02-21 16:27:16\\\",\\\"text\\\":\\\"b'Iran\\\\\\\\'s nuclear weapons facility is apparently called \\\\\\\"Frodo\\\\\\\". Watch out for Gollum! My precious... http:\\\\/\\\\/t.co\\\\/s1hLZ0vs'\\\"}\""
        ],
        [
         "\"{\\\"id_str\\\":170309322037919744,\\\"created_at\\\":\\\"2012-02-17 00:51:21\\\",\\\"text\\\":\\\"b'Important point highlighted by @kqed: an electric car in California produces only 1\\\\/4 CO2 of gasoline http:\\\\/\\\\/t.co\\\\/xV3eWJ33'\\\"}\""
        ],
        [
         "\"{\\\"id_str\\\":169232412990115840,\\\"created_at\\\":\\\"2012-02-14 01:32:06\\\",\\\"text\\\":\\\"b'Model X review by Jim Motavalli. I think he likes the car. http:\\\\/\\\\/t.co\\\\/aY1nx9FP'\\\"}\""
        ],
        [
         "\"{\\\"id_str\\\":493084094532956160,\\\"created_at\\\":\\\"2014-07-26 17:23:03\\\",\\\"text\\\":\\\"b'On annual camping trip w kids. Trying a place just south of Carmel in California this year.'\\\"}\""
        ],
        [
         "\"{\\\"id_str\\\":491814548760825857,\\\"created_at\\\":\\\"2014-07-23 05:18:20\\\",\\\"text\\\":\\\"b'RT @R_Rojas_Leon: La selfie del monito ... http:\\\\/\\\\/t.co\\\\/2tAJxr5g0r'\\\"}\""
        ],
        [
         "\"{\\\"id_str\\\":491796248148455425,\\\"created_at\\\":\\\"2014-07-23 04:05:37\\\",\\\"text\\\":\\\"b'\\\\\\\\xe2\\\\\\\\x80\\\\\\\\x9c@SpaceX: Soft water landing of Falcon 9 rocket booster. http:\\\\/\\\\/t.co\\\\/VxBqBZhHmO\\\\\\\\n\\\\\\\\nFull update: http:\\\\/\\\\/t.co\\\\/nH8UqOmN9h\\\\\\\\xe2\\\\\\\\x80\\\\\\\\x9d'\\\"}\""
        ],
        [
         "\"{\\\"id_str\\\":490325897820381185,\\\"created_at\\\":\\\"2014-07-19 02:42:58\\\",\\\"text\\\":\\\"b'Looks like body slam, maybe from a self-generated wave'\\\"}\""
        ],
        [
         "\"{\\\"id_str\\\":488719729599578112,\\\"created_at\\\":\\\"2014-07-14 16:20:38\\\",\\\"text\\\":\\\"b'Detailed review of rocket telemetry needed to tell if due to initial splashdown or subsequent tip over and body slam'\\\"}\""
        ],
        [
         "\"{\\\"id_str\\\":488718649515986944,\\\"created_at\\\":\\\"2014-07-14 16:16:20\\\",\\\"text\\\":\\\"b'Rocket booster reentry, landing burn &amp; leg deploy were good, but lost hull integrity right after splashdown (aka kaboom)'\\\"}\""
        ],
        [
         "\"{\\\"id_str\\\":488717037674311682,\\\"created_at\\\":\\\"2014-07-14 16:09:56\\\",\\\"text\\\":\\\"b'Flight 10 of Falcon 9 was good. All six ORBCOMM satellites deployed on target.'\\\"}\""
        ],
        [
         "\"{\\\"id_str\\\":487286689300086784,\\\"created_at\\\":\\\"2014-07-10 17:26:14\\\",\\\"text\\\":\\\"b'@leroytwin @Tesla_Canada A lot of Canadian Superchargers are in work and will start going live in the next month or so'\\\"}\""
        ],
        [
         "\"{\\\"id_str\\\":487279300895191041,\\\"created_at\\\":\\\"2014-07-10 16:56:53\\\",\\\"text\\\":\\\"b'Tesla Superchargers delivered over 1GWh last month. Long distance driving growing exponentially http:\\\\/\\\\/t.co\\\\/vixkd5gkKX'\\\"}\""
        ],
        [
         "\"{\\\"id_str\\\":483979768203726848,\\\"created_at\\\":\\\"2014-07-01 14:25:43\\\",\\\"text\\\":\\\"b'Tesla Model S named top model in perceived quality http:\\\\/\\\\/t.co\\\\/hOhZMIG78u via @USATODAY'\\\"}\""
        ],
        [
         "\"{\\\"id_str\\\":715970424698494978,\\\"created_at\\\":\\\"2016-04-01 18:33:45\\\",\\\"text\\\":\\\"b\\\\\\\"RT @business: Tesla's Model 3 already has 198,000 reservations ...and it totally lives up to the hype https:\\\\/\\\\/t.co\\\\/XPiEEkjhnb https:\\\\/\\\\/t.co\\\\/\\\\\\\\xe2\\\\\\\\x80\\\\\\\\xa6\\\\\\\"\\\"}\""
        ],
        [
         "\"{\\\"id_str\\\":715955186175459332,\\\"created_at\\\":\\\"2016-04-01 17:33:12\\\",\\\"text\\\":\\\"b'Definitely going to need to rethink production planning...'\\\"}\""
        ],
        [
         "\"{\\\"id_str\\\":715952781895426048,\\\"created_at\\\":\\\"2016-04-01 17:23:39\\\",\\\"text\\\":\\\"b'Thought it would slow way down today, but Model 3 order count is now at 198k. Recommend ordering soon, as the wait time is growing rapidly.'\\\"}\""
        ],
        [
         "\"{\\\"id_str\\\":715934657720639488,\\\"created_at\\\":\\\"2016-04-01 16:11:38\\\",\\\"text\\\":\\\"b'Model 3 orders at 180,000 in 24 hours. Selling price w avg option mix prob $42k, so ~$7.5B in a day. Future of electric cars looking bright!'\\\"}\""
        ],
        [
         "\"{\\\"id_str\\\":715776577485807621,\\\"created_at\\\":\\\"2016-04-01 05:43:29\\\",\\\"text\\\":\\\"b'@IndiaToday Will include India-wide Supercharger network'\\\"}\""
        ],
        [
         "\"{\\\"id_str\\\":715774770013409281,\\\"created_at\\\":\\\"2016-04-01 05:36:18\\\",\\\"text\\\":\\\"b'@Oatmeal sure!'\\\"}\""
        ],
        [
         "\"{\\\"id_str\\\":715774390802194432,\\\"created_at\\\":\\\"2016-04-01 05:34:47\\\",\\\"text\\\":\\\"b'@StartUpRabbi Coming in the mail'\\\"}\""
        ],
        [
         "\"{\\\"id_str\\\":715766837590499328,\\\"created_at\\\":\\\"2016-04-01 05:04:47\\\",\\\"text\\\":\\\"b'@redletterdave Hardware in all cars. Autopilot safety features standard. Convenience features optional (like S and X).'\\\"}\""
        ],
        [
         "\"{\\\"id_str\\\":715765978328612870,\\\"created_at\\\":\\\"2016-04-01 05:01:22\\\",\\\"text\\\":\\\"b'@drew Just order the SpaceX option package!'\\\"}\""
        ],
        [
         "\"{\\\"id_str\\\":715765746429784064,\\\"created_at\\\":\\\"2016-04-01 05:00:26\\\",\\\"text\\\":\\\"b\\\\\\\"Thanks for tuning in to the Model 3 unveil Part 1! Part 2 is super next level, but that's for later\\\\\\\\xe2\\\\\\\\x80\\\\\\\\xa6\\\\\\\"\\\"}\""
        ],
        [
         "\"{\\\"id_str\\\":655426038621536256,\\\"created_at\\\":\\\"2015-10-17 16:51:59\\\",\\\"text\\\":\\\"b'RT @MrTeller: I like my car.  When Tesla asked me to review the experience, I did. No ad. Unpaid, just because I wanted to.  .http:\\\\/\\\\/t.co\\\\/x\\\\\\\\xe2\\\\\\\\x80\\\\\\\\xa6'\\\"}\""
        ],
        [
         "\"{\\\"id_str\\\":655256305209184258,\\\"created_at\\\":\\\"2015-10-17 05:37:31\\\",\\\"text\\\":\\\"b'@Meddd__ @aaronpaul_8 Watched the whole series. One of the best tv shows ever.'\\\"}\""
        ],
        [
         "\"{\\\"id_str\\\":655254071058657280,\\\"created_at\\\":\\\"2015-10-17 05:28:39\\\",\\\"text\\\":\\\"b'@aaronpaul_8 um, thanks, I like your work too'\\\"}\""
        ],
        [
         "\"{\\\"id_str\\\":655041756166160384,\\\"created_at\\\":\\\"2015-10-16 15:24:59\\\",\\\"text\\\":\\\"b'RT @EcoWatch: Colbert: I Woke Up Yesterday Morning and My #Tesla Could Drive Itself\\\\\\\\nhttp:\\\\/\\\\/t.co\\\\/cVkPuu4O16 @elonmusk @teslamotors http:\\\\/\\\\/t.\\\\\\\\xe2\\\\\\\\x80\\\\\\\\xa6'\\\"}\""
        ],
        [
         "\"{\\\"id_str\\\":654727508345012224,\\\"created_at\\\":\\\"2015-10-15 18:36:16\\\",\\\"text\\\":\\\"b'RT @TechCrunch: Watch this self-steering Tesla Model S drive itself http:\\\\/\\\\/t.co\\\\/OZDobXUE7D http:\\\\/\\\\/t.co\\\\/i1RHu3SvqH'\\\"}\""
        ],
        [
         "\"{\\\"id_str\\\":654698139249565697,\\\"created_at\\\":\\\"2015-10-15 16:39:34\\\",\\\"text\\\":\\\"b'@aaronpaul_8 sure :)'\\\"}\""
        ],
        [
         "\"{\\\"id_str\\\":654521829789270016,\\\"created_at\\\":\\\"2015-10-15 04:58:59\\\",\\\"text\\\":\\\"b'@elimelechweiss actually works best at night'\\\"}\""
        ],
        [
         "\"{\\\"id_str\\\":654521665305473024,\\\"created_at\\\":\\\"2015-10-15 04:58:20\\\",\\\"text\\\":\\\"b'Review of Model S by @MrTeller http:\\\\/\\\\/t.co\\\\/eF7ICE9ef4'\\\"}\""
        ],
        [
         "\"{\\\"id_str\\\":654493713549291520,\\\"created_at\\\":\\\"2015-10-15 03:07:15\\\",\\\"text\\\":\\\"b\\\\\\\"RT @Jalopnik: Tesla's Autopilot system is awesome and creepy and the sign of a beautiful future http:\\\\/\\\\/t.co\\\\/6rLu6bI1du http:\\\\/\\\\/t.co\\\\/HYVPl6gy\\\\\\\\xe2\\\\\\\\x80\\\\\\\\xa6\\\\\\\"\\\"}\""
        ],
        [
         "\"{\\\"id_str\\\":654409700801310720,\\\"created_at\\\":\\\"2015-10-14 21:33:25\\\",\\\"text\\\":\\\"b'RT @WIRED: Breaking: Tesla just made its cars autonomous, kinda http:\\\\/\\\\/t.co\\\\/1jxVX9k7rO'\\\"}\""
        ],
        [
         "\"{\\\"id_str\\\":657702829398822912,\\\"created_at\\\":\\\"2015-10-23 23:39:08\\\",\\\"text\\\":\\\"b'@shanenickerson Amount of change needed is enormous - like a spinal cord transplant. Would cost less and work better with a new car.'\\\"}\""
        ],
        [
         "\"{\\\"id_str\\\":657686500310700032,\\\"created_at\\\":\\\"2015-10-23 22:34:15\\\",\\\"text\\\":\\\"b'Autopilot 1.01 coming soon: curve speed adaption, controller smoothness, better lane holding on poor roads, improved fleet learning!'\\\"}\""
        ],
        [
         "\"{\\\"id_str\\\":657685372579745793,\\\"created_at\\\":\\\"2015-10-23 22:29:46\\\",\\\"text\\\":\\\"b'Regulatory approvals received, so Autopilot rolling out to all countries! (Excluding Japan, which is still under review)'\\\"}\""
        ],
        [
         "\"{\\\"id_str\\\":657141296050606080,\\\"created_at\\\":\\\"2015-10-22 10:27:48\\\",\\\"text\\\":\\\"b'@JarkkoKuoppala all'\\\"}\""
        ],
        [
         "\"{\\\"id_str\\\":657110887707361280,\\\"created_at\\\":\\\"2015-10-22 08:26:58\\\",\\\"text\\\":\\\"b'@backseatdiver Hoping for Friday release'\\\"}\""
        ],
        [
         "\"{\\\"id_str\\\":657106581893574656,\\\"created_at\\\":\\\"2015-10-22 08:09:52\\\",\\\"text\\\":\\\"b'@elonmusk Good feedback. Will write up a list of software priorities in the coming weeks.'\\\"}\""
        ],
        [
         "\"{\\\"id_str\\\":656973991379378176,\\\"created_at\\\":\\\"2015-10-21 23:23:00\\\",\\\"text\\\":\\\"b'What esthetic and functionality improvements would you like to see in the 7.1 UI overhaul? Or new features entirely?'\\\"}\""
        ],
        [
         "\"{\\\"id_str\\\":656973325172920320,\\\"created_at\\\":\\\"2015-10-21 23:20:21\\\",\\\"text\\\":\\\"b'@sAlmaneei already in Jordan. Rest of states in region next year.'\\\"}\""
        ],
        [
         "\"{\\\"id_str\\\":656973144306094080,\\\"created_at\\\":\\\"2015-10-21 23:19:38\\\",\\\"text\\\":\\\"b'@bonnienorman thanks Bonnie :)'\\\"}\""
        ],
        [
         "\"{\\\"id_str\\\":656972712649359360,\\\"created_at\\\":\\\"2015-10-21 23:17:55\\\",\\\"text\\\":\\\"b'@M4XRodri planning to have a big opening in Mexico City soon and then proceed gradually to central and South America.'\\\"}\""
        ],
        [
         "\"{\\\"id_str\\\":402850950500474881,\\\"created_at\\\":\\\"2013-11-19 17:28:45\\\",\\\"text\\\":\\\"b'Tesla is also extending the Model S warranty to cover any fire damage even if due solely to a driver accident'\\\"}\""
        ],
        [
         "\"{\\\"id_str\\\":402836392566202368,\\\"created_at\\\":\\\"2013-11-19 16:30:54\\\",\\\"text\\\":\\\"b'What makes this incredibly unjust is that the Model S to date has the best safety record of any car on the road (no injuries or deaths ever)'\\\"}\""
        ],
        [
         "\"{\\\"id_str\\\":402811201052090368,\\\"created_at\\\":\\\"2013-11-19 14:50:48\\\",\\\"text\\\":\\\"b'Why does a Tesla fire w no injury get more media headlines than 100,000 gas car fires that kill 100s of people per year?'\\\"}\""
        ],
        [
         "\"{\\\"id_str\\\":402803732632453121,\\\"created_at\\\":\\\"2013-11-19 14:21:08\\\",\\\"text\\\":\\\"b'Mission of Tesla  http:\\\\/\\\\/t.co\\\\/UchbT5NZE3'\\\"}\""
        ],
        [
         "\"{\\\"id_str\\\":400776254082666496,\\\"created_at\\\":\\\"2013-11-14 00:04:39\\\",\\\"text\\\":\\\"b'SuperDraco rocket engine fired at full thrust w a printed Inconel chamber. Used for Dragon escape &amp; landing http:\\\\/\\\\/t.co\\\\/HjWEayLlBN'\\\"}\""
        ],
        [
         "\"{\\\"id_str\\\":400411503742164992,\\\"created_at\\\":\\\"2013-11-12 23:55:16\\\",\\\"text\\\":\\\"b\\\\\\\"In other news, George Clooney reports that his iPhone 1 had a bug back in '07\\\\\\\"\\\"}\""
        ],
        [
         "\"{\\\"id_str\\\":399347799403151360,\\\"created_at\\\":\\\"2013-11-10 01:28:29\\\",\\\"text\\\":\\\"b'Model S owner blogs about TN accident http:\\\\/\\\\/t.co\\\\/93Fz8WEwOU'\\\"}\""
        ],
        [
         "\"{\\\"id_str\\\":396712451305000960,\\\"created_at\\\":\\\"2013-11-02 18:56:33\\\",\\\"text\\\":\\\"b'Thanks Woz! \\\\\\\"@stevewoz: Here to pick up my new car! (at @TeslaMotors w\\\\/ 2 others)\\\\\\\"'\\\"}\""
        ],
        [
         "\"{\\\"id_str\\\":395562607462981633,\\\"created_at\\\":\\\"2013-10-30 14:47:29\\\",\\\"text\\\":\\\"b'Tesla West Coast Supercharger network now energized. Travel from Vancouver to Tijuana in styel! http:\\\\/\\\\/t.co\\\\/gTvV9egg3K'\\\"}\""
        ],
        [
         "\"{\\\"id_str\\\":394220043816296448,\\\"created_at\\\":\\\"2013-10-26 21:52:37\\\",\\\"text\\\":\\\"b'Giant dog topiary in Bilbao http:\\\\/\\\\/t.co\\\\/kHdAMvOEMN'\\\"}\""
        ],
        [
         "\"{\\\"id_str\\\":273485219162648576,\\\"created_at\\\":\\\"2012-11-27 17:55:32\\\",\\\"text\\\":\\\"b'And, yes, I do in fact know that this sounds crazy. That is not lost on me. Nor I do think SpaceX will do this alone.'\\\"}\""
        ],
        [
         "\"{\\\"id_str\\\":273483420468932608,\\\"created_at\\\":\\\"2012-11-27 17:48:23\\\",\\\"text\\\":\\\"b'Millions of people needed for Mars colony, so 80k+ would just be the number moving to Mars per year http:\\\\/\\\\/t.co\\\\/rwMuzVEK'\\\"}\""
        ],
        [
         "\"{\\\"id_str\\\":272518429368541184,\\\"created_at\\\":\\\"2012-11-25 01:53:51\\\",\\\"text\\\":\\\"b'Short vid of the recent @SpaceX mission to the Intl Space Station http:\\\\/\\\\/t.co\\\\/Qc963d8B'\\\"}\""
        ],
        [
         "\"{\\\"id_str\\\":272129332565123072,\\\"created_at\\\":\\\"2012-11-24 00:07:43\\\",\\\"text\\\":\\\"b'@cthorm SS Heart of Gold powered by the Infinite Improbability Drive!'\\\"}\""
        ],
        [
         "\"{\\\"id_str\\\":272063241780338688,\\\"created_at\\\":\\\"2012-11-23 19:45:06\\\",\\\"text\\\":\\\"b'My talk for the Royal Aeronautical Society is now online. This gets a little more technical. http:\\\\/\\\\/t.co\\\\/ZMbkc3jh'\\\"}\""
        ],
        [
         "\"{\\\"id_str\\\":271814339969826817,\\\"created_at\\\":\\\"2012-11-23 03:16:03\\\",\\\"text\\\":\\\"b'Liam Neeson\\\\\\\\'s \\\\\\\"Life\\\\\\\\'s Too Short\\\\\\\" sketch is super funny http:\\\\/\\\\/t.co\\\\/nQL7wOx3'\\\"}\""
        ],
        [
         "\"{\\\"id_str\\\":271717168645824512,\\\"created_at\\\":\\\"2012-11-22 20:49:55\\\",\\\"text\\\":\\\"b\\\\\\\"RT @neokoenig: @elonmusk if anyone has issues accessing the video, I've mirrored it on YouTube here: http:\\\\/\\\\/t.co\\\\/yWskR9kw\\\\\\\"\\\"}\""
        ],
        [
         "\"{\\\"id_str\\\":271652314744487936,\\\"created_at\\\":\\\"2012-11-22 16:32:13\\\",\\\"text\\\":\\\"b'On the plus side...\\\\\\\\xe2\\\\\\\\x80\\\\\\\\x9c@newscientist: #Climate change has a silver lining: supersized sweet potatoes http:\\\\/\\\\/t.co\\\\/zHMYIbL3\\\\\\\\xe2\\\\\\\\x80\\\\\\\\x9d'\\\"}\""
        ],
        [
         "\"{\\\"id_str\\\":271642966442000385,\\\"created_at\\\":\\\"2012-11-22 15:55:04\\\",\\\"text\\\":\\\"b'Gave a talk on energy and transport at Oxford Univ http:\\\\/\\\\/t.co\\\\/kbvJf5LO'\\\"}\""
        ],
        [
         "\"{\\\"id_str\\\":271119275673145344,\\\"created_at\\\":\\\"2012-11-21 05:14:07\\\",\\\"text\\\":\\\"b'@Thomas_Tregner Exactly!'\\\"}\""
        ],
        [
         "\"{\\\"id_str\\\":331490556574326785,\\\"created_at\\\":\\\"2013-05-06 19:28:02\\\",\\\"text\\\":\\\"b'Anyone interested in doing ultra hardcore vehicle engineering at Tesla, please apply!'\\\"}\""
        ],
        [
         "\"{\\\"id_str\\\":331489911842689025,\\\"created_at\\\":\\\"2013-05-06 19:25:28\\\",\\\"text\\\":\\\"b'Chris Porritt from Aston Martin just joined as head of vehicle engineering at Tesla http:\\\\/\\\\/t.co\\\\/MNUIWDxoXt'\\\"}\""
        ],
        [
         "\"{\\\"id_str\\\":331486802462531584,\\\"created_at\\\":\\\"2013-05-06 19:13:07\\\",\\\"text\\\":\\\"b'@bdcs Yup, it is super far. Moon is basically in our back yard relative to Mars.'\\\"}\""
        ],
        [
         "\"{\\\"id_str\\\":331082832187363329,\\\"created_at\\\":\\\"2013-05-05 16:27:53\\\",\\\"text\\\":\\\"b'@nirdthebird Definitely a lot of potential for geothermal, but depends on well depth. Too expensive in most places.'\\\"}\""
        ],
        [
         "\"{\\\"id_str\\\":330884627927560192,\\\"created_at\\\":\\\"2013-05-05 03:20:17\\\",\\\"text\\\":\\\"b'@DetlefKroeze Yeah, that probably makes sense.'\\\"}\""
        ],
        [
         "\"{\\\"id_str\\\":330877283793530880,\\\"created_at\\\":\\\"2013-05-05 02:51:06\\\",\\\"text\\\":\\\"b'@DouglasBullard @teslamotors Most people have never heard of Nikola Tesla. That will hopefully change over time.'\\\"}\""
        ],
        [
         "\"{\\\"id_str\\\":330869907640184832,\\\"created_at\\\":\\\"2013-05-05 02:21:47\\\",\\\"text\\\":\\\"b'@flyguynscc @teslamotors yes, that has been the goal from the beginning'\\\"}\""
        ],
        [
         "\"{\\\"id_str\\\":330708114854793217,\\\"created_at\\\":\\\"2013-05-04 15:38:53\\\",\\\"text\\\":\\\"b'@fink_justin It can definitely strain relationships, but I loved doing my first company with my brother'\\\"}\""
        ],
        [
         "\"{\\\"id_str\\\":330707889729712131,\\\"created_at\\\":\\\"2013-05-04 15:37:59\\\",\\\"text\\\":\\\"b'@Vangsgutane Norway rocks!'\\\"}\""
        ],
        [
         "\"{\\\"id_str\\\":330572086668046336,\\\"created_at\\\":\\\"2013-05-04 06:38:21\\\",\\\"text\\\":\\\"b'@WehbyJammin Earnings call next week, then Supercharger week after and then... the mystery announcement\\\\/demonstration :)'\\\"}\""
        ],
        [
         "\"{\\\"id_str\\\":718607811958214656,\\\"created_at\\\":\\\"2016-04-09 01:13:48\\\",\\\"text\\\":\\\"b'RT @SpaceX: Onboard view of landing in high winds https:\\\\/\\\\/t.co\\\\/FedRzjYYyQ'\\\"}\""
        ],
        [
         "\"{\\\"id_str\\\":718598761832968192,\\\"created_at\\\":\\\"2016-04-09 00:37:50\\\",\\\"text\\\":\\\"b'@levie Tickets to orbital hotels, the moon and Mars will be a lot less than people think.'\\\"}\""
        ],
        [
         "\"{\\\"id_str\\\":718598132888702976,\\\"created_at\\\":\\\"2016-04-09 00:35:20\\\",\\\"text\\\":\\\"b'Just wanted to write a note of appreciation for all those who have supported Tesla, SpaceX &amp; SolarCity over the years. Thank you.'\\\"}\""
        ],
        [
         "\"{\\\"id_str\\\":718580558180261888,\\\"created_at\\\":\\\"2016-04-08 23:25:30\\\",\\\"text\\\":\\\"b'@POTUS Thanks on behalf of an amazing team at SpaceX!'\\\"}\""
        ],
        [
         "\"{\\\"id_str\\\":718571641949650944,\\\"created_at\\\":\\\"2016-04-08 22:50:04\\\",\\\"text\\\":\\\"b'@Jon_Favreau @SpaceX Thanks!'\\\"}\""
        ],
        [
         "\"{\\\"id_str\\\":718548224441774082,\\\"created_at\\\":\\\"2016-04-08 21:17:01\\\",\\\"text\\\":\\\"b'@NASA @sgvcrime @SpaceX @Space_Station Thanks for your support! Looking forward to delivering the goods for you.'\\\"}\""
        ],
        [
         "\"{\\\"id_str\\\":718546544966955008,\\\"created_at\\\":\\\"2016-04-08 21:10:20\\\",\\\"text\\\":\\\"b'RT @SpaceX: 1st stage has landed on Of Course I Still Love You https:\\\\/\\\\/t.co\\\\/tdni53IviI'\\\"}\""
        ],
        [
         "\"{\\\"id_str\\\":718532568312713216,\\\"created_at\\\":\\\"2016-04-08 20:14:48\\\",\\\"text\\\":\\\"b'RT @SpaceX: Propellant load underway for Falcon 9. Launch webcast will go live in about 10 minutes https:\\\\/\\\\/t.co\\\\/tdni53IviI'\\\"}\""
        ],
        [
         "\"{\\\"id_str\\\":718532302154833920,\\\"created_at\\\":\\\"2016-04-08 20:13:45\\\",\\\"text\\\":\\\"b'Screen cap from the stern cam of droneship \\\\\\\"Of Course I Still Love You\\\\\\\" https:\\\\/\\\\/t.co\\\\/4rGOJMTzVn'\\\"}\""
        ],
        [
         "\"{\\\"id_str\\\":718522065322532865,\\\"created_at\\\":\\\"2016-04-08 19:33:04\\\",\\\"text\\\":\\\"b'@arstechnica Reasons for ocean landing are technical, not economic. Orbit requires extreme horizontal velocity. Getting to space needs none.'\\\"}\""
        ],
        [
         "\"{\\\"id_str\\\":716745282394976257,\\\"created_at\\\":\\\"2016-04-03 21:52:46\\\",\\\"text\\\":\\\"b'Model 3 will be RWD, with dual motor AWD optional. Even RWD will have great traction on ice due to fast torque response of Tesla drivetrain.'\\\"}\""
        ],
        [
         "\"{\\\"id_str\\\":716743909750218752,\\\"created_at\\\":\\\"2016-04-03 21:47:19\\\",\\\"text\\\":\\\"b'@GolfsHard yes'\\\"}\""
        ],
        [
         "\"{\\\"id_str\\\":716743848580497409,\\\"created_at\\\":\\\"2016-04-03 21:47:04\\\",\\\"text\\\":\\\"b'@Zooropa88 @TeslaMotors Superchargers and service centers will cover all of Italy later this year'\\\"}\""
        ],
        [
         "\"{\\\"id_str\\\":716743321624903680,\\\"created_at\\\":\\\"2016-04-03 21:44:58\\\",\\\"text\\\":\\\"b'@_Only_Hawk @MICHAELSD01 @TechGrlTweeter definitely'\\\"}\""
        ],
        [
         "\"{\\\"id_str\\\":716742777468555264,\\\"created_at\\\":\\\"2016-04-03 21:42:49\\\",\\\"text\\\":\\\"b'@Alandbru @TeslaMotors should be addressed this year'\\\"}\""
        ],
        [
         "\"{\\\"id_str\\\":716731407310196736,\\\"created_at\\\":\\\"2016-04-03 20:57:38\\\",\\\"text\\\":\\\"b'@CmaxVs Only way to get enough rear passenger headroom was to move the rear roof cross-car support beam. A bike will still fit no problem.'\\\"}\""
        ],
        [
         "\"{\\\"id_str\\\":716730641585340416,\\\"created_at\\\":\\\"2016-04-03 20:54:35\\\",\\\"text\\\":\\\"b\\\\\\\"@iKrivetko that's not the real steering system\\\\\\\"\\\"}\""
        ],
        [
         "\"{\\\"id_str\\\":716730009394647040,\\\"created_at\\\":\\\"2016-04-03 20:52:05\\\",\\\"text\\\":\\\"b'@B_Rans yes. Will easily fit two child seats. Three if you buy slim seats.'\\\"}\""
        ],
        [
         "\"{\\\"id_str\\\":716729841362407424,\\\"created_at\\\":\\\"2016-04-03 20:51:25\\\",\\\"text\\\":\\\"b'@gerardomarina Some tweaking underway'\\\"}\""
        ],
        [
         "\"{\\\"id_str\\\":716729420078133248,\\\"created_at\\\":\\\"2016-04-03 20:49:44\\\",\\\"text\\\":\\\"b'@HBL_Cosmin Wait until you see the real steering controls and system for the 3. It feels like a spaceship.'\\\"}\""
        ],
        [
         "\"{\\\"id_str\\\":828284048103579651,\\\"created_at\\\":\\\"2017-02-05 16:48:00\\\",\\\"text\\\":\\\"b'@humplik The remedy for that is changing the law'\\\"}\""
        ],
        [
         "\"{\\\"id_str\\\":828282768559849473,\\\"created_at\\\":\\\"2017-02-05 16:42:55\\\",\\\"text\\\":\\\"b\\\\\\\"@CallumK24 Ok, but what's up the wigs?\\\\\\\"\\\"}\""
        ],
        [
         "\"{\\\"id_str\\\":828282648711802881,\\\"created_at\\\":\\\"2017-02-05 16:42:26\\\",\\\"text\\\":\\\"b\\\\\\\"@iLexomat There are many good legal systems on par with US. Just don't know any that are better.\\\\\\\"\\\"}\""
        ],
        [
         "\"{\\\"id_str\\\":828281953455579136,\\\"created_at\\\":\\\"2017-02-05 16:39:41\\\",\\\"text\\\":\\\"b'@Biesseman True!'\\\"}\""
        ],
        [
         "\"{\\\"id_str\\\":828280866451374085,\\\"created_at\\\":\\\"2017-02-05 16:35:21\\\",\\\"text\\\":\\\"b\\\\\\\"Many in America don't realize how proud they should be of the legal system. Not perfect, but nowhere is the cause of justice better served.\\\\\\\"\\\"}\""
        ],
        [
         "\"{\\\"id_str\\\":828279118944989185,\\\"created_at\\\":\\\"2017-02-05 16:28:25\\\",\\\"text\\\":\\\"b'RT @TeslaMotors: Honored to receive Best Car Award for the third year in a row in Germany. Thank you to all 124,000 of you who voted! https\\\\\\\\xe2\\\\\\\\x80\\\\\\\\xa6'\\\"}\""
        ],
        [
         "\"{\\\"id_str\\\":828018446873006080,\\\"created_at\\\":\\\"2017-02-04 23:12:36\\\",\\\"text\\\":\\\"b'Walking down the street and saw this https:\\\\/\\\\/t.co\\\\/Mpv5j6088K'\\\"}\""
        ],
        [
         "\"{\\\"id_str\\\":828004976228188160,\\\"created_at\\\":\\\"2017-02-04 22:19:04\\\",\\\"text\\\":\\\"b'@ChrisJCav Maybe my favorite mug ever'\\\"}\""
        ],
        [
         "\"{\\\"id_str\\\":828004231101706241,\\\"created_at\\\":\\\"2017-02-04 22:16:06\\\",\\\"text\\\":\\\"b'@nintendomaniac @alext4627 I wish!'\\\"}\""
        ],
        [
         "\"{\\\"id_str\\\":828002410811494400,\\\"created_at\\\":\\\"2017-02-04 22:08:52\\\",\\\"text\\\":\\\"b\\\\\\\"@OldManRiver1800 Then so be it. I'd rather do what I believe is right, than do what appears right simply to avoid criticism.\\\\\\\"\\\"}\""
        ],
        [
         "\"{\\\"id_str\\\":794219484621832192,\\\"created_at\\\":\\\"2016-11-03 16:47:35\\\",\\\"text\\\":\\\"b'@brainwipe There would def be millions of agents simultaneously doing a Monte Carlo sim &amp; combining the results to build a map of weaknesses'\\\"}\""
        ],
        [
         "\"{\\\"id_str\\\":794201703922810880,\\\"created_at\\\":\\\"2016-11-03 15:36:56\\\",\\\"text\\\":\\\"b'@ClintonKeith good chance'\\\"}\""
        ],
        [
         "\"{\\\"id_str\\\":794200368804544512,\\\"created_at\\\":\\\"2016-11-03 15:31:38\\\",\\\"text\\\":\\\"b'Only a matter of time before advanced AI is used to do this. Internet is particularly susceptible to a gradient des\\\\\\\\xe2\\\\\\\\x80\\\\\\\\xa6 https:\\\\/\\\\/t.co\\\\/JCgtjr1Nab'\\\"}\""
        ],
        [
         "\"{\\\"id_str\\\":793710619933315072,\\\"created_at\\\":\\\"2016-11-02 07:05:32\\\",\\\"text\\\":\\\"b'@ropiko yes'\\\"}\""
        ],
        [
         "\"{\\\"id_str\\\":793709350950871040,\\\"created_at\\\":\\\"2016-11-02 07:00:30\\\",\\\"text\\\":\\\"b'RT @TeslaMotors: Additional information on a combined Tesla &amp; SolarCity https:\\\\/\\\\/t.co\\\\/dSxGtDI6Lp'\\\"}\""
        ],
        [
         "\"{\\\"id_str\\\":792220862648766466,\\\"created_at\\\":\\\"2016-10-29 04:25:47\\\",\\\"text\\\":\\\"b'@vicentes yes'\\\"}\""
        ],
        [
         "\"{\\\"id_str\\\":792220517654597633,\\\"created_at\\\":\\\"2016-10-29 04:24:24\\\",\\\"text\\\":\\\"b'@BobaFaux strongly net positive'\\\"}\""
        ],
        [
         "\"{\\\"id_str\\\":792218248917811204,\\\"created_at\\\":\\\"2016-10-29 04:15:23\\\",\\\"text\\\":\\\"b'Solar glass tiles can also incorporate heating elements, like rear defroster on a car, to clear roof of snow and keep generating energy'\\\"}\""
        ],
        [
         "\"{\\\"id_str\\\":792217704757284864,\\\"created_at\\\":\\\"2016-10-29 04:13:14\\\",\\\"text\\\":\\\"b'@HipStreeet yes'\\\"}\""
        ],
        [
         "\"{\\\"id_str\\\":792217344684597248,\\\"created_at\\\":\\\"2016-10-29 04:11:48\\\",\\\"text\\\":\\\"b'RT @TeslaMotors: Solar roof glass tile vs. conventional roof tile https:\\\\/\\\\/t.co\\\\/AnGWJ07jub'\\\"}\""
        ],
        [
         "\"{\\\"id_str\\\":679145544673923072,\\\"created_at\\\":\\\"2015-12-22 03:44:50\\\",\\\"text\\\":\\\"b'Live video from LZ-1 https:\\\\/\\\\/t.co\\\\/Ve6gEXfOdh'\\\"}\""
        ],
        [
         "\"{\\\"id_str\\\":679142215981993984,\\\"created_at\\\":\\\"2015-12-22 03:31:36\\\",\\\"text\\\":\\\"b'Falcon 9 standing on LZ-1 at Cape Canaveral https:\\\\/\\\\/t.co\\\\/RZdfcH0exW'\\\"}\""
        ],
        [
         "\"{\\\"id_str\\\":679138271084064768,\\\"created_at\\\":\\\"2015-12-22 03:15:56\\\",\\\"text\\\":\\\"b'@morganpage thanks!'\\\"}\""
        ],
        [
         "\"{\\\"id_str\\\":679137936416329728,\\\"created_at\\\":\\\"2015-12-22 03:14:36\\\",\\\"text\\\":\\\"b'There and back again https:\\\\/\\\\/t.co\\\\/Ll7wg2hL1G'\\\"}\""
        ],
        [
         "\"{\\\"id_str\\\":679137515543097345,\\\"created_at\\\":\\\"2015-12-22 03:12:56\\\",\\\"text\\\":\\\"b'@Jon_Favreau Thanks Jon!'\\\"}\""
        ],
        [
         "\"{\\\"id_str\\\":679127406813188097,\\\"created_at\\\":\\\"2015-12-22 02:32:46\\\",\\\"text\\\":\\\"b'11 satellites deployed to target orbit and Falcon has landed back at Cape Canaveral. Headed to LZ-1. Welcome back, baby!'\\\"}\""
        ],
        [
         "\"{\\\"id_str\\\":679110356224991232,\\\"created_at\\\":\\\"2015-12-22 01:25:00\\\",\\\"text\\\":\\\"b'Background on the launch https:\\\\/\\\\/t.co\\\\/1SkttU684X'\\\"}\""
        ],
        [
         "\"{\\\"id_str\\\":678732298532085761,\\\"created_at\\\":\\\"2015-12-21 00:22:44\\\",\\\"text\\\":\\\"b'Launch &amp; landing can be seen on the https:\\\\/\\\\/t.co\\\\/bDd3GxQXMC webcast or in person from Cape Canaveral public causeway at 8:33pm local tmrw'\\\"}\""
        ],
        [
         "\"{\\\"id_str\\\":678679357729193985,\\\"created_at\\\":\\\"2015-12-20 20:52:22\\\",\\\"text\\\":\\\"b\\\\\\\"RT @ORBCOMM_Inc: New photo of @SpaceX #Falcon9 in advance of tonight's ORBCOMM #OG2 launch. She's a beauty. #SpaceX https:\\\\/\\\\/t.co\\\\/cUhCgGieiP\\\\\\\"\\\"}\""
        ],
        [
         "\"{\\\"id_str\\\":678679083782377472,\\\"created_at\\\":\\\"2015-12-20 20:51:17\\\",\\\"text\\\":\\\"b'Just reviewed mission params w SpaceX team. Monte Carlo runs show tmrw night has a 10% higher chance of a good landing. Punting 24 hrs.'\\\"}\""
        ],
        [
         "\"{\\\"id_str\\\":780423473961115649,\\\"created_at\\\":\\\"2016-09-26 15:07:10\\\",\\\"text\\\":\\\"b'@huntster1701 yes'\\\"}\""
        ],
        [
         "\"{\\\"id_str\\\":780296159315173376,\\\"created_at\\\":\\\"2016-09-26 06:41:16\\\",\\\"text\\\":\\\"b'@DavidKYoon yes'\\\"}\""
        ],
        [
         "\"{\\\"id_str\\\":780296017254023170,\\\"created_at\\\":\\\"2016-09-26 06:40:42\\\",\\\"text\\\":\\\"b'@williamwinters @rocketrepreneur pretty close'\\\"}\""
        ],
        [
         "\"{\\\"id_str\\\":780291118080462848,\\\"created_at\\\":\\\"2016-09-26 06:21:14\\\",\\\"text\\\":\\\"b'@rocketrepreneur 382s is with a 150 area ratio vacuum (or Mars ambient pressure) nozzle. Will go over specs for both versions on Tues.'\\\"}\""
        ],
        [
         "\"{\\\"id_str\\\":780289045238657024,\\\"created_at\\\":\\\"2016-09-26 06:13:00\\\",\\\"text\\\":\\\"b'Chamber pressure is almost 3X Merlin, so engine is about the same size for a given area ratio'\\\"}\""
        ],
        [
         "\"{\\\"id_str\\\":780280440401764353,\\\"created_at\\\":\\\"2016-09-26 05:38:48\\\",\\\"text\\\":\\\"b'Production Raptor goal is specific impulse of 382 seconds and thrust of 3 MN (~310 metric tons) at 300 bar'\\\"}\""
        ],
        [
         "\"{\\\"id_str\\\":780278836860628992,\\\"created_at\\\":\\\"2016-09-26 05:32:26\\\",\\\"text\\\":\\\"b'Mach diamonds https:\\\\/\\\\/t.co\\\\/TCX7ZGFnN0'\\\"}\""
        ],
        [
         "\"{\\\"id_str\\\":780275236922994688,\\\"created_at\\\":\\\"2016-09-26 05:18:07\\\",\\\"text\\\":\\\"b'SpaceX propulsion just achieved first firing of the Raptor interplanetary transport engine https:\\\\/\\\\/t.co\\\\/vRleyJvBkx'\\\"}\""
        ],
        [
         "\"{\\\"id_str\\\":779461663141474308,\\\"created_at\\\":\\\"2016-09-23 23:25:16\\\",\\\"text\\\":\\\"b'Good Forbes article on Tesla\\\\/SolarCity merger https:\\\\/\\\\/t.co\\\\/guNh5q2zrl'\\\"}\""
        ],
        [
         "\"{\\\"id_str\\\":779459518560215041,\\\"created_at\\\":\\\"2016-09-23 23:16:45\\\",\\\"text\\\":\\\"b'RT @Hyperloop: One more week to apply to our second student Hyperloop competition https:\\\\/\\\\/t.co\\\\/ZQHjHtkuAj https:\\\\/\\\\/t.co\\\\/iKI7GXut8K'\\\"}\""
        ],
        [
         "\"{\\\"id_str\\\":697682665919516672,\\\"created_at\\\":\\\"2016-02-11 07:24:44\\\",\\\"text\\\":\\\"b'@MysteryGuitarM yes'\\\"}\""
        ],
        [
         "\"{\\\"id_str\\\":697679828468641792,\\\"created_at\\\":\\\"2016-02-11 07:13:28\\\",\\\"text\\\":\\\"b'No signature series for Model 3. Same reservation amount for all.'\\\"}\""
        ],
        [
         "\"{\\\"id_str\\\":697679434996850688,\\\"created_at\\\":\\\"2016-02-11 07:11:54\\\",\\\"text\\\":\\\"b'@garethseneque global'\\\"}\""
        ],
        [
         "\"{\\\"id_str\\\":697678962588188672,\\\"created_at\\\":\\\"2016-02-11 07:10:01\\\",\\\"text\\\":\\\"b'Model 3 reservations ($1000 down) will be accepted in Tesla stores on March 31 and online April 1'\\\"}\""
        ],
        [
         "\"{\\\"id_str\\\":697674277131153408,\\\"created_at\\\":\\\"2016-02-11 06:51:24\\\",\\\"text\\\":\\\"b'@ErikRoesegg good point'\\\"}\""
        ],
        [
         "\"{\\\"id_str\\\":697341715712086016,\\\"created_at\\\":\\\"2016-02-10 08:49:55\\\",\\\"text\\\":\\\"b'Should mention that Tesla Motors itself had nothing to do with the short movie. This was completely independent.'\\\"}\""
        ],
        [
         "\"{\\\"id_str\\\":697331144417619968,\\\"created_at\\\":\\\"2016-02-10 08:07:55\\\",\\\"text\\\":\\\"b'Love this Tesla video made by https:\\\\/\\\\/t.co\\\\/bwKne0mZUh'\\\"}\""
        ],
        [
         "\"{\\\"id_str\\\":696847681654685696,\\\"created_at\\\":\\\"2016-02-09 00:06:48\\\",\\\"text\\\":\\\"b'RT @TeslaMotors: Why Summon enhances your safety and convenience https:\\\\/\\\\/t.co\\\\/ZQZ5kQdSgD https:\\\\/\\\\/t.co\\\\/7tBoBQ1uBL'\\\"}\""
        ],
        [
         "\"{\\\"id_str\\\":695666033676328960,\\\"created_at\\\":\\\"2016-02-05 17:51:21\\\",\\\"text\\\":\\\"b'My job moonlighting as a police officer in Brazil is no longer secret\\\\\\\\nhttps:\\\\/\\\\/t.co\\\\/QBTQYMpAF9'\\\"}\""
        ],
        [
         "\"{\\\"id_str\\\":694802955170553861,\\\"created_at\\\":\\\"2016-02-03 08:41:47\\\",\\\"text\\\":\\\"b'Must be a slow news day if denying service to a super rude customer gets this much attention'\\\"}\""
        ],
        [
         "\"{\\\"id_str\\\":720504138451283968,\\\"created_at\\\":\\\"2016-04-14 06:49:07\\\",\\\"text\\\":\\\"b'Great video history of Falcon 9 by Kinematic https:\\\\/\\\\/t.co\\\\/EeGPVW7kq2'\\\"}\""
        ],
        [
         "\"{\\\"id_str\\\":719780850338955265,\\\"created_at\\\":\\\"2016-04-12 06:55:02\\\",\\\"text\\\":\\\"b'RT @SpaceX: Falcon 9 rocket back at port https:\\\\/\\\\/t.co\\\\/ysO9Q4vBXx https:\\\\/\\\\/t.co\\\\/1XKazWK3Xp'\\\"}\""
        ],
        [
         "\"{\\\"id_str\\\":719584703196504064,\\\"created_at\\\":\\\"2016-04-11 17:55:37\\\",\\\"text\\\":\\\"b'@lonelysandwich needs latest update'\\\"}\""
        ],
        [
         "\"{\\\"id_str\\\":719571133389938688,\\\"created_at\\\":\\\"2016-04-11 17:01:41\\\",\\\"text\\\":\\\"b'Activate autopilot 4X in quick succession for psychedelic cowbell road. And, yes, we are adding more cowbell soon.'\\\"}\""
        ],
        [
         "\"{\\\"id_str\\\":719429837157347328,\\\"created_at\\\":\\\"2016-04-11 07:40:14\\\",\\\"text\\\":\\\"b\\\\\\\"@drew @SpaceX Not from us, but it's awesome\\\\\\\"\\\"}\""
        ],
        [
         "\"{\\\"id_str\\\":718982116667600896,\\\"created_at\\\":\\\"2016-04-10 02:01:09\\\",\\\"text\\\":\\\"b'@thelonelyisland Well, I thought TLI might be upset about using their material without permission. Apparently not :)'\\\"}\""
        ],
        [
         "\"{\\\"id_str\\\":718905750374916096,\\\"created_at\\\":\\\"2016-04-09 20:57:42\\\",\\\"text\\\":\\\"b'RT @SpaceX: More launch and landing photos here https:\\\\/\\\\/t.co\\\\/vn4S8bV3x3 https:\\\\/\\\\/t.co\\\\/PvlU50ZJvh'\\\"}\""
        ],
        [
         "\"{\\\"id_str\\\":718865990373625857,\\\"created_at\\\":\\\"2016-04-09 18:19:42\\\",\\\"text\\\":\\\"b'@TheHackersNews @SpaceX Thanks'\\\"}\""
        ],
        [
         "\"{\\\"id_str\\\":718686042434342912,\\\"created_at\\\":\\\"2016-04-09 06:24:39\\\",\\\"text\\\":\\\"b'@rjcc yes'\\\"}\""
        ],
        [
         "\"{\\\"id_str\\\":718682216876802048,\\\"created_at\\\":\\\"2016-04-09 06:09:27\\\",\\\"text\\\":\\\"b'RT @SpaceX: 4K footage from chase plane https:\\\\/\\\\/t.co\\\\/ZtdZHadUos'\\\"}\""
        ],
        [
         "\"{\\\"id_str\\\":777027622924681216,\\\"created_at\\\":\\\"2016-09-17 06:13:16\\\",\\\"text\\\":\\\"b\\\\\\\"@JonasPolsky @schellgames that's a great one\\\\\\\"\\\"}\""
        ],
        [
         "\"{\\\"id_str\\\":776971939277438976,\\\"created_at\\\":\\\"2016-09-17 02:32:00\\\",\\\"text\\\":\\\"b'@andyzalk sounds like the right name for the rocket booster'\\\"}\""
        ],
        [
         "\"{\\\"id_str\\\":776960194852958208,\\\"created_at\\\":\\\"2016-09-17 01:45:20\\\",\\\"text\\\":\\\"b'@LarryMasters778 That is my favorite fictional spaceship. Powered by improbability!'\\\"}\""
        ],
        [
         "\"{\\\"id_str\\\":776959933120000000,\\\"created_at\\\":\\\"2016-09-17 01:44:17\\\",\\\"text\\\":\\\"b'@TheMikeBartley yeah!'\\\"}\""
        ],
        [
         "\"{\\\"id_str\\\":776959734104469504,\\\"created_at\\\":\\\"2016-09-17 01:43:30\\\",\\\"text\\\":\\\"b\\\\\\\"Maybe Ultimate Spaceship, Version 2? Mostly because it is not the ultimate and there isn't a version 1.\\\\\\\"\\\"}\""
        ],
        [
         "\"{\\\"id_str\\\":776957948928991232,\\\"created_at\\\":\\\"2016-09-17 01:36:24\\\",\\\"text\\\":\\\"b'I love the suggestions!'\\\"}\""
        ],
        [
         "\"{\\\"id_str\\\":776956202936782850,\\\"created_at\\\":\\\"2016-09-17 01:29:28\\\",\\\"text\\\":\\\"b'@kzmakino sounds about right'\\\"}\""
        ],
        [
         "\"{\\\"id_str\\\":776939304140414976,\\\"created_at\\\":\\\"2016-09-17 00:22:19\\\",\\\"text\\\":\\\"b'Turns out MCT can go well beyond Mars, so will need a new name\\\\\\\\xe2\\\\\\\\x80\\\\\\\\xa6'\\\"}\""
        ],
        [
         "\"{\\\"id_str\\\":776896014905061376,\\\"created_at\\\":\\\"2016-09-16 21:30:18\\\",\\\"text\\\":\\\"b'@asunshinegreene yes'\\\"}\""
        ],
        [
         "\"{\\\"id_str\\\":776827475925934081,\\\"created_at\\\":\\\"2016-09-16 16:57:57\\\",\\\"text\\\":\\\"b\\\\\\\"@danielringdahl @P100D won't affect performance\\\\\\\"\\\"}\""
        ]
       ],
       "datasetInfos": [],
       "dbfsResultPath": null,
       "isJsonSchema": true,
       "metadata": {
        "createTempViewForImplicitDf": true,
        "dataframeName": "_sqldf",
        "executionCount": 23
       },
       "overflow": false,
       "plotOptions": {
        "customPlotOptions": {},
        "displayType": "table",
        "pivotAggregation": null,
        "pivotColumns": null,
        "xColumns": null,
        "yColumns": null
       },
       "removedWidgets": [],
       "schema": [
        {
         "metadata": "{}",
         "name": "value_text",
         "type": "\"string\""
        }
       ],
       "type": "table"
      }
     },
     "output_type": "display_data"
    }
   ],
   "source": [
    "%sql\n",
    "SELECT\n",
    "  value_text\n",
    "FROM\n",
    "  hive_metastore.default.tweets;"
   ]
  },
  {
   "cell_type": "code",
   "execution_count": 0,
   "metadata": {
    "application/vnd.databricks.v1+cell": {
     "cellMetadata": {
      "byteLimit": 2048000,
      "rowLimit": 10000
     },
     "inputWidgets": {},
     "nuid": "f473a6e2-a0c6-4750-b20d-7bb809a6e552",
     "showTitle": false,
     "title": ""
    }
   },
   "outputs": [],
   "source": [
    "from pyspark.sql.functions import (\n",
    "    col,\n",
    "    current_timestamp,\n",
    "    from_json,\n",
    "    cast,\n",
    "    lit,\n",
    "    from_unixtime,\n",
    "    to_timestamp,\n",
    "    sum,\n",
    "    avg,\n",
    "    when,\n",
    "    count,\n",
    "    round,\n",
    "    max,\n",
    "    explode,\n",
    "    regexp_replace,\n",
    "    left,\n",
    "    right,\n",
    "    expr\n",
    ")\n",
    "from pyspark.sql.types import (\n",
    "    StructField,\n",
    "    StructType,\n",
    "    IntegerType,\n",
    "    StringType,\n",
    "    DoubleType,\n",
    "    LongType,\n",
    "    TimestampType,\n",
    ")\n",
    "\n",
    "tweets_schema = StructType(\n",
    "    fields=[\n",
    "        StructField(\"id_str\", StringType(), True),\n",
    "        StructField(\"created_at\", StringType(), True),\n",
    "        StructField(\"text\", StringType(), True),\n",
    "    ]\n",
    ")"
   ]
  },
  {
   "cell_type": "code",
   "execution_count": 0,
   "metadata": {
    "application/vnd.databricks.v1+cell": {
     "cellMetadata": {
      "byteLimit": 2048000,
      "rowLimit": 10000
     },
     "inputWidgets": {},
     "nuid": "e99483d5-8134-4af1-a4ff-426426501c0c",
     "showTitle": false,
     "title": ""
    }
   },
   "outputs": [],
   "source": [
    "tweets_df = (\n",
    "    spark.sql(\"SELECT * FROM hive_metastore.default.tweets\")\n",
    "    .drop(\"key\", \"value\", \"partition\", \"offset\", \"Timestamp\", \"Timestamptype\")\n",
    "    .withColumn(\"JSON\", from_json(regexp_replace(expr(\"substring(value_text, 2, length(value_text) - 2)\"), r'\\\\', ''), tweets_schema))\n",
    "    .withColumn(\"id\", col(\"JSON.id_str\"))\n",
    "    .withColumn(\"text\", col(\"JSON.text\"))\n",
    "    .withColumn(\"created_at\", col(\"JSON.created_at\"))\n",
    "    .drop(\"JSON\", \"value_text\", \"Topic\")\n",
    "    .dropDuplicates()\n",
    ")"
   ]
  },
  {
   "cell_type": "code",
   "execution_count": 0,
   "metadata": {
    "application/vnd.databricks.v1+cell": {
     "cellMetadata": {
      "byteLimit": 2048000,
      "rowLimit": 10000
     },
     "inputWidgets": {},
     "nuid": "889e7bd6-bfd6-4f20-9848-4b8a219c13ce",
     "showTitle": false,
     "title": ""
    }
   },
   "outputs": [
    {
     "output_type": "display_data",
     "data": {
      "text/html": [
       "<style scoped>\n",
       "  .table-result-container {\n",
       "    max-height: 300px;\n",
       "    overflow: auto;\n",
       "  }\n",
       "  table, th, td {\n",
       "    border: 1px solid black;\n",
       "    border-collapse: collapse;\n",
       "  }\n",
       "  th, td {\n",
       "    padding: 5px;\n",
       "  }\n",
       "  th {\n",
       "    text-align: left;\n",
       "  }\n",
       "</style><div class='table-result-container'><table class='table-result'><thead style='background-color: white'><tr><th>id</th><th>text</th><th>created_at</th></tr></thead><tbody><tr><td>598232495537016832</td><td>b'@jankenbrandt Hi Julie!'</td><td>2015-05-12 21:05:16</td></tr><tr><td>835187859158020097</td><td>b'@donbarbieri @GreenCarReports Good chance it will'</td><td>2017-02-24 18:01:17</td></tr><tr><td>152763084488982531</td><td>b'SpaceX has Boeing, Lockheed, Europe (Ariane) and Russia (Proton/Soyuz) near checkmate in rocket technology. End game is all about China.'</td><td>2011-12-30 14:48:52</td></tr><tr><td>338367123455885312</td><td>b'@kn0xvi11ain Very few. Scientific consensus at time of Columbus was world was round http://t.co/V3XIcob4s8'</td><td>2013-05-25 18:53:03</td></tr><tr><td>429979489922461696</td><td>b'Tesla LA to NY Supercharger rally just completed in 76 hours across northern route in dead of winter thru heavy snow!'</td><td>2014-02-02 14:07:53</td></tr><tr><td>307958110474104832</td><td>b'Just received #Dragon docking clearance from @NASA. Will begin orbital maneuvers to Space Station at 11pm Pacific time.'</td><td>2013-03-02 20:58:29</td></tr><tr><td>406186792409632769</td><td>b'15 mins to liftoff http://t.co/3jDrHRSPQZ'</td><td>2013-11-28 22:24:12</td></tr><tr><td>173528867699568641</td><td>b'Dragon spaceship and Falcon 9 rocket just completed final assembly at Cape Canaveral http://t.co/4GrSr3VU'</td><td>2012-02-25 22:04:41</td></tr><tr><td>462104679116050432</td><td>b'@rocketrepreneur ~40%'</td><td>2014-05-02 05:41:55</td></tr><tr><td>472757297685356546</td><td>b'Recording of Dragon V2 unveil at http://t.co/aBIV4EWOS2'</td><td>2014-05-31 15:11:37</td></tr><tr><td>532205104993038336</td><td>b'RT @AutoblogGreen: The @TeslaMotors Model S scores Euro NCAP 5-star safety score, w/cool video http://t.co/Yh6l1TF5dF'</td><td>2014-11-11 16:15:59</td></tr><tr><td>639171519197777920</td><td>b'Model 3, our smaller and lower cost sedan will start production in about 2 years. Fully operational Gigafactory needed.'</td><td>2015-09-02 20:22:20</td></tr><tr><td>332287909413650433</td><td>b'@mjasandoval Stay tuned'</td><td>2013-05-09 00:16:25</td></tr><tr><td>658735748498100225</td><td>b'Cool! https://t.co/HOe0K7qkuk'</td><td>2015-10-26 20:03:35</td></tr><tr><td>788662824033673218</td><td>b'RT @zebedee666: @TeslaMotors Autopilot saves another life. Dare folk to RT that as much as previous context-free clickbait https://t.co/d1axe2x80xa6'</td><td>2016-10-19 08:47:24</td></tr><tr><td>705094621567692800</td><td>b'RT @BillGates: Itxe2x80x99s amazing how much more we spend on gasoline than on clean energy research. I did the math to figure it out...nhttps://t.xe2x80xa6'</td><td>2016-03-02 18:17:12</td></tr><tr><td>582581865682350080</td><td>b'Major new Tesla product line -- not a car -- will be unveiled at our Hawthorne Design Studio on Thurs 8pm, April 30'</td><td>2015-03-30 16:35:15</td></tr><tr><td>475772232355287040</td><td>b'RT @arstechnica: Eugenexe2x80x94the supercomputer, not 13-year-oldxe2x80x94first to beat the Turing Test  http://t.co/lPup3f3dRx by @nathanmattise'</td><td>2014-06-08 22:51:54</td></tr><tr><td>601665000948649984</td><td>b'Another good riddle: drill a hole thru a sphere such that the height of what remains of the sphere is 10cm. What is its remaining volume?'</td><td>2015-05-22 08:24:49</td></tr><tr><td>835350234049863680</td><td>b'Roller coasters are awesome'</td><td>2017-02-25 04:46:30</td></tr><tr><td>738856423656808448</td><td>b'@lessteza control of super powerful AI by a small number of humans is the most proximate concern'</td><td>2016-06-03 22:14:33</td></tr><tr><td>819661044867944448</td><td>b'@trevoclark Good point. 2.34 would be a production Tesla. Stripped down, maybe as low as 2.1.'</td><td>2017-01-12 21:43:16</td></tr><tr><td>405988869868642304</td><td>b'Model S Owner drives 3121 miles solo from Canada to Mexico http://t.co/8G8l1utgS2'</td><td>2013-11-28 09:17:44</td></tr><tr><td>732019686901055488</td><td>b'RT @joshuapinter: @juliusvolz @elonmusk Totally. I did this up from a previous one to give it scale: https://t.co/Y6oZSc2Std'</td><td>2016-05-16 01:27:48</td></tr><tr><td>531996243904716800</td><td>b'@Shmizer1 unfettered certainly and at very low cost'</td><td>2014-11-11 02:26:03</td></tr><tr><td>469356919979655168</td><td>b'Great progress by @NASASpaceflight members repairing the Falcon 9 ocean landing video http://t.co/DP4y5W5uvZ'</td><td>2014-05-22 05:59:44</td></tr><tr><td>788625768368762880</td><td>b'Tesla does 0-60 mph in 2.7 seconds in the rain https://t.co/Z3YA4igGE1 via @electrekco'</td><td>2016-10-19 06:20:09</td></tr><tr><td>167325254451081216</td><td>b'Cool new @NASA pic of the most powerful type of solar flare, called X-class. Am not making this up! http://t.co/eJKSQqvO'</td><td>2012-02-08 19:13:44</td></tr><tr><td>776960194852958208</td><td>b'@LarryMasters778 That is my favorite fictional spaceship. Powered by improbability!'</td><td>2016-09-17 01:45:20</td></tr><tr><td>406205904141697024</td><td>b'If launch aborts, we will bring the rocket down for engine inspection, so probably a few days before next attempt'</td><td>2013-11-28 23:40:09</td></tr><tr><td>404059376652005377</td><td>b'Headed to Cape Canaveral tomorrow for first @SpaceX geostationary satellite launch.'</td><td>2013-11-23 01:30:37</td></tr><tr><td>273485219162648576</td><td>b'And, yes, I do in fact know that this sounds crazy. That is not lost on me. Nor I do think SpaceX will do this alone.'</td><td>2012-11-27 17:55:32</td></tr><tr><td>716749717795946496</td><td>b'@mpatfield no problem'</td><td>2016-04-03 22:10:23</td></tr><tr><td>151317672217419777</td><td>b'Single character Tweets are the ulitmate extension of the Twitmeme...'</td><td>2011-12-26 15:05:19</td></tr><tr><td>658657439248572417</td><td>b'RT @jehldavid: Beautiful up to date album of @SpaceX Dragon spacecraft photos released by @NASA. @elonmusk https://t.co/g4a0K0EsEM'</td><td>2015-10-26 14:52:25</td></tr><tr><td>785140287819612160</td><td>b'@roger_kappler Probably not then either'</td><td>2016-10-09 15:30:06</td></tr><tr><td>815026557282463744</td><td>b'@vicentes @DragTimes Late Jan, along with Linux kernel upgrade'</td><td>2016-12-31 02:47:28</td></tr><tr><td>798980894543343616</td><td>b'Looks like the Model S P100D Easter egg will allow it to do 0 to 60 mph in 2.4 sec and a 10.6 sec 1/4 mile via software update next month'</td><td>2016-11-16 20:07:44</td></tr><tr><td>723260501153710080</td><td>b'RT @hamids: My doors have gone through hundreds of open/close kid testings! https://t.co/9Pufi0cafoxe2x80xa6 @elonmusk @TeslaMotors https://t.co/Rfxe2x80xa6'</td><td>2016-04-21 21:21:55</td></tr><tr><td>732247546924388353</td><td>b'Response to a Mercury News article about an injury on our premisesnhttps://t.co/3BFgV6Hfia'</td><td>2016-05-16 16:33:14</td></tr><tr><td>845325721455149056</td><td>b'@kryniog The shorter wheelbase only allows for a 75 kWh pack in Model 3 at current cell/module energy densities'</td><td>2017-03-24 17:25:32</td></tr><tr><td>384336908949524480</td><td>b'You can watch the launch at http://t.co/2ZSXeqWKvy http://t.co/u5VEUgRu8g'</td><td>2013-09-29 15:20:34</td></tr><tr><td>724175962246500352</td><td>b'RT @physorg_com: Solar-powered #plane completes journey across Pacific Ocean https://t.co/FXHG2T2DS7'</td><td>2016-04-24 09:59:38</td></tr><tr><td>249306225177669632</td><td>b'First test flight hop of our Grasshopper VTVL rocket! http://t.co/oomI5vSB'</td><td>2012-09-22 00:36:50</td></tr><tr><td>752193726462586881</td><td>b'@vicentes Probably six months. Will include hundreds of refinements to handle rare corner cases in Autopilot.'</td><td>2016-07-10 17:32:14</td></tr><tr><td>677961117595906048</td><td>b'About 2 mins from static fire'</td><td>2015-12-18 21:18:21</td></tr><tr><td>707611375191744512</td><td>b'Congrats to DeepMind! Many experts in the field thought AI was 10 years away from achieving this. https://t.co/5gGZZkud3K'</td><td>2016-03-09 16:57:53</td></tr><tr><td>785135480811712513</td><td>b'@FuncRandm I agree. Speed of light is a point in favor of the sim.'</td><td>2016-10-09 15:11:00</td></tr><tr><td>715433418260029440</td><td>b'Model 3 unveil will be webcast live at 8:30pm California time at https://t.co/46TXqRrsdr'</td><td>2016-03-31 06:59:53</td></tr><tr><td>714963420316049411</td><td>b'Looks like we may need to increase production plans for the Model 3 https://t.co/fmCPFC9FEm'</td><td>2016-03-29 23:52:17</td></tr><tr><td>471829262215835648</td><td>b'Amazing repair job of Falcon 9 ocean landing vid by @NASASpaceflight forum. Now shows leg deploy http://t.co/EYoaRjEn9Q'</td><td>2014-05-29 01:43:56</td></tr><tr><td>459443233290866688</td><td>b'FTC blog supports direct car sales as good for consumers http://t.co/FfqvAKVfFF'</td><td>2014-04-24 21:26:17</td></tr><tr><td>659541500712251392</td><td>b'@MacTechGenius yes, comes with each car'</td><td>2015-10-29 01:25:22</td></tr><tr><td>792204742558560256</td><td>b'RT @jodyfisher: Exactly what I was thinking.. nice job @elonmusk https://t.co/jOwclRImXP'</td><td>2016-10-29 03:21:43</td></tr><tr><td>828292305522192384</td><td>b'@BenCam137 @FifthRocket Exactly'</td><td>2017-02-05 17:20:49</td></tr><tr><td>389113628416172032</td><td>b'Rocket flight to 744m, hover &amp; return to launch pad (close shot from hexacopter drone) http://t.co/vyJSUbZo2R'</td><td>2013-10-12 19:41:33</td></tr><tr><td>330017552120033282</td><td>b'Time to up the ante (and fix some mistakes). Tesla announcement tomorrow.'</td><td>2013-05-02 17:54:50</td></tr><tr><td>653005894922276865</td><td>b'Some exciting news this week: Tesla Version 7 software with Autopilot goes to wide release on Thursday!'</td><td>2015-10-11 00:35:12</td></tr><tr><td>577533020736909312</td><td>b'Some people seem to think I tweet to affect share price. This is false. A brief rise in $TSLA stock obviously does no good for Tesla or me.'</td><td>2015-03-16 18:12:56</td></tr><tr><td>275346615634624514</td><td>b'Uranium ore now available on Amazon! So much more convenient than Uzbekistan #AwesomeXmasGifts http://t.co/jqWAJrnY'</td><td>2012-12-02 21:12:03</td></tr><tr><td>833330869293035520</td><td>b'RT @SpaceX: Falcon 9 first stage has landed at LZ-1'</td><td>2017-02-19 15:02:16</td></tr><tr><td>278953918338326528</td><td>b'Cool video recap of the big events of the year by Google #Zeitgeist2012 http://t.co/FZjy4vkL'</td><td>2012-12-12 20:06:11</td></tr><tr><td>819664369818578944</td><td>b'@MotorTrend Sarah should be in contact with you soon about doing a benchmark test'</td><td>2017-01-12 21:56:29</td></tr><tr><td>677940293212102656</td><td>b'5 mins from static fire test'</td><td>2015-12-18 19:55:36</td></tr><tr><td>331794886368055296</td><td>b'Creating an autopilot for cars at Tesla is an important, but not yet top priority. Still a few years from production.'</td><td>2013-05-07 15:37:20</td></tr><tr><td>787775297521233920</td><td>b'@markpinc @TeslaMotors thanks!'</td><td>2016-10-16 22:00:41</td></tr><tr><td>787721971417034752</td><td>b'@Reuters Umm...Autobahn?'</td><td>2016-10-16 18:28:47</td></tr><tr><td>488718649515986944</td><td>b'Rocket booster reentry, landing burn &amp; leg deploy were good, but lost hull integrity right after splashdown (aka kaboom)'</td><td>2014-07-14 16:16:20</td></tr><tr><td>829885356531032064</td><td>b'@accohen @MeganGeuss @arstechnica Exactly. What this person said is untrue.'</td><td>2017-02-10 02:51:02</td></tr><tr><td>740540471081062401</td><td>b'@danahull yes'</td><td>2016-06-08 13:46:21</td></tr><tr><td>739176652517707776</td><td>b'@SwiftOnSecurity how did you know?'</td><td>2016-06-04 19:27:01</td></tr><tr><td>823632597284691969</td><td>b'@stephenstohn Yes, safety should improve significantly due to autonomy features, even if regs disallow no driver present'</td><td>2017-01-23 20:44:48</td></tr><tr><td>660693896553324545</td><td>b'@ID_AA_Carmack noted'</td><td>2015-11-01 05:44:34</td></tr><tr><td>744549842496655360</td><td>b'Tesla owner drives through a flooded tunnel &amp; out the other side nhttps://t.co/RmPxdZShhq'</td><td>2016-06-19 15:18:10</td></tr><tr><td>428789050925785088</td><td>b'Tesla cars are now in all 50 US states (map credit Edmunds)! http://t.co/ehq2Muu5cr'</td><td>2014-01-30 07:17:30</td></tr><tr><td>744552907563991040</td><td>b'@KatelynBrock Drive units and battery are sealed'</td><td>2016-06-19 15:30:20</td></tr><tr><td>638962228700381184</td><td>b'RT @SpaceX: Pad 39A @NASAKennedy will be future home to @Commercial_Crew launches and Falcon Heavy missions http://t.co/ITebIXLzzb'</td><td>2015-09-02 06:30:41</td></tr><tr><td>845331893176324096</td><td>b'@Mr_Ewe_Guy Oh so little faith'</td><td>2017-03-24 17:50:03</td></tr><tr><td>600549508796190720</td><td>b'Fossil fuels subsidised by $10m a minute, says IMF  http://t.co/c4nsZjXc32'</td><td>2015-05-19 06:32:15</td></tr><tr><td>580482462612135936</td><td>b'Right move is try both tunnels and flying cars. Otherwise, having 2D streets and 3D buildings means bad traffic forever.'</td><td>2015-03-24 21:32:58</td></tr><tr><td>789020178969276416</td><td>b'@Bret_with1t yes'</td><td>2016-10-20 08:27:24</td></tr><tr><td>752204607753842688</td><td>b'@SwiftOnSecurity Tricky in 140 chars, but: 1B needed for min statistical sample size. More software mods and data may be needed beyond that.'</td><td>2016-07-10 18:15:28</td></tr><tr><td>814837068987645952</td><td>b'RT @IridiumComm: Milestone Alert: The first ten #IridiumNEXT satellites are stacked and encapsulated in the Falcon 9 fairing. #NEXTevolutioxe2x80xa6'</td><td>2016-12-30 14:14:30</td></tr><tr><td>298338092652318720</td><td>b'Wow, 180,000 American killed by other Americans since 9/11 vs only 33 by muslim terroristsnhttp://t.co/BEdhLqJS'</td><td>2013-02-04 07:51:58</td></tr><tr><td>841039231694786560</td><td>b'Just wanted to write a note of appreciation to the many Australians who came out in support of the battery plan, especially @mcannonbrookes'</td><td>2017-03-12 21:32:33</td></tr><tr><td>838563502386118656</td><td>b'Thanks JJ!'</td><td>2017-03-06 01:34:53</td></tr><tr><td>625843527608459266</td><td>b'If youxe2x80x99re against a military AI arms race, please sign this open letter:nhttp://t.co/yyF9rcm9jz'</td><td>2015-07-28 01:41:39</td></tr><tr><td>326152475205857281</td><td>b'Cool picture of Io crossing Jupiter sent to me by @shervin. Would be amazing to visit in person one day.'</td><td>2013-04-22 01:56:24</td></tr><tr><td>408708548009291776</td><td>b'Should mention that the battery cells used for this are 200 Wh/kg vs 250 for Model S. No short term supply constraint.'</td><td>2013-12-05 21:24:45</td></tr><tr><td>798370472832352256</td><td>b'Love you too!nhttps://t.co/BlDDQ0oJmg'</td><td>2016-11-15 03:42:08</td></tr><tr><td>167104295504838656</td><td>b'Wish there was something we could do to help the people of Syria.   http://t.co/Ii7v7Cgw'</td><td>2012-02-08 04:35:43</td></tr><tr><td>818090148608868353</td><td>b'New rev for Autopilot HW2 rolling out Mon to first 1000 &amp; to rest of fleet in shadow mode. Also improves HW1 and enables Ludicrous+.'</td><td>2017-01-08 13:41:05</td></tr><tr><td>755940191571808257</td><td>b'@MRamseyWSJ Great game. Whole Fallout series is amazing.'</td><td>2016-07-21 01:39:21</td></tr><tr><td>330425498406633474</td><td>b'@thebradholt we need a compelling video that convinces TX lawmakers to pass the direct sales law just approved by their committee.'</td><td>2013-05-03 20:55:52</td></tr><tr><td>833411017065394176</td><td>b'Just posted a video https://t.co/RCV7MVi8rs'</td><td>2017-02-19 20:20:45</td></tr><tr><td>461055579650129920</td><td>b'@nitroc3ll yes'</td><td>2014-04-29 08:13:10</td></tr><tr><td>553744525194047488</td><td>b'RT @SpaceX: F9 &amp; Dragon now vertical on the launch pad. Liftoff @ 4:47am ET. Live launch webcast: http://t.co/6Db27OEotr http://t.co/fSAjzBxe2x80xa6'</td><td>2015-01-10 02:45:57</td></tr><tr><td>752272158517112835</td><td>b'Something like that https://t.co/aufFuB5VXo'</td><td>2016-07-10 22:43:53</td></tr><tr><td>155380533533220864</td><td>b'Model S Signature series sold out as of today https://t.co/pKbR0ziP'</td><td>2012-01-06 20:09:40</td></tr><tr><td>658358303454420992</td><td>b'@abrax4s Yes, establishing charging and service infrastructure in Mexico now. Official launch in next several months.'</td><td>2015-10-25 19:03:45</td></tr><tr><td>657702829398822912</td><td>b'@shanenickerson Amount of change needed is enormous - like a spinal cord transplant. Would cost less and work better with a new car.'</td><td>2015-10-23 23:39:08</td></tr><tr><td>626780203533107200</td><td>b'@Alyssa_Milano Thanks Alyssa!'</td><td>2015-07-30 15:43:40</td></tr><tr><td>476537238785114112</td><td>b'@Ash_Dale I do seriously need a haircut :)'</td><td>2014-06-11 01:31:46</td></tr><tr><td>828284802327523328</td><td>b'@zgiarrizzo Exactly'</td><td>2017-02-05 16:51:00</td></tr><tr><td>277693768583491584</td><td>b'Congrats to @dmetcalf for being the first to drive a Tesla Model S over 400 miles on a single charge!'</td><td>2012-12-09 08:38:48</td></tr><tr><td>337323464241319936</td><td>b'Tesla wired the funds to repay the DOE loan today. Only US car company to have fully repaid govt http://t.co/jxHW9YkvPz'</td><td>2013-05-22 21:45:55</td></tr><tr><td>699510738147106816</td><td>b'@chriskreidler @engadget yes, this was done jointly with Tesla and Radio Flyer'</td><td>2016-02-16 08:28:50</td></tr><tr><td>298266134128496641</td><td>b'Great spirit here in the Superdome. Awesome rally by the @49ers!! #SB47'</td><td>2013-02-04 03:06:02</td></tr><tr><td>405989364322533376</td><td>b'@lomac92 @WIRED No, almost all fuel/ox is being reserved for SES satellite to give max chance of success'</td><td>2013-11-28 09:19:42</td></tr><tr><td>653010368583741440</td><td>b'@andrewshiamone yes'</td><td>2015-10-11 00:52:58</td></tr><tr><td>217991440830173184</td><td>b'She was a great woman xe2x80x9c@VanityFair: In Memoriam, Nora Ephron, 1941-2012 http://t.co/raIoWXbbxe2x80x9d'</td><td>2012-06-27 14:43:04</td></tr><tr><td>408008759433502720</td><td>b'Reached parking orbit. Now coasting towards equator, where the upper stage will, if all goes well, restart to raise apogee'</td><td>2013-12-03 23:04:03</td></tr><tr><td>598174400404262912</td><td>b'RT @TeslaMotors: Agreed. @FTC affirms States to allow consumers to choose how they buy their cars. #Tesla #Michigan http://t.co/fT1JHjMpzg'</td><td>2015-05-12 17:14:25</td></tr><tr><td>814919997088665600</td><td>b'Churchill (non) quotes nhttps://t.co/avA4YD6K6g'</td><td>2016-12-30 19:44:02</td></tr><tr><td>792177803869376512</td><td>b'RT @TeslaMotors: Powerwall 2 stores solar energy to power your home with 14 kWh of storage https://t.co/oVv32hiGF6'</td><td>2016-10-29 01:34:41</td></tr><tr><td>457188968627310592</td><td>b'This is 1st ever orbital rocket launch w landing legs. Will attempt leg deploy &amp; soft landing out to sea.'</td><td>2014-04-18 16:08:38</td></tr><tr><td>273483420468932608</td><td>b'Millions of people needed for Mars colony, so 80k+ would just be the number moving to Mars per year http://t.co/rwMuzVEK'</td><td>2012-11-27 17:48:23</td></tr><tr><td>710657482322915328</td><td>b'@RobGlaser sure'</td><td>2016-03-18 02:42:01</td></tr><tr><td>677663227271118848</td><td>b'@PaigeANjax -340 F in this case. Deep cryo increases density and amplifies rocket performance. First time anyone has gone this low for O2.'</td><td>2015-12-18 01:34:38</td></tr><tr><td>799328920852000768</td><td>b'RT @TheEconomist: New data show that 2016 is on course to be the hottest year ever recorded https://t.co/a6xA3qr7MF https://t.co/WS2WMVXv0J'</td><td>2016-11-17 19:10:40</td></tr><tr><td>181881709841752064</td><td>b'RT @SpaceX: In case you missed it, here is the full video of SpaceX on @60Minutes last night. What did you think of the story? http://t. ...'</td><td>2012-03-19 23:15:53</td></tr><tr><td>536258543675252739</td><td>b'Testing operation of hypersonic grid fins (x-wing config) going on next flight http://t.co/O1tMSIXxsT'</td><td>2014-11-22 20:42:54</td></tr><tr><td>739594006762393600</td><td>b'Highly recommend @PlayOverwatch by the good people of @Blizzard_Ent if you like ultrafast team FPS actionnhttps://t.co/GAIamvAPnn'</td><td>2016-06-05 23:05:26</td></tr><tr><td>739509168722186241</td><td>b'@ahess247 @Recode I love Douglas Adams! My favorite spaceship ever is in HHGTTG.'</td><td>2016-06-05 17:28:19</td></tr><tr><td>627040381729906688</td><td>b'Almost ready to release highway autosteer and parallel autopark software update'</td><td>2015-07-31 08:57:31</td></tr><tr><td>180105275133538306</td><td>b'10 years ago today, SpaceX was founded. Many battles fought. Physics always won. http://t.co/p85UHeuq'</td><td>2012-03-15 01:36:58</td></tr><tr><td>174700079490412544</td><td>b'RT @timminchin: A really clear and concise article debunking climate science sceptics. Please read & RT.  http://t.co/NmbwbFR1'</td><td>2012-02-29 03:38:39</td></tr><tr><td>784507684410097664</td><td>b'US automotive deaths rose 10% to 17,775 in first half of 2016, approx 1 every 88 million miles https://t.co/8vrAHA80yB'</td><td>2016-10-07 21:36:22</td></tr><tr><td>739193563938856960</td><td>b'Exactly https://t.co/cy1AbIIo42'</td><td>2016-06-04 20:34:13</td></tr><tr><td>404067161175379968</td><td>b'@DarkSapiens Easier to make the plane change to equatorial orbit. Done in order to reduce satellite side delta V from 1800 m/s to 1500 m/s.'</td><td>2013-11-23 02:01:33</td></tr><tr><td>739004504289353729</td><td>b'@JedBrown5 @renzdimaandal @Goetzman @Tom_Stears exactly'</td><td>2016-06-04 08:02:58</td></tr><tr><td>330019280206831616</td><td>b'@roulezelectric This is about getting a prior announcement right. Not part 4 yet.'</td><td>2013-05-02 18:01:42</td></tr><tr><td>639172302530215936</td><td>b'@elonmusk $35k price, unveil in March, preorders start then.'</td><td>2015-09-02 20:25:26</td></tr><tr><td>337594277666377730</td><td>b'More importantly, @Chrysler failed to pay back $1.3B. Apart those 2 points, you were totally 1st http://t.co/0P2ZLDl67a'</td><td>2013-05-23 15:42:02</td></tr><tr><td>177210012911927299</td><td>b'The President of Serbia came by our booth at the Geneva Motor Show and talked about Nikola Tesla http://t.co/KIhxc0TF'</td><td>2012-03-07 01:52:14</td></tr><tr><td>407718277365121024</td><td>b'@TierraUniversu It was fixed this weekend, so he should try the test again.'</td><td>2013-12-03 03:49:47</td></tr><tr><td>675431513211600896</td><td>b'Announcing formation of @open_ai xe2x80xa6nhttps://t.co/Fcouhwh6MC'</td><td>2015-12-11 21:46:36</td></tr><tr><td>838558471972741120</td><td>b'https://t.co/3YSXZq1EVj'</td><td>2017-03-06 01:14:54</td></tr><tr><td>589505551366639618</td><td>b'RT @TeslaMotors: Brand new Store &amp; Service Center in Shanghai Hongqiao. #Tesla #China http://t.co/bbsSksbZT7'</td><td>2015-04-18 19:07:30</td></tr><tr><td>564509965612634112</td><td>b'Rocket reentry will be much tougher this time around due to deep space mission. Almost 2X force and 4X heat. Plenty of hydraulic fluid tho.'</td><td>2015-02-08 19:43:58</td></tr><tr><td>553836041770373120</td><td>b'At mission control in California. Launch in 60 mins. Looks good so far.'</td><td>2015-01-10 08:49:36</td></tr><tr><td>407744196398043136</td><td>b'RT @Jon_Favreau: An Amazon drone just flew away with my dog.'</td><td>2013-12-03 05:32:46</td></tr><tr><td>752270839458869249</td><td>b'@nickg_uk already taken care of'</td><td>2016-07-10 22:38:39</td></tr><tr><td>275821969415483393</td><td>b'Am happy to report that Tesla was narrowly cash flow positive last week. Continued improvement expected through year end.'</td><td>2012-12-04 04:40:56</td></tr><tr><td>402811201052090368</td><td>b'Why does a Tesla fire w no injury get more media headlines than 100,000 gas car fires that kill 100s of people per year?'</td><td>2013-11-19 14:50:48</td></tr><tr><td>832970849791537152</td><td>b'All systems go, except the movement trace of an upper stage engine steering hydraulic piston was slightly odd. Standing down to investigate.'</td><td>2017-02-18 15:11:41</td></tr><tr><td>321985069235453953</td><td>b'@derrickgott007 already partly here with rocket development, but will make it a lot bigger with the launch site'</td><td>2013-04-10 13:56:37</td></tr><tr><td>777330011703566336</td><td>b'@thescalex @SpaceX @IAC2016 @YouTube its it is'</td><td>2016-09-18 02:14:51</td></tr><tr><td>461057260853022720</td><td>b'@micahgtb almost'</td><td>2014-04-29 08:19:51</td></tr><tr><td>705910704792973313</td><td>b'Target altitude of 40,600 km achieved. Thanks @SES_Satellites for riding on Falcon 9! Looking forward to future missions.'</td><td>2016-03-05 00:20:01</td></tr><tr><td>677660460230041600</td><td>b'Falcon 9 is vertical on the launch pad at Cape Canaveral. Working towards static fire. Deep cryo liquid oxygen presenting some challenges.'</td><td>2015-12-18 01:23:38</td></tr><tr><td>null</td><td>null</td><td>null</td></tr><tr><td>716748255242100736</td><td>b'@AndersRytter yes, but production AWD will be a lot faster'</td><td>2016-04-03 22:04:35</td></tr><tr><td>592602352659533824</td><td>b'Worth watching @ExMachinaMovie. The AI would be in the network, not the robot, but otherwise good.'</td><td>2015-04-27 08:13:05</td></tr><tr><td>827681242128715777</td><td>b'There has already been and there will be progress on this matter'</td><td>2017-02-04 00:52:40</td></tr><tr><td>413772104786780160</td><td>b'220 ft tall mobile crane to carry the rocket around in the vertical http://t.co/hgXnpEh8yU'</td><td>2013-12-19 20:45:31</td></tr><tr><td>271642966442000385</td><td>b'Gave a talk on energy and transport at Oxford Univ http://t.co/kbvJf5LO'</td><td>2012-11-22 15:55:04</td></tr><tr><td>758003098816286720</td><td>b'Via @NPR: Sun-Powered Airplane Completes Historic Trip Around The World https://t.co/AKe5VRaY5o'</td><td>2016-07-26 18:16:36</td></tr><tr><td>845293825715154945</td><td>b'@HolsMichael Start taking orders in April'</td><td>2017-03-24 15:18:47</td></tr><tr><td>832647116816150530</td><td>b'Investigating a (very small) leak in the upper stage. If ok, will launch tomorrow. https://t.co/bQf97lywn4'</td><td>2017-02-17 17:45:17</td></tr><tr><td>805862775603929088</td><td>b'RT @OpenAI: A video tutorial and overview of Universe from @sirajology: https://t.co/9JyfF5aFrl'</td><td>2016-12-05 19:53:52</td></tr><tr><td>152614233278910464</td><td>b'To be clear, CtG absolutely did *not* bang her horse. They were just close friends who liked to take showers together and spoon at night.'</td><td>2011-12-30 04:57:23</td></tr><tr><td>560688975778557952</td><td>b'RT @SpaceX: Updated animation of Falcon Heavy flight and booster recovery. Check it out: http://t.co/Y4OvdU8yQ5 http://t.co/LN7yRVAvkT'</td><td>2015-01-29 06:40:43</td></tr><tr><td>658842380922023936</td><td>b'Compliment from Jeffrey is much appreciated, but the people of Tesla deserve all the credit'</td><td>2015-10-27 03:07:18</td></tr><tr><td>407313331247398912</td><td>b'Engines are cycling cleanly w ground pneumatics. Replaced gas generator on engine 9 (center) as a precautionary measure.'</td><td>2013-12-02 01:00:40</td></tr><tr><td>589579721488224256</td><td>b'While the rocket does look rather tall &amp; tippy, a stable landing is no problem with proper throttle response https://t.co/B4Y6D4dpsc'</td><td>2015-04-19 00:02:14</td></tr><tr><td>792217704757284864</td><td>b'@HipStreeet yes'</td><td>2016-10-29 04:13:14</td></tr><tr><td>638900258232074240</td><td>b'RT @Oprah: Test driving my new Tesla with dealer Dan. Love it!! https://t.co/LHLroJ6Acl'</td><td>2015-09-02 02:24:26</td></tr><tr><td>752204733339701249</td><td>b'@SwiftOnSecurity I like your tweets!'</td><td>2016-07-10 18:15:58</td></tr><tr><td>330708114854793217</td><td>b'@fink_justin It can definitely strain relationships, but I loved doing my first company with my brother'</td><td>2013-05-04 15:38:53</td></tr><tr><td>828018446873006080</td><td>b'Walking down the street and saw this https://t.co/Mpv5j6088K'</td><td>2017-02-04 23:12:36</td></tr><tr><td>828004976228188160</td><td>b'@ChrisJCav Maybe my favorite mug ever'</td><td>2017-02-04 22:19:04</td></tr><tr><td>845294161125269505</td><td>b'@ToddGerkens Yeah'</td><td>2017-03-24 15:20:07</td></tr><tr><td>338360832410939392</td><td>b'Sorry for all the heavy stuff abt climate change, but I really thought world wd take action sooner. No time for subtlety'</td><td>2013-05-25 18:28:03</td></tr><tr><td>789008557341454336</td><td>b'@vicentes latest autonomous hardware allows for easy computer upgrade'</td><td>2016-10-20 07:41:13</td></tr><tr><td>828279118944989185</td><td>b'RT @TeslaMotors: Honored to receive Best Car Award for the third year in a row in Germany. Thank you to all 124,000 of you who voted! httpsxe2x80xa6'</td><td>2017-02-05 16:28:25</td></tr><tr><td>835202594968477696</td><td>b'@johnpaulbrewer Something on a tristate border might work. Gigafactory plus nearby supporting supply chain needs a very large workforce.'</td><td>2017-02-24 18:59:50</td></tr><tr><td>338130215492521984</td><td>b'RT @1stHubbleFan: @GaryDownie @elonmusk Wrong! Science helps confirm #climatechange by, once again, pointing to #sealevelrise: http://t.co/xe2x80xa6'</td><td>2013-05-25 03:11:40</td></tr><tr><td>278331899133452288</td><td>b'Tesla was just approved for a full Class 1 Massachusetts Auto Sales License by a vote of 4 to 1. Much appreciated!'</td><td>2012-12-11 02:54:30</td></tr><tr><td>740296489532948480</td><td>b'Fourth rocket arrives in the hangar. Aiming for first reflight in Sept/Oct. https://t.co/TqW8d6Cc3U'</td><td>2016-06-07 21:36:51</td></tr><tr><td>474032659434180608</td><td>b'RT @OEVAorg: 4 second summary of @TeslaMotors 2014 annual shareholder meeting https://t.co/uK7Ze79v9j :) @elonmusk'</td><td>2014-06-04 03:39:27</td></tr><tr><td>824011724357373953</td><td>b'@danahull Rex is an exceptionally competent executive, understands geopolitics and knows how to win for his team. His team is now the USA.'</td><td>2017-01-24 21:51:19</td></tr><tr><td>739573737331298306</td><td>b'RT @SpaceX: Next launch targeting June 14 from Cape Canaveral xe2x80x93 45 minute launch window opens at 10:32am ET, 2:32pm UTC https://t.co/o8m9bIxe2x80xa6'</td><td>2016-06-05 21:44:54</td></tr><tr><td>778600126063390720</td><td>b'This is a major overhaul on almost every level compared to V7.'</td><td>2016-09-21 14:21:50</td></tr><tr><td>179095691468095489</td><td>b'Mountain lions eat cats, which means we *actually* live in a cat eat cat world ... an apology is owed to dogkind!'</td><td>2012-03-12 06:45:14</td></tr><tr><td>688801679404171264</td><td>b'RT @SpaceX: First stage on target at droneship but looks like hard landing; broke landing leg. Primary mission remains nominal xe2x86x92 https://t.xe2x80xa6'</td><td>2016-01-17 19:14:52</td></tr><tr><td>828291884858691584</td><td>b'@AanstadGard Norway is great on all levels. Love Norway!'</td><td>2017-02-05 17:19:08</td></tr><tr><td>150390624552615937</td><td>b'The Russians are having some challenges with their rockets. Too many of the engineers that designed them have retired: http://t.co/rEs7spSU'</td><td>2011-12-24 01:41:33</td></tr><tr><td>819663998878564352</td><td>b'@gurnam @brianstucki @reddit It is'</td><td>2017-01-12 21:55:00</td></tr><tr><td>725351655433068544</td><td>b'RT @SpaceX: Planning to send Dragon to Mars as soon as 2018. Red Dragons will inform overall Mars architecture, details to come https://t.cxe2x80xa6'</td><td>2016-04-27 15:51:25</td></tr><tr><td>824010489449431040</td><td>b'@TheEconomist This may sound surprising coming from me, but I agree with The Economist. Rex Tillerson has the potenxe2x80xa6 https://t.co/2BddSK9IBI'</td><td>2017-01-24 21:46:24</td></tr><tr><td>711603839443423232</td><td>b'Tesla charger map https://t.co/9tei7lU4FD'</td><td>2016-03-20 17:22:30</td></tr><tr><td>626779726695297024</td><td>b'@loic thanks Loic :)'</td><td>2015-07-30 15:41:46</td></tr><tr><td>698196071529316352</td><td>b'RT @TeslaMotors: Model X gets its wings https://t.co/08srkZi2oh'</td><td>2016-02-12 17:24:49</td></tr><tr><td>726125524091723777</td><td>b'@erothenberg checking into it ...'</td><td>2016-04-29 19:06:30</td></tr><tr><td>745010737215504384</td><td>b'@WilliamShatner Of course. Our love will never die.'</td><td>2016-06-20 21:49:36</td></tr><tr><td>457416105162993664</td><td>b'RT @BadAstronomer: Blog post: INCREDIBLE footage of the Dragon capsule in orbit over France, 25 minutes after launch! http://t.co/RCgFfOqbVd'</td><td>2014-04-19 07:11:12</td></tr><tr><td>726213728278962176</td><td>b'@MrBoylan System scan detected only 0.2% of orders with same email and physical address. Those have been purged.'</td><td>2016-04-30 00:56:59</td></tr><tr><td>743600755739754497</td><td>b'@fucktyler Thanks Tyler'</td><td>2016-06-17 00:26:50</td></tr><tr><td>724160269480431620</td><td>b'@KristianNairn A 3 should be workable, but an S or particularly an X would be better'</td><td>2016-04-24 08:57:17</td></tr><tr><td>465030743962296320</td><td>b'Worth seeing @ChefTheFilm by @Jon_Favreau. Make sure to plan for a meal afterwards!'</td><td>2014-05-10 07:29:03</td></tr><tr><td>330394051637547010</td><td>b'@2552nsf Yeah, that is super tricky. Will have to sacrifice a lot of payload to boost back or land on ocean platform.'</td><td>2013-05-03 18:50:54</td></tr><tr><td>788973638665908224</td><td>b'@AlternateJones of course'</td><td>2016-10-20 05:22:28</td></tr><tr><td>838555180656295936</td><td>b'RT @TeslaMotors: Project Loveday https://t.co/K1snXJN15u'</td><td>2017-03-06 01:01:49</td></tr><tr><td>322170049316139009</td><td>b'Yay for democracy! @latimes asks: Should Tesla Motors be able to sell directly to consumers? http://t.co/IhSNht6bgx'</td><td>2013-04-11 02:11:40</td></tr><tr><td>307530281290711042</td><td>b'Thruster pod 3 tank pressure trending positive. Preparing to deploy solar arrays.'</td><td>2013-03-01 16:38:27</td></tr><tr><td>698813524827443200</td><td>b'RT @TeslaMotors: 4 semi-autonomous cars put to the test: xe2x80x9cTeslaxe2x80x99s Autopilot is the clear winner.xe2x80x9d @CARandDRIVER https://t.co/azia4en1ru'</td><td>2016-02-14 10:18:22</td></tr><tr><td>246352069332721665</td><td>b'Amazing series of space pics assembled by @theatlantic http://t.co/IUFTYgDn http://t.co/SHEPSWbS'</td><td>2012-09-13 20:58:05</td></tr><tr><td>840774191049658372</td><td>b'@williamwinters High voltage DC is for sure the best way to transmit electricity over long distances. Good explanatxe2x80xa6 https://t.co/Ucz8O3Tfm1'</td><td>2017-03-12 03:59:22</td></tr><tr><td>789020841489018880</td><td>b'When searching for parking, the car reads the signs to see if it is allowed to park there, which is why it skipped the disabled spot'</td><td>2016-10-20 08:30:02</td></tr><tr><td>657686500310700032</td><td>b'Autopilot 1.01 coming soon: curve speed adaption, controller smoothness, better lane holding on poor roads, improved fleet learning!'</td><td>2015-10-23 22:34:15</td></tr><tr><td>792217344684597248</td><td>b'RT @TeslaMotors: Solar roof glass tile vs. conventional roof tile https://t.co/AnGWJ07jub'</td><td>2016-10-29 04:11:48</td></tr><tr><td>743102502225076227</td><td>b'Landing video will be posted when we gain access to cameras on the droneship later today. Maybe hardest impact to date. Droneship still ok.'</td><td>2016-06-15 15:26:57</td></tr><tr><td>715307847890903041</td><td>b'Tomorrow is Part 1 of the Model 3 unveil. Part 2, which takes things to another level, will be closer to production.'</td><td>2016-03-30 22:40:55</td></tr><tr><td>495760430870978561</td><td>b'@IrrelevantGamer @masseffect Mass Effect 2 is one of the best games ever. Also love Saints Row IV.'</td><td>2014-08-03 02:37:52</td></tr><tr><td>220784395282432001</td><td>b'Am standing on the beach in Maui and looking at a moon rainbow for the first time in my life. Incredibly beautiful.'</td><td>2012-07-05 07:41:16</td></tr><tr><td>299780102500282368</td><td>b'RT @jordanrushbloch: My latest project on the Tesla Model S and network of solar-powered Superchargers. http://t.co/tBTGCcrK'</td><td>2013-02-08 07:22:00</td></tr><tr><td>240909270764359680</td><td>b'This piece about Mars in the NYT is worth a read http://t.co/mNB6f1aS'</td><td>2012-08-29 20:30:20</td></tr><tr><td>457181362307350529</td><td>b'Launch to the Space Station in just under three hours if weather holds http://t.co/aBIV4EWOS2'</td><td>2014-04-18 15:38:25</td></tr><tr><td>495759307346952192</td><td>b'Worth reading Superintelligence by Bostrom. We need to be super careful with AI. Potentially more dangerous than nukes.'</td><td>2014-08-03 02:33:24</td></tr><tr><td>528318667306446848</td><td>b'Deepest sympathies to the families of the pilots and the Virgin Galactic team'</td><td>2014-10-31 22:52:40</td></tr><tr><td>751648486416871424</td><td>b'@BrooklynBrett @LeoOD3 @Conleich Story was fed to LAT &amp; many other media to counter IMF $5T/year fossil subsidy study. Hey, both have a 5!'</td><td>2016-07-09 05:25:38</td></tr><tr><td>410447049687961600</td><td>b'Sock monkey of destruction! http://t.co/KqvXWDFmrr'</td><td>2013-12-10 16:32:57</td></tr><tr><td>740383850820296707</td><td>b'Would like to clarify that Tesla is working exclusively with Panasonic for Model 3 cells. News articles claiming otherwise are incorrect.'</td><td>2016-06-08 03:24:00</td></tr><tr><td>715309739752747009</td><td>b'@rossbin You will see the car very clearly, but some important elements will be added and some will evolve.'</td><td>2016-03-30 22:48:26</td></tr><tr><td>155340355884167169</td><td>b'Next month is also when our Dragon spaceship docks with the Space Station for the first time. Major pucker factor...'</td><td>2012-01-06 17:30:01</td></tr><tr><td>149813972915339264</td><td>b'Model S options are out! Performance in red and black for me.  I will deliver my car in June/July. http://t.co/acnyP4nh'</td><td>2011-12-22 11:30:10</td></tr><tr><td>677970721730002944</td><td>b'Aborted on ignition timing due to slow ground side valve. Adjusting ignition sequence by 0.6 secs for next attempt.'</td><td>2015-12-18 21:56:30</td></tr><tr><td>155339851812700160</td><td>b'Feb is huge month. Model X world premier and public reveal of our LA design studio on the 9th. Stay tuned for more details.'</td><td>2012-01-06 17:28:01</td></tr><tr><td>707619151401988096</td><td>b'RT @marcthiessen: I interviewed .@elonmusk at @AEI World Forum and @realDonaldTrump never came up.  Discussed his plans for manned Mars misxe2x80xa6'</td><td>2016-03-09 17:28:47</td></tr><tr><td>829861775357071361</td><td>b'@RusulAlrubail @MarkRuffalo @guardian Please check your facts. Tesla and SpaceX joined as soon as we received the filing, which was Monday.'</td><td>2017-02-10 01:17:19</td></tr><tr><td>699836207442710528</td><td>b'RT @Lebeaucarnews: Test Drives Whet Appetite for TSLA Model X Believers https://t.co/dn54pzs53O'</td><td>2016-02-17 06:02:08</td></tr><tr><td>845293157977767937</td><td>b'@dr_angus Yeah, probably a year from now. S will still win on acceleration though, due to having more space for a larger battery.'</td><td>2017-03-24 15:16:08</td></tr><tr><td>223430899004485634</td><td>b'@n23mc I think we will see people on Mars in less than 20 years. 12 to 15 years most likely. #OccupyMars'</td><td>2012-07-12 14:57:32</td></tr><tr><td>529466348976345088</td><td>b'Review of performance version of dual motor Model S by @MotorTrend http://t.co/wSsbXFdv42'</td><td>2014-11-04 02:53:09</td></tr><tr><td>468136321190346753</td><td>b'RT @SpaceX: [PHOTO] Splashdown! Dragon lands in the Pacific Ocean with 3,500 pounds of ISS cargo. http://t.co/X4fuUQm247'</td><td>2014-05-18 21:09:31</td></tr><tr><td>726210827699806208</td><td>b'@vigneshraju of course'</td><td>2016-04-30 00:45:28</td></tr><tr><td>404073926247972864</td><td>b'Launch can be viewed live from Cape causeways or via http://t.co/soOCggCpN0 webcast around 5:30 local time on Monday'</td><td>2013-11-23 02:28:26</td></tr><tr><td>743602229307805696</td><td>b'Turns out the landing was not as fast we thought, but still hard enough to destroy the primary airframe and accordion the engines'</td><td>2016-06-17 00:32:41</td></tr><tr><td>738471747540783104</td><td>b'@mattyteare @karaswisher @waltmossberg @YouTube autosteering chutes will be added soon'</td><td>2016-06-02 20:45:59</td></tr><tr><td>153099684280410112</td><td>b'Hacked my Tesla charge connector on a small island in the rain last night #whatcouldpossiblygowrong'</td><td>2011-12-31 13:06:23</td></tr><tr><td>659543458953101312</td><td>b'Model S Ludicrous Mode achieves 2.6 sec 0-60 mph and 10.9 sec 1/4 mile in Motor Trend test https://t.co/IpgTF6s9M8'</td><td>2015-10-29 01:33:08</td></tr><tr><td>819014115943272448</td><td>b'@mbhnyc It will in an upcoming release later this year'</td><td>2017-01-11 02:52:36</td></tr><tr><td>191005784862236672</td><td>b'RT @SethGreen: My love @ClareGrant & @elonmusk partied with the space cheese on our tour of @SpaceX & @TeslaMotors ...which was AWESOxe2x80xa6 h ...'</td><td>2012-04-14 03:31:42</td></tr><tr><td>804205155822374913</td><td>b'Model S smashes into semi truck trailer and lifts it off the ground. Driver walks away. https://t.co/NSuMvcYaA6'</td><td>2016-12-01 06:07:05</td></tr><tr><td>819664721888452608</td><td>b'@brandonr182 @sama Have you tried steam engines? They are amazing.'</td><td>2017-01-12 21:57:52</td></tr><tr><td>406205240040771584</td><td>b'Increasing helium spin start pressure. Probably &lt;50% chance of passing all aborts, but worth a try. Countdown resuming ...'</td><td>2013-11-28 23:37:30</td></tr><tr><td>743099301174247424</td><td>b'Upgrades underway to enable rocket to compensate for a thrust shortfall on one of the three landing engines. Probably get there end of year.'</td><td>2016-06-15 15:14:14</td></tr><tr><td>579861658337574912</td><td>b'Falcon 9 lifting off with 1.3 mmmillion pounds of force http://t.co/7ltlN2WYmx'</td><td>2015-03-23 04:26:07</td></tr><tr><td>738470842695176192</td><td>b'Recode interview with @karaswisher and @waltmossberg https://t.co/BDqQ7RreV2 via @YouTube'</td><td>2016-06-02 20:42:23</td></tr><tr><td>322409574248357888</td><td>b'New York judge just ruled in favor Tesla, dismissing the legal attack by auto dealers to prevent direct sales!'</td><td>2013-04-11 18:03:27</td></tr><tr><td>488719729599578112</td><td>b'Detailed review of rocket telemetry needed to tell if due to initial splashdown or subsequent tip over and body slam'</td><td>2014-07-14 16:20:38</td></tr><tr><td>625526696788291584</td><td>b'@kevinmitnick probably end of year'</td><td>2015-07-27 04:42:40</td></tr><tr><td>173531986529497089</td><td>b'@LooperNor Yes, this will, if all goes well, be the first commercial spaceship to dock with the Space Station. T zero ~ end of April.'</td><td>2012-02-25 22:17:04</td></tr><tr><td>658779746071785473</td><td>b'RT @bonnienorman: Huge tree lands on #Tesla Model S, occupants protected. #ftw https://t.co/SOZxdPYQBs @teslamotors @elonmusk https://t.co/xe2x80xa6'</td><td>2015-10-26 22:58:25</td></tr><tr><td>395562607462981633</td><td>b'Tesla West Coast Supercharger network now energized. Travel from Vancouver to Tijuana in styel! http://t.co/gTvV9egg3K'</td><td>2013-10-30 14:47:29</td></tr><tr><td>710625418856964096</td><td>b'@mikegaalsf Turn off recirc. Air exits thru rear vents. Snap in shade also avail from service, but I just tint the rear window.'</td><td>2016-03-18 00:34:37</td></tr><tr><td>404063199227437057</td><td>b'Will be toughest mission to date. Requires coast + upper stage restart + going to 80,000 km altitude (~1/4 way to moon).'</td><td>2013-11-23 01:45:48</td></tr><tr><td>736787058170068993</td><td>b'So it was good for you too ... https://t.co/9cxo39N1lQ'</td><td>2016-05-29 05:11:38</td></tr><tr><td>627040639553830912</td><td>b'Final corner case is dealing with low contrast lane markings (faded white on grey concrete) while driving into the sun at dusk'</td><td>2015-07-31 08:58:32</td></tr><tr><td>175377364551868416</td><td>b'Dawn at Cape Canaveral http://t.co/ZHkcffYr'</td><td>2012-03-02 00:29:56</td></tr><tr><td>815023208235560961</td><td>b'Resolving an Autopilot HW2 bug that shows up when booting from a subzero cold-soak. If that fix works, software will start uploading tmrw.'</td><td>2016-12-31 02:34:09</td></tr><tr><td>384410742675341312</td><td>b'Between this flight &amp; Grasshopper tests, I think we now have all the pieces of the puzzle to bring the rocket back home.'</td><td>2013-09-29 20:13:57</td></tr><tr><td>723260583047516160</td><td>b'RT @hamids: Lots of chatter about Tesla Model X issuesxe2x80xa6Ixe2x80x99ve had none. Most amazing car ever! My Review: https://t.co/nVIKYD0Vmm @elonmusk @xe2x80xa6'</td><td>2016-04-21 21:22:15</td></tr><tr><td>732330010053222400</td><td>b'@joshuapinter @juliusvolz Full height of Falcon 9 boost stage on legs is ~165 ft'</td><td>2016-05-16 22:00:55</td></tr><tr><td>799369292294725632</td><td>b'Vote tally shows ~85% of unaffiliated shareholders in favor of the Tesla/SolarCity merger! Thanks for believing.'</td><td>2016-11-17 21:51:05</td></tr><tr><td>827720686911291392</td><td>b'Minecraft https://t.co/lU1YzJjLOZ'</td><td>2017-02-04 03:29:24</td></tr><tr><td>710891290548785152</td><td>b'RT @TeslaMotors: Tesla Destination Charging in NYC will soon outnumber gas stations @nypost https://t.co/ciVSL90NEm'</td><td>2016-03-18 18:11:06</td></tr><tr><td>674885173838680064</td><td>b'Aiming for Falcon rocket static fire at Cape Canaveral on the 16th and launch about three days later'</td><td>2015-12-10 09:35:38</td></tr><tr><td>402836392566202368</td><td>b'What makes this incredibly unjust is that the Model S to date has the best safety record of any car on the road (no injuries or deaths ever)'</td><td>2013-11-19 16:30:54</td></tr><tr><td>743602894226653184</td><td>b'Looks like early liquid oxygen depletion caused engine shutdown just above the deck https://t.co/Sa6uCkpknY'</td><td>2016-06-17 00:35:20</td></tr><tr><td>788955029138972674</td><td>b'Tesla expects to demonstrate self-driven cross-country trip next year https://t.co/YTxMUT3hWq via @WSJ'</td><td>2016-10-20 04:08:31</td></tr><tr><td>736373856823181312</td><td>b'@dfjsteve Very similar. The crush core in the Falcon legs is reusable after soft landings, but needs to be replaced after hard.'</td><td>2016-05-28 01:49:43</td></tr><tr><td>799670715397980160</td><td>b'@vicentes @TeslaMotors @FortuneMagazine big mobile app update coming with 8.1 next month'</td><td>2016-11-18 17:48:50</td></tr><tr><td>562321505854300161</td><td>b'RT @SpaceX: Americaxe2x80x99s next gen crewed spacecraft is almost ready for a test flight. Pad abort vehicle shipping to FL shortly. http://t.co/Xxe2x80xa6'</td><td>2015-02-02 18:47:49</td></tr><tr><td>789004268296544256</td><td>b'@elonmusk Still working on the video. Fully autonomous drive demo only completed several hours ago.'</td><td>2016-10-20 07:24:11</td></tr><tr><td>553853961317654528</td><td>b'Ascent phase good. Dragon deployed to Space Station rendezvous orbit.'</td><td>2015-01-10 10:00:49</td></tr><tr><td>823728646204440576</td><td>b'RT @neiltyson: In 1927 Lindbergh flew from NY to Paris. 45 yrs later, in 1972 we last walked on the Moon. 45 yrs later, in 2017 wexe2x80xa6 wexe2x80xa6 wexe2x80xa6'</td><td>2017-01-24 03:06:28</td></tr><tr><td>815309075445485568</td><td>b'HW2 Autopilot software uploading to 1000 cars this eve. Will then hold to verify no field issues and upload to rest of fleet next week.'</td><td>2016-12-31 21:30:05</td></tr><tr><td>798984693844541440</td><td>b'@ArminKeyani All P100D vehicles produced to date, as well as new. This is purely a software optimization.'</td><td>2016-11-16 20:22:50</td></tr><tr><td>306304864164667392</td><td>b'RT @johnvoelcker: This is one very, very happy owner! My 2013 Tesla Model S Electric Sport Sedan: Delivery at Last! http://t.co/XNBQc6Md ...'</td><td>2013-02-26 07:29:05</td></tr><tr><td>743097668725940225</td><td>b'RUD = Rapid Unscheduled Disassembly :)'</td><td>2016-06-15 15:07:44</td></tr><tr><td>153574532031070208</td><td>b'We built powerful information weapons to fight enemies of liberty. Now those enemies are largely defeated, but the weapons remain.'</td><td>2012-01-01 20:33:16</td></tr><tr><td>307361875782402048</td><td>b'Launch on track for tomorrow morning at 10:10 am Cape Canaveral time'</td><td>2013-03-01 05:29:16</td></tr><tr><td>716750313471025152</td><td>b'@tapwin No, but we will need to build a factory in Europe to serve long-term regional demand as Fremont reaches max capacity.'</td><td>2016-04-03 22:12:45</td></tr><tr><td>330240665483096064</td><td>b'@JSONberland We did a ton of testing until they could handle 4X legally required impact energy. Extremely tough.'</td><td>2013-05-03 08:41:24</td></tr><tr><td>836020571490021376</td><td>b'SpaceX announcement tomorrow at 1pm PST'</td><td>2017-02-27 01:10:11</td></tr><tr><td>789019145853513729</td><td>b'Tesla drives itself (no human input at all) thru urban streets to highway to streets, then finds a parking spot https://t.co/V2T7KGMPBo'</td><td>2016-10-20 08:23:18</td></tr><tr><td>845292886623109120</td><td>b'RT @morrisonbrett: @elonmusk First batch Model S P85D for me, Grey. Signature Model X P90D for wife, Triple White. Best vehicles in the worxe2x80xa6'</td><td>2017-03-24 15:15:03</td></tr><tr><td>658357058106822656</td><td>b'@roneijlander We just finished building a huge expansion in Tilburg!'</td><td>2015-10-25 18:58:48</td></tr><tr><td>801569787121790976</td><td>b'RT @thedrive: These Are the Lobbyists Behind the Site Attacking Elon Musk and Tesla: https://t.co/l6u1MTrm0P'</td><td>2016-11-23 23:35:04</td></tr><tr><td>561002248827052034</td><td>b'If you are curious about the P85D, you can schedule a test drive here: http://t.co/Eu19pBUpNO'</td><td>2015-01-30 03:25:33</td></tr><tr><td>464491775264960512</td><td>b'Trouble in Missouri. Auto dealers trying to sneak in a monopoly creation bill today http://t.co/p6zqtsaYpi'</td><td>2014-05-08 19:47:23</td></tr><tr><td>752203559043641344</td><td>b'Blog on Autopilot by @PeterDiamandis https://t.co/LR5zuw3J9X'</td><td>2016-07-10 18:11:18</td></tr><tr><td>189440053674655745</td><td>b'Friend told me about the amazing work of Brazilian plastic surgeon Evil Picante. He was actually saying Ivo Pitanguy.'</td><td>2012-04-09 19:50:03</td></tr><tr><td>277913865688346624</td><td>b'Told my kids (age 8 and 6) that we were going to see the Nutcracker, which somehow got translated as the Buttcracker.'</td><td>2012-12-09 23:13:23</td></tr><tr><td>799120535896485888</td><td>b'@Contra_9077 sounds right'</td><td>2016-11-17 05:22:37</td></tr><tr><td>799670357535789056</td><td>b'RT @TeslaMotors: Battery solar farm to power the island of Kauai @FortuneMagazine https://t.co/rz2h6bp2Du'</td><td>2016-11-18 17:47:25</td></tr><tr><td>278918251730305025</td><td>b'@Neowolf2 Relative to kerosene, methane is not prone to coking, but we would run v high purity anyway for max Isp.'</td><td>2012-12-12 17:44:27</td></tr><tr><td>406799700940324864</td><td>b'Rocket engines are healthy, but cleaning turbopump gas generators will take another day. Aiming for Mon eve launch.'</td><td>2013-11-30 14:59:41</td></tr><tr><td>471808555951980544</td><td>b'Model S in drag queen competition @CARandDRIVER http://t.co/SHSkETbbWm'</td><td>2014-05-29 00:21:40</td></tr><tr><td>326152872708419585</td><td>b'Now with actual picture :) http://t.co/G6PCiAJmtx'</td><td>2013-04-22 01:57:59</td></tr><tr><td>576500946303217664</td><td>b'RT @SpaceX: Introducing Landing Complex 1, formerly Launch Complex 13, at Cape Canaveral in Florida. http://t.co/oIr6NssyCo'</td><td>2015-03-13 21:51:51</td></tr><tr><td>156927468836630528</td><td>b'The exec conf room at Tesla used to be called Denali, but I decided to move a few letters around. Seemed more apt :) http://t.co/Raq5UaR6'</td><td>2012-01-11 02:36:39</td></tr><tr><td>299961175490297856</td><td>b'Our Great^n Grandfather http://t.co/zxndg3WF'</td><td>2013-02-08 19:21:31</td></tr><tr><td>459891514781364224</td><td>b'Letter from @SenJohnMcCain to DoD Inspector General questioning uncompeted space launch contract http://t.co/Bq6raOKSHM'</td><td>2014-04-26 03:07:36</td></tr><tr><td>331490556574326785</td><td>b'Anyone interested in doing ultra hardcore vehicle engineering at Tesla, please apply!'</td><td>2013-05-06 19:28:02</td></tr><tr><td>407996645121728513</td><td>b'Live video feed of launch at http://t.co/Oo569cuarz'</td><td>2013-12-03 22:15:55</td></tr><tr><td>166781555950354432</td><td>b'@BenToBeWild Yes, we will unveil a fully functional advanced prototype of the Model X -- almost identical to production.'</td><td>2012-02-07 07:13:16</td></tr><tr><td>386219821685170176</td><td>b'About the Model S fire ... http://t.co/7LSBaNbnyd'</td><td>2013-10-04 20:02:35</td></tr><tr><td>384392608350367744</td><td>b'Launch was good. All satellites deployed at the targeted orbit insertion vectors. http://t.co/SUYMH7W9pH'</td><td>2013-09-29 19:01:54</td></tr><tr><td>531994668608024576</td><td>b'SpaceX is still in the early stages of developing advanced micro-satellites operating in large formations. Announcement in 2 to 3 months.'</td><td>2014-11-11 02:19:47</td></tr><tr><td>321987888055201793</td><td>b'Just wanted to say thanks to everyone for testifying yesterday in Austin. Will hang around after press conf to thank people in person.'</td><td>2013-04-10 14:07:49</td></tr><tr><td>594186544174366720</td><td>b'For more info on Tesla Energy, check out press kit. $250/kWh for utility scale is the real kicker http://t.co/xE57uIUCse'</td><td>2015-05-01 17:08:06</td></tr><tr><td>469988081635196928</td><td>b'@westcoastbill First, the cheese. Then, the mouse.'</td><td>2014-05-23 23:47:45</td></tr><tr><td>725364699303301120</td><td>b'Dragon 2 is designed to be able to land anywhere in the solar system. Red Dragon Mars mission is the first test flight.'</td><td>2016-04-27 16:43:15</td></tr><tr><td>453571298677907456</td><td>b'Leasing a Model S takes 5 mins online, no signatures &amp; one tap on car center screen to accept when delivered'</td><td>2014-04-08 16:33:19</td></tr><tr><td>737859967450021889</td><td>b'Good summary of Tesla annual meeting by @katiefehren https://t.co/G3enS77hJ7'</td><td>2016-06-01 04:14:59</td></tr><tr><td>406194506011525120</td><td>b'Launch aborted by autosequence due to slower than expected thrust ramp. Seems ok on closer inspection. Cycling countdown.'</td><td>2013-11-28 22:54:51</td></tr><tr><td>243800936240279552</td><td>b'Tesla Model S driven 285 miles from Vegas to the beach in LA on a single charge by @motortrend http://t.co/8YvO1tsz'</td><td>2012-09-06 20:00:47</td></tr><tr><td>411007245661372416</td><td>b'RT @bonnienorman: @teslaMotors @elonmusk Santa came early this year for a little girl in Texas, thanks to #Tesla. http://t.co/SpNbOVx3ZB  #xe2x80xa6'</td><td>2013-12-12 05:38:58</td></tr><tr><td>744552621072064512</td><td>b'If curious abt TSWLM car, am still planning to do a sports sub car that can drive on roads. Just a side project. Limited market potential :)'</td><td>2016-06-19 15:29:12</td></tr><tr><td>168022238061268993</td><td>b'Tesla Model X video  http://t.co/pjcaicOc'</td><td>2012-02-10 17:23:17</td></tr><tr><td>560898568748531712</td><td>b'Tesla P85D 0 to 60mph acceleration will improve by ~0.1 sec soon via over-the-air software update to inverter algorithm'</td><td>2015-01-29 20:33:34</td></tr><tr><td>652994832399470592</td><td>b'Tesla P85D (assembled in Tilburg) beats 650 hp MacLaren from 0 to 150km/h in Dutch magazine test http://t.co/HKbOyFgUzi'</td><td>2015-10-10 23:51:14</td></tr><tr><td>271085808155500544</td><td>b'Love this picture of the Curiousity rover on Mars. Landscape looks just like the California desert. http://t.co/02GDasae'</td><td>2012-11-21 03:01:08</td></tr><tr><td>601578147113529344</td><td>b'Astronomer Royal Martin Rees: How soon will robots take over the world? - via @Telegraph http://t.co/DStxgM0S8F'</td><td>2015-05-22 02:39:41</td></tr><tr><td>635214915934928896</td><td>b'True, but achieving a long range affordable electric vehicle has always been our long-term goal. Due in late 2017! https://t.co/2OrIYdoojs'</td><td>2015-08-22 22:20:12</td></tr><tr><td>560909571691380736</td><td>b'Painting the name on the droneship ... http://t.co/X8R8O4KjPx'</td><td>2015-01-29 21:17:17</td></tr><tr><td>559629011983147008</td><td>b'Final one: anything launched by a railgun (if you could ever reach ~ Mach 27) would explode upon exiting the barrel in our dense atmosphere'</td><td>2015-01-26 08:28:48</td></tr><tr><td>159330380955136001</td><td>b'TSLA down ~$500M Friday, but back up ~$500M today. Sorry for the roller coaster.'</td><td>2012-01-17 17:44:57</td></tr><tr><td>639170376186990592</td><td>b'With same options, Model X is $5k more than an S due to greater size &amp; body complexity. Sig Series is fully loaded, hence high price.'</td><td>2015-09-02 20:17:47</td></tr><tr><td>426454433916940290</td><td>b'Tesla policy is to charge the same price (+ taxes &amp; shipping) everywhere in the world http://t.co/cXOtokcBeG'</td><td>2014-01-23 20:40:34</td></tr><tr><td>636089783274463232</td><td>b'RT @BjornNyland: @TeslaMotors @elonmusk #P85D setting new world record in #hypermiling driving 728.7 km/452.8 mi on a single charge http://xe2x80xa6'</td><td>2015-08-25 08:16:36</td></tr><tr><td>325011704582901760</td><td>b'@eirene_inc @archforhumanity @AFHDisasterTeam We have a lot of heavy lifting equipment. Will ask my team to send it over.'</td><td>2013-04-18 22:23:23</td></tr><tr><td>278605236845817856</td><td>b'RT @brynmooser: YES! xe2x80x9c@RYOTnews: BREAKING: @UN to launch anti-cholera initiative aimed at #Haiti http://t.co/vBSbwDwF #cholera @IJDH @ol ...'</td><td>2012-12-11 21:00:39</td></tr><tr><td>688816810754359297</td><td>b'@Uncle_Gus probably'</td><td>2016-01-17 20:14:59</td></tr><tr><td>599964926992486401</td><td>b'RT @johngreen: My brilliant brother has a message for you, future dead person. https://t.co/kHy5nRuXxY'</td><td>2015-05-17 15:49:20</td></tr><tr><td>331797405840338944</td><td>b'Am a fan of Larry, Sergey &amp; Google in general, but self-driving cars comments to Bloomberg were just off-the-cuff. No big announcement here'</td><td>2013-05-07 15:47:20</td></tr><tr><td>330054002148515841</td><td>b'@BigBalli High pressure helium. Needs to be ultra light. All 4 legs together (~60 ft span) weigh less than Model S.'</td><td>2013-05-02 20:19:40</td></tr><tr><td>784487348562198529</td><td>b'Cumulative Tesla Autopilot miles now at 222 million'</td><td>2016-10-07 20:15:33</td></tr><tr><td>490325897820381185</td><td>b'Looks like body slam, maybe from a self-generated wave'</td><td>2014-07-19 02:42:58</td></tr><tr><td>219266223895093248</td><td>b'Screening of Baseball in the Time of Cholera (dir: @brynmooser @daviddarg, prod @oliviawilde &amp; me) at WME July 12. @rainnwilson hosting'</td><td>2012-07-01 03:08:36</td></tr><tr><td>653028711768285184</td><td>b'@MPa81 @bonnienorman same'</td><td>2015-10-11 02:05:52</td></tr><tr><td>835351081945350145</td><td>b'@DueDiamond maybe one of those too'</td><td>2017-02-25 04:49:52</td></tr><tr><td>407718045151678464</td><td>b'@TierraUniversu The writer of this article had a problem with his 12V battery, so main pack was constantly charging it.'</td><td>2013-12-03 03:48:51</td></tr><tr><td>405618648183607296</td><td>b'RT @williamwinters: Ford issues 4th and 5th recalls for 2013 Escapes spontaneously catching fire. Not in the mainstream media. @elonmusk htxe2x80xa6'</td><td>2013-11-27 08:46:36</td></tr><tr><td>841040566867509248</td><td>b'.@mcannonbrookes Can only happen with your support, and working closely with key govt and utility leaders who are sxe2x80xa6 https://t.co/AlfAGI0kLB'</td><td>2017-03-12 21:37:51</td></tr><tr><td>303585941304537090</td><td>b'Appreciate thoughtful @Sulliview article. Faith in @nytimes restored.'</td><td>2013-02-18 19:25:03</td></tr><tr><td>303244501957365760</td><td>b'RT @LawrenceChanin: @TeslaRoadTrip @avantgame @TEDchris @elonmusk @nytimes   nThe driving public is the winner thanks to the efforts of  ...'</td><td>2013-02-17 20:48:17</td></tr><tr><td>178865792371277825</td><td>b'Just passed a place called the Sugar Shack in a Louisiana swamp. I wonder what happens there? http://t.co/1MomQnNe'</td><td>2012-03-11 15:31:43</td></tr><tr><td>747300198750183424</td><td>b'@vicentes cute!'</td><td>2016-06-27 05:27:06</td></tr><tr><td>746242506816262144</td><td>b'RT @WIRED: Tesla is done being an automakerxe2x80x94it is now an energy company: https://t.co/GjIfnOBpk6 https://t.co/mUge7Gj2th'</td><td>2016-06-24 07:24:12</td></tr><tr><td>321710007223726080</td><td>b'Just had Texas BBQ for lunch in Capitol Building. About to head to House Committee hearing to advocate for Tesla in TX.'</td><td>2013-04-09 19:43:37</td></tr><tr><td>304004275921625090</td><td>b'Thanks @CNBC! xe2x80x9c@Lebeaucarnews: The Model S delivered what @elonmusk promised. A ride to make you re-think going electric.xe2x80x9d'</td><td>2013-02-19 23:07:22</td></tr><tr><td>530599540995260416</td><td>b'Astronauts Play With Blobs of Water in Zero Gravity http://t.co/SeCDcWTnJv'</td><td>2014-11-07 05:56:03</td></tr><tr><td>402850950500474881</td><td>b'Tesla is also extending the Model S warranty to cover any fire damage even if due solely to a driver accident'</td><td>2013-11-19 17:28:45</td></tr><tr><td>830239445433544704</td><td>b'@SEACityLight @Nas2four Sounds like the Tesla Powerwall (consumer) and Powerpack (utility/commercial) might be useful'</td><td>2017-02-11 02:18:03</td></tr><tr><td>829509777218613248</td><td>b'@dknisely of course it will'</td><td>2017-02-09 01:58:37</td></tr><tr><td>157700726515183616</td><td>b'A Tesla Roadster just passed the 100,000 mile mark for the first time and still has over 200 miles of range.'</td><td>2012-01-13 05:49:17</td></tr><tr><td>321637861147426816</td><td>b'In TX to make the case for allowing Tesla to sell cars. Pls come to Capitol Room E2.014 at 1:30! http://t.co/WR3WXE8SFe'</td><td>2013-04-09 14:56:56</td></tr><tr><td>716747844175142912</td><td>b'@AlexBelohlavek less'</td><td>2016-04-03 22:02:57</td></tr><tr><td>299961897426505729</td><td>b'SpaceX software engineering is doing an AMA on Reddit   nhttp://t.co/hwkUwM5v'</td><td>2013-02-08 19:24:24</td></tr><tr><td>792213393943826432</td><td>b'Should mention that the Tesla solar roof is robust against any weather, incl heavy hail. Also, higher insulating value than a standard roof.'</td><td>2016-10-29 03:56:06</td></tr><tr><td>189870469908938752</td><td>b'Great to meet Jon Stewart this eve. Have been a fan of @TheDailyShow for a billion years.'</td><td>2012-04-11 00:20:22</td></tr><tr><td>564562686478807043</td><td>b'Air Force tracking radar went down. Launch postponed to same time tomorrow.'</td><td>2015-02-08 23:13:28</td></tr><tr><td>553843486236364800</td><td>b'RT @SpaceX: T-30 min to Falcon 9 and Dragon launch. Live launch webcast: http://t.co/tdni54hHPm http://t.co/7qRCYxBJkd'</td><td>2015-01-10 09:19:11</td></tr><tr><td>552877044296450048</td><td>b'RT @SpaceX: Ah yes, the xe2x80x9cBird 9xe2x80x9d. Meet our rocket: http://t.co/uwkUzq6LBM http://t.co/FiJfRA1I43'</td><td>2015-01-07 17:18:53</td></tr><tr><td>303343908379836417</td><td>b'RT @TeslaRoadTrip: #TeslaRoadTrip All - thanks so much for following our twitter feed.  The trip was a success and everyone has diverted ...'</td><td>2013-02-18 03:23:18</td></tr><tr><td>739006012749799424</td><td>b'Creating a neural lace is the thing that really matters for humanity to achieve symbiosis with machines'</td><td>2016-06-04 08:08:58</td></tr><tr><td>777985245731696640</td><td>b'@PassionPlanet1 Yeah, definitely one of my favorite names'</td><td>2016-09-19 21:38:31</td></tr><tr><td>193076303426097152</td><td>b'Just signed Giving Pledge with 11 others. I hope this announcement convinces others to do the same. http://t.co/cdCgWkAB'</td><td>2012-04-19 20:39:12</td></tr><tr><td>476641195938938880</td><td>b'RT @Jon_Favreau: Bloomberg interview @TeslaMotors #ChefMovie http://t.co/WsY02tHp9d'</td><td>2014-06-11 08:24:51</td></tr><tr><td>331795766937018368</td><td>b'@rebel_sal exactly'</td><td>2013-05-07 15:40:49</td></tr><tr><td>841563925707546626</td><td>b'Finally, an explanation for daylight savings that makes sense ... https://t.co/kGpJHNgRJO'</td><td>2017-03-14 08:17:30</td></tr><tr><td>841011061935362048</td><td>b'@ah_pton16 I love Wikipedia. Just gets better over time.'</td><td>2017-03-12 19:40:37</td></tr><tr><td>576193855323697152</td><td>b'Maybe this is all the work of the Stonecutters! Certainly connects a lot of themes ... http://t.co/E5jJ9Snaca'</td><td>2015-03-13 01:31:34</td></tr><tr><td>726217179683655680</td><td>b'@Tweetermeyer things like this should be purged shortly'</td><td>2016-04-30 01:10:42</td></tr><tr><td>726214236368576512</td><td>b'@gdoehne JCSat is pushing the envelope as a very hot and fast mission, so will land on the droneship. Next land landing in a few months.'</td><td>2016-04-30 00:59:01</td></tr><tr><td>427372940603437056</td><td>b'Two teams from Tesla aiming to set a cross-country EV speed record this week. Departing Fri from LA, arriving Sun in NY.'</td><td>2014-01-26 09:30:23</td></tr><tr><td>271119275673145344</td><td>b'@Thomas_Tregner Exactly!'</td><td>2012-11-21 05:14:07</td></tr><tr><td>788904960331161600</td><td>b'@FutureBoy @mashable true and underappreciated'</td><td>2016-10-20 00:49:34</td></tr><tr><td>331792738339127296</td><td>b'@DJFrustration Tested it myself this weekend and was working well. Some songs have licensing prohibiting direct request.'</td><td>2013-05-07 15:28:47</td></tr><tr><td>705094397470179329</td><td>b'.@curtismcauliff SpaceX has not donated to any presidential campaign'</td><td>2016-03-02 18:16:19</td></tr><tr><td>802708695830306816</td><td>b'@edwardsanchez about three weeks and it will get rolled out incrementally in monthly releases'</td><td>2016-11-27 03:00:41</td></tr><tr><td>716751300063531008</td><td>b'@_elombardo @rjpryan correct'</td><td>2016-04-03 22:16:41</td></tr><tr><td>245605921387053056</td><td>b'RT @therealautoblog: First Drive: 2012 Tesla Model S [w/video] http://t.co/2E1VZDAJ'</td><td>2012-09-11 19:33:09</td></tr><tr><td>337791672295501824</td><td>b'And, since we will run out of oil anyway, why risk the future of all life on Earth simply to delay sustainable energy?'</td><td>2013-05-24 04:46:25</td></tr><tr><td>246419783136976897</td><td>b'Tesla Supercharger unveiling event set for Sept 24. It will feel like alien spaceships landed at highway rest stops.'</td><td>2012-09-14 01:27:09</td></tr><tr><td>705687267684159488</td><td>b'@Astro_Valdric @TeslaMotors We spoke earlier today and he said he would investigate the situation.'</td><td>2016-03-04 09:32:10</td></tr><tr><td>322414424570859520</td><td>b'@JBSiegelMD Thanks! Hearing from constituents is super important to counteract the influence of the dealer lobby.'</td><td>2013-04-11 18:22:43</td></tr><tr><td>275835562076811264</td><td>b'RT @Slate: New government study says we could save billions by replacing dollar bills with coins. New study is wrong: http://t.co/QgwH0bSh'</td><td>2012-12-04 05:34:57</td></tr><tr><td>833332058453790720</td><td>b'Baby came back https://t.co/5FRhw3AT2b'</td><td>2017-02-19 15:06:59</td></tr><tr><td>535914463388782592</td><td>b'Cuteness overload MT xe2x80x9c@WIRED: A baby baboon snuggled with a teddy bear http://t.co/wuovq1HPEY http://t.co/UHK8MnGj4ixe2x80x9d'</td><td>2014-11-21 21:55:39</td></tr><tr><td>756663746764742656</td><td>b'https://t.co/Kgkz1Z3FwJ'</td><td>2016-07-23 01:34:30</td></tr><tr><td>752218264499949568</td><td>b'Kinda. Creating a seamlessly integrated Tesla battery &amp; solar power product that looks beautiful is the reason https://t.co/4z6MzBB9p2'</td><td>2016-07-10 19:09:44</td></tr><tr><td>751516148739416064</td><td>b'Model S had the lowest probability of injury of any car ever tested by NHTSA, which is why ... https://t.co/9tZZJEc5wg'</td><td>2016-07-08 20:39:47</td></tr><tr><td>405864483404251137</td><td>b'RT @mgalimany: @TeslaMotors @elonmusk This is what happens when your car is not a #Tesla Model S.n https://t.co/sVlvoRZINXnThis will never xe2x80xa6'</td><td>2013-11-28 01:03:28</td></tr><tr><td>798364751428349952</td><td>b'RT @NASA: #Mars is hard, but itxe2x80x99s worth the risks to extend humanityxe2x80x99s frontier beyond Earth. Learn about our neighbor planet: https://t.coxe2x80xa6'</td><td>2016-11-15 03:19:24</td></tr><tr><td>845294411072204801</td><td>b'RT @RH_Way: @elonmusk Our 85 hit the guardrails at well over 160km/h. Tessi absorbed impact, wife and baby are ok. Best car ever &amp; Member oxe2x80xa6'</td><td>2017-03-24 15:21:07</td></tr><tr><td>495739993600450560</td><td>b'Guardians of the Galaxy is great. Best line is when Star-Lord says his spaceship looks like a Jackson Pollock painting under black light.'</td><td>2014-08-03 01:16:39</td></tr><tr><td>707636460212490240</td><td>b'@Christianlguaje no'</td><td>2016-03-09 18:37:34</td></tr><tr><td>324575593796612096</td><td>b'A @WhiteHouse petition to allow direct sales of cars by manufacturers: https://t.co/7h6m89mQmh Please vote here too!'</td><td>2013-04-17 17:30:26</td></tr><tr><td>599391737094635520</td><td>b'RT @SpaceX: Adventure awaits! Explore Marsxe2x80x99 ultimate vacation destinations nhttp://t.co/KpluQw4cow http://t.co/kptj27x1LD'</td><td>2015-05-16 01:51:40</td></tr><tr><td>732042627445460992</td><td>b'@bittdk Better. Not there yet, but a solution is likely.'</td><td>2016-05-16 02:58:57</td></tr><tr><td>564491913445666816</td><td>b'RT @SpaceX: #Falcon9 is vertical in advance of tonightxe2x80x99s #DSCOVR launch, targeting 6:10pm EST. Watch LIVE: http://t.co/tdni5406Hi http://t.xe2x80xa6'</td><td>2015-02-08 18:32:14</td></tr><tr><td>832979955092819968</td><td>b'@Zybbby Not obviously related to the (very tiny) helium leak, but also not out of the question'</td><td>2017-02-18 15:47:51</td></tr><tr><td>330707889729712131</td><td>b'@Vangsgutane Norway rocks!'</td><td>2013-05-04 15:37:59</td></tr><tr><td>739001483249618948</td><td>b'@renzdimaandal @Tom_Stears It is simulations all the way down'</td><td>2016-06-04 07:50:58</td></tr><tr><td>192865279657771008</td><td>b'RT @60Minutes: Sal Khan of @KhanAcademy makes the #TIME100 list. Watch the #60Minutes piece on the innovative educator here: http://t.co ...'</td><td>2012-04-19 06:40:40</td></tr><tr><td>845355766357737472</td><td>b'@nickbaum I believe so'</td><td>2017-03-24 19:24:55</td></tr><tr><td>792195932251037697</td><td>b'RT @TeslaMotors: Close up of the solar roof https://t.co/kDsSqtTWK7'</td><td>2016-10-29 02:46:43</td></tr><tr><td>688814342846820352</td><td>b'RT @NASA: After a successful  launch, #Jason3 spacecraft has separated &amp; is flying free. Watch live: https://t.co/KX5g7zfYQen https://t.co/xe2x80xa6'</td><td>2016-01-17 20:05:11</td></tr><tr><td>626979025190301696</td><td>b'RT @TheEconomist: A carbon tax is the best way to reduce emissions. Failing that, halt subsidies to fossil fuels http://t.co/wfuLPiW6tH httxe2x80xa6'</td><td>2015-07-31 04:53:42</td></tr><tr><td>405922013111676928</td><td>b'@AdamMKE Model S can seat 5 adults, two kids and has a front trunk for luggage. Might work for you.'</td><td>2013-11-28 04:52:04</td></tr><tr><td>535085589456879616</td><td>b'Really hate it when companies bring out an awesome show car and then you can never actually buy it. So lame.'</td><td>2014-11-19 15:02:00</td></tr><tr><td>593296401196388352</td><td>b'For the future to be good, we need electric transport, solar power and (of course) ... http://t.co/8mwVWukQDL'</td><td>2015-04-29 06:10:59</td></tr><tr><td>707830670148567040</td><td>b'RT @WIRED: Las Vegas utilities really donxe2x80x99t want the strip to go solar https://t.co/IuQUJHdEje https://t.co/pSoCj5kJe1'</td><td>2016-03-10 07:29:17</td></tr><tr><td>841098180573851648</td><td>b'@AndreElijah Ok'</td><td>2017-03-13 01:26:47</td></tr><tr><td>322416386037141504</td><td>b'@batasrki Stay tuned for a big Supercharger announcement in a few weeks. Definitely have you covered.'</td><td>2013-04-11 18:30:31</td></tr><tr><td>167357401815715840</td><td>b'RT @SpaceX: Photo Update: Dragon complete with trunk at the SpaceX hangar, preparations continue for the historic mission ahead. http:// ...'</td><td>2012-02-08 21:21:28</td></tr><tr><td>307615430154022912</td><td>b'Orbit raising burn successful. Dragon back on track.'</td><td>2013-03-01 22:16:48</td></tr><tr><td>743098357728444418</td><td>b'@AstroOrionMK @BadAstronomer Quite rapid... Yes'</td><td>2016-06-15 15:10:29</td></tr><tr><td>755990352511705088</td><td>b'@danahull Jerome is driving Tesla Semi &amp; doing a great job with his team. At Daimler, he led their most successful semi truck program ever.'</td><td>2016-07-21 04:58:40</td></tr><tr><td>715219872204992512</td><td>b'Great article by @BadAstronomer. Important to note max temp record. Too much attention on avg temp. Max matters most https://t.co/0FnIAVsbIu'</td><td>2016-03-30 16:51:20</td></tr><tr><td>337592840743968768</td><td>b'As many have already noted, @Chrysler is a division of Fiat, an Italian company. We specifically said first *US* company.'</td><td>2013-05-23 15:36:20</td></tr><tr><td>716751152906440705</td><td>b'@EduardoForneck hopefully 0.21'</td><td>2016-04-03 22:16:06</td></tr><tr><td>338359304216256512</td><td>b'@1stHubbleFan @keithwarren Exactly'</td><td>2013-05-25 18:21:59</td></tr><tr><td>829834118733062144</td><td>b'RT @TeslaMotors: Supercharger availability is now displayed on your Tesla touchscreen so you can see how many stalls are open before you arxe2x80xa6'</td><td>2017-02-09 23:27:26</td></tr><tr><td>658657239331270656</td><td>b'@anakinSGE Hopefully, mid to late next year. We are being more cautious abt expanding countries to ensure a great user experience each time.'</td><td>2015-10-26 14:51:37</td></tr><tr><td>778602042759585793</td><td>b'My favorite new feature is the always-on max temp control for keeping kids and pets safe from overheating.'</td><td>2016-09-21 14:29:27</td></tr><tr><td>776971939277438976</td><td>b'@andyzalk sounds like the right name for the rocket booster'</td><td>2016-09-17 02:32:00</td></tr><tr><td>493084094532956160</td><td>b'On annual camping trip w kids. Trying a place just south of Carmel in California this year.'</td><td>2014-07-26 17:23:03</td></tr><tr><td>337789653233041408</td><td>b'Those who would deny climate change should ask themselves what happens if they are wrong http://t.co/S7fOIrly6B'</td><td>2013-05-24 04:38:23</td></tr><tr><td>739185293664747520</td><td>b'Good article from @themotleyfool explaining how little incentives have actually contributed to Tesla funding https://t.co/zfC8di7EDX'</td><td>2016-06-04 20:01:22</td></tr><tr><td>677949037815840768</td><td>b'@elonmusk holding for issue resolution'</td><td>2015-12-18 20:30:20</td></tr><tr><td>677945101184708609</td><td>b'Abort triggered by flight computer on upper stage throttle valve. Adjusting thresholds and restarting count at T-10 mins.'</td><td>2015-12-18 20:14:42</td></tr><tr><td>476421813455839232</td><td>b'RT @TheOnion: More Office Workers Switching To Fetal Position Desks http://t.co/AohlCOjAhh http://t.co/xsjk1XV6OE'</td><td>2014-06-10 17:53:06</td></tr><tr><td>588463193070022656</td><td>b'High resolution, color corrected, slow motion rocket landing video https://t.co/UTF3Y4xGU3'</td><td>2015-04-15 22:05:33</td></tr><tr><td>579504748014907393</td><td>b'Reading Look to Windward by Banks. He is an amazing writer. Pantheon level.'</td><td>2015-03-22 04:47:53</td></tr><tr><td>150388617246801920</td><td>b'We had a long and interesting conversation on many subjects. He has exciting ideas for extending his creative talents beyond music.'</td><td>2011-12-24 01:33:35</td></tr><tr><td>732328928447057920</td><td>b'RT @USATODAY: Global warming is getting worse with record temps and widespread coral bleaching: https://t.co/z4viRzwneA (Getty) https://t.cxe2x80xa6'</td><td>2016-05-16 21:56:37</td></tr><tr><td>792218248917811204</td><td>b'Solar glass tiles can also incorporate heating elements, like rear defroster on a car, to clear roof of snow and keep generating energy'</td><td>2016-10-29 04:15:23</td></tr><tr><td>838565081306677249</td><td>b'@SimonaKitzu Self-hatred'</td><td>2017-03-06 01:41:09</td></tr><tr><td>657685372579745793</td><td>b'Regulatory approvals received, so Autopilot rolling out to all countries! (Excluding Japan, which is still under review)'</td><td>2015-10-23 22:29:46</td></tr><tr><td>757600711714701312</td><td>b'@ID_AA_Carmack Maybe as a future optimization. Would only matter if it was extremely big.'</td><td>2016-07-25 15:37:39</td></tr><tr><td>330869907640184832</td><td>b'@flyguynscc @teslamotors yes, that has been the goal from the beginning'</td><td>2013-05-05 02:21:47</td></tr><tr><td>817509115555643392</td><td>b'@pensasoda https://t.co/6Ies7xBuBs via @WIRED'</td><td>2017-01-06 23:12:16</td></tr><tr><td>466518346574626817</td><td>b'@Oatmeal I would be happy to help'</td><td>2014-05-14 10:00:15</td></tr><tr><td>462100295896412160</td><td>b'Second flight of Falcon 9-R. 1000m, hover and land (with cows) http://t.co/tixmBH5sw6'</td><td>2014-05-02 05:24:30</td></tr><tr><td>553856479590359040</td><td>b'Ship itself is fine. Some of the support equipment on the deck will need to be replaced...'</td><td>2015-01-10 10:10:49</td></tr><tr><td>726216836069515264</td><td>b'@RokBottomGamers 100+ for almost everything 10+ for heat shields and a few other items.'</td><td>2016-04-30 01:09:20</td></tr><tr><td>832871068066942976</td><td>b'Counting down to the first SpaceX launch from the Apollo 11 launch pad tomorrow morning (webcastxe2x80xa6 https://t.co/upjTcmftte'</td><td>2017-02-18 08:35:11</td></tr><tr><td>739631614100004864</td><td>b'@tedismeiamted @PlayOverwatch @Blizzard_Ent PC, of course'</td><td>2016-06-06 01:34:53</td></tr><tr><td>307633403195449344</td><td>b'Would also like to thank @USAirForce for allowing us to use their long range comm system for Dragon in free drift.'</td><td>2013-03-01 23:28:13</td></tr><tr><td>457190623640969216</td><td>b'Heavy seas in Atlantic preventing our recovery ship from being on station. Maybe they can help? http://t.co/9zZKAqPh6H'</td><td>2014-04-18 16:15:13</td></tr><tr><td>627041173669048320</td><td>b'@alipoursamar all regions'</td><td>2015-07-31 09:00:40</td></tr><tr><td>459448693444206592</td><td>b'100th @TeslaMotors Supercharger goes live http://t.co/jgCWF4qxCd'</td><td>2014-04-24 21:47:59</td></tr><tr><td>589577558942822400</td><td>b'Cause of hard rocket landing confirmed as due to slower than expected throttle valve response. Next attempt in 2 months.'</td><td>2015-04-18 23:53:38</td></tr><tr><td>828292953798012932</td><td>b'@RealPhillipPoon Needs a major overhaul'</td><td>2017-02-05 17:23:23</td></tr><tr><td>828291645548408833</td><td>b'@BullFlags Yeah. And Twitter is a hater Hellscape.'</td><td>2017-02-05 17:18:11</td></tr><tr><td>560908370623098882</td><td>b'P85 acceleration will also improve, but not quite as much'</td><td>2015-01-29 21:12:31</td></tr><tr><td>591062459349274624</td><td>b'@bonnienorman New Roadster battery should complete safety validation by end of July, so likely available in August'</td><td>2015-04-23 02:14:06</td></tr><tr><td>404755031037317120</td><td>b'At Disney World w kids for traditional prelaunch visit (first good flight was after riding Space Mountain)'</td><td>2013-11-24 23:34:54</td></tr><tr><td>835187686151315456</td><td>b'@davidshepardson @BW @ATT @ToysRUs Exactly :)'</td><td>2017-02-24 18:00:36</td></tr><tr><td>845337811876114432</td><td>b'@nddugan Yup'</td><td>2017-03-24 18:13:34</td></tr><tr><td>535085033904558080</td><td>b'Rumors about canceling Falcon wing doors are false. At Tesla, the production car will always be better than the show car.'</td><td>2014-11-19 14:59:48</td></tr><tr><td>330053450261987328</td><td>b'F9R (pronounced F-niner) shows a little leg. Design is a nested, telescoping piston w A frame. http://t.co/H49TSS2CYl'</td><td>2013-05-02 20:17:29</td></tr><tr><td>716751456574025728</td><td>b'@GatorWass you can do that now with S and X. Will be same for 3.'</td><td>2016-04-03 22:17:18</td></tr><tr><td>747887079808327680</td><td>b'Thanks for the kind bday wishes!'</td><td>2016-06-28 20:19:09</td></tr><tr><td>747298912986226689</td><td>b'@tjeviston @business exactly'</td><td>2016-06-27 05:21:59</td></tr><tr><td>174621355436802049</td><td>b'Falcon 9 and Dragon now vertical on the launch pad, surrounded by 300 ft tall lightning towers http://t.co/iERgA2RP'</td><td>2012-02-28 22:25:50</td></tr><tr><td>324388037117214720</td><td>b'If you live in Texas and are pro Tesla, please vote in the @MyABJ opinion poll! http://t.co/ozPdw6UzUo'</td><td>2013-04-17 05:05:09</td></tr><tr><td>815024796362686464</td><td>b'@DragTimes Yes, but held up by Autopilot . It def works tho in shaving 0.1 sec off 0-60mph &amp; 1/4 mile. If AP goes txe2x80xa6 https://t.co/kbV8qGc1A5'</td><td>2016-12-31 02:40:28</td></tr><tr><td>697682665919516672</td><td>b'@MysteryGuitarM yes'</td><td>2016-02-11 07:24:44</td></tr><tr><td>278917332657651712</td><td>b'@chrisbrandow @TEA_in_Space Yup or Douglas Aircraft, creator of the awesome DC-3 http://t.co/4o8OHDCo'</td><td>2012-12-12 17:40:48</td></tr><tr><td>153578511687368704</td><td>b'I said *information* weapons for a reason. The bit is mightier than the bomb.'</td><td>2012-01-01 20:49:05</td></tr><tr><td>737102578828206080</td><td>b'@iwanttobeanurse Sorry to hear that. Will take care of this &amp; investigate to see if issues you encountered are systemic.'</td><td>2016-05-30 02:05:24</td></tr><tr><td>828284048103579651</td><td>b'@humplik The remedy for that is changing the law'</td><td>2017-02-05 16:48:00</td></tr><tr><td>337884269521281026</td><td>b'@karlbrauer Making rockets'</td><td>2013-05-24 10:54:22</td></tr><tr><td>469639079085486080</td><td>b'Air Force official awards $10B+ contract uncompeted &amp; then takes lucrative job w funds recipient http://t.co/SHqFYWd3CR'</td><td>2014-05-23 00:40:56</td></tr><tr><td>677333463872049152</td><td>b'RT @TheEconomist: The single most effective way to curb carbon emissions? Carbon taxes. As we said in 1989 https://t.co/iY4LnevB5g https://xe2x80xa6'</td><td>2015-12-17 03:44:16</td></tr><tr><td>798886670468644865</td><td>b'@ID_AA_Carmack we could enable that, although the cameras use grey, grey, grey, red detection, so it would look a little greyish red :)'</td><td>2016-11-16 13:53:19</td></tr><tr><td>801569305435381760</td><td>b'@Mederinho10 @BW @business at least some of them'</td><td>2016-11-23 23:33:09</td></tr><tr><td>470611728469098496</td><td>b'RT @thkyv: @elonmusk 399 EV`s in World Record breaking parade in Bryne, Norway today. 100+ Teslas!'</td><td>2014-05-25 17:05:54</td></tr><tr><td>461057152111505408</td><td>b'@constrainedbyc no problem'</td><td>2014-04-29 08:19:25</td></tr><tr><td>467912644729769984</td><td>b'RT @SpaceX: Dragon is set to return home early tmrw xe2x80x93 watch it depart from station LIVE: http://t.co/NHREgPdLxw @ 6:00am PT. http://t.co/oHxe2x80xa6'</td><td>2014-05-18 06:20:42</td></tr><tr><td>788493472286121984</td><td>b'@FortuneMagazine This is because the first 12 months of production are sold out'</td><td>2016-10-18 21:34:27</td></tr><tr><td>732066441554362368</td><td>b'@margotroosevelt Only heard about this today. Sounds like the wrong thing happened on many levels. Will investigate and make it right.'</td><td>2016-05-16 04:33:35</td></tr><tr><td>405134552458620928</td><td>b'Saw pressure fluctuations on Falcon boost stage liquid oxygen tank. Want to be super careful, so pushing launch to Thurs.'</td><td>2013-11-26 00:42:59</td></tr><tr><td>829442592978792448</td><td>b'@sureal808 Motor Trend could only achieve 2.4 sec when they tested the Porsche 918'</td><td>2017-02-08 21:31:39</td></tr><tr><td>785138151224446976</td><td>b'Tesla product unveiling on the 17th (unexpected by most), followed by Tesla/SolarCity on the 28th'</td><td>2016-10-09 15:21:37</td></tr><tr><td>224406502188916739</td><td>b'Will publish something on the Hyperloop in about four weeks. Will forgo patents on the idea and just open source it. Not a vac tunnel btw.'</td><td>2012-07-15 07:34:14</td></tr><tr><td>407540177289371648</td><td>b'All known rocket anomalies resolved. Will spend another day rechecking to be sure. Launch attempt tmrw eve w Wed as backup.'</td><td>2013-12-02 16:02:04</td></tr><tr><td>732656393463832576</td><td>b'@drkevinleung @Tesla_Canada Totally agree. Am told this will be fixed by Thurs, maybe Fri.'</td><td>2016-05-17 19:37:50</td></tr><tr><td>330387481616855040</td><td>b'@rebel_sal Yes, your article (and many others) rightly identified that we made a mistake. New financing is not perfect, but much better.'</td><td>2013-05-03 18:24:48</td></tr><tr><td>577080950317821952</td><td>b'SolarCity systems generated a new daily record of 4 gigawatt-hours this weeknhttp://t.co/7MFig1lMsF'</td><td>2015-03-15 12:16:34</td></tr><tr><td>787877220727427076</td><td>b'RT @TeslaMotors: Tesla and Panasonic to collaborate on photovoltaic cell and module production in Buffalo, New York https://t.co/bcDS3voHwu'</td><td>2016-10-17 04:45:42</td></tr><tr><td>789020098145030144</td><td>b'@TeslaMotors 8 cameras, 12 ultrasonars and radar all flush mounted and body color. Beauty remains.'</td><td>2016-10-20 08:27:05</td></tr><tr><td>407315762387636224</td><td>b'The gas generator is a small rocket engine that powers the turbopump, which produces 7000 horsepower &amp; weighs 160 lbs'</td><td>2013-12-02 01:10:19</td></tr><tr><td>823915595615719424</td><td>b'@dean_arexding There will be a software update this weekend that improves self-calibration ability'</td><td>2017-01-24 15:29:20</td></tr><tr><td>832863988836814848</td><td>b'Provided Dragon 2 demo missions go well, SpaceX is highly confident of being able to fly US astronauts in 2018 https://t.co/usUto6QSi7'</td><td>2017-02-18 08:07:03</td></tr><tr><td>273486358411087872</td><td>b'But if humanity wishes to become a multi-planet species, then we must figure out how to move millions of people to Mars.'</td><td>2012-11-27 18:00:03</td></tr><tr><td>827925653022453760</td><td>b'In addition, I again raised climate. I believe this is doing good, so will remain on council &amp; keep at it. Doing otherwise would be wrong.'</td><td>2017-02-04 17:03:52</td></tr><tr><td>834740218531962881</td><td>b'Excellent Tesla Model X review https://t.co/wvog4Pbo1o'</td><td>2017-02-23 12:22:31</td></tr><tr><td>306591715077271553</td><td>b'One often hears that there is no point in a US carbon tax unless China acts. Well, they just did http://t.co/SIp9NzkulK'</td><td>2013-02-27 02:28:55</td></tr><tr><td>751647322375876608</td><td>b'@AllyTaft seriously'</td><td>2016-07-09 05:21:01</td></tr><tr><td>658358794292891648</td><td>b'@GangsOfGtown Given high local demand, a Gigafactory in India would probably make sense in the long term.'</td><td>2015-10-25 19:05:42</td></tr><tr><td>736328917317910528</td><td>b'Crush core is aluminum honeycomb for energy absorption in the telescoping actuator. Easy to replace (if Falcon makes it back to port).'</td><td>2016-05-27 22:51:08</td></tr><tr><td>756365671571726336</td><td>b'Looking forward to the Gigafactory opening party on Friday next week. The scale blows me away every time I see it.'</td><td>2016-07-22 05:50:03</td></tr><tr><td>833329764232372224</td><td>b'RT @NASA: Right on schedule, solar arrays have been deployed on @SpaceX #Dragon cargo spacecraft. Watch: https://t.co/mzKW5uDsTi https://t.xe2x80xa6'</td><td>2017-02-19 14:57:52</td></tr><tr><td>461897294191673344</td><td>b'RT @arstechnica: SpaceX says rocket purchases violate Russian sanctions, gets injunction http://t.co/IzRJzVCt1H by @Lee_Ars'</td><td>2014-05-01 15:57:51</td></tr><tr><td>653031144179433472</td><td>b'@heosat ww'</td><td>2015-10-11 02:15:32</td></tr><tr><td>330423366802632706</td><td>b'@ChrisCowan_  Chris is great. Took a long time for me to find someone w truly hardcore engineering skills, who fully understood the system.'</td><td>2013-05-03 20:47:24</td></tr><tr><td>819663807827955712</td><td>b'@JRMYGRNBRGR Hopefully, early next week. Results from limited release look good so far. Trying our best to be super careful.'</td><td>2017-01-12 21:54:15</td></tr><tr><td>338135523765919745</td><td>b'Was beat up pretty badly as a kid &amp; left me w jagged septum. Harder to breathe as I got older, so time to fix.'</td><td>2013-05-25 03:32:45</td></tr><tr><td>841041070792228864</td><td>b'@5AllanLeVito @mcannonbrookes @VGroysman Sure. Just check out my prior tweet on pricing ($250 kWh at pack level). Wxe2x80xa6 https://t.co/eJ1uXKHrpR'</td><td>2017-03-12 21:39:51</td></tr><tr><td>752182992982843392</td><td>b'Working on Top Secret Tesla Masterplan, Part 2. Hoping to publish later this week.'</td><td>2016-07-10 16:49:35</td></tr><tr><td>840780746868441088</td><td>b'@JMMZHerrera Answer is complex for electric motors. We use an AC induction motor fed by a DC pack thru an IGBT invexe2x80xa6 https://t.co/uKsjIDZPAq'</td><td>2017-03-12 04:25:25</td></tr><tr><td>777325549442232320</td><td>b'Preview of the @SpaceX interplanetary transport system at @IAC2016nhttps://t.co/Rz4XmeAoRw'</td><td>2016-09-18 01:57:07</td></tr><tr><td>592836876622520323</td><td>b'Rocket launch good, satellite in geo transfer orbit. Still so damn intense. Looking fwd to it feeling normal one day.'</td><td>2015-04-27 23:45:00</td></tr><tr><td>248564996022345728</td><td>b'The first owner to drive coast to coast in a Model S is about to complete the journey @XCTeslatrip!'</td><td>2012-09-19 23:31:27</td></tr><tr><td>836328719165763584</td><td>b'Fly me to the moon ... Oknhttps://t.co/6QT8m5SHwn'</td><td>2017-02-27 21:34:39</td></tr><tr><td>711258598551240704</td><td>b'@MileHighWillY being fixed'</td><td>2016-03-19 18:30:39</td></tr><tr><td>799671408187961344</td><td>b'RT @garrett_bauman: .@TeslaMotors owners making $923 by renting their car 7 days out of the month on @turo, says CEO https://t.co/QPsAnhYLvxe2x80xa6'</td><td>2016-11-18 17:51:35</td></tr><tr><td>152774892591398913</td><td>b'Not that this really matters. All current rocket tech, including ours, sucks. Only when it becomes fully reusable, will it not suck.'</td><td>2011-12-30 15:35:47</td></tr><tr><td>792220517654597633</td><td>b'@BobaFaux strongly net positive'</td><td>2016-10-29 04:24:24</td></tr><tr><td>580479736721367041</td><td>b'Flying car pros: travel in 3D fast. Cons: risk of car falling on head much greater, noisy, grounded in bad weather'</td><td>2015-03-24 21:22:08</td></tr><tr><td>491796248148455425</td><td>b'xe2x80x9c@SpaceX: Soft water landing of Falcon 9 rocket booster. http://t.co/VxBqBZhHmOnnFull update: http://t.co/nH8UqOmN9hxe2x80x9d'</td><td>2014-07-23 04:05:37</td></tr><tr><td>748136300952182785</td><td>b'Thoughtful analysis of the Tesla/SolarCity merger by @tsrandall https://t.co/4Ba3px7hb8'</td><td>2016-06-29 12:49:28</td></tr><tr><td>405910027661496320</td><td>b'RT @SpaceX: Falcon 9 launch window opens tmrw at 5:39pm EST. Watch LIVE at http://t.co/wytY3mnBf1. Happy #Spacegiving! http://t.co/leacczWCxe2x80xa6'</td><td>2013-11-28 04:04:26</td></tr><tr><td>828004231101706241</td><td>b'@nintendomaniac @alext4627 I wish!'</td><td>2017-02-04 22:16:06</td></tr><tr><td>167699464134475776</td><td>b'Btw, Foster the People is playing the Model X event tonight. Seemed like the right vibe.'</td><td>2012-02-09 20:00:42</td></tr><tr><td>219270969666174977</td><td>b'After 2008 meltdown, vacation for me just meant email with a view, but SpaceX &amp; Tesla are now strong enough that I can make it real (yay!!)'</td><td>2012-07-01 03:27:27</td></tr><tr><td>716747672477151232</td><td>b'@torvos torque is shifted between front &amp; rear motors every ~.01 secs. Traction control is way better than a normal AWD. Digital vs analog.'</td><td>2016-04-03 22:02:16</td></tr><tr><td>176181571479552001</td><td>b'RT @westcoastbill: lol my friends car xe2x80x9c@ryan: See also: http://t.co/jXuJU0mfxe2x80x9d'</td><td>2012-03-04 05:45:34</td></tr><tr><td>535905906442403840</td><td>b'About the Nevada deal with Tesla ... http://t.co/hAeyOc5OzC'</td><td>2014-11-21 21:21:39</td></tr><tr><td>827849760048558080</td><td>b'@OfficeOfOMAR maybe'</td><td>2017-02-04 12:02:18</td></tr><tr><td>636918796494594048</td><td>b'RT @ConsumerReports: Breaking: Tesla P85D is the best car wexe2x80x99ve tested in 80 years of testing cars #carofthefuture http://t.co/mwDM9dAXj3 hxe2x80xa6'</td><td>2015-08-27 15:10:49</td></tr><tr><td>303575474150465538</td><td>b'RT @YaelTAbouhalkah: Interesting: @nytimes public editor sides (mostly) with #Tesla. RT @Sulliview My thoughts on thorny problem: http:/ ...'</td><td>2013-02-18 18:43:27</td></tr><tr><td>658357909265362944</td><td>b'@javashri Auto import duties are prohibitively high. Hoping for a special category for EVs. Most of our discussion was about batteries.'</td><td>2015-10-25 19:02:11</td></tr><tr><td>699880397396512768</td><td>b'@BasseyE @tegmark yes'</td><td>2016-02-17 08:57:44</td></tr><tr><td>384407846349062144</td><td>b'Rocket booster relit twice (supersonic retro &amp; landing), but spun up due to aero torque, so fuel centrifuged &amp; we flamed out'</td><td>2013-09-29 20:02:27</td></tr><tr><td>470001882300444674</td><td>b'@QuantumG When we launch I want to know that SpaceX has done everything possible to keep the astronauts safe. Only a few more years to go.'</td><td>2014-05-24 00:42:36</td></tr><tr><td>676868667380903937</td><td>b'RT @verge: Over 1,000 college students will compete to design the best Hyperloop pod https://t.co/tcHCOGuMeh https://t.co/IpZc8vXWI8'</td><td>2015-12-15 20:57:20</td></tr><tr><td>408695108033191936</td><td>b'Solar power w batteries will be the primary (not exclusive) means of sustainable energy production http://t.co/rvXBzQXbsc'</td><td>2013-12-05 20:31:21</td></tr><tr><td>599391754786181122</td><td>b'RT @SpaceX: Tired of the same old travel destinations? Discover the wonder of Mars nhttp://t.co/KpluQw4cow http://t.co/vD9oLSuY5r'</td><td>2015-05-16 01:51:45</td></tr><tr><td>337506956875010048</td><td>b'Interview with @BloombergNews about Tesla and DOE loan gets into some of the details http://t.co/xb0JVoPHNC'</td><td>2013-05-23 09:55:03</td></tr><tr><td>152759917621690368</td><td>b'China unveils ambitious space strategy http://t.co/udHmuft2'</td><td>2011-12-30 14:36:17</td></tr><tr><td>307533114035535872</td><td>b'Solar array deployment successful'</td><td>2013-03-01 16:49:42</td></tr><tr><td>827692878986100736</td><td>b'@mcun1 Yes. Green cards &amp; dual citizens already ok. Work &amp; spousal visas not yet, but hopefully soon. This is separate from judicial action.'</td><td>2017-02-04 01:38:54</td></tr><tr><td>427374161796018176</td><td>b'RT @plugshare: Congratulations to John and Jill, first to drive across US using only free @TeslaMotors Superchargers! http://t.co/hA6YlkyjzN'</td><td>2014-01-26 09:35:15</td></tr><tr><td>488717037674311682</td><td>b'Flight 10 of Falcon 9 was good. All six ORBCOMM satellites deployed on target.'</td><td>2014-07-14 16:09:56</td></tr><tr><td>461279062837968897</td><td>b'Sounds like this might be a good time to unveil the new Dragon Mk 2 spaceship that @SpaceX has been working on w @NASA. No trampoline needed'</td><td>2014-04-29 23:01:13</td></tr><tr><td>330466529118392320</td><td>b'RT @TeslaMotors: North Carolina General Assembly could prevent Tesla from selling cars. Take action: http://t.co/EvxHevlZxi #TeslaNC'</td><td>2013-05-03 23:38:54</td></tr><tr><td>828281953455579136</td><td>b'@Biesseman True!'</td><td>2017-02-05 16:39:41</td></tr><tr><td>178878446137647105</td><td>b'I think if you go there, they just feed you delicious candy all day and ask nothing in return.'</td><td>2012-03-11 16:21:59</td></tr><tr><td>677666779494248449</td><td>b'@lukealization yes, from 70F to 20 F'</td><td>2015-12-18 01:48:45</td></tr><tr><td>331796308631367681</td><td>b'Tesla priority is electrification of cars, so priority is Model S, Model X, then mass market third gen vehicle &amp; truck'</td><td>2013-05-07 15:42:59</td></tr><tr><td>324990048523141120</td><td>b'Heart goes out to people of central Texas, home of SpaceX TX. All resources at disposal to help in any way.'</td><td>2013-04-18 20:57:20</td></tr><tr><td>247510274918199296</td><td>b'Tesla made 100 vehicle bodies this week for the first time. Really proud of the team! Pic of S/N 396: http://t.co/fZzbUIjn'</td><td>2012-09-17 01:40:23</td></tr><tr><td>149447517325635584</td><td>b'Yeah, this really is me, as my Mom @mayemusk will attest.nNot sure I can handle just doing 140 char missives. Will put longer thoughts on G+'</td><td>2011-12-21 11:13:59</td></tr><tr><td>300234184193105920</td><td>b'Next Grasshopper rocket test is called the Johnny Cash Hover Slam (yeah baby!). Might be our first smoking crater...'</td><td>2013-02-09 13:26:22</td></tr><tr><td>406209289494462464</td><td>b'We called manual abort. Better to be paranoid and wrong. Bringing rocket down to borescope engines ...'</td><td>2013-11-28 23:53:36</td></tr><tr><td>553855109114101760</td><td>b'Rocket made it to drone spaceport ship, but landed hard. Close, but no cigar this time. Bodes well for the future tho.'</td><td>2015-01-10 10:05:22</td></tr><tr><td>307597163582590977</td><td>b'Thruster pods one through four are now operating nominally. Preparing to raise orbit. All systems green.'</td><td>2013-03-01 21:04:13</td></tr><tr><td>179468649038479361</td><td>b'If something is physically possible, not only is someone doing it, but there is also an award show.'</td><td>2012-03-13 07:27:14</td></tr><tr><td>427371574451507200</td><td>b'Tesla Supercharger network now energized from New York to LA, both coast + Texas! Approx 80% of US population covered.'</td><td>2014-01-26 09:24:58</td></tr><tr><td>470613418039586816</td><td>b'Prince Albert &amp; Princess Charlene drove a Tesla around the track to open @F1 Monaco! The honor is much appreciated :) http://t.co/gjQmbm541s'</td><td>2014-05-25 17:12:37</td></tr><tr><td>738805691528318976</td><td>b'Just heard that Norway will ban new sales of fuel cars in 2025. What an amazingly awesome country. You guys rock!! https://t.co/uAXuBkDYuR'</td><td>2016-06-03 18:52:57</td></tr><tr><td>622223920318431232</td><td>b'Ludicrous speed, 70 kWh rear drive and 90 kWh battery pack http://t.co/kr9A0iXM58'</td><td>2015-07-18 01:58:37</td></tr><tr><td>677666464208416768</td><td>b'@craigcocca It worked in Texas'</td><td>2015-12-18 01:47:30</td></tr><tr><td>456914811461197824</td><td>b'Honored that @NASA would entrust @SpaceX with the Apollo 11 (first moon landing) launch pad http://t.co/LmqxRwsKFW'</td><td>2014-04-17 21:59:14</td></tr><tr><td>168056133708283904</td><td>b'Tesla Model X is 3rd most searched term on Google, right after purple squirrel. Damn you squirrel! http://t.co/jP9H5XrB'</td><td>2012-02-10 19:38:00</td></tr><tr><td>150387544402575360</td><td>b'Kanye stopped by the SpaceX rocket factory today. http://t.co/6z7gHBn6'</td><td>2011-12-24 01:29:19</td></tr><tr><td>534607155546968064</td><td>b'RT @Techmeme: Advances in image-recognition software show identification of entire scenes, not just objects http://t.co/PaLNRXi53q http://txe2x80xa6'</td><td>2014-11-18 07:20:53</td></tr><tr><td>756004029239472132</td><td>b'Autopilot prevents serious injury or death of a pedestrian in NY (owner anecdote confirmed by vehicle logs) https://t.co/NceuqckqCK'</td><td>2016-07-21 05:53:01</td></tr><tr><td>580124996133097472</td><td>b'RT @StarTalkRadio: Tonightxe2x80x99s new podcast: Explore xe2x80x9cThe Future of Humanity with @ElonMuskxe2x80x9d and @neiltyson @BillNye @chucknicecomic: http://txe2x80xa6'</td><td>2015-03-23 21:52:31</td></tr><tr><td>738775567055523841</td><td>b'Yay, baby made it home!nhttps://t.co/KYyUX9zNYD'</td><td>2016-06-03 16:53:15</td></tr><tr><td>657704144267059200</td><td>b'@JessicaTetreau important to set AC to not recirc (air exits thru rear) and use the snap in shade, which Tesla service can provide'</td><td>2015-10-23 23:44:22</td></tr><tr><td>677980503459270657</td><td>b'Rounding up to 1 sec for a bit of timing margin. Updating flight computer command sequence xe2x80xa6'</td><td>2015-12-18 22:35:22</td></tr><tr><td>193855140254580736</td><td>b'In NYC for the premiere of Baseball in the Time of @Cholera. Great work by @brynmooser and @daviddarg!'</td><td>2012-04-22 00:14:01</td></tr><tr><td>817580438558359552</td><td>b'@fatihorhan @SpaceX That was a great game'</td><td>2017-01-07 03:55:41</td></tr><tr><td>225660118493196288</td><td>b'RT @SpaceX: Relive the most exciting moments from Dragonxe2x80x99s historic mission n http://t.co/YmKmkpKb'</td><td>2012-07-18 18:35:39</td></tr><tr><td>461283368693669888</td><td>b'Cover drops on May 29. Actual flight design hardware of crew Dragon, not a mockup.'</td><td>2014-04-29 23:18:19</td></tr><tr><td>838569247555014656</td><td>b'@Zedd Will send you one'</td><td>2017-03-06 01:57:43</td></tr><tr><td>466276798058078208</td><td>b'RT @Space_News_Intl: Rogozin Calls for Ban on U.S. Military Use of RD-180 http://t.co/lumzgOimF6'</td><td>2014-05-13 18:00:26</td></tr><tr><td>677403793651175424</td><td>b'Vance article on self-driving cars was inaccurate https://t.co/AV636KAcKH'</td><td>2015-12-17 08:23:44</td></tr><tr><td>384437535348248576</td><td>b'@DebbieViviers @SpaceX Yes, upper stage venting of liquid oxygen created a fast moving fuzzy white sphere in space over SA'</td><td>2013-09-29 22:00:25</td></tr><tr><td>827926509197332484</td><td>b'@DanielleBloeme Yes, for now, but this should be addressed on all fronts: judicial, legislative and executive.'</td><td>2017-02-04 17:07:16</td></tr><tr><td>755931999487991810</td><td>b'@katiefehren Both should have been done under the same corporate umbrella from the beginning'</td><td>2016-07-21 01:06:47</td></tr><tr><td>635215467959812096</td><td>b'@Forbes I appreciate the kind words in the article, but, judging by the picture mods, it looks your Photoshop bill was very high.'</td><td>2015-08-22 22:22:23</td></tr><tr><td>330572086668046336</td><td>b'@WehbyJammin Earnings call next week, then Supercharger week after and then... the mystery announcement/demonstration :)'</td><td>2013-05-04 06:38:21</td></tr><tr><td>725365829479460864</td><td>b'@Cardoso It could land on Venus no problem, but would last maybe a few hours. Tough local environment.'</td><td>2016-04-27 16:47:45</td></tr><tr><td>593804222811869184</td><td>b'@bonnienorman Haha, awesome :)'</td><td>2015-04-30 15:48:53</td></tr><tr><td>784441057857589249</td><td>b'@DanMerriweather lot of circumstantial evidence for that hypothesis'</td><td>2016-10-07 17:11:37</td></tr><tr><td>457311780943822848</td><td>b'Flight computers continued transmitting for 8 seconds after reaching the water. Stopped when booster went horizontal.'</td><td>2014-04-19 00:16:39</td></tr><tr><td>553835543336058880</td><td>b'Swimming on the moon http://t.co/7eZ3tqwwEj'</td><td>2015-01-10 08:47:37</td></tr><tr><td>407910834225295360</td><td>b'@UFrugger10 I agree. Will be restored shortly.'</td><td>2013-12-03 16:34:56</td></tr><tr><td>221503107182501889</td><td>b'Now back to work. Intense months ahead as we ramp production of rockets and cars.'</td><td>2012-07-07 07:17:10</td></tr><tr><td>279597699945361408</td><td>b'@prbowman Roughly equivalent to a 747 flight from LA to London (one way).'</td><td>2012-12-14 14:44:20</td></tr><tr><td>193617277231443968</td><td>b'I feel compelled to state the obvious fact that Coachella is excellent. http://t.co/onxtR4YB'</td><td>2012-04-21 08:28:51</td></tr><tr><td>159330976378519552</td><td>b'Will communicate better in the future. Too many people want us to fail and are willing to twist any bit of news against Tesla.'</td><td>2012-01-17 17:47:19</td></tr><tr><td>798768530254491648</td><td>b'RT @NatGeo: Watch: When humans live on Mars, what exactly will they call home? nhttps://t.co/QlJBuB6FX2 #CountdownToMars'</td><td>2016-11-16 06:03:52</td></tr><tr><td>828284631170560000</td><td>b'@TheLAAdams The laws need to change. Judges are responsible for evaluating whether an action breaks the law, not making law.'</td><td>2017-02-05 16:50:19</td></tr><tr><td>564493608351313921</td><td>b'Launching our 1st deep space mission today. Headed to Earth-Sun L1 gravity null point at 1M miles, 4X further than moon.'</td><td>2015-02-08 18:38:58</td></tr><tr><td>453555454187012097</td><td>b'Tesla US business leasing program went live today http://t.co/wCH0GLAEAJ'</td><td>2014-04-08 15:30:21</td></tr><tr><td>784219037194563584</td><td>b'RT @InsideWestworld: It will be great to see @TalulahRiley as Angela and @jimmisimpson as William in #Westworld airing Sunday 9:00 PM ET. hxe2x80xa6'</td><td>2016-10-07 02:29:23</td></tr><tr><td>706610504161107968</td><td>b'SpaceX and Tesla rated most meaningful work in high tech. Also, most stressful, but that goes with the territory.  https://t.co/y8s4UdMF5z'</td><td>2016-03-06 22:40:47</td></tr><tr><td>653029223779557376</td><td>b'@madolfsson roughly 5 days'</td><td>2015-10-11 02:07:54</td></tr><tr><td>159453674517692416</td><td>b'That said, even though they cause me grief, I would defend the right of shorts to exist. They are often unreasonably maligned.'</td><td>2012-01-18 01:54:53</td></tr><tr><td>406211326282055681</td><td>b'@WilliamShatner Will do. Probably at least a few days. Depends on whether we need to pull the turbopumps.'</td><td>2013-11-29 00:01:41</td></tr><tr><td>338357776889823232</td><td>b'In reality, 97% of scientists agree that we face serious human generated climate change http://t.co/soQCnJB61B'</td><td>2013-05-25 18:15:55</td></tr><tr><td>576184066921218048</td><td>b'For more on the Fermi Paradox: http://t.co/ea1aGnu2kU, http://t.co/AcdSIoIvyv and http://t.co/bkbOWW7Ztb'</td><td>2015-03-13 00:52:41</td></tr><tr><td>787797036699521024</td><td>b'Moving the Tesla announcement to Wednesday. Needs a few more days of refinement.'</td><td>2016-10-16 23:27:04</td></tr><tr><td>553850129208586241</td><td>b'Launching in one minute'</td><td>2015-01-10 09:45:35</td></tr><tr><td>271652314744487936</td><td>b'On the plus side...xe2x80x9c@newscientist: #Climate change has a silver lining: supersized sweet potatoes http://t.co/zHMYIbL3xe2x80x9d'</td><td>2012-11-22 16:32:13</td></tr><tr><td>157292663601758208</td><td>b'Model S Performance powertrain produced so much torque today that we broke the dyno. 4.4 sec 0-60 mph will not be a problem.'</td><td>2012-01-12 02:47:48</td></tr><tr><td>817123579343028227</td><td>b'Hold-down firing of @SpaceX Falcon 9 at Vandenberg Air Force completed. All systems are go for launch next week.'</td><td>2017-01-05 21:40:17</td></tr><tr><td>532368290942058496</td><td>b'RT @TeslaMotors: Hong Kong street view from a right hand drive Model S. http://t.co/HWthvB72je'</td><td>2014-11-12 03:04:26</td></tr><tr><td>828285409675341824</td><td>b'@paulvankeep Mostly anti-drug laws'</td><td>2017-02-05 16:53:25</td></tr><tr><td>740387141591535616</td><td>b'S and X cells are also Panasonic'</td><td>2016-06-08 03:37:04</td></tr><tr><td>167648387313840128</td><td>b'Model X sketch showing just a bit more leg. Unveiling tonight... http://t.co/KASHBP5p'</td><td>2012-02-09 16:37:45</td></tr><tr><td>307580263637061633</td><td>b'Pods 1 and 4 now online and thrusters engaged. Dragon transitioned from free drift to active control. Yes!!'</td><td>2013-03-01 19:57:04</td></tr><tr><td>716749159324377089</td><td>b'@CrackedUpCorson Will cover whole country hopefully this year'</td><td>2016-04-03 22:08:10</td></tr><tr><td>792195966224826368</td><td>b'RT @TeslaMotors: Tuscan glass tile roof https://t.co/iDFhp8Y3qi'</td><td>2016-10-29 02:46:51</td></tr><tr><td>330364975300358144</td><td>b'@Alan_Nestos The legs are nested tight against the body of the rocket in flight, so rotate about 120 degrees to deploy'</td><td>2013-05-03 16:55:22</td></tr><tr><td>786601762354442242</td><td>b'@vicentes obviously wrong'</td><td>2016-10-13 16:17:29</td></tr><tr><td>151151777662779392</td><td>b'I'</td><td>2011-12-26 04:06:06</td></tr><tr><td>560906999664508931</td><td>b'Video made by owner of a P85D going up a 14% grade on snow passing a whole bunch of stuck SUVs https://t.co/LC9AHx0fuC'</td><td>2015-01-29 21:07:04</td></tr><tr><td>173476402748854274</td><td>b'Supporting the drive to get a #PlutoStamp for the @NASA New Horizons mission'</td><td>2012-02-25 18:36:12</td></tr><tr><td>653004922984660992</td><td>b'CH4 rapidly decays back to CO2 &amp; is absorbed by plants. What matters is adding new carbon to surface cycle from underground oil, gas &amp; coal.'</td><td>2015-10-11 00:31:20</td></tr><tr><td>330877283793530880</td><td>b'@DouglasBullard @teslamotors Most people have never heard of Nikola Tesla. That will hopefully change over time.'</td><td>2013-05-05 02:51:06</td></tr><tr><td>306608592100941824</td><td>b'@_ChrisSimmons A carbon tax would affect coal even more than gasoline, so electricity would also become more expensive'</td><td>2013-02-27 03:35:59</td></tr><tr><td>732329443776024576</td><td>b'Falcon Heavy side boosters can use most of the same airframe as Falcon 9, but center core needs to be buffed up a lot for transfer loads.'</td><td>2016-05-16 21:58:40</td></tr><tr><td>589082811119763458</td><td>b'RT @SpaceX: #Dragon is now fully attached to @Space_Station! Hatch opening to occur over the next day. http://t.co/W8JBYnWOWe'</td><td>2015-04-17 15:07:41</td></tr><tr><td>407941040503783424</td><td>b'@toruonu cool :)'</td><td>2013-12-03 18:34:57</td></tr><tr><td>830148763578662916</td><td>b'Falcon 9 rocket now vertical at Cape Canaveral on launch complex 39-A. This is the same launchxe2x80xa6 https://t.co/wY6dWRcer3'</td><td>2017-02-10 20:17:43</td></tr><tr><td>835361919775100929</td><td>b'@MacTechGenius of course'</td><td>2017-02-25 05:32:56</td></tr><tr><td>832788691588296705</td><td>b'Looks like we are go for launch. Added an abort trigger at T-60 secs for pressure decay of upper stage helium spin start system.'</td><td>2017-02-18 03:07:51</td></tr><tr><td>394220043816296448</td><td>b'Giant dog topiary in Bilbao http://t.co/kHdAMvOEMN'</td><td>2013-10-26 21:52:37</td></tr><tr><td>305971647561752576</td><td>b'@FaeLoba Best is winning competitions like Formula SAE, design/build/fly or other evidence of exceptional eng ability'</td><td>2013-02-25 09:25:00</td></tr><tr><td>149688828599349251</td><td>b'Raul Campos invited me to do a guest DJ gig on KCRW.  Hear my random holiday season music selections at http://t.co/o6FQASvC'</td><td>2011-12-22 03:12:52</td></tr><tr><td>732040492607643652</td><td>b'@mmustapic yup'</td><td>2016-05-16 02:50:28</td></tr><tr><td>460975671603634176</td><td>b'@KAlHomoud Superchargers in Canada will go live in 6 to 8 weeks. Update on forums shortly.'</td><td>2014-04-29 02:55:39</td></tr><tr><td>408014483551191040</td><td>b'Restart was good, apogee raised to 80k km (50k miles). Yes!!!'</td><td>2013-12-03 23:26:48</td></tr><tr><td>408731422136864768</td><td>b'Rest in peace, Nelson Mandela. A man both good and great.'</td><td>2013-12-05 22:55:39</td></tr><tr><td>688841295364673536</td><td>b'@mbhnyc steel collet'</td><td>2016-01-17 21:52:17</td></tr><tr><td>639175789116833792</td><td>b'@ScottLucasNV Lithium deal is not exclusive &amp; has many contingencies. The press on this matter is unwarranted.'</td><td>2015-09-02 20:39:18</td></tr><tr><td>306612536973856768</td><td>b'@andrewliebchen @_chrissimmons Exactly. Then no need for clean energy subsidies, as externality is priced into mkt behavior'</td><td>2013-02-27 03:51:40</td></tr><tr><td>747298044861784064</td><td>b'Deluded, deranged, etc. Journalistic thesaurus sure got a lot of use last week ...nhttps://t.co/KFHD1FXvIe'</td><td>2016-06-27 05:18:32</td></tr><tr><td>706891731430584322</td><td>b'RT @newscientist: The northern hemisphere has gone 2xc2xb0C above pre-industrial temperatures for the first time https://t.co/7JZ0TEpyjb https:/xe2x80xa6'</td><td>2016-03-07 17:18:16</td></tr><tr><td>752198648469917696</td><td>b'@FantaAIex It is extensively tested in the lab and in the Tesla test fleet. However, there is no substitute for real world experience.'</td><td>2016-07-10 17:51:47</td></tr><tr><td>799517977049755648</td><td>b'RT @SpaceX: Successfully tested the prototype Mars tank last week. Hit both of our pressure targets xe2x80x93 next up will be full cryo testing. htxe2x80xa6'</td><td>2016-11-18 07:41:54</td></tr><tr><td>592471975869620225</td><td>b'RT @deadmau5: Here she is! :) @TeslaMotors http://t.co/LPiWuhNYsN'</td><td>2015-04-26 23:35:01</td></tr><tr><td>715303533659041792</td><td>b'Model 3 order day starting in Australia https://t.co/T6aUnG5BCv'</td><td>2016-03-30 22:23:46</td></tr><tr><td>469996345617825792</td><td>b'RT @amerpro555: @elonmusk   How about this guy http://t.co/0fMbsYPrKS'</td><td>2014-05-24 00:20:35</td></tr><tr><td>403602986561073152</td><td>b'Tesla Model S Consumer Reports customer satisfaction survey highest of any car on road at 99/100 http://t.co/PpuS01S2KN'</td><td>2013-11-21 19:17:05</td></tr><tr><td>153594528908058624</td><td>b'On a lighter note, the RHCP are f* awesome. No better way to bring in the New Year... http://t.co/TlkAdzsk'</td><td>2012-01-01 21:52:44</td></tr><tr><td>726210366766632960</td><td>b'@maya_kazan Temporary spike in some areas due to X 3rd row seat recall. Should be sorted by June.'</td><td>2016-04-30 00:43:38</td></tr><tr><td>778602694399320065</td><td>b'Tesla keeps temp below 40C/105F by automatically venting cabin &amp; turning on AC when needed. Can do this for up to a year on a full charge.'</td><td>2016-09-21 14:32:02</td></tr><tr><td>823234503355158528</td><td>b'Auto steer limited to 45 mph on highways for now, i.e. heavy traffic, where it is needed most. Limit will raise as we get more data.'</td><td>2017-01-22 18:22:55</td></tr><tr><td>580480774115364864</td><td>b'Reasons I like tunnels: you still travel in 3D fast, but immune to weather, quiet and no risk cars fall on your head'</td><td>2015-03-24 21:26:16</td></tr><tr><td>748140919501656066</td><td>b'My son recently asked what my favorite animal was. Well, of course xe2x80xa6 https://t.co/hpTniMe1mF'</td><td>2016-06-29 13:07:49</td></tr><tr><td>534731793832751106</td><td>b'Tesla comic book http://t.co/enyjX9bcGE'</td><td>2014-11-18 15:36:09</td></tr><tr><td>273671124909432833</td><td>b'RT @TheEconomist: Mexico is changing in ways that will profoundly affect America http://t.co/icj9xRYE'</td><td>2012-11-28 06:14:15</td></tr><tr><td>828287608614744064</td><td>b'@FifthRocket Did you read my tweets? I attacked it hard. Did not defend.'</td><td>2017-02-05 17:02:09</td></tr><tr><td>454005116249440257</td><td>b'RT @TeslaMotors: When life gives you lemonsxe2x80xa6 http://t.co/1TrjvPvh2K'</td><td>2014-04-09 21:17:09</td></tr><tr><td>153515940707975169</td><td>b'My first prediction of 2012 has come true: ouch, my head hurts.'</td><td>2012-01-01 16:40:27</td></tr><tr><td>404826254295457792</td><td>b'RT @SpaceX: Falcon 9 targeted to launch SES-8 for @SES_Satellites tmrw. 1st SpaceX GEO transfer mission. http://t.co/wytY3mnBf1 http://t.coxe2x80xa6'</td><td>2013-11-25 04:17:54</td></tr><tr><td>601501265332477952</td><td>b'RT @SpaceX: Cargo is offloaded and spacecraft is powered down. #Dragon back in its nest after about 5 weeks at the @Space_Station http://t.xe2x80xa6'</td><td>2015-05-21 21:34:11</td></tr><tr><td>491814548760825857</td><td>b'RT @R_Rojas_Leon: La selfie del monito ... http://t.co/2tAJxr5g0r'</td><td>2014-07-23 05:18:20</td></tr><tr><td>833329896168370179</td><td>b'@mattnewby no'</td><td>2017-02-19 14:58:24</td></tr><tr><td>819748895878094848</td><td>b'RT @TeslaMotors: Building the Supercharger Network for the Future https://t.co/siR67vPd2T'</td><td>2017-01-13 03:32:21</td></tr><tr><td>798768113651040256</td><td>b'RT @RealRonHoward: MARS airs tonight on the @NatGeo   Hope you get to watch it.  https://t.co/7ObsMhuSnU'</td><td>2016-11-16 06:02:13</td></tr><tr><td>560900676453433344</td><td>b'Tesla dual motor cars are also all-wheel drive. Main goal of dual motor was actually insane traction on snow. Insane speed was a side effect'</td><td>2015-01-29 20:41:56</td></tr><tr><td>191297895339794432</td><td>b'Great work by APJ xe2x80x9c@brynmooser: The foundation is nearly complete at the @artistsforpeace school  http://t.co/hoTXytsZxe2x80x9d'</td><td>2012-04-14 22:52:27</td></tr><tr><td>661293692410445824</td><td>b'@BjornNyland @TeslaMotors well done!'</td><td>2015-11-02 21:27:57</td></tr><tr><td>408030622708678657</td><td>b'View of Earth from upper stage rear view camera at 8,000 miles http://t.co/V4tdMUA48X'</td><td>2013-12-04 00:30:55</td></tr><tr><td>739557011554066432</td><td>b'Trippy https://t.co/DtMD5AIRiq'</td><td>2016-06-05 20:38:26</td></tr><tr><td>304988995836862465</td><td>b'RT @NASA: Want to join us and cover the next @SpaceX launch on March 1? Now you can apply for a #NASASocial Media Credential http://t.co ...'</td><td>2013-02-22 16:20:17</td></tr><tr><td>824013720967753728</td><td>b'@redletterdave Ok, fine. Soldier 76. My dark secret is out ...'</td><td>2017-01-24 21:59:15</td></tr><tr><td>413751355451265024</td><td>b'SolarCity launches Give Power Foundation http://t.co/Ag63gyLBRP'</td><td>2013-12-19 19:23:04</td></tr><tr><td>833332384913252352</td><td>b'https://t.co/6Ve3YJoStm'</td><td>2017-02-19 15:08:17</td></tr><tr><td>659533849844695040</td><td>b'RT @geekwire: Watch: Teslaxe2x80x99s new autopilot technology prevents accident on slick Seattle road: https://t.co/5YSSQN3K64 https://t.co/0NBwMU9xe2x80xa6'</td><td>2015-10-29 00:54:58</td></tr><tr><td>823727035088416768</td><td>b'@tsrandall 3 months maybe, 6 months definitely'</td><td>2017-01-24 03:00:03</td></tr><tr><td>274090388669734912</td><td>b'@shervin Thanks Shervin!'</td><td>2012-11-29 10:00:15</td></tr><tr><td>406187728850944000</td><td>b'Live stream of launch at http://t.co/Oo569cuarz'</td><td>2013-11-28 22:27:55</td></tr><tr><td>331489911842689025</td><td>b'Chris Porritt from Aston Martin just joined as head of vehicle engineering at Tesla http://t.co/MNUIWDxoXt'</td><td>2013-05-06 19:25:28</td></tr><tr><td>600784025335136256</td><td>b'This is not the full Gigafactory, it is just the pilot plant (1/4 size) https://t.co/gz2EmJkYtm'</td><td>2015-05-19 22:04:08</td></tr><tr><td>835178020604301313</td><td>b'@adrianvolts Minor improvements update this weekend. High speed autosteer in about two weeks.'</td><td>2017-02-24 17:22:11</td></tr><tr><td>829447188325412866</td><td>b'@SundalJ Should all be uploaded by next month'</td><td>2017-02-08 21:49:54</td></tr><tr><td>752201456980078593</td><td>b'@bolayer @SwiftOnSecurity US is ~11 deaths per billion miles. WW is 17 deaths per billion. Autopilot already much better than either so far.'</td><td>2016-07-10 18:02:57</td></tr><tr><td>678004229047357440</td><td>b'Static fire test looks good. Pending data review, will aim to launch Sunday.'</td><td>2015-12-19 00:09:39</td></tr><tr><td>725028258614370304</td><td>b'RT @ElectrekCo: Automakers entrenched in fuel cell hydrogen are succumbing to physics and going electric https://t.co/NRVVuGzP1F https://t.xe2x80xa6'</td><td>2016-04-26 18:26:21</td></tr><tr><td>276194361442705408</td><td>b'Interesting possible answer to the Fermi Paradox nhttp://t.co/ASZdxBAl'</td><td>2012-12-05 05:20:41</td></tr><tr><td>405965445628710912</td><td>b'Good description of the launch by @WIRED: http://t.co/QnLhvviEAn'</td><td>2013-11-28 07:44:39</td></tr><tr><td>588490238936240129</td><td>b'Droneship is fine. No hull breach and repairs are minor. Impact overpressure is closer to a fast fire than an explosion.'</td><td>2015-04-15 23:53:01</td></tr><tr><td>589820447660769281</td><td>b'@andrewket @TeslaRoadTrip Wow!'</td><td>2015-04-19 15:58:47</td></tr><tr><td>589350633393627136</td><td>b'@Aero4Real I only invest in companies I help found or to help a friend or a cause (no return expected for latter two)'</td><td>2015-04-18 08:51:55</td></tr><tr><td>307523715678212096</td><td>b'About to pass over Australia ground station and command inhibit override'</td><td>2013-03-01 16:12:21</td></tr><tr><td>662039125898334209</td><td>b'@kevinmitnick Current production is LTE. Can be upgraded by service.'</td><td>2015-11-04 22:50:02</td></tr><tr><td>801572499418796032</td><td>b'@chemisdrey yes'</td><td>2016-11-23 23:45:51</td></tr><tr><td>180226195206569984</td><td>b'Lovely poster about wishes that explains one of the many reasons to make life multiplanetary http://t.co/e1ZM8a2b'</td><td>2012-03-15 09:37:28</td></tr><tr><td>819660611357319170</td><td>b'@robsmallshire @ClareMacraeUK It will'</td><td>2017-01-12 21:41:32</td></tr><tr><td>306193893890863104</td><td>b'Rocket static fire @SpaceX Cape Canaveral launch pad looks good. Engines generated 433 tons of thrust, parameters nominal.'</td><td>2013-02-26 00:08:07</td></tr><tr><td>307536134215446528</td><td>b'Attempting bring up of thruster pods 2 and 4'</td><td>2013-03-01 17:01:42</td></tr><tr><td>699510097332994048</td><td>b'This baby Model S really is quite fun  https://t.co/40W5sS5bKI'</td><td>2016-02-16 08:26:18</td></tr><tr><td>819609111801139200</td><td>b'Promising early results from the Ludricrous Easter egg. Looks like 0 to 60 mph in 2.34 sec (Motor Trend spec) might be achievable...'</td><td>2017-01-12 18:16:54</td></tr><tr><td>332270252832460800</td><td>b'@westcoastbill Thanks Bill!'</td><td>2013-05-08 23:06:16</td></tr><tr><td>653028177896312832</td><td>b'@TeslaPittsburgh Non-autopilot will have a new interface too. More comprehensive UI update coming with 7.1.'</td><td>2015-10-11 02:03:44</td></tr><tr><td>798984120336465920</td><td>b'Model X numbers should also improve by 0.1 sec on 0 to 60 and 1/4 mile'</td><td>2016-11-16 20:20:33</td></tr><tr><td>732041468085342210</td><td>b'@4kpixelsyt yes'</td><td>2016-05-16 02:54:21</td></tr><tr><td>453204415458344960</td><td>b'What could possibly go wrong? https://t.co/ZhUrllHG95'</td><td>2014-04-07 16:15:27</td></tr><tr><td>305172926762725376</td><td>b'@EricIdle Cool! Btw, thought you might appreciate that 1st flight of Dragon spacecraft carried a large wheel of cheese :)'</td><td>2013-02-23 04:31:10</td></tr><tr><td>149629518267695104</td><td>b'Yum! Even better than deep fried butter: http://t.co/Ody21NuD'</td><td>2011-12-21 23:17:11</td></tr><tr><td>832954058730115074</td><td>b'RT @SpaceX: 1 hour from launch of Falcon 9 &amp; Dragon to @Space_Station. Rocket &amp; weather are go. Launch at 10:01am ET, 15:01 UTC https://t.cxe2x80xa6'</td><td>2017-02-18 14:04:57</td></tr><tr><td>715220713326530561</td><td>b'You can now buy cruise ship tickets for the Arctic passage. Seeing is believing. https://t.co/LhKupkNMFC'</td><td>2016-03-30 16:54:40</td></tr><tr><td>658356079026270208</td><td>b'Model 3 is due in ~2 yrs. A China factory for local demand cd be as soon as a year after. A factory in Europe wd happen for same reason.'</td><td>2015-10-25 18:54:55</td></tr><tr><td>677646796311670786</td><td>b'@mashabletech @mashable Not really my letter (no authorship contribution). Just agreed to add my name when they asked.'</td><td>2015-12-18 00:29:20</td></tr><tr><td>819606921824980992</td><td>b'@mjreddyMD If the results look good from the latest point release, then we are days away from a release to all HW1xe2x80xa6 https://t.co/tfJJSklIjj'</td><td>2017-01-12 18:08:12</td></tr><tr><td>466521428914094083</td><td>b'@Oatmeal may all technology in the future follow the zeroth law...'</td><td>2014-05-14 10:12:30</td></tr><tr><td>726183794215022592</td><td>b'@MrBoylan Duplicates will be cancelled. Max of 2 will be delivered to any one person. Only ~5% of orders are 2, so speculation unlikely.'</td><td>2016-04-29 22:58:03</td></tr><tr><td>690307996774072320</td><td>b'RT @Commercial_Crew: Watch 8 SuperDraco engines fire for @SpaceX Crew Dragon descent landing tether test: https://t.co/4MELcVTe0h. More: htxe2x80xa6'</td><td>2016-01-21 23:00:26</td></tr><tr><td>586195989167382528</td><td>b'RT @StephenKing: Took my Tesla out to a dragstrip last week and ran the 1/4 mile. 112 MPH, 0 to 60 in 4 seconds. Like driving an X-Wing figxe2x80xa6'</td><td>2015-04-09 15:56:29</td></tr><tr><td>579210902932574209</td><td>b'@Pandoomic Just changed them to full public domain'</td><td>2015-03-21 09:20:15</td></tr><tr><td>204845069772128256</td><td>b'Falcon flew perfectly!! Dragon in orbit, comm locked and solar arrays active!! Feels like a giant weight just came off my back :)'</td><td>2012-05-22 08:04:05</td></tr><tr><td>704102461766676481</td><td>b'@SpaceX Launch aborted on low thrust alarm. Rising oxygen temps due to hold for boat and helium bubble triggered alarm.'</td><td>2016-02-29 00:34:43</td></tr><tr><td>704779047746691072</td><td>b'@lorengrush exactly :)'</td><td>2016-03-01 21:23:13</td></tr><tr><td>780831628104966144</td><td>b'12m rocket booster diameter, 17m spaceship diameter, 122 m stack height'</td><td>2016-09-27 18:09:01</td></tr><tr><td>172817923243646976</td><td>b'RT @brynmooser: Math class at the @artistsforpeace school  http://t.co/TsOSngZ3'</td><td>2012-02-23 22:59:38</td></tr><tr><td>694802955170553861</td><td>b'Must be a slow news day if denying service to a super rude customer gets this much attention'</td><td>2016-02-03 08:41:47</td></tr><tr><td>750837202398093312</td><td>b'@disinformatico @Eddy_Jahn In other words, the intended implication is that a driver must remain alert, just as a pilot must remain alert.'</td><td>2016-07-06 23:41:53</td></tr><tr><td>780887904625229824</td><td>b'Good article on the interplanetary transport system on Gizmodo https://t.co/nysjRDQWFz'</td><td>2016-09-27 21:52:39</td></tr><tr><td>650080562556858368</td><td>b'@stumplahoma @mashable door is larger than opening and acts as an umbrella. Upper interior trim has hydrophobic coating.'</td><td>2015-10-02 22:50:58</td></tr><tr><td>780989416525422592</td><td>b'RT @geekwire: SpaceXxe2x80x99s Elon Musk makes high-stakes pitch for 40-year plan to colonize Mars https://t.co/kulcjLMPLW https://t.co/dPBV21Wovf'</td><td>2016-09-28 04:36:01</td></tr><tr><td>204858156801732608</td><td>b'Also big thanks to the Air Force, FAA and all of our partners for their support of this mission.'</td><td>2012-05-22 08:56:05</td></tr><tr><td>520335864053108736</td><td>b'Just got word that the cumulative miles of the  worldwide Tesla fleet passed half a billion!'</td><td>2014-10-09 22:11:52</td></tr><tr><td>166336380820144128</td><td>b'The sheer size of Falcon Heavy is mind-blowing. It could literally send a fully loaded London bus to the moon.'</td><td>2012-02-06 01:44:18</td></tr><tr><td>704092857829732353</td><td>b'@SpaceX AF has placed launch on hold due to a boat entering the edge of the keep out zone. Scrambling helo to get them to move.'</td><td>2016-02-28 23:56:33</td></tr><tr><td>203773618222678016</td><td>b'Launch aborted: slightly high combustion chamber pressure on engine 5. Will adjust limits for countdown in a few days.'</td><td>2012-05-19 09:06:31</td></tr><tr><td>457191844133097472</td><td>b'@erwinEmm Need to make sure precision return from hypersonic velocity works in ocean before transitioning to land'</td><td>2014-04-18 16:20:04</td></tr><tr><td>520743089938251777</td><td>b'Dual Motor Model S with Autopilot http://t.co/IL7BSn0ZZk'</td><td>2014-10-11 01:10:02</td></tr><tr><td>780828210028240896</td><td>b'Full Interplanetary Tranport System presentation in ~30 mins. Simulation preview: https://t.co/lKAxabzfKX'</td><td>2016-09-27 17:55:27</td></tr><tr><td>515224624271863808</td><td>b'RT @astro_reid: This is for my friends @SpaceX - #Dragon over #Hawthorne early this morning. http://t.co/RY0ipETIIT'</td><td>2014-09-25 19:41:37</td></tr><tr><td>204356879789473793</td><td>b'Just did an interview with Spaceflight Now. Some of your questions may be answered here: http://t.co/vF0Rs3p1'</td><td>2012-05-20 23:44:11</td></tr><tr><td>688918045989842944</td><td>b'RT @SpaceX: First stage approaches center of landing droneship in Pacific https://t.co/lI3q6LnwVP'</td><td>2016-01-18 02:57:16</td></tr><tr><td>204857362782224384</td><td>b'Huge appreciation for @NASA, without whom we could not even have started, let alone reached this far.'</td><td>2012-05-22 08:52:56</td></tr><tr><td>166251564032471040</td><td>b'Just posted a photo http://t.co/eN9xzbfO'</td><td>2012-02-05 20:07:16</td></tr><tr><td>204837633766076418</td><td>b'T minus 10 minutes ... Entering terminal count #dragonlaunch'</td><td>2012-05-22 07:34:32</td></tr><tr><td>780900979294269445</td><td>b'A Million Humans Could Live on Mars By the 2060s https://t.co/d0nlk1xfOl via @NatGeo'</td><td>2016-09-27 22:44:36</td></tr><tr><td>750829352229695488</td><td>b'Tesla response to the misleading Fortune articles about Autopilot https://t.co/zWRM3aMnVC'</td><td>2016-07-06 23:10:41</td></tr><tr><td>586202560404434944</td><td>b'Testing of the high performance version of the Tesla Model S by @ConsumerReportsnhttps://t.co/bvgEVgMswU'</td><td>2015-04-09 16:22:36</td></tr><tr><td>517486950589014016</td><td>b'About time to unveil the D and something else http://t.co/qp23yi59i6'</td><td>2014-10-02 01:31:18</td></tr><tr><td>384335603849895936</td><td>b'Looks good for a launch attempt today. Upper winds slightly exceed loads in high subsonic regime, but improving.'</td><td>2013-09-29 15:15:23</td></tr><tr><td>690983158490136576</td><td>b'@TheEconomist Interesting name'</td><td>2016-01-23 19:43:17</td></tr><tr><td>750820987676061696</td><td>b'Sponsored articles xe2x80xa6 https://t.co/i8QsJYU4Ee'</td><td>2016-07-06 22:37:27</td></tr><tr><td>585114189527552001</td><td>b'Welcome @Chiefboltkennyh to @TeslaMotors. He will apply Formula 1 techniques to revolutionize servicing mainstream cars.'</td><td>2015-04-06 16:17:48</td></tr><tr><td>165898145841168385</td><td>b'@MacDeviant Yeah, we will stream the whole mission realtime with no buffer. You see what we see.'</td><td>2012-02-04 20:42:54</td></tr><tr><td>750353176570789888</td><td>b'@samabuelsamid Wrong to exclude non-occupant deaths. Autopilot would have prevented this cyclist from being killed https://t.co/ic9liqnyDN'</td><td>2016-07-05 15:38:32</td></tr><tr><td>689299216607232000</td><td>b'My best guess for 2016: ~70% landing success rate (so still a few more RUDs to go), then hopefully improving to ~90% in 2017'</td><td>2016-01-19 04:11:54</td></tr><tr><td>750446098020503552</td><td>b'Because of course I hate flamingos...(maybe try eating fewer flamingo eggs in your salad)nhttps://t.co/tUKsWqCobo'</td><td>2016-07-05 21:47:47</td></tr><tr><td>579197717970206720</td><td>b'SpaceX Photos Are Now Available Under a Creative Commons License http://t.co/OgHJYimuCU'</td><td>2015-03-21 08:27:51</td></tr><tr><td>483979768203726848</td><td>b'Tesla Model S named top model in perceived quality http://t.co/hOhZMIG78u via @USATODAY'</td><td>2014-07-01 14:25:43</td></tr><tr><td>523011654515032064</td><td>b'Michigan auto dealers trying to pass anti-consumer legislation http://t.co/qEr5oz3CyE'</td><td>2014-10-17 07:24:30</td></tr><tr><td>650081625200545792</td><td>b'@Avron_p you can mount a rack to the roof via suction cups and still have one Falcon door work fine. Guaranteed up to 140 mph.'</td><td>2015-10-02 22:55:12</td></tr><tr><td>703692375055413248</td><td>b'@derekslager @skiesforme yes, it actually performed better than other colors on stain tests. Best not to have vented seats w kids though.'</td><td>2016-02-27 21:25:10</td></tr><tr><td>652355134454808577</td><td>b'Peak temp increases due to climate change http://t.co/dThGhXd6MT'</td><td>2015-10-09 05:29:18</td></tr><tr><td>650079603122438144</td><td>b'Model X Bioweapon Defense Mode definitely filters viruses btw, even the small ones. Has hospital operating room level filtering.'</td><td>2015-10-02 22:47:09</td></tr><tr><td>170309322037919744</td><td>b'Important point highlighted by @kqed: an electric car in California produces only 1/4 CO2 of gasoline http://t.co/xV3eWJ33'</td><td>2012-02-17 00:51:21</td></tr><tr><td>476641338213945345</td><td>b'RT @pud: Faith restored in humanity. French toast &gt; money http://t.co/N3HMerBMVD'</td><td>2014-06-11 08:25:25</td></tr><tr><td>587193821227651072</td><td>b'@benfeldman63 Thanks!'</td><td>2015-04-12 10:01:31</td></tr><tr><td>516473142923915264</td><td>b'xe2x80x9c@TheDailyShow: The House Science, Space and Technology Committee hearing on global warming. http://t.co/7i5W0Hb39Rxe2x80x9d'</td><td>2014-09-29 06:22:47</td></tr><tr><td>457212031062392833</td><td>b'Hexacopter drone vid of 1st F9 rocket booster takeoff &amp; landing w flight design legs http://t.co/FhZX3afK1a'</td><td>2014-04-18 17:40:17</td></tr><tr><td>477133748949884929</td><td>b'Regarding Tesla patents http://t.co/gGBWoInh6C'</td><td>2014-06-12 17:02:05</td></tr><tr><td>487286689300086784</td><td>b'@leroytwin @Tesla_Canada A lot of Canadian Superchargers are in work and will start going live in the next month or so'</td><td>2014-07-10 17:26:14</td></tr><tr><td>750354728169644032</td><td>b'@apple_defense @samabuelsamid Exactly! I love Twitter.'</td><td>2016-07-05 15:44:42</td></tr><tr><td>579216101793361920</td><td>b'Another Easter Egg will be hidden in the Model S code in 2015. Last one took a year to find. Next one should be easier.'</td><td>2015-03-21 09:40:54</td></tr><tr><td>478218232713580544</td><td>b'RT @cuckoolandcom: Happy #fathersday http://t.co/sIARKS7bfU'</td><td>2014-06-15 16:51:26</td></tr><tr><td>780888492452741120</td><td>b'RT @SpaceX: Goal is 100 people on each trip, eventually more https://t.co/kCtBLPbSg8 https://t.co/wbXJ6AeWyl'</td><td>2016-09-27 21:54:59</td></tr><tr><td>650107726509404160</td><td>b'Mostly accurate and fun movie about Mars. Worth seeing. https://t.co/6ujt1DG5j5'</td><td>2015-10-03 00:38:55</td></tr><tr><td>478903880793993216</td><td>b'Goal is for unsubsidized solar power to cost less than grid electricity from coal or fracked gas'</td><td>2014-06-17 14:15:57</td></tr><tr><td>650080098335477761</td><td>b'@sasatokic @mashable Front doors have a short arc and their interior panels are chamfered back'</td><td>2015-10-02 22:49:08</td></tr><tr><td>688846973361721345</td><td>b'@stunt_penguin @LayOn_OverWhale Stage 1 would reach low Earth orbit if not hefting a second stage, but payload would be greatly reduced.'</td><td>2016-01-17 22:14:51</td></tr><tr><td>479705782720536577</td><td>b'Test flight of Falcon 9-R with deployable grid fins for better hypersonic thru subsonic control http://t.co/6ZXpvPao2u'</td><td>2014-06-19 19:22:25</td></tr><tr><td>172122797852725248</td><td>b'@NASA launched a rocket into the northern lights http://t.co/tR2cSeMV'</td><td>2012-02-22 00:57:28</td></tr><tr><td>518227822373269504</td><td>b'RT @TheOnion: Popular New Exercise App Just Tells Users They Ran 5 Miles A Day No Matter What http://t.co/hBnxbj3wpY http://t.co/5405OnRSOK'</td><td>2014-10-04 02:35:15</td></tr><tr><td>690214453804163072</td><td>b'RT @NASA: 2015 was the warmest year on record. Have Qs? Ask us at 1pm ET during a @Reddit Science Q&amp;A: https://t.co/0p1HXLW12U https://t.coxe2x80xa6'</td><td>2016-01-21 16:48:44</td></tr><tr><td>780838839644483586</td><td>b'Waiting for everyone to reach their seats and get settled. Starting in 5 to 10.'</td><td>2016-09-27 18:37:41</td></tr><tr><td>586750857565220864</td><td>b'Waited to say something until after we fixed some of the options pricing (too high) and colors (too many similar)'</td><td>2015-04-11 04:41:20</td></tr><tr><td>169232412990115840</td><td>b'Model X review by Jim Motavalli. I think he likes the car. http://t.co/aY1nx9FP'</td><td>2012-02-14 01:32:06</td></tr><tr><td>688921087820705792</td><td>b'@JeffBezos @SpaceX Thanks Jeff'</td><td>2016-01-18 03:09:21</td></tr><tr><td>586722721322692608</td><td>b'To land a rocket, Just Read the Instructions nhttp://t.co/FJAM72zNWo'</td><td>2015-04-11 02:49:32</td></tr><tr><td>457235055388020736</td><td>b'Falcon 9-Reusable with (now retired) Grasshopper test rig in background http://t.co/TmYrs5mm79'</td><td>2014-04-18 19:11:47</td></tr><tr><td>703636763227484161</td><td>b'@skiesforme @TeslaMotors That said, the white interior is the best. Highly recommend.'</td><td>2016-02-27 17:44:11</td></tr><tr><td>750836652109594626</td><td>b'@disinformatico @Eddy_Jahn Tesla Tesla Autopilot is named after aircraft autopilot, as it is always expected that a pilot must stay alert.'</td><td>2016-07-06 23:39:42</td></tr><tr><td>298252558332485635</td><td>b'I love indoor flamethrowers http://t.co/aAnFftoD'</td><td>2013-02-04 02:12:06</td></tr><tr><td>703760056827912197</td><td>b'@TLKFremont Great leg room for 3rd row, rear visibility better, easy storage of long cargo.'</td><td>2016-02-28 01:54:07</td></tr><tr><td>166333716359168000</td><td>b'The London Sunday Times created a chart showing how Falcon compares to the Saturn V and Shuttle http://t.co/nJMPtYPd'</td><td>2012-02-06 01:33:43</td></tr><tr><td>586750504450916352</td><td>b'Just announced new Tesla 70D all-wheel drive, 240 mile range car for ~$55k (after gas savings &amp; incentives)nhttp://t.co/tDb2tCbeT0'</td><td>2015-04-11 04:39:56</td></tr><tr><td>165622701631868928</td><td>b'Docking with Space Station now likely to happen in April. Hopefully will look something like this: http://t.co/A2gd9ziC'</td><td>2012-02-04 02:28:24</td></tr><tr><td>585183983576551424</td><td>b'RT @SpaceX: Falcon 9 and Dragon undergoing prep in FL in advance of 4/13 launch to the @Space_Station http://t.co/0KGddcVzV0 http://t.co/7Fxe2x80xa6'</td><td>2015-04-06 20:55:08</td></tr><tr><td>522058704980414464</td><td>b'RT @newscientist: The Pentagon has warned the US military about the dangers of climate change http://t.co/2GJFlocfLR http://t.co/XQhgP6Blgu'</td><td>2014-10-14 16:17:49</td></tr><tr><td>487279300895191041</td><td>b'Tesla Superchargers delivered over 1GWh last month. Long distance driving growing exponentially http://t.co/vixkd5gkKX'</td><td>2014-07-10 16:56:53</td></tr><tr><td>204769845630337024</td><td>b'Major Tesla milestone: All crash testing is complete for 5* (max) safety rating. Cars can now be built for sale to public!'</td><td>2012-05-22 03:05:10</td></tr><tr><td>750835746613915648</td><td>b'@jacobrossi All publicly known Tesla product developments are called out, incl vehicles and batteries. Would be odd *not* to include.'</td><td>2016-07-06 23:36:06</td></tr><tr><td>204839936464134144</td><td>b'T minus 60 seconds. Terminal autosequence initiated. #DragonLaunch'</td><td>2012-05-22 07:43:41</td></tr><tr><td>204349174618128385</td><td>b'Simulations show launch ok with bad valve. Still, better to stop &amp; fix. Recalling rockets after launch is not an option.'</td><td>2012-05-20 23:13:34</td></tr><tr><td>750351150382194688</td><td>b'@alansmurray If you care about auto deaths as material to stock prices, why no articles about 1M+/year deaths from other auto companies?'</td><td>2016-07-05 15:30:29</td></tr><tr><td>203760858332016642</td><td>b'Whatever happens today, we could not have done it without @NASA, but errors are ours alone and me most of all.'</td><td>2012-05-19 08:15:48</td></tr><tr><td>780608204833165316</td><td>b'@rocketrepreneur Meant to say 200 AR for production vac engine. Dev will be up to 150. Beyond that, too much flow separation in Earth atmos.'</td><td>2016-09-27 03:21:13</td></tr><tr><td>780825799825973248</td><td>b'RT @SpaceX: Presenting the SpaceX Interplanetary Transport System. Learn more at 1:30pm CT https://t.co/SwNQJ9Ht4D https://t.co/xkGpQIBCMG'</td><td>2016-09-27 17:45:52</td></tr><tr><td>780909019435298817</td><td>b'RT @verge: Elon Musk wants to build a transit system that lets humans tour the entire Solar System https://t.co/bHKNHvhcaW https://t.co/rPDxe2x80xa6'</td><td>2016-09-27 23:16:33</td></tr><tr><td>750593838264246272</td><td>b'RT @Gizmodo: Hyperloop connecting Helsinki to Stockholm would turn a 300-mile trip into a 28-minute ride https://t.co/zeruuwufKk https://t.xe2x80xa6'</td><td>2016-07-06 07:34:51</td></tr><tr><td>704770247769722880</td><td>b'Pushing launch to Friday due to extreme high altitude wind shear. Hits like a sledgehammer when going up supersonic https://t.co/Gr8T5upaLd'</td><td>2016-03-01 20:48:15</td></tr><tr><td>656973325172920320</td><td>b'@sAlmaneei already in Jordan. Rest of states in region next year.'</td><td>2015-10-21 23:20:21</td></tr><tr><td>656972712649359360</td><td>b'@M4XRodri planning to have a big opening in Mexico City soon and then proceed gradually to central and South America.'</td><td>2015-10-21 23:17:55</td></tr><tr><td>648765057417895936</td><td>b'@elonmusk California time'</td><td>2015-09-29 07:43:37</td></tr><tr><td>755420049536606208</td><td>b'Returning from Cape Canaveral to California...'</td><td>2016-07-19 15:12:29</td></tr><tr><td>782322994332991488</td><td>b'RT @BadAstronomer: Elon Musk wants to put a million people on Mars. Herexe2x80x99s the thing: He just might. https://t.co/isGYs3wD4c https://t.co/Wxe2x80xa6'</td><td>2016-10-01 20:55:11</td></tr><tr><td>331486802462531584</td><td>b'@bdcs Yup, it is super far. Moon is basically in our back yard relative to Mars.'</td><td>2013-05-06 19:13:07</td></tr><tr><td>782043081021399040</td><td>b'@bearsper Will do a Reddit AMA on Mars in the next week or two'</td><td>2016-10-01 02:22:54</td></tr><tr><td>753681461576740864</td><td>b'EU regulators find no safety concerns with Autopilotnhttps://t.co/zOykm4XeHP'</td><td>2016-07-14 20:03:57</td></tr><tr><td>654698139249565697</td><td>b'@aaronpaul_8 sure :)'</td><td>2015-10-15 16:39:34</td></tr><tr><td>754908615757234176</td><td>b'Falcon on LZ-1 at Cape Canaveral https://t.co/dBkjBCDIRs'</td><td>2016-07-18 05:20:14</td></tr><tr><td>205502360112476161</td><td>b'The President just called to say congrats. Caller ID was blocked, so at first I thought it was a telemarketer :)'</td><td>2012-05-24 03:35:55</td></tr><tr><td>753699861636128768</td><td>b'Onboard vehicle logs show Autopilot was turned off in Pennsylvania crash. Moreover, crash would not have occurred if it was on.'</td><td>2016-07-14 21:17:04</td></tr><tr><td>655254071058657280</td><td>b'@aaronpaul_8 um, thanks, I like your work too'</td><td>2015-10-17 05:28:39</td></tr><tr><td>655256305209184258</td><td>b'@Meddd__ @aaronpaul_8 Watched the whole series. One of the best tv shows ever.'</td><td>2015-10-17 05:37:31</td></tr><tr><td>204911319260987392</td><td>b'Launch video of Falcon 9 from Cape Canaveral tracking cameras http://t.co/Qn8ne3pa #dragonlaunch'</td><td>2012-05-22 12:27:20</td></tr><tr><td>646814219178897408</td><td>b'@deadmau5 It was super good'</td><td>2015-09-23 22:31:41</td></tr><tr><td>716356220156686336</td><td>b'@Model3Owners They will. We spent a lot of time on those.'</td><td>2016-04-02 20:06:46</td></tr><tr><td>204882126884188160</td><td>b'Dragon spaceship opens the navigation pod bay door without hesitation. So much nicer than HAL9000 :) #DragonLaunch'</td><td>2012-05-22 10:31:20</td></tr><tr><td>688175650570547202</td><td>b'Maybe some debris ingestion. Engine data looks ok. Will borescope tonight. This is one of the outer engines.'</td><td>2016-01-16 01:47:15</td></tr><tr><td>716693951260938241</td><td>b'276k Model 3 orders by end of Sat'</td><td>2016-04-03 18:28:48</td></tr><tr><td>753785936257835008</td><td>b'Working on using existing Tesla radar by itself (decoupled from camera) w temporal smoothing to create a coarse point cloud, like lidar'</td><td>2016-07-15 02:59:06</td></tr><tr><td>648764066823954432</td><td>b'Model X launch webcast live today 8pm at http://t.co/R1Z6eMTUbo. Time to show the real thing. http://t.co/oXMrucs8wJ'</td><td>2015-09-29 07:39:41</td></tr><tr><td>753710366006267904</td><td>b'@scojjac exactly'</td><td>2016-07-14 21:58:49</td></tr><tr><td>204883910654570496</td><td>b'Navigation bay pointing to deep space and star map being generated by star tracker one. Yes! #DragonLaunch'</td><td>2012-05-22 10:38:25</td></tr><tr><td>652609347252412416</td><td>b'@YoApp yo'</td><td>2015-10-09 22:19:27</td></tr><tr><td>272518429368541184</td><td>b'Short vid of the recent @SpaceX mission to the Intl Space Station http://t.co/Qc963d8B'</td><td>2012-11-25 01:53:51</td></tr><tr><td>657110887707361280</td><td>b'@backseatdiver Hoping for Friday release'</td><td>2015-10-22 08:26:58</td></tr><tr><td>796110339498721280</td><td>b'RT @TeslaMotors: Model X wins the Golden Steering Wheel xf0x9fx91x8d https://t.co/af9Ze6Nhh5'</td><td>2016-11-08 22:01:10</td></tr><tr><td>716346279391944704</td><td>b'@squallcraft and a few other things'</td><td>2016-04-02 19:27:16</td></tr><tr><td>656973144306094080</td><td>b'@bonnienorman thanks Bonnie :)'</td><td>2015-10-21 23:19:38</td></tr><tr><td>715766837590499328</td><td>b'@redletterdave Hardware in all cars. Autopilot safety features standard. Convenience features optional (like S and X).'</td><td>2016-04-01 05:04:47</td></tr><tr><td>754968472929574912</td><td>b'Bit of a distraction yesterday. Working on plan today.'</td><td>2016-07-18 09:18:05</td></tr><tr><td>715952781895426048</td><td>b'Thought it would slow way down today, but Model 3 order count is now at 198k. Recommend ordering soon, as the wait time is growing rapidly.'</td><td>2016-04-01 17:23:39</td></tr><tr><td>205314559542693888</td><td>b'Dragon fly by of Space Station planned for 12:47 am California time. All systems green. #dragonlaunch'</td><td>2012-05-23 15:09:40</td></tr><tr><td>755140683112017920</td><td>b'Landing https://t.co/dRWGyyTtCH'</td><td>2016-07-18 20:42:23</td></tr><tr><td>656973991379378176</td><td>b'What esthetic and functionality improvements would you like to see in the 7.1 UI overhaul? Or new features entirely?'</td><td>2015-10-21 23:23:00</td></tr><tr><td>316588335885856768</td><td>b'Telemetry says main parachutes deployed ... now visually confirmed'</td><td>2013-03-26 16:31:55</td></tr><tr><td>272063241780338688</td><td>b'My talk for the Royal Aeronautical Society is now online. This gets a little more technical. http://t.co/ZMbkc3jh'</td><td>2012-11-23 19:45:06</td></tr><tr><td>317665357819154432</td><td>b'Rocket fairing almost ready for deployment test in vacuum chamber. Man lift on right for scale http://t.co/BLOTThWFvw'</td><td>2013-03-29 15:51:38</td></tr><tr><td>753789713807355904</td><td>b'@ihavetweets effective stereo by comparing data at various points in time while moving'</td><td>2016-07-15 03:14:07</td></tr><tr><td>754907067060715521</td><td>b'RT @SpaceX: Dragon on its way to @Space_Station, Falcon on its way home https://t.co/EpfUKBmoWi'</td><td>2016-07-18 05:14:04</td></tr><tr><td>716347450148040704</td><td>b'@vicentes Roadster, S and X customers are the ones who got us here and are paying for 3. They deserve a lot of credit.'</td><td>2016-04-02 19:31:55</td></tr><tr><td>716347036786757632</td><td>b'@Aakashhh_ we will send something to everyone who ordered, but an extra gift for those who stood in some crazy long lines'</td><td>2016-04-02 19:30:17</td></tr><tr><td>402803732632453121</td><td>b'Mission of Tesla  http://t.co/UchbT5NZE3'</td><td>2013-11-19 14:21:08</td></tr><tr><td>399347799403151360</td><td>b'Model S owner blogs about TN accident http://t.co/93Fz8WEwOU'</td><td>2013-11-10 01:28:29</td></tr><tr><td>782043711886594052</td><td>b'@jclishman @bearsper @rSpaceX yes'</td><td>2016-10-01 02:25:25</td></tr><tr><td>718532568312713216</td><td>b'RT @SpaceX: Propellant load underway for Falcon 9. Launch webcast will go live in about 10 minutes https://t.co/tdni53IviI'</td><td>2016-04-08 20:14:48</td></tr><tr><td>654727508345012224</td><td>b'RT @TechCrunch: Watch this self-steering Tesla Model S drive itself http://t.co/OZDobXUE7D http://t.co/i1RHu3SvqH'</td><td>2015-10-15 18:36:16</td></tr><tr><td>755137454655541248</td><td>b'@PaulPrijs @alexfrance free Babel fish provided'</td><td>2016-07-18 20:29:33</td></tr><tr><td>647646421844402176</td><td>b'RT @TIME: China shows its commitment on climate change http://t.co/jTQjGeDbtd'</td><td>2015-09-26 05:38:34</td></tr><tr><td>718546544966955008</td><td>b'RT @SpaceX: 1st stage has landed on Of Course I Still Love You https://t.co/tdni53IviI'</td><td>2016-04-08 21:10:20</td></tr><tr><td>715776577485807621</td><td>b'@IndiaToday Will include India-wide Supercharger network'</td><td>2016-04-01 05:43:29</td></tr><tr><td>718580558180261888</td><td>b'@POTUS Thanks on behalf of an amazing team at SpaceX!'</td><td>2016-04-08 23:25:30</td></tr><tr><td>647209943515332608</td><td>b'Dinner in an old Belgian ironmongery. Best menu art ever. http://t.co/3qUG1O6Q2v'</td><td>2015-09-25 00:44:09</td></tr><tr><td>316446454963122176</td><td>b'Future will indeed be rooftop solar + battery pack, w utility company just providing backup power nhttp://t.co/1PlB3xn0Cz'</td><td>2013-03-26 07:08:08</td></tr><tr><td>655426038621536256</td><td>b'RT @MrTeller: I like my car.  When Tesla asked me to review the experience, I did. No ad. Unpaid, just because I wanted to.  .http://t.co/xxe2x80xa6'</td><td>2015-10-17 16:51:59</td></tr><tr><td>796788573160648704</td><td>b'RT @TeslaMotors: Survey shows Tesla owners in Germany understand the meaning and function of Autopilot https://t.co/gvEX0h7mxq'</td><td>2016-11-10 18:56:14</td></tr><tr><td>716345597712670720</td><td>b'Token of appreciation for those who lined up coming via mail. Thought maybe 20-30 people per store would line up, not 800. Gifts on order.'</td><td>2016-04-02 19:24:34</td></tr><tr><td>715934657720639488</td><td>b'Model 3 orders at 180,000 in 24 hours. Selling price w avg option mix prob $42k, so ~$7.5B in a day. Future of electric cars looking bright!'</td><td>2016-04-01 16:11:38</td></tr><tr><td>316588058021609472</td><td>b'Recovery ship just heard the sonic booms from Dragon reentry and has data transmission lock.'</td><td>2013-03-26 16:30:49</td></tr><tr><td>657141296050606080</td><td>b'@JarkkoKuoppala all'</td><td>2015-10-22 10:27:48</td></tr><tr><td>330884627927560192</td><td>b'@DetlefKroeze Yeah, that probably makes sense.'</td><td>2013-05-05 03:20:17</td></tr><tr><td>718548224441774082</td><td>b'@NASA @sgvcrime @SpaceX @Space_Station Thanks for your support! Looking forward to delivering the goods for you.'</td><td>2016-04-08 21:17:01</td></tr><tr><td>753786447904198657</td><td>b'@att1cus86 @DMC_Ryan AP process crash would show up in logs'</td><td>2016-07-15 03:01:08</td></tr><tr><td>316585896814194688</td><td>b'Dragon deorbit burn was good. All thrusters operating. On target for splashdown.'</td><td>2013-03-26 16:22:14</td></tr><tr><td>795379725904416768</td><td>b'Playing Amish Paradise in my Tesla'</td><td>2016-11-06 21:37:58</td></tr><tr><td>715774390802194432</td><td>b'@StartUpRabbi Coming in the mail'</td><td>2016-04-01 05:34:47</td></tr><tr><td>753786870379581442</td><td>b'@DanistopMe only just gained access to physical vehicle'</td><td>2016-07-15 03:02:49</td></tr><tr><td>715774770013409281</td><td>b'@Oatmeal sure!'</td><td>2016-04-01 05:36:18</td></tr><tr><td>716356456593756160</td><td>b'@grebakshay We are working on an exact date, but Tesla will be in India before 3 production starts.'</td><td>2016-04-02 20:07:43</td></tr><tr><td>782640044599152640</td><td>b'Some of the future episodes of Westworld feature my ex. Talulah does a great job of playing a deadly sexbot :)'</td><td>2016-10-02 17:55:02</td></tr><tr><td>654521829789270016</td><td>b'@elimelechweiss actually works best at night'</td><td>2015-10-15 04:58:59</td></tr><tr><td>272129332565123072</td><td>b'@cthorm SS Heart of Gold powered by the Infinite Improbability Drive!'</td><td>2012-11-24 00:07:43</td></tr><tr><td>317145726759104512</td><td>b'RT @TeslaMotors: Chick Magnet. http://t.co/oJAnnsSQEL'</td><td>2013-03-28 05:26:48</td></tr><tr><td>715955186175459332</td><td>b'Definitely going to need to rethink production planning...'</td><td>2016-04-01 17:33:12</td></tr><tr><td>718598761832968192</td><td>b'@levie Tickets to orbital hotels, the moon and Mars will be a lot less than people think.'</td><td>2016-04-09 00:37:50</td></tr><tr><td>718522065322532865</td><td>b'@arstechnica Reasons for ocean landing are technical, not economic. Orbit requires extreme horizontal velocity. Getting to space needs none.'</td><td>2016-04-08 19:33:04</td></tr><tr><td>718571641949650944</td><td>b'@Jon_Favreau @SpaceX Thanks!'</td><td>2016-04-08 22:50:04</td></tr><tr><td>755167487017291776</td><td>b'Really tempting to redesign upper stage for return too (Falcon Heavy has enough power), but prob best to stay focused on the Mars rocket'</td><td>2016-07-18 22:28:53</td></tr><tr><td>782410047011819520</td><td>b'More Kerbal! https://t.co/IDeV1wAfVR'</td><td>2016-10-02 02:41:06</td></tr><tr><td>716510703000100865</td><td>b'Model 3 design sketches https://t.co/P5ucOBRUZ7'</td><td>2016-04-03 06:20:38</td></tr><tr><td>781323339604176896</td><td>b'RT @waitbutwhy: The full story with the mindblowing rocket @elonmusk &amp; @SpaceX just announced and why you might end up on it one day https:xe2x80xa6'</td><td>2016-09-29 02:42:55</td></tr><tr><td>647333128655237120</td><td>b'RT @SpaceX: This week we static fired the first stage of the upgraded Falcon 9 for a planned 15 seconds https://t.co/fxp7HnUvCu'</td><td>2015-09-25 08:53:39</td></tr><tr><td>718598132888702976</td><td>b'Just wanted to write a note of appreciation for all those who have supported Tesla, SpaceX &amp; SolarCity over the years. Thank you.'</td><td>2016-04-09 00:35:20</td></tr><tr><td>753791633204781058</td><td>b'@erik_smith1 @ihavetweets certainly moderate and maybe big advances w no incremental hardware'</td><td>2016-07-15 03:21:44</td></tr><tr><td>686976300158853120</td><td>b'Next launch is a @NASA science mission from VAFB California on Sunday. https://t.co/vJdkJkZzg1'</td><td>2016-01-12 18:21:28</td></tr><tr><td>655041756166160384</td><td>b'RT @EcoWatch: Colbert: I Woke Up Yesterday Morning and My #Tesla Could Drive Itselfnhttp://t.co/cVkPuu4O16 @elonmusk @teslamotors http://t.xe2x80xa6'</td><td>2015-10-16 15:24:59</td></tr><tr><td>657106581893574656</td><td>b'@elonmusk Good feedback. Will write up a list of software priorities in the coming weeks.'</td><td>2015-10-22 08:09:52</td></tr><tr><td>400776254082666496</td><td>b'SuperDraco rocket engine fired at full thrust w a printed Inconel chamber. Used for Dragon escape &amp; landing http://t.co/HjWEayLlBN'</td><td>2013-11-14 00:04:39</td></tr><tr><td>718607811958214656</td><td>b'RT @SpaceX: Onboard view of landing in high winds https://t.co/FedRzjYYyQ'</td><td>2016-04-09 01:13:48</td></tr><tr><td>688173528017850368</td><td>b'Conducted hold-down firing of returned Falcon rocket. Data looks good overall, but engine 9 showed thrust fluctuations.'</td><td>2016-01-16 01:38:49</td></tr><tr><td>654521665305473024</td><td>b'Review of Model S by @MrTeller http://t.co/eF7ICE9ef4'</td><td>2015-10-15 04:58:20</td></tr><tr><td>654409700801310720</td><td>b'RT @WIRED: Breaking: Tesla just made its cars autonomous, kinda http://t.co/1jxVX9k7rO'</td><td>2015-10-14 21:33:25</td></tr><tr><td>317659286660595712</td><td>b'A123 battery company renames itself B456 after bankruptcy (really).'</td><td>2013-03-29 15:27:30</td></tr><tr><td>782643630586535936</td><td>b'Wow, this tweet is like a Rorschach test'</td><td>2016-10-02 18:09:17</td></tr><tr><td>782639314425421824</td><td>b'RT @WestworldHBO: Live without limits. n#Westworld premieres tonight at 9PM on @HBO.nhttps://t.co/JiVuKbXwes https://t.co/ZvkY2kG5qD'</td><td>2016-10-02 17:52:07</td></tr><tr><td>205544630199132160</td><td>b'About 110 miles away and the spacecraft is now in direct communication with the Space Station #Dragon'</td><td>2012-05-24 06:23:53</td></tr><tr><td>316595382622765056</td><td>b'Recovery ship has secured Dragon. Powering down all secondary systems. Cargo looks A ok.'</td><td>2013-03-26 16:59:55</td></tr><tr><td>716696932073152512</td><td>b'@mindthreat @RyanHummer Yes, if the trend continues, before'</td><td>2016-04-03 18:40:38</td></tr><tr><td>715765978328612870</td><td>b'@drew Just order the SpaceX option package!'</td><td>2016-04-01 05:01:22</td></tr><tr><td>754931091891453952</td><td>b'Out on LZ-1. We just completed the post-landing inspection and all systems look good. Ready to fly again. https://t.co/1OfA8h7Vrf'</td><td>2016-07-18 06:49:32</td></tr><tr><td>753788944714649600</td><td>b'@SimplyDonya elevation too'</td><td>2016-07-15 03:11:03</td></tr><tr><td>647939356548730882</td><td>b'Great discussion about solar/batteries empowering rural communities https://t.co/Qte2s55gnP'</td><td>2015-09-27 01:02:35</td></tr><tr><td>796508246055927808</td><td>b'RT @ggreenwald: Trump Picks Top Climate Skeptic to Lead EPA Transition https://t.co/fTiN4KuKJq'</td><td>2016-11-10 00:22:18</td></tr><tr><td>648530748513783808</td><td>b'RT @NASA: Water! Strong evidence that liquid water flows on present-day Mars. Details: http://t.co/0MW11SANwL #MarsAnnouncement http://t.coxe2x80xa6'</td><td>2015-09-28 16:12:34</td></tr><tr><td>795565958592987136</td><td>b'@InLucidReverie a bit like that, but hopefully a more meaningful role for humans'</td><td>2016-11-07 09:58:00</td></tr><tr><td>331082832187363329</td><td>b'@nirdthebird Definitely a lot of potential for geothermal, but depends on well depth. Too expensive in most places.'</td><td>2013-05-05 16:27:53</td></tr><tr><td>716731407310196736</td><td>b'@CmaxVs Only way to get enough rear passenger headroom was to move the rear roof cross-car support beam. A bike will still fit no problem.'</td><td>2016-04-03 20:57:38</td></tr><tr><td>678732298532085761</td><td>b'Launch &amp; landing can be seen on the https://t.co/bDd3GxQXMC webcast or in person from Cape Canaveral public causeway at 8:33pm local tmrw'</td><td>2015-12-21 00:22:44</td></tr><tr><td>716745282394976257</td><td>b'Model 3 will be RWD, with dual motor AWD optional. Even RWD will have great traction on ice due to fast torque response of Tesla drivetrain.'</td><td>2016-04-03 21:52:46</td></tr><tr><td>824113827679641600</td><td>b'Sigh'</td><td>2017-01-25 04:37:02</td></tr><tr><td>824056075217420291</td><td>b'@Michael_McLean That may be a difficult award to decline'</td><td>2017-01-25 00:47:33</td></tr><tr><td>780289045238657024</td><td>b'Chamber pressure is almost 3X Merlin, so engine is about the same size for a given area ratio'</td><td>2016-09-26 06:13:00</td></tr><tr><td>716743848580497409</td><td>b'@Zooropa88 @TeslaMotors Superchargers and service centers will cover all of Italy later this year'</td><td>2016-04-03 21:47:04</td></tr><tr><td>715679848828575744</td><td>b'@lukealization yes, will cover whole country'</td><td>2016-03-31 23:19:07</td></tr><tr><td>794200368804544512</td><td>b'Only a matter of time before advanced AI is used to do this. Internet is particularly susceptible to a gradient desxe2x80xa6 https://t.co/JCgtjr1Nab'</td><td>2016-11-03 15:31:38</td></tr><tr><td>794219484621832192</td><td>b'@brainwipe There would def be millions of agents simultaneously doing a Monte Carlo sim &amp; combining the results to build a map of weaknesses'</td><td>2016-11-03 16:47:35</td></tr><tr><td>697679434996850688</td><td>b'@garethseneque global'</td><td>2016-02-11 07:11:54</td></tr><tr><td>697341715712086016</td><td>b'Should mention that Tesla Motors itself had nothing to do with the short movie. This was completely independent.'</td><td>2016-02-10 08:49:55</td></tr><tr><td>679163784062107649</td><td>b'High res video of landing from the helo https://t.co/G0Yq2V5J3m'</td><td>2015-12-22 04:57:19</td></tr><tr><td>755784816847495168</td><td>b'Not easy to convey irony in a tweet'</td><td>2016-07-20 15:21:56</td></tr><tr><td>824148084632551425</td><td>b'RT @Gizmodo: Why it matters that human poker pros are getting trounced by an AI https://t.co/LEzbofY8IV https://t.co/4dhLqrf9hB'</td><td>2017-01-25 06:53:09</td></tr><tr><td>755830992812711937</td><td>b'@vitiral yup'</td><td>2016-07-20 18:25:26</td></tr><tr><td>755841606960373760</td><td>b'Post should go live on Tesla website around 5pm'</td><td>2016-07-20 19:07:36</td></tr><tr><td>824125950107545600</td><td>b'@Nivo0o0 Was wondering what those were'</td><td>2017-01-25 05:25:12</td></tr><tr><td>715764167563677697</td><td>b'RT @TeslaMotors: Meet Model 3 xe2x80x93 Make your reservation at https://t.co/8uVlhvzpu5 #Model3nhttps://t.co/NdyGLgoW0D'</td><td>2016-04-01 04:54:10</td></tr><tr><td>715677488228098048</td><td>b'@KentNStephens sure is'</td><td>2016-03-31 23:09:44</td></tr><tr><td>716743909750218752</td><td>b'@GolfsHard yes'</td><td>2016-04-03 21:47:19</td></tr><tr><td>716743321624903680</td><td>b'@_Only_Hawk @MICHAELSD01 @TechGrlTweeter definitely'</td><td>2016-04-03 21:44:58</td></tr><tr><td>697678962588188672</td><td>b'Model 3 reservations ($1000 down) will be accepted in Tesla stores on March 31 and online April 1'</td><td>2016-02-11 07:10:01</td></tr><tr><td>730595677936324608</td><td>b'Ok https://t.co/jJJR28UGrK'</td><td>2016-05-12 03:09:18</td></tr><tr><td>719571133389938688</td><td>b'Activate autopilot 4X in quick succession for psychedelic cowbell road. And, yes, we are adding more cowbell soon.'</td><td>2016-04-11 17:01:41</td></tr><tr><td>679145544673923072</td><td>b'Live video from LZ-1 https://t.co/Ve6gEXfOdh'</td><td>2015-12-22 03:44:50</td></tr><tr><td>776896014905061376</td><td>b'@asunshinegreene yes'</td><td>2016-09-16 21:30:18</td></tr><tr><td>656971866163277825</td><td>b'@thebradholt big UI update coming in V7.1'</td><td>2015-10-21 23:14:33</td></tr><tr><td>780291118080462848</td><td>b'@rocketrepreneur 382s is with a 150 area ratio vacuum (or Mars ambient pressure) nozzle. Will go over specs for both versions on Tues.'</td><td>2016-09-26 06:21:14</td></tr><tr><td>695666033676328960</td><td>b'My job moonlighting as a police officer in Brazil is no longer secretnhttps://t.co/QBTQYMpAF9'</td><td>2016-02-05 17:51:21</td></tr><tr><td>776956202936782850</td><td>b'@kzmakino sounds about right'</td><td>2016-09-17 01:29:28</td></tr><tr><td>776939304140414976</td><td>b'Turns out MCT can go well beyond Mars, so will need a new namexe2x80xa6'</td><td>2016-09-17 00:22:19</td></tr><tr><td>720504138451283968</td><td>b'Great video history of Falcon 9 by Kinematic https://t.co/EeGPVW7kq2'</td><td>2016-04-14 06:49:07</td></tr><tr><td>755859976816427010</td><td>b'@elonmusk now 2Pac'</td><td>2016-07-20 20:20:36</td></tr><tr><td>719584703196504064</td><td>b'@lonelysandwich needs latest update'</td><td>2016-04-11 17:55:37</td></tr><tr><td>679142215981993984</td><td>b'Falcon 9 standing on LZ-1 at Cape Canaveral https://t.co/RZdfcH0exW'</td><td>2015-12-22 03:31:36</td></tr><tr><td>656972435401678848</td><td>b'@octomagon me too:'</td><td>2015-10-21 23:16:49</td></tr><tr><td>728808794910662656</td><td>b'@tzepr Certainly agree that it is first and foremost a triumph for humanity. The cheering is in good spirit.'</td><td>2016-05-07 04:48:51</td></tr><tr><td>715723459888685056</td><td>b'RT @TeslaMotors: Longest line EVER #Model3nhttps://t.co/EafMhK3BDC'</td><td>2016-04-01 02:12:24</td></tr><tr><td>718686042434342912</td><td>b'@rjcc yes'</td><td>2016-04-09 06:24:39</td></tr><tr><td>730139225006309376</td><td>b'RT @Gizmodo: Climate change is real and this visualization proves it https://t.co/vrDeTLNLtS https://t.co/sUqeMx0HOR'</td><td>2016-05-10 20:55:31</td></tr><tr><td>776957948928991232</td><td>b'I love the suggestions!'</td><td>2016-09-17 01:36:24</td></tr><tr><td>679153539025797121</td><td>b'RT @SpaceX: Another view of Falcon 9 first stage approaching Landing Zone 1 https://t.co/i5oNfSYmrc'</td><td>2015-12-22 04:16:36</td></tr><tr><td>780280440401764353</td><td>b'Production Raptor goal is specific impulse of 382 seconds and thrust of 3 MN (~310 metric tons) at 300 bar'</td><td>2016-09-26 05:38:48</td></tr><tr><td>679127406813188097</td><td>b'11 satellites deployed to target orbit and Falcon has landed back at Cape Canaveral. Headed to LZ-1. Welcome back, baby!'</td><td>2015-12-22 02:32:46</td></tr><tr><td>627042246471364608</td><td>b'@tallakt Various forms of shades are being considered. May not be necessary though.'</td><td>2015-07-31 09:04:56</td></tr><tr><td>697674277131153408</td><td>b'@ErikRoesegg good point'</td><td>2016-02-11 06:51:24</td></tr><tr><td>656970996801474560</td><td>b'Tesla gets top rating of any company in service. Most important, CR says 97% of owners expect their next car to be a Tesla (the acid test).'</td><td>2015-10-21 23:11:06</td></tr><tr><td>679138271084064768</td><td>b'@morganpage thanks!'</td><td>2015-12-22 03:15:56</td></tr><tr><td>718982116667600896</td><td>b'@thelonelyisland Well, I thought TLI might be upset about using their material without permission. Apparently not :)'</td><td>2016-04-10 02:01:09</td></tr><tr><td>716729841362407424</td><td>b'@gerardomarina Some tweaking underway'</td><td>2016-04-03 20:51:25</td></tr><tr><td>679110356224991232</td><td>b'Background on the launch https://t.co/1SkttU684X'</td><td>2015-12-22 01:25:00</td></tr><tr><td>779459518560215041</td><td>b'RT @Hyperloop: One more week to apply to our second student Hyperloop competition https://t.co/ZQHjHtkuAj https://t.co/iKI7GXut8K'</td><td>2016-09-23 23:16:45</td></tr><tr><td>755841679454720000</td><td>b'California time'</td><td>2016-07-20 19:07:53</td></tr><tr><td>716730009394647040</td><td>b'@B_Rans yes. Will easily fit two child seats. Three if you buy slim seats.'</td><td>2016-04-03 20:52:05</td></tr><tr><td>794201703922810880</td><td>b'@ClintonKeith good chance'</td><td>2016-11-03 15:36:56</td></tr><tr><td>780423473961115649</td><td>b'@huntster1701 yes'</td><td>2016-09-26 15:07:10</td></tr><tr><td>730624508814458880</td><td>b'Definitelynhttps://t.co/7gEkc0mt9O'</td><td>2016-05-12 05:03:51</td></tr><tr><td>793710619933315072</td><td>b'@ropiko yes'</td><td>2016-11-02 07:05:32</td></tr><tr><td>729850448832659457</td><td>b'@vicentes @TeslaMotors @Tim_Stevens @CNET coming soon'</td><td>2016-05-10 01:48:01</td></tr><tr><td>716729420078133248</td><td>b'@HBL_Cosmin Wait until you see the real steering controls and system for the 3. It feels like a spaceship.'</td><td>2016-04-03 20:49:44</td></tr><tr><td>697679828468641792</td><td>b'No signature series for Model 3. Same reservation amount for all.'</td><td>2016-02-11 07:13:28</td></tr><tr><td>729803850035564545</td><td>b'RT @TeslaMotors: Model X is the most amazing SUV on the road @Tim_Stevens @CNET https://t.co/siEnzHlFgw https://t.co/4Aj5S7nSpv'</td><td>2016-05-09 22:42:51</td></tr><tr><td>697331144417619968</td><td>b'Love this Tesla video made by https://t.co/bwKne0mZUh'</td><td>2016-02-10 08:07:55</td></tr><tr><td>715656818756726784</td><td>b'@roddrury X and S will also be available'</td><td>2016-03-31 21:47:36</td></tr><tr><td>730149561855959041</td><td>b'RT @TeslaMotors: Every day is Earth Day for Tesla owners https://t.co/F33yw2SL1f #EarthDay https://t.co/USTrEjRHVV'</td><td>2016-05-10 21:36:35</td></tr><tr><td>719780850338955265</td><td>b'RT @SpaceX: Falcon 9 rocket back at port https://t.co/ysO9Q4vBXx https://t.co/1XKazWK3Xp'</td><td>2016-04-12 06:55:02</td></tr><tr><td>679371165043945473</td><td>b'RT @SpaceX: Going up and coming down. More pics here -&gt; https://t.co/K47HQ6Y6rR https://t.co/BBHHjPSFD0'</td><td>2015-12-22 18:41:22</td></tr><tr><td>718682216876802048</td><td>b'RT @SpaceX: 4K footage from chase plane https://t.co/ZtdZHadUos'</td><td>2016-04-09 06:09:27</td></tr><tr><td>780296017254023170</td><td>b'@williamwinters @rocketrepreneur pretty close'</td><td>2016-09-26 06:40:42</td></tr><tr><td>679137936416329728</td><td>b'There and back again https://t.co/Ll7wg2hL1G'</td><td>2015-12-22 03:14:36</td></tr><tr><td>780278836860628992</td><td>b'Mach diamonds https://t.co/TCX7ZGFnN0'</td><td>2016-09-26 05:32:26</td></tr><tr><td>656972046639984644</td><td>b'@jonthomason yay! Always happy to make others happy'</td><td>2015-10-21 23:15:16</td></tr><tr><td>716742777468555264</td><td>b'@Alandbru @TeslaMotors should be addressed this year'</td><td>2016-04-03 21:42:49</td></tr><tr><td>755825075245297664</td><td>b'@AnnaDotBlue busted'</td><td>2016-07-20 18:01:55</td></tr><tr><td>776959933120000000</td><td>b'@TheMikeBartley yeah!'</td><td>2016-09-17 01:44:17</td></tr><tr><td>715677526459199488</td><td>b'@preastro yes'</td><td>2016-03-31 23:09:53</td></tr><tr><td>780275236922994688</td><td>b'SpaceX propulsion just achieved first firing of the Raptor interplanetary transport engine https://t.co/vRleyJvBkx'</td><td>2016-09-26 05:18:07</td></tr><tr><td>678679083782377472</td><td>b'Just reviewed mission params w SpaceX team. Monte Carlo runs show tmrw night has a 10% higher chance of a good landing. Punting 24 hrs.'</td><td>2015-12-20 20:51:17</td></tr><tr><td>793709350950871040</td><td>b'RT @TeslaMotors: Additional information on a combined Tesla &amp; SolarCity https://t.co/dSxGtDI6Lp'</td><td>2016-11-02 07:00:30</td></tr><tr><td>755808603706011648</td><td>b'Except for the tweet about large amounts of crack (actually just small amounts)'</td><td>2016-07-20 16:56:28</td></tr><tr><td>792220862648766466</td><td>b'@vicentes yes'</td><td>2016-10-29 04:25:47</td></tr><tr><td>780296159315173376</td><td>b'@DavidKYoon yes'</td><td>2016-09-26 06:41:16</td></tr><tr><td>696847681654685696</td><td>b'RT @TeslaMotors: Why Summon enhances your safety and convenience https://t.co/ZQZ5kQdSgD https://t.co/7tBoBQ1uBL'</td><td>2016-02-09 00:06:48</td></tr><tr><td>779461663141474308</td><td>b'Good Forbes article on Tesla/SolarCity merger https://t.co/guNh5q2zrl'</td><td>2016-09-23 23:25:16</td></tr><tr><td>755929747763245061</td><td>b'Tesla Master Plan, Part Deuxnhttps://t.co/XQeTlsoEdE'</td><td>2016-07-21 00:57:51</td></tr><tr><td>679137515543097345</td><td>b'@Jon_Favreau Thanks Jon!'</td><td>2015-12-22 03:12:56</td></tr><tr><td>682717803166695425</td><td>b'Falcon 9 back in the hangar at Cape Canaveral. No damage found, ready to fire again. https://t.co/7w6IfJGtXM'</td><td>2016-01-01 00:19:43</td></tr><tr><td>728754091644440576</td><td>b'@LifeOfRockstar I think so'</td><td>2016-05-07 01:11:29</td></tr><tr><td>718905750374916096</td><td>b'RT @SpaceX: More launch and landing photos here https://t.co/vn4S8bV3x3 https://t.co/PvlU50ZJvh'</td><td>2016-04-09 20:57:42</td></tr><tr><td>718865990373625857</td><td>b'@TheHackersNews @SpaceX Thanks'</td><td>2016-04-09 18:19:42</td></tr></tbody></table></div>"
      ]
     },
     "metadata": {
      "application/vnd.databricks.v1+output": {
       "addedWidgets": {},
       "aggData": [],
       "aggError": "",
       "aggOverflow": false,
       "aggSchema": [],
       "aggSeriesLimitReached": false,
       "aggType": "",
       "arguments": {},
       "columnCustomDisplayInfos": {},
       "data": [
        [
         "598232495537016832",
         "b'@jankenbrandt Hi Julie!'",
         "2015-05-12 21:05:16"
        ],
        [
         "835187859158020097",
         "b'@donbarbieri @GreenCarReports Good chance it will'",
         "2017-02-24 18:01:17"
        ],
        [
         "152763084488982531",
         "b'SpaceX has Boeing, Lockheed, Europe (Ariane) and Russia (Proton/Soyuz) near checkmate in rocket technology. End game is all about China.'",
         "2011-12-30 14:48:52"
        ],
        [
         "338367123455885312",
         "b'@kn0xvi11ain Very few. Scientific consensus at time of Columbus was world was round http://t.co/V3XIcob4s8'",
         "2013-05-25 18:53:03"
        ],
        [
         "429979489922461696",
         "b'Tesla LA to NY Supercharger rally just completed in 76 hours across northern route in dead of winter thru heavy snow!'",
         "2014-02-02 14:07:53"
        ],
        [
         "307958110474104832",
         "b'Just received #Dragon docking clearance from @NASA. Will begin orbital maneuvers to Space Station at 11pm Pacific time.'",
         "2013-03-02 20:58:29"
        ],
        [
         "406186792409632769",
         "b'15 mins to liftoff http://t.co/3jDrHRSPQZ'",
         "2013-11-28 22:24:12"
        ],
        [
         "173528867699568641",
         "b'Dragon spaceship and Falcon 9 rocket just completed final assembly at Cape Canaveral http://t.co/4GrSr3VU'",
         "2012-02-25 22:04:41"
        ],
        [
         "462104679116050432",
         "b'@rocketrepreneur ~40%'",
         "2014-05-02 05:41:55"
        ],
        [
         "472757297685356546",
         "b'Recording of Dragon V2 unveil at http://t.co/aBIV4EWOS2'",
         "2014-05-31 15:11:37"
        ],
        [
         "532205104993038336",
         "b'RT @AutoblogGreen: The @TeslaMotors Model S scores Euro NCAP 5-star safety score, w/cool video http://t.co/Yh6l1TF5dF'",
         "2014-11-11 16:15:59"
        ],
        [
         "639171519197777920",
         "b'Model 3, our smaller and lower cost sedan will start production in about 2 years. Fully operational Gigafactory needed.'",
         "2015-09-02 20:22:20"
        ],
        [
         "332287909413650433",
         "b'@mjasandoval Stay tuned'",
         "2013-05-09 00:16:25"
        ],
        [
         "658735748498100225",
         "b'Cool! https://t.co/HOe0K7qkuk'",
         "2015-10-26 20:03:35"
        ],
        [
         "788662824033673218",
         "b'RT @zebedee666: @TeslaMotors Autopilot saves another life. Dare folk to RT that as much as previous context-free clickbait https://t.co/d1axe2x80xa6'",
         "2016-10-19 08:47:24"
        ],
        [
         "705094621567692800",
         "b'RT @BillGates: Itxe2x80x99s amazing how much more we spend on gasoline than on clean energy research. I did the math to figure it out...nhttps://t.xe2x80xa6'",
         "2016-03-02 18:17:12"
        ],
        [
         "582581865682350080",
         "b'Major new Tesla product line -- not a car -- will be unveiled at our Hawthorne Design Studio on Thurs 8pm, April 30'",
         "2015-03-30 16:35:15"
        ],
        [
         "475772232355287040",
         "b'RT @arstechnica: Eugenexe2x80x94the supercomputer, not 13-year-oldxe2x80x94first to beat the Turing Test  http://t.co/lPup3f3dRx by @nathanmattise'",
         "2014-06-08 22:51:54"
        ],
        [
         "601665000948649984",
         "b'Another good riddle: drill a hole thru a sphere such that the height of what remains of the sphere is 10cm. What is its remaining volume?'",
         "2015-05-22 08:24:49"
        ],
        [
         "835350234049863680",
         "b'Roller coasters are awesome'",
         "2017-02-25 04:46:30"
        ],
        [
         "738856423656808448",
         "b'@lessteza control of super powerful AI by a small number of humans is the most proximate concern'",
         "2016-06-03 22:14:33"
        ],
        [
         "819661044867944448",
         "b'@trevoclark Good point. 2.34 would be a production Tesla. Stripped down, maybe as low as 2.1.'",
         "2017-01-12 21:43:16"
        ],
        [
         "405988869868642304",
         "b'Model S Owner drives 3121 miles solo from Canada to Mexico http://t.co/8G8l1utgS2'",
         "2013-11-28 09:17:44"
        ],
        [
         "732019686901055488",
         "b'RT @joshuapinter: @juliusvolz @elonmusk Totally. I did this up from a previous one to give it scale: https://t.co/Y6oZSc2Std'",
         "2016-05-16 01:27:48"
        ],
        [
         "531996243904716800",
         "b'@Shmizer1 unfettered certainly and at very low cost'",
         "2014-11-11 02:26:03"
        ],
        [
         "469356919979655168",
         "b'Great progress by @NASASpaceflight members repairing the Falcon 9 ocean landing video http://t.co/DP4y5W5uvZ'",
         "2014-05-22 05:59:44"
        ],
        [
         "788625768368762880",
         "b'Tesla does 0-60 mph in 2.7 seconds in the rain https://t.co/Z3YA4igGE1 via @electrekco'",
         "2016-10-19 06:20:09"
        ],
        [
         "167325254451081216",
         "b'Cool new @NASA pic of the most powerful type of solar flare, called X-class. Am not making this up! http://t.co/eJKSQqvO'",
         "2012-02-08 19:13:44"
        ],
        [
         "776960194852958208",
         "b'@LarryMasters778 That is my favorite fictional spaceship. Powered by improbability!'",
         "2016-09-17 01:45:20"
        ],
        [
         "406205904141697024",
         "b'If launch aborts, we will bring the rocket down for engine inspection, so probably a few days before next attempt'",
         "2013-11-28 23:40:09"
        ],
        [
         "404059376652005377",
         "b'Headed to Cape Canaveral tomorrow for first @SpaceX geostationary satellite launch.'",
         "2013-11-23 01:30:37"
        ],
        [
         "273485219162648576",
         "b'And, yes, I do in fact know that this sounds crazy. That is not lost on me. Nor I do think SpaceX will do this alone.'",
         "2012-11-27 17:55:32"
        ],
        [
         "716749717795946496",
         "b'@mpatfield no problem'",
         "2016-04-03 22:10:23"
        ],
        [
         "151317672217419777",
         "b'Single character Tweets are the ulitmate extension of the Twitmeme...'",
         "2011-12-26 15:05:19"
        ],
        [
         "658657439248572417",
         "b'RT @jehldavid: Beautiful up to date album of @SpaceX Dragon spacecraft photos released by @NASA. @elonmusk https://t.co/g4a0K0EsEM'",
         "2015-10-26 14:52:25"
        ],
        [
         "785140287819612160",
         "b'@roger_kappler Probably not then either'",
         "2016-10-09 15:30:06"
        ],
        [
         "815026557282463744",
         "b'@vicentes @DragTimes Late Jan, along with Linux kernel upgrade'",
         "2016-12-31 02:47:28"
        ],
        [
         "798980894543343616",
         "b'Looks like the Model S P100D Easter egg will allow it to do 0 to 60 mph in 2.4 sec and a 10.6 sec 1/4 mile via software update next month'",
         "2016-11-16 20:07:44"
        ],
        [
         "723260501153710080",
         "b'RT @hamids: My doors have gone through hundreds of open/close kid testings! https://t.co/9Pufi0cafoxe2x80xa6 @elonmusk @TeslaMotors https://t.co/Rfxe2x80xa6'",
         "2016-04-21 21:21:55"
        ],
        [
         "732247546924388353",
         "b'Response to a Mercury News article about an injury on our premisesnhttps://t.co/3BFgV6Hfia'",
         "2016-05-16 16:33:14"
        ],
        [
         "845325721455149056",
         "b'@kryniog The shorter wheelbase only allows for a 75 kWh pack in Model 3 at current cell/module energy densities'",
         "2017-03-24 17:25:32"
        ],
        [
         "384336908949524480",
         "b'You can watch the launch at http://t.co/2ZSXeqWKvy http://t.co/u5VEUgRu8g'",
         "2013-09-29 15:20:34"
        ],
        [
         "724175962246500352",
         "b'RT @physorg_com: Solar-powered #plane completes journey across Pacific Ocean https://t.co/FXHG2T2DS7'",
         "2016-04-24 09:59:38"
        ],
        [
         "249306225177669632",
         "b'First test flight hop of our Grasshopper VTVL rocket! http://t.co/oomI5vSB'",
         "2012-09-22 00:36:50"
        ],
        [
         "752193726462586881",
         "b'@vicentes Probably six months. Will include hundreds of refinements to handle rare corner cases in Autopilot.'",
         "2016-07-10 17:32:14"
        ],
        [
         "677961117595906048",
         "b'About 2 mins from static fire'",
         "2015-12-18 21:18:21"
        ],
        [
         "707611375191744512",
         "b'Congrats to DeepMind! Many experts in the field thought AI was 10 years away from achieving this. https://t.co/5gGZZkud3K'",
         "2016-03-09 16:57:53"
        ],
        [
         "785135480811712513",
         "b'@FuncRandm I agree. Speed of light is a point in favor of the sim.'",
         "2016-10-09 15:11:00"
        ],
        [
         "715433418260029440",
         "b'Model 3 unveil will be webcast live at 8:30pm California time at https://t.co/46TXqRrsdr'",
         "2016-03-31 06:59:53"
        ],
        [
         "714963420316049411",
         "b'Looks like we may need to increase production plans for the Model 3 https://t.co/fmCPFC9FEm'",
         "2016-03-29 23:52:17"
        ],
        [
         "471829262215835648",
         "b'Amazing repair job of Falcon 9 ocean landing vid by @NASASpaceflight forum. Now shows leg deploy http://t.co/EYoaRjEn9Q'",
         "2014-05-29 01:43:56"
        ],
        [
         "459443233290866688",
         "b'FTC blog supports direct car sales as good for consumers http://t.co/FfqvAKVfFF'",
         "2014-04-24 21:26:17"
        ],
        [
         "659541500712251392",
         "b'@MacTechGenius yes, comes with each car'",
         "2015-10-29 01:25:22"
        ],
        [
         "792204742558560256",
         "b'RT @jodyfisher: Exactly what I was thinking.. nice job @elonmusk https://t.co/jOwclRImXP'",
         "2016-10-29 03:21:43"
        ],
        [
         "828292305522192384",
         "b'@BenCam137 @FifthRocket Exactly'",
         "2017-02-05 17:20:49"
        ],
        [
         "389113628416172032",
         "b'Rocket flight to 744m, hover &amp; return to launch pad (close shot from hexacopter drone) http://t.co/vyJSUbZo2R'",
         "2013-10-12 19:41:33"
        ],
        [
         "330017552120033282",
         "b'Time to up the ante (and fix some mistakes). Tesla announcement tomorrow.'",
         "2013-05-02 17:54:50"
        ],
        [
         "653005894922276865",
         "b'Some exciting news this week: Tesla Version 7 software with Autopilot goes to wide release on Thursday!'",
         "2015-10-11 00:35:12"
        ],
        [
         "577533020736909312",
         "b'Some people seem to think I tweet to affect share price. This is false. A brief rise in $TSLA stock obviously does no good for Tesla or me.'",
         "2015-03-16 18:12:56"
        ],
        [
         "275346615634624514",
         "b'Uranium ore now available on Amazon! So much more convenient than Uzbekistan #AwesomeXmasGifts http://t.co/jqWAJrnY'",
         "2012-12-02 21:12:03"
        ],
        [
         "833330869293035520",
         "b'RT @SpaceX: Falcon 9 first stage has landed at LZ-1'",
         "2017-02-19 15:02:16"
        ],
        [
         "278953918338326528",
         "b'Cool video recap of the big events of the year by Google #Zeitgeist2012 http://t.co/FZjy4vkL'",
         "2012-12-12 20:06:11"
        ],
        [
         "819664369818578944",
         "b'@MotorTrend Sarah should be in contact with you soon about doing a benchmark test'",
         "2017-01-12 21:56:29"
        ],
        [
         "677940293212102656",
         "b'5 mins from static fire test'",
         "2015-12-18 19:55:36"
        ],
        [
         "331794886368055296",
         "b'Creating an autopilot for cars at Tesla is an important, but not yet top priority. Still a few years from production.'",
         "2013-05-07 15:37:20"
        ],
        [
         "787775297521233920",
         "b'@markpinc @TeslaMotors thanks!'",
         "2016-10-16 22:00:41"
        ],
        [
         "787721971417034752",
         "b'@Reuters Umm...Autobahn?'",
         "2016-10-16 18:28:47"
        ],
        [
         "488718649515986944",
         "b'Rocket booster reentry, landing burn &amp; leg deploy were good, but lost hull integrity right after splashdown (aka kaboom)'",
         "2014-07-14 16:16:20"
        ],
        [
         "829885356531032064",
         "b'@accohen @MeganGeuss @arstechnica Exactly. What this person said is untrue.'",
         "2017-02-10 02:51:02"
        ],
        [
         "740540471081062401",
         "b'@danahull yes'",
         "2016-06-08 13:46:21"
        ],
        [
         "739176652517707776",
         "b'@SwiftOnSecurity how did you know?'",
         "2016-06-04 19:27:01"
        ],
        [
         "823632597284691969",
         "b'@stephenstohn Yes, safety should improve significantly due to autonomy features, even if regs disallow no driver present'",
         "2017-01-23 20:44:48"
        ],
        [
         "660693896553324545",
         "b'@ID_AA_Carmack noted'",
         "2015-11-01 05:44:34"
        ],
        [
         "744549842496655360",
         "b'Tesla owner drives through a flooded tunnel &amp; out the other side nhttps://t.co/RmPxdZShhq'",
         "2016-06-19 15:18:10"
        ],
        [
         "428789050925785088",
         "b'Tesla cars are now in all 50 US states (map credit Edmunds)! http://t.co/ehq2Muu5cr'",
         "2014-01-30 07:17:30"
        ],
        [
         "744552907563991040",
         "b'@KatelynBrock Drive units and battery are sealed'",
         "2016-06-19 15:30:20"
        ],
        [
         "638962228700381184",
         "b'RT @SpaceX: Pad 39A @NASAKennedy will be future home to @Commercial_Crew launches and Falcon Heavy missions http://t.co/ITebIXLzzb'",
         "2015-09-02 06:30:41"
        ],
        [
         "845331893176324096",
         "b'@Mr_Ewe_Guy Oh so little faith'",
         "2017-03-24 17:50:03"
        ],
        [
         "600549508796190720",
         "b'Fossil fuels subsidised by $10m a minute, says IMF  http://t.co/c4nsZjXc32'",
         "2015-05-19 06:32:15"
        ],
        [
         "580482462612135936",
         "b'Right move is try both tunnels and flying cars. Otherwise, having 2D streets and 3D buildings means bad traffic forever.'",
         "2015-03-24 21:32:58"
        ],
        [
         "789020178969276416",
         "b'@Bret_with1t yes'",
         "2016-10-20 08:27:24"
        ],
        [
         "752204607753842688",
         "b'@SwiftOnSecurity Tricky in 140 chars, but: 1B needed for min statistical sample size. More software mods and data may be needed beyond that.'",
         "2016-07-10 18:15:28"
        ],
        [
         "814837068987645952",
         "b'RT @IridiumComm: Milestone Alert: The first ten #IridiumNEXT satellites are stacked and encapsulated in the Falcon 9 fairing. #NEXTevolutioxe2x80xa6'",
         "2016-12-30 14:14:30"
        ],
        [
         "298338092652318720",
         "b'Wow, 180,000 American killed by other Americans since 9/11 vs only 33 by muslim terroristsnhttp://t.co/BEdhLqJS'",
         "2013-02-04 07:51:58"
        ],
        [
         "841039231694786560",
         "b'Just wanted to write a note of appreciation to the many Australians who came out in support of the battery plan, especially @mcannonbrookes'",
         "2017-03-12 21:32:33"
        ],
        [
         "838563502386118656",
         "b'Thanks JJ!'",
         "2017-03-06 01:34:53"
        ],
        [
         "625843527608459266",
         "b'If youxe2x80x99re against a military AI arms race, please sign this open letter:nhttp://t.co/yyF9rcm9jz'",
         "2015-07-28 01:41:39"
        ],
        [
         "326152475205857281",
         "b'Cool picture of Io crossing Jupiter sent to me by @shervin. Would be amazing to visit in person one day.'",
         "2013-04-22 01:56:24"
        ],
        [
         "408708548009291776",
         "b'Should mention that the battery cells used for this are 200 Wh/kg vs 250 for Model S. No short term supply constraint.'",
         "2013-12-05 21:24:45"
        ],
        [
         "798370472832352256",
         "b'Love you too!nhttps://t.co/BlDDQ0oJmg'",
         "2016-11-15 03:42:08"
        ],
        [
         "167104295504838656",
         "b'Wish there was something we could do to help the people of Syria.   http://t.co/Ii7v7Cgw'",
         "2012-02-08 04:35:43"
        ],
        [
         "818090148608868353",
         "b'New rev for Autopilot HW2 rolling out Mon to first 1000 &amp; to rest of fleet in shadow mode. Also improves HW1 and enables Ludicrous+.'",
         "2017-01-08 13:41:05"
        ],
        [
         "755940191571808257",
         "b'@MRamseyWSJ Great game. Whole Fallout series is amazing.'",
         "2016-07-21 01:39:21"
        ],
        [
         "330425498406633474",
         "b'@thebradholt we need a compelling video that convinces TX lawmakers to pass the direct sales law just approved by their committee.'",
         "2013-05-03 20:55:52"
        ],
        [
         "833411017065394176",
         "b'Just posted a video https://t.co/RCV7MVi8rs'",
         "2017-02-19 20:20:45"
        ],
        [
         "461055579650129920",
         "b'@nitroc3ll yes'",
         "2014-04-29 08:13:10"
        ],
        [
         "553744525194047488",
         "b'RT @SpaceX: F9 &amp; Dragon now vertical on the launch pad. Liftoff @ 4:47am ET. Live launch webcast: http://t.co/6Db27OEotr http://t.co/fSAjzBxe2x80xa6'",
         "2015-01-10 02:45:57"
        ],
        [
         "752272158517112835",
         "b'Something like that https://t.co/aufFuB5VXo'",
         "2016-07-10 22:43:53"
        ],
        [
         "155380533533220864",
         "b'Model S Signature series sold out as of today https://t.co/pKbR0ziP'",
         "2012-01-06 20:09:40"
        ],
        [
         "658358303454420992",
         "b'@abrax4s Yes, establishing charging and service infrastructure in Mexico now. Official launch in next several months.'",
         "2015-10-25 19:03:45"
        ],
        [
         "657702829398822912",
         "b'@shanenickerson Amount of change needed is enormous - like a spinal cord transplant. Would cost less and work better with a new car.'",
         "2015-10-23 23:39:08"
        ],
        [
         "626780203533107200",
         "b'@Alyssa_Milano Thanks Alyssa!'",
         "2015-07-30 15:43:40"
        ],
        [
         "476537238785114112",
         "b'@Ash_Dale I do seriously need a haircut :)'",
         "2014-06-11 01:31:46"
        ],
        [
         "828284802327523328",
         "b'@zgiarrizzo Exactly'",
         "2017-02-05 16:51:00"
        ],
        [
         "277693768583491584",
         "b'Congrats to @dmetcalf for being the first to drive a Tesla Model S over 400 miles on a single charge!'",
         "2012-12-09 08:38:48"
        ],
        [
         "337323464241319936",
         "b'Tesla wired the funds to repay the DOE loan today. Only US car company to have fully repaid govt http://t.co/jxHW9YkvPz'",
         "2013-05-22 21:45:55"
        ],
        [
         "699510738147106816",
         "b'@chriskreidler @engadget yes, this was done jointly with Tesla and Radio Flyer'",
         "2016-02-16 08:28:50"
        ],
        [
         "298266134128496641",
         "b'Great spirit here in the Superdome. Awesome rally by the @49ers!! #SB47'",
         "2013-02-04 03:06:02"
        ],
        [
         "405989364322533376",
         "b'@lomac92 @WIRED No, almost all fuel/ox is being reserved for SES satellite to give max chance of success'",
         "2013-11-28 09:19:42"
        ],
        [
         "653010368583741440",
         "b'@andrewshiamone yes'",
         "2015-10-11 00:52:58"
        ],
        [
         "217991440830173184",
         "b'She was a great woman xe2x80x9c@VanityFair: In Memoriam, Nora Ephron, 1941-2012 http://t.co/raIoWXbbxe2x80x9d'",
         "2012-06-27 14:43:04"
        ],
        [
         "408008759433502720",
         "b'Reached parking orbit. Now coasting towards equator, where the upper stage will, if all goes well, restart to raise apogee'",
         "2013-12-03 23:04:03"
        ],
        [
         "598174400404262912",
         "b'RT @TeslaMotors: Agreed. @FTC affirms States to allow consumers to choose how they buy their cars. #Tesla #Michigan http://t.co/fT1JHjMpzg'",
         "2015-05-12 17:14:25"
        ],
        [
         "814919997088665600",
         "b'Churchill (non) quotes nhttps://t.co/avA4YD6K6g'",
         "2016-12-30 19:44:02"
        ],
        [
         "792177803869376512",
         "b'RT @TeslaMotors: Powerwall 2 stores solar energy to power your home with 14 kWh of storage https://t.co/oVv32hiGF6'",
         "2016-10-29 01:34:41"
        ],
        [
         "457188968627310592",
         "b'This is 1st ever orbital rocket launch w landing legs. Will attempt leg deploy &amp; soft landing out to sea.'",
         "2014-04-18 16:08:38"
        ],
        [
         "273483420468932608",
         "b'Millions of people needed for Mars colony, so 80k+ would just be the number moving to Mars per year http://t.co/rwMuzVEK'",
         "2012-11-27 17:48:23"
        ],
        [
         "710657482322915328",
         "b'@RobGlaser sure'",
         "2016-03-18 02:42:01"
        ],
        [
         "677663227271118848",
         "b'@PaigeANjax -340 F in this case. Deep cryo increases density and amplifies rocket performance. First time anyone has gone this low for O2.'",
         "2015-12-18 01:34:38"
        ],
        [
         "799328920852000768",
         "b'RT @TheEconomist: New data show that 2016 is on course to be the hottest year ever recorded https://t.co/a6xA3qr7MF https://t.co/WS2WMVXv0J'",
         "2016-11-17 19:10:40"
        ],
        [
         "181881709841752064",
         "b'RT @SpaceX: In case you missed it, here is the full video of SpaceX on @60Minutes last night. What did you think of the story? http://t. ...'",
         "2012-03-19 23:15:53"
        ],
        [
         "536258543675252739",
         "b'Testing operation of hypersonic grid fins (x-wing config) going on next flight http://t.co/O1tMSIXxsT'",
         "2014-11-22 20:42:54"
        ],
        [
         "739594006762393600",
         "b'Highly recommend @PlayOverwatch by the good people of @Blizzard_Ent if you like ultrafast team FPS actionnhttps://t.co/GAIamvAPnn'",
         "2016-06-05 23:05:26"
        ],
        [
         "739509168722186241",
         "b'@ahess247 @Recode I love Douglas Adams! My favorite spaceship ever is in HHGTTG.'",
         "2016-06-05 17:28:19"
        ],
        [
         "627040381729906688",
         "b'Almost ready to release highway autosteer and parallel autopark software update'",
         "2015-07-31 08:57:31"
        ],
        [
         "180105275133538306",
         "b'10 years ago today, SpaceX was founded. Many battles fought. Physics always won. http://t.co/p85UHeuq'",
         "2012-03-15 01:36:58"
        ],
        [
         "174700079490412544",
         "b'RT @timminchin: A really clear and concise article debunking climate science sceptics. Please read & RT.  http://t.co/NmbwbFR1'",
         "2012-02-29 03:38:39"
        ],
        [
         "784507684410097664",
         "b'US automotive deaths rose 10% to 17,775 in first half of 2016, approx 1 every 88 million miles https://t.co/8vrAHA80yB'",
         "2016-10-07 21:36:22"
        ],
        [
         "739193563938856960",
         "b'Exactly https://t.co/cy1AbIIo42'",
         "2016-06-04 20:34:13"
        ],
        [
         "404067161175379968",
         "b'@DarkSapiens Easier to make the plane change to equatorial orbit. Done in order to reduce satellite side delta V from 1800 m/s to 1500 m/s.'",
         "2013-11-23 02:01:33"
        ],
        [
         "739004504289353729",
         "b'@JedBrown5 @renzdimaandal @Goetzman @Tom_Stears exactly'",
         "2016-06-04 08:02:58"
        ],
        [
         "330019280206831616",
         "b'@roulezelectric This is about getting a prior announcement right. Not part 4 yet.'",
         "2013-05-02 18:01:42"
        ],
        [
         "639172302530215936",
         "b'@elonmusk $35k price, unveil in March, preorders start then.'",
         "2015-09-02 20:25:26"
        ],
        [
         "337594277666377730",
         "b'More importantly, @Chrysler failed to pay back $1.3B. Apart those 2 points, you were totally 1st http://t.co/0P2ZLDl67a'",
         "2013-05-23 15:42:02"
        ],
        [
         "177210012911927299",
         "b'The President of Serbia came by our booth at the Geneva Motor Show and talked about Nikola Tesla http://t.co/KIhxc0TF'",
         "2012-03-07 01:52:14"
        ],
        [
         "407718277365121024",
         "b'@TierraUniversu It was fixed this weekend, so he should try the test again.'",
         "2013-12-03 03:49:47"
        ],
        [
         "675431513211600896",
         "b'Announcing formation of @open_ai xe2x80xa6nhttps://t.co/Fcouhwh6MC'",
         "2015-12-11 21:46:36"
        ],
        [
         "838558471972741120",
         "b'https://t.co/3YSXZq1EVj'",
         "2017-03-06 01:14:54"
        ],
        [
         "589505551366639618",
         "b'RT @TeslaMotors: Brand new Store &amp; Service Center in Shanghai Hongqiao. #Tesla #China http://t.co/bbsSksbZT7'",
         "2015-04-18 19:07:30"
        ],
        [
         "564509965612634112",
         "b'Rocket reentry will be much tougher this time around due to deep space mission. Almost 2X force and 4X heat. Plenty of hydraulic fluid tho.'",
         "2015-02-08 19:43:58"
        ],
        [
         "553836041770373120",
         "b'At mission control in California. Launch in 60 mins. Looks good so far.'",
         "2015-01-10 08:49:36"
        ],
        [
         "407744196398043136",
         "b'RT @Jon_Favreau: An Amazon drone just flew away with my dog.'",
         "2013-12-03 05:32:46"
        ],
        [
         "752270839458869249",
         "b'@nickg_uk already taken care of'",
         "2016-07-10 22:38:39"
        ],
        [
         "275821969415483393",
         "b'Am happy to report that Tesla was narrowly cash flow positive last week. Continued improvement expected through year end.'",
         "2012-12-04 04:40:56"
        ],
        [
         "402811201052090368",
         "b'Why does a Tesla fire w no injury get more media headlines than 100,000 gas car fires that kill 100s of people per year?'",
         "2013-11-19 14:50:48"
        ],
        [
         "832970849791537152",
         "b'All systems go, except the movement trace of an upper stage engine steering hydraulic piston was slightly odd. Standing down to investigate.'",
         "2017-02-18 15:11:41"
        ],
        [
         "321985069235453953",
         "b'@derrickgott007 already partly here with rocket development, but will make it a lot bigger with the launch site'",
         "2013-04-10 13:56:37"
        ],
        [
         "777330011703566336",
         "b'@thescalex @SpaceX @IAC2016 @YouTube its it is'",
         "2016-09-18 02:14:51"
        ],
        [
         "461057260853022720",
         "b'@micahgtb almost'",
         "2014-04-29 08:19:51"
        ],
        [
         "705910704792973313",
         "b'Target altitude of 40,600 km achieved. Thanks @SES_Satellites for riding on Falcon 9! Looking forward to future missions.'",
         "2016-03-05 00:20:01"
        ],
        [
         "677660460230041600",
         "b'Falcon 9 is vertical on the launch pad at Cape Canaveral. Working towards static fire. Deep cryo liquid oxygen presenting some challenges.'",
         "2015-12-18 01:23:38"
        ],
        [
         null,
         null,
         null
        ],
        [
         "716748255242100736",
         "b'@AndersRytter yes, but production AWD will be a lot faster'",
         "2016-04-03 22:04:35"
        ],
        [
         "592602352659533824",
         "b'Worth watching @ExMachinaMovie. The AI would be in the network, not the robot, but otherwise good.'",
         "2015-04-27 08:13:05"
        ],
        [
         "827681242128715777",
         "b'There has already been and there will be progress on this matter'",
         "2017-02-04 00:52:40"
        ],
        [
         "413772104786780160",
         "b'220 ft tall mobile crane to carry the rocket around in the vertical http://t.co/hgXnpEh8yU'",
         "2013-12-19 20:45:31"
        ],
        [
         "271642966442000385",
         "b'Gave a talk on energy and transport at Oxford Univ http://t.co/kbvJf5LO'",
         "2012-11-22 15:55:04"
        ],
        [
         "758003098816286720",
         "b'Via @NPR: Sun-Powered Airplane Completes Historic Trip Around The World https://t.co/AKe5VRaY5o'",
         "2016-07-26 18:16:36"
        ],
        [
         "845293825715154945",
         "b'@HolsMichael Start taking orders in April'",
         "2017-03-24 15:18:47"
        ],
        [
         "832647116816150530",
         "b'Investigating a (very small) leak in the upper stage. If ok, will launch tomorrow. https://t.co/bQf97lywn4'",
         "2017-02-17 17:45:17"
        ],
        [
         "805862775603929088",
         "b'RT @OpenAI: A video tutorial and overview of Universe from @sirajology: https://t.co/9JyfF5aFrl'",
         "2016-12-05 19:53:52"
        ],
        [
         "152614233278910464",
         "b'To be clear, CtG absolutely did *not* bang her horse. They were just close friends who liked to take showers together and spoon at night.'",
         "2011-12-30 04:57:23"
        ],
        [
         "560688975778557952",
         "b'RT @SpaceX: Updated animation of Falcon Heavy flight and booster recovery. Check it out: http://t.co/Y4OvdU8yQ5 http://t.co/LN7yRVAvkT'",
         "2015-01-29 06:40:43"
        ],
        [
         "658842380922023936",
         "b'Compliment from Jeffrey is much appreciated, but the people of Tesla deserve all the credit'",
         "2015-10-27 03:07:18"
        ],
        [
         "407313331247398912",
         "b'Engines are cycling cleanly w ground pneumatics. Replaced gas generator on engine 9 (center) as a precautionary measure.'",
         "2013-12-02 01:00:40"
        ],
        [
         "589579721488224256",
         "b'While the rocket does look rather tall &amp; tippy, a stable landing is no problem with proper throttle response https://t.co/B4Y6D4dpsc'",
         "2015-04-19 00:02:14"
        ],
        [
         "792217704757284864",
         "b'@HipStreeet yes'",
         "2016-10-29 04:13:14"
        ],
        [
         "638900258232074240",
         "b'RT @Oprah: Test driving my new Tesla with dealer Dan. Love it!! https://t.co/LHLroJ6Acl'",
         "2015-09-02 02:24:26"
        ],
        [
         "752204733339701249",
         "b'@SwiftOnSecurity I like your tweets!'",
         "2016-07-10 18:15:58"
        ],
        [
         "330708114854793217",
         "b'@fink_justin It can definitely strain relationships, but I loved doing my first company with my brother'",
         "2013-05-04 15:38:53"
        ],
        [
         "828018446873006080",
         "b'Walking down the street and saw this https://t.co/Mpv5j6088K'",
         "2017-02-04 23:12:36"
        ],
        [
         "828004976228188160",
         "b'@ChrisJCav Maybe my favorite mug ever'",
         "2017-02-04 22:19:04"
        ],
        [
         "845294161125269505",
         "b'@ToddGerkens Yeah'",
         "2017-03-24 15:20:07"
        ],
        [
         "338360832410939392",
         "b'Sorry for all the heavy stuff abt climate change, but I really thought world wd take action sooner. No time for subtlety'",
         "2013-05-25 18:28:03"
        ],
        [
         "789008557341454336",
         "b'@vicentes latest autonomous hardware allows for easy computer upgrade'",
         "2016-10-20 07:41:13"
        ],
        [
         "828279118944989185",
         "b'RT @TeslaMotors: Honored to receive Best Car Award for the third year in a row in Germany. Thank you to all 124,000 of you who voted! httpsxe2x80xa6'",
         "2017-02-05 16:28:25"
        ],
        [
         "835202594968477696",
         "b'@johnpaulbrewer Something on a tristate border might work. Gigafactory plus nearby supporting supply chain needs a very large workforce.'",
         "2017-02-24 18:59:50"
        ],
        [
         "338130215492521984",
         "b'RT @1stHubbleFan: @GaryDownie @elonmusk Wrong! Science helps confirm #climatechange by, once again, pointing to #sealevelrise: http://t.co/xe2x80xa6'",
         "2013-05-25 03:11:40"
        ],
        [
         "278331899133452288",
         "b'Tesla was just approved for a full Class 1 Massachusetts Auto Sales License by a vote of 4 to 1. Much appreciated!'",
         "2012-12-11 02:54:30"
        ],
        [
         "740296489532948480",
         "b'Fourth rocket arrives in the hangar. Aiming for first reflight in Sept/Oct. https://t.co/TqW8d6Cc3U'",
         "2016-06-07 21:36:51"
        ],
        [
         "474032659434180608",
         "b'RT @OEVAorg: 4 second summary of @TeslaMotors 2014 annual shareholder meeting https://t.co/uK7Ze79v9j :) @elonmusk'",
         "2014-06-04 03:39:27"
        ],
        [
         "824011724357373953",
         "b'@danahull Rex is an exceptionally competent executive, understands geopolitics and knows how to win for his team. His team is now the USA.'",
         "2017-01-24 21:51:19"
        ],
        [
         "739573737331298306",
         "b'RT @SpaceX: Next launch targeting June 14 from Cape Canaveral xe2x80x93 45 minute launch window opens at 10:32am ET, 2:32pm UTC https://t.co/o8m9bIxe2x80xa6'",
         "2016-06-05 21:44:54"
        ],
        [
         "778600126063390720",
         "b'This is a major overhaul on almost every level compared to V7.'",
         "2016-09-21 14:21:50"
        ],
        [
         "179095691468095489",
         "b'Mountain lions eat cats, which means we *actually* live in a cat eat cat world ... an apology is owed to dogkind!'",
         "2012-03-12 06:45:14"
        ],
        [
         "688801679404171264",
         "b'RT @SpaceX: First stage on target at droneship but looks like hard landing; broke landing leg. Primary mission remains nominal xe2x86x92 https://t.xe2x80xa6'",
         "2016-01-17 19:14:52"
        ],
        [
         "828291884858691584",
         "b'@AanstadGard Norway is great on all levels. Love Norway!'",
         "2017-02-05 17:19:08"
        ],
        [
         "150390624552615937",
         "b'The Russians are having some challenges with their rockets. Too many of the engineers that designed them have retired: http://t.co/rEs7spSU'",
         "2011-12-24 01:41:33"
        ],
        [
         "819663998878564352",
         "b'@gurnam @brianstucki @reddit It is'",
         "2017-01-12 21:55:00"
        ],
        [
         "725351655433068544",
         "b'RT @SpaceX: Planning to send Dragon to Mars as soon as 2018. Red Dragons will inform overall Mars architecture, details to come https://t.cxe2x80xa6'",
         "2016-04-27 15:51:25"
        ],
        [
         "824010489449431040",
         "b'@TheEconomist This may sound surprising coming from me, but I agree with The Economist. Rex Tillerson has the potenxe2x80xa6 https://t.co/2BddSK9IBI'",
         "2017-01-24 21:46:24"
        ],
        [
         "711603839443423232",
         "b'Tesla charger map https://t.co/9tei7lU4FD'",
         "2016-03-20 17:22:30"
        ],
        [
         "626779726695297024",
         "b'@loic thanks Loic :)'",
         "2015-07-30 15:41:46"
        ],
        [
         "698196071529316352",
         "b'RT @TeslaMotors: Model X gets its wings https://t.co/08srkZi2oh'",
         "2016-02-12 17:24:49"
        ],
        [
         "726125524091723777",
         "b'@erothenberg checking into it ...'",
         "2016-04-29 19:06:30"
        ],
        [
         "745010737215504384",
         "b'@WilliamShatner Of course. Our love will never die.'",
         "2016-06-20 21:49:36"
        ],
        [
         "457416105162993664",
         "b'RT @BadAstronomer: Blog post: INCREDIBLE footage of the Dragon capsule in orbit over France, 25 minutes after launch! http://t.co/RCgFfOqbVd'",
         "2014-04-19 07:11:12"
        ],
        [
         "726213728278962176",
         "b'@MrBoylan System scan detected only 0.2% of orders with same email and physical address. Those have been purged.'",
         "2016-04-30 00:56:59"
        ],
        [
         "743600755739754497",
         "b'@fucktyler Thanks Tyler'",
         "2016-06-17 00:26:50"
        ],
        [
         "724160269480431620",
         "b'@KristianNairn A 3 should be workable, but an S or particularly an X would be better'",
         "2016-04-24 08:57:17"
        ],
        [
         "465030743962296320",
         "b'Worth seeing @ChefTheFilm by @Jon_Favreau. Make sure to plan for a meal afterwards!'",
         "2014-05-10 07:29:03"
        ],
        [
         "330394051637547010",
         "b'@2552nsf Yeah, that is super tricky. Will have to sacrifice a lot of payload to boost back or land on ocean platform.'",
         "2013-05-03 18:50:54"
        ],
        [
         "788973638665908224",
         "b'@AlternateJones of course'",
         "2016-10-20 05:22:28"
        ],
        [
         "838555180656295936",
         "b'RT @TeslaMotors: Project Loveday https://t.co/K1snXJN15u'",
         "2017-03-06 01:01:49"
        ],
        [
         "322170049316139009",
         "b'Yay for democracy! @latimes asks: Should Tesla Motors be able to sell directly to consumers? http://t.co/IhSNht6bgx'",
         "2013-04-11 02:11:40"
        ],
        [
         "307530281290711042",
         "b'Thruster pod 3 tank pressure trending positive. Preparing to deploy solar arrays.'",
         "2013-03-01 16:38:27"
        ],
        [
         "698813524827443200",
         "b'RT @TeslaMotors: 4 semi-autonomous cars put to the test: xe2x80x9cTeslaxe2x80x99s Autopilot is the clear winner.xe2x80x9d @CARandDRIVER https://t.co/azia4en1ru'",
         "2016-02-14 10:18:22"
        ],
        [
         "246352069332721665",
         "b'Amazing series of space pics assembled by @theatlantic http://t.co/IUFTYgDn http://t.co/SHEPSWbS'",
         "2012-09-13 20:58:05"
        ],
        [
         "840774191049658372",
         "b'@williamwinters High voltage DC is for sure the best way to transmit electricity over long distances. Good explanatxe2x80xa6 https://t.co/Ucz8O3Tfm1'",
         "2017-03-12 03:59:22"
        ],
        [
         "789020841489018880",
         "b'When searching for parking, the car reads the signs to see if it is allowed to park there, which is why it skipped the disabled spot'",
         "2016-10-20 08:30:02"
        ],
        [
         "657686500310700032",
         "b'Autopilot 1.01 coming soon: curve speed adaption, controller smoothness, better lane holding on poor roads, improved fleet learning!'",
         "2015-10-23 22:34:15"
        ],
        [
         "792217344684597248",
         "b'RT @TeslaMotors: Solar roof glass tile vs. conventional roof tile https://t.co/AnGWJ07jub'",
         "2016-10-29 04:11:48"
        ],
        [
         "743102502225076227",
         "b'Landing video will be posted when we gain access to cameras on the droneship later today. Maybe hardest impact to date. Droneship still ok.'",
         "2016-06-15 15:26:57"
        ],
        [
         "715307847890903041",
         "b'Tomorrow is Part 1 of the Model 3 unveil. Part 2, which takes things to another level, will be closer to production.'",
         "2016-03-30 22:40:55"
        ],
        [
         "495760430870978561",
         "b'@IrrelevantGamer @masseffect Mass Effect 2 is one of the best games ever. Also love Saints Row IV.'",
         "2014-08-03 02:37:52"
        ],
        [
         "220784395282432001",
         "b'Am standing on the beach in Maui and looking at a moon rainbow for the first time in my life. Incredibly beautiful.'",
         "2012-07-05 07:41:16"
        ],
        [
         "299780102500282368",
         "b'RT @jordanrushbloch: My latest project on the Tesla Model S and network of solar-powered Superchargers. http://t.co/tBTGCcrK'",
         "2013-02-08 07:22:00"
        ],
        [
         "240909270764359680",
         "b'This piece about Mars in the NYT is worth a read http://t.co/mNB6f1aS'",
         "2012-08-29 20:30:20"
        ],
        [
         "457181362307350529",
         "b'Launch to the Space Station in just under three hours if weather holds http://t.co/aBIV4EWOS2'",
         "2014-04-18 15:38:25"
        ],
        [
         "495759307346952192",
         "b'Worth reading Superintelligence by Bostrom. We need to be super careful with AI. Potentially more dangerous than nukes.'",
         "2014-08-03 02:33:24"
        ],
        [
         "528318667306446848",
         "b'Deepest sympathies to the families of the pilots and the Virgin Galactic team'",
         "2014-10-31 22:52:40"
        ],
        [
         "751648486416871424",
         "b'@BrooklynBrett @LeoOD3 @Conleich Story was fed to LAT &amp; many other media to counter IMF $5T/year fossil subsidy study. Hey, both have a 5!'",
         "2016-07-09 05:25:38"
        ],
        [
         "410447049687961600",
         "b'Sock monkey of destruction! http://t.co/KqvXWDFmrr'",
         "2013-12-10 16:32:57"
        ],
        [
         "740383850820296707",
         "b'Would like to clarify that Tesla is working exclusively with Panasonic for Model 3 cells. News articles claiming otherwise are incorrect.'",
         "2016-06-08 03:24:00"
        ],
        [
         "715309739752747009",
         "b'@rossbin You will see the car very clearly, but some important elements will be added and some will evolve.'",
         "2016-03-30 22:48:26"
        ],
        [
         "155340355884167169",
         "b'Next month is also when our Dragon spaceship docks with the Space Station for the first time. Major pucker factor...'",
         "2012-01-06 17:30:01"
        ],
        [
         "149813972915339264",
         "b'Model S options are out! Performance in red and black for me.  I will deliver my car in June/July. http://t.co/acnyP4nh'",
         "2011-12-22 11:30:10"
        ],
        [
         "677970721730002944",
         "b'Aborted on ignition timing due to slow ground side valve. Adjusting ignition sequence by 0.6 secs for next attempt.'",
         "2015-12-18 21:56:30"
        ],
        [
         "155339851812700160",
         "b'Feb is huge month. Model X world premier and public reveal of our LA design studio on the 9th. Stay tuned for more details.'",
         "2012-01-06 17:28:01"
        ],
        [
         "707619151401988096",
         "b'RT @marcthiessen: I interviewed .@elonmusk at @AEI World Forum and @realDonaldTrump never came up.  Discussed his plans for manned Mars misxe2x80xa6'",
         "2016-03-09 17:28:47"
        ],
        [
         "829861775357071361",
         "b'@RusulAlrubail @MarkRuffalo @guardian Please check your facts. Tesla and SpaceX joined as soon as we received the filing, which was Monday.'",
         "2017-02-10 01:17:19"
        ],
        [
         "699836207442710528",
         "b'RT @Lebeaucarnews: Test Drives Whet Appetite for TSLA Model X Believers https://t.co/dn54pzs53O'",
         "2016-02-17 06:02:08"
        ],
        [
         "845293157977767937",
         "b'@dr_angus Yeah, probably a year from now. S will still win on acceleration though, due to having more space for a larger battery.'",
         "2017-03-24 15:16:08"
        ],
        [
         "223430899004485634",
         "b'@n23mc I think we will see people on Mars in less than 20 years. 12 to 15 years most likely. #OccupyMars'",
         "2012-07-12 14:57:32"
        ],
        [
         "529466348976345088",
         "b'Review of performance version of dual motor Model S by @MotorTrend http://t.co/wSsbXFdv42'",
         "2014-11-04 02:53:09"
        ],
        [
         "468136321190346753",
         "b'RT @SpaceX: [PHOTO] Splashdown! Dragon lands in the Pacific Ocean with 3,500 pounds of ISS cargo. http://t.co/X4fuUQm247'",
         "2014-05-18 21:09:31"
        ],
        [
         "726210827699806208",
         "b'@vigneshraju of course'",
         "2016-04-30 00:45:28"
        ],
        [
         "404073926247972864",
         "b'Launch can be viewed live from Cape causeways or via http://t.co/soOCggCpN0 webcast around 5:30 local time on Monday'",
         "2013-11-23 02:28:26"
        ],
        [
         "743602229307805696",
         "b'Turns out the landing was not as fast we thought, but still hard enough to destroy the primary airframe and accordion the engines'",
         "2016-06-17 00:32:41"
        ],
        [
         "738471747540783104",
         "b'@mattyteare @karaswisher @waltmossberg @YouTube autosteering chutes will be added soon'",
         "2016-06-02 20:45:59"
        ],
        [
         "153099684280410112",
         "b'Hacked my Tesla charge connector on a small island in the rain last night #whatcouldpossiblygowrong'",
         "2011-12-31 13:06:23"
        ],
        [
         "659543458953101312",
         "b'Model S Ludicrous Mode achieves 2.6 sec 0-60 mph and 10.9 sec 1/4 mile in Motor Trend test https://t.co/IpgTF6s9M8'",
         "2015-10-29 01:33:08"
        ],
        [
         "819014115943272448",
         "b'@mbhnyc It will in an upcoming release later this year'",
         "2017-01-11 02:52:36"
        ],
        [
         "191005784862236672",
         "b'RT @SethGreen: My love @ClareGrant & @elonmusk partied with the space cheese on our tour of @SpaceX & @TeslaMotors ...which was AWESOxe2x80xa6 h ...'",
         "2012-04-14 03:31:42"
        ],
        [
         "804205155822374913",
         "b'Model S smashes into semi truck trailer and lifts it off the ground. Driver walks away. https://t.co/NSuMvcYaA6'",
         "2016-12-01 06:07:05"
        ],
        [
         "819664721888452608",
         "b'@brandonr182 @sama Have you tried steam engines? They are amazing.'",
         "2017-01-12 21:57:52"
        ],
        [
         "406205240040771584",
         "b'Increasing helium spin start pressure. Probably &lt;50% chance of passing all aborts, but worth a try. Countdown resuming ...'",
         "2013-11-28 23:37:30"
        ],
        [
         "743099301174247424",
         "b'Upgrades underway to enable rocket to compensate for a thrust shortfall on one of the three landing engines. Probably get there end of year.'",
         "2016-06-15 15:14:14"
        ],
        [
         "579861658337574912",
         "b'Falcon 9 lifting off with 1.3 mmmillion pounds of force http://t.co/7ltlN2WYmx'",
         "2015-03-23 04:26:07"
        ],
        [
         "738470842695176192",
         "b'Recode interview with @karaswisher and @waltmossberg https://t.co/BDqQ7RreV2 via @YouTube'",
         "2016-06-02 20:42:23"
        ],
        [
         "322409574248357888",
         "b'New York judge just ruled in favor Tesla, dismissing the legal attack by auto dealers to prevent direct sales!'",
         "2013-04-11 18:03:27"
        ],
        [
         "488719729599578112",
         "b'Detailed review of rocket telemetry needed to tell if due to initial splashdown or subsequent tip over and body slam'",
         "2014-07-14 16:20:38"
        ],
        [
         "625526696788291584",
         "b'@kevinmitnick probably end of year'",
         "2015-07-27 04:42:40"
        ],
        [
         "173531986529497089",
         "b'@LooperNor Yes, this will, if all goes well, be the first commercial spaceship to dock with the Space Station. T zero ~ end of April.'",
         "2012-02-25 22:17:04"
        ],
        [
         "658779746071785473",
         "b'RT @bonnienorman: Huge tree lands on #Tesla Model S, occupants protected. #ftw https://t.co/SOZxdPYQBs @teslamotors @elonmusk https://t.co/xe2x80xa6'",
         "2015-10-26 22:58:25"
        ],
        [
         "395562607462981633",
         "b'Tesla West Coast Supercharger network now energized. Travel from Vancouver to Tijuana in styel! http://t.co/gTvV9egg3K'",
         "2013-10-30 14:47:29"
        ],
        [
         "710625418856964096",
         "b'@mikegaalsf Turn off recirc. Air exits thru rear vents. Snap in shade also avail from service, but I just tint the rear window.'",
         "2016-03-18 00:34:37"
        ],
        [
         "404063199227437057",
         "b'Will be toughest mission to date. Requires coast + upper stage restart + going to 80,000 km altitude (~1/4 way to moon).'",
         "2013-11-23 01:45:48"
        ],
        [
         "736787058170068993",
         "b'So it was good for you too ... https://t.co/9cxo39N1lQ'",
         "2016-05-29 05:11:38"
        ],
        [
         "627040639553830912",
         "b'Final corner case is dealing with low contrast lane markings (faded white on grey concrete) while driving into the sun at dusk'",
         "2015-07-31 08:58:32"
        ],
        [
         "175377364551868416",
         "b'Dawn at Cape Canaveral http://t.co/ZHkcffYr'",
         "2012-03-02 00:29:56"
        ],
        [
         "815023208235560961",
         "b'Resolving an Autopilot HW2 bug that shows up when booting from a subzero cold-soak. If that fix works, software will start uploading tmrw.'",
         "2016-12-31 02:34:09"
        ],
        [
         "384410742675341312",
         "b'Between this flight &amp; Grasshopper tests, I think we now have all the pieces of the puzzle to bring the rocket back home.'",
         "2013-09-29 20:13:57"
        ],
        [
         "723260583047516160",
         "b'RT @hamids: Lots of chatter about Tesla Model X issuesxe2x80xa6Ixe2x80x99ve had none. Most amazing car ever! My Review: https://t.co/nVIKYD0Vmm @elonmusk @xe2x80xa6'",
         "2016-04-21 21:22:15"
        ],
        [
         "732330010053222400",
         "b'@joshuapinter @juliusvolz Full height of Falcon 9 boost stage on legs is ~165 ft'",
         "2016-05-16 22:00:55"
        ],
        [
         "799369292294725632",
         "b'Vote tally shows ~85% of unaffiliated shareholders in favor of the Tesla/SolarCity merger! Thanks for believing.'",
         "2016-11-17 21:51:05"
        ],
        [
         "827720686911291392",
         "b'Minecraft https://t.co/lU1YzJjLOZ'",
         "2017-02-04 03:29:24"
        ],
        [
         "710891290548785152",
         "b'RT @TeslaMotors: Tesla Destination Charging in NYC will soon outnumber gas stations @nypost https://t.co/ciVSL90NEm'",
         "2016-03-18 18:11:06"
        ],
        [
         "674885173838680064",
         "b'Aiming for Falcon rocket static fire at Cape Canaveral on the 16th and launch about three days later'",
         "2015-12-10 09:35:38"
        ],
        [
         "402836392566202368",
         "b'What makes this incredibly unjust is that the Model S to date has the best safety record of any car on the road (no injuries or deaths ever)'",
         "2013-11-19 16:30:54"
        ],
        [
         "743602894226653184",
         "b'Looks like early liquid oxygen depletion caused engine shutdown just above the deck https://t.co/Sa6uCkpknY'",
         "2016-06-17 00:35:20"
        ],
        [
         "788955029138972674",
         "b'Tesla expects to demonstrate self-driven cross-country trip next year https://t.co/YTxMUT3hWq via @WSJ'",
         "2016-10-20 04:08:31"
        ],
        [
         "736373856823181312",
         "b'@dfjsteve Very similar. The crush core in the Falcon legs is reusable after soft landings, but needs to be replaced after hard.'",
         "2016-05-28 01:49:43"
        ],
        [
         "799670715397980160",
         "b'@vicentes @TeslaMotors @FortuneMagazine big mobile app update coming with 8.1 next month'",
         "2016-11-18 17:48:50"
        ],
        [
         "562321505854300161",
         "b'RT @SpaceX: Americaxe2x80x99s next gen crewed spacecraft is almost ready for a test flight. Pad abort vehicle shipping to FL shortly. http://t.co/Xxe2x80xa6'",
         "2015-02-02 18:47:49"
        ],
        [
         "789004268296544256",
         "b'@elonmusk Still working on the video. Fully autonomous drive demo only completed several hours ago.'",
         "2016-10-20 07:24:11"
        ],
        [
         "553853961317654528",
         "b'Ascent phase good. Dragon deployed to Space Station rendezvous orbit.'",
         "2015-01-10 10:00:49"
        ],
        [
         "823728646204440576",
         "b'RT @neiltyson: In 1927 Lindbergh flew from NY to Paris. 45 yrs later, in 1972 we last walked on the Moon. 45 yrs later, in 2017 wexe2x80xa6 wexe2x80xa6 wexe2x80xa6'",
         "2017-01-24 03:06:28"
        ],
        [
         "815309075445485568",
         "b'HW2 Autopilot software uploading to 1000 cars this eve. Will then hold to verify no field issues and upload to rest of fleet next week.'",
         "2016-12-31 21:30:05"
        ],
        [
         "798984693844541440",
         "b'@ArminKeyani All P100D vehicles produced to date, as well as new. This is purely a software optimization.'",
         "2016-11-16 20:22:50"
        ],
        [
         "306304864164667392",
         "b'RT @johnvoelcker: This is one very, very happy owner! My 2013 Tesla Model S Electric Sport Sedan: Delivery at Last! http://t.co/XNBQc6Md ...'",
         "2013-02-26 07:29:05"
        ],
        [
         "743097668725940225",
         "b'RUD = Rapid Unscheduled Disassembly :)'",
         "2016-06-15 15:07:44"
        ],
        [
         "153574532031070208",
         "b'We built powerful information weapons to fight enemies of liberty. Now those enemies are largely defeated, but the weapons remain.'",
         "2012-01-01 20:33:16"
        ],
        [
         "307361875782402048",
         "b'Launch on track for tomorrow morning at 10:10 am Cape Canaveral time'",
         "2013-03-01 05:29:16"
        ],
        [
         "716750313471025152",
         "b'@tapwin No, but we will need to build a factory in Europe to serve long-term regional demand as Fremont reaches max capacity.'",
         "2016-04-03 22:12:45"
        ],
        [
         "330240665483096064",
         "b'@JSONberland We did a ton of testing until they could handle 4X legally required impact energy. Extremely tough.'",
         "2013-05-03 08:41:24"
        ],
        [
         "836020571490021376",
         "b'SpaceX announcement tomorrow at 1pm PST'",
         "2017-02-27 01:10:11"
        ],
        [
         "789019145853513729",
         "b'Tesla drives itself (no human input at all) thru urban streets to highway to streets, then finds a parking spot https://t.co/V2T7KGMPBo'",
         "2016-10-20 08:23:18"
        ],
        [
         "845292886623109120",
         "b'RT @morrisonbrett: @elonmusk First batch Model S P85D for me, Grey. Signature Model X P90D for wife, Triple White. Best vehicles in the worxe2x80xa6'",
         "2017-03-24 15:15:03"
        ],
        [
         "658357058106822656",
         "b'@roneijlander We just finished building a huge expansion in Tilburg!'",
         "2015-10-25 18:58:48"
        ],
        [
         "801569787121790976",
         "b'RT @thedrive: These Are the Lobbyists Behind the Site Attacking Elon Musk and Tesla: https://t.co/l6u1MTrm0P'",
         "2016-11-23 23:35:04"
        ],
        [
         "561002248827052034",
         "b'If you are curious about the P85D, you can schedule a test drive here: http://t.co/Eu19pBUpNO'",
         "2015-01-30 03:25:33"
        ],
        [
         "464491775264960512",
         "b'Trouble in Missouri. Auto dealers trying to sneak in a monopoly creation bill today http://t.co/p6zqtsaYpi'",
         "2014-05-08 19:47:23"
        ],
        [
         "752203559043641344",
         "b'Blog on Autopilot by @PeterDiamandis https://t.co/LR5zuw3J9X'",
         "2016-07-10 18:11:18"
        ],
        [
         "189440053674655745",
         "b'Friend told me about the amazing work of Brazilian plastic surgeon Evil Picante. He was actually saying Ivo Pitanguy.'",
         "2012-04-09 19:50:03"
        ],
        [
         "277913865688346624",
         "b'Told my kids (age 8 and 6) that we were going to see the Nutcracker, which somehow got translated as the Buttcracker.'",
         "2012-12-09 23:13:23"
        ],
        [
         "799120535896485888",
         "b'@Contra_9077 sounds right'",
         "2016-11-17 05:22:37"
        ],
        [
         "799670357535789056",
         "b'RT @TeslaMotors: Battery solar farm to power the island of Kauai @FortuneMagazine https://t.co/rz2h6bp2Du'",
         "2016-11-18 17:47:25"
        ],
        [
         "278918251730305025",
         "b'@Neowolf2 Relative to kerosene, methane is not prone to coking, but we would run v high purity anyway for max Isp.'",
         "2012-12-12 17:44:27"
        ],
        [
         "406799700940324864",
         "b'Rocket engines are healthy, but cleaning turbopump gas generators will take another day. Aiming for Mon eve launch.'",
         "2013-11-30 14:59:41"
        ],
        [
         "471808555951980544",
         "b'Model S in drag queen competition @CARandDRIVER http://t.co/SHSkETbbWm'",
         "2014-05-29 00:21:40"
        ],
        [
         "326152872708419585",
         "b'Now with actual picture :) http://t.co/G6PCiAJmtx'",
         "2013-04-22 01:57:59"
        ],
        [
         "576500946303217664",
         "b'RT @SpaceX: Introducing Landing Complex 1, formerly Launch Complex 13, at Cape Canaveral in Florida. http://t.co/oIr6NssyCo'",
         "2015-03-13 21:51:51"
        ],
        [
         "156927468836630528",
         "b'The exec conf room at Tesla used to be called Denali, but I decided to move a few letters around. Seemed more apt :) http://t.co/Raq5UaR6'",
         "2012-01-11 02:36:39"
        ],
        [
         "299961175490297856",
         "b'Our Great^n Grandfather http://t.co/zxndg3WF'",
         "2013-02-08 19:21:31"
        ],
        [
         "459891514781364224",
         "b'Letter from @SenJohnMcCain to DoD Inspector General questioning uncompeted space launch contract http://t.co/Bq6raOKSHM'",
         "2014-04-26 03:07:36"
        ],
        [
         "331490556574326785",
         "b'Anyone interested in doing ultra hardcore vehicle engineering at Tesla, please apply!'",
         "2013-05-06 19:28:02"
        ],
        [
         "407996645121728513",
         "b'Live video feed of launch at http://t.co/Oo569cuarz'",
         "2013-12-03 22:15:55"
        ],
        [
         "166781555950354432",
         "b'@BenToBeWild Yes, we will unveil a fully functional advanced prototype of the Model X -- almost identical to production.'",
         "2012-02-07 07:13:16"
        ],
        [
         "386219821685170176",
         "b'About the Model S fire ... http://t.co/7LSBaNbnyd'",
         "2013-10-04 20:02:35"
        ],
        [
         "384392608350367744",
         "b'Launch was good. All satellites deployed at the targeted orbit insertion vectors. http://t.co/SUYMH7W9pH'",
         "2013-09-29 19:01:54"
        ],
        [
         "531994668608024576",
         "b'SpaceX is still in the early stages of developing advanced micro-satellites operating in large formations. Announcement in 2 to 3 months.'",
         "2014-11-11 02:19:47"
        ],
        [
         "321987888055201793",
         "b'Just wanted to say thanks to everyone for testifying yesterday in Austin. Will hang around after press conf to thank people in person.'",
         "2013-04-10 14:07:49"
        ],
        [
         "594186544174366720",
         "b'For more info on Tesla Energy, check out press kit. $250/kWh for utility scale is the real kicker http://t.co/xE57uIUCse'",
         "2015-05-01 17:08:06"
        ],
        [
         "469988081635196928",
         "b'@westcoastbill First, the cheese. Then, the mouse.'",
         "2014-05-23 23:47:45"
        ],
        [
         "725364699303301120",
         "b'Dragon 2 is designed to be able to land anywhere in the solar system. Red Dragon Mars mission is the first test flight.'",
         "2016-04-27 16:43:15"
        ],
        [
         "453571298677907456",
         "b'Leasing a Model S takes 5 mins online, no signatures &amp; one tap on car center screen to accept when delivered'",
         "2014-04-08 16:33:19"
        ],
        [
         "737859967450021889",
         "b'Good summary of Tesla annual meeting by @katiefehren https://t.co/G3enS77hJ7'",
         "2016-06-01 04:14:59"
        ],
        [
         "406194506011525120",
         "b'Launch aborted by autosequence due to slower than expected thrust ramp. Seems ok on closer inspection. Cycling countdown.'",
         "2013-11-28 22:54:51"
        ],
        [
         "243800936240279552",
         "b'Tesla Model S driven 285 miles from Vegas to the beach in LA on a single charge by @motortrend http://t.co/8YvO1tsz'",
         "2012-09-06 20:00:47"
        ],
        [
         "411007245661372416",
         "b'RT @bonnienorman: @teslaMotors @elonmusk Santa came early this year for a little girl in Texas, thanks to #Tesla. http://t.co/SpNbOVx3ZB  #xe2x80xa6'",
         "2013-12-12 05:38:58"
        ],
        [
         "744552621072064512",
         "b'If curious abt TSWLM car, am still planning to do a sports sub car that can drive on roads. Just a side project. Limited market potential :)'",
         "2016-06-19 15:29:12"
        ],
        [
         "168022238061268993",
         "b'Tesla Model X video  http://t.co/pjcaicOc'",
         "2012-02-10 17:23:17"
        ],
        [
         "560898568748531712",
         "b'Tesla P85D 0 to 60mph acceleration will improve by ~0.1 sec soon via over-the-air software update to inverter algorithm'",
         "2015-01-29 20:33:34"
        ],
        [
         "652994832399470592",
         "b'Tesla P85D (assembled in Tilburg) beats 650 hp MacLaren from 0 to 150km/h in Dutch magazine test http://t.co/HKbOyFgUzi'",
         "2015-10-10 23:51:14"
        ],
        [
         "271085808155500544",
         "b'Love this picture of the Curiousity rover on Mars. Landscape looks just like the California desert. http://t.co/02GDasae'",
         "2012-11-21 03:01:08"
        ],
        [
         "601578147113529344",
         "b'Astronomer Royal Martin Rees: How soon will robots take over the world? - via @Telegraph http://t.co/DStxgM0S8F'",
         "2015-05-22 02:39:41"
        ],
        [
         "635214915934928896",
         "b'True, but achieving a long range affordable electric vehicle has always been our long-term goal. Due in late 2017! https://t.co/2OrIYdoojs'",
         "2015-08-22 22:20:12"
        ],
        [
         "560909571691380736",
         "b'Painting the name on the droneship ... http://t.co/X8R8O4KjPx'",
         "2015-01-29 21:17:17"
        ],
        [
         "559629011983147008",
         "b'Final one: anything launched by a railgun (if you could ever reach ~ Mach 27) would explode upon exiting the barrel in our dense atmosphere'",
         "2015-01-26 08:28:48"
        ],
        [
         "159330380955136001",
         "b'TSLA down ~$500M Friday, but back up ~$500M today. Sorry for the roller coaster.'",
         "2012-01-17 17:44:57"
        ],
        [
         "639170376186990592",
         "b'With same options, Model X is $5k more than an S due to greater size &amp; body complexity. Sig Series is fully loaded, hence high price.'",
         "2015-09-02 20:17:47"
        ],
        [
         "426454433916940290",
         "b'Tesla policy is to charge the same price (+ taxes &amp; shipping) everywhere in the world http://t.co/cXOtokcBeG'",
         "2014-01-23 20:40:34"
        ],
        [
         "636089783274463232",
         "b'RT @BjornNyland: @TeslaMotors @elonmusk #P85D setting new world record in #hypermiling driving 728.7 km/452.8 mi on a single charge http://xe2x80xa6'",
         "2015-08-25 08:16:36"
        ],
        [
         "325011704582901760",
         "b'@eirene_inc @archforhumanity @AFHDisasterTeam We have a lot of heavy lifting equipment. Will ask my team to send it over.'",
         "2013-04-18 22:23:23"
        ],
        [
         "278605236845817856",
         "b'RT @brynmooser: YES! xe2x80x9c@RYOTnews: BREAKING: @UN to launch anti-cholera initiative aimed at #Haiti http://t.co/vBSbwDwF #cholera @IJDH @ol ...'",
         "2012-12-11 21:00:39"
        ],
        [
         "688816810754359297",
         "b'@Uncle_Gus probably'",
         "2016-01-17 20:14:59"
        ],
        [
         "599964926992486401",
         "b'RT @johngreen: My brilliant brother has a message for you, future dead person. https://t.co/kHy5nRuXxY'",
         "2015-05-17 15:49:20"
        ],
        [
         "331797405840338944",
         "b'Am a fan of Larry, Sergey &amp; Google in general, but self-driving cars comments to Bloomberg were just off-the-cuff. No big announcement here'",
         "2013-05-07 15:47:20"
        ],
        [
         "330054002148515841",
         "b'@BigBalli High pressure helium. Needs to be ultra light. All 4 legs together (~60 ft span) weigh less than Model S.'",
         "2013-05-02 20:19:40"
        ],
        [
         "784487348562198529",
         "b'Cumulative Tesla Autopilot miles now at 222 million'",
         "2016-10-07 20:15:33"
        ],
        [
         "490325897820381185",
         "b'Looks like body slam, maybe from a self-generated wave'",
         "2014-07-19 02:42:58"
        ],
        [
         "219266223895093248",
         "b'Screening of Baseball in the Time of Cholera (dir: @brynmooser @daviddarg, prod @oliviawilde &amp; me) at WME July 12. @rainnwilson hosting'",
         "2012-07-01 03:08:36"
        ],
        [
         "653028711768285184",
         "b'@MPa81 @bonnienorman same'",
         "2015-10-11 02:05:52"
        ],
        [
         "835351081945350145",
         "b'@DueDiamond maybe one of those too'",
         "2017-02-25 04:49:52"
        ],
        [
         "407718045151678464",
         "b'@TierraUniversu The writer of this article had a problem with his 12V battery, so main pack was constantly charging it.'",
         "2013-12-03 03:48:51"
        ],
        [
         "405618648183607296",
         "b'RT @williamwinters: Ford issues 4th and 5th recalls for 2013 Escapes spontaneously catching fire. Not in the mainstream media. @elonmusk htxe2x80xa6'",
         "2013-11-27 08:46:36"
        ],
        [
         "841040566867509248",
         "b'.@mcannonbrookes Can only happen with your support, and working closely with key govt and utility leaders who are sxe2x80xa6 https://t.co/AlfAGI0kLB'",
         "2017-03-12 21:37:51"
        ],
        [
         "303585941304537090",
         "b'Appreciate thoughtful @Sulliview article. Faith in @nytimes restored.'",
         "2013-02-18 19:25:03"
        ],
        [
         "303244501957365760",
         "b'RT @LawrenceChanin: @TeslaRoadTrip @avantgame @TEDchris @elonmusk @nytimes   nThe driving public is the winner thanks to the efforts of  ...'",
         "2013-02-17 20:48:17"
        ],
        [
         "178865792371277825",
         "b'Just passed a place called the Sugar Shack in a Louisiana swamp. I wonder what happens there? http://t.co/1MomQnNe'",
         "2012-03-11 15:31:43"
        ],
        [
         "747300198750183424",
         "b'@vicentes cute!'",
         "2016-06-27 05:27:06"
        ],
        [
         "746242506816262144",
         "b'RT @WIRED: Tesla is done being an automakerxe2x80x94it is now an energy company: https://t.co/GjIfnOBpk6 https://t.co/mUge7Gj2th'",
         "2016-06-24 07:24:12"
        ],
        [
         "321710007223726080",
         "b'Just had Texas BBQ for lunch in Capitol Building. About to head to House Committee hearing to advocate for Tesla in TX.'",
         "2013-04-09 19:43:37"
        ],
        [
         "304004275921625090",
         "b'Thanks @CNBC! xe2x80x9c@Lebeaucarnews: The Model S delivered what @elonmusk promised. A ride to make you re-think going electric.xe2x80x9d'",
         "2013-02-19 23:07:22"
        ],
        [
         "530599540995260416",
         "b'Astronauts Play With Blobs of Water in Zero Gravity http://t.co/SeCDcWTnJv'",
         "2014-11-07 05:56:03"
        ],
        [
         "402850950500474881",
         "b'Tesla is also extending the Model S warranty to cover any fire damage even if due solely to a driver accident'",
         "2013-11-19 17:28:45"
        ],
        [
         "830239445433544704",
         "b'@SEACityLight @Nas2four Sounds like the Tesla Powerwall (consumer) and Powerpack (utility/commercial) might be useful'",
         "2017-02-11 02:18:03"
        ],
        [
         "829509777218613248",
         "b'@dknisely of course it will'",
         "2017-02-09 01:58:37"
        ],
        [
         "157700726515183616",
         "b'A Tesla Roadster just passed the 100,000 mile mark for the first time and still has over 200 miles of range.'",
         "2012-01-13 05:49:17"
        ],
        [
         "321637861147426816",
         "b'In TX to make the case for allowing Tesla to sell cars. Pls come to Capitol Room E2.014 at 1:30! http://t.co/WR3WXE8SFe'",
         "2013-04-09 14:56:56"
        ],
        [
         "716747844175142912",
         "b'@AlexBelohlavek less'",
         "2016-04-03 22:02:57"
        ],
        [
         "299961897426505729",
         "b'SpaceX software engineering is doing an AMA on Reddit   nhttp://t.co/hwkUwM5v'",
         "2013-02-08 19:24:24"
        ],
        [
         "792213393943826432",
         "b'Should mention that the Tesla solar roof is robust against any weather, incl heavy hail. Also, higher insulating value than a standard roof.'",
         "2016-10-29 03:56:06"
        ],
        [
         "189870469908938752",
         "b'Great to meet Jon Stewart this eve. Have been a fan of @TheDailyShow for a billion years.'",
         "2012-04-11 00:20:22"
        ],
        [
         "564562686478807043",
         "b'Air Force tracking radar went down. Launch postponed to same time tomorrow.'",
         "2015-02-08 23:13:28"
        ],
        [
         "553843486236364800",
         "b'RT @SpaceX: T-30 min to Falcon 9 and Dragon launch. Live launch webcast: http://t.co/tdni54hHPm http://t.co/7qRCYxBJkd'",
         "2015-01-10 09:19:11"
        ],
        [
         "552877044296450048",
         "b'RT @SpaceX: Ah yes, the xe2x80x9cBird 9xe2x80x9d. Meet our rocket: http://t.co/uwkUzq6LBM http://t.co/FiJfRA1I43'",
         "2015-01-07 17:18:53"
        ],
        [
         "303343908379836417",
         "b'RT @TeslaRoadTrip: #TeslaRoadTrip All - thanks so much for following our twitter feed.  The trip was a success and everyone has diverted ...'",
         "2013-02-18 03:23:18"
        ],
        [
         "739006012749799424",
         "b'Creating a neural lace is the thing that really matters for humanity to achieve symbiosis with machines'",
         "2016-06-04 08:08:58"
        ],
        [
         "777985245731696640",
         "b'@PassionPlanet1 Yeah, definitely one of my favorite names'",
         "2016-09-19 21:38:31"
        ],
        [
         "193076303426097152",
         "b'Just signed Giving Pledge with 11 others. I hope this announcement convinces others to do the same. http://t.co/cdCgWkAB'",
         "2012-04-19 20:39:12"
        ],
        [
         "476641195938938880",
         "b'RT @Jon_Favreau: Bloomberg interview @TeslaMotors #ChefMovie http://t.co/WsY02tHp9d'",
         "2014-06-11 08:24:51"
        ],
        [
         "331795766937018368",
         "b'@rebel_sal exactly'",
         "2013-05-07 15:40:49"
        ],
        [
         "841563925707546626",
         "b'Finally, an explanation for daylight savings that makes sense ... https://t.co/kGpJHNgRJO'",
         "2017-03-14 08:17:30"
        ],
        [
         "841011061935362048",
         "b'@ah_pton16 I love Wikipedia. Just gets better over time.'",
         "2017-03-12 19:40:37"
        ],
        [
         "576193855323697152",
         "b'Maybe this is all the work of the Stonecutters! Certainly connects a lot of themes ... http://t.co/E5jJ9Snaca'",
         "2015-03-13 01:31:34"
        ],
        [
         "726217179683655680",
         "b'@Tweetermeyer things like this should be purged shortly'",
         "2016-04-30 01:10:42"
        ],
        [
         "726214236368576512",
         "b'@gdoehne JCSat is pushing the envelope as a very hot and fast mission, so will land on the droneship. Next land landing in a few months.'",
         "2016-04-30 00:59:01"
        ],
        [
         "427372940603437056",
         "b'Two teams from Tesla aiming to set a cross-country EV speed record this week. Departing Fri from LA, arriving Sun in NY.'",
         "2014-01-26 09:30:23"
        ],
        [
         "271119275673145344",
         "b'@Thomas_Tregner Exactly!'",
         "2012-11-21 05:14:07"
        ],
        [
         "788904960331161600",
         "b'@FutureBoy @mashable true and underappreciated'",
         "2016-10-20 00:49:34"
        ],
        [
         "331792738339127296",
         "b'@DJFrustration Tested it myself this weekend and was working well. Some songs have licensing prohibiting direct request.'",
         "2013-05-07 15:28:47"
        ],
        [
         "705094397470179329",
         "b'.@curtismcauliff SpaceX has not donated to any presidential campaign'",
         "2016-03-02 18:16:19"
        ],
        [
         "802708695830306816",
         "b'@edwardsanchez about three weeks and it will get rolled out incrementally in monthly releases'",
         "2016-11-27 03:00:41"
        ],
        [
         "716751300063531008",
         "b'@_elombardo @rjpryan correct'",
         "2016-04-03 22:16:41"
        ],
        [
         "245605921387053056",
         "b'RT @therealautoblog: First Drive: 2012 Tesla Model S [w/video] http://t.co/2E1VZDAJ'",
         "2012-09-11 19:33:09"
        ],
        [
         "337791672295501824",
         "b'And, since we will run out of oil anyway, why risk the future of all life on Earth simply to delay sustainable energy?'",
         "2013-05-24 04:46:25"
        ],
        [
         "246419783136976897",
         "b'Tesla Supercharger unveiling event set for Sept 24. It will feel like alien spaceships landed at highway rest stops.'",
         "2012-09-14 01:27:09"
        ],
        [
         "705687267684159488",
         "b'@Astro_Valdric @TeslaMotors We spoke earlier today and he said he would investigate the situation.'",
         "2016-03-04 09:32:10"
        ],
        [
         "322414424570859520",
         "b'@JBSiegelMD Thanks! Hearing from constituents is super important to counteract the influence of the dealer lobby.'",
         "2013-04-11 18:22:43"
        ],
        [
         "275835562076811264",
         "b'RT @Slate: New government study says we could save billions by replacing dollar bills with coins. New study is wrong: http://t.co/QgwH0bSh'",
         "2012-12-04 05:34:57"
        ],
        [
         "833332058453790720",
         "b'Baby came back https://t.co/5FRhw3AT2b'",
         "2017-02-19 15:06:59"
        ],
        [
         "535914463388782592",
         "b'Cuteness overload MT xe2x80x9c@WIRED: A baby baboon snuggled with a teddy bear http://t.co/wuovq1HPEY http://t.co/UHK8MnGj4ixe2x80x9d'",
         "2014-11-21 21:55:39"
        ],
        [
         "756663746764742656",
         "b'https://t.co/Kgkz1Z3FwJ'",
         "2016-07-23 01:34:30"
        ],
        [
         "752218264499949568",
         "b'Kinda. Creating a seamlessly integrated Tesla battery &amp; solar power product that looks beautiful is the reason https://t.co/4z6MzBB9p2'",
         "2016-07-10 19:09:44"
        ],
        [
         "751516148739416064",
         "b'Model S had the lowest probability of injury of any car ever tested by NHTSA, which is why ... https://t.co/9tZZJEc5wg'",
         "2016-07-08 20:39:47"
        ],
        [
         "405864483404251137",
         "b'RT @mgalimany: @TeslaMotors @elonmusk This is what happens when your car is not a #Tesla Model S.n https://t.co/sVlvoRZINXnThis will never xe2x80xa6'",
         "2013-11-28 01:03:28"
        ],
        [
         "798364751428349952",
         "b'RT @NASA: #Mars is hard, but itxe2x80x99s worth the risks to extend humanityxe2x80x99s frontier beyond Earth. Learn about our neighbor planet: https://t.coxe2x80xa6'",
         "2016-11-15 03:19:24"
        ],
        [
         "845294411072204801",
         "b'RT @RH_Way: @elonmusk Our 85 hit the guardrails at well over 160km/h. Tessi absorbed impact, wife and baby are ok. Best car ever &amp; Member oxe2x80xa6'",
         "2017-03-24 15:21:07"
        ],
        [
         "495739993600450560",
         "b'Guardians of the Galaxy is great. Best line is when Star-Lord says his spaceship looks like a Jackson Pollock painting under black light.'",
         "2014-08-03 01:16:39"
        ],
        [
         "707636460212490240",
         "b'@Christianlguaje no'",
         "2016-03-09 18:37:34"
        ],
        [
         "324575593796612096",
         "b'A @WhiteHouse petition to allow direct sales of cars by manufacturers: https://t.co/7h6m89mQmh Please vote here too!'",
         "2013-04-17 17:30:26"
        ],
        [
         "599391737094635520",
         "b'RT @SpaceX: Adventure awaits! Explore Marsxe2x80x99 ultimate vacation destinations nhttp://t.co/KpluQw4cow http://t.co/kptj27x1LD'",
         "2015-05-16 01:51:40"
        ],
        [
         "732042627445460992",
         "b'@bittdk Better. Not there yet, but a solution is likely.'",
         "2016-05-16 02:58:57"
        ],
        [
         "564491913445666816",
         "b'RT @SpaceX: #Falcon9 is vertical in advance of tonightxe2x80x99s #DSCOVR launch, targeting 6:10pm EST. Watch LIVE: http://t.co/tdni5406Hi http://t.xe2x80xa6'",
         "2015-02-08 18:32:14"
        ],
        [
         "832979955092819968",
         "b'@Zybbby Not obviously related to the (very tiny) helium leak, but also not out of the question'",
         "2017-02-18 15:47:51"
        ],
        [
         "330707889729712131",
         "b'@Vangsgutane Norway rocks!'",
         "2013-05-04 15:37:59"
        ],
        [
         "739001483249618948",
         "b'@renzdimaandal @Tom_Stears It is simulations all the way down'",
         "2016-06-04 07:50:58"
        ],
        [
         "192865279657771008",
         "b'RT @60Minutes: Sal Khan of @KhanAcademy makes the #TIME100 list. Watch the #60Minutes piece on the innovative educator here: http://t.co ...'",
         "2012-04-19 06:40:40"
        ],
        [
         "845355766357737472",
         "b'@nickbaum I believe so'",
         "2017-03-24 19:24:55"
        ],
        [
         "792195932251037697",
         "b'RT @TeslaMotors: Close up of the solar roof https://t.co/kDsSqtTWK7'",
         "2016-10-29 02:46:43"
        ],
        [
         "688814342846820352",
         "b'RT @NASA: After a successful  launch, #Jason3 spacecraft has separated &amp; is flying free. Watch live: https://t.co/KX5g7zfYQen https://t.co/xe2x80xa6'",
         "2016-01-17 20:05:11"
        ],
        [
         "626979025190301696",
         "b'RT @TheEconomist: A carbon tax is the best way to reduce emissions. Failing that, halt subsidies to fossil fuels http://t.co/wfuLPiW6tH httxe2x80xa6'",
         "2015-07-31 04:53:42"
        ],
        [
         "405922013111676928",
         "b'@AdamMKE Model S can seat 5 adults, two kids and has a front trunk for luggage. Might work for you.'",
         "2013-11-28 04:52:04"
        ],
        [
         "535085589456879616",
         "b'Really hate it when companies bring out an awesome show car and then you can never actually buy it. So lame.'",
         "2014-11-19 15:02:00"
        ],
        [
         "593296401196388352",
         "b'For the future to be good, we need electric transport, solar power and (of course) ... http://t.co/8mwVWukQDL'",
         "2015-04-29 06:10:59"
        ],
        [
         "707830670148567040",
         "b'RT @WIRED: Las Vegas utilities really donxe2x80x99t want the strip to go solar https://t.co/IuQUJHdEje https://t.co/pSoCj5kJe1'",
         "2016-03-10 07:29:17"
        ],
        [
         "841098180573851648",
         "b'@AndreElijah Ok'",
         "2017-03-13 01:26:47"
        ],
        [
         "322416386037141504",
         "b'@batasrki Stay tuned for a big Supercharger announcement in a few weeks. Definitely have you covered.'",
         "2013-04-11 18:30:31"
        ],
        [
         "167357401815715840",
         "b'RT @SpaceX: Photo Update: Dragon complete with trunk at the SpaceX hangar, preparations continue for the historic mission ahead. http:// ...'",
         "2012-02-08 21:21:28"
        ],
        [
         "307615430154022912",
         "b'Orbit raising burn successful. Dragon back on track.'",
         "2013-03-01 22:16:48"
        ],
        [
         "743098357728444418",
         "b'@AstroOrionMK @BadAstronomer Quite rapid... Yes'",
         "2016-06-15 15:10:29"
        ],
        [
         "755990352511705088",
         "b'@danahull Jerome is driving Tesla Semi &amp; doing a great job with his team. At Daimler, he led their most successful semi truck program ever.'",
         "2016-07-21 04:58:40"
        ],
        [
         "715219872204992512",
         "b'Great article by @BadAstronomer. Important to note max temp record. Too much attention on avg temp. Max matters most https://t.co/0FnIAVsbIu'",
         "2016-03-30 16:51:20"
        ],
        [
         "337592840743968768",
         "b'As many have already noted, @Chrysler is a division of Fiat, an Italian company. We specifically said first *US* company.'",
         "2013-05-23 15:36:20"
        ],
        [
         "716751152906440705",
         "b'@EduardoForneck hopefully 0.21'",
         "2016-04-03 22:16:06"
        ],
        [
         "338359304216256512",
         "b'@1stHubbleFan @keithwarren Exactly'",
         "2013-05-25 18:21:59"
        ],
        [
         "829834118733062144",
         "b'RT @TeslaMotors: Supercharger availability is now displayed on your Tesla touchscreen so you can see how many stalls are open before you arxe2x80xa6'",
         "2017-02-09 23:27:26"
        ],
        [
         "658657239331270656",
         "b'@anakinSGE Hopefully, mid to late next year. We are being more cautious abt expanding countries to ensure a great user experience each time.'",
         "2015-10-26 14:51:37"
        ],
        [
         "778602042759585793",
         "b'My favorite new feature is the always-on max temp control for keeping kids and pets safe from overheating.'",
         "2016-09-21 14:29:27"
        ],
        [
         "776971939277438976",
         "b'@andyzalk sounds like the right name for the rocket booster'",
         "2016-09-17 02:32:00"
        ],
        [
         "493084094532956160",
         "b'On annual camping trip w kids. Trying a place just south of Carmel in California this year.'",
         "2014-07-26 17:23:03"
        ],
        [
         "337789653233041408",
         "b'Those who would deny climate change should ask themselves what happens if they are wrong http://t.co/S7fOIrly6B'",
         "2013-05-24 04:38:23"
        ],
        [
         "739185293664747520",
         "b'Good article from @themotleyfool explaining how little incentives have actually contributed to Tesla funding https://t.co/zfC8di7EDX'",
         "2016-06-04 20:01:22"
        ],
        [
         "677949037815840768",
         "b'@elonmusk holding for issue resolution'",
         "2015-12-18 20:30:20"
        ],
        [
         "677945101184708609",
         "b'Abort triggered by flight computer on upper stage throttle valve. Adjusting thresholds and restarting count at T-10 mins.'",
         "2015-12-18 20:14:42"
        ],
        [
         "476421813455839232",
         "b'RT @TheOnion: More Office Workers Switching To Fetal Position Desks http://t.co/AohlCOjAhh http://t.co/xsjk1XV6OE'",
         "2014-06-10 17:53:06"
        ],
        [
         "588463193070022656",
         "b'High resolution, color corrected, slow motion rocket landing video https://t.co/UTF3Y4xGU3'",
         "2015-04-15 22:05:33"
        ],
        [
         "579504748014907393",
         "b'Reading Look to Windward by Banks. He is an amazing writer. Pantheon level.'",
         "2015-03-22 04:47:53"
        ],
        [
         "150388617246801920",
         "b'We had a long and interesting conversation on many subjects. He has exciting ideas for extending his creative talents beyond music.'",
         "2011-12-24 01:33:35"
        ],
        [
         "732328928447057920",
         "b'RT @USATODAY: Global warming is getting worse with record temps and widespread coral bleaching: https://t.co/z4viRzwneA (Getty) https://t.cxe2x80xa6'",
         "2016-05-16 21:56:37"
        ],
        [
         "792218248917811204",
         "b'Solar glass tiles can also incorporate heating elements, like rear defroster on a car, to clear roof of snow and keep generating energy'",
         "2016-10-29 04:15:23"
        ],
        [
         "838565081306677249",
         "b'@SimonaKitzu Self-hatred'",
         "2017-03-06 01:41:09"
        ],
        [
         "657685372579745793",
         "b'Regulatory approvals received, so Autopilot rolling out to all countries! (Excluding Japan, which is still under review)'",
         "2015-10-23 22:29:46"
        ],
        [
         "757600711714701312",
         "b'@ID_AA_Carmack Maybe as a future optimization. Would only matter if it was extremely big.'",
         "2016-07-25 15:37:39"
        ],
        [
         "330869907640184832",
         "b'@flyguynscc @teslamotors yes, that has been the goal from the beginning'",
         "2013-05-05 02:21:47"
        ],
        [
         "817509115555643392",
         "b'@pensasoda https://t.co/6Ies7xBuBs via @WIRED'",
         "2017-01-06 23:12:16"
        ],
        [
         "466518346574626817",
         "b'@Oatmeal I would be happy to help'",
         "2014-05-14 10:00:15"
        ],
        [
         "462100295896412160",
         "b'Second flight of Falcon 9-R. 1000m, hover and land (with cows) http://t.co/tixmBH5sw6'",
         "2014-05-02 05:24:30"
        ],
        [
         "553856479590359040",
         "b'Ship itself is fine. Some of the support equipment on the deck will need to be replaced...'",
         "2015-01-10 10:10:49"
        ],
        [
         "726216836069515264",
         "b'@RokBottomGamers 100+ for almost everything 10+ for heat shields and a few other items.'",
         "2016-04-30 01:09:20"
        ],
        [
         "832871068066942976",
         "b'Counting down to the first SpaceX launch from the Apollo 11 launch pad tomorrow morning (webcastxe2x80xa6 https://t.co/upjTcmftte'",
         "2017-02-18 08:35:11"
        ],
        [
         "739631614100004864",
         "b'@tedismeiamted @PlayOverwatch @Blizzard_Ent PC, of course'",
         "2016-06-06 01:34:53"
        ],
        [
         "307633403195449344",
         "b'Would also like to thank @USAirForce for allowing us to use their long range comm system for Dragon in free drift.'",
         "2013-03-01 23:28:13"
        ],
        [
         "457190623640969216",
         "b'Heavy seas in Atlantic preventing our recovery ship from being on station. Maybe they can help? http://t.co/9zZKAqPh6H'",
         "2014-04-18 16:15:13"
        ],
        [
         "627041173669048320",
         "b'@alipoursamar all regions'",
         "2015-07-31 09:00:40"
        ],
        [
         "459448693444206592",
         "b'100th @TeslaMotors Supercharger goes live http://t.co/jgCWF4qxCd'",
         "2014-04-24 21:47:59"
        ],
        [
         "589577558942822400",
         "b'Cause of hard rocket landing confirmed as due to slower than expected throttle valve response. Next attempt in 2 months.'",
         "2015-04-18 23:53:38"
        ],
        [
         "828292953798012932",
         "b'@RealPhillipPoon Needs a major overhaul'",
         "2017-02-05 17:23:23"
        ],
        [
         "828291645548408833",
         "b'@BullFlags Yeah. And Twitter is a hater Hellscape.'",
         "2017-02-05 17:18:11"
        ],
        [
         "560908370623098882",
         "b'P85 acceleration will also improve, but not quite as much'",
         "2015-01-29 21:12:31"
        ],
        [
         "591062459349274624",
         "b'@bonnienorman New Roadster battery should complete safety validation by end of July, so likely available in August'",
         "2015-04-23 02:14:06"
        ],
        [
         "404755031037317120",
         "b'At Disney World w kids for traditional prelaunch visit (first good flight was after riding Space Mountain)'",
         "2013-11-24 23:34:54"
        ],
        [
         "835187686151315456",
         "b'@davidshepardson @BW @ATT @ToysRUs Exactly :)'",
         "2017-02-24 18:00:36"
        ],
        [
         "845337811876114432",
         "b'@nddugan Yup'",
         "2017-03-24 18:13:34"
        ],
        [
         "535085033904558080",
         "b'Rumors about canceling Falcon wing doors are false. At Tesla, the production car will always be better than the show car.'",
         "2014-11-19 14:59:48"
        ],
        [
         "330053450261987328",
         "b'F9R (pronounced F-niner) shows a little leg. Design is a nested, telescoping piston w A frame. http://t.co/H49TSS2CYl'",
         "2013-05-02 20:17:29"
        ],
        [
         "716751456574025728",
         "b'@GatorWass you can do that now with S and X. Will be same for 3.'",
         "2016-04-03 22:17:18"
        ],
        [
         "747887079808327680",
         "b'Thanks for the kind bday wishes!'",
         "2016-06-28 20:19:09"
        ],
        [
         "747298912986226689",
         "b'@tjeviston @business exactly'",
         "2016-06-27 05:21:59"
        ],
        [
         "174621355436802049",
         "b'Falcon 9 and Dragon now vertical on the launch pad, surrounded by 300 ft tall lightning towers http://t.co/iERgA2RP'",
         "2012-02-28 22:25:50"
        ],
        [
         "324388037117214720",
         "b'If you live in Texas and are pro Tesla, please vote in the @MyABJ opinion poll! http://t.co/ozPdw6UzUo'",
         "2013-04-17 05:05:09"
        ],
        [
         "815024796362686464",
         "b'@DragTimes Yes, but held up by Autopilot . It def works tho in shaving 0.1 sec off 0-60mph &amp; 1/4 mile. If AP goes txe2x80xa6 https://t.co/kbV8qGc1A5'",
         "2016-12-31 02:40:28"
        ],
        [
         "697682665919516672",
         "b'@MysteryGuitarM yes'",
         "2016-02-11 07:24:44"
        ],
        [
         "278917332657651712",
         "b'@chrisbrandow @TEA_in_Space Yup or Douglas Aircraft, creator of the awesome DC-3 http://t.co/4o8OHDCo'",
         "2012-12-12 17:40:48"
        ],
        [
         "153578511687368704",
         "b'I said *information* weapons for a reason. The bit is mightier than the bomb.'",
         "2012-01-01 20:49:05"
        ],
        [
         "737102578828206080",
         "b'@iwanttobeanurse Sorry to hear that. Will take care of this &amp; investigate to see if issues you encountered are systemic.'",
         "2016-05-30 02:05:24"
        ],
        [
         "828284048103579651",
         "b'@humplik The remedy for that is changing the law'",
         "2017-02-05 16:48:00"
        ],
        [
         "337884269521281026",
         "b'@karlbrauer Making rockets'",
         "2013-05-24 10:54:22"
        ],
        [
         "469639079085486080",
         "b'Air Force official awards $10B+ contract uncompeted &amp; then takes lucrative job w funds recipient http://t.co/SHqFYWd3CR'",
         "2014-05-23 00:40:56"
        ],
        [
         "677333463872049152",
         "b'RT @TheEconomist: The single most effective way to curb carbon emissions? Carbon taxes. As we said in 1989 https://t.co/iY4LnevB5g https://xe2x80xa6'",
         "2015-12-17 03:44:16"
        ],
        [
         "798886670468644865",
         "b'@ID_AA_Carmack we could enable that, although the cameras use grey, grey, grey, red detection, so it would look a little greyish red :)'",
         "2016-11-16 13:53:19"
        ],
        [
         "801569305435381760",
         "b'@Mederinho10 @BW @business at least some of them'",
         "2016-11-23 23:33:09"
        ],
        [
         "470611728469098496",
         "b'RT @thkyv: @elonmusk 399 EV`s in World Record breaking parade in Bryne, Norway today. 100+ Teslas!'",
         "2014-05-25 17:05:54"
        ],
        [
         "461057152111505408",
         "b'@constrainedbyc no problem'",
         "2014-04-29 08:19:25"
        ],
        [
         "467912644729769984",
         "b'RT @SpaceX: Dragon is set to return home early tmrw xe2x80x93 watch it depart from station LIVE: http://t.co/NHREgPdLxw @ 6:00am PT. http://t.co/oHxe2x80xa6'",
         "2014-05-18 06:20:42"
        ],
        [
         "788493472286121984",
         "b'@FortuneMagazine This is because the first 12 months of production are sold out'",
         "2016-10-18 21:34:27"
        ],
        [
         "732066441554362368",
         "b'@margotroosevelt Only heard about this today. Sounds like the wrong thing happened on many levels. Will investigate and make it right.'",
         "2016-05-16 04:33:35"
        ],
        [
         "405134552458620928",
         "b'Saw pressure fluctuations on Falcon boost stage liquid oxygen tank. Want to be super careful, so pushing launch to Thurs.'",
         "2013-11-26 00:42:59"
        ],
        [
         "829442592978792448",
         "b'@sureal808 Motor Trend could only achieve 2.4 sec when they tested the Porsche 918'",
         "2017-02-08 21:31:39"
        ],
        [
         "785138151224446976",
         "b'Tesla product unveiling on the 17th (unexpected by most), followed by Tesla/SolarCity on the 28th'",
         "2016-10-09 15:21:37"
        ],
        [
         "224406502188916739",
         "b'Will publish something on the Hyperloop in about four weeks. Will forgo patents on the idea and just open source it. Not a vac tunnel btw.'",
         "2012-07-15 07:34:14"
        ],
        [
         "407540177289371648",
         "b'All known rocket anomalies resolved. Will spend another day rechecking to be sure. Launch attempt tmrw eve w Wed as backup.'",
         "2013-12-02 16:02:04"
        ],
        [
         "732656393463832576",
         "b'@drkevinleung @Tesla_Canada Totally agree. Am told this will be fixed by Thurs, maybe Fri.'",
         "2016-05-17 19:37:50"
        ],
        [
         "330387481616855040",
         "b'@rebel_sal Yes, your article (and many others) rightly identified that we made a mistake. New financing is not perfect, but much better.'",
         "2013-05-03 18:24:48"
        ],
        [
         "577080950317821952",
         "b'SolarCity systems generated a new daily record of 4 gigawatt-hours this weeknhttp://t.co/7MFig1lMsF'",
         "2015-03-15 12:16:34"
        ],
        [
         "787877220727427076",
         "b'RT @TeslaMotors: Tesla and Panasonic to collaborate on photovoltaic cell and module production in Buffalo, New York https://t.co/bcDS3voHwu'",
         "2016-10-17 04:45:42"
        ],
        [
         "789020098145030144",
         "b'@TeslaMotors 8 cameras, 12 ultrasonars and radar all flush mounted and body color. Beauty remains.'",
         "2016-10-20 08:27:05"
        ],
        [
         "407315762387636224",
         "b'The gas generator is a small rocket engine that powers the turbopump, which produces 7000 horsepower &amp; weighs 160 lbs'",
         "2013-12-02 01:10:19"
        ],
        [
         "823915595615719424",
         "b'@dean_arexding There will be a software update this weekend that improves self-calibration ability'",
         "2017-01-24 15:29:20"
        ],
        [
         "832863988836814848",
         "b'Provided Dragon 2 demo missions go well, SpaceX is highly confident of being able to fly US astronauts in 2018 https://t.co/usUto6QSi7'",
         "2017-02-18 08:07:03"
        ],
        [
         "273486358411087872",
         "b'But if humanity wishes to become a multi-planet species, then we must figure out how to move millions of people to Mars.'",
         "2012-11-27 18:00:03"
        ],
        [
         "827925653022453760",
         "b'In addition, I again raised climate. I believe this is doing good, so will remain on council &amp; keep at it. Doing otherwise would be wrong.'",
         "2017-02-04 17:03:52"
        ],
        [
         "834740218531962881",
         "b'Excellent Tesla Model X review https://t.co/wvog4Pbo1o'",
         "2017-02-23 12:22:31"
        ],
        [
         "306591715077271553",
         "b'One often hears that there is no point in a US carbon tax unless China acts. Well, they just did http://t.co/SIp9NzkulK'",
         "2013-02-27 02:28:55"
        ],
        [
         "751647322375876608",
         "b'@AllyTaft seriously'",
         "2016-07-09 05:21:01"
        ],
        [
         "658358794292891648",
         "b'@GangsOfGtown Given high local demand, a Gigafactory in India would probably make sense in the long term.'",
         "2015-10-25 19:05:42"
        ],
        [
         "736328917317910528",
         "b'Crush core is aluminum honeycomb for energy absorption in the telescoping actuator. Easy to replace (if Falcon makes it back to port).'",
         "2016-05-27 22:51:08"
        ],
        [
         "756365671571726336",
         "b'Looking forward to the Gigafactory opening party on Friday next week. The scale blows me away every time I see it.'",
         "2016-07-22 05:50:03"
        ],
        [
         "833329764232372224",
         "b'RT @NASA: Right on schedule, solar arrays have been deployed on @SpaceX #Dragon cargo spacecraft. Watch: https://t.co/mzKW5uDsTi https://t.xe2x80xa6'",
         "2017-02-19 14:57:52"
        ],
        [
         "461897294191673344",
         "b'RT @arstechnica: SpaceX says rocket purchases violate Russian sanctions, gets injunction http://t.co/IzRJzVCt1H by @Lee_Ars'",
         "2014-05-01 15:57:51"
        ],
        [
         "653031144179433472",
         "b'@heosat ww'",
         "2015-10-11 02:15:32"
        ],
        [
         "330423366802632706",
         "b'@ChrisCowan_  Chris is great. Took a long time for me to find someone w truly hardcore engineering skills, who fully understood the system.'",
         "2013-05-03 20:47:24"
        ],
        [
         "819663807827955712",
         "b'@JRMYGRNBRGR Hopefully, early next week. Results from limited release look good so far. Trying our best to be super careful.'",
         "2017-01-12 21:54:15"
        ],
        [
         "338135523765919745",
         "b'Was beat up pretty badly as a kid &amp; left me w jagged septum. Harder to breathe as I got older, so time to fix.'",
         "2013-05-25 03:32:45"
        ],
        [
         "841041070792228864",
         "b'@5AllanLeVito @mcannonbrookes @VGroysman Sure. Just check out my prior tweet on pricing ($250 kWh at pack level). Wxe2x80xa6 https://t.co/eJ1uXKHrpR'",
         "2017-03-12 21:39:51"
        ],
        [
         "752182992982843392",
         "b'Working on Top Secret Tesla Masterplan, Part 2. Hoping to publish later this week.'",
         "2016-07-10 16:49:35"
        ],
        [
         "840780746868441088",
         "b'@JMMZHerrera Answer is complex for electric motors. We use an AC induction motor fed by a DC pack thru an IGBT invexe2x80xa6 https://t.co/uKsjIDZPAq'",
         "2017-03-12 04:25:25"
        ],
        [
         "777325549442232320",
         "b'Preview of the @SpaceX interplanetary transport system at @IAC2016nhttps://t.co/Rz4XmeAoRw'",
         "2016-09-18 01:57:07"
        ],
        [
         "592836876622520323",
         "b'Rocket launch good, satellite in geo transfer orbit. Still so damn intense. Looking fwd to it feeling normal one day.'",
         "2015-04-27 23:45:00"
        ],
        [
         "248564996022345728",
         "b'The first owner to drive coast to coast in a Model S is about to complete the journey @XCTeslatrip!'",
         "2012-09-19 23:31:27"
        ],
        [
         "836328719165763584",
         "b'Fly me to the moon ... Oknhttps://t.co/6QT8m5SHwn'",
         "2017-02-27 21:34:39"
        ],
        [
         "711258598551240704",
         "b'@MileHighWillY being fixed'",
         "2016-03-19 18:30:39"
        ],
        [
         "799671408187961344",
         "b'RT @garrett_bauman: .@TeslaMotors owners making $923 by renting their car 7 days out of the month on @turo, says CEO https://t.co/QPsAnhYLvxe2x80xa6'",
         "2016-11-18 17:51:35"
        ],
        [
         "152774892591398913",
         "b'Not that this really matters. All current rocket tech, including ours, sucks. Only when it becomes fully reusable, will it not suck.'",
         "2011-12-30 15:35:47"
        ],
        [
         "792220517654597633",
         "b'@BobaFaux strongly net positive'",
         "2016-10-29 04:24:24"
        ],
        [
         "580479736721367041",
         "b'Flying car pros: travel in 3D fast. Cons: risk of car falling on head much greater, noisy, grounded in bad weather'",
         "2015-03-24 21:22:08"
        ],
        [
         "491796248148455425",
         "b'xe2x80x9c@SpaceX: Soft water landing of Falcon 9 rocket booster. http://t.co/VxBqBZhHmOnnFull update: http://t.co/nH8UqOmN9hxe2x80x9d'",
         "2014-07-23 04:05:37"
        ],
        [
         "748136300952182785",
         "b'Thoughtful analysis of the Tesla/SolarCity merger by @tsrandall https://t.co/4Ba3px7hb8'",
         "2016-06-29 12:49:28"
        ],
        [
         "405910027661496320",
         "b'RT @SpaceX: Falcon 9 launch window opens tmrw at 5:39pm EST. Watch LIVE at http://t.co/wytY3mnBf1. Happy #Spacegiving! http://t.co/leacczWCxe2x80xa6'",
         "2013-11-28 04:04:26"
        ],
        [
         "828004231101706241",
         "b'@nintendomaniac @alext4627 I wish!'",
         "2017-02-04 22:16:06"
        ],
        [
         "167699464134475776",
         "b'Btw, Foster the People is playing the Model X event tonight. Seemed like the right vibe.'",
         "2012-02-09 20:00:42"
        ],
        [
         "219270969666174977",
         "b'After 2008 meltdown, vacation for me just meant email with a view, but SpaceX &amp; Tesla are now strong enough that I can make it real (yay!!)'",
         "2012-07-01 03:27:27"
        ],
        [
         "716747672477151232",
         "b'@torvos torque is shifted between front &amp; rear motors every ~.01 secs. Traction control is way better than a normal AWD. Digital vs analog.'",
         "2016-04-03 22:02:16"
        ],
        [
         "176181571479552001",
         "b'RT @westcoastbill: lol my friends car xe2x80x9c@ryan: See also: http://t.co/jXuJU0mfxe2x80x9d'",
         "2012-03-04 05:45:34"
        ],
        [
         "535905906442403840",
         "b'About the Nevada deal with Tesla ... http://t.co/hAeyOc5OzC'",
         "2014-11-21 21:21:39"
        ],
        [
         "827849760048558080",
         "b'@OfficeOfOMAR maybe'",
         "2017-02-04 12:02:18"
        ],
        [
         "636918796494594048",
         "b'RT @ConsumerReports: Breaking: Tesla P85D is the best car wexe2x80x99ve tested in 80 years of testing cars #carofthefuture http://t.co/mwDM9dAXj3 hxe2x80xa6'",
         "2015-08-27 15:10:49"
        ],
        [
         "303575474150465538",
         "b'RT @YaelTAbouhalkah: Interesting: @nytimes public editor sides (mostly) with #Tesla. RT @Sulliview My thoughts on thorny problem: http:/ ...'",
         "2013-02-18 18:43:27"
        ],
        [
         "658357909265362944",
         "b'@javashri Auto import duties are prohibitively high. Hoping for a special category for EVs. Most of our discussion was about batteries.'",
         "2015-10-25 19:02:11"
        ],
        [
         "699880397396512768",
         "b'@BasseyE @tegmark yes'",
         "2016-02-17 08:57:44"
        ],
        [
         "384407846349062144",
         "b'Rocket booster relit twice (supersonic retro &amp; landing), but spun up due to aero torque, so fuel centrifuged &amp; we flamed out'",
         "2013-09-29 20:02:27"
        ],
        [
         "470001882300444674",
         "b'@QuantumG When we launch I want to know that SpaceX has done everything possible to keep the astronauts safe. Only a few more years to go.'",
         "2014-05-24 00:42:36"
        ],
        [
         "676868667380903937",
         "b'RT @verge: Over 1,000 college students will compete to design the best Hyperloop pod https://t.co/tcHCOGuMeh https://t.co/IpZc8vXWI8'",
         "2015-12-15 20:57:20"
        ],
        [
         "408695108033191936",
         "b'Solar power w batteries will be the primary (not exclusive) means of sustainable energy production http://t.co/rvXBzQXbsc'",
         "2013-12-05 20:31:21"
        ],
        [
         "599391754786181122",
         "b'RT @SpaceX: Tired of the same old travel destinations? Discover the wonder of Mars nhttp://t.co/KpluQw4cow http://t.co/vD9oLSuY5r'",
         "2015-05-16 01:51:45"
        ],
        [
         "337506956875010048",
         "b'Interview with @BloombergNews about Tesla and DOE loan gets into some of the details http://t.co/xb0JVoPHNC'",
         "2013-05-23 09:55:03"
        ],
        [
         "152759917621690368",
         "b'China unveils ambitious space strategy http://t.co/udHmuft2'",
         "2011-12-30 14:36:17"
        ],
        [
         "307533114035535872",
         "b'Solar array deployment successful'",
         "2013-03-01 16:49:42"
        ],
        [
         "827692878986100736",
         "b'@mcun1 Yes. Green cards &amp; dual citizens already ok. Work &amp; spousal visas not yet, but hopefully soon. This is separate from judicial action.'",
         "2017-02-04 01:38:54"
        ],
        [
         "427374161796018176",
         "b'RT @plugshare: Congratulations to John and Jill, first to drive across US using only free @TeslaMotors Superchargers! http://t.co/hA6YlkyjzN'",
         "2014-01-26 09:35:15"
        ],
        [
         "488717037674311682",
         "b'Flight 10 of Falcon 9 was good. All six ORBCOMM satellites deployed on target.'",
         "2014-07-14 16:09:56"
        ],
        [
         "461279062837968897",
         "b'Sounds like this might be a good time to unveil the new Dragon Mk 2 spaceship that @SpaceX has been working on w @NASA. No trampoline needed'",
         "2014-04-29 23:01:13"
        ],
        [
         "330466529118392320",
         "b'RT @TeslaMotors: North Carolina General Assembly could prevent Tesla from selling cars. Take action: http://t.co/EvxHevlZxi #TeslaNC'",
         "2013-05-03 23:38:54"
        ],
        [
         "828281953455579136",
         "b'@Biesseman True!'",
         "2017-02-05 16:39:41"
        ],
        [
         "178878446137647105",
         "b'I think if you go there, they just feed you delicious candy all day and ask nothing in return.'",
         "2012-03-11 16:21:59"
        ],
        [
         "677666779494248449",
         "b'@lukealization yes, from 70F to 20 F'",
         "2015-12-18 01:48:45"
        ],
        [
         "331796308631367681",
         "b'Tesla priority is electrification of cars, so priority is Model S, Model X, then mass market third gen vehicle &amp; truck'",
         "2013-05-07 15:42:59"
        ],
        [
         "324990048523141120",
         "b'Heart goes out to people of central Texas, home of SpaceX TX. All resources at disposal to help in any way.'",
         "2013-04-18 20:57:20"
        ],
        [
         "247510274918199296",
         "b'Tesla made 100 vehicle bodies this week for the first time. Really proud of the team! Pic of S/N 396: http://t.co/fZzbUIjn'",
         "2012-09-17 01:40:23"
        ],
        [
         "149447517325635584",
         "b'Yeah, this really is me, as my Mom @mayemusk will attest.nNot sure I can handle just doing 140 char missives. Will put longer thoughts on G+'",
         "2011-12-21 11:13:59"
        ],
        [
         "300234184193105920",
         "b'Next Grasshopper rocket test is called the Johnny Cash Hover Slam (yeah baby!). Might be our first smoking crater...'",
         "2013-02-09 13:26:22"
        ],
        [
         "406209289494462464",
         "b'We called manual abort. Better to be paranoid and wrong. Bringing rocket down to borescope engines ...'",
         "2013-11-28 23:53:36"
        ],
        [
         "553855109114101760",
         "b'Rocket made it to drone spaceport ship, but landed hard. Close, but no cigar this time. Bodes well for the future tho.'",
         "2015-01-10 10:05:22"
        ],
        [
         "307597163582590977",
         "b'Thruster pods one through four are now operating nominally. Preparing to raise orbit. All systems green.'",
         "2013-03-01 21:04:13"
        ],
        [
         "179468649038479361",
         "b'If something is physically possible, not only is someone doing it, but there is also an award show.'",
         "2012-03-13 07:27:14"
        ],
        [
         "427371574451507200",
         "b'Tesla Supercharger network now energized from New York to LA, both coast + Texas! Approx 80% of US population covered.'",
         "2014-01-26 09:24:58"
        ],
        [
         "470613418039586816",
         "b'Prince Albert &amp; Princess Charlene drove a Tesla around the track to open @F1 Monaco! The honor is much appreciated :) http://t.co/gjQmbm541s'",
         "2014-05-25 17:12:37"
        ],
        [
         "738805691528318976",
         "b'Just heard that Norway will ban new sales of fuel cars in 2025. What an amazingly awesome country. You guys rock!! https://t.co/uAXuBkDYuR'",
         "2016-06-03 18:52:57"
        ],
        [
         "622223920318431232",
         "b'Ludicrous speed, 70 kWh rear drive and 90 kWh battery pack http://t.co/kr9A0iXM58'",
         "2015-07-18 01:58:37"
        ],
        [
         "677666464208416768",
         "b'@craigcocca It worked in Texas'",
         "2015-12-18 01:47:30"
        ],
        [
         "456914811461197824",
         "b'Honored that @NASA would entrust @SpaceX with the Apollo 11 (first moon landing) launch pad http://t.co/LmqxRwsKFW'",
         "2014-04-17 21:59:14"
        ],
        [
         "168056133708283904",
         "b'Tesla Model X is 3rd most searched term on Google, right after purple squirrel. Damn you squirrel! http://t.co/jP9H5XrB'",
         "2012-02-10 19:38:00"
        ],
        [
         "150387544402575360",
         "b'Kanye stopped by the SpaceX rocket factory today. http://t.co/6z7gHBn6'",
         "2011-12-24 01:29:19"
        ],
        [
         "534607155546968064",
         "b'RT @Techmeme: Advances in image-recognition software show identification of entire scenes, not just objects http://t.co/PaLNRXi53q http://txe2x80xa6'",
         "2014-11-18 07:20:53"
        ],
        [
         "756004029239472132",
         "b'Autopilot prevents serious injury or death of a pedestrian in NY (owner anecdote confirmed by vehicle logs) https://t.co/NceuqckqCK'",
         "2016-07-21 05:53:01"
        ],
        [
         "580124996133097472",
         "b'RT @StarTalkRadio: Tonightxe2x80x99s new podcast: Explore xe2x80x9cThe Future of Humanity with @ElonMuskxe2x80x9d and @neiltyson @BillNye @chucknicecomic: http://txe2x80xa6'",
         "2015-03-23 21:52:31"
        ],
        [
         "738775567055523841",
         "b'Yay, baby made it home!nhttps://t.co/KYyUX9zNYD'",
         "2016-06-03 16:53:15"
        ],
        [
         "657704144267059200",
         "b'@JessicaTetreau important to set AC to not recirc (air exits thru rear) and use the snap in shade, which Tesla service can provide'",
         "2015-10-23 23:44:22"
        ],
        [
         "677980503459270657",
         "b'Rounding up to 1 sec for a bit of timing margin. Updating flight computer command sequence xe2x80xa6'",
         "2015-12-18 22:35:22"
        ],
        [
         "193855140254580736",
         "b'In NYC for the premiere of Baseball in the Time of @Cholera. Great work by @brynmooser and @daviddarg!'",
         "2012-04-22 00:14:01"
        ],
        [
         "817580438558359552",
         "b'@fatihorhan @SpaceX That was a great game'",
         "2017-01-07 03:55:41"
        ],
        [
         "225660118493196288",
         "b'RT @SpaceX: Relive the most exciting moments from Dragonxe2x80x99s historic mission n http://t.co/YmKmkpKb'",
         "2012-07-18 18:35:39"
        ],
        [
         "461283368693669888",
         "b'Cover drops on May 29. Actual flight design hardware of crew Dragon, not a mockup.'",
         "2014-04-29 23:18:19"
        ],
        [
         "838569247555014656",
         "b'@Zedd Will send you one'",
         "2017-03-06 01:57:43"
        ],
        [
         "466276798058078208",
         "b'RT @Space_News_Intl: Rogozin Calls for Ban on U.S. Military Use of RD-180 http://t.co/lumzgOimF6'",
         "2014-05-13 18:00:26"
        ],
        [
         "677403793651175424",
         "b'Vance article on self-driving cars was inaccurate https://t.co/AV636KAcKH'",
         "2015-12-17 08:23:44"
        ],
        [
         "384437535348248576",
         "b'@DebbieViviers @SpaceX Yes, upper stage venting of liquid oxygen created a fast moving fuzzy white sphere in space over SA'",
         "2013-09-29 22:00:25"
        ],
        [
         "827926509197332484",
         "b'@DanielleBloeme Yes, for now, but this should be addressed on all fronts: judicial, legislative and executive.'",
         "2017-02-04 17:07:16"
        ],
        [
         "755931999487991810",
         "b'@katiefehren Both should have been done under the same corporate umbrella from the beginning'",
         "2016-07-21 01:06:47"
        ],
        [
         "635215467959812096",
         "b'@Forbes I appreciate the kind words in the article, but, judging by the picture mods, it looks your Photoshop bill was very high.'",
         "2015-08-22 22:22:23"
        ],
        [
         "330572086668046336",
         "b'@WehbyJammin Earnings call next week, then Supercharger week after and then... the mystery announcement/demonstration :)'",
         "2013-05-04 06:38:21"
        ],
        [
         "725365829479460864",
         "b'@Cardoso It could land on Venus no problem, but would last maybe a few hours. Tough local environment.'",
         "2016-04-27 16:47:45"
        ],
        [
         "593804222811869184",
         "b'@bonnienorman Haha, awesome :)'",
         "2015-04-30 15:48:53"
        ],
        [
         "784441057857589249",
         "b'@DanMerriweather lot of circumstantial evidence for that hypothesis'",
         "2016-10-07 17:11:37"
        ],
        [
         "457311780943822848",
         "b'Flight computers continued transmitting for 8 seconds after reaching the water. Stopped when booster went horizontal.'",
         "2014-04-19 00:16:39"
        ],
        [
         "553835543336058880",
         "b'Swimming on the moon http://t.co/7eZ3tqwwEj'",
         "2015-01-10 08:47:37"
        ],
        [
         "407910834225295360",
         "b'@UFrugger10 I agree. Will be restored shortly.'",
         "2013-12-03 16:34:56"
        ],
        [
         "221503107182501889",
         "b'Now back to work. Intense months ahead as we ramp production of rockets and cars.'",
         "2012-07-07 07:17:10"
        ],
        [
         "279597699945361408",
         "b'@prbowman Roughly equivalent to a 747 flight from LA to London (one way).'",
         "2012-12-14 14:44:20"
        ],
        [
         "193617277231443968",
         "b'I feel compelled to state the obvious fact that Coachella is excellent. http://t.co/onxtR4YB'",
         "2012-04-21 08:28:51"
        ],
        [
         "159330976378519552",
         "b'Will communicate better in the future. Too many people want us to fail and are willing to twist any bit of news against Tesla.'",
         "2012-01-17 17:47:19"
        ],
        [
         "798768530254491648",
         "b'RT @NatGeo: Watch: When humans live on Mars, what exactly will they call home? nhttps://t.co/QlJBuB6FX2 #CountdownToMars'",
         "2016-11-16 06:03:52"
        ],
        [
         "828284631170560000",
         "b'@TheLAAdams The laws need to change. Judges are responsible for evaluating whether an action breaks the law, not making law.'",
         "2017-02-05 16:50:19"
        ],
        [
         "564493608351313921",
         "b'Launching our 1st deep space mission today. Headed to Earth-Sun L1 gravity null point at 1M miles, 4X further than moon.'",
         "2015-02-08 18:38:58"
        ],
        [
         "453555454187012097",
         "b'Tesla US business leasing program went live today http://t.co/wCH0GLAEAJ'",
         "2014-04-08 15:30:21"
        ],
        [
         "784219037194563584",
         "b'RT @InsideWestworld: It will be great to see @TalulahRiley as Angela and @jimmisimpson as William in #Westworld airing Sunday 9:00 PM ET. hxe2x80xa6'",
         "2016-10-07 02:29:23"
        ],
        [
         "706610504161107968",
         "b'SpaceX and Tesla rated most meaningful work in high tech. Also, most stressful, but that goes with the territory.  https://t.co/y8s4UdMF5z'",
         "2016-03-06 22:40:47"
        ],
        [
         "653029223779557376",
         "b'@madolfsson roughly 5 days'",
         "2015-10-11 02:07:54"
        ],
        [
         "159453674517692416",
         "b'That said, even though they cause me grief, I would defend the right of shorts to exist. They are often unreasonably maligned.'",
         "2012-01-18 01:54:53"
        ],
        [
         "406211326282055681",
         "b'@WilliamShatner Will do. Probably at least a few days. Depends on whether we need to pull the turbopumps.'",
         "2013-11-29 00:01:41"
        ],
        [
         "338357776889823232",
         "b'In reality, 97% of scientists agree that we face serious human generated climate change http://t.co/soQCnJB61B'",
         "2013-05-25 18:15:55"
        ],
        [
         "576184066921218048",
         "b'For more on the Fermi Paradox: http://t.co/ea1aGnu2kU, http://t.co/AcdSIoIvyv and http://t.co/bkbOWW7Ztb'",
         "2015-03-13 00:52:41"
        ],
        [
         "787797036699521024",
         "b'Moving the Tesla announcement to Wednesday. Needs a few more days of refinement.'",
         "2016-10-16 23:27:04"
        ],
        [
         "553850129208586241",
         "b'Launching in one minute'",
         "2015-01-10 09:45:35"
        ],
        [
         "271652314744487936",
         "b'On the plus side...xe2x80x9c@newscientist: #Climate change has a silver lining: supersized sweet potatoes http://t.co/zHMYIbL3xe2x80x9d'",
         "2012-11-22 16:32:13"
        ],
        [
         "157292663601758208",
         "b'Model S Performance powertrain produced so much torque today that we broke the dyno. 4.4 sec 0-60 mph will not be a problem.'",
         "2012-01-12 02:47:48"
        ],
        [
         "817123579343028227",
         "b'Hold-down firing of @SpaceX Falcon 9 at Vandenberg Air Force completed. All systems are go for launch next week.'",
         "2017-01-05 21:40:17"
        ],
        [
         "532368290942058496",
         "b'RT @TeslaMotors: Hong Kong street view from a right hand drive Model S. http://t.co/HWthvB72je'",
         "2014-11-12 03:04:26"
        ],
        [
         "828285409675341824",
         "b'@paulvankeep Mostly anti-drug laws'",
         "2017-02-05 16:53:25"
        ],
        [
         "740387141591535616",
         "b'S and X cells are also Panasonic'",
         "2016-06-08 03:37:04"
        ],
        [
         "167648387313840128",
         "b'Model X sketch showing just a bit more leg. Unveiling tonight... http://t.co/KASHBP5p'",
         "2012-02-09 16:37:45"
        ],
        [
         "307580263637061633",
         "b'Pods 1 and 4 now online and thrusters engaged. Dragon transitioned from free drift to active control. Yes!!'",
         "2013-03-01 19:57:04"
        ],
        [
         "716749159324377089",
         "b'@CrackedUpCorson Will cover whole country hopefully this year'",
         "2016-04-03 22:08:10"
        ],
        [
         "792195966224826368",
         "b'RT @TeslaMotors: Tuscan glass tile roof https://t.co/iDFhp8Y3qi'",
         "2016-10-29 02:46:51"
        ],
        [
         "330364975300358144",
         "b'@Alan_Nestos The legs are nested tight against the body of the rocket in flight, so rotate about 120 degrees to deploy'",
         "2013-05-03 16:55:22"
        ],
        [
         "786601762354442242",
         "b'@vicentes obviously wrong'",
         "2016-10-13 16:17:29"
        ],
        [
         "151151777662779392",
         "b'I'",
         "2011-12-26 04:06:06"
        ],
        [
         "560906999664508931",
         "b'Video made by owner of a P85D going up a 14% grade on snow passing a whole bunch of stuck SUVs https://t.co/LC9AHx0fuC'",
         "2015-01-29 21:07:04"
        ],
        [
         "173476402748854274",
         "b'Supporting the drive to get a #PlutoStamp for the @NASA New Horizons mission'",
         "2012-02-25 18:36:12"
        ],
        [
         "653004922984660992",
         "b'CH4 rapidly decays back to CO2 &amp; is absorbed by plants. What matters is adding new carbon to surface cycle from underground oil, gas &amp; coal.'",
         "2015-10-11 00:31:20"
        ],
        [
         "330877283793530880",
         "b'@DouglasBullard @teslamotors Most people have never heard of Nikola Tesla. That will hopefully change over time.'",
         "2013-05-05 02:51:06"
        ],
        [
         "306608592100941824",
         "b'@_ChrisSimmons A carbon tax would affect coal even more than gasoline, so electricity would also become more expensive'",
         "2013-02-27 03:35:59"
        ],
        [
         "732329443776024576",
         "b'Falcon Heavy side boosters can use most of the same airframe as Falcon 9, but center core needs to be buffed up a lot for transfer loads.'",
         "2016-05-16 21:58:40"
        ],
        [
         "589082811119763458",
         "b'RT @SpaceX: #Dragon is now fully attached to @Space_Station! Hatch opening to occur over the next day. http://t.co/W8JBYnWOWe'",
         "2015-04-17 15:07:41"
        ],
        [
         "407941040503783424",
         "b'@toruonu cool :)'",
         "2013-12-03 18:34:57"
        ],
        [
         "830148763578662916",
         "b'Falcon 9 rocket now vertical at Cape Canaveral on launch complex 39-A. This is the same launchxe2x80xa6 https://t.co/wY6dWRcer3'",
         "2017-02-10 20:17:43"
        ],
        [
         "835361919775100929",
         "b'@MacTechGenius of course'",
         "2017-02-25 05:32:56"
        ],
        [
         "832788691588296705",
         "b'Looks like we are go for launch. Added an abort trigger at T-60 secs for pressure decay of upper stage helium spin start system.'",
         "2017-02-18 03:07:51"
        ],
        [
         "394220043816296448",
         "b'Giant dog topiary in Bilbao http://t.co/kHdAMvOEMN'",
         "2013-10-26 21:52:37"
        ],
        [
         "305971647561752576",
         "b'@FaeLoba Best is winning competitions like Formula SAE, design/build/fly or other evidence of exceptional eng ability'",
         "2013-02-25 09:25:00"
        ],
        [
         "149688828599349251",
         "b'Raul Campos invited me to do a guest DJ gig on KCRW.  Hear my random holiday season music selections at http://t.co/o6FQASvC'",
         "2011-12-22 03:12:52"
        ],
        [
         "732040492607643652",
         "b'@mmustapic yup'",
         "2016-05-16 02:50:28"
        ],
        [
         "460975671603634176",
         "b'@KAlHomoud Superchargers in Canada will go live in 6 to 8 weeks. Update on forums shortly.'",
         "2014-04-29 02:55:39"
        ],
        [
         "408014483551191040",
         "b'Restart was good, apogee raised to 80k km (50k miles). Yes!!!'",
         "2013-12-03 23:26:48"
        ],
        [
         "408731422136864768",
         "b'Rest in peace, Nelson Mandela. A man both good and great.'",
         "2013-12-05 22:55:39"
        ],
        [
         "688841295364673536",
         "b'@mbhnyc steel collet'",
         "2016-01-17 21:52:17"
        ],
        [
         "639175789116833792",
         "b'@ScottLucasNV Lithium deal is not exclusive &amp; has many contingencies. The press on this matter is unwarranted.'",
         "2015-09-02 20:39:18"
        ],
        [
         "306612536973856768",
         "b'@andrewliebchen @_chrissimmons Exactly. Then no need for clean energy subsidies, as externality is priced into mkt behavior'",
         "2013-02-27 03:51:40"
        ],
        [
         "747298044861784064",
         "b'Deluded, deranged, etc. Journalistic thesaurus sure got a lot of use last week ...nhttps://t.co/KFHD1FXvIe'",
         "2016-06-27 05:18:32"
        ],
        [
         "706891731430584322",
         "b'RT @newscientist: The northern hemisphere has gone 2xc2xb0C above pre-industrial temperatures for the first time https://t.co/7JZ0TEpyjb https:/xe2x80xa6'",
         "2016-03-07 17:18:16"
        ],
        [
         "752198648469917696",
         "b'@FantaAIex It is extensively tested in the lab and in the Tesla test fleet. However, there is no substitute for real world experience.'",
         "2016-07-10 17:51:47"
        ],
        [
         "799517977049755648",
         "b'RT @SpaceX: Successfully tested the prototype Mars tank last week. Hit both of our pressure targets xe2x80x93 next up will be full cryo testing. htxe2x80xa6'",
         "2016-11-18 07:41:54"
        ],
        [
         "592471975869620225",
         "b'RT @deadmau5: Here she is! :) @TeslaMotors http://t.co/LPiWuhNYsN'",
         "2015-04-26 23:35:01"
        ],
        [
         "715303533659041792",
         "b'Model 3 order day starting in Australia https://t.co/T6aUnG5BCv'",
         "2016-03-30 22:23:46"
        ],
        [
         "469996345617825792",
         "b'RT @amerpro555: @elonmusk   How about this guy http://t.co/0fMbsYPrKS'",
         "2014-05-24 00:20:35"
        ],
        [
         "403602986561073152",
         "b'Tesla Model S Consumer Reports customer satisfaction survey highest of any car on road at 99/100 http://t.co/PpuS01S2KN'",
         "2013-11-21 19:17:05"
        ],
        [
         "153594528908058624",
         "b'On a lighter note, the RHCP are f* awesome. No better way to bring in the New Year... http://t.co/TlkAdzsk'",
         "2012-01-01 21:52:44"
        ],
        [
         "726210366766632960",
         "b'@maya_kazan Temporary spike in some areas due to X 3rd row seat recall. Should be sorted by June.'",
         "2016-04-30 00:43:38"
        ],
        [
         "778602694399320065",
         "b'Tesla keeps temp below 40C/105F by automatically venting cabin &amp; turning on AC when needed. Can do this for up to a year on a full charge.'",
         "2016-09-21 14:32:02"
        ],
        [
         "823234503355158528",
         "b'Auto steer limited to 45 mph on highways for now, i.e. heavy traffic, where it is needed most. Limit will raise as we get more data.'",
         "2017-01-22 18:22:55"
        ],
        [
         "580480774115364864",
         "b'Reasons I like tunnels: you still travel in 3D fast, but immune to weather, quiet and no risk cars fall on your head'",
         "2015-03-24 21:26:16"
        ],
        [
         "748140919501656066",
         "b'My son recently asked what my favorite animal was. Well, of course xe2x80xa6 https://t.co/hpTniMe1mF'",
         "2016-06-29 13:07:49"
        ],
        [
         "534731793832751106",
         "b'Tesla comic book http://t.co/enyjX9bcGE'",
         "2014-11-18 15:36:09"
        ],
        [
         "273671124909432833",
         "b'RT @TheEconomist: Mexico is changing in ways that will profoundly affect America http://t.co/icj9xRYE'",
         "2012-11-28 06:14:15"
        ],
        [
         "828287608614744064",
         "b'@FifthRocket Did you read my tweets? I attacked it hard. Did not defend.'",
         "2017-02-05 17:02:09"
        ],
        [
         "454005116249440257",
         "b'RT @TeslaMotors: When life gives you lemonsxe2x80xa6 http://t.co/1TrjvPvh2K'",
         "2014-04-09 21:17:09"
        ],
        [
         "153515940707975169",
         "b'My first prediction of 2012 has come true: ouch, my head hurts.'",
         "2012-01-01 16:40:27"
        ],
        [
         "404826254295457792",
         "b'RT @SpaceX: Falcon 9 targeted to launch SES-8 for @SES_Satellites tmrw. 1st SpaceX GEO transfer mission. http://t.co/wytY3mnBf1 http://t.coxe2x80xa6'",
         "2013-11-25 04:17:54"
        ],
        [
         "601501265332477952",
         "b'RT @SpaceX: Cargo is offloaded and spacecraft is powered down. #Dragon back in its nest after about 5 weeks at the @Space_Station http://t.xe2x80xa6'",
         "2015-05-21 21:34:11"
        ],
        [
         "491814548760825857",
         "b'RT @R_Rojas_Leon: La selfie del monito ... http://t.co/2tAJxr5g0r'",
         "2014-07-23 05:18:20"
        ],
        [
         "833329896168370179",
         "b'@mattnewby no'",
         "2017-02-19 14:58:24"
        ],
        [
         "819748895878094848",
         "b'RT @TeslaMotors: Building the Supercharger Network for the Future https://t.co/siR67vPd2T'",
         "2017-01-13 03:32:21"
        ],
        [
         "798768113651040256",
         "b'RT @RealRonHoward: MARS airs tonight on the @NatGeo   Hope you get to watch it.  https://t.co/7ObsMhuSnU'",
         "2016-11-16 06:02:13"
        ],
        [
         "560900676453433344",
         "b'Tesla dual motor cars are also all-wheel drive. Main goal of dual motor was actually insane traction on snow. Insane speed was a side effect'",
         "2015-01-29 20:41:56"
        ],
        [
         "191297895339794432",
         "b'Great work by APJ xe2x80x9c@brynmooser: The foundation is nearly complete at the @artistsforpeace school  http://t.co/hoTXytsZxe2x80x9d'",
         "2012-04-14 22:52:27"
        ],
        [
         "661293692410445824",
         "b'@BjornNyland @TeslaMotors well done!'",
         "2015-11-02 21:27:57"
        ],
        [
         "408030622708678657",
         "b'View of Earth from upper stage rear view camera at 8,000 miles http://t.co/V4tdMUA48X'",
         "2013-12-04 00:30:55"
        ],
        [
         "739557011554066432",
         "b'Trippy https://t.co/DtMD5AIRiq'",
         "2016-06-05 20:38:26"
        ],
        [
         "304988995836862465",
         "b'RT @NASA: Want to join us and cover the next @SpaceX launch on March 1? Now you can apply for a #NASASocial Media Credential http://t.co ...'",
         "2013-02-22 16:20:17"
        ],
        [
         "824013720967753728",
         "b'@redletterdave Ok, fine. Soldier 76. My dark secret is out ...'",
         "2017-01-24 21:59:15"
        ],
        [
         "413751355451265024",
         "b'SolarCity launches Give Power Foundation http://t.co/Ag63gyLBRP'",
         "2013-12-19 19:23:04"
        ],
        [
         "833332384913252352",
         "b'https://t.co/6Ve3YJoStm'",
         "2017-02-19 15:08:17"
        ],
        [
         "659533849844695040",
         "b'RT @geekwire: Watch: Teslaxe2x80x99s new autopilot technology prevents accident on slick Seattle road: https://t.co/5YSSQN3K64 https://t.co/0NBwMU9xe2x80xa6'",
         "2015-10-29 00:54:58"
        ],
        [
         "823727035088416768",
         "b'@tsrandall 3 months maybe, 6 months definitely'",
         "2017-01-24 03:00:03"
        ],
        [
         "274090388669734912",
         "b'@shervin Thanks Shervin!'",
         "2012-11-29 10:00:15"
        ],
        [
         "406187728850944000",
         "b'Live stream of launch at http://t.co/Oo569cuarz'",
         "2013-11-28 22:27:55"
        ],
        [
         "331489911842689025",
         "b'Chris Porritt from Aston Martin just joined as head of vehicle engineering at Tesla http://t.co/MNUIWDxoXt'",
         "2013-05-06 19:25:28"
        ],
        [
         "600784025335136256",
         "b'This is not the full Gigafactory, it is just the pilot plant (1/4 size) https://t.co/gz2EmJkYtm'",
         "2015-05-19 22:04:08"
        ],
        [
         "835178020604301313",
         "b'@adrianvolts Minor improvements update this weekend. High speed autosteer in about two weeks.'",
         "2017-02-24 17:22:11"
        ],
        [
         "829447188325412866",
         "b'@SundalJ Should all be uploaded by next month'",
         "2017-02-08 21:49:54"
        ],
        [
         "752201456980078593",
         "b'@bolayer @SwiftOnSecurity US is ~11 deaths per billion miles. WW is 17 deaths per billion. Autopilot already much better than either so far.'",
         "2016-07-10 18:02:57"
        ],
        [
         "678004229047357440",
         "b'Static fire test looks good. Pending data review, will aim to launch Sunday.'",
         "2015-12-19 00:09:39"
        ],
        [
         "725028258614370304",
         "b'RT @ElectrekCo: Automakers entrenched in fuel cell hydrogen are succumbing to physics and going electric https://t.co/NRVVuGzP1F https://t.xe2x80xa6'",
         "2016-04-26 18:26:21"
        ],
        [
         "276194361442705408",
         "b'Interesting possible answer to the Fermi Paradox nhttp://t.co/ASZdxBAl'",
         "2012-12-05 05:20:41"
        ],
        [
         "405965445628710912",
         "b'Good description of the launch by @WIRED: http://t.co/QnLhvviEAn'",
         "2013-11-28 07:44:39"
        ],
        [
         "588490238936240129",
         "b'Droneship is fine. No hull breach and repairs are minor. Impact overpressure is closer to a fast fire than an explosion.'",
         "2015-04-15 23:53:01"
        ],
        [
         "589820447660769281",
         "b'@andrewket @TeslaRoadTrip Wow!'",
         "2015-04-19 15:58:47"
        ],
        [
         "589350633393627136",
         "b'@Aero4Real I only invest in companies I help found or to help a friend or a cause (no return expected for latter two)'",
         "2015-04-18 08:51:55"
        ],
        [
         "307523715678212096",
         "b'About to pass over Australia ground station and command inhibit override'",
         "2013-03-01 16:12:21"
        ],
        [
         "662039125898334209",
         "b'@kevinmitnick Current production is LTE. Can be upgraded by service.'",
         "2015-11-04 22:50:02"
        ],
        [
         "801572499418796032",
         "b'@chemisdrey yes'",
         "2016-11-23 23:45:51"
        ],
        [
         "180226195206569984",
         "b'Lovely poster about wishes that explains one of the many reasons to make life multiplanetary http://t.co/e1ZM8a2b'",
         "2012-03-15 09:37:28"
        ],
        [
         "819660611357319170",
         "b'@robsmallshire @ClareMacraeUK It will'",
         "2017-01-12 21:41:32"
        ],
        [
         "306193893890863104",
         "b'Rocket static fire @SpaceX Cape Canaveral launch pad looks good. Engines generated 433 tons of thrust, parameters nominal.'",
         "2013-02-26 00:08:07"
        ],
        [
         "307536134215446528",
         "b'Attempting bring up of thruster pods 2 and 4'",
         "2013-03-01 17:01:42"
        ],
        [
         "699510097332994048",
         "b'This baby Model S really is quite fun  https://t.co/40W5sS5bKI'",
         "2016-02-16 08:26:18"
        ],
        [
         "819609111801139200",
         "b'Promising early results from the Ludricrous Easter egg. Looks like 0 to 60 mph in 2.34 sec (Motor Trend spec) might be achievable...'",
         "2017-01-12 18:16:54"
        ],
        [
         "332270252832460800",
         "b'@westcoastbill Thanks Bill!'",
         "2013-05-08 23:06:16"
        ],
        [
         "653028177896312832",
         "b'@TeslaPittsburgh Non-autopilot will have a new interface too. More comprehensive UI update coming with 7.1.'",
         "2015-10-11 02:03:44"
        ],
        [
         "798984120336465920",
         "b'Model X numbers should also improve by 0.1 sec on 0 to 60 and 1/4 mile'",
         "2016-11-16 20:20:33"
        ],
        [
         "732041468085342210",
         "b'@4kpixelsyt yes'",
         "2016-05-16 02:54:21"
        ],
        [
         "453204415458344960",
         "b'What could possibly go wrong? https://t.co/ZhUrllHG95'",
         "2014-04-07 16:15:27"
        ],
        [
         "305172926762725376",
         "b'@EricIdle Cool! Btw, thought you might appreciate that 1st flight of Dragon spacecraft carried a large wheel of cheese :)'",
         "2013-02-23 04:31:10"
        ],
        [
         "149629518267695104",
         "b'Yum! Even better than deep fried butter: http://t.co/Ody21NuD'",
         "2011-12-21 23:17:11"
        ],
        [
         "832954058730115074",
         "b'RT @SpaceX: 1 hour from launch of Falcon 9 &amp; Dragon to @Space_Station. Rocket &amp; weather are go. Launch at 10:01am ET, 15:01 UTC https://t.cxe2x80xa6'",
         "2017-02-18 14:04:57"
        ],
        [
         "715220713326530561",
         "b'You can now buy cruise ship tickets for the Arctic passage. Seeing is believing. https://t.co/LhKupkNMFC'",
         "2016-03-30 16:54:40"
        ],
        [
         "658356079026270208",
         "b'Model 3 is due in ~2 yrs. A China factory for local demand cd be as soon as a year after. A factory in Europe wd happen for same reason.'",
         "2015-10-25 18:54:55"
        ],
        [
         "677646796311670786",
         "b'@mashabletech @mashable Not really my letter (no authorship contribution). Just agreed to add my name when they asked.'",
         "2015-12-18 00:29:20"
        ],
        [
         "819606921824980992",
         "b'@mjreddyMD If the results look good from the latest point release, then we are days away from a release to all HW1xe2x80xa6 https://t.co/tfJJSklIjj'",
         "2017-01-12 18:08:12"
        ],
        [
         "466521428914094083",
         "b'@Oatmeal may all technology in the future follow the zeroth law...'",
         "2014-05-14 10:12:30"
        ],
        [
         "726183794215022592",
         "b'@MrBoylan Duplicates will be cancelled. Max of 2 will be delivered to any one person. Only ~5% of orders are 2, so speculation unlikely.'",
         "2016-04-29 22:58:03"
        ],
        [
         "690307996774072320",
         "b'RT @Commercial_Crew: Watch 8 SuperDraco engines fire for @SpaceX Crew Dragon descent landing tether test: https://t.co/4MELcVTe0h. More: htxe2x80xa6'",
         "2016-01-21 23:00:26"
        ],
        [
         "586195989167382528",
         "b'RT @StephenKing: Took my Tesla out to a dragstrip last week and ran the 1/4 mile. 112 MPH, 0 to 60 in 4 seconds. Like driving an X-Wing figxe2x80xa6'",
         "2015-04-09 15:56:29"
        ],
        [
         "579210902932574209",
         "b'@Pandoomic Just changed them to full public domain'",
         "2015-03-21 09:20:15"
        ],
        [
         "204845069772128256",
         "b'Falcon flew perfectly!! Dragon in orbit, comm locked and solar arrays active!! Feels like a giant weight just came off my back :)'",
         "2012-05-22 08:04:05"
        ],
        [
         "704102461766676481",
         "b'@SpaceX Launch aborted on low thrust alarm. Rising oxygen temps due to hold for boat and helium bubble triggered alarm.'",
         "2016-02-29 00:34:43"
        ],
        [
         "704779047746691072",
         "b'@lorengrush exactly :)'",
         "2016-03-01 21:23:13"
        ],
        [
         "780831628104966144",
         "b'12m rocket booster diameter, 17m spaceship diameter, 122 m stack height'",
         "2016-09-27 18:09:01"
        ],
        [
         "172817923243646976",
         "b'RT @brynmooser: Math class at the @artistsforpeace school  http://t.co/TsOSngZ3'",
         "2012-02-23 22:59:38"
        ],
        [
         "694802955170553861",
         "b'Must be a slow news day if denying service to a super rude customer gets this much attention'",
         "2016-02-03 08:41:47"
        ],
        [
         "750837202398093312",
         "b'@disinformatico @Eddy_Jahn In other words, the intended implication is that a driver must remain alert, just as a pilot must remain alert.'",
         "2016-07-06 23:41:53"
        ],
        [
         "780887904625229824",
         "b'Good article on the interplanetary transport system on Gizmodo https://t.co/nysjRDQWFz'",
         "2016-09-27 21:52:39"
        ],
        [
         "650080562556858368",
         "b'@stumplahoma @mashable door is larger than opening and acts as an umbrella. Upper interior trim has hydrophobic coating.'",
         "2015-10-02 22:50:58"
        ],
        [
         "780989416525422592",
         "b'RT @geekwire: SpaceXxe2x80x99s Elon Musk makes high-stakes pitch for 40-year plan to colonize Mars https://t.co/kulcjLMPLW https://t.co/dPBV21Wovf'",
         "2016-09-28 04:36:01"
        ],
        [
         "204858156801732608",
         "b'Also big thanks to the Air Force, FAA and all of our partners for their support of this mission.'",
         "2012-05-22 08:56:05"
        ],
        [
         "520335864053108736",
         "b'Just got word that the cumulative miles of the  worldwide Tesla fleet passed half a billion!'",
         "2014-10-09 22:11:52"
        ],
        [
         "166336380820144128",
         "b'The sheer size of Falcon Heavy is mind-blowing. It could literally send a fully loaded London bus to the moon.'",
         "2012-02-06 01:44:18"
        ],
        [
         "704092857829732353",
         "b'@SpaceX AF has placed launch on hold due to a boat entering the edge of the keep out zone. Scrambling helo to get them to move.'",
         "2016-02-28 23:56:33"
        ],
        [
         "203773618222678016",
         "b'Launch aborted: slightly high combustion chamber pressure on engine 5. Will adjust limits for countdown in a few days.'",
         "2012-05-19 09:06:31"
        ],
        [
         "457191844133097472",
         "b'@erwinEmm Need to make sure precision return from hypersonic velocity works in ocean before transitioning to land'",
         "2014-04-18 16:20:04"
        ],
        [
         "520743089938251777",
         "b'Dual Motor Model S with Autopilot http://t.co/IL7BSn0ZZk'",
         "2014-10-11 01:10:02"
        ],
        [
         "780828210028240896",
         "b'Full Interplanetary Tranport System presentation in ~30 mins. Simulation preview: https://t.co/lKAxabzfKX'",
         "2016-09-27 17:55:27"
        ],
        [
         "515224624271863808",
         "b'RT @astro_reid: This is for my friends @SpaceX - #Dragon over #Hawthorne early this morning. http://t.co/RY0ipETIIT'",
         "2014-09-25 19:41:37"
        ],
        [
         "204356879789473793",
         "b'Just did an interview with Spaceflight Now. Some of your questions may be answered here: http://t.co/vF0Rs3p1'",
         "2012-05-20 23:44:11"
        ],
        [
         "688918045989842944",
         "b'RT @SpaceX: First stage approaches center of landing droneship in Pacific https://t.co/lI3q6LnwVP'",
         "2016-01-18 02:57:16"
        ],
        [
         "204857362782224384",
         "b'Huge appreciation for @NASA, without whom we could not even have started, let alone reached this far.'",
         "2012-05-22 08:52:56"
        ],
        [
         "166251564032471040",
         "b'Just posted a photo http://t.co/eN9xzbfO'",
         "2012-02-05 20:07:16"
        ],
        [
         "204837633766076418",
         "b'T minus 10 minutes ... Entering terminal count #dragonlaunch'",
         "2012-05-22 07:34:32"
        ],
        [
         "780900979294269445",
         "b'A Million Humans Could Live on Mars By the 2060s https://t.co/d0nlk1xfOl via @NatGeo'",
         "2016-09-27 22:44:36"
        ],
        [
         "750829352229695488",
         "b'Tesla response to the misleading Fortune articles about Autopilot https://t.co/zWRM3aMnVC'",
         "2016-07-06 23:10:41"
        ],
        [
         "586202560404434944",
         "b'Testing of the high performance version of the Tesla Model S by @ConsumerReportsnhttps://t.co/bvgEVgMswU'",
         "2015-04-09 16:22:36"
        ],
        [
         "517486950589014016",
         "b'About time to unveil the D and something else http://t.co/qp23yi59i6'",
         "2014-10-02 01:31:18"
        ],
        [
         "384335603849895936",
         "b'Looks good for a launch attempt today. Upper winds slightly exceed loads in high subsonic regime, but improving.'",
         "2013-09-29 15:15:23"
        ],
        [
         "690983158490136576",
         "b'@TheEconomist Interesting name'",
         "2016-01-23 19:43:17"
        ],
        [
         "750820987676061696",
         "b'Sponsored articles xe2x80xa6 https://t.co/i8QsJYU4Ee'",
         "2016-07-06 22:37:27"
        ],
        [
         "585114189527552001",
         "b'Welcome @Chiefboltkennyh to @TeslaMotors. He will apply Formula 1 techniques to revolutionize servicing mainstream cars.'",
         "2015-04-06 16:17:48"
        ],
        [
         "165898145841168385",
         "b'@MacDeviant Yeah, we will stream the whole mission realtime with no buffer. You see what we see.'",
         "2012-02-04 20:42:54"
        ],
        [
         "750353176570789888",
         "b'@samabuelsamid Wrong to exclude non-occupant deaths. Autopilot would have prevented this cyclist from being killed https://t.co/ic9liqnyDN'",
         "2016-07-05 15:38:32"
        ],
        [
         "689299216607232000",
         "b'My best guess for 2016: ~70% landing success rate (so still a few more RUDs to go), then hopefully improving to ~90% in 2017'",
         "2016-01-19 04:11:54"
        ],
        [
         "750446098020503552",
         "b'Because of course I hate flamingos...(maybe try eating fewer flamingo eggs in your salad)nhttps://t.co/tUKsWqCobo'",
         "2016-07-05 21:47:47"
        ],
        [
         "579197717970206720",
         "b'SpaceX Photos Are Now Available Under a Creative Commons License http://t.co/OgHJYimuCU'",
         "2015-03-21 08:27:51"
        ],
        [
         "483979768203726848",
         "b'Tesla Model S named top model in perceived quality http://t.co/hOhZMIG78u via @USATODAY'",
         "2014-07-01 14:25:43"
        ],
        [
         "523011654515032064",
         "b'Michigan auto dealers trying to pass anti-consumer legislation http://t.co/qEr5oz3CyE'",
         "2014-10-17 07:24:30"
        ],
        [
         "650081625200545792",
         "b'@Avron_p you can mount a rack to the roof via suction cups and still have one Falcon door work fine. Guaranteed up to 140 mph.'",
         "2015-10-02 22:55:12"
        ],
        [
         "703692375055413248",
         "b'@derekslager @skiesforme yes, it actually performed better than other colors on stain tests. Best not to have vented seats w kids though.'",
         "2016-02-27 21:25:10"
        ],
        [
         "652355134454808577",
         "b'Peak temp increases due to climate change http://t.co/dThGhXd6MT'",
         "2015-10-09 05:29:18"
        ],
        [
         "650079603122438144",
         "b'Model X Bioweapon Defense Mode definitely filters viruses btw, even the small ones. Has hospital operating room level filtering.'",
         "2015-10-02 22:47:09"
        ],
        [
         "170309322037919744",
         "b'Important point highlighted by @kqed: an electric car in California produces only 1/4 CO2 of gasoline http://t.co/xV3eWJ33'",
         "2012-02-17 00:51:21"
        ],
        [
         "476641338213945345",
         "b'RT @pud: Faith restored in humanity. French toast &gt; money http://t.co/N3HMerBMVD'",
         "2014-06-11 08:25:25"
        ],
        [
         "587193821227651072",
         "b'@benfeldman63 Thanks!'",
         "2015-04-12 10:01:31"
        ],
        [
         "516473142923915264",
         "b'xe2x80x9c@TheDailyShow: The House Science, Space and Technology Committee hearing on global warming. http://t.co/7i5W0Hb39Rxe2x80x9d'",
         "2014-09-29 06:22:47"
        ],
        [
         "457212031062392833",
         "b'Hexacopter drone vid of 1st F9 rocket booster takeoff &amp; landing w flight design legs http://t.co/FhZX3afK1a'",
         "2014-04-18 17:40:17"
        ],
        [
         "477133748949884929",
         "b'Regarding Tesla patents http://t.co/gGBWoInh6C'",
         "2014-06-12 17:02:05"
        ],
        [
         "487286689300086784",
         "b'@leroytwin @Tesla_Canada A lot of Canadian Superchargers are in work and will start going live in the next month or so'",
         "2014-07-10 17:26:14"
        ],
        [
         "750354728169644032",
         "b'@apple_defense @samabuelsamid Exactly! I love Twitter.'",
         "2016-07-05 15:44:42"
        ],
        [
         "579216101793361920",
         "b'Another Easter Egg will be hidden in the Model S code in 2015. Last one took a year to find. Next one should be easier.'",
         "2015-03-21 09:40:54"
        ],
        [
         "478218232713580544",
         "b'RT @cuckoolandcom: Happy #fathersday http://t.co/sIARKS7bfU'",
         "2014-06-15 16:51:26"
        ],
        [
         "780888492452741120",
         "b'RT @SpaceX: Goal is 100 people on each trip, eventually more https://t.co/kCtBLPbSg8 https://t.co/wbXJ6AeWyl'",
         "2016-09-27 21:54:59"
        ],
        [
         "650107726509404160",
         "b'Mostly accurate and fun movie about Mars. Worth seeing. https://t.co/6ujt1DG5j5'",
         "2015-10-03 00:38:55"
        ],
        [
         "478903880793993216",
         "b'Goal is for unsubsidized solar power to cost less than grid electricity from coal or fracked gas'",
         "2014-06-17 14:15:57"
        ],
        [
         "650080098335477761",
         "b'@sasatokic @mashable Front doors have a short arc and their interior panels are chamfered back'",
         "2015-10-02 22:49:08"
        ],
        [
         "688846973361721345",
         "b'@stunt_penguin @LayOn_OverWhale Stage 1 would reach low Earth orbit if not hefting a second stage, but payload would be greatly reduced.'",
         "2016-01-17 22:14:51"
        ],
        [
         "479705782720536577",
         "b'Test flight of Falcon 9-R with deployable grid fins for better hypersonic thru subsonic control http://t.co/6ZXpvPao2u'",
         "2014-06-19 19:22:25"
        ],
        [
         "172122797852725248",
         "b'@NASA launched a rocket into the northern lights http://t.co/tR2cSeMV'",
         "2012-02-22 00:57:28"
        ],
        [
         "518227822373269504",
         "b'RT @TheOnion: Popular New Exercise App Just Tells Users They Ran 5 Miles A Day No Matter What http://t.co/hBnxbj3wpY http://t.co/5405OnRSOK'",
         "2014-10-04 02:35:15"
        ],
        [
         "690214453804163072",
         "b'RT @NASA: 2015 was the warmest year on record. Have Qs? Ask us at 1pm ET during a @Reddit Science Q&amp;A: https://t.co/0p1HXLW12U https://t.coxe2x80xa6'",
         "2016-01-21 16:48:44"
        ],
        [
         "780838839644483586",
         "b'Waiting for everyone to reach their seats and get settled. Starting in 5 to 10.'",
         "2016-09-27 18:37:41"
        ],
        [
         "586750857565220864",
         "b'Waited to say something until after we fixed some of the options pricing (too high) and colors (too many similar)'",
         "2015-04-11 04:41:20"
        ],
        [
         "169232412990115840",
         "b'Model X review by Jim Motavalli. I think he likes the car. http://t.co/aY1nx9FP'",
         "2012-02-14 01:32:06"
        ],
        [
         "688921087820705792",
         "b'@JeffBezos @SpaceX Thanks Jeff'",
         "2016-01-18 03:09:21"
        ],
        [
         "586722721322692608",
         "b'To land a rocket, Just Read the Instructions nhttp://t.co/FJAM72zNWo'",
         "2015-04-11 02:49:32"
        ],
        [
         "457235055388020736",
         "b'Falcon 9-Reusable with (now retired) Grasshopper test rig in background http://t.co/TmYrs5mm79'",
         "2014-04-18 19:11:47"
        ],
        [
         "703636763227484161",
         "b'@skiesforme @TeslaMotors That said, the white interior is the best. Highly recommend.'",
         "2016-02-27 17:44:11"
        ],
        [
         "750836652109594626",
         "b'@disinformatico @Eddy_Jahn Tesla Tesla Autopilot is named after aircraft autopilot, as it is always expected that a pilot must stay alert.'",
         "2016-07-06 23:39:42"
        ],
        [
         "298252558332485635",
         "b'I love indoor flamethrowers http://t.co/aAnFftoD'",
         "2013-02-04 02:12:06"
        ],
        [
         "703760056827912197",
         "b'@TLKFremont Great leg room for 3rd row, rear visibility better, easy storage of long cargo.'",
         "2016-02-28 01:54:07"
        ],
        [
         "166333716359168000",
         "b'The London Sunday Times created a chart showing how Falcon compares to the Saturn V and Shuttle http://t.co/nJMPtYPd'",
         "2012-02-06 01:33:43"
        ],
        [
         "586750504450916352",
         "b'Just announced new Tesla 70D all-wheel drive, 240 mile range car for ~$55k (after gas savings &amp; incentives)nhttp://t.co/tDb2tCbeT0'",
         "2015-04-11 04:39:56"
        ],
        [
         "165622701631868928",
         "b'Docking with Space Station now likely to happen in April. Hopefully will look something like this: http://t.co/A2gd9ziC'",
         "2012-02-04 02:28:24"
        ],
        [
         "585183983576551424",
         "b'RT @SpaceX: Falcon 9 and Dragon undergoing prep in FL in advance of 4/13 launch to the @Space_Station http://t.co/0KGddcVzV0 http://t.co/7Fxe2x80xa6'",
         "2015-04-06 20:55:08"
        ],
        [
         "522058704980414464",
         "b'RT @newscientist: The Pentagon has warned the US military about the dangers of climate change http://t.co/2GJFlocfLR http://t.co/XQhgP6Blgu'",
         "2014-10-14 16:17:49"
        ],
        [
         "487279300895191041",
         "b'Tesla Superchargers delivered over 1GWh last month. Long distance driving growing exponentially http://t.co/vixkd5gkKX'",
         "2014-07-10 16:56:53"
        ],
        [
         "204769845630337024",
         "b'Major Tesla milestone: All crash testing is complete for 5* (max) safety rating. Cars can now be built for sale to public!'",
         "2012-05-22 03:05:10"
        ],
        [
         "750835746613915648",
         "b'@jacobrossi All publicly known Tesla product developments are called out, incl vehicles and batteries. Would be odd *not* to include.'",
         "2016-07-06 23:36:06"
        ],
        [
         "204839936464134144",
         "b'T minus 60 seconds. Terminal autosequence initiated. #DragonLaunch'",
         "2012-05-22 07:43:41"
        ],
        [
         "204349174618128385",
         "b'Simulations show launch ok with bad valve. Still, better to stop &amp; fix. Recalling rockets after launch is not an option.'",
         "2012-05-20 23:13:34"
        ],
        [
         "750351150382194688",
         "b'@alansmurray If you care about auto deaths as material to stock prices, why no articles about 1M+/year deaths from other auto companies?'",
         "2016-07-05 15:30:29"
        ],
        [
         "203760858332016642",
         "b'Whatever happens today, we could not have done it without @NASA, but errors are ours alone and me most of all.'",
         "2012-05-19 08:15:48"
        ],
        [
         "780608204833165316",
         "b'@rocketrepreneur Meant to say 200 AR for production vac engine. Dev will be up to 150. Beyond that, too much flow separation in Earth atmos.'",
         "2016-09-27 03:21:13"
        ],
        [
         "780825799825973248",
         "b'RT @SpaceX: Presenting the SpaceX Interplanetary Transport System. Learn more at 1:30pm CT https://t.co/SwNQJ9Ht4D https://t.co/xkGpQIBCMG'",
         "2016-09-27 17:45:52"
        ],
        [
         "780909019435298817",
         "b'RT @verge: Elon Musk wants to build a transit system that lets humans tour the entire Solar System https://t.co/bHKNHvhcaW https://t.co/rPDxe2x80xa6'",
         "2016-09-27 23:16:33"
        ],
        [
         "750593838264246272",
         "b'RT @Gizmodo: Hyperloop connecting Helsinki to Stockholm would turn a 300-mile trip into a 28-minute ride https://t.co/zeruuwufKk https://t.xe2x80xa6'",
         "2016-07-06 07:34:51"
        ],
        [
         "704770247769722880",
         "b'Pushing launch to Friday due to extreme high altitude wind shear. Hits like a sledgehammer when going up supersonic https://t.co/Gr8T5upaLd'",
         "2016-03-01 20:48:15"
        ],
        [
         "656973325172920320",
         "b'@sAlmaneei already in Jordan. Rest of states in region next year.'",
         "2015-10-21 23:20:21"
        ],
        [
         "656972712649359360",
         "b'@M4XRodri planning to have a big opening in Mexico City soon and then proceed gradually to central and South America.'",
         "2015-10-21 23:17:55"
        ],
        [
         "648765057417895936",
         "b'@elonmusk California time'",
         "2015-09-29 07:43:37"
        ],
        [
         "755420049536606208",
         "b'Returning from Cape Canaveral to California...'",
         "2016-07-19 15:12:29"
        ],
        [
         "782322994332991488",
         "b'RT @BadAstronomer: Elon Musk wants to put a million people on Mars. Herexe2x80x99s the thing: He just might. https://t.co/isGYs3wD4c https://t.co/Wxe2x80xa6'",
         "2016-10-01 20:55:11"
        ],
        [
         "331486802462531584",
         "b'@bdcs Yup, it is super far. Moon is basically in our back yard relative to Mars.'",
         "2013-05-06 19:13:07"
        ],
        [
         "782043081021399040",
         "b'@bearsper Will do a Reddit AMA on Mars in the next week or two'",
         "2016-10-01 02:22:54"
        ],
        [
         "753681461576740864",
         "b'EU regulators find no safety concerns with Autopilotnhttps://t.co/zOykm4XeHP'",
         "2016-07-14 20:03:57"
        ],
        [
         "654698139249565697",
         "b'@aaronpaul_8 sure :)'",
         "2015-10-15 16:39:34"
        ],
        [
         "754908615757234176",
         "b'Falcon on LZ-1 at Cape Canaveral https://t.co/dBkjBCDIRs'",
         "2016-07-18 05:20:14"
        ],
        [
         "205502360112476161",
         "b'The President just called to say congrats. Caller ID was blocked, so at first I thought it was a telemarketer :)'",
         "2012-05-24 03:35:55"
        ],
        [
         "753699861636128768",
         "b'Onboard vehicle logs show Autopilot was turned off in Pennsylvania crash. Moreover, crash would not have occurred if it was on.'",
         "2016-07-14 21:17:04"
        ],
        [
         "655254071058657280",
         "b'@aaronpaul_8 um, thanks, I like your work too'",
         "2015-10-17 05:28:39"
        ],
        [
         "655256305209184258",
         "b'@Meddd__ @aaronpaul_8 Watched the whole series. One of the best tv shows ever.'",
         "2015-10-17 05:37:31"
        ],
        [
         "204911319260987392",
         "b'Launch video of Falcon 9 from Cape Canaveral tracking cameras http://t.co/Qn8ne3pa #dragonlaunch'",
         "2012-05-22 12:27:20"
        ],
        [
         "646814219178897408",
         "b'@deadmau5 It was super good'",
         "2015-09-23 22:31:41"
        ],
        [
         "716356220156686336",
         "b'@Model3Owners They will. We spent a lot of time on those.'",
         "2016-04-02 20:06:46"
        ],
        [
         "204882126884188160",
         "b'Dragon spaceship opens the navigation pod bay door without hesitation. So much nicer than HAL9000 :) #DragonLaunch'",
         "2012-05-22 10:31:20"
        ],
        [
         "688175650570547202",
         "b'Maybe some debris ingestion. Engine data looks ok. Will borescope tonight. This is one of the outer engines.'",
         "2016-01-16 01:47:15"
        ],
        [
         "716693951260938241",
         "b'276k Model 3 orders by end of Sat'",
         "2016-04-03 18:28:48"
        ],
        [
         "753785936257835008",
         "b'Working on using existing Tesla radar by itself (decoupled from camera) w temporal smoothing to create a coarse point cloud, like lidar'",
         "2016-07-15 02:59:06"
        ],
        [
         "648764066823954432",
         "b'Model X launch webcast live today 8pm at http://t.co/R1Z6eMTUbo. Time to show the real thing. http://t.co/oXMrucs8wJ'",
         "2015-09-29 07:39:41"
        ],
        [
         "753710366006267904",
         "b'@scojjac exactly'",
         "2016-07-14 21:58:49"
        ],
        [
         "204883910654570496",
         "b'Navigation bay pointing to deep space and star map being generated by star tracker one. Yes! #DragonLaunch'",
         "2012-05-22 10:38:25"
        ],
        [
         "652609347252412416",
         "b'@YoApp yo'",
         "2015-10-09 22:19:27"
        ],
        [
         "272518429368541184",
         "b'Short vid of the recent @SpaceX mission to the Intl Space Station http://t.co/Qc963d8B'",
         "2012-11-25 01:53:51"
        ],
        [
         "657110887707361280",
         "b'@backseatdiver Hoping for Friday release'",
         "2015-10-22 08:26:58"
        ],
        [
         "796110339498721280",
         "b'RT @TeslaMotors: Model X wins the Golden Steering Wheel xf0x9fx91x8d https://t.co/af9Ze6Nhh5'",
         "2016-11-08 22:01:10"
        ],
        [
         "716346279391944704",
         "b'@squallcraft and a few other things'",
         "2016-04-02 19:27:16"
        ],
        [
         "656973144306094080",
         "b'@bonnienorman thanks Bonnie :)'",
         "2015-10-21 23:19:38"
        ],
        [
         "715766837590499328",
         "b'@redletterdave Hardware in all cars. Autopilot safety features standard. Convenience features optional (like S and X).'",
         "2016-04-01 05:04:47"
        ],
        [
         "754968472929574912",
         "b'Bit of a distraction yesterday. Working on plan today.'",
         "2016-07-18 09:18:05"
        ],
        [
         "715952781895426048",
         "b'Thought it would slow way down today, but Model 3 order count is now at 198k. Recommend ordering soon, as the wait time is growing rapidly.'",
         "2016-04-01 17:23:39"
        ],
        [
         "205314559542693888",
         "b'Dragon fly by of Space Station planned for 12:47 am California time. All systems green. #dragonlaunch'",
         "2012-05-23 15:09:40"
        ],
        [
         "755140683112017920",
         "b'Landing https://t.co/dRWGyyTtCH'",
         "2016-07-18 20:42:23"
        ],
        [
         "656973991379378176",
         "b'What esthetic and functionality improvements would you like to see in the 7.1 UI overhaul? Or new features entirely?'",
         "2015-10-21 23:23:00"
        ],
        [
         "316588335885856768",
         "b'Telemetry says main parachutes deployed ... now visually confirmed'",
         "2013-03-26 16:31:55"
        ],
        [
         "272063241780338688",
         "b'My talk for the Royal Aeronautical Society is now online. This gets a little more technical. http://t.co/ZMbkc3jh'",
         "2012-11-23 19:45:06"
        ],
        [
         "317665357819154432",
         "b'Rocket fairing almost ready for deployment test in vacuum chamber. Man lift on right for scale http://t.co/BLOTThWFvw'",
         "2013-03-29 15:51:38"
        ],
        [
         "753789713807355904",
         "b'@ihavetweets effective stereo by comparing data at various points in time while moving'",
         "2016-07-15 03:14:07"
        ],
        [
         "754907067060715521",
         "b'RT @SpaceX: Dragon on its way to @Space_Station, Falcon on its way home https://t.co/EpfUKBmoWi'",
         "2016-07-18 05:14:04"
        ],
        [
         "716347450148040704",
         "b'@vicentes Roadster, S and X customers are the ones who got us here and are paying for 3. They deserve a lot of credit.'",
         "2016-04-02 19:31:55"
        ],
        [
         "716347036786757632",
         "b'@Aakashhh_ we will send something to everyone who ordered, but an extra gift for those who stood in some crazy long lines'",
         "2016-04-02 19:30:17"
        ],
        [
         "402803732632453121",
         "b'Mission of Tesla  http://t.co/UchbT5NZE3'",
         "2013-11-19 14:21:08"
        ],
        [
         "399347799403151360",
         "b'Model S owner blogs about TN accident http://t.co/93Fz8WEwOU'",
         "2013-11-10 01:28:29"
        ],
        [
         "782043711886594052",
         "b'@jclishman @bearsper @rSpaceX yes'",
         "2016-10-01 02:25:25"
        ],
        [
         "718532568312713216",
         "b'RT @SpaceX: Propellant load underway for Falcon 9. Launch webcast will go live in about 10 minutes https://t.co/tdni53IviI'",
         "2016-04-08 20:14:48"
        ],
        [
         "654727508345012224",
         "b'RT @TechCrunch: Watch this self-steering Tesla Model S drive itself http://t.co/OZDobXUE7D http://t.co/i1RHu3SvqH'",
         "2015-10-15 18:36:16"
        ],
        [
         "755137454655541248",
         "b'@PaulPrijs @alexfrance free Babel fish provided'",
         "2016-07-18 20:29:33"
        ],
        [
         "647646421844402176",
         "b'RT @TIME: China shows its commitment on climate change http://t.co/jTQjGeDbtd'",
         "2015-09-26 05:38:34"
        ],
        [
         "718546544966955008",
         "b'RT @SpaceX: 1st stage has landed on Of Course I Still Love You https://t.co/tdni53IviI'",
         "2016-04-08 21:10:20"
        ],
        [
         "715776577485807621",
         "b'@IndiaToday Will include India-wide Supercharger network'",
         "2016-04-01 05:43:29"
        ],
        [
         "718580558180261888",
         "b'@POTUS Thanks on behalf of an amazing team at SpaceX!'",
         "2016-04-08 23:25:30"
        ],
        [
         "647209943515332608",
         "b'Dinner in an old Belgian ironmongery. Best menu art ever. http://t.co/3qUG1O6Q2v'",
         "2015-09-25 00:44:09"
        ],
        [
         "316446454963122176",
         "b'Future will indeed be rooftop solar + battery pack, w utility company just providing backup power nhttp://t.co/1PlB3xn0Cz'",
         "2013-03-26 07:08:08"
        ],
        [
         "655426038621536256",
         "b'RT @MrTeller: I like my car.  When Tesla asked me to review the experience, I did. No ad. Unpaid, just because I wanted to.  .http://t.co/xxe2x80xa6'",
         "2015-10-17 16:51:59"
        ],
        [
         "796788573160648704",
         "b'RT @TeslaMotors: Survey shows Tesla owners in Germany understand the meaning and function of Autopilot https://t.co/gvEX0h7mxq'",
         "2016-11-10 18:56:14"
        ],
        [
         "716345597712670720",
         "b'Token of appreciation for those who lined up coming via mail. Thought maybe 20-30 people per store would line up, not 800. Gifts on order.'",
         "2016-04-02 19:24:34"
        ],
        [
         "715934657720639488",
         "b'Model 3 orders at 180,000 in 24 hours. Selling price w avg option mix prob $42k, so ~$7.5B in a day. Future of electric cars looking bright!'",
         "2016-04-01 16:11:38"
        ],
        [
         "316588058021609472",
         "b'Recovery ship just heard the sonic booms from Dragon reentry and has data transmission lock.'",
         "2013-03-26 16:30:49"
        ],
        [
         "657141296050606080",
         "b'@JarkkoKuoppala all'",
         "2015-10-22 10:27:48"
        ],
        [
         "330884627927560192",
         "b'@DetlefKroeze Yeah, that probably makes sense.'",
         "2013-05-05 03:20:17"
        ],
        [
         "718548224441774082",
         "b'@NASA @sgvcrime @SpaceX @Space_Station Thanks for your support! Looking forward to delivering the goods for you.'",
         "2016-04-08 21:17:01"
        ],
        [
         "753786447904198657",
         "b'@att1cus86 @DMC_Ryan AP process crash would show up in logs'",
         "2016-07-15 03:01:08"
        ],
        [
         "316585896814194688",
         "b'Dragon deorbit burn was good. All thrusters operating. On target for splashdown.'",
         "2013-03-26 16:22:14"
        ],
        [
         "795379725904416768",
         "b'Playing Amish Paradise in my Tesla'",
         "2016-11-06 21:37:58"
        ],
        [
         "715774390802194432",
         "b'@StartUpRabbi Coming in the mail'",
         "2016-04-01 05:34:47"
        ],
        [
         "753786870379581442",
         "b'@DanistopMe only just gained access to physical vehicle'",
         "2016-07-15 03:02:49"
        ],
        [
         "715774770013409281",
         "b'@Oatmeal sure!'",
         "2016-04-01 05:36:18"
        ],
        [
         "716356456593756160",
         "b'@grebakshay We are working on an exact date, but Tesla will be in India before 3 production starts.'",
         "2016-04-02 20:07:43"
        ],
        [
         "782640044599152640",
         "b'Some of the future episodes of Westworld feature my ex. Talulah does a great job of playing a deadly sexbot :)'",
         "2016-10-02 17:55:02"
        ],
        [
         "654521829789270016",
         "b'@elimelechweiss actually works best at night'",
         "2015-10-15 04:58:59"
        ],
        [
         "272129332565123072",
         "b'@cthorm SS Heart of Gold powered by the Infinite Improbability Drive!'",
         "2012-11-24 00:07:43"
        ],
        [
         "317145726759104512",
         "b'RT @TeslaMotors: Chick Magnet. http://t.co/oJAnnsSQEL'",
         "2013-03-28 05:26:48"
        ],
        [
         "715955186175459332",
         "b'Definitely going to need to rethink production planning...'",
         "2016-04-01 17:33:12"
        ],
        [
         "718598761832968192",
         "b'@levie Tickets to orbital hotels, the moon and Mars will be a lot less than people think.'",
         "2016-04-09 00:37:50"
        ],
        [
         "718522065322532865",
         "b'@arstechnica Reasons for ocean landing are technical, not economic. Orbit requires extreme horizontal velocity. Getting to space needs none.'",
         "2016-04-08 19:33:04"
        ],
        [
         "718571641949650944",
         "b'@Jon_Favreau @SpaceX Thanks!'",
         "2016-04-08 22:50:04"
        ],
        [
         "755167487017291776",
         "b'Really tempting to redesign upper stage for return too (Falcon Heavy has enough power), but prob best to stay focused on the Mars rocket'",
         "2016-07-18 22:28:53"
        ],
        [
         "782410047011819520",
         "b'More Kerbal! https://t.co/IDeV1wAfVR'",
         "2016-10-02 02:41:06"
        ],
        [
         "716510703000100865",
         "b'Model 3 design sketches https://t.co/P5ucOBRUZ7'",
         "2016-04-03 06:20:38"
        ],
        [
         "781323339604176896",
         "b'RT @waitbutwhy: The full story with the mindblowing rocket @elonmusk &amp; @SpaceX just announced and why you might end up on it one day https:xe2x80xa6'",
         "2016-09-29 02:42:55"
        ],
        [
         "647333128655237120",
         "b'RT @SpaceX: This week we static fired the first stage of the upgraded Falcon 9 for a planned 15 seconds https://t.co/fxp7HnUvCu'",
         "2015-09-25 08:53:39"
        ],
        [
         "718598132888702976",
         "b'Just wanted to write a note of appreciation for all those who have supported Tesla, SpaceX &amp; SolarCity over the years. Thank you.'",
         "2016-04-09 00:35:20"
        ],
        [
         "753791633204781058",
         "b'@erik_smith1 @ihavetweets certainly moderate and maybe big advances w no incremental hardware'",
         "2016-07-15 03:21:44"
        ],
        [
         "686976300158853120",
         "b'Next launch is a @NASA science mission from VAFB California on Sunday. https://t.co/vJdkJkZzg1'",
         "2016-01-12 18:21:28"
        ],
        [
         "655041756166160384",
         "b'RT @EcoWatch: Colbert: I Woke Up Yesterday Morning and My #Tesla Could Drive Itselfnhttp://t.co/cVkPuu4O16 @elonmusk @teslamotors http://t.xe2x80xa6'",
         "2015-10-16 15:24:59"
        ],
        [
         "657106581893574656",
         "b'@elonmusk Good feedback. Will write up a list of software priorities in the coming weeks.'",
         "2015-10-22 08:09:52"
        ],
        [
         "400776254082666496",
         "b'SuperDraco rocket engine fired at full thrust w a printed Inconel chamber. Used for Dragon escape &amp; landing http://t.co/HjWEayLlBN'",
         "2013-11-14 00:04:39"
        ],
        [
         "718607811958214656",
         "b'RT @SpaceX: Onboard view of landing in high winds https://t.co/FedRzjYYyQ'",
         "2016-04-09 01:13:48"
        ],
        [
         "688173528017850368",
         "b'Conducted hold-down firing of returned Falcon rocket. Data looks good overall, but engine 9 showed thrust fluctuations.'",
         "2016-01-16 01:38:49"
        ],
        [
         "654521665305473024",
         "b'Review of Model S by @MrTeller http://t.co/eF7ICE9ef4'",
         "2015-10-15 04:58:20"
        ],
        [
         "654409700801310720",
         "b'RT @WIRED: Breaking: Tesla just made its cars autonomous, kinda http://t.co/1jxVX9k7rO'",
         "2015-10-14 21:33:25"
        ],
        [
         "317659286660595712",
         "b'A123 battery company renames itself B456 after bankruptcy (really).'",
         "2013-03-29 15:27:30"
        ],
        [
         "782643630586535936",
         "b'Wow, this tweet is like a Rorschach test'",
         "2016-10-02 18:09:17"
        ],
        [
         "782639314425421824",
         "b'RT @WestworldHBO: Live without limits. n#Westworld premieres tonight at 9PM on @HBO.nhttps://t.co/JiVuKbXwes https://t.co/ZvkY2kG5qD'",
         "2016-10-02 17:52:07"
        ],
        [
         "205544630199132160",
         "b'About 110 miles away and the spacecraft is now in direct communication with the Space Station #Dragon'",
         "2012-05-24 06:23:53"
        ],
        [
         "316595382622765056",
         "b'Recovery ship has secured Dragon. Powering down all secondary systems. Cargo looks A ok.'",
         "2013-03-26 16:59:55"
        ],
        [
         "716696932073152512",
         "b'@mindthreat @RyanHummer Yes, if the trend continues, before'",
         "2016-04-03 18:40:38"
        ],
        [
         "715765978328612870",
         "b'@drew Just order the SpaceX option package!'",
         "2016-04-01 05:01:22"
        ],
        [
         "754931091891453952",
         "b'Out on LZ-1. We just completed the post-landing inspection and all systems look good. Ready to fly again. https://t.co/1OfA8h7Vrf'",
         "2016-07-18 06:49:32"
        ],
        [
         "753788944714649600",
         "b'@SimplyDonya elevation too'",
         "2016-07-15 03:11:03"
        ],
        [
         "647939356548730882",
         "b'Great discussion about solar/batteries empowering rural communities https://t.co/Qte2s55gnP'",
         "2015-09-27 01:02:35"
        ],
        [
         "796508246055927808",
         "b'RT @ggreenwald: Trump Picks Top Climate Skeptic to Lead EPA Transition https://t.co/fTiN4KuKJq'",
         "2016-11-10 00:22:18"
        ],
        [
         "648530748513783808",
         "b'RT @NASA: Water! Strong evidence that liquid water flows on present-day Mars. Details: http://t.co/0MW11SANwL #MarsAnnouncement http://t.coxe2x80xa6'",
         "2015-09-28 16:12:34"
        ],
        [
         "795565958592987136",
         "b'@InLucidReverie a bit like that, but hopefully a more meaningful role for humans'",
         "2016-11-07 09:58:00"
        ],
        [
         "331082832187363329",
         "b'@nirdthebird Definitely a lot of potential for geothermal, but depends on well depth. Too expensive in most places.'",
         "2013-05-05 16:27:53"
        ],
        [
         "716731407310196736",
         "b'@CmaxVs Only way to get enough rear passenger headroom was to move the rear roof cross-car support beam. A bike will still fit no problem.'",
         "2016-04-03 20:57:38"
        ],
        [
         "678732298532085761",
         "b'Launch &amp; landing can be seen on the https://t.co/bDd3GxQXMC webcast or in person from Cape Canaveral public causeway at 8:33pm local tmrw'",
         "2015-12-21 00:22:44"
        ],
        [
         "716745282394976257",
         "b'Model 3 will be RWD, with dual motor AWD optional. Even RWD will have great traction on ice due to fast torque response of Tesla drivetrain.'",
         "2016-04-03 21:52:46"
        ],
        [
         "824113827679641600",
         "b'Sigh'",
         "2017-01-25 04:37:02"
        ],
        [
         "824056075217420291",
         "b'@Michael_McLean That may be a difficult award to decline'",
         "2017-01-25 00:47:33"
        ],
        [
         "780289045238657024",
         "b'Chamber pressure is almost 3X Merlin, so engine is about the same size for a given area ratio'",
         "2016-09-26 06:13:00"
        ],
        [
         "716743848580497409",
         "b'@Zooropa88 @TeslaMotors Superchargers and service centers will cover all of Italy later this year'",
         "2016-04-03 21:47:04"
        ],
        [
         "715679848828575744",
         "b'@lukealization yes, will cover whole country'",
         "2016-03-31 23:19:07"
        ],
        [
         "794200368804544512",
         "b'Only a matter of time before advanced AI is used to do this. Internet is particularly susceptible to a gradient desxe2x80xa6 https://t.co/JCgtjr1Nab'",
         "2016-11-03 15:31:38"
        ],
        [
         "794219484621832192",
         "b'@brainwipe There would def be millions of agents simultaneously doing a Monte Carlo sim &amp; combining the results to build a map of weaknesses'",
         "2016-11-03 16:47:35"
        ],
        [
         "697679434996850688",
         "b'@garethseneque global'",
         "2016-02-11 07:11:54"
        ],
        [
         "697341715712086016",
         "b'Should mention that Tesla Motors itself had nothing to do with the short movie. This was completely independent.'",
         "2016-02-10 08:49:55"
        ],
        [
         "679163784062107649",
         "b'High res video of landing from the helo https://t.co/G0Yq2V5J3m'",
         "2015-12-22 04:57:19"
        ],
        [
         "755784816847495168",
         "b'Not easy to convey irony in a tweet'",
         "2016-07-20 15:21:56"
        ],
        [
         "824148084632551425",
         "b'RT @Gizmodo: Why it matters that human poker pros are getting trounced by an AI https://t.co/LEzbofY8IV https://t.co/4dhLqrf9hB'",
         "2017-01-25 06:53:09"
        ],
        [
         "755830992812711937",
         "b'@vitiral yup'",
         "2016-07-20 18:25:26"
        ],
        [
         "755841606960373760",
         "b'Post should go live on Tesla website around 5pm'",
         "2016-07-20 19:07:36"
        ],
        [
         "824125950107545600",
         "b'@Nivo0o0 Was wondering what those were'",
         "2017-01-25 05:25:12"
        ],
        [
         "715764167563677697",
         "b'RT @TeslaMotors: Meet Model 3 xe2x80x93 Make your reservation at https://t.co/8uVlhvzpu5 #Model3nhttps://t.co/NdyGLgoW0D'",
         "2016-04-01 04:54:10"
        ],
        [
         "715677488228098048",
         "b'@KentNStephens sure is'",
         "2016-03-31 23:09:44"
        ],
        [
         "716743909750218752",
         "b'@GolfsHard yes'",
         "2016-04-03 21:47:19"
        ],
        [
         "716743321624903680",
         "b'@_Only_Hawk @MICHAELSD01 @TechGrlTweeter definitely'",
         "2016-04-03 21:44:58"
        ],
        [
         "697678962588188672",
         "b'Model 3 reservations ($1000 down) will be accepted in Tesla stores on March 31 and online April 1'",
         "2016-02-11 07:10:01"
        ],
        [
         "730595677936324608",
         "b'Ok https://t.co/jJJR28UGrK'",
         "2016-05-12 03:09:18"
        ],
        [
         "719571133389938688",
         "b'Activate autopilot 4X in quick succession for psychedelic cowbell road. And, yes, we are adding more cowbell soon.'",
         "2016-04-11 17:01:41"
        ],
        [
         "679145544673923072",
         "b'Live video from LZ-1 https://t.co/Ve6gEXfOdh'",
         "2015-12-22 03:44:50"
        ],
        [
         "776896014905061376",
         "b'@asunshinegreene yes'",
         "2016-09-16 21:30:18"
        ],
        [
         "656971866163277825",
         "b'@thebradholt big UI update coming in V7.1'",
         "2015-10-21 23:14:33"
        ],
        [
         "780291118080462848",
         "b'@rocketrepreneur 382s is with a 150 area ratio vacuum (or Mars ambient pressure) nozzle. Will go over specs for both versions on Tues.'",
         "2016-09-26 06:21:14"
        ],
        [
         "695666033676328960",
         "b'My job moonlighting as a police officer in Brazil is no longer secretnhttps://t.co/QBTQYMpAF9'",
         "2016-02-05 17:51:21"
        ],
        [
         "776956202936782850",
         "b'@kzmakino sounds about right'",
         "2016-09-17 01:29:28"
        ],
        [
         "776939304140414976",
         "b'Turns out MCT can go well beyond Mars, so will need a new namexe2x80xa6'",
         "2016-09-17 00:22:19"
        ],
        [
         "720504138451283968",
         "b'Great video history of Falcon 9 by Kinematic https://t.co/EeGPVW7kq2'",
         "2016-04-14 06:49:07"
        ],
        [
         "755859976816427010",
         "b'@elonmusk now 2Pac'",
         "2016-07-20 20:20:36"
        ],
        [
         "719584703196504064",
         "b'@lonelysandwich needs latest update'",
         "2016-04-11 17:55:37"
        ],
        [
         "679142215981993984",
         "b'Falcon 9 standing on LZ-1 at Cape Canaveral https://t.co/RZdfcH0exW'",
         "2015-12-22 03:31:36"
        ],
        [
         "656972435401678848",
         "b'@octomagon me too:'",
         "2015-10-21 23:16:49"
        ],
        [
         "728808794910662656",
         "b'@tzepr Certainly agree that it is first and foremost a triumph for humanity. The cheering is in good spirit.'",
         "2016-05-07 04:48:51"
        ],
        [
         "715723459888685056",
         "b'RT @TeslaMotors: Longest line EVER #Model3nhttps://t.co/EafMhK3BDC'",
         "2016-04-01 02:12:24"
        ],
        [
         "718686042434342912",
         "b'@rjcc yes'",
         "2016-04-09 06:24:39"
        ],
        [
         "730139225006309376",
         "b'RT @Gizmodo: Climate change is real and this visualization proves it https://t.co/vrDeTLNLtS https://t.co/sUqeMx0HOR'",
         "2016-05-10 20:55:31"
        ],
        [
         "776957948928991232",
         "b'I love the suggestions!'",
         "2016-09-17 01:36:24"
        ],
        [
         "679153539025797121",
         "b'RT @SpaceX: Another view of Falcon 9 first stage approaching Landing Zone 1 https://t.co/i5oNfSYmrc'",
         "2015-12-22 04:16:36"
        ],
        [
         "780280440401764353",
         "b'Production Raptor goal is specific impulse of 382 seconds and thrust of 3 MN (~310 metric tons) at 300 bar'",
         "2016-09-26 05:38:48"
        ],
        [
         "679127406813188097",
         "b'11 satellites deployed to target orbit and Falcon has landed back at Cape Canaveral. Headed to LZ-1. Welcome back, baby!'",
         "2015-12-22 02:32:46"
        ],
        [
         "627042246471364608",
         "b'@tallakt Various forms of shades are being considered. May not be necessary though.'",
         "2015-07-31 09:04:56"
        ],
        [
         "697674277131153408",
         "b'@ErikRoesegg good point'",
         "2016-02-11 06:51:24"
        ],
        [
         "656970996801474560",
         "b'Tesla gets top rating of any company in service. Most important, CR says 97% of owners expect their next car to be a Tesla (the acid test).'",
         "2015-10-21 23:11:06"
        ],
        [
         "679138271084064768",
         "b'@morganpage thanks!'",
         "2015-12-22 03:15:56"
        ],
        [
         "718982116667600896",
         "b'@thelonelyisland Well, I thought TLI might be upset about using their material without permission. Apparently not :)'",
         "2016-04-10 02:01:09"
        ],
        [
         "716729841362407424",
         "b'@gerardomarina Some tweaking underway'",
         "2016-04-03 20:51:25"
        ],
        [
         "679110356224991232",
         "b'Background on the launch https://t.co/1SkttU684X'",
         "2015-12-22 01:25:00"
        ],
        [
         "779459518560215041",
         "b'RT @Hyperloop: One more week to apply to our second student Hyperloop competition https://t.co/ZQHjHtkuAj https://t.co/iKI7GXut8K'",
         "2016-09-23 23:16:45"
        ],
        [
         "755841679454720000",
         "b'California time'",
         "2016-07-20 19:07:53"
        ],
        [
         "716730009394647040",
         "b'@B_Rans yes. Will easily fit two child seats. Three if you buy slim seats.'",
         "2016-04-03 20:52:05"
        ],
        [
         "794201703922810880",
         "b'@ClintonKeith good chance'",
         "2016-11-03 15:36:56"
        ],
        [
         "780423473961115649",
         "b'@huntster1701 yes'",
         "2016-09-26 15:07:10"
        ],
        [
         "730624508814458880",
         "b'Definitelynhttps://t.co/7gEkc0mt9O'",
         "2016-05-12 05:03:51"
        ],
        [
         "793710619933315072",
         "b'@ropiko yes'",
         "2016-11-02 07:05:32"
        ],
        [
         "729850448832659457",
         "b'@vicentes @TeslaMotors @Tim_Stevens @CNET coming soon'",
         "2016-05-10 01:48:01"
        ],
        [
         "716729420078133248",
         "b'@HBL_Cosmin Wait until you see the real steering controls and system for the 3. It feels like a spaceship.'",
         "2016-04-03 20:49:44"
        ],
        [
         "697679828468641792",
         "b'No signature series for Model 3. Same reservation amount for all.'",
         "2016-02-11 07:13:28"
        ],
        [
         "729803850035564545",
         "b'RT @TeslaMotors: Model X is the most amazing SUV on the road @Tim_Stevens @CNET https://t.co/siEnzHlFgw https://t.co/4Aj5S7nSpv'",
         "2016-05-09 22:42:51"
        ],
        [
         "697331144417619968",
         "b'Love this Tesla video made by https://t.co/bwKne0mZUh'",
         "2016-02-10 08:07:55"
        ],
        [
         "715656818756726784",
         "b'@roddrury X and S will also be available'",
         "2016-03-31 21:47:36"
        ],
        [
         "730149561855959041",
         "b'RT @TeslaMotors: Every day is Earth Day for Tesla owners https://t.co/F33yw2SL1f #EarthDay https://t.co/USTrEjRHVV'",
         "2016-05-10 21:36:35"
        ],
        [
         "719780850338955265",
         "b'RT @SpaceX: Falcon 9 rocket back at port https://t.co/ysO9Q4vBXx https://t.co/1XKazWK3Xp'",
         "2016-04-12 06:55:02"
        ],
        [
         "679371165043945473",
         "b'RT @SpaceX: Going up and coming down. More pics here -&gt; https://t.co/K47HQ6Y6rR https://t.co/BBHHjPSFD0'",
         "2015-12-22 18:41:22"
        ],
        [
         "718682216876802048",
         "b'RT @SpaceX: 4K footage from chase plane https://t.co/ZtdZHadUos'",
         "2016-04-09 06:09:27"
        ],
        [
         "780296017254023170",
         "b'@williamwinters @rocketrepreneur pretty close'",
         "2016-09-26 06:40:42"
        ],
        [
         "679137936416329728",
         "b'There and back again https://t.co/Ll7wg2hL1G'",
         "2015-12-22 03:14:36"
        ],
        [
         "780278836860628992",
         "b'Mach diamonds https://t.co/TCX7ZGFnN0'",
         "2016-09-26 05:32:26"
        ],
        [
         "656972046639984644",
         "b'@jonthomason yay! Always happy to make others happy'",
         "2015-10-21 23:15:16"
        ],
        [
         "716742777468555264",
         "b'@Alandbru @TeslaMotors should be addressed this year'",
         "2016-04-03 21:42:49"
        ],
        [
         "755825075245297664",
         "b'@AnnaDotBlue busted'",
         "2016-07-20 18:01:55"
        ],
        [
         "776959933120000000",
         "b'@TheMikeBartley yeah!'",
         "2016-09-17 01:44:17"
        ],
        [
         "715677526459199488",
         "b'@preastro yes'",
         "2016-03-31 23:09:53"
        ],
        [
         "780275236922994688",
         "b'SpaceX propulsion just achieved first firing of the Raptor interplanetary transport engine https://t.co/vRleyJvBkx'",
         "2016-09-26 05:18:07"
        ],
        [
         "678679083782377472",
         "b'Just reviewed mission params w SpaceX team. Monte Carlo runs show tmrw night has a 10% higher chance of a good landing. Punting 24 hrs.'",
         "2015-12-20 20:51:17"
        ],
        [
         "793709350950871040",
         "b'RT @TeslaMotors: Additional information on a combined Tesla &amp; SolarCity https://t.co/dSxGtDI6Lp'",
         "2016-11-02 07:00:30"
        ],
        [
         "755808603706011648",
         "b'Except for the tweet about large amounts of crack (actually just small amounts)'",
         "2016-07-20 16:56:28"
        ],
        [
         "792220862648766466",
         "b'@vicentes yes'",
         "2016-10-29 04:25:47"
        ],
        [
         "780296159315173376",
         "b'@DavidKYoon yes'",
         "2016-09-26 06:41:16"
        ],
        [
         "696847681654685696",
         "b'RT @TeslaMotors: Why Summon enhances your safety and convenience https://t.co/ZQZ5kQdSgD https://t.co/7tBoBQ1uBL'",
         "2016-02-09 00:06:48"
        ],
        [
         "779461663141474308",
         "b'Good Forbes article on Tesla/SolarCity merger https://t.co/guNh5q2zrl'",
         "2016-09-23 23:25:16"
        ],
        [
         "755929747763245061",
         "b'Tesla Master Plan, Part Deuxnhttps://t.co/XQeTlsoEdE'",
         "2016-07-21 00:57:51"
        ],
        [
         "679137515543097345",
         "b'@Jon_Favreau Thanks Jon!'",
         "2015-12-22 03:12:56"
        ],
        [
         "682717803166695425",
         "b'Falcon 9 back in the hangar at Cape Canaveral. No damage found, ready to fire again. https://t.co/7w6IfJGtXM'",
         "2016-01-01 00:19:43"
        ],
        [
         "728754091644440576",
         "b'@LifeOfRockstar I think so'",
         "2016-05-07 01:11:29"
        ],
        [
         "718905750374916096",
         "b'RT @SpaceX: More launch and landing photos here https://t.co/vn4S8bV3x3 https://t.co/PvlU50ZJvh'",
         "2016-04-09 20:57:42"
        ],
        [
         "718865990373625857",
         "b'@TheHackersNews @SpaceX Thanks'",
         "2016-04-09 18:19:42"
        ]
       ],
       "datasetInfos": [],
       "dbfsResultPath": null,
       "isJsonSchema": true,
       "metadata": {},
       "overflow": false,
       "plotOptions": {
        "customPlotOptions": {},
        "displayType": "table",
        "pivotAggregation": null,
        "pivotColumns": null,
        "xColumns": null,
        "yColumns": null
       },
       "removedWidgets": [],
       "schema": [
        {
         "metadata": "{}",
         "name": "id",
         "type": "\"string\""
        },
        {
         "metadata": "{}",
         "name": "text",
         "type": "\"string\""
        },
        {
         "metadata": "{}",
         "name": "created_at",
         "type": "\"string\""
        }
       ],
       "type": "table"
      }
     },
     "output_type": "display_data"
    }
   ],
   "source": [
    "display(tweets_df)"
   ]
  },
  {
   "cell_type": "code",
   "execution_count": 0,
   "metadata": {
    "application/vnd.databricks.v1+cell": {
     "cellMetadata": {
      "byteLimit": 2048000,
      "rowLimit": 10000
     },
     "inputWidgets": {},
     "nuid": "516d1d88-5792-42ed-b615-640fb3758706",
     "showTitle": false,
     "title": ""
    }
   },
   "outputs": [
    {
     "output_type": "stream",
     "name": "stdout",
     "output_type": "stream",
     "text": [
      "Successfully write data into target SQL database\n"
     ]
    }
   ],
   "source": [
    "try:\n",
    "    (\n",
    "        tweets_df.coalesce(1)\n",
    "        .write.format(\"jdbc\")\n",
    "        .option(\"url\", SQL_DB_URL)\n",
    "        .option(\"dbtable\", \"dbo.tweets\")\n",
    "        .option(\"user\", SQL_DB_USERNAME)\n",
    "        .option(\"password\", SQL_DB_PASSWORD)\n",
    "        .mode(\"append\")\n",
    "        .save()\n",
    "    )\n",
    "\n",
    "    print(\"Successfully write data into target SQL database\")\n",
    "except Exception as error:\n",
    "    print(\"An exception occurred:\", error)"
   ]
  }
 ],
 "metadata": {
  "application/vnd.databricks.v1+notebook": {
   "dashboards": [],
   "environmentMetadata": null,
   "language": "python",
   "notebookMetadata": {
    "mostRecentlyExecutedCommandWithImplicitDF": {
     "commandId": 3899531673008867,
     "dataframes": [
      "_sqldf"
     ]
    },
    "pythonIndentUnit": 4
   },
   "notebookName": "Event Ingestion",
   "widgets": {}
  }
 },
 "nbformat": 4,
 "nbformat_minor": 0
}
